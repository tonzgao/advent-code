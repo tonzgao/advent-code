{
 "cells": [
  {
   "cell_type": "code",
   "execution_count": 79,
   "metadata": {},
   "outputs": [],
   "source": [
    "# Imports\n",
    "from collections import defaultdict, Counter, deque\n",
    "from functools import lru_cache, reduce\n",
    "import itertools\n",
    "import json\n",
    "import numpy as np\n",
    "import numpy.typing as npt\n",
    "import re\n",
    "from sortedcontainers import SortedList\n",
    "from typing import Callable, TypeVar, Union, Optional\n",
    "\n",
    "\n",
    "T = TypeVar('T')\n",
    "\n",
    "# Helper functions\n",
    "\n",
    "def data(day: int, parser: Callable[[str], T] = str) -> list[T]:\n",
    "  with open(f\"./data/day{day}.txt\") as f:\n",
    "    return [parser(line.strip()) for line in f.readlines()]\n",
    "\n",
    "def split_csv_row(row: str) -> list[int]:\n",
    "  return [int(x) for x in row.split(',')]\n",
    "\n",
    "def split_int_row(row: str) -> list[int]:\n",
    "  return [int(x) for x in row]"
   ]
  },
  {
   "cell_type": "markdown",
   "metadata": {},
   "source": [
    "# Day 1"
   ]
  },
  {
   "cell_type": "code",
   "execution_count": 19,
   "metadata": {},
   "outputs": [],
   "source": [
    "def parse_day1(data):\n",
    "  elves = SortedList()\n",
    "  current = 0\n",
    "  for food in data:\n",
    "    if not food:\n",
    "      elves.add(current)\n",
    "      current = 0\n",
    "    else:\n",
    "      current += int(food)\n",
    "  return elves\n",
    "\n",
    "data1 = parse_day1(data(1))"
   ]
  },
  {
   "cell_type": "code",
   "execution_count": 21,
   "metadata": {},
   "outputs": [
    {
     "data": {
      "text/plain": [
       "71780"
      ]
     },
     "execution_count": 21,
     "metadata": {},
     "output_type": "execute_result"
    }
   ],
   "source": [
    "data1[-1]"
   ]
  },
  {
   "cell_type": "code",
   "execution_count": 23,
   "metadata": {},
   "outputs": [
    {
     "data": {
      "text/plain": [
       "212489"
      ]
     },
     "execution_count": 23,
     "metadata": {},
     "output_type": "execute_result"
    }
   ],
   "source": [
    "sum(data1[-3:])"
   ]
  },
  {
   "cell_type": "markdown",
   "metadata": {},
   "source": [
    "# Day 2"
   ]
  },
  {
   "cell_type": "code",
   "execution_count": 13,
   "metadata": {},
   "outputs": [],
   "source": [
    "def parse2(data):\n",
    "  result = Counter()\n",
    "  for round in data:\n",
    "    result[round] += 1\n",
    "  return result\n",
    "data2 = parse2(data(2))"
   ]
  },
  {
   "cell_type": "code",
   "execution_count": 11,
   "metadata": {},
   "outputs": [
    {
     "data": {
      "text/plain": [
       "13924"
      ]
     },
     "execution_count": 11,
     "metadata": {},
     "output_type": "execute_result"
    }
   ],
   "source": [
    "score = {\n",
    "  'A X': 3 + 1, # Rock Rock\n",
    "  'A Y': 6 + 2, # Rock Paper\n",
    "  'A Z': 0 + 3, # Rock Scissor\n",
    "  'B X': 0 + 1, # Paper Rock\n",
    "  'B Y': 3 + 2, # Paper Paper\n",
    "  'B Z': 6 + 3, # Paper Scissor\n",
    "  'C X': 6 + 1, # Scissor Rock\n",
    "  'C Y': 0 + 2, # Scissor Paper\n",
    "  'C Z': 3 + 3, # Scissor Scissor\n",
    "}\n",
    "sum([score[x]*data2[x] for x in data2])"
   ]
  },
  {
   "cell_type": "code",
   "execution_count": 12,
   "metadata": {},
   "outputs": [
    {
     "data": {
      "text/plain": [
       "13448"
      ]
     },
     "execution_count": 12,
     "metadata": {},
     "output_type": "execute_result"
    }
   ],
   "source": [
    "score = {\n",
    "  'A X': 0 + 3, # Rock Lose Sciss\n",
    "  'A Y': 3 + 1, # Rock Draw Rock\n",
    "  'A Z': 6 + 2, # Rock Win Paper\n",
    "  'B X': 0 + 1, # Paper Lose Rock\n",
    "  'B Y': 3 + 2, # Paper Draw Paper\n",
    "  'B Z': 6 + 3, # Paper Win Sciss\n",
    "  'C X': 0 + 2, # Scissor Lose Paper\n",
    "  'C Y': 3 + 3, # Scissor Draw Sciss\n",
    "  'C Z': 6 + 1, # Scissor Win Rock\n",
    "}\n",
    "sum([score[x]*data2[x] for x in data2])"
   ]
  },
  {
   "cell_type": "markdown",
   "metadata": {},
   "source": [
    "# Day 3"
   ]
  },
  {
   "cell_type": "code",
   "execution_count": 29,
   "metadata": {},
   "outputs": [],
   "source": [
    "data3 = data(3)\n",
    "\n",
    "def item_priority(item):\n",
    "  if ord(item) > 96:\n",
    "    return ord(item) - 96\n",
    "  return ord(item) - 38"
   ]
  },
  {
   "cell_type": "code",
   "execution_count": 31,
   "metadata": {},
   "outputs": [
    {
     "data": {
      "text/plain": [
       "7727"
      ]
     },
     "execution_count": 31,
     "metadata": {},
     "output_type": "execute_result"
    }
   ],
   "source": [
    "def rucksack_items(rucksack):\n",
    "  length = len(rucksack)//2\n",
    "  return rucksack[:length], rucksack[length:]\n",
    "  \n",
    "def day3(data):\n",
    "  sum = 0\n",
    "  for x in data:\n",
    "    a, b = rucksack_items(x)\n",
    "    sum += item_priority(list(set(a).intersection(set(b)))[0])\n",
    "  return sum\n",
    "\n",
    "day3(data3)"
   ]
  },
  {
   "cell_type": "code",
   "execution_count": 36,
   "metadata": {},
   "outputs": [
    {
     "data": {
      "text/plain": [
       "2609"
      ]
     },
     "execution_count": 36,
     "metadata": {},
     "output_type": "execute_result"
    }
   ],
   "source": [
    "def day3_2(data):\n",
    "  sum = 0\n",
    "  for i in range(len(data)//3):\n",
    "    a, b, c = data[i*3:i*3+3]\n",
    "    common = set(a).intersection(set(b)).intersection(set(c))\n",
    "    sum += item_priority(list(common)[0])\n",
    "  return sum\n",
    "\n",
    "day3_2(data3)"
   ]
  },
  {
   "cell_type": "markdown",
   "metadata": {},
   "source": [
    "# Day 4"
   ]
  },
  {
   "cell_type": "code",
   "execution_count": 43,
   "metadata": {},
   "outputs": [],
   "source": [
    "data4 = data(4)"
   ]
  },
  {
   "cell_type": "code",
   "execution_count": 41,
   "metadata": {},
   "outputs": [
    {
     "data": {
      "text/plain": [
       "2"
      ]
     },
     "execution_count": 41,
     "metadata": {},
     "output_type": "execute_result"
    }
   ],
   "source": [
    "def has_envelop(a, b):\n",
    "  return a[0] <= b[0] and a[1] >= b[1]\n",
    "\n",
    "def day4(data, f):\n",
    "  count = 0\n",
    "  for i in data:\n",
    "    a, b = [[int(x) for x in elf.split('-')] for elf in i.split(',')]\n",
    "    count += f(a, b) or f(b, a)\n",
    "  return count\n",
    "\n",
    "day4(data4, has_envelop)"
   ]
  },
  {
   "cell_type": "code",
   "execution_count": 44,
   "metadata": {},
   "outputs": [
    {
     "data": {
      "text/plain": [
       "891"
      ]
     },
     "execution_count": 44,
     "metadata": {},
     "output_type": "execute_result"
    }
   ],
   "source": [
    "def has_overlap(a, b):\n",
    "  return (a[0] <= b[0] and a[1] >= b[0]) or (a[0] >= b[0] and a[0] <= b[1])\n",
    "\n",
    "day4(data4, has_overlap)"
   ]
  },
  {
   "cell_type": "markdown",
   "metadata": {},
   "source": [
    "# Day 5"
   ]
  },
  {
   "cell_type": "code",
   "execution_count": 108,
   "metadata": {},
   "outputs": [
    {
     "name": "stdout",
     "output_type": "stream",
     "text": [
      "RFFFWBPNS\n"
     ]
    }
   ],
   "source": [
    "def make_move(positions, count, start, end):\n",
    "  if count == 0:\n",
    "    return\n",
    "  item = positions[start].popleft()\n",
    "  positions[end].appendleft(item)\n",
    "  return make_move(positions, count-1, start, end)\n",
    "\n",
    "def read_top(positions):\n",
    "  return ''.join([positions[i][0] for i in range(len(positions))])\n",
    "\n",
    "def day5(make_move):\n",
    "  def parse5():\n",
    "    with open('./data/day5.txt') as f:\n",
    "      lines = f.readlines()\n",
    "    positions = defaultdict(lambda: deque())\n",
    "    line_length = len(lines[0])\n",
    "    for n, line in enumerate(lines):\n",
    "      for i in range(line_length//4):\n",
    "        item = line[i*4:i*4+4].strip()\n",
    "        if item == '1':\n",
    "          return positions, lines[n+2:]\n",
    "        if item:\n",
    "          positions[i].append(re.match('\\[([A-Z])\\]', item)[1])\n",
    "  positions, moves = parse5()\n",
    "  for turn in moves:\n",
    "    result = re.match('move (\\d+) from (\\d) to (\\d)', turn)\n",
    "    make_move(positions, int(result[1]), int(result[2])-1, int(result[3])-1)\n",
    "  return read_top(positions)\n",
    "\n",
    "print(day5(make_move))"
   ]
  },
  {
   "cell_type": "code",
   "execution_count": 109,
   "metadata": {},
   "outputs": [
    {
     "name": "stdout",
     "output_type": "stream",
     "text": [
      "CQQBBJFCS\n"
     ]
    }
   ],
   "source": [
    "def make_move_9001(positions, count, start, end):\n",
    "  stack = deque()\n",
    "  for _ in range(count):\n",
    "    stack.appendleft(positions[start].popleft())\n",
    "  positions[end].extendleft(stack)\n",
    "\n",
    "print(day5(make_move_9001))"
   ]
  },
  {
   "cell_type": "markdown",
   "metadata": {},
   "source": [
    "# Day 6"
   ]
  },
  {
   "cell_type": "code",
   "execution_count": 12,
   "metadata": {},
   "outputs": [],
   "source": [
    "data6 = data(6)[0]"
   ]
  },
  {
   "cell_type": "code",
   "execution_count": 19,
   "metadata": {},
   "outputs": [
    {
     "data": {
      "text/plain": [
       "1262"
      ]
     },
     "execution_count": 19,
     "metadata": {},
     "output_type": "execute_result"
    }
   ],
   "source": [
    "def day6(n):\n",
    "  for i in range(len(data6)-n+1):\n",
    "    if len(set(data6[i:i+n])) == n:\n",
    "      return i + n\n",
    "\n",
    "day6(4)"
   ]
  },
  {
   "cell_type": "code",
   "execution_count": 15,
   "metadata": {},
   "outputs": [
    {
     "data": {
      "text/plain": [
       "3444"
      ]
     },
     "execution_count": 15,
     "metadata": {},
     "output_type": "execute_result"
    }
   ],
   "source": [
    "day6(14)"
   ]
  },
  {
   "cell_type": "markdown",
   "metadata": {},
   "source": [
    "# Day 7"
   ]
  },
  {
   "cell_type": "code",
   "execution_count": 6,
   "metadata": {},
   "outputs": [],
   "source": [
    "class Dir:\n",
    "  def __init__(self, parent=None):\n",
    "    self.parent = parent\n",
    "    self.files = 0\n",
    "    self.children = {}\n",
    "\n",
    "def ls(item, cwd):\n",
    "  if item.startswith('dir'):\n",
    "    cwd.children[item[4:]] = Dir(cwd)\n",
    "  else:\n",
    "    cwd.files += int(item.split(' ')[0]) \n",
    "\n",
    "def cd(cmd, cwd, root):\n",
    "  if cmd.startswith('cd'):\n",
    "    cwd = root if cmd == 'cd /' else cwd.parent if '..' in cmd else cwd.children[cmd.split(' ')[1]]\n",
    "  return cwd\n",
    "\n",
    "def parse7(data):\n",
    "  root = Dir()\n",
    "  cwd = root\n",
    "  for line in data:\n",
    "    if line[0] == '$':\n",
    "      cwd = cd(line[2:], cwd, root)\n",
    "    else:\n",
    "      ls(line, cwd)\n",
    "  return root\n",
    "\n",
    "data7 = []\n",
    "def calculate_total_sizes(root):\n",
    "  total = root.files\n",
    "  for child in root.children:\n",
    "    total += calculate_total_sizes(root.children[child])\n",
    "  data7.append(total)\n",
    "  return total\n",
    "total = calculate_total_sizes(parse7(data(7)))"
   ]
  },
  {
   "cell_type": "code",
   "execution_count": 7,
   "metadata": {},
   "outputs": [
    {
     "data": {
      "text/plain": [
       "1206825"
      ]
     },
     "execution_count": 7,
     "metadata": {},
     "output_type": "execute_result"
    }
   ],
   "source": [
    "sum([x for x in data7 if x <= 100000])"
   ]
  },
  {
   "cell_type": "code",
   "execution_count": 8,
   "metadata": {},
   "outputs": [
    {
     "data": {
      "text/plain": [
       "9608311"
      ]
     },
     "execution_count": 8,
     "metadata": {},
     "output_type": "execute_result"
    }
   ],
   "source": [
    "target = total - (70000000 - 30000000)\n",
    "next(filter(lambda x: x >= target, sorted(data7)))"
   ]
  },
  {
   "cell_type": "markdown",
   "metadata": {},
   "source": [
    "# Day 8"
   ]
  },
  {
   "cell_type": "code",
   "execution_count": 289,
   "metadata": {},
   "outputs": [],
   "source": [
    "data8 = np.array(data(8, lambda x: [int(n) for n in x]))\n",
    "y, x = data8.shape"
   ]
  },
  {
   "cell_type": "code",
   "execution_count": 290,
   "metadata": {},
   "outputs": [
    {
     "data": {
      "text/plain": [
       "1816"
      ]
     },
     "execution_count": 290,
     "metadata": {},
     "output_type": "execute_result"
    }
   ],
   "source": [
    "maskn, masks = [np.full([1, x], True)[0]], []\n",
    "for i in range(x-1):\n",
    "  forward = np.amax(data8[:i+1], 0)\n",
    "  maskn.append(data8[i+1] > forward)\n",
    "  backward = np.amax(data8[i+1:], 0)\n",
    "  masks.append(data8[i] > backward)\n",
    "masks.append(np.full([1, x], True)[0])\n",
    "\n",
    "maskw, maske =  [np.full([y, 1], True)[:, 0]], []\n",
    "for i in range(y-1):\n",
    "  forward = np.amax(data8[:, :i+1], 1)\n",
    "  maskw.append(data8[:, i+1] > forward)\n",
    "  backward = np.amax(data8[:, i+1:], 1)\n",
    "  maske.append(data8[:, i] > backward)\n",
    "maske.append(np.full([y, 1], True)[:, 0])\n",
    "\n",
    "mask = np.vstack(maskn) | np.vstack(masks) | np.vstack(maskw).transpose() | np.vstack(maske).transpose()\n",
    "len(data8[np.where(mask)])"
   ]
  },
  {
   "cell_type": "code",
   "execution_count": 288,
   "metadata": {},
   "outputs": [
    {
     "data": {
      "text/plain": [
       "383520"
      ]
     },
     "execution_count": 288,
     "metadata": {},
     "output_type": "execute_result"
    }
   ],
   "source": [
    "def directional_score(geni, genj, axis=0):\n",
    "  score = [np.zeros([1, x])[0]]\n",
    "  for i in geni:\n",
    "    current = data8[i] if axis == 0 else data8[:, i]\n",
    "    visible = np.full([1, x], True)[0]\n",
    "    result = np.zeros([1, x])[0]\n",
    "    for j in genj(i):\n",
    "      candidate = data8[j] if axis == 0 else data8[:, j]\n",
    "      result += np.ones([1, x])[0] * visible\n",
    "      visible = (current > candidate) & visible\n",
    "    score.append(result)\n",
    "  return np.vstack(score)\n",
    "\n",
    "north = directional_score(range(1, x), lambda i: range(i-1, -1, -1))\n",
    "south = np.flip(directional_score(range(x-2, -1, -1), lambda i: range(i+1, x)), 0)\n",
    "west = directional_score(range(1, x), lambda i: range(i-1, -1, -1), 1).transpose()\n",
    "east = np.flip(directional_score(range(x-2, -1, -1), lambda i: range(i+1, x), 1).transpose(), 1)\n",
    "int(np.max(north * south * east * west))"
   ]
  },
  {
   "cell_type": "markdown",
   "metadata": {},
   "source": [
    "# Day 9"
   ]
  },
  {
   "cell_type": "code",
   "execution_count": 3,
   "metadata": {},
   "outputs": [],
   "source": [
    "data9 = data(9, lambda x: x.split(' '))"
   ]
  },
  {
   "cell_type": "code",
   "execution_count": 6,
   "metadata": {},
   "outputs": [
    {
     "data": {
      "text/plain": [
       "(6181, 2386)"
      ]
     },
     "execution_count": 6,
     "metadata": {},
     "output_type": "execute_result"
    }
   ],
   "source": [
    "def day9(data, knots=2):\n",
    "  visited = set()\n",
    "  state = [(0,0)] * knots\n",
    "\n",
    "  def move_head(x, y, direction):\n",
    "    match direction:\n",
    "      case 'R':\n",
    "        x += 1\n",
    "      case 'L':\n",
    "        x -= 1\n",
    "      case 'U':\n",
    "        y += 1\n",
    "      case 'D':\n",
    "        y -= 1\n",
    "    return (x, y)\n",
    "\n",
    "  def move_tail(headx, heady, tailx, taily):\n",
    "    if abs(headx - tailx) > 1 and abs(heady - taily) > 1:\n",
    "      return (headx + (1 if tailx > headx else -1), heady + (1 if taily > heady else -1))\n",
    "    if abs(headx - tailx) > 1:\n",
    "      return (headx + (1 if tailx > headx else -1), heady)\n",
    "    if abs(heady - taily) > 1:\n",
    "      return (headx, heady + (1 if taily > heady else -1))\n",
    "    return (tailx, taily)\n",
    "\n",
    "  def make_move(current, direction, count):\n",
    "    for _ in range(count):\n",
    "      current[0] = move_head(*current[0], direction)\n",
    "      for i in range(1, len(current)):\n",
    "        current[i] = move_tail(*current[i-1], *current[i])\n",
    "      visited.add(current[-1])\n",
    "    return current\n",
    "\n",
    "  for move in data:\n",
    "    state = make_move(state, move[0], int(move[1]))\n",
    "\n",
    "  return len(visited)\n",
    "\n",
    "day9(data9), day9(data9, 10)"
   ]
  },
  {
   "cell_type": "markdown",
   "metadata": {},
   "source": [
    "# Day 10"
   ]
  },
  {
   "cell_type": "code",
   "execution_count": 10,
   "metadata": {},
   "outputs": [],
   "source": [
    "def parse10(data):\n",
    "  q, i, state, op = deque([0]), 0, 1, 0\n",
    "\n",
    "  def tock(i, state, op):\n",
    "    if not op:\n",
    "      if q:\n",
    "        op = q.popleft()\n",
    "    else:\n",
    "      state += op\n",
    "      op = 0\n",
    "    i += 1\n",
    "    return i, state, op\n",
    "\n",
    "  for command in data:\n",
    "    q.append(0 if len(command) == 1 else int(command[1]))\n",
    "    i, state, op = tock(i, state, op)\n",
    "    yield state\n",
    "  while q:\n",
    "    i, state, op = tock(i, state, op)\n",
    "    yield state\n",
    "  i, state, op = tock(i, state, op)\n",
    "  yield state\n",
    "\n",
    "data10 = lambda: parse10((data(10, lambda x: x.split(' '))))"
   ]
  },
  {
   "cell_type": "code",
   "execution_count": 11,
   "metadata": {},
   "outputs": [
    {
     "data": {
      "text/plain": [
       "14420"
      ]
     },
     "execution_count": 11,
     "metadata": {},
     "output_type": "execute_result"
    }
   ],
   "source": [
    "def day10_1(data):\n",
    "  signal = 0\n",
    "  targets = [20, 60, 100, 140, 180, 220]\n",
    "  for i, v in enumerate(data):\n",
    "    if i+1 in targets:\n",
    "      signal += (i+1) * v\n",
    "  return signal\n",
    "day10_1(data10())"
   ]
  },
  {
   "cell_type": "code",
   "execution_count": 23,
   "metadata": {},
   "outputs": [
    {
     "name": "stdout",
     "output_type": "stream",
     "text": [
      "###   ##  #    ###  ###  ####  ##  #  # \n",
      "#  # #  # #    #  # #  #    # #  # #  ##\n",
      "#  # #    #    #  # ###    #  #  # #  # \n",
      "###  # ## #    ###  #  #  #   #### #  ##\n",
      "# #  #  # #    # #  #  # #    #  # #  ##\n",
      "#  #  ### #### #  # ###  #### #  #  ##  \n",
      "  \n"
     ]
    }
   ],
   "source": [
    "def day10_2(data):\n",
    "  image = ''\n",
    "  for i, v in enumerate(data):\n",
    "    position, sprite = i+1, v\n",
    "    if position%40 in range(sprite, sprite+3):\n",
    "      image += '#'\n",
    "    else:\n",
    "      image += ' '\n",
    "    if not position%40:\n",
    "      image += '\\n'\n",
    "  return image\n",
    "print(day10_2(data10()))"
   ]
  },
  {
   "cell_type": "markdown",
   "metadata": {},
   "source": [
    "# Day 11"
   ]
  },
  {
   "cell_type": "code",
   "execution_count": 46,
   "metadata": {},
   "outputs": [],
   "source": [
    "a = 'old * old'\n",
    "x = lambda old: eval(a)"
   ]
  },
  {
   "cell_type": "code",
   "execution_count": 59,
   "metadata": {},
   "outputs": [
    {
     "ename": "SyntaxError",
     "evalue": "invalid decimal literal (369896908.py, line 1)",
     "output_type": "error",
     "traceback": [
      "\u001b[0;36m  Cell \u001b[0;32mIn[59], line 1\u001b[0;36m\u001b[0m\n\u001b[0;31m    2.add\u001b[0m\n\u001b[0m     ^\u001b[0m\n\u001b[0;31mSyntaxError\u001b[0m\u001b[0;31m:\u001b[0m invalid decimal literal\n"
     ]
    }
   ],
   "source": [
    "2.add"
   ]
  },
  {
   "cell_type": "code",
   "execution_count": 115,
   "metadata": {},
   "outputs": [],
   "source": [
    "data11 = []\n",
    "ops = [ # Hardcoded\n",
    "  lambda x: x*19,\n",
    "  lambda x: x+6,\n",
    "  lambda x: x*x,\n",
    "  lambda x: x+3\n",
    "]\n",
    "# ops = [ # Hardcoded\n",
    "#   lambda x: x*13,\n",
    "#   lambda x: x+2,\n",
    "#   lambda x: x+6,\n",
    "#   lambda x: x*x,\n",
    "#   lambda x: x+3,\n",
    "#   lambda x: x*7,\n",
    "#   lambda x: x+4,\n",
    "#   lambda x: x+7\n",
    "# ]\n",
    "\n",
    "class Monkey:\n",
    "  def __init__(self, items, op, n, a, b):\n",
    "    self.items = items\n",
    "    self.operation = op\n",
    "    self.n = n\n",
    "    self.a = a\n",
    "    self.b = b\n",
    "    self.count = 0\n",
    "\n",
    "  def run(self, flag=False):\n",
    "    t, f = data11[self.a], data11[self.b]\n",
    "    for old in self.items:\n",
    "      new = self.operation(old) // (1 if flag else 3)\n",
    "      (f if new%self.n else t).items.append(new)\n",
    "      self.count += 1\n",
    "    self.items = []\n",
    "\n",
    "  def __repr__(self):\n",
    "    return f'{self.count}, {self.items}'\n",
    "\n",
    "def parse11(data):\n",
    "  monkey, monkeys = {}, []\n",
    "  for line in data:\n",
    "    if not line:\n",
    "      monkeys.append(Monkey(**monkey))\n",
    "    if m := re.match('Starting items: ([\\d+, ]+)', line):\n",
    "      monkey['items'] = [int(x) for x in m[1].split(', ')]\n",
    "    elif m:= re.match('Operation: new = old (.) (.+)', line):\n",
    "      monkey['op'] = ops[len(monkeys)]\n",
    "    elif m:= re.match('Test: divisible by (\\d+)', line):\n",
    "      monkey['n'] = int(m[1])\n",
    "    elif m:= re.match('If true: throw to monkey (\\d)', line):\n",
    "      monkey['a'] = int(m[1])\n",
    "    elif m:= re.match('If false: throw to monkey (\\d)', line):\n",
    "      monkey['b'] = int(m[1])\n",
    "  monkeys.append(Monkey(**monkey))\n",
    "  return monkeys\n",
    "\n",
    "def calculate_activity(monkeys):\n",
    "  activity = sorted(monkeys, key=lambda x: x.count, reverse=True)\n",
    "  # print(activity)\n",
    "  return activity[0].count * activity[1].count"
   ]
  },
  {
   "cell_type": "code",
   "execution_count": 117,
   "metadata": {},
   "outputs": [
    {
     "data": {
      "text/plain": [
       "10605"
      ]
     },
     "execution_count": 117,
     "metadata": {},
     "output_type": "execute_result"
    }
   ],
   "source": [
    "data11 = parse11(data(11))\n",
    "for i in range(20):\n",
    "  for monkey in data11:\n",
    "    monkey.run()\n",
    "calculate_activity(data11)"
   ]
  },
  {
   "cell_type": "code",
   "execution_count": 116,
   "metadata": {},
   "outputs": [
    {
     "name": "stdout",
     "output_type": "stream",
     "text": [
      "20\n",
      "100\n",
      "225\n",
      "400\n",
      "624\n",
      "899\n",
      "1224\n",
      "1596\n",
      "2021\n",
      "2496\n",
      "3024\n",
      "3717\n",
      "4224\n",
      "5180\n",
      "5621\n",
      "6885\n",
      "7221\n",
      "8645\n",
      "9405\n",
      "10605\n",
      "11766\n",
      "12650\n",
      "14036\n",
      "15000\n",
      "16758\n",
      "17810\n",
      "19448\n",
      "21300\n",
      "22484\n",
      "24633\n",
      "25740\n",
      "28036\n",
      "29392\n",
      "31486\n",
      "33286\n",
      "35512\n",
      "37422\n",
      "39382\n",
      "41800\n",
      "43870\n",
      "46420\n",
      "49042\n",
      "51736\n",
      "53572\n",
      "56386\n",
      "58302\n",
      "62230\n",
      "63736\n",
      "67840\n",
      "69412\n",
      "73150\n",
      "75330\n",
      "79222\n",
      "82636\n",
      "84952\n",
      "89082\n",
      "90882\n",
      "95770\n",
      "97636\n",
      "102060\n",
      "105280\n",
      "108550\n",
      "113212\n",
      "115920\n",
      "121432\n",
      "122830\n",
      "128502\n",
      "130662\n",
      "136510\n",
      "140230\n",
      "144000\n",
      "148590\n",
      "151690\n",
      "157192\n",
      "161986\n",
      "166852\n",
      "170962\n",
      "175122\n",
      "179332\n",
      "184450\n",
      "188770\n",
      "194456\n",
      "198000\n",
      "204279\n",
      "207911\n",
      "214344\n",
      "218999\n",
      "223704\n",
      "229416\n",
      "233264\n",
      "241056\n",
      "243522\n",
      "250480\n",
      "254500\n",
      "260590\n",
      "266752\n",
      "271942\n",
      "280350\n",
      "282472\n",
      "291040\n"
     ]
    }
   ],
   "source": [
    "data11 = parse11(data(11))\n",
    "for i in range(100):\n",
    "  for monkey in data11:\n",
    "    monkey.run()\n",
    "  print(calculate_activity(data11))"
   ]
  }
 ],
 "metadata": {
  "kernelspec": {
   "display_name": "Python 3.11.0 64-bit",
   "language": "python",
   "name": "python3"
  },
  "language_info": {
   "codemirror_mode": {
    "name": "ipython",
    "version": 3
   },
   "file_extension": ".py",
   "mimetype": "text/x-python",
   "name": "python",
   "nbconvert_exporter": "python",
   "pygments_lexer": "ipython3",
   "version": "3.11.0"
  },
  "orig_nbformat": 4,
  "vscode": {
   "interpreter": {
    "hash": "ca3ed784184f1b3bb7c3539bfb45e71710cd27667424f92c2d5bb4df9c107c23"
   }
  }
 },
 "nbformat": 4,
 "nbformat_minor": 2
}
