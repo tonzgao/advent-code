{
 "cells": [
  {
   "cell_type": "code",
   "execution_count": 1,
   "metadata": {},
   "outputs": [],
   "source": [
    "# Imports\n",
    "from collections import defaultdict, Counter, deque\n",
    "from functools import lru_cache, reduce, cmp_to_key\n",
    "import itertools\n",
    "import json\n",
    "import numpy as np\n",
    "import numpy.typing as npt\n",
    "import re\n",
    "from sortedcontainers import SortedList\n",
    "from typing import Callable, TypeVar, Union, Optional\n",
    "\n",
    "\n",
    "T = TypeVar('T')\n",
    "\n",
    "# Helper functions\n",
    "\n",
    "def data(day: int, parser: Callable[[str], T] = str) -> list[T]:\n",
    "  with open(f\"./data/day{day}.txt\") as f:\n",
    "    return [parser(line.strip()) for line in f.readlines()]\n",
    "\n",
    "def split_csv_row(row: str) -> list[int]:\n",
    "  return [int(x) for x in row.split(',')]\n",
    "\n",
    "def split_int_row(row: str) -> list[int]:\n",
    "  return [int(x) for x in row]"
   ]
  },
  {
   "cell_type": "markdown",
   "metadata": {},
   "source": [
    "# Day 1"
   ]
  },
  {
   "cell_type": "code",
   "execution_count": 19,
   "metadata": {},
   "outputs": [],
   "source": [
    "def parse_day1(data):\n",
    "  elves = SortedList()\n",
    "  current = 0\n",
    "  for food in data:\n",
    "    if not food:\n",
    "      elves.add(current)\n",
    "      current = 0\n",
    "    else:\n",
    "      current += int(food)\n",
    "  return elves\n",
    "\n",
    "data1 = parse_day1(data(1))"
   ]
  },
  {
   "cell_type": "code",
   "execution_count": 21,
   "metadata": {},
   "outputs": [
    {
     "data": {
      "text/plain": [
       "71780"
      ]
     },
     "execution_count": 21,
     "metadata": {},
     "output_type": "execute_result"
    }
   ],
   "source": [
    "data1[-1]"
   ]
  },
  {
   "cell_type": "code",
   "execution_count": 23,
   "metadata": {},
   "outputs": [
    {
     "data": {
      "text/plain": [
       "212489"
      ]
     },
     "execution_count": 23,
     "metadata": {},
     "output_type": "execute_result"
    }
   ],
   "source": [
    "sum(data1[-3:])"
   ]
  },
  {
   "cell_type": "markdown",
   "metadata": {},
   "source": [
    "# Day 2"
   ]
  },
  {
   "cell_type": "code",
   "execution_count": 13,
   "metadata": {},
   "outputs": [],
   "source": [
    "def parse2(data):\n",
    "  result = Counter()\n",
    "  for round in data:\n",
    "    result[round] += 1\n",
    "  return result\n",
    "data2 = parse2(data(2))"
   ]
  },
  {
   "cell_type": "code",
   "execution_count": 11,
   "metadata": {},
   "outputs": [
    {
     "data": {
      "text/plain": [
       "13924"
      ]
     },
     "execution_count": 11,
     "metadata": {},
     "output_type": "execute_result"
    }
   ],
   "source": [
    "score = {\n",
    "  'A X': 3 + 1, # Rock Rock\n",
    "  'A Y': 6 + 2, # Rock Paper\n",
    "  'A Z': 0 + 3, # Rock Scissor\n",
    "  'B X': 0 + 1, # Paper Rock\n",
    "  'B Y': 3 + 2, # Paper Paper\n",
    "  'B Z': 6 + 3, # Paper Scissor\n",
    "  'C X': 6 + 1, # Scissor Rock\n",
    "  'C Y': 0 + 2, # Scissor Paper\n",
    "  'C Z': 3 + 3, # Scissor Scissor\n",
    "}\n",
    "sum([score[x]*data2[x] for x in data2])"
   ]
  },
  {
   "cell_type": "code",
   "execution_count": 12,
   "metadata": {},
   "outputs": [
    {
     "data": {
      "text/plain": [
       "13448"
      ]
     },
     "execution_count": 12,
     "metadata": {},
     "output_type": "execute_result"
    }
   ],
   "source": [
    "score = {\n",
    "  'A X': 0 + 3, # Rock Lose Sciss\n",
    "  'A Y': 3 + 1, # Rock Draw Rock\n",
    "  'A Z': 6 + 2, # Rock Win Paper\n",
    "  'B X': 0 + 1, # Paper Lose Rock\n",
    "  'B Y': 3 + 2, # Paper Draw Paper\n",
    "  'B Z': 6 + 3, # Paper Win Sciss\n",
    "  'C X': 0 + 2, # Scissor Lose Paper\n",
    "  'C Y': 3 + 3, # Scissor Draw Sciss\n",
    "  'C Z': 6 + 1, # Scissor Win Rock\n",
    "}\n",
    "sum([score[x]*data2[x] for x in data2])"
   ]
  },
  {
   "cell_type": "markdown",
   "metadata": {},
   "source": [
    "# Day 3"
   ]
  },
  {
   "cell_type": "code",
   "execution_count": 29,
   "metadata": {},
   "outputs": [],
   "source": [
    "data3 = data(3)\n",
    "\n",
    "def item_priority(item):\n",
    "  if ord(item) > 96:\n",
    "    return ord(item) - 96\n",
    "  return ord(item) - 38"
   ]
  },
  {
   "cell_type": "code",
   "execution_count": 31,
   "metadata": {},
   "outputs": [
    {
     "data": {
      "text/plain": [
       "7727"
      ]
     },
     "execution_count": 31,
     "metadata": {},
     "output_type": "execute_result"
    }
   ],
   "source": [
    "def rucksack_items(rucksack):\n",
    "  length = len(rucksack)//2\n",
    "  return rucksack[:length], rucksack[length:]\n",
    "  \n",
    "def day3(data):\n",
    "  sum = 0\n",
    "  for x in data:\n",
    "    a, b = rucksack_items(x)\n",
    "    sum += item_priority(list(set(a).intersection(set(b)))[0])\n",
    "  return sum\n",
    "\n",
    "day3(data3)"
   ]
  },
  {
   "cell_type": "code",
   "execution_count": 36,
   "metadata": {},
   "outputs": [
    {
     "data": {
      "text/plain": [
       "2609"
      ]
     },
     "execution_count": 36,
     "metadata": {},
     "output_type": "execute_result"
    }
   ],
   "source": [
    "def day3_2(data):\n",
    "  sum = 0\n",
    "  for i in range(len(data)//3):\n",
    "    a, b, c = data[i*3:i*3+3]\n",
    "    common = set(a).intersection(set(b)).intersection(set(c))\n",
    "    sum += item_priority(list(common)[0])\n",
    "  return sum\n",
    "\n",
    "day3_2(data3)"
   ]
  },
  {
   "cell_type": "markdown",
   "metadata": {},
   "source": [
    "# Day 4"
   ]
  },
  {
   "cell_type": "code",
   "execution_count": 43,
   "metadata": {},
   "outputs": [],
   "source": [
    "data4 = data(4)"
   ]
  },
  {
   "cell_type": "code",
   "execution_count": 41,
   "metadata": {},
   "outputs": [
    {
     "data": {
      "text/plain": [
       "2"
      ]
     },
     "execution_count": 41,
     "metadata": {},
     "output_type": "execute_result"
    }
   ],
   "source": [
    "def has_envelop(a, b):\n",
    "  return a[0] <= b[0] and a[1] >= b[1]\n",
    "\n",
    "def day4(data, f):\n",
    "  count = 0\n",
    "  for i in data:\n",
    "    a, b = [[int(x) for x in elf.split('-')] for elf in i.split(',')]\n",
    "    count += f(a, b) or f(b, a)\n",
    "  return count\n",
    "\n",
    "day4(data4, has_envelop)"
   ]
  },
  {
   "cell_type": "code",
   "execution_count": 44,
   "metadata": {},
   "outputs": [
    {
     "data": {
      "text/plain": [
       "891"
      ]
     },
     "execution_count": 44,
     "metadata": {},
     "output_type": "execute_result"
    }
   ],
   "source": [
    "def has_overlap(a, b):\n",
    "  return (a[0] <= b[0] and a[1] >= b[0]) or (a[0] >= b[0] and a[0] <= b[1])\n",
    "\n",
    "day4(data4, has_overlap)"
   ]
  },
  {
   "cell_type": "markdown",
   "metadata": {},
   "source": [
    "# Day 5"
   ]
  },
  {
   "cell_type": "code",
   "execution_count": 2,
   "metadata": {},
   "outputs": [
    {
     "data": {
      "text/plain": [
       "'RFFFWBPNS'"
      ]
     },
     "execution_count": 2,
     "metadata": {},
     "output_type": "execute_result"
    }
   ],
   "source": [
    "def make_move(positions, count, start, end):\n",
    "  if count == 0:\n",
    "    return\n",
    "  item = positions[start].popleft()\n",
    "  positions[end].appendleft(item)\n",
    "  return make_move(positions, count-1, start, end)\n",
    "\n",
    "def read_top(positions):\n",
    "  return ''.join([positions[i][0] for i in range(len(positions))])\n",
    "\n",
    "def day5(make_move):\n",
    "  def parse5():\n",
    "    with open('./data/day5.txt') as f:\n",
    "      lines = f.readlines()\n",
    "    positions = defaultdict(lambda: deque())\n",
    "    line_length = len(lines[0])\n",
    "    for n, line in enumerate(lines):\n",
    "      for i in range(line_length//4):\n",
    "        item = line[i*4:i*4+4].strip()\n",
    "        if item == '1':\n",
    "          return positions, lines[n+2:]\n",
    "        if item:\n",
    "          positions[i].append(re.match('\\[([A-Z])\\]', item)[1])\n",
    "  positions, moves = parse5()\n",
    "  for turn in moves:\n",
    "    result = re.match('move (\\d+) from (\\d) to (\\d)', turn)\n",
    "    make_move(positions, int(result[1]), int(result[2])-1, int(result[3])-1)\n",
    "  return read_top(positions)\n",
    "\n",
    "day5(make_move)"
   ]
  },
  {
   "cell_type": "code",
   "execution_count": 3,
   "metadata": {},
   "outputs": [
    {
     "data": {
      "text/plain": [
       "'CQQBBJFCS'"
      ]
     },
     "execution_count": 3,
     "metadata": {},
     "output_type": "execute_result"
    }
   ],
   "source": [
    "def make_move_9001(positions, count, start, end):\n",
    "  stack = deque()\n",
    "  for _ in range(count):\n",
    "    stack.appendleft(positions[start].popleft())\n",
    "  positions[end].extendleft(stack)\n",
    "\n",
    "day5(make_move_9001)"
   ]
  },
  {
   "cell_type": "markdown",
   "metadata": {},
   "source": [
    "# Day 6"
   ]
  },
  {
   "cell_type": "code",
   "execution_count": 5,
   "metadata": {},
   "outputs": [],
   "source": [
    "data6 = data(6)[0]"
   ]
  },
  {
   "cell_type": "code",
   "execution_count": 6,
   "metadata": {},
   "outputs": [
    {
     "data": {
      "text/plain": [
       "(1262, 3444)"
      ]
     },
     "execution_count": 6,
     "metadata": {},
     "output_type": "execute_result"
    }
   ],
   "source": [
    "def day6(n):\n",
    "  for i in range(len(data6)-n+1):\n",
    "    if len(set(data6[i:i+n])) == n:\n",
    "      return i + n\n",
    "\n",
    "day6(4), day6(14)"
   ]
  },
  {
   "cell_type": "markdown",
   "metadata": {},
   "source": [
    "# Day 7"
   ]
  },
  {
   "cell_type": "code",
   "execution_count": 6,
   "metadata": {},
   "outputs": [],
   "source": [
    "class Dir:\n",
    "  def __init__(self, parent=None):\n",
    "    self.parent = parent\n",
    "    self.files = 0\n",
    "    self.children = {}\n",
    "\n",
    "def ls(item, cwd):\n",
    "  if item.startswith('dir'):\n",
    "    cwd.children[item[4:]] = Dir(cwd)\n",
    "  else:\n",
    "    cwd.files += int(item.split(' ')[0]) \n",
    "\n",
    "def cd(cmd, cwd, root):\n",
    "  if cmd.startswith('cd'):\n",
    "    cwd = root if cmd == 'cd /' else cwd.parent if '..' in cmd else cwd.children[cmd.split(' ')[1]]\n",
    "  return cwd\n",
    "\n",
    "def parse7(data):\n",
    "  root = Dir()\n",
    "  cwd = root\n",
    "  for line in data:\n",
    "    if line[0] == '$':\n",
    "      cwd = cd(line[2:], cwd, root)\n",
    "    else:\n",
    "      ls(line, cwd)\n",
    "  return root\n",
    "\n",
    "data7 = []\n",
    "def calculate_total_sizes(root):\n",
    "  total = root.files\n",
    "  for child in root.children:\n",
    "    total += calculate_total_sizes(root.children[child])\n",
    "  data7.append(total)\n",
    "  return total\n",
    "total = calculate_total_sizes(parse7(data(7)))"
   ]
  },
  {
   "cell_type": "code",
   "execution_count": 7,
   "metadata": {},
   "outputs": [
    {
     "data": {
      "text/plain": [
       "1206825"
      ]
     },
     "execution_count": 7,
     "metadata": {},
     "output_type": "execute_result"
    }
   ],
   "source": [
    "sum([x for x in data7 if x <= 100000])"
   ]
  },
  {
   "cell_type": "code",
   "execution_count": 8,
   "metadata": {},
   "outputs": [
    {
     "data": {
      "text/plain": [
       "9608311"
      ]
     },
     "execution_count": 8,
     "metadata": {},
     "output_type": "execute_result"
    }
   ],
   "source": [
    "target = total - (70000000 - 30000000)\n",
    "next(filter(lambda x: x >= target, sorted(data7)))"
   ]
  },
  {
   "cell_type": "markdown",
   "metadata": {},
   "source": [
    "# Day 8"
   ]
  },
  {
   "cell_type": "code",
   "execution_count": 289,
   "metadata": {},
   "outputs": [],
   "source": [
    "data8 = np.array(data(8, lambda x: [int(n) for n in x]))\n",
    "y, x = data8.shape"
   ]
  },
  {
   "cell_type": "code",
   "execution_count": 290,
   "metadata": {},
   "outputs": [
    {
     "data": {
      "text/plain": [
       "1816"
      ]
     },
     "execution_count": 290,
     "metadata": {},
     "output_type": "execute_result"
    }
   ],
   "source": [
    "maskn, masks = [np.full([1, x], True)[0]], []\n",
    "for i in range(x-1):\n",
    "  forward = np.amax(data8[:i+1], 0)\n",
    "  maskn.append(data8[i+1] > forward)\n",
    "  backward = np.amax(data8[i+1:], 0)\n",
    "  masks.append(data8[i] > backward)\n",
    "masks.append(np.full([1, x], True)[0])\n",
    "\n",
    "maskw, maske =  [np.full([y, 1], True)[:, 0]], []\n",
    "for i in range(y-1):\n",
    "  forward = np.amax(data8[:, :i+1], 1)\n",
    "  maskw.append(data8[:, i+1] > forward)\n",
    "  backward = np.amax(data8[:, i+1:], 1)\n",
    "  maske.append(data8[:, i] > backward)\n",
    "maske.append(np.full([y, 1], True)[:, 0])\n",
    "\n",
    "mask = np.vstack(maskn) | np.vstack(masks) | np.vstack(maskw).transpose() | np.vstack(maske).transpose()\n",
    "len(data8[np.where(mask)])"
   ]
  },
  {
   "cell_type": "code",
   "execution_count": 288,
   "metadata": {},
   "outputs": [
    {
     "data": {
      "text/plain": [
       "383520"
      ]
     },
     "execution_count": 288,
     "metadata": {},
     "output_type": "execute_result"
    }
   ],
   "source": [
    "def directional_score(geni, genj, axis=0):\n",
    "  score = [np.zeros([1, x])[0]]\n",
    "  for i in geni:\n",
    "    current = data8[i] if axis == 0 else data8[:, i]\n",
    "    visible = np.full([1, x], True)[0]\n",
    "    result = np.zeros([1, x])[0]\n",
    "    for j in genj(i):\n",
    "      candidate = data8[j] if axis == 0 else data8[:, j]\n",
    "      result += np.ones([1, x])[0] * visible\n",
    "      visible = (current > candidate) & visible\n",
    "    score.append(result)\n",
    "  return np.vstack(score)\n",
    "\n",
    "north = directional_score(range(1, x), lambda i: range(i-1, -1, -1))\n",
    "south = np.flip(directional_score(range(x-2, -1, -1), lambda i: range(i+1, x)), 0)\n",
    "west = directional_score(range(1, x), lambda i: range(i-1, -1, -1), 1).transpose()\n",
    "east = np.flip(directional_score(range(x-2, -1, -1), lambda i: range(i+1, x), 1).transpose(), 1)\n",
    "int(np.max(north * south * east * west))"
   ]
  },
  {
   "cell_type": "markdown",
   "metadata": {},
   "source": [
    "# Day 9"
   ]
  },
  {
   "cell_type": "code",
   "execution_count": 3,
   "metadata": {},
   "outputs": [],
   "source": [
    "data9 = data(9, lambda x: x.split(' '))"
   ]
  },
  {
   "cell_type": "code",
   "execution_count": 6,
   "metadata": {},
   "outputs": [
    {
     "data": {
      "text/plain": [
       "(6181, 2386)"
      ]
     },
     "execution_count": 6,
     "metadata": {},
     "output_type": "execute_result"
    }
   ],
   "source": [
    "def day9(data, knots=2):\n",
    "  visited = set()\n",
    "  state = [(0,0)] * knots\n",
    "\n",
    "  def move_head(x, y, direction):\n",
    "    match direction:\n",
    "      case 'R':\n",
    "        x += 1\n",
    "      case 'L':\n",
    "        x -= 1\n",
    "      case 'U':\n",
    "        y += 1\n",
    "      case 'D':\n",
    "        y -= 1\n",
    "    return (x, y)\n",
    "\n",
    "  def move_tail(headx, heady, tailx, taily):\n",
    "    if abs(headx - tailx) > 1 and abs(heady - taily) > 1:\n",
    "      return (headx + (1 if tailx > headx else -1), heady + (1 if taily > heady else -1))\n",
    "    if abs(headx - tailx) > 1:\n",
    "      return (headx + (1 if tailx > headx else -1), heady)\n",
    "    if abs(heady - taily) > 1:\n",
    "      return (headx, heady + (1 if taily > heady else -1))\n",
    "    return (tailx, taily)\n",
    "\n",
    "  def make_move(current, direction, count):\n",
    "    for _ in range(count):\n",
    "      current[0] = move_head(*current[0], direction)\n",
    "      for i in range(1, len(current)):\n",
    "        current[i] = move_tail(*current[i-1], *current[i])\n",
    "      visited.add(current[-1])\n",
    "    return current\n",
    "\n",
    "  for move in data:\n",
    "    state = make_move(state, move[0], int(move[1]))\n",
    "\n",
    "  return len(visited)\n",
    "\n",
    "day9(data9), day9(data9, 10)"
   ]
  },
  {
   "cell_type": "markdown",
   "metadata": {},
   "source": [
    "# Day 10"
   ]
  },
  {
   "cell_type": "code",
   "execution_count": 10,
   "metadata": {},
   "outputs": [],
   "source": [
    "def parse10(data):\n",
    "  q, i, state, op = deque([0]), 0, 1, 0\n",
    "\n",
    "  def tock(i, state, op):\n",
    "    if not op:\n",
    "      if q:\n",
    "        op = q.popleft()\n",
    "    else:\n",
    "      state += op\n",
    "      op = 0\n",
    "    i += 1\n",
    "    return i, state, op\n",
    "\n",
    "  for command in data:\n",
    "    q.append(0 if len(command) == 1 else int(command[1]))\n",
    "    i, state, op = tock(i, state, op)\n",
    "    yield state\n",
    "  while q:\n",
    "    i, state, op = tock(i, state, op)\n",
    "    yield state\n",
    "  i, state, op = tock(i, state, op)\n",
    "  yield state\n",
    "\n",
    "data10 = lambda: parse10((data(10, lambda x: x.split(' '))))"
   ]
  },
  {
   "cell_type": "code",
   "execution_count": 11,
   "metadata": {},
   "outputs": [
    {
     "data": {
      "text/plain": [
       "14420"
      ]
     },
     "execution_count": 11,
     "metadata": {},
     "output_type": "execute_result"
    }
   ],
   "source": [
    "def day10_1(data):\n",
    "  signal = 0\n",
    "  targets = [20, 60, 100, 140, 180, 220]\n",
    "  for i, v in enumerate(data):\n",
    "    if i+1 in targets:\n",
    "      signal += (i+1) * v\n",
    "  return signal\n",
    "day10_1(data10())"
   ]
  },
  {
   "cell_type": "code",
   "execution_count": 23,
   "metadata": {},
   "outputs": [
    {
     "name": "stdout",
     "output_type": "stream",
     "text": [
      "###   ##  #    ###  ###  ####  ##  #  # \n",
      "#  # #  # #    #  # #  #    # #  # #  ##\n",
      "#  # #    #    #  # ###    #  #  # #  # \n",
      "###  # ## #    ###  #  #  #   #### #  ##\n",
      "# #  #  # #    # #  #  # #    #  # #  ##\n",
      "#  #  ### #### #  # ###  #### #  #  ##  \n",
      "  \n"
     ]
    }
   ],
   "source": [
    "def day10_2(data):\n",
    "  image = ''\n",
    "  for i, v in enumerate(data):\n",
    "    position, sprite = i+1, v\n",
    "    if position%40 in range(sprite, sprite+3):\n",
    "      image += '#'\n",
    "    else:\n",
    "      image += ' '\n",
    "    if not position%40:\n",
    "      image += '\\n'\n",
    "  return image\n",
    "print(day10_2(data10()))"
   ]
  },
  {
   "cell_type": "markdown",
   "metadata": {},
   "source": [
    "# Day 11"
   ]
  },
  {
   "cell_type": "code",
   "execution_count": 201,
   "metadata": {},
   "outputs": [],
   "source": [
    "# Hardcoded\n",
    "example = [\n",
    "  lambda x: x*19,\n",
    "  lambda x: x+6,\n",
    "  lambda x: x*x,\n",
    "  lambda x: x+3\n",
    "]\n",
    "actual = [ \n",
    "  lambda x: x*13,\n",
    "  lambda x: x+2,\n",
    "  lambda x: x+6,\n",
    "  lambda x: x*x,\n",
    "  lambda x: x+3,\n",
    "  lambda x: x*7,\n",
    "  lambda x: x+4,\n",
    "  lambda x: x+7\n",
    "]\n",
    "data11 = (data(11), actual)"
   ]
  },
  {
   "cell_type": "code",
   "execution_count": 205,
   "metadata": {},
   "outputs": [
    {
     "data": {
      "text/plain": [
       "121450"
      ]
     },
     "execution_count": 205,
     "metadata": {},
     "output_type": "execute_result"
    }
   ],
   "source": [
    "def parse11(data, ops):\n",
    "  monkeys, divisor = [], 1\n",
    "\n",
    "  class Monkey:\n",
    "    def __init__(self, items, op, n, a, b):\n",
    "      self.items = items\n",
    "      self.operation = op\n",
    "      self.n = n\n",
    "      self.a = a\n",
    "      self.b = b\n",
    "      self.count = 0\n",
    "\n",
    "    def run(self, flag=False):\n",
    "      t, f = monkeys[self.a], monkeys[self.b]\n",
    "      for old in self.items:\n",
    "        new = (self.operation(old) // (1 if flag else 3)) % divisor\n",
    "        (f if new%self.n else t).items.append(new)\n",
    "        self.count += 1\n",
    "      self.items = []\n",
    "\n",
    "    def __repr__(self):\n",
    "      return f'{self.count}, {self.items}'\n",
    "\n",
    "  monkey = {}\n",
    "  for line in data:\n",
    "    if not line:\n",
    "      monkeys.append(Monkey(**monkey))\n",
    "    if m := re.match('Starting items: ([\\d+, ]+)', line):\n",
    "      monkey['items'] = [int(x) for x in m[1].split(', ')]\n",
    "    elif m:= re.match('Operation: new = old (.) (.+)', line):\n",
    "      monkey['op'] = ops[len(monkeys)]\n",
    "    elif m:= re.match('Test: divisible by (\\d+)', line):\n",
    "      monkey['n'] = int(m[1])\n",
    "      divisor *= monkey['n']\n",
    "    elif m:= re.match('If true: throw to monkey (\\d)', line):\n",
    "      monkey['a'] = int(m[1])\n",
    "    elif m:= re.match('If false: throw to monkey (\\d)', line):\n",
    "      monkey['b'] = int(m[1])\n",
    "  monkeys.append(Monkey(**monkey))\n",
    "  return monkeys\n",
    "\n",
    "def day11(data, rounds, flag=False):\n",
    "  monkeys = parse11(*data)\n",
    "  for _ in range(rounds):\n",
    "    for monkey in monkeys:\n",
    "      monkey.run(flag)\n",
    "  activity = sorted(monkeys, key=lambda x: x.count, reverse=True)\n",
    "  return activity[0].count * activity[1].count\n",
    "\n",
    "day11(data11, 20)"
   ]
  },
  {
   "cell_type": "code",
   "execution_count": 204,
   "metadata": {},
   "outputs": [
    {
     "data": {
      "text/plain": [
       "28244037010"
      ]
     },
     "execution_count": 204,
     "metadata": {},
     "output_type": "execute_result"
    }
   ],
   "source": [
    "day11(data11, 10000, True)"
   ]
  },
  {
   "cell_type": "markdown",
   "metadata": {},
   "source": [
    "# Day 12"
   ]
  },
  {
   "cell_type": "code",
   "execution_count": 41,
   "metadata": {},
   "outputs": [
    {
     "data": {
      "text/plain": [
       "339"
      ]
     },
     "execution_count": 41,
     "metadata": {},
     "output_type": "execute_result"
    }
   ],
   "source": [
    "def remap12(c):\n",
    "  return 0 if c == 'S' else (25 if c == 'E' else ord(c) - ord('a'))\n",
    "\n",
    "def parse12(data):\n",
    "  start, end, result = 0, 0, []\n",
    "  for i, line in enumerate(data):\n",
    "    if 'S' in line:\n",
    "      start = (line.find('S'), i)\n",
    "    if 'E' in line:\n",
    "      end = (line.find('E'), i)\n",
    "    result.append([remap12(c) for c in line])\n",
    "\n",
    "  x_m, y_m = len(result[0]), len(result)\n",
    "  def find_routes(current, i):\n",
    "    x, y = current\n",
    "    options = filter(lambda x: x[0] >= 0 and x[1] >= 0 and x[0] < x_m and x[1] < y_m, [(x, y+1), (x, y-1), (x+1, y), (x-1, y)])\n",
    "    target = result[y][x] -1\n",
    "    return [(coord, i+1) for coord in filter(lambda x: result[x[1]][x[0]] >= target, options)]\n",
    "\n",
    "  return start, end, find_routes\n",
    "\n",
    "data12 = data(12)\n",
    "start, end, find_routes = parse12(data12)\n",
    "\n",
    "def dijkstra(start, end, route_finder, cache={}):\n",
    "  visited, q = set(start), deque(route_finder(start, 0))\n",
    "  while q:\n",
    "    current, i = q.popleft()\n",
    "    if current == end:\n",
    "      return i\n",
    "    for option, j in route_finder(current, i):\n",
    "      if option not in visited:\n",
    "        q.append((option, j))\n",
    "        cache[option] = j\n",
    "      visited.add(option)\n",
    "  return np.Inf\n",
    "\n",
    "dijkstra(end, start, find_routes)"
   ]
  },
  {
   "cell_type": "code",
   "execution_count": 55,
   "metadata": {},
   "outputs": [
    {
     "data": {
      "text/plain": [
       "332"
      ]
     },
     "execution_count": 55,
     "metadata": {},
     "output_type": "execute_result"
    }
   ],
   "source": [
    "def find_starts(data):\n",
    "  starts = []\n",
    "  for y, line in enumerate(data):\n",
    "    for x, c in enumerate(line):\n",
    "      if c == 'a' or c == 'S':\n",
    "        starts.append((x, y))\n",
    "  return sorted(starts, key=lambda x: abs(x[0]-end[0]) + abs(x[1]-end[1]), reverse=True)\n",
    "\n",
    "cache = {}\n",
    "starts = find_starts(data12)\n",
    "for start in starts:\n",
    "  result = dijkstra(end, start, find_routes, cache)\n",
    "  if result == np.Inf:\n",
    "    break\n",
    "min([cache.get(start, np.Inf) for start in starts])"
   ]
  },
  {
   "cell_type": "markdown",
   "metadata": {},
   "source": [
    "# Day 13"
   ]
  },
  {
   "cell_type": "code",
   "execution_count": 4,
   "metadata": {},
   "outputs": [],
   "source": [
    "def parse13(data):\n",
    "  current, pairs = None, []\n",
    "  for line in data:\n",
    "    if not line:\n",
    "      continue\n",
    "    if not isinstance(current, list):\n",
    "      current = json.loads(line)\n",
    "    else:\n",
    "      pairs.append((current, json.loads(line)))\n",
    "      current = None\n",
    "  return pairs\n",
    "\n",
    "data13 = parse13(data(13))"
   ]
  },
  {
   "cell_type": "code",
   "execution_count": 6,
   "metadata": {},
   "outputs": [
    {
     "data": {
      "text/plain": [
       "5366"
      ]
     },
     "execution_count": 6,
     "metadata": {},
     "output_type": "execute_result"
    }
   ],
   "source": [
    "def compare_int(a, b):\n",
    "  if a == b:\n",
    "    return 0\n",
    "  return -1 if a < b else 1\n",
    "\n",
    "def make_list(item):\n",
    "  if isinstance(item, list):\n",
    "    return item\n",
    "  return [item]\n",
    "\n",
    "def compare_list(a, b):\n",
    "  for i in range(min(len(a), len(b))):\n",
    "    if result := compare(a[i], b[i]):\n",
    "      return result\n",
    "  if len(a) == len(b):\n",
    "    return 0\n",
    "  return -1 if len(a) < len(b) else 1\n",
    "\n",
    "def compare(a, b):\n",
    "  if isinstance(a, list) or isinstance(b, list):\n",
    "    return compare_list(make_list(a), make_list(b))\n",
    "  return compare_int(a, b)\n",
    "\n",
    "def day13(data):\n",
    "  sum = 0\n",
    "  for i, pair in enumerate(data):\n",
    "    if compare(*pair) == -1:\n",
    "      sum += i+1\n",
    "  return sum\n",
    "\n",
    "day13(data13)"
   ]
  },
  {
   "cell_type": "code",
   "execution_count": 7,
   "metadata": {},
   "outputs": [
    {
     "data": {
      "text/plain": [
       "23391"
      ]
     },
     "execution_count": 7,
     "metadata": {},
     "output_type": "execute_result"
    }
   ],
   "source": [
    "def day13_2(data):\n",
    "  dividers = ([[2]], [[6]])\n",
    "  data = reduce(lambda x, y: x+list(y), data13 + [dividers], [])\n",
    "  result = sorted(data, key=cmp_to_key(compare))\n",
    "  indices = [result.index(x)+1 for x in dividers]\n",
    "  return indices[0]*indices[1]\n",
    "\n",
    "day13_2(data13)"
   ]
  },
  {
   "cell_type": "markdown",
   "metadata": {},
   "source": [
    "# Day 14"
   ]
  },
  {
   "cell_type": "code",
   "execution_count": 53,
   "metadata": {},
   "outputs": [],
   "source": [
    "def parse14(data):\n",
    "  results, bottom = set(), 0\n",
    "  for line in data:\n",
    "    coordinates = [[int(x) for x in coord.split(',')] for coord in line.split(' -> ')]\n",
    "    x1, y1 = coordinates[0]\n",
    "    for (x2, y2) in coordinates[1:]:\n",
    "      for i in range(min(x1, x2), max(x1,x2)+1):\n",
    "        for j in range(min(y1, y2), max(y1,y2)+1):\n",
    "          results.add((i, j))\n",
    "      bottom = max(bottom, j)\n",
    "      x1, y1 = x2, y2\n",
    "  return results, bottom\n",
    "  \n",
    "data14 = parse14(data(14))"
   ]
  },
  {
   "cell_type": "code",
   "execution_count": 54,
   "metadata": {},
   "outputs": [
    {
     "data": {
      "text/plain": [
       "(1061, 25055)"
      ]
     },
     "execution_count": 54,
     "metadata": {},
     "output_type": "execute_result"
    }
   ],
   "source": [
    "def day14(sand, bottom, flag=False):  \n",
    "  sand, start, initial, path = sand.copy(), (500, 0), len(sand), deque()\n",
    "  while start not in sand:\n",
    "    x, y = path.pop() if path else start\n",
    "    while (x, y) not in sand:\n",
    "      for candidate in ((x, y+1), (x-1, y+1), (x+1, y+1)):\n",
    "        if candidate not in sand:\n",
    "          path.append(candidate)\n",
    "          x, y = candidate\n",
    "          break\n",
    "      if candidate in sand or candidate[1] > bottom:\n",
    "        sand.add((x, y))\n",
    "    if not flag and candidate[1] > bottom:\n",
    "      break\n",
    "  return len(sand) - initial - (1 if not flag else 0)\n",
    "\n",
    "day14(*data14), day14(*data14, True)"
   ]
  },
  {
   "cell_type": "markdown",
   "metadata": {},
   "source": [
    "# Day 15"
   ]
  },
  {
   "cell_type": "code",
   "execution_count": 151,
   "metadata": {},
   "outputs": [],
   "source": [
    "def parse15(data):\n",
    "  sensors, beacons = [], []\n",
    "  for line in data:\n",
    "    match = re.match('Sensor at x=(-?\\d+), y=(-?\\d+): closest beacon is at x=(-?\\d+), y=(-?\\d+)', line)\n",
    "    sensors.append((int(match[1]), int(match[2])))\n",
    "    beacons.append((int(match[3]), int(match[4])))\n",
    "  return np.vstack(sensors), np.vstack(beacons)\n",
    "\n",
    "data15 = parse15(data(15))"
   ]
  },
  {
   "cell_type": "code",
   "execution_count": 153,
   "metadata": {},
   "outputs": [],
   "source": [
    "def day15(sensors, beacons, target=2000000):\n",
    "  tree = intervaltree.IntervalTree()\n",
    "  for sensor, beacon in zip(sensors, beacons):\n",
    "    distance = abs(sensor[0]-beacon[0]) + abs(sensor[1] - beacon[1])\n",
    "    for i in range(distance+1):\n",
    "      if sensor[1] + i == target or sensor[1] - i == target:\n",
    "        tree.addi(sensor[0] - distance + i, sensor[0] + distance - i + 1)\n",
    "  return tree\n",
    "\n",
    "sensor_ranges = day15(*data15, 10)"
   ]
  },
  {
   "cell_type": "code",
   "execution_count": 157,
   "metadata": {},
   "outputs": [
    {
     "data": {
      "text/plain": [
       "IntervalTree([Interval(-2, 25)])"
      ]
     },
     "execution_count": 157,
     "metadata": {},
     "output_type": "execute_result"
    }
   ],
   "source": [
    "sensor_ranges.merge_overlaps()\n",
    "sensor_ranges"
   ]
  },
  {
   "cell_type": "code",
   "execution_count": 145,
   "metadata": {},
   "outputs": [
    {
     "data": {
      "text/plain": [
       "26"
      ]
     },
     "execution_count": 145,
     "metadata": {},
     "output_type": "execute_result"
    }
   ],
   "source": [
    "sensor_ranges[10].merge_overlaps()\n",
    "sensor_ranges[10].end() - sensor_ranges[10].begin() - 1"
   ]
  },
  {
   "cell_type": "code",
   "execution_count": 92,
   "metadata": {},
   "outputs": [],
   "source": [
    "import intervaltree\n",
    "t = intervaltree.IntervalTree()\n",
    "t[10:11] = 2\n",
    "t[4:6] = 1\n",
    "t[0:5] = 1\n",
    "t.merge_overlaps()"
   ]
  },
  {
   "cell_type": "code",
   "execution_count": 90,
   "metadata": {},
   "outputs": [
    {
     "data": {
      "text/plain": [
       "IntervalTree([Interval(0, 6), Interval(10, 11, 2)])"
      ]
     },
     "execution_count": 90,
     "metadata": {},
     "output_type": "execute_result"
    }
   ],
   "source": [
    "t"
   ]
  },
  {
   "cell_type": "code",
   "execution_count": 11,
   "metadata": {},
   "outputs": [],
   "source": [
    "tau = 2*np.pi\n",
    "\n",
    "rotation = np.array([[np.cos(tau/8), -np.sin(tau/8)],[np.sin(tau/8), np.cos(tau/8)]])\n",
    "undo = np.array([[np.cos(-tau/8), -np.sin(-tau/8)],[np.sin(-tau/8), np.cos(-tau/8)]])\n",
    "\n",
    "sensors, beacons = (rotation @ data15[0]).transpose(), (rotation @ data15[1]).transpose()\n"
   ]
  },
  {
   "cell_type": "code",
   "execution_count": 14,
   "metadata": {},
   "outputs": [
    {
     "data": {
      "text/plain": [
       "(array([[-11.3137085 ,  14.14213562],\n",
       "        [ -4.94974747,  17.67766953],\n",
       "        [  7.77817459,  10.60660172],\n",
       "        [ -1.41421356,  18.38477631],\n",
       "        [ -7.07106781,  21.21320344],\n",
       "        [ -2.12132034,  21.92031022],\n",
       "        [  0.70710678,  10.60660172],\n",
       "        [  1.41421356,   1.41421356],\n",
       "        [ -7.77817459,   7.77817459],\n",
       "        [  4.24264069,  24.04163056],\n",
       "        [ -2.12132034,  26.1629509 ],\n",
       "        [  6.36396103,  16.26345597],\n",
       "        [  7.77817459,  12.02081528],\n",
       "        [ 13.43502884,  14.8492424 ]]),\n",
       " array([[-12.02081528,   9.19238816],\n",
       "        [ -4.24264069,  18.38477631],\n",
       "        [  8.48528137,  12.72792206],\n",
       "        [ -4.24264069,  18.38477631],\n",
       "        [ -4.24264069,  18.38477631],\n",
       "        [ -4.24264069,  18.38477631],\n",
       "        [ -5.65685425,   8.48528137],\n",
       "        [ -5.65685425,   8.48528137],\n",
       "        [ -5.65685425,   8.48528137],\n",
       "        [  5.65685425,  29.69848481],\n",
       "        [ -0.70710678,  30.40559159],\n",
       "        [  8.48528137,  12.72792206],\n",
       "        [  8.48528137,  12.72792206],\n",
       "        [  8.48528137,  12.72792206]]))"
      ]
     },
     "execution_count": 14,
     "metadata": {},
     "output_type": "execute_result"
    }
   ],
   "source": [
    "sensors, beacons"
   ]
  },
  {
   "cell_type": "code",
   "execution_count": 65,
   "metadata": {},
   "outputs": [],
   "source": [
    "def pairwise(iterable):\n",
    "    # https://docs.python.org/dev/library/itertools.html#recipes\n",
    "    a, b = itertools.tee(iterable)\n",
    "    next(b, None)\n",
    "    return zip(a, b)\n",
    "    \n",
    "# https://stackoverflow.com/questions/25068538/intersection-and-difference-of-two-rectangles\n",
    "class Rectangle:\n",
    "    def __init__(self, x1, y1, x2, y2):\n",
    "      self.x1 = min(x1, x2)\n",
    "      self.x2 = max(x1, x2)\n",
    "      self.y1 = min(y1, y2)\n",
    "      self.y2 = max(y1, y2)\n",
    "\n",
    "    def intersection(self, other):\n",
    "        a, b = self, other\n",
    "        x1 = max(min(a.x1, a.x2), min(b.x1, b.x2))\n",
    "        y1 = max(min(a.y1, a.y2), min(b.y1, b.y2))\n",
    "        x2 = min(max(a.x1, a.x2), max(b.x1, b.x2))\n",
    "        y2 = min(max(a.y1, a.y2), max(b.y1, b.y2))\n",
    "        if x1<x2 and y1<y2:\n",
    "            return type(self)(x1, y1, x2, y2)\n",
    "    __and__ = intersection\n",
    "\n",
    "    def difference(self, other):\n",
    "        inter = self&other\n",
    "        if not inter:\n",
    "            yield self\n",
    "            return\n",
    "        xs = {self.x1, self.x2}\n",
    "        ys = {self.y1, self.y2}\n",
    "        if self.x1<other.x1<self.x2: xs.add(other.x1)\n",
    "        if self.x1<other.x2<self.x2: xs.add(other.x2)\n",
    "        if self.y1<other.y1<self.y2: ys.add(other.y1)\n",
    "        if self.y1<other.y2<self.y2: ys.add(other.y2)\n",
    "        for (x1, x2), (y1, y2) in itertools.product(\n",
    "            pairwise(sorted(xs)), pairwise(sorted(ys))\n",
    "        ):\n",
    "            rect = type(self)(x1, y1, x2, y2)\n",
    "            if rect!=inter:\n",
    "                yield rect\n",
    "    __sub__ = difference\n",
    "\n",
    "    def __init__(self, x1, y1, x2, y2):\n",
    "        if x1>x2 or y1>y2:\n",
    "            raise ValueError(\"Coordinates are invalid\")\n",
    "        self.x1, self.y1, self.x2, self.y2 = x1, y1, x2, y2\n",
    "\n",
    "    def __iter__(self):\n",
    "        yield self.x1\n",
    "        yield self.y1\n",
    "        yield self.x2\n",
    "        yield self.y2\n",
    "\n",
    "    def area(self):\n",
    "      return (self.y2 - self.y1) * (self.x2 - self.x1)\n",
    "\n",
    "    def __eq__(self, other):\n",
    "        return isinstance(other, Rectangle) and tuple(self)==tuple(other)\n",
    "    def __ne__(self, other):\n",
    "        return not (self==other)\n",
    "    def __repr__(self):\n",
    "        return type(self).__name__+repr(tuple(self))\n",
    "\n"
   ]
  },
  {
   "cell_type": "code",
   "execution_count": 104,
   "metadata": {},
   "outputs": [
    {
     "data": {
      "text/plain": [
       "91.94112549695426"
      ]
     },
     "execution_count": 104,
     "metadata": {},
     "output_type": "execute_result"
    }
   ],
   "source": [
    "rectangles = []\n",
    "for i, sensor in enumerate(sensors):\n",
    "  beacon = tuple(beacons[i])\n",
    "  mirror = (2*sensor[0] - beacon[0], 2*sensor[1] - beacon[1])\n",
    "  rectangles.append(Rectangle(\n",
    "    min(mirror[0], beacon[0])-1, \n",
    "    min(mirror[1], beacon[1])-1, \n",
    "    max(mirror[0], beacon[0])+1, \n",
    "    max(mirror[1], beacon[1])+1\n",
    "  ))\n",
    "rectangles[6].area()"
   ]
  },
  {
   "cell_type": "code",
   "execution_count": 76,
   "metadata": {},
   "outputs": [],
   "source": [
    "intersections = 0\n",
    "for i in range(len(rectangles)):\n",
    "  for j in range(i+1, len(rectangles)):\n",
    "    if double := rectangles[i].intersection(rectangles[j]):\n",
    "      intersections += double.area()"
   ]
  },
  {
   "cell_type": "code",
   "execution_count": 79,
   "metadata": {},
   "outputs": [
    {
     "data": {
      "text/plain": [
       "474.00000000000006"
      ]
     },
     "execution_count": 79,
     "metadata": {},
     "output_type": "execute_result"
    }
   ],
   "source": [
    "sum([rectangle.area() for rectangle in rectangles])"
   ]
  },
  {
   "cell_type": "code",
   "execution_count": 101,
   "metadata": {},
   "outputs": [
    {
     "data": {
      "text/plain": [
       "53.999999999999986"
      ]
     },
     "execution_count": 101,
     "metadata": {},
     "output_type": "execute_result"
    }
   ],
   "source": [
    "rectangles[6].area()"
   ]
  },
  {
   "cell_type": "code",
   "execution_count": 102,
   "metadata": {},
   "outputs": [
    {
     "data": {
      "text/plain": [
       "Rectangle(-5.65685424949238, 8.485281374238571, 7.071067811865476, 12.727922061357855)"
      ]
     },
     "execution_count": 102,
     "metadata": {},
     "output_type": "execute_result"
    }
   ],
   "source": [
    "rectangles[6]"
   ]
  }
 ],
 "metadata": {
  "kernelspec": {
   "display_name": "Python 3.11.0 64-bit",
   "language": "python",
   "name": "python3"
  },
  "language_info": {
   "codemirror_mode": {
    "name": "ipython",
    "version": 3
   },
   "file_extension": ".py",
   "mimetype": "text/x-python",
   "name": "python",
   "nbconvert_exporter": "python",
   "pygments_lexer": "ipython3",
   "version": "3.11.0"
  },
  "orig_nbformat": 4,
  "vscode": {
   "interpreter": {
    "hash": "ca3ed784184f1b3bb7c3539bfb45e71710cd27667424f92c2d5bb4df9c107c23"
   }
  }
 },
 "nbformat": 4,
 "nbformat_minor": 2
}
