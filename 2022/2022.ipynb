{
 "cells": [
  {
   "cell_type": "code",
   "execution_count": 1,
   "metadata": {},
   "outputs": [],
   "source": [
    "# Imports\n",
    "\n",
    "from collections import defaultdict, Counter, deque\n",
    "import itertools\n",
    "from functools import lru_cache\n",
    "import json\n",
    "import numpy as np\n",
    "import numpy.typing as npt\n",
    "import re\n",
    "from sortedcontainers import SortedList\n",
    "from typing import Callable, TypeVar, Union, Optional\n",
    "\n",
    "T = TypeVar('T')\n",
    "\n",
    "# Helper functions\n",
    "\n",
    "def data(day: int, parser: Callable[[str], T] = str) -> list[T]:\n",
    "  with open(f\"./data/day{day}.txt\") as f:\n",
    "    return [parser(line.strip()) for line in f.readlines()]\n",
    "\n",
    "def split_csv_row(row: str) -> list[int]:\n",
    "  return [int(x) for x in row.split(',')]\n",
    "\n",
    "def split_int_row(row: str) -> list[int]:\n",
    "  return [int(x) for x in row]"
   ]
  },
  {
   "cell_type": "markdown",
   "metadata": {},
   "source": [
    "# Day 1"
   ]
  },
  {
   "cell_type": "code",
   "execution_count": 19,
   "metadata": {},
   "outputs": [],
   "source": [
    "def parse_day1(data):\n",
    "  elves = SortedList()\n",
    "  current = 0\n",
    "  for food in data:\n",
    "    if not food:\n",
    "      elves.add(current)\n",
    "      current = 0\n",
    "    else:\n",
    "      current += int(food)\n",
    "  return elves\n",
    "\n",
    "data1 = parse_day1(data(1))"
   ]
  },
  {
   "cell_type": "code",
   "execution_count": 21,
   "metadata": {},
   "outputs": [
    {
     "data": {
      "text/plain": [
       "71780"
      ]
     },
     "execution_count": 21,
     "metadata": {},
     "output_type": "execute_result"
    }
   ],
   "source": [
    "data1[-1]"
   ]
  },
  {
   "cell_type": "code",
   "execution_count": 23,
   "metadata": {},
   "outputs": [
    {
     "data": {
      "text/plain": [
       "212489"
      ]
     },
     "execution_count": 23,
     "metadata": {},
     "output_type": "execute_result"
    }
   ],
   "source": [
    "sum(data1[-3:])"
   ]
  },
  {
   "cell_type": "markdown",
   "metadata": {},
   "source": [
    "# Day 2"
   ]
  },
  {
   "cell_type": "code",
   "execution_count": 9,
   "metadata": {},
   "outputs": [
    {
     "data": {
      "text/plain": [
       "Counter({'A Z': 201,\n",
       "         'C Z': 624,\n",
       "         'A X': 328,\n",
       "         'B Z': 384,\n",
       "         'C X': 461,\n",
       "         'C Y': 170,\n",
       "         'B X': 133,\n",
       "         'B Y': 161,\n",
       "         'A Y': 38})"
      ]
     },
     "execution_count": 9,
     "metadata": {},
     "output_type": "execute_result"
    }
   ],
   "source": [
    "def parse2(data):\n",
    "  result = Counter()\n",
    "  for round in data:\n",
    "    result[round] += 1\n",
    "  return result\n",
    "data2 = parse2(data(2))\n",
    "data2"
   ]
  },
  {
   "cell_type": "code",
   "execution_count": 11,
   "metadata": {},
   "outputs": [
    {
     "data": {
      "text/plain": [
       "13924"
      ]
     },
     "execution_count": 11,
     "metadata": {},
     "output_type": "execute_result"
    }
   ],
   "source": [
    "score = {\n",
    "  'A X': 3 + 1, # Rock Rock\n",
    "  'A Y': 6 + 2, # Rock Paper\n",
    "  'A Z': 0 + 3, # Rock Scissor\n",
    "  'B X': 0 + 1, # Paper Rock\n",
    "  'B Y': 3 + 2, # Paper Paper\n",
    "  'B Z': 6 + 3, # Paper Scissor\n",
    "  'C X': 6 + 1, # Scissor Rock\n",
    "  'C Y': 0 + 2, # Scissor Paper\n",
    "  'C Z': 3 + 3, # Scissor Scissor\n",
    "}\n",
    "sum([score[x]*data2[x] for x in data2])"
   ]
  },
  {
   "cell_type": "code",
   "execution_count": 12,
   "metadata": {},
   "outputs": [
    {
     "data": {
      "text/plain": [
       "13448"
      ]
     },
     "execution_count": 12,
     "metadata": {},
     "output_type": "execute_result"
    }
   ],
   "source": [
    "score = {\n",
    "  'A X': 0 + 3, # Rock Lose Sciss\n",
    "  'A Y': 3 + 1, # Rock Draw Rock\n",
    "  'A Z': 6 + 2, # Rock Win Paper\n",
    "  'B X': 0 + 1, # Paper Lose Rock\n",
    "  'B Y': 3 + 2, # Paper Draw Paper\n",
    "  'B Z': 6 + 3, # Paper Win Sciss\n",
    "  'C X': 0 + 2, # Scissor Lose Paper\n",
    "  'C Y': 3 + 3, # Scissor Draw Sciss\n",
    "  'C Z': 6 + 1, # Scissor Win Rock\n",
    "}\n",
    "sum([score[x]*data2[x] for x in data2])"
   ]
  },
  {
   "cell_type": "markdown",
   "metadata": {},
   "source": [
    "# Day 3"
   ]
  },
  {
   "cell_type": "code",
   "execution_count": null,
   "metadata": {},
   "outputs": [],
   "source": []
  }
 ],
 "metadata": {
  "kernelspec": {
   "display_name": "Python 3.11.0 ('.venv': poetry)",
   "language": "python",
   "name": "python3"
  },
  "language_info": {
   "codemirror_mode": {
    "name": "ipython",
    "version": 3
   },
   "file_extension": ".py",
   "mimetype": "text/x-python",
   "name": "python",
   "nbconvert_exporter": "python",
   "pygments_lexer": "ipython3",
   "version": "3.11.0"
  },
  "orig_nbformat": 4,
  "vscode": {
   "interpreter": {
    "hash": "728fda44ccb96f2ef97227e2e00831284321f32932a1624dced75e1d30908e3d"
   }
  }
 },
 "nbformat": 4,
 "nbformat_minor": 2
}
