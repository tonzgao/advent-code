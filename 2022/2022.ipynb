{
 "cells": [
  {
   "cell_type": "code",
   "execution_count": 1,
   "metadata": {},
   "outputs": [],
   "source": [
    "# Imports\n",
    "from collections import defaultdict, Counter, deque\n",
    "from functools import lru_cache, reduce, cmp_to_key\n",
    "from intervaltree import IntervalTree\n",
    "import itertools\n",
    "import json\n",
    "import math\n",
    "import networkx as nx\n",
    "import numpy as np\n",
    "import numpy.typing as npt\n",
    "import re\n",
    "from sortedcontainers import SortedList\n",
    "import time\n",
    "from typing import Callable, TypeVar, Union, Optional\n",
    "\n",
    "\n",
    "T = TypeVar('T')\n",
    "\n",
    "# Helper functions\n",
    "\n",
    "def data(day: int, parser: Callable[[str], T] = str) -> list[T]:\n",
    "  with open(f\"./data/day{day}.txt\") as f:\n",
    "    return [parser(line.strip()) for line in f.readlines()]\n",
    "\n",
    "def split_csv_row(row: str) -> list[int]:\n",
    "  return [int(x) for x in row.split(',')]\n",
    "\n",
    "def split_int_row(row: str) -> list[int]:\n",
    "  return [int(x) for x in row]"
   ]
  },
  {
   "cell_type": "code",
   "execution_count": 299,
   "metadata": {},
   "outputs": [
    {
     "name": "stdout",
     "output_type": "stream",
     "text": [
      "True\n"
     ]
    }
   ],
   "source": [
    "a = True\n",
    "if (b := a) and True:\n",
    "  print(b)"
   ]
  },
  {
   "cell_type": "markdown",
   "metadata": {},
   "source": [
    "# Day 1"
   ]
  },
  {
   "cell_type": "code",
   "execution_count": 300,
   "metadata": {},
   "outputs": [],
   "source": [
    "def parse_day1(data):\n",
    "  elves = SortedList()\n",
    "  current = 0\n",
    "  for food in data:\n",
    "    if not food:\n",
    "      elves.add(current)\n",
    "      current = 0\n",
    "    else:\n",
    "      current += int(food)\n",
    "  return elves\n",
    "\n",
    "data1 = parse_day1(data(1))"
   ]
  },
  {
   "cell_type": "code",
   "execution_count": 301,
   "metadata": {},
   "outputs": [
    {
     "data": {
      "text/plain": [
       "71780"
      ]
     },
     "execution_count": 301,
     "metadata": {},
     "output_type": "execute_result"
    }
   ],
   "source": [
    "data1[-1]"
   ]
  },
  {
   "cell_type": "code",
   "execution_count": 302,
   "metadata": {},
   "outputs": [
    {
     "data": {
      "text/plain": [
       "212489"
      ]
     },
     "execution_count": 302,
     "metadata": {},
     "output_type": "execute_result"
    }
   ],
   "source": [
    "sum(data1[-3:])"
   ]
  },
  {
   "cell_type": "markdown",
   "metadata": {},
   "source": [
    "# Day 2"
   ]
  },
  {
   "cell_type": "code",
   "execution_count": 303,
   "metadata": {},
   "outputs": [],
   "source": [
    "def parse2(data):\n",
    "  result = Counter()\n",
    "  for round in data:\n",
    "    result[round] += 1\n",
    "  return result\n",
    "data2 = parse2(data(2))"
   ]
  },
  {
   "cell_type": "code",
   "execution_count": 304,
   "metadata": {},
   "outputs": [
    {
     "data": {
      "text/plain": [
       "13924"
      ]
     },
     "execution_count": 304,
     "metadata": {},
     "output_type": "execute_result"
    }
   ],
   "source": [
    "score = {\n",
    "  'A X': 3 + 1, # Rock Rock\n",
    "  'A Y': 6 + 2, # Rock Paper\n",
    "  'A Z': 0 + 3, # Rock Scissor\n",
    "  'B X': 0 + 1, # Paper Rock\n",
    "  'B Y': 3 + 2, # Paper Paper\n",
    "  'B Z': 6 + 3, # Paper Scissor\n",
    "  'C X': 6 + 1, # Scissor Rock\n",
    "  'C Y': 0 + 2, # Scissor Paper\n",
    "  'C Z': 3 + 3, # Scissor Scissor\n",
    "}\n",
    "sum([score[x]*data2[x] for x in data2])"
   ]
  },
  {
   "cell_type": "code",
   "execution_count": 305,
   "metadata": {},
   "outputs": [
    {
     "data": {
      "text/plain": [
       "13448"
      ]
     },
     "execution_count": 305,
     "metadata": {},
     "output_type": "execute_result"
    }
   ],
   "source": [
    "score = {\n",
    "  'A X': 0 + 3, # Rock Lose Sciss\n",
    "  'A Y': 3 + 1, # Rock Draw Rock\n",
    "  'A Z': 6 + 2, # Rock Win Paper\n",
    "  'B X': 0 + 1, # Paper Lose Rock\n",
    "  'B Y': 3 + 2, # Paper Draw Paper\n",
    "  'B Z': 6 + 3, # Paper Win Sciss\n",
    "  'C X': 0 + 2, # Scissor Lose Paper\n",
    "  'C Y': 3 + 3, # Scissor Draw Sciss\n",
    "  'C Z': 6 + 1, # Scissor Win Rock\n",
    "}\n",
    "sum([score[x]*data2[x] for x in data2])"
   ]
  },
  {
   "cell_type": "markdown",
   "metadata": {},
   "source": [
    "# Day 3"
   ]
  },
  {
   "cell_type": "code",
   "execution_count": 306,
   "metadata": {},
   "outputs": [],
   "source": [
    "data3 = data(3)\n",
    "\n",
    "def item_priority(item):\n",
    "  if ord(item) > 96:\n",
    "    return ord(item) - 96\n",
    "  return ord(item) - 38"
   ]
  },
  {
   "cell_type": "code",
   "execution_count": 307,
   "metadata": {},
   "outputs": [
    {
     "data": {
      "text/plain": [
       "7727"
      ]
     },
     "execution_count": 307,
     "metadata": {},
     "output_type": "execute_result"
    }
   ],
   "source": [
    "def rucksack_items(rucksack):\n",
    "  length = len(rucksack)//2\n",
    "  return rucksack[:length], rucksack[length:]\n",
    "  \n",
    "def day3(data):\n",
    "  sum = 0\n",
    "  for x in data:\n",
    "    a, b = rucksack_items(x)\n",
    "    sum += item_priority(list(set(a).intersection(set(b)))[0])\n",
    "  return sum\n",
    "\n",
    "day3(data3)"
   ]
  },
  {
   "cell_type": "code",
   "execution_count": 308,
   "metadata": {},
   "outputs": [
    {
     "data": {
      "text/plain": [
       "2609"
      ]
     },
     "execution_count": 308,
     "metadata": {},
     "output_type": "execute_result"
    }
   ],
   "source": [
    "def day3_2(data):\n",
    "  sum = 0\n",
    "  for i in range(len(data)//3):\n",
    "    a, b, c = data[i*3:i*3+3]\n",
    "    common = set(a).intersection(set(b)).intersection(set(c))\n",
    "    sum += item_priority(list(common)[0])\n",
    "  return sum\n",
    "\n",
    "day3_2(data3)"
   ]
  },
  {
   "cell_type": "markdown",
   "metadata": {},
   "source": [
    "# Day 4"
   ]
  },
  {
   "cell_type": "code",
   "execution_count": 309,
   "metadata": {},
   "outputs": [],
   "source": [
    "data4 = data(4)"
   ]
  },
  {
   "cell_type": "code",
   "execution_count": 310,
   "metadata": {},
   "outputs": [
    {
     "data": {
      "text/plain": [
       "602"
      ]
     },
     "execution_count": 310,
     "metadata": {},
     "output_type": "execute_result"
    }
   ],
   "source": [
    "def has_envelop(a, b):\n",
    "  return a[0] <= b[0] and a[1] >= b[1]\n",
    "\n",
    "def day4(data, f):\n",
    "  count = 0\n",
    "  for i in data:\n",
    "    a, b = [[int(x) for x in elf.split('-')] for elf in i.split(',')]\n",
    "    count += f(a, b) or f(b, a)\n",
    "  return count\n",
    "\n",
    "day4(data4, has_envelop)"
   ]
  },
  {
   "cell_type": "code",
   "execution_count": 311,
   "metadata": {},
   "outputs": [
    {
     "data": {
      "text/plain": [
       "891"
      ]
     },
     "execution_count": 311,
     "metadata": {},
     "output_type": "execute_result"
    }
   ],
   "source": [
    "def has_overlap(a, b):\n",
    "  return (a[0] <= b[0] and a[1] >= b[0]) or (a[0] >= b[0] and a[0] <= b[1])\n",
    "\n",
    "day4(data4, has_overlap)"
   ]
  },
  {
   "cell_type": "markdown",
   "metadata": {},
   "source": [
    "# Day 5"
   ]
  },
  {
   "cell_type": "code",
   "execution_count": 312,
   "metadata": {},
   "outputs": [
    {
     "data": {
      "text/plain": [
       "'RFFFWBPNS'"
      ]
     },
     "execution_count": 312,
     "metadata": {},
     "output_type": "execute_result"
    }
   ],
   "source": [
    "def make_move(positions, count, start, end):\n",
    "  if count == 0:\n",
    "    return\n",
    "  item = positions[start].popleft()\n",
    "  positions[end].appendleft(item)\n",
    "  return make_move(positions, count-1, start, end)\n",
    "\n",
    "def read_top(positions):\n",
    "  return ''.join([positions[i][0] for i in range(len(positions))])\n",
    "\n",
    "def day5(make_move):\n",
    "  def parse5():\n",
    "    with open('./data/day5.txt') as f:\n",
    "      lines = f.readlines()\n",
    "    positions = defaultdict(lambda: deque())\n",
    "    line_length = len(lines[0])\n",
    "    for n, line in enumerate(lines):\n",
    "      for i in range(line_length//4):\n",
    "        item = line[i*4:i*4+4].strip()\n",
    "        if item == '1':\n",
    "          return positions, lines[n+2:]\n",
    "        if item:\n",
    "          positions[i].append(re.match('\\[([A-Z])\\]', item)[1])\n",
    "  positions, moves = parse5()\n",
    "  for turn in moves:\n",
    "    result = re.match('move (\\d+) from (\\d) to (\\d)', turn)\n",
    "    make_move(positions, int(result[1]), int(result[2])-1, int(result[3])-1)\n",
    "  return read_top(positions)\n",
    "\n",
    "day5(make_move)"
   ]
  },
  {
   "cell_type": "code",
   "execution_count": 313,
   "metadata": {},
   "outputs": [
    {
     "data": {
      "text/plain": [
       "'CQQBBJFCS'"
      ]
     },
     "execution_count": 313,
     "metadata": {},
     "output_type": "execute_result"
    }
   ],
   "source": [
    "def make_move_9001(positions, count, start, end):\n",
    "  stack = deque()\n",
    "  for _ in range(count):\n",
    "    stack.appendleft(positions[start].popleft())\n",
    "  positions[end].extendleft(stack)\n",
    "\n",
    "day5(make_move_9001)"
   ]
  },
  {
   "cell_type": "markdown",
   "metadata": {},
   "source": [
    "# Day 6"
   ]
  },
  {
   "cell_type": "code",
   "execution_count": 314,
   "metadata": {},
   "outputs": [],
   "source": [
    "data6 = data(6)[0]"
   ]
  },
  {
   "cell_type": "code",
   "execution_count": 315,
   "metadata": {},
   "outputs": [
    {
     "data": {
      "text/plain": [
       "(1262, 3444)"
      ]
     },
     "execution_count": 315,
     "metadata": {},
     "output_type": "execute_result"
    }
   ],
   "source": [
    "def day6(n):\n",
    "  for i in range(len(data6)-n+1):\n",
    "    if len(set(data6[i:i+n])) == n:\n",
    "      return i + n\n",
    "\n",
    "day6(4), day6(14)"
   ]
  },
  {
   "cell_type": "markdown",
   "metadata": {},
   "source": [
    "# Day 7"
   ]
  },
  {
   "cell_type": "code",
   "execution_count": 316,
   "metadata": {},
   "outputs": [],
   "source": [
    "class Dir:\n",
    "  def __init__(self, parent=None):\n",
    "    self.parent = parent\n",
    "    self.files = 0\n",
    "    self.children = {}\n",
    "\n",
    "def ls(item, cwd):\n",
    "  if item.startswith('dir'):\n",
    "    cwd.children[item[4:]] = Dir(cwd)\n",
    "  else:\n",
    "    cwd.files += int(item.split(' ')[0]) \n",
    "\n",
    "def cd(cmd, cwd, root):\n",
    "  if cmd.startswith('cd'):\n",
    "    cwd = root if cmd == 'cd /' else cwd.parent if '..' in cmd else cwd.children[cmd.split(' ')[1]]\n",
    "  return cwd\n",
    "\n",
    "def parse7(data):\n",
    "  root = Dir()\n",
    "  cwd = root\n",
    "  for line in data:\n",
    "    if line[0] == '$':\n",
    "      cwd = cd(line[2:], cwd, root)\n",
    "    else:\n",
    "      ls(line, cwd)\n",
    "  return root\n",
    "\n",
    "data7 = []\n",
    "def calculate_total_sizes(root):\n",
    "  total = root.files\n",
    "  for child in root.children:\n",
    "    total += calculate_total_sizes(root.children[child])\n",
    "  data7.append(total)\n",
    "  return total\n",
    "total = calculate_total_sizes(parse7(data(7)))"
   ]
  },
  {
   "cell_type": "code",
   "execution_count": 317,
   "metadata": {},
   "outputs": [
    {
     "data": {
      "text/plain": [
       "1206825"
      ]
     },
     "execution_count": 317,
     "metadata": {},
     "output_type": "execute_result"
    }
   ],
   "source": [
    "sum([x for x in data7 if x <= 100000])"
   ]
  },
  {
   "cell_type": "code",
   "execution_count": 318,
   "metadata": {},
   "outputs": [
    {
     "data": {
      "text/plain": [
       "9608311"
      ]
     },
     "execution_count": 318,
     "metadata": {},
     "output_type": "execute_result"
    }
   ],
   "source": [
    "target = total - (70000000 - 30000000)\n",
    "next(filter(lambda x: x >= target, sorted(data7)))"
   ]
  },
  {
   "cell_type": "markdown",
   "metadata": {},
   "source": [
    "# Day 8"
   ]
  },
  {
   "cell_type": "code",
   "execution_count": 319,
   "metadata": {},
   "outputs": [],
   "source": [
    "data8 = np.array(data(8, lambda x: [int(n) for n in x]))\n",
    "y, x = data8.shape"
   ]
  },
  {
   "cell_type": "code",
   "execution_count": 320,
   "metadata": {},
   "outputs": [
    {
     "data": {
      "text/plain": [
       "1816"
      ]
     },
     "execution_count": 320,
     "metadata": {},
     "output_type": "execute_result"
    }
   ],
   "source": [
    "maskn, masks = [np.full([1, x], True)[0]], []\n",
    "for i in range(x-1):\n",
    "  forward = np.amax(data8[:i+1], 0)\n",
    "  maskn.append(data8[i+1] > forward)\n",
    "  backward = np.amax(data8[i+1:], 0)\n",
    "  masks.append(data8[i] > backward)\n",
    "masks.append(np.full([1, x], True)[0])\n",
    "\n",
    "maskw, maske =  [np.full([y, 1], True)[:, 0]], []\n",
    "for i in range(y-1):\n",
    "  forward = np.amax(data8[:, :i+1], 1)\n",
    "  maskw.append(data8[:, i+1] > forward)\n",
    "  backward = np.amax(data8[:, i+1:], 1)\n",
    "  maske.append(data8[:, i] > backward)\n",
    "maske.append(np.full([y, 1], True)[:, 0])\n",
    "\n",
    "mask = np.vstack(maskn) | np.vstack(masks) | np.vstack(maskw).transpose() | np.vstack(maske).transpose()\n",
    "len(data8[np.where(mask)])"
   ]
  },
  {
   "cell_type": "code",
   "execution_count": 321,
   "metadata": {},
   "outputs": [
    {
     "data": {
      "text/plain": [
       "383520"
      ]
     },
     "execution_count": 321,
     "metadata": {},
     "output_type": "execute_result"
    }
   ],
   "source": [
    "def directional_score(geni, genj, axis=0):\n",
    "  score = [np.zeros([1, x])[0]]\n",
    "  for i in geni:\n",
    "    current = data8[i] if axis == 0 else data8[:, i]\n",
    "    visible = np.full([1, x], True)[0]\n",
    "    result = np.zeros([1, x])[0]\n",
    "    for j in genj(i):\n",
    "      candidate = data8[j] if axis == 0 else data8[:, j]\n",
    "      result += np.ones([1, x])[0] * visible\n",
    "      visible = (current > candidate) & visible\n",
    "    score.append(result)\n",
    "  return np.vstack(score)\n",
    "\n",
    "north = directional_score(range(1, x), lambda i: range(i-1, -1, -1))\n",
    "south = np.flip(directional_score(range(x-2, -1, -1), lambda i: range(i+1, x)), 0)\n",
    "west = directional_score(range(1, x), lambda i: range(i-1, -1, -1), 1).transpose()\n",
    "east = np.flip(directional_score(range(x-2, -1, -1), lambda i: range(i+1, x), 1).transpose(), 1)\n",
    "int(np.max(north * south * east * west))"
   ]
  },
  {
   "cell_type": "markdown",
   "metadata": {},
   "source": [
    "# Day 9"
   ]
  },
  {
   "cell_type": "code",
   "execution_count": 322,
   "metadata": {},
   "outputs": [],
   "source": [
    "data9 = data(9, lambda x: x.split(' '))"
   ]
  },
  {
   "cell_type": "code",
   "execution_count": 323,
   "metadata": {},
   "outputs": [
    {
     "data": {
      "text/plain": [
       "(6181, 2386)"
      ]
     },
     "execution_count": 323,
     "metadata": {},
     "output_type": "execute_result"
    }
   ],
   "source": [
    "def day9(data, knots=2):\n",
    "  visited = set()\n",
    "  state = [(0,0)] * knots\n",
    "\n",
    "  def move_head(x, y, direction):\n",
    "    match direction:\n",
    "      case 'R':\n",
    "        x += 1\n",
    "      case 'L':\n",
    "        x -= 1\n",
    "      case 'U':\n",
    "        y += 1\n",
    "      case 'D':\n",
    "        y -= 1\n",
    "    return (x, y)\n",
    "\n",
    "  def move_tail(headx, heady, tailx, taily):\n",
    "    if abs(headx - tailx) > 1 and abs(heady - taily) > 1:\n",
    "      return (headx + (1 if tailx > headx else -1), heady + (1 if taily > heady else -1))\n",
    "    if abs(headx - tailx) > 1:\n",
    "      return (headx + (1 if tailx > headx else -1), heady)\n",
    "    if abs(heady - taily) > 1:\n",
    "      return (headx, heady + (1 if taily > heady else -1))\n",
    "    return (tailx, taily)\n",
    "\n",
    "  def make_move(current, direction, count):\n",
    "    for _ in range(count):\n",
    "      current[0] = move_head(*current[0], direction)\n",
    "      for i in range(1, len(current)):\n",
    "        current[i] = move_tail(*current[i-1], *current[i])\n",
    "      visited.add(current[-1])\n",
    "    return current\n",
    "\n",
    "  for move in data:\n",
    "    state = make_move(state, move[0], int(move[1]))\n",
    "\n",
    "  return len(visited)\n",
    "\n",
    "day9(data9), day9(data9, 10)"
   ]
  },
  {
   "cell_type": "markdown",
   "metadata": {},
   "source": [
    "# Day 10"
   ]
  },
  {
   "cell_type": "code",
   "execution_count": 324,
   "metadata": {},
   "outputs": [],
   "source": [
    "def parse10(data):\n",
    "  q, i, state, op = deque([0]), 0, 1, 0\n",
    "\n",
    "  def tock(i, state, op):\n",
    "    if not op:\n",
    "      if q:\n",
    "        op = q.popleft()\n",
    "    else:\n",
    "      state += op\n",
    "      op = 0\n",
    "    i += 1\n",
    "    return i, state, op\n",
    "\n",
    "  for command in data:\n",
    "    q.append(0 if len(command) == 1 else int(command[1]))\n",
    "    i, state, op = tock(i, state, op)\n",
    "    yield state\n",
    "  while q:\n",
    "    i, state, op = tock(i, state, op)\n",
    "    yield state\n",
    "  i, state, op = tock(i, state, op)\n",
    "  yield state\n",
    "\n",
    "data10 = lambda: parse10((data(10, lambda x: x.split(' '))))"
   ]
  },
  {
   "cell_type": "code",
   "execution_count": 325,
   "metadata": {},
   "outputs": [
    {
     "data": {
      "text/plain": [
       "14420"
      ]
     },
     "execution_count": 325,
     "metadata": {},
     "output_type": "execute_result"
    }
   ],
   "source": [
    "def day10_1(data):\n",
    "  signal = 0\n",
    "  targets = [20, 60, 100, 140, 180, 220]\n",
    "  for i, v in enumerate(data):\n",
    "    if i+1 in targets:\n",
    "      signal += (i+1) * v\n",
    "  return signal\n",
    "day10_1(data10())"
   ]
  },
  {
   "cell_type": "code",
   "execution_count": 326,
   "metadata": {},
   "outputs": [
    {
     "name": "stdout",
     "output_type": "stream",
     "text": [
      "###   ##  #    ###  ###  ####  ##  #  # \n",
      "#  # #  # #    #  # #  #    # #  # #  ##\n",
      "#  # #    #    #  # ###    #  #  # #  # \n",
      "###  # ## #    ###  #  #  #   #### #  ##\n",
      "# #  #  # #    # #  #  # #    #  # #  ##\n",
      "#  #  ### #### #  # ###  #### #  #  ##  \n",
      "  \n"
     ]
    }
   ],
   "source": [
    "def day10_2(data):\n",
    "  image = ''\n",
    "  for i, v in enumerate(data):\n",
    "    position, sprite = i+1, v\n",
    "    if position%40 in range(sprite, sprite+3):\n",
    "      image += '#'\n",
    "    else:\n",
    "      image += ' '\n",
    "    if not position%40:\n",
    "      image += '\\n'\n",
    "  return image\n",
    "print(day10_2(data10()))"
   ]
  },
  {
   "cell_type": "markdown",
   "metadata": {},
   "source": [
    "# Day 11"
   ]
  },
  {
   "cell_type": "code",
   "execution_count": 327,
   "metadata": {},
   "outputs": [],
   "source": [
    "# Hardcoded\n",
    "example = [\n",
    "  lambda x: x*19,\n",
    "  lambda x: x+6,\n",
    "  lambda x: x*x,\n",
    "  lambda x: x+3\n",
    "]\n",
    "actual = [ \n",
    "  lambda x: x*13,\n",
    "  lambda x: x+2,\n",
    "  lambda x: x+6,\n",
    "  lambda x: x*x,\n",
    "  lambda x: x+3,\n",
    "  lambda x: x*7,\n",
    "  lambda x: x+4,\n",
    "  lambda x: x+7\n",
    "]\n",
    "data11 = (data(11), actual)"
   ]
  },
  {
   "cell_type": "code",
   "execution_count": 328,
   "metadata": {},
   "outputs": [
    {
     "data": {
      "text/plain": [
       "121450"
      ]
     },
     "execution_count": 328,
     "metadata": {},
     "output_type": "execute_result"
    }
   ],
   "source": [
    "def parse11(data, ops):\n",
    "  monkeys, divisor = [], 1\n",
    "\n",
    "  class Monkey:\n",
    "    def __init__(self, items, op, n, a, b):\n",
    "      self.items = items\n",
    "      self.operation = op\n",
    "      self.n = n\n",
    "      self.a = a\n",
    "      self.b = b\n",
    "      self.count = 0\n",
    "\n",
    "    def run(self, flag=False):\n",
    "      t, f = monkeys[self.a], monkeys[self.b]\n",
    "      for old in self.items:\n",
    "        new = (self.operation(old) // (1 if flag else 3)) % divisor\n",
    "        (f if new%self.n else t).items.append(new)\n",
    "        self.count += 1\n",
    "      self.items = []\n",
    "\n",
    "    def __repr__(self):\n",
    "      return f'{self.count}, {self.items}'\n",
    "\n",
    "  monkey = {}\n",
    "  for line in data:\n",
    "    if not line:\n",
    "      monkeys.append(Monkey(**monkey))\n",
    "    if m := re.match('Starting items: ([\\d+, ]+)', line):\n",
    "      monkey['items'] = [int(x) for x in m[1].split(', ')]\n",
    "    elif m:= re.match('Operation: new = old (.) (.+)', line):\n",
    "      monkey['op'] = ops[len(monkeys)]\n",
    "    elif m:= re.match('Test: divisible by (\\d+)', line):\n",
    "      monkey['n'] = int(m[1])\n",
    "      divisor *= monkey['n']\n",
    "    elif m:= re.match('If true: throw to monkey (\\d)', line):\n",
    "      monkey['a'] = int(m[1])\n",
    "    elif m:= re.match('If false: throw to monkey (\\d)', line):\n",
    "      monkey['b'] = int(m[1])\n",
    "  monkeys.append(Monkey(**monkey))\n",
    "  return monkeys\n",
    "\n",
    "def day11(data, rounds, flag=False):\n",
    "  monkeys = parse11(*data)\n",
    "  for _ in range(rounds):\n",
    "    for monkey in monkeys:\n",
    "      monkey.run(flag)\n",
    "  activity = sorted(monkeys, key=lambda x: x.count, reverse=True)\n",
    "  return activity[0].count * activity[1].count\n",
    "\n",
    "day11(data11, 20)"
   ]
  },
  {
   "cell_type": "code",
   "execution_count": 329,
   "metadata": {},
   "outputs": [
    {
     "data": {
      "text/plain": [
       "28244037010"
      ]
     },
     "execution_count": 329,
     "metadata": {},
     "output_type": "execute_result"
    }
   ],
   "source": [
    "day11(data11, 10000, True)"
   ]
  },
  {
   "cell_type": "markdown",
   "metadata": {},
   "source": [
    "# Day 12"
   ]
  },
  {
   "cell_type": "code",
   "execution_count": 330,
   "metadata": {},
   "outputs": [
    {
     "data": {
      "text/plain": [
       "339"
      ]
     },
     "execution_count": 330,
     "metadata": {},
     "output_type": "execute_result"
    }
   ],
   "source": [
    "def remap12(c):\n",
    "  return 0 if c == 'S' else (25 if c == 'E' else ord(c) - ord('a'))\n",
    "\n",
    "def parse12(data):\n",
    "  start, end, result = 0, 0, []\n",
    "  for i, line in enumerate(data):\n",
    "    if 'S' in line:\n",
    "      start = (line.find('S'), i)\n",
    "    if 'E' in line:\n",
    "      end = (line.find('E'), i)\n",
    "    result.append([remap12(c) for c in line])\n",
    "\n",
    "  x_m, y_m = len(result[0]), len(result)\n",
    "  def find_routes(current, i):\n",
    "    x, y = current\n",
    "    options = filter(lambda x: x[0] >= 0 and x[1] >= 0 and x[0] < x_m and x[1] < y_m, [(x, y+1), (x, y-1), (x+1, y), (x-1, y)])\n",
    "    target = result[y][x] -1\n",
    "    return [(coord, i+1) for coord in filter(lambda x: result[x[1]][x[0]] >= target, options)]\n",
    "\n",
    "  return start, end, find_routes\n",
    "\n",
    "data12 = data(12)\n",
    "start, end, find_routes = parse12(data12)\n",
    "\n",
    "def dijkstra(start, end, route_finder, cache={}):\n",
    "  visited, q = set([start]), deque(route_finder(start, 0))\n",
    "  while q:\n",
    "    current, i = q.popleft()\n",
    "    if current == end:\n",
    "      return i\n",
    "    for option, j in route_finder(current, i):\n",
    "      if option not in visited:\n",
    "        q.append((option, j))\n",
    "        cache[option] = j\n",
    "      visited.add(option)\n",
    "  return np.Inf\n",
    "\n",
    "dijkstra(end, start, find_routes)"
   ]
  },
  {
   "cell_type": "code",
   "execution_count": 331,
   "metadata": {},
   "outputs": [
    {
     "data": {
      "text/plain": [
       "332"
      ]
     },
     "execution_count": 331,
     "metadata": {},
     "output_type": "execute_result"
    }
   ],
   "source": [
    "def find_starts(data):\n",
    "  starts = []\n",
    "  for y, line in enumerate(data):\n",
    "    for x, c in enumerate(line):\n",
    "      if c == 'a' or c == 'S':\n",
    "        starts.append((x, y))\n",
    "  return sorted(starts, key=lambda x: abs(x[0]-end[0]) + abs(x[1]-end[1]), reverse=True)\n",
    "\n",
    "cache = {}\n",
    "starts = find_starts(data12)\n",
    "for start in starts:\n",
    "  result = dijkstra(end, start, find_routes, cache)\n",
    "  if result == np.Inf:\n",
    "    break\n",
    "min([cache.get(start, np.Inf) for start in starts])"
   ]
  },
  {
   "cell_type": "markdown",
   "metadata": {},
   "source": [
    "# Day 13"
   ]
  },
  {
   "cell_type": "code",
   "execution_count": 332,
   "metadata": {},
   "outputs": [],
   "source": [
    "def parse13(data):\n",
    "  current, pairs = None, []\n",
    "  for line in data:\n",
    "    if not line:\n",
    "      continue\n",
    "    if not isinstance(current, list):\n",
    "      current = json.loads(line)\n",
    "    else:\n",
    "      pairs.append((current, json.loads(line)))\n",
    "      current = None\n",
    "  return pairs\n",
    "\n",
    "data13 = parse13(data(13))"
   ]
  },
  {
   "cell_type": "code",
   "execution_count": 333,
   "metadata": {},
   "outputs": [
    {
     "data": {
      "text/plain": [
       "5366"
      ]
     },
     "execution_count": 333,
     "metadata": {},
     "output_type": "execute_result"
    }
   ],
   "source": [
    "def compare_int(a, b):\n",
    "  if a == b:\n",
    "    return 0\n",
    "  return -1 if a < b else 1\n",
    "\n",
    "def make_list(item):\n",
    "  if isinstance(item, list):\n",
    "    return item\n",
    "  return [item]\n",
    "\n",
    "def compare_list(a, b):\n",
    "  for i in range(min(len(a), len(b))):\n",
    "    if result := compare(a[i], b[i]):\n",
    "      return result\n",
    "  if len(a) == len(b):\n",
    "    return 0\n",
    "  return -1 if len(a) < len(b) else 1\n",
    "\n",
    "def compare(a, b):\n",
    "  if isinstance(a, list) or isinstance(b, list):\n",
    "    return compare_list(make_list(a), make_list(b))\n",
    "  return compare_int(a, b)\n",
    "\n",
    "def day13(data):\n",
    "  sum = 0\n",
    "  for i, pair in enumerate(data):\n",
    "    if compare(*pair) == -1:\n",
    "      sum += i+1\n",
    "  return sum\n",
    "\n",
    "day13(data13)"
   ]
  },
  {
   "cell_type": "code",
   "execution_count": 334,
   "metadata": {},
   "outputs": [
    {
     "data": {
      "text/plain": [
       "23391"
      ]
     },
     "execution_count": 334,
     "metadata": {},
     "output_type": "execute_result"
    }
   ],
   "source": [
    "def day13_2(data):\n",
    "  dividers = ([[2]], [[6]])\n",
    "  data = reduce(lambda x, y: x+list(y), data13 + [dividers], [])\n",
    "  result = sorted(data, key=cmp_to_key(compare))\n",
    "  indices = [result.index(x)+1 for x in dividers]\n",
    "  return indices[0]*indices[1]\n",
    "\n",
    "day13_2(data13)"
   ]
  },
  {
   "cell_type": "markdown",
   "metadata": {},
   "source": [
    "# Day 14"
   ]
  },
  {
   "cell_type": "code",
   "execution_count": 335,
   "metadata": {},
   "outputs": [],
   "source": [
    "def parse14(data):\n",
    "  results, bottom = set(), 0\n",
    "  for line in data:\n",
    "    coordinates = [[int(x) for x in coord.split(',')] for coord in line.split(' -> ')]\n",
    "    x1, y1 = coordinates[0]\n",
    "    for (x2, y2) in coordinates[1:]:\n",
    "      for i in range(min(x1, x2), max(x1,x2)+1):\n",
    "        for j in range(min(y1, y2), max(y1,y2)+1):\n",
    "          results.add((i, j))\n",
    "      bottom = max(bottom, j)\n",
    "      x1, y1 = x2, y2\n",
    "  return results, bottom\n",
    "  \n",
    "data14 = parse14(data(14))"
   ]
  },
  {
   "cell_type": "code",
   "execution_count": 336,
   "metadata": {},
   "outputs": [
    {
     "data": {
      "text/plain": [
       "(1061, 25055)"
      ]
     },
     "execution_count": 336,
     "metadata": {},
     "output_type": "execute_result"
    }
   ],
   "source": [
    "def day14(sand, bottom, flag=False):  \n",
    "  sand, start, initial, path = sand.copy(), (500, 0), len(sand), deque()\n",
    "  while start not in sand:\n",
    "    x, y = path.pop() if path else start\n",
    "    while (x, y) not in sand:\n",
    "      for candidate in ((x, y+1), (x-1, y+1), (x+1, y+1)):\n",
    "        if candidate not in sand:\n",
    "          path.append(candidate)\n",
    "          x, y = candidate\n",
    "          break\n",
    "      if candidate in sand or candidate[1] > bottom:\n",
    "        sand.add((x, y))\n",
    "    if not flag and candidate[1] > bottom:\n",
    "      break\n",
    "  return len(sand) - initial - (1 if not flag else 0)\n",
    "\n",
    "day14(*data14), day14(*data14, True)"
   ]
  },
  {
   "cell_type": "markdown",
   "metadata": {},
   "source": [
    "# Day 15"
   ]
  },
  {
   "cell_type": "code",
   "execution_count": 337,
   "metadata": {},
   "outputs": [],
   "source": [
    "def parse15(data):\n",
    "  sensors, beacons = [], []\n",
    "  for line in data:\n",
    "    match = re.match('Sensor at x=(-?\\d+), y=(-?\\d+): closest beacon is at x=(-?\\d+), y=(-?\\d+)', line)\n",
    "    sensors.append((int(match[1]), int(match[2])))\n",
    "    beacons.append((int(match[3]), int(match[4])))\n",
    "  return sensors, beacons\n",
    "\n",
    "data15 = parse15(data(15))\n",
    "\n",
    "def scan_depth(sensors, beacons, target=2000000):\n",
    "  tree = IntervalTree()\n",
    "  for sensor, beacon in zip(sensors, beacons):\n",
    "    distance = int(abs(sensor[0]-beacon[0]) + abs(sensor[1] - beacon[1]))\n",
    "    if (remaining := distance - abs(target - sensor[1])) > 0:\n",
    "      tree.addi(sensor[0] - remaining, sensor[0] + remaining + 1.01)\n",
    "  tree.merge_overlaps()\n",
    "  return tree"
   ]
  },
  {
   "cell_type": "code",
   "execution_count": 338,
   "metadata": {},
   "outputs": [
    {
     "data": {
      "text/plain": [
       "5564017"
      ]
     },
     "execution_count": 338,
     "metadata": {},
     "output_type": "execute_result"
    }
   ],
   "source": [
    "def day15_1(data, target=2000000):\n",
    "  tree = scan_depth(*data, target)\n",
    "  return int(tree.end() - tree.begin()) - 1\n",
    "\n",
    "day15_1(data15)"
   ]
  },
  {
   "cell_type": "code",
   "execution_count": 339,
   "metadata": {},
   "outputs": [
    {
     "ename": "KeyboardInterrupt",
     "evalue": "",
     "output_type": "error",
     "traceback": [
      "\u001b[0;31m---------------------------------------------------------------------------\u001b[0m",
      "\u001b[0;31mKeyboardInterrupt\u001b[0m                         Traceback (most recent call last)",
      "Cell \u001b[0;32mIn [339], line 11\u001b[0m\n\u001b[1;32m      8\u001b[0m       \u001b[39mreturn\u001b[39;00m \u001b[39mint\u001b[39m(\u001b[39mmin\u001b[39m([x\u001b[39m.\u001b[39mend \u001b[39mfor\u001b[39;00m x \u001b[39min\u001b[39;00m \u001b[39mlist\u001b[39m(result)])) \u001b[39m*\u001b[39m \u001b[39m4000000\u001b[39m \u001b[39m+\u001b[39m i\n\u001b[1;32m     10\u001b[0m \u001b[39m# Takes a couple minutes - should use 45 degree rotation instead\u001b[39;00m\n\u001b[0;32m---> 11\u001b[0m day15_2(data15)\n",
      "Cell \u001b[0;32mIn [339], line 6\u001b[0m, in \u001b[0;36mday15_2\u001b[0;34m(data, target)\u001b[0m\n\u001b[1;32m      3\u001b[0m tree\u001b[39m.\u001b[39maddi(\u001b[39m-\u001b[39mtarget, target\u001b[39m+\u001b[39m\u001b[39m1\u001b[39m)\n\u001b[1;32m      5\u001b[0m \u001b[39mfor\u001b[39;00m i \u001b[39min\u001b[39;00m \u001b[39mrange\u001b[39m(target\u001b[39m+\u001b[39m\u001b[39m1\u001b[39m):\n\u001b[0;32m----> 6\u001b[0m   result \u001b[39m=\u001b[39m scan_depth(\u001b[39m*\u001b[39;49mdata, i)\n\u001b[1;32m      7\u001b[0m   \u001b[39mif\u001b[39;00m \u001b[39mlen\u001b[39m(result) \u001b[39m>\u001b[39m \u001b[39m1\u001b[39m:\n\u001b[1;32m      8\u001b[0m     \u001b[39mreturn\u001b[39;00m \u001b[39mint\u001b[39m(\u001b[39mmin\u001b[39m([x\u001b[39m.\u001b[39mend \u001b[39mfor\u001b[39;00m x \u001b[39min\u001b[39;00m \u001b[39mlist\u001b[39m(result)])) \u001b[39m*\u001b[39m \u001b[39m4000000\u001b[39m \u001b[39m+\u001b[39m i\n",
      "Cell \u001b[0;32mIn [337], line 12\u001b[0m, in \u001b[0;36mscan_depth\u001b[0;34m(sensors, beacons, target)\u001b[0m\n\u001b[1;32m     11\u001b[0m \u001b[39mdef\u001b[39;00m \u001b[39mscan_depth\u001b[39m(sensors, beacons, target\u001b[39m=\u001b[39m\u001b[39m2000000\u001b[39m):\n\u001b[0;32m---> 12\u001b[0m   tree \u001b[39m=\u001b[39m IntervalTree()\n\u001b[1;32m     13\u001b[0m   \u001b[39mfor\u001b[39;00m sensor, beacon \u001b[39min\u001b[39;00m \u001b[39mzip\u001b[39m(sensors, beacons):\n\u001b[1;32m     14\u001b[0m     distance \u001b[39m=\u001b[39m \u001b[39mint\u001b[39m(\u001b[39mabs\u001b[39m(sensor[\u001b[39m0\u001b[39m]\u001b[39m-\u001b[39mbeacon[\u001b[39m0\u001b[39m]) \u001b[39m+\u001b[39m \u001b[39mabs\u001b[39m(sensor[\u001b[39m1\u001b[39m] \u001b[39m-\u001b[39m beacon[\u001b[39m1\u001b[39m]))\n",
      "File \u001b[0;32m~/projects/advent-code/2022/.venv/lib/python3.11/site-packages/intervaltree/intervaltree.py:268\u001b[0m, in \u001b[0;36mIntervalTree.__init__\u001b[0;34m(self, intervals)\u001b[0m\n\u001b[1;32m    266\u001b[0m \u001b[39mself\u001b[39m\u001b[39m.\u001b[39mall_intervals \u001b[39m=\u001b[39m intervals\n\u001b[1;32m    267\u001b[0m \u001b[39mself\u001b[39m\u001b[39m.\u001b[39mtop_node \u001b[39m=\u001b[39m Node\u001b[39m.\u001b[39mfrom_intervals(\u001b[39mself\u001b[39m\u001b[39m.\u001b[39mall_intervals)\n\u001b[0;32m--> 268\u001b[0m \u001b[39mself\u001b[39m\u001b[39m.\u001b[39mboundary_table \u001b[39m=\u001b[39m SortedDict()\n\u001b[1;32m    269\u001b[0m \u001b[39mfor\u001b[39;00m iv \u001b[39min\u001b[39;00m \u001b[39mself\u001b[39m\u001b[39m.\u001b[39mall_intervals:\n\u001b[1;32m    270\u001b[0m     \u001b[39mself\u001b[39m\u001b[39m.\u001b[39m_add_boundaries(iv)\n",
      "File \u001b[0;32m~/projects/advent-code/2022/.venv/lib/python3.11/site-packages/sortedcontainers/sorteddict.py:186\u001b[0m, in \u001b[0;36mSortedDict.__init__\u001b[0;34m(self, *args, **kwargs)\u001b[0m\n\u001b[1;32m    183\u001b[0m     \u001b[39mself\u001b[39m\u001b[39m.\u001b[39mbisect_key \u001b[39m=\u001b[39m _list\u001b[39m.\u001b[39mbisect_key\n\u001b[1;32m    184\u001b[0m     \u001b[39mself\u001b[39m\u001b[39m.\u001b[39mirange_key \u001b[39m=\u001b[39m _list\u001b[39m.\u001b[39mirange_key\n\u001b[0;32m--> 186\u001b[0m \u001b[39mself\u001b[39;49m\u001b[39m.\u001b[39;49m_update(\u001b[39m*\u001b[39;49margs, \u001b[39m*\u001b[39;49m\u001b[39m*\u001b[39;49mkwargs)\n",
      "\u001b[0;31mKeyboardInterrupt\u001b[0m: "
     ]
    }
   ],
   "source": [
    "def day15_2(data, target=4000000):\n",
    "  tree = IntervalTree()\n",
    "  tree.addi(-target, target+1)\n",
    "\n",
    "  for i in range(target+1):\n",
    "    result = scan_depth(*data, i)\n",
    "    if len(result) > 1:\n",
    "      return int(min([x.end for x in list(result)])) * 4000000 + i\n",
    "\n",
    "# Takes a couple minutes - should use 45 degree rotation instead\n",
    "day15_2(data15)"
   ]
  },
  {
   "cell_type": "markdown",
   "metadata": {},
   "source": [
    "# Day 16"
   ]
  },
  {
   "cell_type": "code",
   "execution_count": null,
   "metadata": {},
   "outputs": [
    {
     "data": {
      "image/png": "[encoded data removed]",
      "text/plain": [
       "<Figure size 640x480 with 1 Axes>"
      ]
     },
     "metadata": {},
     "output_type": "display_data"
    }
   ],
   "source": [
    "def parse16(data):\n",
    "  G = nx.Graph()\n",
    "  for line in data:\n",
    "    match = re.match('Valve (.+) has flow rate=(\\d+); tunnels? leads? to valves? (.+)', line)\n",
    "    node, flow, neighbors = match[1], int(match[2]), match[3].split(', ')\n",
    "    G.add_node(node, weight=flow)\n",
    "    for neighbor in neighbors:\n",
    "      G.add_edge(node, neighbor)\n",
    "\n",
    "  result = nx.Graph()\n",
    "  weighted_nodes = set([x for x in G.nodes if G.nodes[x]['weight']])\n",
    "  for node, paths in nx.all_pairs_shortest_path_length(G, cutoff=30):\n",
    "    if node in weighted_nodes or node == 'AA':\n",
    "      result.add_node(node, weight=G.nodes[node]['weight'])\n",
    "      for neighbor in paths:\n",
    "        if neighbor != node and neighbor in weighted_nodes:\n",
    "          result.add_edge(node, neighbor, length=paths[neighbor]+1)\n",
    "  \n",
    "  return result\n",
    "\n",
    "data16 = parse16(data(16))\n",
    "nx.draw(data16)"
   ]
  },
  {
   "cell_type": "code",
   "execution_count": null,
   "metadata": {},
   "outputs": [
    {
     "data": {
      "text/plain": [
       "1880"
      ]
     },
     "execution_count": 266,
     "metadata": {},
     "output_type": "execute_result"
    }
   ],
   "source": [
    "def day16_1(G, t):\n",
    "  @lru_cache()\n",
    "  def traverse(current, t, visited):\n",
    "    neighbors = G[current]\n",
    "    pressure = sum([G.nodes[x]['weight'] for x in visited]) + G.nodes[current]['weight']\n",
    "\n",
    "    score = t * pressure\n",
    "    for neighbor in neighbors:\n",
    "      length = neighbors[neighbor]['length']\n",
    "      if neighbor not in visited and (tminus := t - length) > 0:\n",
    "        result = traverse(neighbor, tminus, frozenset(visited | set([current]))) + length * pressure\n",
    "        score = max(result, score)\n",
    "    return score\n",
    "  return traverse('AA', t, frozenset())\n",
    "\n",
    "day16_1(data16, 30)"
   ]
  },
  {
   "cell_type": "code",
   "execution_count": null,
   "metadata": {},
   "outputs": [
    {
     "data": {
      "text/plain": [
       "2520"
      ]
     },
     "execution_count": 284,
     "metadata": {},
     "output_type": "execute_result"
    }
   ],
   "source": [
    "def all_combinations(any_list):\n",
    "    return itertools.chain.from_iterable(\n",
    "        itertools.combinations(any_list, i + 1)\n",
    "        for i in range(1, math.floor(len(any_list)/2)))\n",
    "\n",
    "def remap_edges(G, child):\n",
    "  child.add_node('AA', weight=0)\n",
    "  for a, b in itertools.combinations(child.nodes, 2):\n",
    "    child.add_edge(a, b, length=G[a][b]['length'])\n",
    "  return child\n",
    "\n",
    "def generate_partition(combination, G):\n",
    "  a, b = nx.Graph(), nx.Graph()\n",
    "  for i in G.nodes:\n",
    "    (a if i in combination else b).add_node(i, weight=G.nodes[i]['weight'])\n",
    "  return remap_edges(G, a), remap_edges(G, b)\n",
    "    \n",
    "# Takes a couple minutes - should speed up partition generation (maybe with https://networkx.org/documentation/stable/reference/algorithms/generated/networkx.algorithms.community.kernighan_lin.kernighan_lin_bisection.html)\n",
    "def day16_2(G):\n",
    "  result = 0\n",
    "  combinations = all_combinations(set(G.nodes).difference(set(['AA'])))\n",
    "  for combination in combinations:\n",
    "    a, b = generate_partition(set(combination), G)\n",
    "    result = max(result, day16_1(a, 26) + day16_1(b, 26))\n",
    "  return result\n",
    "\n",
    "day16_2(data16)"
   ]
  },
  {
   "cell_type": "markdown",
   "metadata": {},
   "source": [
    "# Day 17"
   ]
  },
  {
   "cell_type": "code",
   "execution_count": null,
   "metadata": {},
   "outputs": [],
   "source": [
    "data17 = [1 if x == '>' else -1 for x in data(17)[0]]\n",
    "\n",
    "pieces = [\n",
    "    (frozenset(range(4)),), # -\n",
    "    (frozenset([1]), frozenset(range(3)), frozenset([1])), # cross\n",
    "    (frozenset(range(3)), frozenset([2]), frozenset([2])), # L\n",
    "    (frozenset([0]),)*4,\n",
    "    (frozenset(range(2)), frozenset(range(2)))\n",
    "]\n",
    "\n",
    "class Piece:\n",
    "  def __init__(self, x, y, base):\n",
    "    self.x = x\n",
    "    self.y = y\n",
    "    self.base = base\n",
    "\n",
    "  def in_rocks(self, rocks):\n",
    "    for i, v in enumerate(self.base):\n",
    "      y = i + self.y\n",
    "      row = frozenset([self.x + p for p in v])\n",
    "      if (rocks[y] if y < len(rocks) else frozenset([0, 8])).intersection(row):\n",
    "        return True\n",
    "    return False\n",
    "\n",
    "  def add_to_rocks(self, rocks):\n",
    "    new_rocks, start = list(rocks), 0\n",
    "    for i, v in enumerate(self.base):\n",
    "      y = i + self.y\n",
    "      row = frozenset([self.x + p for p in v])\n",
    "      if y < len(rocks):\n",
    "        new_rocks[y] = rocks[y].union(row)\n",
    "        start = y if new_rocks[y] == frozenset(range(9)) else start\n",
    "      else:\n",
    "        new_rocks.append(frozenset([0, 8]).union(row))\n",
    "    return tuple(new_rocks)[start:], len(new_rocks) - len(rocks)\n",
    "\n",
    "  def move_jet(self, jet, rocks):\n",
    "    self.x += jet\n",
    "    if self.in_rocks(rocks):\n",
    "      self.x -= jet\n",
    "\n",
    "  def move_gravity(self, rocks):\n",
    "    self.y -= 1\n",
    "    if self.in_rocks(rocks):\n",
    "      self.y += 1\n",
    "      return self.add_to_rocks(rocks)\n",
    "    return rocks, -1\n",
    "\n",
    "  def move(self, jet, rocks):\n",
    "    self.move_jet(jet, rocks)\n",
    "    return self.move_gravity(rocks)\n",
    "\n",
    "  def __repr__(self):\n",
    "    return f'({self.x}, {self.y}) {self.base}'"
   ]
  },
  {
   "cell_type": "code",
   "execution_count": null,
   "metadata": {},
   "outputs": [
    {
     "data": {
      "text/plain": [
       "(3186, 1566376811584)"
      ]
     },
     "execution_count": 67,
     "metadata": {},
     "output_type": "execute_result"
    }
   ],
   "source": [
    "def day17(jets, n=2022):\n",
    "  rocks, j, height = (frozenset(range(9)),), 0, 0\n",
    "\n",
    "  def move_piece(pi, j, rocks):\n",
    "    piece = Piece(3, len(rocks)+3, pieces[pi])\n",
    "    for i in range(0, piece.y):\n",
    "      ji = (j + i)%len(jets)\n",
    "      rocks, diff = piece.move(jets[ji], rocks)\n",
    "      if diff > -1:\n",
    "        break\n",
    "    return rocks, diff, (ji+1)%len(jets)\n",
    "\n",
    "  cache = {}\n",
    "  for i in range(n):\n",
    "    args = i%len(pieces), j, rocks\n",
    "    if cache.get(args):\n",
    "      cycle_start, cycle_height = cache[args]\n",
    "      period_length, period_depth = i - cycle_start, height-cycle_height\n",
    "      iterations = int((n-cycle_start)/period_length)\n",
    "      i = cycle_start + iterations * period_length\n",
    "      height = cycle_height + iterations * period_depth\n",
    "      break\n",
    "    rocks, diffy, j = move_piece(*args)\n",
    "    cache[args] = (i, height)\n",
    "    height += diffy\n",
    "\n",
    "  for i in range(i, n):\n",
    "    rocks, diffy, j = move_piece(i%len(pieces), j, rocks)\n",
    "    height += diffy\n",
    "  return height\n",
    "\n",
    "\n",
    "# Take a long time\n",
    "day17(data17, 2022), day17(data17, 1000000000000)"
   ]
  },
  {
   "cell_type": "markdown",
   "metadata": {},
   "source": [
    "# Day 18"
   ]
  },
  {
   "cell_type": "code",
   "execution_count": null,
   "metadata": {},
   "outputs": [],
   "source": [
    "data18 = data(18, lambda line: tuple([int(x) for x in line.split(',')]))"
   ]
  },
  {
   "cell_type": "code",
   "execution_count": null,
   "metadata": {},
   "outputs": [
    {
     "data": {
      "text/plain": [
       "4314"
      ]
     },
     "execution_count": 228,
     "metadata": {},
     "output_type": "execute_result"
    }
   ],
   "source": [
    "def generate_sides(square):\n",
    "  x, y, z = square\n",
    "  return [\n",
    "    (square, (x+1, y, z+1)),\n",
    "    (square, (x+1, y+1, z)),\n",
    "    (square, (x, y+1, z+1)),\n",
    "    ((x+1, y, z), (x+1, y+1, z+1)),\n",
    "    ((x, y+1, z), (x+1, y+1, z+1)),\n",
    "    ((x, y, z+1), (x+1, y+1, z+1)),\n",
    "  ]\n",
    "\n",
    "def day18_1(data):\n",
    "  unique = set()\n",
    "  joined = set()\n",
    "  for square in data:\n",
    "    for side in generate_sides(square):\n",
    "      if side in joined:\n",
    "        continue\n",
    "      elif side in unique:\n",
    "        unique.remove(side)\n",
    "        joined.add(side)\n",
    "      else:\n",
    "        unique.add(side)\n",
    "  return unique\n",
    "\n",
    "len(day18_1(data18))"
   ]
  },
  {
   "cell_type": "code",
   "execution_count": null,
   "metadata": {},
   "outputs": [
    {
     "data": {
      "text/plain": [
       "2444"
      ]
     },
     "execution_count": 229,
     "metadata": {},
     "output_type": "execute_result"
    }
   ],
   "source": [
    "def generate_surface_diff(initial, s1, s2):\n",
    "  # Project from surface out of current cube\n",
    "  if s1 != s2:\n",
    "    return 0\n",
    "  return -1 if initial == s1 else 1\n",
    "\n",
    "def find_bounds(data):\n",
    "  start, end = math.inf, 0\n",
    "  for i in data:\n",
    "    start, end = min(min(i), start), max(max(i), end)\n",
    "  return start-1, end+1\n",
    "\n",
    "def day18_2(data):\n",
    "  start, end = find_bounds(data)\n",
    "  uniques, surfaces = day18_1(data), set()\n",
    "\n",
    "  def route_finder(surface, i):\n",
    "    x, y, z = surface\n",
    "    for side in generate_sides(surface):\n",
    "      if side in uniques:\n",
    "        surfaces.add(side)\n",
    "      else:\n",
    "        (a, b, c), (e, f, g) = side\n",
    "        result = (\n",
    "          x + generate_surface_diff(x, a, e),\n",
    "          y + generate_surface_diff(y, b, f),\n",
    "          z + generate_surface_diff(z, c, g),\n",
    "        )\n",
    "        if not any([x < start or x > end for x in result]):\n",
    "          yield (result, i+1)\n",
    "\n",
    "  dijkstra((start, start, start), (end, end, end), route_finder)\n",
    "  return len(surfaces)\n",
    "\n",
    "day18_2(data18)"
   ]
  },
  {
   "cell_type": "markdown",
   "metadata": {},
   "source": [
    "# Day 19"
   ]
  },
  {
   "cell_type": "code",
   "execution_count": 359,
   "metadata": {},
   "outputs": [],
   "source": [
    "def parse19(line):\n",
    "  m = re.match('Blueprint (\\d+): Each ore robot costs (\\d+) ore. Each clay robot costs (\\d+) ore. Each obsidian robot costs (\\d+) ore and (\\d+) clay. Each geode robot costs (\\d+) ore and (\\d+) obsidian.', line)\n",
    "  _, ore, clay, ob_ore, ob_clay, ge_ore, ge_ob = m[1], m[2], m[3], m[4], m[5], m[6], m[7]\n",
    "  return (\n",
    "    (-int(ore),0,0,0, 1,0,0,0),\n",
    "    (-int(clay),0,0,0, 0,1,0,0),\n",
    "    (-int(ob_ore),-int(ob_clay),0,0, 0,0,1,0),\n",
    "    (-int(ge_ore),0,-int(ge_ob),0, 0,0,0,1),\n",
    "  )\n",
    "\n",
    "data19 = data(19, parse19)\n",
    "\n",
    "def day19(blueprints, flag=False):\n",
    "  # ore_robot, clay_robot, obsidian_robot, geode_robot, ore, clay, obsidian, geode\n",
    "  default_state = (0,0,0,0, 1,0,0,0)\n",
    "\n",
    "  def tuple_add(a, b):\n",
    "    return tuple(a[i] + (b[i] if i < len(b) else 0) for i in range(len(a)))\n",
    "\n",
    "  def prune_states(blueprint, state):\n",
    "    # Assume we will never not build if we can ever build anything we want\n",
    "    # As a consequence, we will also not build excess robots of a single type\n",
    "    max_values = [max(-cost[i] for cost in blueprint) for i in range(3)]\n",
    "    state = (\n",
    "      *(min(state[i], max_values[i]*2-1) for i in range(3)), \n",
    "      state[3],\n",
    "      *(min(state[i+4], max_values[i]) for i in range(3)), \n",
    "      state[7],\n",
    "    )\n",
    "    return state\n",
    "\n",
    "  @lru_cache()\n",
    "  def robot_potentials(blueprint, state):\n",
    "    # Can only build one robot per step\n",
    "    potentials = [state]\n",
    "    for cost in blueprint:\n",
    "      potential = tuple_add(state, cost)\n",
    "      if any(x < 0 for x in potential):\n",
    "        continue\n",
    "      potentials.append(potential)\n",
    "    return [prune_states(blueprint, tuple_add(x, state[4:])) for x in potentials]\n",
    "\n",
    "  @lru_cache()\n",
    "  def price_estimate(blueprint, t):\n",
    "    or_price = -blueprint[0][0]\n",
    "    cr_price = -blueprint[1][0]\n",
    "    c_price = int(cr_price/t)\n",
    "    obr_price = -blueprint[2][1] - blueprint[2][1]*c_price\n",
    "    ob_price = int(obr_price/t)\n",
    "    gr_price = max(obr_price, cr_price, or_price, (-blueprint[3][1] - blueprint[3][2]*ob_price)) + 1\n",
    "    g_price = int(gr_price/t)\n",
    "    prices = [1, c_price, ob_price, g_price, or_price, cr_price, obr_price, gr_price]\n",
    "    return prices\n",
    "\n",
    "  def state_score(state, prices):\n",
    "    return int(sum(state[i]*prices[i] for i in range(len(state))))\n",
    "\n",
    "  best = {}\n",
    "  @lru_cache(maxsize=None)\n",
    "  def run_robots(blueprint, state, t):\n",
    "    if t == 0:\n",
    "      # print(state, state_score(state, price_estimate(blueprint, t+1)))\n",
    "      return state\n",
    "    potentials = robot_potentials(blueprint, state)\n",
    "\n",
    "    prices = price_estimate(blueprint, t)\n",
    "    sorted_potentials = sorted(zip([state_score(x, prices) for x in potentials], potentials), reverse=True)\n",
    "    score = sorted_potentials[0][0]\n",
    "\n",
    "    key = (blueprint, t)\n",
    "    if (current := best.get(key, 0)) < score:\n",
    "      best[key] = score\n",
    "    threshold = current*.95 - 20 # TODO: magic number adjusted until answer is correct\n",
    "    if score < threshold:\n",
    "      return default_state\n",
    "\n",
    "    return max([run_robots(blueprint, option[1], t-1) for option in sorted_potentials if option[0] >= threshold], key=lambda x: x[3])\n",
    "\n",
    "  def calculate(blueprints, n):\n",
    "    for i, v in enumerate(blueprints):\n",
    "      state = run_robots(v, default_state, n)\n",
    "      # print(i, state, state[3])\n",
    "      yield state[3]\n",
    "\n",
    "  def part1():\n",
    "    sum = 0\n",
    "    for i, result in enumerate(calculate(blueprints, 24)):\n",
    "      sum += result * (i+1)\n",
    "    return sum\n",
    "\n",
    "  def part2():\n",
    "    product = 1\n",
    "    for result in calculate(blueprints[:3], 32):\n",
    "      product *= result\n",
    "    return product\n",
    "\n",
    "  return part2() if flag else part1()"
   ]
  },
  {
   "cell_type": "code",
   "execution_count": 360,
   "metadata": {},
   "outputs": [
    {
     "data": {
      "text/plain": [
       "2193"
      ]
     },
     "execution_count": 360,
     "metadata": {},
     "output_type": "execute_result"
    }
   ],
   "source": [
    "day19(data19)"
   ]
  },
  {
   "cell_type": "code",
   "execution_count": 361,
   "metadata": {},
   "outputs": [
    {
     "data": {
      "text/plain": [
       "7200"
      ]
     },
     "execution_count": 361,
     "metadata": {},
     "output_type": "execute_result"
    }
   ],
   "source": [
    "day19(data19, True)"
   ]
  },
  {
   "cell_type": "markdown",
   "metadata": {},
   "source": [
    "# Day 20"
   ]
  },
  {
   "cell_type": "code",
   "execution_count": 7,
   "metadata": {},
   "outputs": [],
   "source": [
    "data20 = data(20, int)"
   ]
  },
  {
   "cell_type": "code",
   "execution_count": 11,
   "metadata": {},
   "outputs": [
    {
     "data": {
      "text/plain": [
       "(19559, 912226207972)"
      ]
     },
     "execution_count": 11,
     "metadata": {},
     "output_type": "execute_result"
    }
   ],
   "source": [
    "class Node:\n",
    "  def __init__(self, value, previous=None):\n",
    "    self.value = value\n",
    "    self.previous = previous\n",
    "    self.next = None\n",
    "\n",
    "  def unset(self):\n",
    "    self.previous.next = self.next\n",
    "    self.next.previous = self.previous\n",
    "    return self\n",
    "    \n",
    "  def __repr__(self):\n",
    "    return f'{self.value}'\n",
    "\n",
    "def generate_nodes(data, n=1):\n",
    "  nodes = [Node(i*n) for i in data]\n",
    "  for i, v in enumerate(nodes):\n",
    "    v.previous = nodes[i-1]\n",
    "    v.next = nodes[(i+1)%len(nodes)]\n",
    "  return nodes\n",
    "\n",
    "def shift_right(node, value):\n",
    "  if not value:\n",
    "    return\n",
    "  current = node.unset()\n",
    "  for _ in range(value):\n",
    "    current = current.next\n",
    "  current.next.previous = node\n",
    "  node.next = current.next\n",
    "  current.next = node\n",
    "  node.previous = current\n",
    "\n",
    "def shift_left(node, value):\n",
    "  if not value:\n",
    "    return\n",
    "  current = node.unset()\n",
    "  for _ in range(value):\n",
    "    current = current.previous\n",
    "  current.previous.next = node\n",
    "  node.previous = current.previous\n",
    "  current.previous = node\n",
    "  node.next = current\n",
    "\n",
    "def mix_nodes(nodes):\n",
    "  zero = None\n",
    "  for _, v in enumerate(nodes):\n",
    "    if not v.value:\n",
    "      zero = v\n",
    "      continue\n",
    "    shift, right = abs(v.value)%(len(nodes)-1), v.value > 0\n",
    "    (shift_right if right else shift_left)(v, shift)\n",
    "  return zero\n",
    "    \n",
    "def debug_nodes(head):\n",
    "  current, result = head, []\n",
    "  while current.next != head:\n",
    "    result.append(str(current.value))\n",
    "    current = current.next\n",
    "  result.append(str(current.value))\n",
    "  return ', '.join(result)\n",
    "\n",
    "def get_nth_node(node, n):\n",
    "  for _ in range(n):\n",
    "    node = node.next\n",
    "  return node.value\n",
    "\n",
    "def day20(data, key=1):\n",
    "  sum = 0\n",
    "  nodes = generate_nodes(data, key)\n",
    "  zero = mix_nodes(nodes)\n",
    "  if key != 1:\n",
    "    for i in range(9):\n",
    "      mix_nodes(nodes)\n",
    "  for i in [1000, 2000, 3000]:\n",
    "    sum += get_nth_node(zero, i%len(data))\n",
    "  return sum\n",
    "\n",
    "day20(data20), day20(data20, 811589153)"
   ]
  },
  {
   "cell_type": "markdown",
   "metadata": {},
   "source": [
    "# Day 21"
   ]
  },
  {
   "cell_type": "code",
   "execution_count": 98,
   "metadata": {},
   "outputs": [],
   "source": [
    "def parse21(data):\n",
    "  monkeys = {}\n",
    "  for i in data:\n",
    "    monkeys[i[0]] = int(i[1]) if str.isnumeric(i[1]) else i[1].split(' ')\n",
    "  return monkeys\n",
    "\n",
    "data21 = parse21(data(21, lambda x: x.split(': ')))"
   ]
  },
  {
   "cell_type": "code",
   "execution_count": 99,
   "metadata": {},
   "outputs": [
    {
     "data": {
      "text/plain": [
       "160274622817992"
      ]
     },
     "execution_count": 99,
     "metadata": {},
     "output_type": "execute_result"
    }
   ],
   "source": [
    "def mcalculate(monkey, monkeys):\n",
    "  yell = monkeys[monkey]\n",
    "  if not isinstance(yell, list):\n",
    "    return yell\n",
    "  a, op, b = yell\n",
    "  expr = f'{mcalculate(a, monkeys)} {op} {mcalculate(b, monkeys)}'\n",
    "  return eval(expr)\n",
    "\n",
    "int(mcalculate('root', data21))"
   ]
  },
  {
   "cell_type": "code",
   "execution_count": 100,
   "metadata": {},
   "outputs": [
    {
     "data": {
      "text/plain": [
       "3087390115721"
      ]
     },
     "execution_count": 100,
     "metadata": {},
     "output_type": "execute_result"
    }
   ],
   "source": [
    "from scipy.optimize import minimize_scalar\n",
    "\n",
    "def day21(monkeys):\n",
    "  monkeys['root'][1] = '-'\n",
    "\n",
    "  def loss(humn):\n",
    "    monkeys['humn'] = humn\n",
    "    guess = mcalculate('root', monkeys)\n",
    "    return guess * guess\n",
    "  \n",
    "  tol = 1e-6\n",
    "  while abs(mcalculate('root', monkeys)) >= 0.5:\n",
    "    tol /= 10\n",
    "    minimize_scalar(loss, tol=tol)\n",
    "  return round(monkeys['humn'])\n",
    "\n",
    "day21(data21.copy())"
   ]
  },
  {
   "cell_type": "markdown",
   "metadata": {},
   "source": [
    "# Day 22"
   ]
  },
  {
   "cell_type": "code",
   "execution_count": null,
   "metadata": {},
   "outputs": [],
   "source": []
  }
 ],
 "metadata": {
  "kernelspec": {
   "display_name": "Python 3.11.0 ('.venv': poetry)",
   "language": "python",
   "name": "python3"
  },
  "language_info": {
   "codemirror_mode": {
    "name": "ipython",
    "version": 3
   },
   "file_extension": ".py",
   "mimetype": "text/x-python",
   "name": "python",
   "nbconvert_exporter": "python",
   "pygments_lexer": "ipython3",
   "version": "3.11.0"
  },
  "orig_nbformat": 4,
  "vscode": {
   "interpreter": {
    "hash": "728fda44ccb96f2ef97227e2e00831284321f32932a1624dced75e1d30908e3d"
   }
  }
 },
 "nbformat": 4,
 "nbformat_minor": 2
}
