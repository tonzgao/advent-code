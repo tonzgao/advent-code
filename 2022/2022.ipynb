{
 "cells": [
  {
   "cell_type": "code",
   "execution_count": 1,
   "metadata": {},
   "outputs": [],
   "source": [
    "# Imports\n",
    "\n",
    "from collections import defaultdict, Counter, deque\n",
    "from functools import lru_cache\n",
    "import itertools\n",
    "from intervaltree import IntervalTree, Interval\n",
    "import json\n",
    "import numpy as np\n",
    "import numpy.typing as npt\n",
    "import re\n",
    "from sortedcontainers import SortedList\n",
    "from typing import Callable, TypeVar, Union, Optional\n",
    "\n",
    "\n",
    "T = TypeVar('T')\n",
    "\n",
    "# Helper functions\n",
    "\n",
    "def data(day: int, parser: Callable[[str], T] = str) -> list[T]:\n",
    "  with open(f\"./data/day{day}.txt\") as f:\n",
    "    return [parser(line.strip()) for line in f.readlines()]\n",
    "\n",
    "def split_csv_row(row: str) -> list[int]:\n",
    "  return [int(x) for x in row.split(',')]\n",
    "\n",
    "def split_int_row(row: str) -> list[int]:\n",
    "  return [int(x) for x in row]"
   ]
  },
  {
   "cell_type": "markdown",
   "metadata": {},
   "source": [
    "# Day 1"
   ]
  },
  {
   "cell_type": "code",
   "execution_count": 19,
   "metadata": {},
   "outputs": [],
   "source": [
    "def parse_day1(data):\n",
    "  elves = SortedList()\n",
    "  current = 0\n",
    "  for food in data:\n",
    "    if not food:\n",
    "      elves.add(current)\n",
    "      current = 0\n",
    "    else:\n",
    "      current += int(food)\n",
    "  return elves\n",
    "\n",
    "data1 = parse_day1(data(1))"
   ]
  },
  {
   "cell_type": "code",
   "execution_count": 21,
   "metadata": {},
   "outputs": [
    {
     "data": {
      "text/plain": [
       "71780"
      ]
     },
     "execution_count": 21,
     "metadata": {},
     "output_type": "execute_result"
    }
   ],
   "source": [
    "data1[-1]"
   ]
  },
  {
   "cell_type": "code",
   "execution_count": 23,
   "metadata": {},
   "outputs": [
    {
     "data": {
      "text/plain": [
       "212489"
      ]
     },
     "execution_count": 23,
     "metadata": {},
     "output_type": "execute_result"
    }
   ],
   "source": [
    "sum(data1[-3:])"
   ]
  },
  {
   "cell_type": "markdown",
   "metadata": {},
   "source": [
    "# Day 2"
   ]
  },
  {
   "cell_type": "code",
   "execution_count": 13,
   "metadata": {},
   "outputs": [],
   "source": [
    "def parse2(data):\n",
    "  result = Counter()\n",
    "  for round in data:\n",
    "    result[round] += 1\n",
    "  return result\n",
    "data2 = parse2(data(2))"
   ]
  },
  {
   "cell_type": "code",
   "execution_count": 11,
   "metadata": {},
   "outputs": [
    {
     "data": {
      "text/plain": [
       "13924"
      ]
     },
     "execution_count": 11,
     "metadata": {},
     "output_type": "execute_result"
    }
   ],
   "source": [
    "score = {\n",
    "  'A X': 3 + 1, # Rock Rock\n",
    "  'A Y': 6 + 2, # Rock Paper\n",
    "  'A Z': 0 + 3, # Rock Scissor\n",
    "  'B X': 0 + 1, # Paper Rock\n",
    "  'B Y': 3 + 2, # Paper Paper\n",
    "  'B Z': 6 + 3, # Paper Scissor\n",
    "  'C X': 6 + 1, # Scissor Rock\n",
    "  'C Y': 0 + 2, # Scissor Paper\n",
    "  'C Z': 3 + 3, # Scissor Scissor\n",
    "}\n",
    "sum([score[x]*data2[x] for x in data2])"
   ]
  },
  {
   "cell_type": "code",
   "execution_count": 12,
   "metadata": {},
   "outputs": [
    {
     "data": {
      "text/plain": [
       "13448"
      ]
     },
     "execution_count": 12,
     "metadata": {},
     "output_type": "execute_result"
    }
   ],
   "source": [
    "score = {\n",
    "  'A X': 0 + 3, # Rock Lose Sciss\n",
    "  'A Y': 3 + 1, # Rock Draw Rock\n",
    "  'A Z': 6 + 2, # Rock Win Paper\n",
    "  'B X': 0 + 1, # Paper Lose Rock\n",
    "  'B Y': 3 + 2, # Paper Draw Paper\n",
    "  'B Z': 6 + 3, # Paper Win Sciss\n",
    "  'C X': 0 + 2, # Scissor Lose Paper\n",
    "  'C Y': 3 + 3, # Scissor Draw Sciss\n",
    "  'C Z': 6 + 1, # Scissor Win Rock\n",
    "}\n",
    "sum([score[x]*data2[x] for x in data2])"
   ]
  },
  {
   "cell_type": "markdown",
   "metadata": {},
   "source": [
    "# Day 3"
   ]
  },
  {
   "cell_type": "code",
   "execution_count": 29,
   "metadata": {},
   "outputs": [],
   "source": [
    "data3 = data(3)\n",
    "\n",
    "def item_priority(item):\n",
    "  if ord(item) > 96:\n",
    "    return ord(item) - 96\n",
    "  return ord(item) - 38"
   ]
  },
  {
   "cell_type": "code",
   "execution_count": 31,
   "metadata": {},
   "outputs": [
    {
     "data": {
      "text/plain": [
       "7727"
      ]
     },
     "execution_count": 31,
     "metadata": {},
     "output_type": "execute_result"
    }
   ],
   "source": [
    "def rucksack_items(rucksack):\n",
    "  length = len(rucksack)//2\n",
    "  return rucksack[:length], rucksack[length:]\n",
    "  \n",
    "def day3(data):\n",
    "  sum = 0\n",
    "  for x in data:\n",
    "    a, b = rucksack_items(x)\n",
    "    sum += item_priority(list(set(a).intersection(set(b)))[0])\n",
    "  return sum\n",
    "\n",
    "day3(data3)"
   ]
  },
  {
   "cell_type": "code",
   "execution_count": 36,
   "metadata": {},
   "outputs": [
    {
     "data": {
      "text/plain": [
       "2609"
      ]
     },
     "execution_count": 36,
     "metadata": {},
     "output_type": "execute_result"
    }
   ],
   "source": [
    "def day3_2(data):\n",
    "  sum = 0\n",
    "  for i in range(len(data)//3):\n",
    "    a, b, c = data[i*3:i*3+3]\n",
    "    common = set(a).intersection(set(b)).intersection(set(c))\n",
    "    sum += item_priority(list(common)[0])\n",
    "  return sum\n",
    "\n",
    "day3_2(data3)"
   ]
  },
  {
   "cell_type": "markdown",
   "metadata": {},
   "source": [
    "# Day 4"
   ]
  },
  {
   "cell_type": "code",
   "execution_count": 43,
   "metadata": {},
   "outputs": [],
   "source": [
    "data4 = data(4)"
   ]
  },
  {
   "cell_type": "code",
   "execution_count": 41,
   "metadata": {},
   "outputs": [
    {
     "data": {
      "text/plain": [
       "2"
      ]
     },
     "execution_count": 41,
     "metadata": {},
     "output_type": "execute_result"
    }
   ],
   "source": [
    "def has_envelop(a, b):\n",
    "  return a[0] <= b[0] and a[1] >= b[1]\n",
    "\n",
    "def day4(data, f):\n",
    "  count = 0\n",
    "  for i in data:\n",
    "    a, b = [[int(x) for x in elf.split('-')] for elf in i.split(',')]\n",
    "    count += f(a, b) or f(b, a)\n",
    "  return count\n",
    "\n",
    "day4(data4, has_envelop)"
   ]
  },
  {
   "cell_type": "code",
   "execution_count": 44,
   "metadata": {},
   "outputs": [
    {
     "data": {
      "text/plain": [
       "891"
      ]
     },
     "execution_count": 44,
     "metadata": {},
     "output_type": "execute_result"
    }
   ],
   "source": [
    "def has_overlap(a, b):\n",
    "  return (a[0] <= b[0] and a[1] >= b[0]) or (a[0] >= b[0] and a[0] <= b[1])\n",
    "\n",
    "day4(data4, has_overlap)"
   ]
  },
  {
   "cell_type": "markdown",
   "metadata": {},
   "source": [
    "# Day 5"
   ]
  },
  {
   "cell_type": "code",
   "execution_count": 108,
   "metadata": {},
   "outputs": [
    {
     "name": "stdout",
     "output_type": "stream",
     "text": [
      "RFFFWBPNS\n"
     ]
    }
   ],
   "source": [
    "def make_move(positions, count, start, end):\n",
    "  if count == 0:\n",
    "    return\n",
    "  item = positions[start].popleft()\n",
    "  positions[end].appendleft(item)\n",
    "  return make_move(positions, count-1, start, end)\n",
    "\n",
    "def read_top(positions):\n",
    "  return ''.join([positions[i][0] for i in range(len(positions))])\n",
    "\n",
    "def day5(make_move):\n",
    "  def parse5():\n",
    "    with open('./data/day5.txt') as f:\n",
    "      lines = f.readlines()\n",
    "    positions = defaultdict(lambda: deque())\n",
    "    line_length = len(lines[0])\n",
    "    for n, line in enumerate(lines):\n",
    "      for i in range(line_length//4):\n",
    "        item = line[i*4:i*4+4].strip()\n",
    "        if item == '1':\n",
    "          return positions, lines[n+2:]\n",
    "        if item:\n",
    "          positions[i].append(re.match('\\[([A-Z])\\]', item)[1])\n",
    "  positions, moves = parse5()\n",
    "  for turn in moves:\n",
    "    result = re.match('move (\\d+) from (\\d) to (\\d)', turn)\n",
    "    make_move(positions, int(result[1]), int(result[2])-1, int(result[3])-1)\n",
    "  return read_top(positions)\n",
    "\n",
    "print(day5(make_move))"
   ]
  },
  {
   "cell_type": "code",
   "execution_count": 109,
   "metadata": {},
   "outputs": [
    {
     "name": "stdout",
     "output_type": "stream",
     "text": [
      "CQQBBJFCS\n"
     ]
    }
   ],
   "source": [
    "def make_move_9001(positions, count, start, end):\n",
    "  stack = deque()\n",
    "  for _ in range(count):\n",
    "    stack.appendleft(positions[start].popleft())\n",
    "  positions[end].extendleft(stack)\n",
    "\n",
    "print(day5(make_move_9001))"
   ]
  },
  {
   "cell_type": "markdown",
   "metadata": {},
   "source": [
    "# Day 6"
   ]
  },
  {
   "cell_type": "code",
   "execution_count": 12,
   "metadata": {},
   "outputs": [],
   "source": [
    "data6 = data(6)[0]"
   ]
  },
  {
   "cell_type": "code",
   "execution_count": 19,
   "metadata": {},
   "outputs": [
    {
     "data": {
      "text/plain": [
       "1262"
      ]
     },
     "execution_count": 19,
     "metadata": {},
     "output_type": "execute_result"
    }
   ],
   "source": [
    "def day6(n):\n",
    "  for i in range(len(data6)-n+1):\n",
    "    if len(set(data6[i:i+n])) == n:\n",
    "      return i + n\n",
    "\n",
    "day6(4)"
   ]
  },
  {
   "cell_type": "code",
   "execution_count": 15,
   "metadata": {},
   "outputs": [
    {
     "data": {
      "text/plain": [
       "3444"
      ]
     },
     "execution_count": 15,
     "metadata": {},
     "output_type": "execute_result"
    }
   ],
   "source": [
    "day6(14)"
   ]
  },
  {
   "cell_type": "markdown",
   "metadata": {},
   "source": [
    "# Day 7"
   ]
  },
  {
   "cell_type": "code",
   "execution_count": 36,
   "metadata": {},
   "outputs": [],
   "source": [
    "class Dir:\n",
    "  def __init__(self, parent=None):\n",
    "    self.parent = parent\n",
    "    self.files = 0\n",
    "    self.children = {}\n",
    "\n",
    "def parse_command(line, cwd, ls, root):\n",
    "  for item in ls:\n",
    "    if item.startswith('dir'):\n",
    "      name = item[4:]\n",
    "      if not cwd.children.get(name):\n",
    "        cwd.children[name] = Dir(cwd)\n",
    "    else:\n",
    "      cwd.files += int(item.split(' ')[0])\n",
    "\n",
    "  if line.startswith('cd'):\n",
    "    cwd = root if line == 'cd /' else cwd.parent if '..' in line else cwd.children[line.split(' ')[1]]\n",
    "  return cwd\n",
    "\n",
    "def parse7(data):\n",
    "  root = Dir()\n",
    "  cwd, ls = root, []\n",
    "  for line in data:\n",
    "    if line[0] == '$':\n",
    "      cwd, ls = parse_command(line[2:], cwd, ls, root), []\n",
    "    else:\n",
    "      ls.append(line)\n",
    "  if ls:\n",
    "    parse_command('ls', cwd, ls, root)\n",
    "  return root\n",
    "\n",
    "data7 = parse7(data(7))"
   ]
  },
  {
   "cell_type": "code",
   "execution_count": 65,
   "metadata": {},
   "outputs": [],
   "source": [
    "total_sizes = []\n",
    "def calculate_total_sizes(root):\n",
    "  total = root.files\n",
    "  for child in root.children:\n",
    "    total += calculate_total_sizes(root.children[child])\n",
    "  total_sizes.append(total)\n",
    "  return total\n",
    "total = calculate_total_sizes(data7)"
   ]
  },
  {
   "cell_type": "code",
   "execution_count": 66,
   "metadata": {},
   "outputs": [
    {
     "data": {
      "text/plain": [
       "1206825"
      ]
     },
     "execution_count": 66,
     "metadata": {},
     "output_type": "execute_result"
    }
   ],
   "source": [
    "sum([x for x in total_sizes if x <= 100000])"
   ]
  },
  {
   "cell_type": "code",
   "execution_count": 69,
   "metadata": {},
   "outputs": [
    {
     "name": "stdout",
     "output_type": "stream",
     "text": [
      "9608311\n"
     ]
    }
   ],
   "source": [
    "target = 48729145 - (70000000 - 30000000)\n",
    "for i in sorted(total_sizes):\n",
    "  if i >= target:\n",
    "    break\n",
    "print(i)"
   ]
  },
  {
   "cell_type": "markdown",
   "metadata": {},
   "source": [
    "# Day 8"
   ]
  },
  {
   "cell_type": "code",
   "execution_count": null,
   "metadata": {},
   "outputs": [],
   "source": []
  }
 ],
 "metadata": {
  "kernelspec": {
   "display_name": "Python 3.11.0 64-bit",
   "language": "python",
   "name": "python3"
  },
  "language_info": {
   "codemirror_mode": {
    "name": "ipython",
    "version": 3
   },
   "file_extension": ".py",
   "mimetype": "text/x-python",
   "name": "python",
   "nbconvert_exporter": "python",
   "pygments_lexer": "ipython3",
   "version": "3.11.0"
  },
  "orig_nbformat": 4,
  "vscode": {
   "interpreter": {
    "hash": "ca3ed784184f1b3bb7c3539bfb45e71710cd27667424f92c2d5bb4df9c107c23"
   }
  }
 },
 "nbformat": 4,
 "nbformat_minor": 2
}
