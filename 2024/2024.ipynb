{
 "cells": [
  {
   "cell_type": "code",
   "execution_count": 1,
   "metadata": {},
   "outputs": [],
   "source": [
    "import numpy as np\n",
    "from typing import Callable, TypeVar\n",
    "from collections import Counter, deque, defaultdict\n",
    "import itertools\n",
    "from functools import cmp_to_key, cache\n",
    "import regex as re\n",
    "from intervaltree import Interval, IntervalTree\n",
    "from concurrent.futures import ThreadPoolExecutor\n",
    "\n",
    "\n",
    "np.set_printoptions(edgeitems=30, linewidth=100000, \n",
    "    formatter=dict(float=lambda x: \"%.3g\" % x))\n",
    "\n",
    "T = TypeVar('T')\n",
    "\n",
    "def data(day: int, parser: Callable[[str], T] = str) -> list[T]:\n",
    "  with open(f\"./data/day{day}.txt\") as f:\n",
    "    return [parser(line.strip()) for line in f.readlines()]\n",
    "\n",
    "processors = {\n",
    "  'int_list': lambda x: [int(y) for y in x.split()]\n",
    "}\n",
    "\n",
    "def search(nodes, start, get_neighbors, end_condition=lambda _, __: False, dfs=True):\n",
    "    q, visited = deque([(start, 0)]), {}\n",
    "    while q:\n",
    "        current, distance = q.popleft() if dfs else q.pop()\n",
    "        if end_condition(current, distance):\n",
    "            return visited, current\n",
    "        if current in visited:\n",
    "            continue\n",
    "        for node in get_neighbors(current, distance):\n",
    "            q.append((node, distance+1))\n",
    "        visited[current] = distance\n",
    "    return visited, None"
   ]
  },
  {
   "cell_type": "code",
   "execution_count": 74,
   "metadata": {},
   "outputs": [
    {
     "data": {
      "text/plain": [
       "(1941353, 22539317)"
      ]
     },
     "execution_count": 74,
     "metadata": {},
     "output_type": "execute_result"
    }
   ],
   "source": [
    "\n",
    "def day1():\n",
    "    loc1, loc2 = zip(*data(1, processors['int_list']))\n",
    "    part1 = sum(abs(x[0]-x[1]) for x in zip(sorted(loc1), sorted(loc2)))\n",
    "    counts = Counter(loc2)\n",
    "    part2 = sum(x*counts[x] for x in loc1)\n",
    "    return part1, part2\n",
    "\n",
    "day1()"
   ]
  },
  {
   "cell_type": "code",
   "execution_count": 75,
   "metadata": {},
   "outputs": [
    {
     "data": {
      "text/plain": [
       "array([356, 413])"
      ]
     },
     "execution_count": 75,
     "metadata": {},
     "output_type": "execute_result"
    }
   ],
   "source": [
    "def day2():\n",
    "    def check_safe(report):\n",
    "        ascending = sorted(report)\n",
    "        diffs = np.diff(ascending)\n",
    "        return max(diffs) <= 3 and min(diffs) >= 1 and (\n",
    "            report == ascending or\n",
    "            report == list(reversed(ascending))\n",
    "        )\n",
    "\n",
    "    def check_safe_damp(report):\n",
    "        if check_safe(report):\n",
    "            return 1, 1\n",
    "        for damped in itertools.combinations(report, len(report)-1):\n",
    "            if check_safe(list(damped)):\n",
    "                return 0, 1\n",
    "        return 0, 0\n",
    "\n",
    "    reports = data(2, processors['int_list'])\n",
    "    safe = np.array((0,0))\n",
    "    for report in reports:\n",
    "        safe += check_safe_damp(report)\n",
    "    return safe\n",
    "\n",
    "day2()"
   ]
  },
  {
   "cell_type": "code",
   "execution_count": 76,
   "metadata": {},
   "outputs": [
    {
     "data": {
      "text/plain": [
       "(182780583, 90772405)"
      ]
     },
     "execution_count": 76,
     "metadata": {},
     "output_type": "execute_result"
    }
   ],
   "source": [
    "def day3():\n",
    "    def mul_strings(s):\n",
    "        x, y = s.split(',')\n",
    "        return int(x)*int(y)\n",
    "\n",
    "    instructions = ''.join(data(3))\n",
    "    matches = list(re.finditer(r'mul\\((\\d+,\\d+)\\)', instructions))\n",
    "    conds = list(re.finditer(r\"don't\\(\\).+?do\\(\\)\", instructions))\n",
    "    donts = IntervalTree([Interval(*cond.span()) for cond in conds])\n",
    "    result = sum([mul_strings(mul[1]) * (1 if not donts[mul.span()[0]] else 1j) for mul in matches])\n",
    "    return int(result.real+result.imag), int(result.real)\n",
    "\n",
    "day3()"
   ]
  },
  {
   "cell_type": "code",
   "execution_count": 77,
   "metadata": {},
   "outputs": [
    {
     "data": {
      "text/plain": [
       "(2599, 1948)"
      ]
     },
     "execution_count": 77,
     "metadata": {},
     "output_type": "execute_result"
    }
   ],
   "source": [
    "def day4():\n",
    "    grid = np.array(data(4, lambda x: np.array(list(x))))\n",
    "    ymax, xmax = grid.shape\n",
    "\n",
    "    def find_target_occurences(target):\n",
    "        occurences = set()\n",
    "\n",
    "        def get_neighbors(current, distance):\n",
    "            col, row = int(current.real), int(current.imag)\n",
    "            target_letter = target[distance]\n",
    "            if grid[row, col] != target_letter:\n",
    "                return\n",
    "            if distance == len(target)-1:\n",
    "                total.add(current)\n",
    "                return\n",
    "            for v in [1, -1, 1j, -1j, 1+1j, 1-1j, -1+1j, -1-1j]:\n",
    "                new = current + v\n",
    "                x, y = int(new.real), int(new.imag)\n",
    "                if not (y >= 0 and x >= 0 and y < ymax and x < xmax):\n",
    "                    continue\n",
    "                yield new\n",
    "        \n",
    "        for j in range(ymax):\n",
    "            for i in range(xmax):\n",
    "                total = set()\n",
    "                coordinate = i+1j*j\n",
    "                search(grid, coordinate, get_neighbors)\n",
    "                for end in total:\n",
    "                    occurences.add((coordinate, end))\n",
    "        return occurences\n",
    "\n",
    "    def find_diags(hits, l):\n",
    "        centers = Counter()\n",
    "        for start, end in hits:\n",
    "            distance = end-start\n",
    "            if abs(distance.real) == l and abs(distance.imag) == l:\n",
    "                center = start + distance/2\n",
    "                centers[center] += 1\n",
    "        return centers\n",
    "    \n",
    "    def find_straights(hits, target):\n",
    "        rev = target[::-1]\n",
    "        l = len(target)\n",
    "        td = l-1\n",
    "        for start, end in hits:\n",
    "            i, j = int(start.real), int(start.imag)\n",
    "            d = end-start\n",
    "            if (\n",
    "                (d.real == td and not d.imag and ''.join(grid[j, i:i+l]) == target)\n",
    "                or (d.real == -td and not d.imag and ''.join(grid[j, i-td:i+1]) == rev)\n",
    "                or (not d.real and d.imag == td and ''.join(grid[j:j+l, i]) == target)\n",
    "                or (not d.real and d.imag == -td and ''.join(grid[j-td:j+1, i]) == rev)\n",
    "            ):\n",
    "                yield start\n",
    "\n",
    "    target = 'XMAS'\n",
    "    matches = find_target_occurences(target)\n",
    "    part1 = sum(find_diags(matches, len(target)-1).values()) + len(list(find_straights(matches, target)))\n",
    "\n",
    "    centers = find_diags(find_target_occurences(target[1:]), len(target)-2)\n",
    "    part2 = sum([1 if centers[x] == 2 else 0 for x in centers])\n",
    "\n",
    "    return (part1, part2)\n",
    "\n",
    "day4()"
   ]
  },
  {
   "cell_type": "code",
   "execution_count": 78,
   "metadata": {},
   "outputs": [
    {
     "data": {
      "text/plain": [
       "(6041, 4884)"
      ]
     },
     "execution_count": 78,
     "metadata": {},
     "output_type": "execute_result"
    }
   ],
   "source": [
    "def day5():\n",
    "    text = data(5)\n",
    "    split = text.index('')\n",
    "    lists = [tuple(map(int, x.split(','))) for x in text[split+1:]]\n",
    "\n",
    "    parents = defaultdict(lambda: set())\n",
    "    for x in text[:split]:\n",
    "        parent, child = tuple(map(int, x.split('|')))\n",
    "        parents[child].add(parent)\n",
    "\n",
    "    def check_illegal(nums):\n",
    "        illegal = set()\n",
    "        for num in nums:\n",
    "            if num in illegal:\n",
    "                return True\n",
    "            illegal.update(parents[num])\n",
    "\n",
    "    def compare(a, b):\n",
    "        if a in parents[b]:\n",
    "            return 1\n",
    "        elif b in parents[a]:\n",
    "            return -1\n",
    "        return -1 if a < b else 1\n",
    "\n",
    "    part1, part2 = 0, 0\n",
    "    for nums in lists:\n",
    "        if not check_illegal(nums):\n",
    "            part1 += nums[len(nums)//2]\n",
    "        else:\n",
    "            part2 += sorted(nums, key=cmp_to_key(compare))[len(nums)//2]\n",
    "            \n",
    "    return part1, part2\n",
    "\n",
    "day5()"
   ]
  },
  {
   "cell_type": "code",
   "execution_count": 73,
   "metadata": {},
   "outputs": [
    {
     "data": {
      "text/plain": [
       "(41, 6)"
      ]
     },
     "execution_count": 73,
     "metadata": {},
     "output_type": "execute_result"
    }
   ],
   "source": [
    "def day6():\n",
    "    grid = np.array(data(0, list))\n",
    "    ymax, xmax = grid.shape\n",
    "    start = np.argwhere(grid == '^')[0]\n",
    "    grid[*start] = '.'\n",
    "    turns = [(1, 0), (0, 1), (-1, 0), (0, -1)]\n",
    "    \n",
    "    def run_guard(obstacle=(-1, -1)):\n",
    "        directions, v = itertools.cycle(turns), turns[-1]\n",
    "        y, x = int(start[0])-v[1], int(start[1])-v[0]\n",
    "        visited, states = set(), set()\n",
    "        while True:\n",
    "            ny, nx = y+v[1], x + v[0]\n",
    "            if (ny, nx, v) in states:\n",
    "                return True, states\n",
    "            elif (nx < 0 or ny < 0 or nx >= xmax or ny >= ymax):\n",
    "                return False, visited\n",
    "            elif grid[ny, nx] != '.' or (ny, nx) == obstacle:\n",
    "                v = next(directions)\n",
    "                continue\n",
    "            y, x = ny, nx\n",
    "            visited.add((y, x))\n",
    "            states.add((y, x, v))\n",
    "\n",
    "    _, original = run_guard()\n",
    "    part1 = len(original)\n",
    "    with ThreadPoolExecutor() as tpe:\n",
    "        part2 = sum([r[0] for r in tpe.map(lambda x: run_guard(x), original)])\n",
    "    return part1, part2\n",
    "\n",
    "day6()"
   ]
  },
  {
   "cell_type": "code",
   "execution_count": 11,
   "metadata": {},
   "outputs": [
    {
     "name": "stdout",
     "output_type": "stream",
     "text": [
      "11387\n"
     ]
    }
   ],
   "source": [
    "def day7():\n",
    "    equations = data(0, lambda x: [int(n) for n in re.split(r' |: ', x)])\n",
    "    \n",
    "    def check(n, acc, arr):\n",
    "        if not arr:\n",
    "            return n == acc\n",
    "        elif acc > n:\n",
    "            return False\n",
    "        x, tail = arr[0], arr[1:]\n",
    "        return (check(n, int(f'{acc}{x}'), tail) or\n",
    "                check(n, acc*x, tail) or\n",
    "                check(n, acc+x, tail))\n",
    "\n",
    "    result = 0\n",
    "    for eq in equations:\n",
    "        if check(eq[0], eq[1], tuple(eq[2:])):\n",
    "            result += eq[0]\n",
    "    print(result)\n",
    "\n",
    "\n",
    "day7()"
   ]
  },
  {
   "cell_type": "code",
   "execution_count": 50,
   "metadata": {},
   "outputs": [
    {
     "data": {
      "text/plain": [
       "(7710205485870, 20928985450275)"
      ]
     },
     "execution_count": 50,
     "metadata": {},
     "output_type": "execute_result"
    }
   ],
   "source": [
    "def day7():\n",
    "    equations, flag = data(7, lambda x: [int(n) for n in re.split(r' |: ', x)]), False\n",
    "    def check(n, acc, arr):\n",
    "        if not arr:\n",
    "            return n if n == acc else 0\n",
    "        elif acc > n:\n",
    "            return\n",
    "        x, tail = arr[0], arr[1:]\n",
    "        return ((flag and check(n, int(f'{acc}{x}'), tail)) or\n",
    "                check(n, acc*x, tail) or\n",
    "                check(n, acc+x, tail))\n",
    "    part1, flag = sum([check(eq[0], eq[1], tuple(eq[2:])) for eq in equations]), True\n",
    "    with ThreadPoolExecutor() as tpe:\n",
    "        part2 = sum(tpe.map(lambda eq: check(eq[0], eq[1], tuple(eq[2:])), equations))\n",
    "    return part1, part2\n",
    "\n",
    "day7()"
   ]
  },
  {
   "cell_type": "code",
   "execution_count": 17,
   "metadata": {},
   "outputs": [
    {
     "name": "stdout",
     "output_type": "stream",
     "text": [
      "{(np.int64(38), np.int64(23)), (np.int64(33), np.int64(36)), (np.int64(33), np.int64(45)), (np.int64(47), np.int64(7)), (np.int64(2), np.int64(48)), (np.int64(37), np.int64(15)), (np.int64(5), np.int64(10)), (np.int64(19), np.int64(9)), (np.int64(3), np.int64(13)), (np.int64(12), np.int64(25)), (np.int64(3), np.int64(22)), (np.int64(2), np.int64(2)), (np.int64(8), np.int64(18)), (np.int64(21), np.int64(37)), (np.int64(11), np.int64(5)), (np.int64(37), np.int64(33)), (np.int64(28), np.int64(30)), (np.int64(13), np.int64(8)), (np.int64(5), np.int64(37)), (np.int64(32), np.int64(21)), (np.int64(4), np.int64(39)), (np.int64(41), np.int64(24)), (np.int64(35), np.int64(17)), (np.int64(33), np.int64(29)), (np.int64(6), np.int64(20)), (np.int64(39), np.int64(17)), (np.int64(25), np.int64(34)), (np.int64(11), np.int64(44)), (np.int64(27), np.int64(6)), (np.int64(18), np.int64(37)), (np.int64(19), np.int64(2)), (np.int64(20), np.int64(22)), (np.int64(45), np.int64(21)), (np.int64(31), np.int64(22)), (np.int64(31), np.int64(31)), (np.int64(14), np.int64(24)), (np.int64(9), np.int64(19)), (np.int64(46), np.int64(13)), (np.int64(38), np.int64(9)), (np.int64(42), np.int64(25)), (np.int64(35), np.int64(19)), (np.int64(41), np.int64(35)), (np.int64(2), np.int64(34)), (np.int64(37), np.int64(1)), (np.int64(10), np.int64(47)), (np.int64(47), np.int64(11)), (np.int64(16), np.int64(42)), (np.int64(28), np.int64(7)), (np.int64(14), np.int64(8)), (np.int64(34), np.int64(23)), (np.int64(9), np.int64(3)), (np.int64(9), np.int64(12)), (np.int64(37), np.int64(28)), (np.int64(21), np.int64(41)), (np.int64(9), np.int64(21)), (np.int64(14), np.int64(35)), (np.int64(35), np.int64(3)), (np.int64(14), np.int64(44)), (np.int64(43), np.int64(34)), (np.int64(33), np.int64(33)), (np.int64(48), np.int64(15)), (np.int64(30), np.int64(43)), (np.int64(20), np.int64(8)), (np.int64(36), np.int64(4)), (np.int64(2), np.int64(45)), (np.int64(17), np.int64(9)), (np.int64(0), np.int64(2)), (np.int64(29), np.int64(38)), (np.int64(9), np.int64(14)), (np.int64(26), np.int64(48)), (np.int64(37), np.int64(30)), (np.int64(7), np.int64(44)), (np.int64(21), np.int64(43)), (np.int64(4), np.int64(36)), (np.int64(12), np.int64(49)), (np.int64(26), np.int64(11)), (np.int64(25), np.int64(13)), (np.int64(33), np.int64(26)), (np.int64(41), np.int64(39)), (np.int64(20), np.int64(1)), (np.int64(35), np.int64(32)), (np.int64(33), np.int64(44)), (np.int64(0), np.int64(41)), (np.int64(2), np.int64(38)), (np.int64(38), np.int64(25)), (np.int64(14), np.int64(12)), (np.int64(20), np.int64(28)), (np.int64(21), np.int64(27)), (np.int64(38), np.int64(43)), (np.int64(37), np.int64(23)), (np.int64(32), np.int64(2)), (np.int64(44), np.int64(1)), (np.int64(10), np.int64(8)), (np.int64(13), np.int64(7)), (np.int64(15), np.int64(4)), (np.int64(32), np.int64(20)), (np.int64(42), np.int64(22)), (np.int64(26), np.int64(4)), (np.int64(43), np.int64(20)), (np.int64(42), np.int64(31)), (np.int64(1), np.int64(23)), (np.int64(31), np.int64(3)), (np.int64(18), np.int64(18)), (np.int64(39), np.int64(16)), (np.int64(25), np.int64(33)), (np.int64(45), np.int64(11)), (np.int64(22), np.int64(9)), (np.int64(38), np.int64(27)), (np.int64(40), np.int64(24)), (np.int64(21), np.int64(20)), (np.int64(12), np.int64(17)), (np.int64(31), np.int64(30)), (np.int64(26), np.int64(43)), (np.int64(40), np.int64(42)), (np.int64(33), np.int64(3)), (np.int64(13), np.int64(0)), (np.int64(41), np.int64(16)), (np.int64(24), np.int64(0)), (np.int64(42), np.int64(15)), (np.int64(25), np.int64(8)), (np.int64(28), np.int64(34)), (np.int64(30), np.int64(31)), (np.int64(0), np.int64(27)), (np.int64(9), np.int64(39)), (np.int64(12), np.int64(1)), (np.int64(19), np.int64(49)), (np.int64(32), np.int64(34)), (np.int64(45), np.int64(13)), (np.int64(11), np.int64(45)), (np.int64(22), np.int64(11)), (np.int64(29), np.int64(26)), (np.int64(46), np.int64(42)), (np.int64(4), np.int64(6)), (np.int64(17), np.int64(12)), (np.int64(3), np.int64(16)), (np.int64(6), np.int64(33)), (np.int64(15), np.int64(45)), (np.int64(23), np.int64(28)), (np.int64(42), np.int64(8)), (np.int64(42), np.int64(17)), (np.int64(17), np.int64(27)), (np.int64(22), np.int64(41)), (np.int64(7), np.int64(4)), (np.int64(27), np.int64(37)), (np.int64(2), np.int64(26)), (np.int64(46), np.int64(26)), (np.int64(12), np.int64(3)), (np.int64(40), np.int64(19)), (np.int64(6), np.int64(17)), (np.int64(14), np.int64(0)), (np.int64(24), np.int64(32)), (np.int64(4), np.int64(17)), (np.int64(12), np.int64(30)), (np.int64(27), np.int64(12)), (np.int64(4), np.int64(26)), (np.int64(4), np.int64(35)), (np.int64(30), np.int64(17)), (np.int64(47), np.int64(33)), (np.int64(1), np.int64(11)), (np.int64(2), np.int64(10)), (np.int64(16), np.int64(9)), (np.int64(44), np.int64(25)), (np.int64(2), np.int64(19)), (np.int64(8), np.int64(35)), (np.int64(25), np.int64(21)), (np.int64(40), np.int64(3)), (np.int64(9), np.int64(43)), (np.int64(39), np.int64(22)), (np.int64(32), np.int64(38)), (np.int64(29), np.int64(21)), (np.int64(13), np.int64(34)), (np.int64(38), np.int64(33)), (np.int64(3), np.int64(11)), (np.int64(1), np.int64(41)), (np.int64(15), np.int64(40)), (np.int64(35), np.int64(43)), (np.int64(27), np.int64(5)), (np.int64(43), np.int64(1)), (np.int64(34), np.int64(20)), (np.int64(18), np.int64(36)), (np.int64(23), np.int64(23)), (np.int64(18), np.int64(45)), (np.int64(42), np.int64(12)), (np.int64(47), np.int64(26)), (np.int64(35), np.int64(6)), (np.int64(44), np.int64(9)), (np.int64(37), np.int64(34)), (np.int64(28), np.int64(31)), (np.int64(45), np.int64(47)), (np.int64(30), np.int64(28)), (np.int64(3), np.int64(41)), (np.int64(5), np.int64(38)), (np.int64(15), np.int64(15)), (np.int64(29), np.int64(14)), (np.int64(24), np.int64(27)), (np.int64(23), np.int64(7)), (np.int64(32), np.int64(40)), (np.int64(40), np.int64(23)), (np.int64(44), np.int64(39)), (np.int64(35), np.int64(36)), (np.int64(49), np.int64(35)), (np.int64(23), np.int64(16)), (np.int64(14), np.int64(4)), (np.int64(38), np.int64(35)), (np.int64(35), np.int64(45)), (np.int64(15), np.int64(42)), (np.int64(7), np.int64(38)), (np.int64(39), np.int64(36)), (np.int64(31), np.int64(41)), (np.int64(22), np.int64(38)), (np.int64(36), np.int64(37)), (np.int64(19), np.int64(21)), (np.int64(30), np.int64(30)), (np.int64(22), np.int64(47)), (np.int64(12), np.int64(46)), (np.int64(49), np.int64(10)), (np.int64(4), np.int64(42)), (np.int64(5), np.int64(40)), (np.int64(48), np.int64(20)), (np.int64(0), np.int64(35)), (np.int64(20), np.int64(4)), (np.int64(21), np.int64(3)), (np.int64(13), np.int64(29)), (np.int64(38), np.int64(28)), (np.int64(21), np.int64(21)), (np.int64(24), np.int64(47)), (np.int64(21), np.int64(10)), (np.int64(19), np.int64(5)), (np.int64(10), np.int64(2)), (np.int64(33), np.int64(4)), (np.int64(31), np.int64(34)), (np.int64(36), np.int64(30)), (np.int64(11), np.int64(10)), (np.int64(31), np.int64(43)), (np.int64(30), np.int64(23)), (np.int64(20), np.int64(43)), (np.int64(22), np.int64(40)), (np.int64(14), np.int64(36)), (np.int64(11), np.int64(19)), (np.int64(29), np.int64(0)), (np.int64(47), np.int64(39)), (np.int64(3), np.int64(27)), (np.int64(46), np.int64(16)), (np.int64(7), np.int64(6)), (np.int64(40), np.int64(18)), (np.int64(21), np.int64(14)), (np.int64(49), np.int64(30)), (np.int64(25), np.int64(30)), (np.int64(6), np.int64(25)), (np.int64(7), np.int64(24)), (np.int64(17), np.int64(1)), (np.int64(17), np.int64(10)), (np.int64(37), np.int64(22)), (np.int64(2), np.int64(0)), (np.int64(36), np.int64(32)), (np.int64(45), np.int64(44)), (np.int64(32), np.int64(10)), (np.int64(12), np.int64(41)), (np.int64(3), np.int64(47)), (np.int64(49), np.int64(14)), (np.int64(13), np.int64(24))}\n"
     ]
    },
    {
     "data": {
      "text/plain": [
       "261"
      ]
     },
     "execution_count": 17,
     "metadata": {},
     "output_type": "execute_result"
    }
   ],
   "source": [
    "def day8():\n",
    "    grid = np.array(data(8, list))\n",
    "    ymax, xmax = grid.shape\n",
    "\n",
    "    points = {i:np.argwhere(grid==i) for i in np.unique(grid) if i != '.'}\n",
    "    # print(points)\n",
    "\n",
    "    antinodes = set()\n",
    "    for antennae in points:\n",
    "        combos = itertools.combinations(points[antennae], 2)\n",
    "        for combo in combos:\n",
    "            # print(combo)\n",
    "            diff = combo[1]-combo[0]\n",
    "            for y, x in (combo[0]-diff, combo[1]+diff):\n",
    "                if y >= 0 and y < ymax and x >= 0 and x < xmax:\n",
    "                    antinodes.add((y, x))\n",
    "    print(antinodes)\n",
    "    return len(antinodes)\n",
    "\n",
    "day8()"
   ]
  }
 ],
 "metadata": {
  "kernelspec": {
   "display_name": ".venv",
   "language": "python",
   "name": "python3"
  },
  "language_info": {
   "codemirror_mode": {
    "name": "ipython",
    "version": 3
   },
   "file_extension": ".py",
   "mimetype": "text/x-python",
   "name": "python",
   "nbconvert_exporter": "python",
   "pygments_lexer": "ipython3",
   "version": "3.13.0"
  }
 },
 "nbformat": 4,
 "nbformat_minor": 2
}
