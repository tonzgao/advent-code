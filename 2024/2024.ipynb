{
 "cells": [
  {
   "cell_type": "code",
   "execution_count": 32,
   "metadata": {},
   "outputs": [],
   "source": [
    "import numpy as np\n",
    "from typing import Callable, TypeVar\n",
    "from functools import reduce\n",
    "from collections import Counter\n",
    "import itertools\n",
    "\n",
    "\n",
    "np.set_printoptions(edgeitems=30, linewidth=100000, \n",
    "    formatter=dict(float=lambda x: \"%.3g\" % x))\n",
    "\n",
    "T = TypeVar('T')\n",
    "\n",
    "def data(day: int, parser: Callable[[str], T] = str) -> list[T]:\n",
    "  with open(f\"./data/day{day}.txt\") as f:\n",
    "    return [parser(line.strip()) for line in f.readlines()]\n",
    "  \n",
    "processors = {\n",
    "  'int_list': lambda x: [int(y) for y in x.split()]\n",
    "}"
   ]
  },
  {
   "cell_type": "code",
   "execution_count": 7,
   "metadata": {},
   "outputs": [
    {
     "data": {
      "text/plain": [
       "(1941353, 22539317)"
      ]
     },
     "execution_count": 7,
     "metadata": {},
     "output_type": "execute_result"
    }
   ],
   "source": [
    "\n",
    "def day1():\n",
    "    loc1, loc2 = zip(*data(1, processors['int_list']))\n",
    "    part1 = sum(abs(x[0]-x[1]) for x in zip(sorted(loc1), sorted(loc2)))\n",
    "    counts = Counter(loc2)\n",
    "    part2 = sum(x*counts[x] for x in loc1)\n",
    "    return part1, part2\n",
    "\n",
    "day1()"
   ]
  },
  {
   "cell_type": "code",
   "execution_count": 58,
   "metadata": {},
   "outputs": [
    {
     "data": {
      "text/plain": [
       "array([356, 413])"
      ]
     },
     "execution_count": 58,
     "metadata": {},
     "output_type": "execute_result"
    }
   ],
   "source": [
    "def day2():\n",
    "    def check_safe(report):\n",
    "        ascending = sorted(report)\n",
    "        diffs = np.diff(ascending)\n",
    "        return max(diffs) <= 3 and min(diffs) >= 1 and (\n",
    "            report == ascending or\n",
    "            report == list(reversed(ascending))\n",
    "        )\n",
    "\n",
    "    def check_safe_damp(report):\n",
    "        if check_safe(report):\n",
    "            return 1, 1\n",
    "        for damped in itertools.combinations(report, len(report)-1):\n",
    "            if check_safe(list(damped)):\n",
    "                return 0, 1\n",
    "        return 0, 0\n",
    "\n",
    "    reports = data(2, processors['int_list'])\n",
    "    safe = np.array((0,0))\n",
    "    for report in reports:\n",
    "        safe += check_safe_damp(report)\n",
    "    return safe\n",
    "\n",
    "day2()"
   ]
  },
  {
   "cell_type": "code",
   "execution_count": null,
   "metadata": {},
   "outputs": [],
   "source": [
    "def day3():\n",
    "    pass"
   ]
  }
 ],
 "metadata": {
  "kernelspec": {
   "display_name": ".venv",
   "language": "python",
   "name": "python3"
  },
  "language_info": {
   "codemirror_mode": {
    "name": "ipython",
    "version": 3
   },
   "file_extension": ".py",
   "mimetype": "text/x-python",
   "name": "python",
   "nbconvert_exporter": "python",
   "pygments_lexer": "ipython3",
   "version": "3.13.0"
  }
 },
 "nbformat": 4,
 "nbformat_minor": 2
}
