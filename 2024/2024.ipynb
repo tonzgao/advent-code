{
 "cells": [
  {
   "cell_type": "code",
   "execution_count": 10,
   "metadata": {},
   "outputs": [],
   "source": [
    "import numpy as np\n",
    "from typing import Callable, TypeVar\n",
    "from collections import Counter, deque\n",
    "import itertools\n",
    "import regex as re\n",
    "from intervaltree import Interval, IntervalTree\n",
    "\n",
    "\n",
    "np.set_printoptions(edgeitems=30, linewidth=100000, \n",
    "    formatter=dict(float=lambda x: \"%.3g\" % x))\n",
    "\n",
    "T = TypeVar('T')\n",
    "\n",
    "def data(day: int, parser: Callable[[str], T] = str) -> list[T]:\n",
    "  with open(f\"./data/day{day}.txt\") as f:\n",
    "    return [parser(line.strip()) for line in f.readlines()]\n",
    "\n",
    "processors = {\n",
    "  'int_list': lambda x: [int(y) for y in x.split()]\n",
    "}\n",
    "\n",
    "def search(nodes, start, get_neighbors, end_condition=lambda _, __: False, dfs=True):\n",
    "    q, visited = deque([(start, 0)]), {}\n",
    "    while q:\n",
    "        current, distance = q.popleft() if dfs else q.pop()\n",
    "        if end_condition(current, distance):\n",
    "            return visited, current\n",
    "        if current in visited:\n",
    "            continue\n",
    "        for node in get_neighbors(current, distance):\n",
    "            q.append((node, distance+1))\n",
    "        visited[current] = distance\n",
    "    return visited, None"
   ]
  },
  {
   "cell_type": "code",
   "execution_count": 7,
   "metadata": {},
   "outputs": [
    {
     "data": {
      "text/plain": [
       "(1941353, 22539317)"
      ]
     },
     "execution_count": 7,
     "metadata": {},
     "output_type": "execute_result"
    }
   ],
   "source": [
    "\n",
    "def day1():\n",
    "    loc1, loc2 = zip(*data(1, processors['int_list']))\n",
    "    part1 = sum(abs(x[0]-x[1]) for x in zip(sorted(loc1), sorted(loc2)))\n",
    "    counts = Counter(loc2)\n",
    "    part2 = sum(x*counts[x] for x in loc1)\n",
    "    return part1, part2\n",
    "\n",
    "day1()"
   ]
  },
  {
   "cell_type": "code",
   "execution_count": 80,
   "metadata": {},
   "outputs": [
    {
     "data": {
      "text/plain": [
       "array([356, 413])"
      ]
     },
     "execution_count": 80,
     "metadata": {},
     "output_type": "execute_result"
    }
   ],
   "source": [
    "def day2():\n",
    "    def check_safe(report):\n",
    "        ascending = sorted(report)\n",
    "        diffs = np.diff(ascending)\n",
    "        return max(diffs) <= 3 and min(diffs) >= 1 and (\n",
    "            report == ascending or\n",
    "            report == list(reversed(ascending))\n",
    "        )\n",
    "\n",
    "    def check_safe_damp(report):\n",
    "        if check_safe(report):\n",
    "            return 1, 1\n",
    "        for damped in itertools.combinations(report, len(report)-1):\n",
    "            if check_safe(list(damped)):\n",
    "                return 0, 1\n",
    "        return 0, 0\n",
    "\n",
    "    reports = data(2, processors['int_list'])\n",
    "    safe = np.array((0,0))\n",
    "    for report in reports:\n",
    "        safe += check_safe_damp(report)\n",
    "    return safe\n",
    "\n",
    "day2()"
   ]
  },
  {
   "cell_type": "code",
   "execution_count": 76,
   "metadata": {},
   "outputs": [
    {
     "data": {
      "text/plain": [
       "(182780583, 90772405)"
      ]
     },
     "execution_count": 76,
     "metadata": {},
     "output_type": "execute_result"
    }
   ],
   "source": [
    "def day3():\n",
    "    def mul_strings(s):\n",
    "        x, y = s.split(',')\n",
    "        return int(x)*int(y)\n",
    "\n",
    "    instructions = ''.join(data(3))\n",
    "    matches = list(re.finditer(r'mul\\((\\d+,\\d+)\\)', instructions))\n",
    "    conds = list(re.finditer(r\"don't\\(\\).+?do\\(\\)\", instructions))\n",
    "    donts = IntervalTree([Interval(*cond.span()) for cond in conds])\n",
    "    result = sum([mul_strings(mul[1]) * (1 if not donts[mul.span()[0]] else 1j) for mul in matches])\n",
    "    return int(result.real+result.imag), int(result.real)\n",
    "\n",
    "day3()"
   ]
  },
  {
   "cell_type": "code",
   "execution_count": 131,
   "metadata": {},
   "outputs": [
    {
     "data": {
      "text/plain": [
       "2599"
      ]
     },
     "execution_count": 131,
     "metadata": {},
     "output_type": "execute_result"
    }
   ],
   "source": [
    "def day4():\n",
    "    grid = np.array(data(4, lambda x: np.array(list(x))))\n",
    "    target = 'XMAS'\n",
    "    rev = target[::-1]\n",
    "    ymax, xmax = grid.shape\n",
    "    count = 0\n",
    "    # print(grid)\n",
    "\n",
    "    def get_neighbors(current, distance):\n",
    "        col, row = int(current.real), int(current.imag)\n",
    "        target_letter = target[distance]\n",
    "        if grid[row, col] != target_letter:\n",
    "            return\n",
    "        if distance == len(target)-1:\n",
    "            total.add(current)\n",
    "            return\n",
    "        for v in [1, -1, 1j, -1j, 1+1j, 1-1j, -1+1j, -1-1j]:\n",
    "            new = current + v\n",
    "            x, y = int(new.real), int(new.imag)\n",
    "            if not (y >= 0 and x >= 0 and y < ymax and x < xmax):\n",
    "                continue\n",
    "            yield new\n",
    "    \n",
    "    for j in range(ymax):\n",
    "        for i in range(xmax):\n",
    "            # Find diagonals - already implemented from misreading the question\n",
    "            total = set()\n",
    "            coordinate = i+1j*j\n",
    "            search(grid, coordinate, get_neighbors)\n",
    "            for x in total:\n",
    "                distance = x-coordinate\n",
    "                if abs(distance.real) == 3 and abs(distance.imag) == 3:\n",
    "                    count += 1\n",
    "                elif distance.real == 3 and not distance.imag:\n",
    "                    if ''.join(grid[j, i:i+4]) == target:\n",
    "                        # print('a', x, coordinate, distance, i, j, grid[j, i:i+4])\n",
    "                        count += 1\n",
    "                elif distance.real == -3 and not distance.imag:\n",
    "                    # print('b', x, coordinate, distance, i, j, grid[j, i-3:i+1], rev)\n",
    "                    if ''.join(grid[j, i-3:i+1]) == rev:\n",
    "                        count += 1\n",
    "                elif not distance.real and distance.imag == 3:\n",
    "                    if ''.join(grid[j:j+4, i]) == target:\n",
    "                        count += 1\n",
    "                elif not distance.real and distance.imag == -3:\n",
    "                    if ''.join(grid[j-3:j+1, i]) == rev:\n",
    "                        count += 1\n",
    "\n",
    "    return count\n",
    "\n",
    "day4()"
   ]
  },
  {
   "cell_type": "code",
   "execution_count": 125,
   "metadata": {},
   "outputs": [
    {
     "data": {
      "text/plain": [
       "'tset'"
      ]
     },
     "execution_count": 125,
     "metadata": {},
     "output_type": "execute_result"
    }
   ],
   "source": [
    "'test'[::-1]"
   ]
  }
 ],
 "metadata": {
  "kernelspec": {
   "display_name": ".venv",
   "language": "python",
   "name": "python3"
  },
  "language_info": {
   "codemirror_mode": {
    "name": "ipython",
    "version": 3
   },
   "file_extension": ".py",
   "mimetype": "text/x-python",
   "name": "python",
   "nbconvert_exporter": "python",
   "pygments_lexer": "ipython3",
   "version": "3.13.0"
  }
 },
 "nbformat": 4,
 "nbformat_minor": 2
}
