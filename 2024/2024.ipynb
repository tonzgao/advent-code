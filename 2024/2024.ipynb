{
 "cells": [
  {
   "cell_type": "code",
   "execution_count": 300,
   "metadata": {},
   "outputs": [],
   "source": [
    "import numpy as np\n",
    "import heapq\n",
    "import math\n",
    "from typing import Callable, TypeVar\n",
    "from collections import Counter, deque, defaultdict\n",
    "import itertools\n",
    "from functools import cmp_to_key, cache\n",
    "import regex as re\n",
    "from intervaltree import Interval, IntervalTree\n",
    "from concurrent.futures import ThreadPoolExecutor\n",
    "from sortedcontainers import SortedDict\n",
    "import z3\n",
    "import networkx as nx\n",
    "\n",
    "np.set_printoptions(edgeitems=30, linewidth=100000, \n",
    "    formatter=dict(float=lambda x: \"%.3g\" % x))\n",
    "\n",
    "T = TypeVar('T')\n",
    "\n",
    "def data(day: int, parser: Callable[[str], T] = str) -> list[T]:\n",
    "  with open(f\"./data/day{day}.txt\") as f:\n",
    "    return [parser(line.strip()) for line in f.readlines()]\n",
    "\n",
    "processors = {\n",
    "  'int_list': lambda x: [int(y) for y in x.split()],\n",
    "  'int_string': lambda x: [int(y) for y in x]\n",
    "}\n",
    "\n",
    "def search(start, get_neighbors, end_condition=lambda _, __: False, method='dfs', permutations=False):\n",
    "    q, visited = [(0, start)] if method == 'dijkstra' else deque([(0, start)]), {}\n",
    "\n",
    "    while q:\n",
    "        if method == 'dijkstra':\n",
    "            distance, current = heapq.heappop(q)\n",
    "        else:\n",
    "            distance, current = q.popleft() if method=='dfs' else q.pop()\n",
    "        if end_condition(current, distance):\n",
    "            visited[current] = distance\n",
    "            return visited, current\n",
    "        if current in visited and not permutations:\n",
    "            continue\n",
    "        for node in get_neighbors(current, distance):\n",
    "            if method == 'dijkstra':\n",
    "                heapq.heappush(q, node)\n",
    "            else:\n",
    "                q.append((distance+1, node))\n",
    "        visited[current] = distance\n",
    "    return visited, None\n",
    "\n",
    "def sum_series(start, stop):\n",
    "    n = (stop - start)\n",
    "    sum = start + stop\n",
    "    return n * sum // 2\n",
    "\n",
    "def debug_array(arr, coords, p=True):\n",
    "    arr = arr.copy()\n",
    "    for i in coords:\n",
    "        arr[*i] = 'X'\n",
    "    if p:\n",
    "        print(arr)\n",
    "    return arr\n",
    "\n",
    "def flatten(xss):\n",
    "    return [x for xs in xss for x in xs]\n",
    "\n",
    "def yx(n):\n",
    "    return int(n.imag), int(n.real)\n",
    "def icoord(y, x):\n",
    "    return int(x)+1j*int(y)"
   ]
  },
  {
   "cell_type": "code",
   "execution_count": 74,
   "metadata": {},
   "outputs": [
    {
     "data": {
      "text/plain": [
       "(1941353, 22539317)"
      ]
     },
     "execution_count": 74,
     "metadata": {},
     "output_type": "execute_result"
    }
   ],
   "source": [
    "\n",
    "def day1():\n",
    "    loc1, loc2 = zip(*data(1, processors['int_list']))\n",
    "    part1 = sum(abs(x[0]-x[1]) for x in zip(sorted(loc1), sorted(loc2)))\n",
    "    counts = Counter(loc2)\n",
    "    part2 = sum(x*counts[x] for x in loc1)\n",
    "    return part1, part2\n",
    "\n",
    "day1()"
   ]
  },
  {
   "cell_type": "code",
   "execution_count": 75,
   "metadata": {},
   "outputs": [
    {
     "data": {
      "text/plain": [
       "array([356, 413])"
      ]
     },
     "execution_count": 75,
     "metadata": {},
     "output_type": "execute_result"
    }
   ],
   "source": [
    "def day2():\n",
    "    def check_safe(report):\n",
    "        ascending = sorted(report)\n",
    "        diffs = np.diff(ascending)\n",
    "        return max(diffs) <= 3 and min(diffs) >= 1 and (\n",
    "            report == ascending or\n",
    "            report == list(reversed(ascending))\n",
    "        )\n",
    "\n",
    "    def check_safe_damp(report):\n",
    "        if check_safe(report):\n",
    "            return 1, 1\n",
    "        for damped in itertools.combinations(report, len(report)-1):\n",
    "            if check_safe(list(damped)):\n",
    "                return 0, 1\n",
    "        return 0, 0\n",
    "\n",
    "    reports = data(2, processors['int_list'])\n",
    "    safe = np.array((0,0))\n",
    "    for report in reports:\n",
    "        safe += check_safe_damp(report)\n",
    "    return safe\n",
    "\n",
    "day2()"
   ]
  },
  {
   "cell_type": "code",
   "execution_count": 76,
   "metadata": {},
   "outputs": [
    {
     "data": {
      "text/plain": [
       "(182780583, 90772405)"
      ]
     },
     "execution_count": 76,
     "metadata": {},
     "output_type": "execute_result"
    }
   ],
   "source": [
    "def day3():\n",
    "    def mul_strings(s):\n",
    "        x, y = s.split(',')\n",
    "        return int(x)*int(y)\n",
    "\n",
    "    instructions = ''.join(data(3))\n",
    "    matches = list(re.finditer(r'mul\\((\\d+,\\d+)\\)', instructions))\n",
    "    conds = list(re.finditer(r\"don't\\(\\).+?do\\(\\)\", instructions))\n",
    "    donts = IntervalTree([Interval(*cond.span()) for cond in conds])\n",
    "    result = sum([mul_strings(mul[1]) * (1 if not donts[mul.span()[0]] else 1j) for mul in matches])\n",
    "    return int(result.real+result.imag), int(result.real)\n",
    "\n",
    "day3()"
   ]
  },
  {
   "cell_type": "code",
   "execution_count": 9,
   "metadata": {},
   "outputs": [
    {
     "data": {
      "text/plain": [
       "(2599, 1948)"
      ]
     },
     "execution_count": 9,
     "metadata": {},
     "output_type": "execute_result"
    }
   ],
   "source": [
    "def day4():\n",
    "    grid = np.array(data(4, lambda x: np.array(list(x))))\n",
    "    ymax, xmax = grid.shape\n",
    "\n",
    "    def find_target_occurences(target):\n",
    "        occurences = set()\n",
    "\n",
    "        def get_neighbors(current, distance):\n",
    "            row, col = yx(current)\n",
    "            target_letter = target[distance]\n",
    "            if grid[row, col] != target_letter:\n",
    "                return\n",
    "            if distance == len(target)-1:\n",
    "                total.add(current)\n",
    "                return\n",
    "            for v in [1, -1, 1j, -1j, 1+1j, 1-1j, -1+1j, -1-1j]:\n",
    "                new = current + v\n",
    "                y, x = yx(new)\n",
    "                if not (y >= 0 and x >= 0 and y < ymax and x < xmax):\n",
    "                    continue\n",
    "                yield new\n",
    "        \n",
    "        for j in range(ymax):\n",
    "            for i in range(xmax):\n",
    "                total = set()\n",
    "                coordinate = i+1j*j\n",
    "                search(coordinate, get_neighbors)\n",
    "                for end in total:\n",
    "                    occurences.add((coordinate, end))\n",
    "        return occurences\n",
    "\n",
    "    def find_diags(hits, l):\n",
    "        centers = Counter()\n",
    "        for start, end in hits:\n",
    "            distance = end-start\n",
    "            if abs(distance.real) == l and abs(distance.imag) == l:\n",
    "                center = start + distance/2\n",
    "                centers[center] += 1\n",
    "        return centers\n",
    "    \n",
    "    def find_straights(hits, target):\n",
    "        rev = target[::-1]\n",
    "        l = len(target)\n",
    "        td = l-1\n",
    "        for start, end in hits:\n",
    "            j, i = yx(start)\n",
    "            d = end-start\n",
    "            if (\n",
    "                (d.real == td and not d.imag and ''.join(grid[j, i:i+l]) == target)\n",
    "                or (d.real == -td and not d.imag and ''.join(grid[j, i-td:i+1]) == rev)\n",
    "                or (not d.real and d.imag == td and ''.join(grid[j:j+l, i]) == target)\n",
    "                or (not d.real and d.imag == -td and ''.join(grid[j-td:j+1, i]) == rev)\n",
    "            ):\n",
    "                yield start\n",
    "\n",
    "    target = 'XMAS'\n",
    "    matches = find_target_occurences(target)\n",
    "    part1 = sum(find_diags(matches, len(target)-1).values()) + len(list(find_straights(matches, target)))\n",
    "\n",
    "    centers = find_diags(find_target_occurences(target[1:]), len(target)-2)\n",
    "    part2 = sum([1 if centers[x] == 2 else 0 for x in centers])\n",
    "\n",
    "    return (part1, part2)\n",
    "\n",
    "day4()"
   ]
  },
  {
   "cell_type": "code",
   "execution_count": 78,
   "metadata": {},
   "outputs": [
    {
     "data": {
      "text/plain": [
       "(6041, 4884)"
      ]
     },
     "execution_count": 78,
     "metadata": {},
     "output_type": "execute_result"
    }
   ],
   "source": [
    "def day5():\n",
    "    text = data(5)\n",
    "    split = text.index('')\n",
    "    lists = [tuple(map(int, x.split(','))) for x in text[split+1:]]\n",
    "\n",
    "    parents = defaultdict(lambda: set())\n",
    "    for x in text[:split]:\n",
    "        parent, child = tuple(map(int, x.split('|')))\n",
    "        parents[child].add(parent)\n",
    "\n",
    "    def check_illegal(nums):\n",
    "        illegal = set()\n",
    "        for num in nums:\n",
    "            if num in illegal:\n",
    "                return True\n",
    "            illegal.update(parents[num])\n",
    "\n",
    "    def compare(a, b):\n",
    "        if a in parents[b]:\n",
    "            return 1\n",
    "        elif b in parents[a]:\n",
    "            return -1\n",
    "        return -1 if a < b else 1\n",
    "\n",
    "    part1, part2 = 0, 0\n",
    "    for nums in lists:\n",
    "        if not check_illegal(nums):\n",
    "            part1 += nums[len(nums)//2]\n",
    "        else:\n",
    "            part2 += sorted(nums, key=cmp_to_key(compare))[len(nums)//2]\n",
    "            \n",
    "    return part1, part2\n",
    "\n",
    "day5()"
   ]
  },
  {
   "cell_type": "code",
   "execution_count": 73,
   "metadata": {},
   "outputs": [
    {
     "data": {
      "text/plain": [
       "(41, 6)"
      ]
     },
     "execution_count": 73,
     "metadata": {},
     "output_type": "execute_result"
    }
   ],
   "source": [
    "def day6():\n",
    "    grid = np.array(data(0, list))\n",
    "    ymax, xmax = grid.shape\n",
    "    start = np.argwhere(grid == '^')[0]\n",
    "    grid[*start] = '.'\n",
    "    turns = [(1, 0), (0, 1), (-1, 0), (0, -1)]\n",
    "    \n",
    "    def run_guard(obstacle=(-1, -1)):\n",
    "        directions, v = itertools.cycle(turns), turns[-1]\n",
    "        y, x = int(start[0])-v[1], int(start[1])-v[0]\n",
    "        visited, states = set(), set()\n",
    "        while True:\n",
    "            ny, nx = y+v[1], x + v[0]\n",
    "            if (ny, nx, v) in states:\n",
    "                return True, states\n",
    "            elif (nx < 0 or ny < 0 or nx >= xmax or ny >= ymax):\n",
    "                return False, visited\n",
    "            elif grid[ny, nx] != '.' or (ny, nx) == obstacle:\n",
    "                v = next(directions)\n",
    "                continue\n",
    "            y, x = ny, nx\n",
    "            visited.add((y, x))\n",
    "            states.add((y, x, v))\n",
    "\n",
    "    _, original = run_guard()\n",
    "    part1 = len(original)\n",
    "    with ThreadPoolExecutor() as tpe:\n",
    "        part2 = sum([r[0] for r in tpe.map(lambda x: run_guard(x), original)])\n",
    "    return part1, part2\n",
    "\n",
    "day6()"
   ]
  },
  {
   "cell_type": "code",
   "execution_count": 11,
   "metadata": {},
   "outputs": [
    {
     "name": "stdout",
     "output_type": "stream",
     "text": [
      "11387\n"
     ]
    }
   ],
   "source": [
    "def day7():\n",
    "    equations = data(0, lambda x: [int(n) for n in re.split(r' |: ', x)])\n",
    "    \n",
    "    def check(n, acc, arr):\n",
    "        if not arr:\n",
    "            return n == acc\n",
    "        elif acc > n:\n",
    "            return False\n",
    "        x, tail = arr[0], arr[1:]\n",
    "        return (check(n, int(f'{acc}{x}'), tail) or\n",
    "                check(n, acc*x, tail) or\n",
    "                check(n, acc+x, tail))\n",
    "\n",
    "    result = 0\n",
    "    for eq in equations:\n",
    "        if check(eq[0], eq[1], tuple(eq[2:])):\n",
    "            result += eq[0]\n",
    "    print(result)\n",
    "\n",
    "\n",
    "day7()"
   ]
  },
  {
   "cell_type": "code",
   "execution_count": 50,
   "metadata": {},
   "outputs": [
    {
     "data": {
      "text/plain": [
       "(7710205485870, 20928985450275)"
      ]
     },
     "execution_count": 50,
     "metadata": {},
     "output_type": "execute_result"
    }
   ],
   "source": [
    "def day7():\n",
    "    equations, flag = data(7, lambda x: [int(n) for n in re.split(r' |: ', x)]), False\n",
    "    def check(n, acc, arr):\n",
    "        if not arr:\n",
    "            return n if n == acc else 0\n",
    "        elif acc > n:\n",
    "            return\n",
    "        x, tail = arr[0], arr[1:]\n",
    "        return ((flag and check(n, int(f'{acc}{x}'), tail)) or\n",
    "                check(n, acc*x, tail) or\n",
    "                check(n, acc+x, tail))\n",
    "    part1, flag = sum([check(eq[0], eq[1], tuple(eq[2:])) for eq in equations]), True\n",
    "    with ThreadPoolExecutor() as tpe:\n",
    "        part2 = sum(tpe.map(lambda eq: check(eq[0], eq[1], tuple(eq[2:])), equations))\n",
    "    return part1, part2\n",
    "\n",
    "day7()"
   ]
  },
  {
   "cell_type": "code",
   "execution_count": 72,
   "metadata": {},
   "outputs": [
    {
     "data": {
      "text/plain": [
       "(261, 898)"
      ]
     },
     "execution_count": 72,
     "metadata": {},
     "output_type": "execute_result"
    }
   ],
   "source": [
    "def day8():\n",
    "    grid = np.array(data(8, list))\n",
    "    ymax, xmax = grid.shape\n",
    "    def is_inside(y, x):\n",
    "        return y >= 0 and y < ymax and x >= 0 and x < xmax\n",
    "    def get_nodes(start, diff, sign=1):\n",
    "        node = start.copy()\n",
    "        while is_inside(*node):\n",
    "            yield tuple(node)\n",
    "            node -= sign*diff\n",
    "\n",
    "    part1, part2 = set(), set()\n",
    "    points = {i:np.argwhere(grid==i) for i in np.unique(grid) if i != '.'}\n",
    "    for antennae in points:\n",
    "        combos = itertools.combinations(points[antennae], 2)\n",
    "        for combo in combos:\n",
    "            diff = combo[1]-combo[0]\n",
    "            for y, x in (combo[0]-diff, combo[1]+diff):\n",
    "                if is_inside(y, x):\n",
    "                    part1.add((y, x))\n",
    "            for (y, x) in [*get_nodes(combo[0], diff), *get_nodes(combo[1], diff, -1)]:\n",
    "                part2.add((y, x))\n",
    "\n",
    "    return len(part1), len(part2)\n",
    "\n",
    "day8()"
   ]
  },
  {
   "cell_type": "code",
   "execution_count": 87,
   "metadata": {},
   "outputs": [
    {
     "data": {
      "text/plain": [
       "(6349606724455, 6376648986651)"
      ]
     },
     "execution_count": 87,
     "metadata": {},
     "output_type": "execute_result"
    }
   ],
   "source": [
    "def day9():\n",
    "    disk_map = data(9)[0]\n",
    "    files = [int(x) for x in disk_map[0::2]]\n",
    "    buffers = [int(x) for x in disk_map[1::2]]\n",
    "\n",
    "    def part1(buffers):\n",
    "        p = 0 # Current pointer location\n",
    "        buffer = 0 # Current buffer space available\n",
    "        fid = 0 # Current file number from left to right\n",
    "        checksum = 0 # Result\n",
    "        for n in range(len(files)-1, -1, -1):\n",
    "            req = files[n]\n",
    "            while req > buffer:\n",
    "                # fill buffer with rightmost file\n",
    "                checksum += sum_series(p, p+buffer)*n\n",
    "                p += buffer\n",
    "                req -= buffer\n",
    "                # add current file to checksum\n",
    "                fsize = files[fid]\n",
    "                checksum += sum_series(p, p+fsize)*fid\n",
    "                p += fsize\n",
    "                fid += 1\n",
    "                if fid >= n:\n",
    "                    checksum += sum_series(p, p+req)*fid\n",
    "                    return checksum\n",
    "                # get next buffer\n",
    "                buffer = next(buffers)\n",
    "            checksum += sum_series(p, p+req)*n\n",
    "            p += req\n",
    "            buffer -= req\n",
    "\n",
    "    def part2(buffers):\n",
    "        p = 0\n",
    "        starts = {}\n",
    "        slots = SortedDict()\n",
    "        for i, v in enumerate(files):\n",
    "            starts[i] = p\n",
    "            p += v\n",
    "            try:\n",
    "                buffer = next(buffers)\n",
    "                if buffer:\n",
    "                    slots[p] = buffer\n",
    "                    p += buffer\n",
    "            except StopIteration:\n",
    "                continue\n",
    "\n",
    "        def find_slot(size): # O(n)\n",
    "            for index, value in slots.items():\n",
    "                if value >= size:\n",
    "                    return index\n",
    "            return -1\n",
    "\n",
    "        checksum = 0\n",
    "        for n in range(len(files)-1, -1, -1):\n",
    "            req = files[n]\n",
    "            p = find_slot(req)\n",
    "            if p != -1 and p < starts[n]:\n",
    "                buffer = slots[p]\n",
    "                del slots[p]\n",
    "                if (rem := buffer-req):\n",
    "                    slots[p+req] = rem\n",
    "            else:\n",
    "                p = starts[n]\n",
    "            checksum += sum_series(p, p+req)*n\n",
    "        return checksum\n",
    "    \n",
    "    return part1(iter(buffers)), part2(iter(buffers))\n",
    "\n",
    "day9()"
   ]
  },
  {
   "cell_type": "code",
   "execution_count": 27,
   "metadata": {},
   "outputs": [
    {
     "data": {
      "text/plain": [
       "(737, 1619)"
      ]
     },
     "execution_count": 27,
     "metadata": {},
     "output_type": "execute_result"
    }
   ],
   "source": [
    "def day10():\n",
    "    grid = np.array(data(10, processors['int_string']))\n",
    "    ymax, xmax = grid.shape\n",
    "    starts = np.argwhere(grid==0)\n",
    "\n",
    "    def get_neighbors(current, distance):\n",
    "        for v in (1, -1, 1j, -1j):\n",
    "            new = current + v\n",
    "            y, x = yx(new)\n",
    "            if not (y >= 0 and x >= 0 and y < ymax and x < xmax):\n",
    "                continue\n",
    "            if grid[y, x] == distance + 1:\n",
    "                yield new\n",
    "\n",
    "    def trail_end(current, distance):\n",
    "        if distance == 9:\n",
    "            trailheads.add(current)\n",
    "\n",
    "    def rating_end(current, distance):\n",
    "        if distance == 9:\n",
    "            ratings.append(current)\n",
    "\n",
    "    part1, part2 = 0, 0\n",
    "    for y, x in starts:\n",
    "        trailheads, ratings = set(), []\n",
    "        search(x+1j*y, get_neighbors, trail_end)\n",
    "        search(x+1j*y, get_neighbors, rating_end, permutations=True)\n",
    "        part1 += len(trailheads)\n",
    "        part2 += len(ratings)\n",
    "    return part1, part2\n",
    "\n",
    "day10()"
   ]
  },
  {
   "cell_type": "code",
   "execution_count": 7,
   "metadata": {},
   "outputs": [
    {
     "data": {
      "text/plain": [
       "(186424, 219838428124832)"
      ]
     },
     "execution_count": 7,
     "metadata": {},
     "output_type": "execute_result"
    }
   ],
   "source": [
    "def day11():\n",
    "    stones = data(11, processors['int_list'])[0]\n",
    "\n",
    "    def next_stones(s):\n",
    "        if not s:\n",
    "            return (1, )\n",
    "        ss = str(s)\n",
    "        half, rem = divmod(len(ss), 2)\n",
    "        if not rem:\n",
    "            return int(ss[:half + rem]), int(ss[half + rem:])\n",
    "        return (s*2024, )\n",
    "    \n",
    "    @cache\n",
    "    def run_stones(s, i):\n",
    "        if not i:\n",
    "            return [s]\n",
    "        result = flatten([run_stones(stone, i-1) for stone in next_stones(s)])\n",
    "        return result\n",
    "\n",
    "    @cache\n",
    "    def stone_count(s, i):\n",
    "        if not i:\n",
    "            return 1\n",
    "        stones = run_stones(s, 1)\n",
    "        result = 0\n",
    "        for stone in stones:\n",
    "            result += stone_count(stone, i-1)\n",
    "        return result\n",
    "\n",
    "    part1 = sum(stone_count(s, 25) for s in stones)\n",
    "    part2 = sum(stone_count(s, 75) for s in stones)\n",
    "    return part1, part2\n",
    "\n",
    "day11()"
   ]
  },
  {
   "cell_type": "code",
   "execution_count": 32,
   "metadata": {},
   "outputs": [
    {
     "data": {
      "text/plain": [
       "(1473276, 901100)"
      ]
     },
     "execution_count": 32,
     "metadata": {},
     "output_type": "execute_result"
    }
   ],
   "source": [
    "def day12():\n",
    "    grid = np.array(data(12, list))\n",
    "    ymax, xmax = grid.shape\n",
    "    \n",
    "    def corner_count(n, y, x):\n",
    "        size = len(n)\n",
    "        if not size:\n",
    "            return 4\n",
    "        elif size == 1:\n",
    "            return 2\n",
    "        elif size == 2: \n",
    "            b, a = yx(n[0])\n",
    "            j, i = yx(n[1])\n",
    "            if j != b and i != a: # L shape\n",
    "                return 1 if grid[j, a] == grid[b, i] else 2\n",
    "        else:\n",
    "            ys, xs = list(zip(*[yx(node) for node in n])) # Check diagonals\n",
    "            bot, top, left, right = min(ys), max(ys), min(xs), max(xs)\n",
    "            return len([i for i in [(bot, left), (bot, right), (top, left), (top, right)] if grid[i] != grid[y, x]])\n",
    "        return 0\n",
    "\n",
    "    def get_neighbors(current, _):\n",
    "        target = yx(current)\n",
    "        neighbors = []\n",
    "        for v in (1, -1, 1j, -1j):\n",
    "            new = current + v\n",
    "            y, x = yx(new)\n",
    "            if not (y >= 0 and x >= 0 and y < ymax and x < xmax):\n",
    "                continue\n",
    "            if grid[y, x] == grid[*target]:\n",
    "                neighbors.append(new)\n",
    "                perimeters[current] -= 1\n",
    "        corners[current] = corner_count(neighbors, *target)\n",
    "        return neighbors\n",
    "\n",
    "    part1, part2 = 0, 0\n",
    "    visited = set()\n",
    "    perimeters, corners = defaultdict(lambda: 4), {}\n",
    "    for j in range(ymax):\n",
    "        for i in range(xmax):\n",
    "            coordinate = i + 1j*j\n",
    "            if coordinate in visited:\n",
    "                continue\n",
    "            region, _ = search(coordinate, get_neighbors)\n",
    "            visited.update(region)\n",
    "            part1 += len(region)*sum(perimeters[r] for r in region.keys())\n",
    "            part2 += len(region)*sum(corners[r] for r in region.keys())\n",
    "    return part1, part2\n",
    "\n",
    "day12()"
   ]
  },
  {
   "cell_type": "code",
   "execution_count": 35,
   "metadata": {},
   "outputs": [
    {
     "data": {
      "text/plain": [
       "(36758, 76358113886726)"
      ]
     },
     "execution_count": 35,
     "metadata": {},
     "output_type": "execute_result"
    }
   ],
   "source": [
    "def day13():\n",
    "    lines = data(13)\n",
    "    groups = [lines[i:i+3] for i in range(0, len(lines), 4)]\n",
    "\n",
    "    def parse_coords(text, prize=False):\n",
    "        r = r'Prize: X=(\\d+), Y=(\\d+)' if prize else r'Button .: X\\+(\\d+), Y\\+(\\d+)'\n",
    "        matches = re.findall(r, text)[0]\n",
    "        return int(matches[0]), int(matches[1])\n",
    "\n",
    "    def solve(a, b, prize):\n",
    "        solver = z3.Optimize()\n",
    "        x = z3.Int('x')\n",
    "        y = z3.Int('y')\n",
    "        solver.minimize(3*x+y)\n",
    "        solver.add(a[0]*x + b[0]*y == prize[0])\n",
    "        solver.add(a[1]*x + b[1]*y == prize[1])\n",
    "        \n",
    "        solver.check()\n",
    "        result = solver.model()\n",
    "        return 3*result[x].as_long() + result[y].as_long() if result else 0\n",
    "\n",
    "    part1, part2 = 0, 0\n",
    "    for group in groups:    \n",
    "        a = parse_coords(group[0])\n",
    "        b = parse_coords(group[1])\n",
    "        prize = parse_coords(group[2], True)\n",
    "        part1 += solve(a, b, prize)\n",
    "        part2 += solve(a, b, (prize[0]+10000000000000, prize[1]+10000000000000))\n",
    "    return part1, part2\n",
    "\n",
    "day13()"
   ]
  },
  {
   "cell_type": "code",
   "execution_count": null,
   "metadata": {},
   "outputs": [
    {
     "data": {
      "text/plain": [
       "(231852216, 8159)"
      ]
     },
     "execution_count": 7,
     "metadata": {},
     "output_type": "execute_result"
    }
   ],
   "source": [
    "def day14(wide, tall):\n",
    "    robots = data(14, lambda line: [int(x) for x in re.findall(r'p=(\\d+),(\\d+) v=(-?\\d+),(-?\\d+)', line)[0]])\n",
    "    \n",
    "    def get_quadrants(xs):\n",
    "        lr, tb = (wide-1)/2, (tall-1)/2\n",
    "        quadrants = Counter()\n",
    "        for y, x in xs:\n",
    "            if x < lr and y < tb:\n",
    "                quadrants[1] += 1\n",
    "            elif x < lr and y > tb:\n",
    "                quadrants[2] += 1\n",
    "            elif x > lr and y < tb:\n",
    "                quadrants[3] += 1\n",
    "            elif x > lr and y > tb:\n",
    "                quadrants[4] += 1\n",
    "        return quadrants\n",
    "\n",
    "    def run_robot(robot, n):\n",
    "        x, y, vx, vy = robot\n",
    "        fx, fy = (x+n*vx)%wide, (y+n*vy)%tall\n",
    "        return fy, fx\n",
    "\n",
    "    def get_danger(n):\n",
    "        quadrants = get_quadrants([run_robot(robot, n) for robot in robots])\n",
    "        danger = math.prod((quadrants[x] for x in range(1, 5)))\n",
    "        return danger, n\n",
    "\n",
    "    _, n = min(get_danger(n) for n in range(wide*tall))\n",
    "    ps = [run_robot(robot, n) for robot in robots]\n",
    "    with open(f'outputs/{n}.txt', 'w+') as f:\n",
    "        np.savetxt(f, debug_array(np.full((tall, wide), 'O'), ps, False), fmt='%s')\n",
    "    return get_danger(100)[0], n\n",
    "\n",
    "day14(101, 103)"
   ]
  },
  {
   "cell_type": "code",
   "execution_count": 189,
   "metadata": {},
   "outputs": [
    {
     "data": {
      "text/plain": [
       "(1442192, 1448458)"
      ]
     },
     "execution_count": 189,
     "metadata": {},
     "output_type": "execute_result"
    }
   ],
   "source": [
    "def day15(flag=False):\n",
    "    text = data(15)  \n",
    "    split = text.index('')\n",
    "    grid, instructions = np.array([list(x) for x in text[:split]]), ''.join(text[split+1:])\n",
    "    \n",
    "    robot = icoord(*np.argwhere(grid == '@')[0])\n",
    "    walls = set()\n",
    "    for x in np.argwhere(grid == '#'):\n",
    "        c = icoord(*x)\n",
    "        walls.add(c)\n",
    "        if flag:\n",
    "            walls.add(c+0.5)\n",
    "    class Box:\n",
    "        def __init__(self, p):\n",
    "            self.p = p\n",
    "        def move(self, diff):\n",
    "            self.p = tuple([x+diff for x in self.p])\n",
    "        def ps(self): \n",
    "            return self.p\n",
    "        def __repr__(self):\n",
    "            return str(self.p)\n",
    "    boxes = {}\n",
    "    for x in np.argwhere(grid == 'O'):\n",
    "        c = icoord(*x)\n",
    "        box = Box((c, c+0.5) if flag else (c,))\n",
    "        for p in box.ps():\n",
    "            boxes[p] = box\n",
    "\n",
    "    imap = {'^': -1j, 'v': 1j, '>': 0.5 if flag else 1, '<': -0.5 if flag else -1}\n",
    "    \n",
    "    def _push(old, diff):\n",
    "        new = old+diff\n",
    "        if new in walls:\n",
    "            return\n",
    "        touched = set()\n",
    "        box = boxes.get(new)\n",
    "        if box:\n",
    "            touched.add(box)\n",
    "            for p in box.ps():\n",
    "                if p == old:\n",
    "                    continue\n",
    "                if (t := _push(p, diff)) == None:\n",
    "                    return\n",
    "                touched.update(t)\n",
    "        return touched\n",
    "\n",
    "    def push(robot, instruction):\n",
    "        diff = imap[instruction]\n",
    "        touched = _push(robot, diff)\n",
    "        if touched is None:\n",
    "            return robot\n",
    "        for box in touched:\n",
    "            for p in box.ps():\n",
    "                del boxes[p]\n",
    "        for box in touched:\n",
    "            box.move(diff)\n",
    "            for p in box.ps():\n",
    "                boxes[p] = box\n",
    "        return robot + diff\n",
    "\n",
    "    for i in instructions:\n",
    "        robot = push(robot, i)\n",
    "\n",
    "    score = 0\n",
    "    for box in set(boxes.values()):\n",
    "        ps = [(p.imag, p.real) for p in box.ps()]\n",
    "        score += 100*min(p[0] for p in ps) + (2 if flag else 1)*min(p[1] for p in ps)\n",
    "    return int(score)\n",
    "    \n",
    "day15(), day15(True)"
   ]
  },
  {
   "cell_type": "code",
   "execution_count": 232,
   "metadata": {},
   "outputs": [
    {
     "data": {
      "text/plain": [
       "85480"
      ]
     },
     "execution_count": 232,
     "metadata": {},
     "output_type": "execute_result"
    }
   ],
   "source": [
    "def day16():\n",
    "    grid = np.array(data(16, list))\n",
    "    start = icoord(*np.argwhere(grid == 'S')[0])\n",
    "    end = icoord(*np.argwhere(grid == 'E')[0])\n",
    "    walls = {icoord(*x) for x in np.argwhere(grid=='#')}\n",
    "\n",
    "    def get_neighbors(node, distance):\n",
    "        pos, dir = eval(node)\n",
    "        if pos + dir not in walls:\n",
    "            yield (distance+1, str((pos+dir, dir)))\n",
    "        yield (distance+1000, str((pos, dir*1j)))\n",
    "        yield (distance+1000, str((pos, dir*-1j)))\n",
    "\n",
    "    def end_condition(node, _):\n",
    "        return eval(node)[0] == end\n",
    "\n",
    "    visited, current = search(str((start, 1)), get_neighbors, end_condition, method='dijkstra')\n",
    "\n",
    "    return visited[current]\n",
    "\n",
    "day16()"
   ]
  },
  {
   "cell_type": "code",
   "execution_count": 393,
   "metadata": {},
   "outputs": [
    {
     "name": "stdout",
     "output_type": "stream",
     "text": [
      "518\n"
     ]
    },
    {
     "data": {
      "text/plain": [
       "85480"
      ]
     },
     "execution_count": 393,
     "metadata": {},
     "output_type": "execute_result"
    }
   ],
   "source": [
    "def day16():\n",
    "    grid = np.array(data(16, list))\n",
    "    start = tuple(np.argwhere(grid == 'S')[0])\n",
    "    end = tuple(np.argwhere(grid == 'E')[0])\n",
    "    walls = {tuple(x) for x in np.argwhere(grid=='#')}\n",
    "\n",
    "    def tuple_add(a, b):\n",
    "        return (a[0]+b[0], a[1]+b[1])\n",
    "    def tuple_sub(a, b):\n",
    "        return (a[0]-b[0], a[1]-b[1])\n",
    "    \n",
    "    def rotate90(a):\n",
    "        if abs(a[0]):\n",
    "            yield (0, 1)\n",
    "            yield (0, -1)\n",
    "        else:\n",
    "            yield (1, 0)\n",
    "            yield (-1, 0)\n",
    "\n",
    "    def get_neighbors(node, distance):\n",
    "        pos, dir = node\n",
    "        new = tuple_add(pos, dir)\n",
    "        if new not in walls:\n",
    "            yield (distance+1, (new, dir))\n",
    "        for d in rotate90(dir):\n",
    "            yield (distance+1000, (pos, d))\n",
    "\n",
    "    def end_condition(node, _):\n",
    "        return node[0] == end\n",
    "\n",
    "    visited, current = search((start, (0, 1)), get_neighbors, end_condition, method='dijkstra')\n",
    "    score = visited[current]\n",
    "    # print(score, len(visited), visited)\n",
    "\n",
    "    def gn(node, _):\n",
    "        p, dir = node\n",
    "        distance = visited[(p, dir)]\n",
    "        # print('a', p, dir, distance)\n",
    "        new = (tuple_sub(p, dir), dir)\n",
    "        # print('b', visited.get(new, math.inf))\n",
    "        if visited.get(new, math.inf) == distance-1:\n",
    "            # print('here', new, visited.get(new, math.inf))\n",
    "            yield new\n",
    "        for d in rotate90(dir):\n",
    "            new = (p, d)\n",
    "            if visited.get(new, math.inf) == distance-1000:\n",
    "                # print('here2', new, visited.get(new, math.inf))\n",
    "                yield new\n",
    "\n",
    "    def ec(node, distance):\n",
    "        return node == (start, (0, 1))\n",
    "    \n",
    "    history, _ = search(current, gn, ec)\n",
    "    # print(len(history), _, history)\n",
    "\n",
    "    seats = {x[0] for x in history}\n",
    "    print(len(seats))\n",
    "\n",
    "    # debug_array(grid, [x[0] for x in history])\n",
    "\n",
    "    return visited[current]\n",
    "\n",
    "day16()"
   ]
  },
  {
   "cell_type": "code",
   "execution_count": 370,
   "metadata": {},
   "outputs": [
    {
     "name": "stdout",
     "output_type": "stream",
     "text": [
      "7036 427 {'((1+13j), 1)': 0, '((2+13j), 1)': 1, '((3+13j), 1)': 2, '((1+13j), -1j)': 1000, '((1+13j), 1j)': 1000, '((1+12j), (-0-1j))': 1001, '((2+13j), -1j)': 1001, '((2+13j), 1j)': 1001, '((1+11j), -1j)': 1002, '((3+13j), -1j)': 1002, '((3+13j), 1j)': 1002, '((1+10j), (-0-1j))': 1003, '((1+9j), -1j)': 1004, '((1+13j), (-1+0j))': 2000, '((1+13j), (1-0j))': 2000, '((1+12j), (-1+0j))': 2001, '((1+12j), (1+0j))': 2001, '((2+13j), (-1+0j))': 2001, '((2+13j), (1+0j))': 2001, '((2+13j), (1-0j))': 2001, '((1+11j), (-1+0j))': 2002, '((1+11j), (1-0j))': 2002, '((3+13j), (-1+0j))': 2002, '((3+13j), (1+0j))': 2002, '((3+13j), (1-0j))': 2002, '((1+10j), (-1+0j))': 2003, '((1+10j), (1+0j))': 2003, '((2+11j), (1+0j))': 2003, '((1+9j), (-1+0j))': 2004, '((1+9j), (1-0j))': 2004, '((3+11j), (1+0j))': 2004, '((2+9j), (1+0j))': 2005, '((4+11j), (1+0j))': 2005, '((3+9j), (1+0j))': 2006, '((5+11j), (1+0j))': 2006, '((1+13j), (-0-1j))': 3000, '((1+12j), -1j)': 3001, '((1+12j), 1j)': 3001, '((2+13j), (-0-1j))': 3001, '((1+11j), (-0-1j))': 3002, '((1+11j), 1j)': 3002, '((3+13j), (-0-1j))': 3002, '((1+10j), -1j)': 3003, '((1+10j), 1j)': 3003, '((2+11j), -1j)': 3003, '((2+11j), 1j)': 3003, '((1+9j), (-0-1j))': 3004, '((1+9j), 1j)': 3004, '((3+11j), -1j)': 3004, '((3+11j), 1j)': 3004, '((2+9j), -1j)': 3005, '((2+9j), 1j)': 3005, '((3+10j), (-0-1j))': 3005, '((4+11j), -1j)': 3005, '((4+11j), 1j)': 3005, '((3+9j), -1j)': 3006, '((3+9j), 1j)': 3006, '((5+11j), -1j)': 3006, '((5+11j), 1j)': 3006, '((3+10j), 1j)': 3007, '((3+8j), (-0-1j))': 3007, '((5+10j), (-0-1j))': 3007, '((5+12j), 1j)': 3007, '((3+7j), -1j)': 3008, '((5+13j), 1j)': 3008, '((5+9j), -1j)': 3008, '((3+6j), (-0-1j))': 3009, '((5+8j), (-0-1j))': 3009, '((3+5j), -1j)': 3010, '((5+7j), -1j)': 3010, '((1+13j), (1+0j))': 4000, '((1+12j), (1-0j))': 4001, '((1+11j), (1+0j))': 4002, '((1+10j), (1-0j))': 4003, '((2+11j), (-1+0j))': 4003, '((2+11j), (1-0j))': 4003, '((1+9j), (1+0j))': 4004, '((3+11j), (-1+0j))': 4004, '((3+11j), (1-0j))': 4004, '((2+9j), (-1+0j))': 4005, '((2+9j), (1-0j))': 4005, '((3+10j), (-1+0j))': 4005, '((3+10j), (1+0j))': 4005, '((4+11j), (-1+0j))': 4005, '((4+11j), (1-0j))': 4005, '((3+9j), (-1+0j))': 4006, '((3+9j), (1-0j))': 4006, '((5+11j), (-1+0j))': 4006, '((5+11j), (1-0j))': 4006, '((3+10j), (1-0j))': 4007, '((3+8j), (-1+0j))': 4007, '((3+8j), (1+0j))': 4007, '((5+10j), (-1+0j))': 4007, '((5+10j), (1+0j))': 4007, '((5+12j), (-1+0j))': 4007, '((5+12j), (1-0j))': 4007, '((3+7j), (-1+0j))': 4008, '((3+7j), (1-0j))': 4008, '((5+13j), (-1+0j))': 4008, '((5+13j), (1-0j))': 4008, '((5+9j), (-1+0j))': 4008, '((5+9j), (1-0j))': 4008, '((2+7j), (-1+0j))': 4009, '((3+6j), (-1+0j))': 4009, '((3+6j), (1+0j))': 4009, '((4+7j), (1+0j))': 4009, '((5+8j), (-1+0j))': 4009, '((5+8j), (1+0j))': 4009, '((6+13j), (1+0j))': 4009, '((6+9j), (1+0j))': 4009, '((1+7j), (-1+0j))': 4010, '((3+5j), (-1+0j))': 4010, '((3+5j), (1-0j))': 4010, '((5+7j), (-1+0j))': 4010, '((5+7j), (1+0j))': 4010, '((5+7j), (1-0j))': 4010, '((7+13j), (1+0j))': 4010, '((7+9j), (1+0j))': 4010, '((4+7j), (-1+0j))': 4011, '((6+7j), (1+0j))': 4011, '((8+13j), (1+0j))': 4011, '((8+9j), (1+0j))': 4011, '((7+7j), (1+0j))': 4012, '((9+13j), (1+0j))': 4012, '((9+9j), (1+0j))': 4012, '((8+7j), (1+0j))': 4013, '((9+7j), (1+0j))': 4014, '((10+7j), (1+0j))': 4015, '((11+7j), (1+0j))': 4016, '((2+11j), (-0-1j))': 5003, '((3+11j), (-0-1j))': 5004, '((2+9j), (-0-1j))': 5005, '((3+10j), -1j)': 5005, '((4+11j), (-0-1j))': 5005, '((3+9j), (-0-1j))': 5006, '((5+11j), (-0-1j))': 5006, '((3+8j), -1j)': 5007, '((3+8j), 1j)': 5007, '((5+10j), -1j)': 5007, '((5+10j), 1j)': 5007, '((5+12j), (-0-1j))': 5007, '((5+12j), -1j)': 5007, '((3+7j), (-0-1j))': 5008, '((3+7j), 1j)': 5008, '((5+13j), (-0-1j))': 5008, '((5+13j), -1j)': 5008, '((5+9j), (-0-1j))': 5008, '((5+9j), 1j)': 5008, '((2+7j), (-0-1j))': 5009, '((2+7j), 1j)': 5009, '((3+6j), -1j)': 5009, '((3+6j), 1j)': 5009, '((4+7j), -1j)': 5009, '((4+7j), 1j)': 5009, '((5+8j), -1j)': 5009, '((5+8j), 1j)': 5009, '((6+13j), -1j)': 5009, '((6+13j), 1j)': 5009, '((6+9j), -1j)': 5009, '((6+9j), 1j)': 5009, '((1+7j), (-0-1j))': 5010, '((1+7j), 1j)': 5010, '((3+5j), (-0-1j))': 5010, '((3+5j), 1j)': 5010, '((5+7j), (-0-1j))': 5010, '((5+7j), 1j)': 5010, '((7+13j), -1j)': 5010, '((7+13j), 1j)': 5010, '((7+9j), -1j)': 5010, '((7+9j), 1j)': 5010, '((1+6j), -1j)': 5011, '((4+7j), (-0-1j))': 5011, '((6+7j), -1j)': 5011, '((6+7j), 1j)': 5011, '((7+12j), (-0-1j))': 5011, '((8+13j), -1j)': 5011, '((8+13j), 1j)': 5011, '((8+9j), -1j)': 5011, '((8+9j), 1j)': 5011, '((1+5j), (-0-1j))': 5012, '((7+11j), -1j)': 5012, '((7+7j), -1j)': 5012, '((7+7j), 1j)': 5012, '((9+13j), -1j)': 5012, '((9+13j), 1j)': 5012, '((9+9j), -1j)': 5012, '((9+9j), 1j)': 5012, '((1+4j), -1j)': 5013, '((8+7j), -1j)': 5013, '((8+7j), 1j)': 5013, '((9+10j), 1j)': 5013, '((9+12j), (-0-1j))': 5013, '((1+3j), (-0-1j))': 5014, '((9+11j), -1j)': 5014, '((9+11j), 1j)': 5014, '((9+7j), -1j)': 5014, '((9+7j), 1j)': 5014, '((1+2j), -1j)': 5015, '((10+7j), -1j)': 5015, '((10+7j), 1j)': 5015, '((9+10j), (-0-1j))': 5015, '((9+12j), 1j)': 5015, '((9+6j), (-0-1j))': 5015, '((1+1j), (-0-1j))': 5016, '((11+7j), -1j)': 5016, '((11+7j), 1j)': 5016, '((9+5j), -1j)': 5016, '((11+8j), 1j)': 5017, '((11+9j), 1j)': 5018, '((11+10j), 1j)': 5019, '((11+11j), 1j)': 5020, '((11+12j), 1j)': 5021, '((11+13j), 1j)': 5022, '((3+8j), (1-0j))': 6007, '((5+10j), (1-0j))': 6007, '((5+12j), (1+0j))': 6007, '((3+7j), (1+0j))': 6008, '((5+13j), (1+0j))': 6008, '((5+9j), (1+0j))': 6008, '((2+7j), (1+0j))': 6009, '((2+7j), (1-0j))': 6009, '((3+6j), (1-0j))': 6009, '((4+7j), (1-0j))': 6009, '((5+8j), (1-0j))': 6009, '((6+13j), (-1+0j))': 6009, '((6+13j), (1-0j))': 6009, '((6+9j), (-1+0j))': 6009, '((6+9j), (1-0j))': 6009, '((1+7j), (1+0j))': 6010, '((1+7j), (1-0j))': 6010, '((3+5j), (1+0j))': 6010, '((7+13j), (-1+0j))': 6010, '((7+13j), (1-0j))': 6010, '((7+9j), (-1+0j))': 6010, '((7+9j), (1-0j))': 6010, '((1+6j), (-1+0j))': 6011, '((1+6j), (1-0j))': 6011, '((6+7j), (-1+0j))': 6011, '((6+7j), (1-0j))': 6011, '((7+12j), (-1+0j))': 6011, '((7+12j), (1+0j))': 6011, '((8+13j), (-1+0j))': 6011, '((8+13j), (1-0j))': 6011, '((8+9j), (-1+0j))': 6011, '((8+9j), (1-0j))': 6011, '((1+5j), (-1+0j))': 6012, '((1+5j), (1+0j))': 6012, '((7+11j), (-1+0j))': 6012, '((7+11j), (1-0j))': 6012, '((7+7j), (-1+0j))': 6012, '((7+7j), (1-0j))': 6012, '((9+13j), (-1+0j))': 6012, '((9+13j), (1-0j))': 6012, '((9+9j), (-1+0j))': 6012, '((9+9j), (1-0j))': 6012, '((1+4j), (-1+0j))': 6013, '((1+4j), (1-0j))': 6013, '((8+11j), (1+0j))': 6013, '((8+7j), (-1+0j))': 6013, '((8+7j), (1-0j))': 6013, '((9+10j), (-1+0j))': 6013, '((9+10j), (1-0j))': 6013, '((9+12j), (-1+0j))': 6013, '((9+12j), (1+0j))': 6013, '((1+3j), (-1+0j))': 6014, '((1+3j), (1+0j))': 6014, '((9+11j), (-1+0j))': 6014, '((9+11j), (1+0j))': 6014, '((9+11j), (1-0j))': 6014, '((9+7j), (-1+0j))': 6014, '((9+7j), (1-0j))': 6014, '((1+2j), (-1+0j))': 6015, '((1+2j), (1-0j))': 6015, '((10+7j), (-1+0j))': 6015, '((10+7j), (1-0j))': 6015, '((2+3j), (1+0j))': 6015, '((8+11j), (-1+0j))': 6015, '((9+10j), (1+0j))': 6015, '((9+12j), (1-0j))': 6015, '((9+6j), (-1+0j))': 6015, '((9+6j), (1+0j))': 6015, '((1+1j), (-1+0j))': 6016, '((1+1j), (1+0j))': 6016, '((11+7j), (-1+0j))': 6016, '((11+7j), (1-0j))': 6016, '((3+3j), (1+0j))': 6016, '((9+5j), (-1+0j))': 6016, '((9+5j), (1-0j))': 6016, '((10+5j), (1+0j))': 6017, '((11+8j), (-1+0j))': 6017, '((11+8j), (1-0j))': 6017, '((2+1j), (1+0j))': 6017, '((4+3j), (1+0j))': 6017, '((8+5j), (-1+0j))': 6017, '((11+5j), (1+0j))': 6018, '((11+9j), (-1+0j))': 6018, '((11+9j), (1-0j))': 6018, '((3+1j), (1+0j))': 6018, '((5+3j), (1+0j))': 6018, '((7+5j), (-1+0j))': 6018, '((11+10j), (-1+0j))': 6019, '((11+10j), (1-0j))': 6019, '((4+1j), (1+0j))': 6019, '((6+5j), (-1+0j))': 6019, '((11+11j), (-1+0j))': 6020, '((11+11j), (1-0j))': 6020, '((5+1j), (1+0j))': 6020, '((5+5j), (-1+0j))': 6020, '((11+12j), (-1+0j))': 6021, '((11+12j), (1-0j))': 6021, '((6+1j), (1+0j))': 6021, '((11+13j), (-1+0j))': 6022, '((11+13j), (1-0j))': 6022, '((7+1j), (1+0j))': 6022, '((12+13j), (1+0j))': 6023, '((13+13j), (1+0j))': 6024, '((2+7j), -1j)': 7009, '((6+13j), (-0-1j))': 7009, '((6+9j), (-0-1j))': 7009, '((1+7j), -1j)': 7010, '((7+13j), (-0-1j))': 7010, '((7+9j), (-0-1j))': 7010, '((1+6j), (-0-1j))': 7011, '((1+6j), 1j)': 7011, '((6+7j), (-0-1j))': 7011, '((7+12j), -1j)': 7011, '((7+12j), 1j)': 7011, '((8+13j), (-0-1j))': 7011, '((8+9j), (-0-1j))': 7011, '((1+5j), -1j)': 7012, '((1+5j), 1j)': 7012, '((7+11j), (-0-1j))': 7012, '((7+11j), 1j)': 7012, '((7+7j), (-0-1j))': 7012, '((9+13j), (-0-1j))': 7012, '((9+9j), (-0-1j))': 7012, '((1+4j), (-0-1j))': 7013, '((1+4j), 1j)': 7013, '((8+11j), -1j)': 7013, '((8+11j), 1j)': 7013, '((8+7j), (-0-1j))': 7013, '((9+10j), -1j)': 7013, '((9+12j), -1j)': 7013, '((1+3j), -1j)': 7014, '((1+3j), 1j)': 7014, '((9+11j), (-0-1j))': 7014, '((9+7j), (-0-1j))': 7014, '((1+2j), (-0-1j))': 7015, '((1+2j), 1j)': 7015, '((10+7j), (-0-1j))': 7015, '((2+3j), -1j)': 7015, '((2+3j), 1j)': 7015, '((8+11j), (-0-1j))': 7015, '((9+6j), -1j)': 7015, '((9+6j), 1j)': 7015, '((1+1j), -1j)': 7016, '((1+1j), 1j)': 7016, '((11+7j), (-0-1j))': 7016, '((3+3j), -1j)': 7016, '((3+3j), 1j)': 7016, '((9+5j), (-0-1j))': 7016, '((9+5j), 1j)': 7016, '((10+5j), -1j)': 7017, '((10+5j), 1j)': 7017, '((11+8j), (-0-1j))': 7017, '((11+8j), -1j)': 7017, '((2+1j), -1j)': 7017, '((2+1j), 1j)': 7017, '((3+2j), (-0-1j))': 7017, '((4+3j), -1j)': 7017, '((4+3j), 1j)': 7017, '((8+5j), (-0-1j))': 7017, '((8+5j), 1j)': 7017, '((11+5j), -1j)': 7018, '((11+5j), 1j)': 7018, '((11+9j), (-0-1j))': 7018, '((11+9j), -1j)': 7018, '((3+1j), -1j)': 7018, '((3+1j), 1j)': 7018, '((5+3j), -1j)': 7018, '((5+3j), 1j)': 7018, '((7+5j), (-0-1j))': 7018, '((7+5j), 1j)': 7018, '((11+10j), (-0-1j))': 7019, '((11+10j), -1j)': 7019, '((11+4j), (-0-1j))': 7019, '((3+2j), 1j)': 7019, '((4+1j), -1j)': 7019, '((4+1j), 1j)': 7019, '((5+4j), 1j)': 7019, '((6+5j), (-0-1j))': 7019, '((6+5j), 1j)': 7019, '((11+11j), (-0-1j))': 7020, '((11+11j), -1j)': 7020, '((11+3j), -1j)': 7020, '((5+1j), -1j)': 7020, '((5+1j), 1j)': 7020, '((5+5j), (-0-1j))': 7020, '((5+5j), 1j)': 7020, '((11+12j), (-0-1j))': 7021, '((11+12j), -1j)': 7021, '((5+4j), -1j)': 7021, '((6+1j), -1j)': 7021, '((6+1j), 1j)': 7021, '((11+13j), (-0-1j))': 7022, '((11+13j), -1j)': 7022, '((5+3j), (-0-1j))': 7022, '((7+1j), -1j)': 7022, '((7+1j), 1j)': 7022, '((12+13j), -1j)': 7023, '((12+13j), 1j)': 7023, '((7+2j), 1j)': 7023, '((13+13j), -1j)': 7024, '((13+13j), 1j)': 7024, '((7+3j), 1j)': 7024, '((13+12j), (-0-1j))': 7025, '((13+11j), -1j)': 7026, '((13+10j), (-0-1j))': 7027, '((13+9j), -1j)': 7028, '((13+8j), (-0-1j))': 7029, '((13+7j), -1j)': 7030, '((13+6j), (-0-1j))': 7031, '((13+5j), -1j)': 7032, '((13+4j), (-0-1j))': 7033, '((13+3j), -1j)': 7034, '((13+2j), (-0-1j))': 7035, '((13+1j), -1j)': 7036}\n",
      "((13+1j), (1-0j)) inf 7036 0\n",
      "((13+1j), (-1+0j)) inf 7036 0\n",
      "((13+2j), (1+0j)) inf 7036 1\n",
      "((13+2j), (-1+0j)) inf 7036 1\n",
      "((13+3j), (1-0j)) inf 7036 2\n",
      "((13+3j), (-1+0j)) inf 7036 2\n",
      "((13+4j), (1+0j)) inf 7036 3\n",
      "((13+4j), (-1+0j)) inf 7036 3\n",
      "((13+5j), (1-0j)) inf 7036 4\n",
      "((13+5j), (-1+0j)) inf 7036 4\n",
      "((13+6j), (1+0j)) inf 7036 5\n",
      "((13+6j), (-1+0j)) inf 7036 5\n",
      "((13+7j), (1-0j)) inf 7036 6\n",
      "((13+7j), (-1+0j)) inf 7036 6\n",
      "((13+8j), (1+0j)) inf 7036 7\n",
      "((13+8j), (-1+0j)) inf 7036 7\n",
      "((13+9j), (1-0j)) inf 7036 8\n",
      "((13+9j), (-1+0j)) inf 7036 8\n",
      "((13+10j), (1+0j)) inf 7036 9\n",
      "((13+10j), (-1+0j)) inf 7036 9\n",
      "((13+11j), (1-0j)) inf 7036 10\n",
      "((13+11j), (-1+0j)) inf 7036 10\n",
      "((13+12j), (1+0j)) inf 7036 11\n",
      "((13+12j), (-1+0j)) inf 7036 11\n",
      "((13+13j), (1-0j)) inf 7036 12\n",
      "((13+13j), (-1+0j)) inf 7036 12\n",
      "13 None {'((13+1j), -1j)': 0, '((13+2j), (-0-1j))': 1, '((13+3j), -1j)': 2, '((13+4j), (-0-1j))': 3, '((13+5j), -1j)': 4, '((13+6j), (-0-1j))': 5, '((13+7j), -1j)': 6, '((13+8j), (-0-1j))': 7, '((13+9j), -1j)': 8, '((13+10j), (-0-1j))': 9, '((13+11j), -1j)': 10, '((13+12j), (-0-1j))': 11, '((13+13j), -1j)': 12}\n"
     ]
    },
    {
     "data": {
      "text/plain": [
       "7036"
      ]
     },
     "execution_count": 370,
     "metadata": {},
     "output_type": "execute_result"
    }
   ],
   "source": [
    "def day16():\n",
    "    grid = np.array(data(0, list))\n",
    "    start = icoord(*np.argwhere(grid == 'S')[0])\n",
    "    end = icoord(*np.argwhere(grid == 'E')[0])\n",
    "    walls = {icoord(*x) for x in np.argwhere(grid=='#')}\n",
    "\n",
    "    def get_neighbors(node, distance):\n",
    "        pos, dir = eval(node)\n",
    "        if pos + dir not in walls:\n",
    "            yield (distance+1, str((pos+dir, dir)))\n",
    "        yield (distance+1000, str((pos, dir*1j)))\n",
    "        yield (distance+1000, str((pos, dir*-1j)))\n",
    "\n",
    "    def end_condition(node, _):\n",
    "        return eval(node)[0] == end\n",
    "\n",
    "    visited, current = search(str((start, 1)), get_neighbors, end_condition, method='dijkstra')\n",
    "    score = visited[current]\n",
    "    print(score, len(visited), visited)\n",
    "\n",
    "    def gn(node, distance):\n",
    "        p, diff = eval(node)\n",
    "        new = str((p-diff, diff))\n",
    "        if visited.get(new, math.inf) == score-distance-1:\n",
    "            # print('here', new)\n",
    "            yield new\n",
    "        for i in (str((p, diff*1j)), str((p, diff*-1j))):\n",
    "            print(i, visited.get(i, math.inf), score, distance)\n",
    "            # yield (distance+1000, str((pos, dir*1j)))\n",
    "            # yield (distance+1000, str((pos, dir*-1j)))\n",
    "\n",
    "            # TODO!!! strings gone wrong\n",
    "\n",
    "    def ec(node, distance):\n",
    "        return node == (start, 1)\n",
    "    test, _ = search(current, gn, ec)\n",
    "    print(len(test), _, test)\n",
    "\n",
    "\n",
    "\n",
    "    return visited[current]\n",
    "\n",
    "day16()"
   ]
  },
  {
   "cell_type": "code",
   "execution_count": 296,
   "metadata": {},
   "outputs": [
    {
     "name": "stdout",
     "output_type": "stream",
     "text": [
      "73\n",
      "[['#' '#' '#' '#' '#' '#' '#' '#' '#' '#' '#' '#' '#' '#' '#']\n",
      " ['#' 'X' '.' '.' '.' '.' '.' '.' '#' '.' '.' '.' '.' 'X' '#']\n",
      " ['#' 'X' '#' '.' '#' '#' '#' '.' '#' '.' '#' '#' '#' 'X' '#']\n",
      " ['#' 'X' '.' '.' '.' '.' '#' '.' '#' '.' '.' '.' '#' 'X' '#']\n",
      " ['#' 'X' '#' '#' '#' '.' '#' '#' '#' '#' '#' '.' '#' 'X' '#']\n",
      " ['#' 'X' '#' 'X' '#' '.' '.' '.' '.' 'X' '.' '.' '#' 'X' '#']\n",
      " ['#' 'X' '#' 'X' '#' '#' '#' '#' '#' 'X' '#' '#' '#' 'X' '#']\n",
      " ['#' 'X' 'X' 'X' 'X' 'X' 'X' 'X' 'X' 'X' 'X' 'X' '#' 'X' '#']\n",
      " ['#' '#' '#' 'X' '#' 'X' '#' '#' '#' '#' '#' 'X' '#' 'X' '#']\n",
      " ['#' 'X' 'X' 'X' '#' 'X' 'X' 'X' 'X' 'X' '#' 'X' '#' 'X' '#']\n",
      " ['#' 'X' '#' 'X' '#' 'X' '#' '#' '#' 'X' '#' 'X' '#' 'X' '#']\n",
      " ['#' 'X' 'X' 'X' 'X' 'X' '#' 'X' 'X' 'X' '#' 'X' '#' 'X' '#']\n",
      " ['#' 'X' '#' '#' '#' 'X' '#' 'X' '#' 'X' '#' 'X' '#' 'X' '#']\n",
      " ['#' 'X' '.' '.' '#' 'X' 'X' 'X' 'X' 'X' '#' 'X' 'X' 'X' '#']\n",
      " ['#' '#' '#' '#' '#' '#' '#' '#' '#' '#' '#' '#' '#' '#' '#']]\n",
      "97\n"
     ]
    },
    {
     "data": {
      "text/plain": [
       "7036"
      ]
     },
     "execution_count": 296,
     "metadata": {},
     "output_type": "execute_result"
    }
   ],
   "source": [
    "def search(start, get_neighbors, end_condition=lambda _, __: False, method='dfs', permutations=False):\n",
    "    q, visited = [(0, start)] if method == 'dijkstra' else deque([(0, start)]), {}\n",
    "\n",
    "    while q:\n",
    "        if method == 'dijkstra':\n",
    "            distance, current = heapq.heappop(q)\n",
    "        else:\n",
    "            distance, current = q.popleft() if method=='dfs' else q.pop()\n",
    "        if end_condition(current, distance):\n",
    "            visited[current] = distance\n",
    "            return visited, current\n",
    "        if visited.get(current, math.inf) < distance:\n",
    "            continue\n",
    "        for node in get_neighbors(current, distance):\n",
    "            if method == 'dijkstra':\n",
    "                heapq.heappush(q, node)\n",
    "            else:\n",
    "                q.append((distance+1, node))\n",
    "        visited[current] = distance\n",
    "    return visited, None\n",
    "\n",
    "\n",
    "def day16():\n",
    "    grid = np.array(data(0, list))\n",
    "    start = icoord(*np.argwhere(grid == 'S')[0])\n",
    "    end = icoord(*np.argwhere(grid == 'E')[0])\n",
    "    walls = {icoord(*x) for x in np.argwhere(grid=='#')}\n",
    "\n",
    "    parents = defaultdict(lambda: set())\n",
    "    def get_neighbors(node, distance):\n",
    "        pos, dir = eval(node)\n",
    "        if pos + dir not in walls:\n",
    "            parents[pos+dir].add(pos)\n",
    "            yield (distance+1, str((pos+dir, dir)))\n",
    "        yield (distance+1000, str((pos, dir*1j)))\n",
    "        yield (distance+1000, str((pos, dir*-1j)))\n",
    "\n",
    "    def end_condition(node, _):\n",
    "        return eval(node)[0] == end\n",
    "\n",
    "    visited, current = search(str((start, 1)), get_neighbors, end_condition, method='dijkstra', permutations=True)\n",
    "\n",
    "    test = set()\n",
    "    def unwrap(p):\n",
    "        test.add(p)\n",
    "        if p == start:\n",
    "            return\n",
    "        for parent in parents[p]:\n",
    "            if parent not in test:\n",
    "                unwrap(parent)\n",
    "    unwrap(end)\n",
    "    print(len(test))\n",
    "\n",
    "\n",
    "    debug_array(grid, [yx(x) for x in test])\n",
    "    print(len(set([eval(x)[0] for x in visited])))\n",
    "    return visited[current]\n",
    "\n",
    "day16()"
   ]
  },
  {
   "cell_type": "code",
   "execution_count": 280,
   "metadata": {},
   "outputs": [
    {
     "ename": "KeyboardInterrupt",
     "evalue": "",
     "output_type": "error",
     "traceback": [
      "\u001b[1;31m---------------------------------------------------------------------------\u001b[0m",
      "\u001b[1;31mKeyboardInterrupt\u001b[0m                         Traceback (most recent call last)",
      "Cell \u001b[1;32mIn[280], line 35\u001b[0m\n\u001b[0;32m     32\u001b[0m     \u001b[38;5;28mprint\u001b[39m(\u001b[38;5;28mlen\u001b[39m(ps))\n\u001b[0;32m     33\u001b[0m     \u001b[38;5;28mprint\u001b[39m(nx\u001b[38;5;241m.\u001b[39mshortest_path_length(G, (start, \u001b[38;5;241m1\u001b[39m), end, weight\u001b[38;5;241m=\u001b[39m\u001b[38;5;124m'\u001b[39m\u001b[38;5;124mweight\u001b[39m\u001b[38;5;124m'\u001b[39m))\n\u001b[1;32m---> 35\u001b[0m \u001b[43mday16\u001b[49m\u001b[43m(\u001b[49m\u001b[43m)\u001b[49m\n",
      "Cell \u001b[1;32mIn[280], line 28\u001b[0m, in \u001b[0;36mday16\u001b[1;34m()\u001b[0m\n\u001b[0;32m     25\u001b[0m         \u001b[38;5;28;01mif\u001b[39;00m (i\u001b[38;5;241m+\u001b[39md, d) \u001b[38;5;129;01min\u001b[39;00m G:\n\u001b[0;32m     26\u001b[0m             G\u001b[38;5;241m.\u001b[39madd_edge((i, d), (i\u001b[38;5;241m+\u001b[39md, d), weight\u001b[38;5;241m=\u001b[39m\u001b[38;5;241m1\u001b[39m)\n\u001b[1;32m---> 28\u001b[0m paths \u001b[38;5;241m=\u001b[39m \u001b[38;5;28;43mlist\u001b[39;49m\u001b[43m(\u001b[49m\u001b[43mnx\u001b[49m\u001b[38;5;241;43m.\u001b[39;49m\u001b[43mall_shortest_paths\u001b[49m\u001b[43m(\u001b[49m\u001b[43mG\u001b[49m\u001b[43m,\u001b[49m\u001b[43m \u001b[49m\u001b[43m(\u001b[49m\u001b[43mstart\u001b[49m\u001b[43m,\u001b[49m\u001b[43m \u001b[49m\u001b[38;5;241;43m1\u001b[39;49m\u001b[43m)\u001b[49m\u001b[43m,\u001b[49m\u001b[43m \u001b[49m\u001b[43mend\u001b[49m\u001b[43m,\u001b[49m\u001b[43m \u001b[49m\u001b[43mweight\u001b[49m\u001b[38;5;241;43m=\u001b[39;49m\u001b[38;5;124;43m'\u001b[39;49m\u001b[38;5;124;43mweight\u001b[39;49m\u001b[38;5;124;43m'\u001b[39;49m\u001b[43m)\u001b[49m\u001b[43m)\u001b[49m\n\u001b[0;32m     29\u001b[0m ps \u001b[38;5;241m=\u001b[39m \u001b[38;5;28mset\u001b[39m()\n\u001b[0;32m     30\u001b[0m \u001b[38;5;28;01mfor\u001b[39;00m path \u001b[38;5;129;01min\u001b[39;00m paths:\n",
      "File \u001b[1;32mc:\\Users\\tonyz\\projects\\advent-code\\2024\\.venv\\Lib\\site-packages\\networkx\\algorithms\\shortest_paths\\generic.py:715\u001b[0m, in \u001b[0;36m_build_paths_from_predecessors\u001b[1;34m(sources, target, pred)\u001b[0m\n\u001b[0;32m    713\u001b[0m node, i \u001b[38;5;241m=\u001b[39m stack[top]\n\u001b[0;32m    714\u001b[0m \u001b[38;5;28;01mif\u001b[39;00m node \u001b[38;5;129;01min\u001b[39;00m sources:\n\u001b[1;32m--> 715\u001b[0m     \u001b[38;5;28;01myield\u001b[39;00m [p \u001b[38;5;28;01mfor\u001b[39;00m p, n \u001b[38;5;129;01min\u001b[39;00m \u001b[38;5;28mreversed\u001b[39m(stack[: top \u001b[38;5;241m+\u001b[39m \u001b[38;5;241m1\u001b[39m])]\n\u001b[0;32m    716\u001b[0m \u001b[38;5;28;01mif\u001b[39;00m \u001b[38;5;28mlen\u001b[39m(pred[node]) \u001b[38;5;241m>\u001b[39m i:\n\u001b[0;32m    717\u001b[0m     stack[top][\u001b[38;5;241m1\u001b[39m] \u001b[38;5;241m=\u001b[39m i \u001b[38;5;241m+\u001b[39m \u001b[38;5;241m1\u001b[39m\n",
      "\u001b[1;31mKeyboardInterrupt\u001b[0m: "
     ]
    }
   ],
   "source": [
    "def day16():\n",
    "    grid = np.array(data(16, list))\n",
    "    start = icoord(*np.argwhere(grid == 'S')[0])\n",
    "    end = icoord(*np.argwhere(grid == 'E')[0])\n",
    "    not_walls = {icoord(*x) for x in np.argwhere(grid!='#')}\n",
    "\n",
    "    G = nx.Graph()\n",
    "    for i in not_walls:\n",
    "        G.add_node((i, 1))\n",
    "        G.add_node((i, -1))\n",
    "        G.add_node((i, 1j))\n",
    "        G.add_node((i, -1j))\n",
    "        G.add_edge((i, 1), (i, 1j), weight=1000)\n",
    "        G.add_edge((i, 1), (i, -1j), weight=1000)\n",
    "        G.add_edge((i, -1), (i, 1j), weight=1000)\n",
    "        G.add_edge((i, 1), (i, -1j), weight=1000)\n",
    "    G.add_node(end)\n",
    "    G.add_edge((end, 1), end, weight=0)\n",
    "    G.add_edge((end, -1), end, weight=0)\n",
    "    G.add_edge((end, 1j), end, weight=0)\n",
    "    G.add_edge((end, -1j), end, weight=0)\n",
    "\n",
    "    for i in not_walls:\n",
    "        for d in (1, -1, 1j, -1j):\n",
    "            if (i+d, d) in G:\n",
    "                G.add_edge((i, d), (i+d, d), weight=1)\n",
    "\n",
    "    paths = list(nx.all_shortest_paths(G, (start, 1), end, weight='weight'))\n",
    "    ps = set()\n",
    "    for path in paths:\n",
    "        ps.update({x[0] for x in path[:-1]})\n",
    "    print(len(ps))\n",
    "    print(nx.shortest_path_length(G, (start, 1), end, weight='weight'))\n",
    "\n",
    "day16()"
   ]
  },
  {
   "cell_type": "code",
   "execution_count": 278,
   "metadata": {},
   "outputs": [
    {
     "name": "stdout",
     "output_type": "stream",
     "text": [
      "85480\n"
     ]
    },
    {
     "ename": "KeyboardInterrupt",
     "evalue": "",
     "output_type": "error",
     "traceback": [
      "\u001b[1;31m---------------------------------------------------------------------------\u001b[0m",
      "\u001b[1;31mKeyboardInterrupt\u001b[0m                         Traceback (most recent call last)",
      "Cell \u001b[1;32mIn[278], line 43\u001b[0m\n\u001b[0;32m     40\u001b[0m                 \u001b[38;5;28;01mbreak\u001b[39;00m\n\u001b[0;32m     41\u001b[0m     \u001b[38;5;28mprint\u001b[39m(\u001b[38;5;28mlen\u001b[39m(paths))\n\u001b[1;32m---> 43\u001b[0m \u001b[43mday16\u001b[49m\u001b[43m(\u001b[49m\u001b[43m)\u001b[49m\n",
      "Cell \u001b[1;32mIn[278], line 37\u001b[0m, in \u001b[0;36mday16\u001b[1;34m()\u001b[0m\n\u001b[0;32m     35\u001b[0m \u001b[38;5;28;01mif\u001b[39;00m a \u001b[38;5;241m>\u001b[39m score:\n\u001b[0;32m     36\u001b[0m     \u001b[38;5;28;01mcontinue\u001b[39;00m\n\u001b[1;32m---> 37\u001b[0m b \u001b[38;5;241m=\u001b[39m \u001b[43mnx\u001b[49m\u001b[38;5;241;43m.\u001b[39;49m\u001b[43mshortest_path_length\u001b[49m\u001b[43m(\u001b[49m\u001b[43mG\u001b[49m\u001b[43m,\u001b[49m\u001b[43m \u001b[49m\u001b[43m(\u001b[49m\u001b[43mi\u001b[49m\u001b[43m,\u001b[49m\u001b[43m  \u001b[49m\u001b[43md\u001b[49m\u001b[43m)\u001b[49m\u001b[43m,\u001b[49m\u001b[43m \u001b[49m\u001b[43m(\u001b[49m\u001b[43mend\u001b[49m\u001b[43m,\u001b[49m\u001b[43m \u001b[49m\u001b[38;5;241;43m0\u001b[39;49m\u001b[43m)\u001b[49m\u001b[43m,\u001b[49m\u001b[43m \u001b[49m\u001b[43mweight\u001b[49m\u001b[38;5;241;43m=\u001b[39;49m\u001b[38;5;124;43m'\u001b[39;49m\u001b[38;5;124;43mweight\u001b[39;49m\u001b[38;5;124;43m'\u001b[39;49m\u001b[43m)\u001b[49m\u001b[38;5;241m-\u001b[39m\u001b[38;5;241m1000\u001b[39m\n\u001b[0;32m     38\u001b[0m \u001b[38;5;28;01mif\u001b[39;00m a\u001b[38;5;241m+\u001b[39mb \u001b[38;5;241m==\u001b[39m score:\n\u001b[0;32m     39\u001b[0m     paths\u001b[38;5;241m.\u001b[39madd(i)\n",
      "File \u001b[1;32m<class 'networkx.utils.decorators.argmap'> compilation 32:3\u001b[0m, in \u001b[0;36margmap_shortest_path_length_29\u001b[1;34m(G, source, target, weight, method, backend, **backend_kwargs)\u001b[0m\n\u001b[0;32m      1\u001b[0m \u001b[38;5;28;01mimport\u001b[39;00m \u001b[38;5;21;01mbz2\u001b[39;00m\n\u001b[0;32m      2\u001b[0m \u001b[38;5;28;01mimport\u001b[39;00m \u001b[38;5;21;01mcollections\u001b[39;00m\n\u001b[1;32m----> 3\u001b[0m \u001b[38;5;28;01mimport\u001b[39;00m \u001b[38;5;21;01mgzip\u001b[39;00m\n\u001b[0;32m      4\u001b[0m \u001b[38;5;28;01mimport\u001b[39;00m \u001b[38;5;21;01minspect\u001b[39;00m\n\u001b[0;32m      5\u001b[0m \u001b[38;5;28;01mimport\u001b[39;00m \u001b[38;5;21;01mitertools\u001b[39;00m\n",
      "File \u001b[1;32mc:\\Users\\tonyz\\projects\\advent-code\\2024\\.venv\\Lib\\site-packages\\networkx\\utils\\backends.py:967\u001b[0m, in \u001b[0;36m_dispatchable.__call__\u001b[1;34m(self, backend, *args, **kwargs)\u001b[0m\n\u001b[0;32m    965\u001b[0m     \u001b[38;5;28;01mif\u001b[39;00m backend \u001b[38;5;129;01mis\u001b[39;00m \u001b[38;5;129;01mnot\u001b[39;00m \u001b[38;5;28;01mNone\u001b[39;00m \u001b[38;5;129;01mand\u001b[39;00m backend \u001b[38;5;241m!=\u001b[39m \u001b[38;5;124m\"\u001b[39m\u001b[38;5;124mnetworkx\u001b[39m\u001b[38;5;124m\"\u001b[39m:\n\u001b[0;32m    966\u001b[0m         \u001b[38;5;28;01mraise\u001b[39;00m \u001b[38;5;167;01mImportError\u001b[39;00m(\u001b[38;5;124mf\u001b[39m\u001b[38;5;124m\"\u001b[39m\u001b[38;5;124m'\u001b[39m\u001b[38;5;132;01m{\u001b[39;00mbackend\u001b[38;5;132;01m}\u001b[39;00m\u001b[38;5;124m'\u001b[39m\u001b[38;5;124m backend is not installed\u001b[39m\u001b[38;5;124m\"\u001b[39m)\n\u001b[1;32m--> 967\u001b[0m     \u001b[38;5;28;01mreturn\u001b[39;00m \u001b[38;5;28;43mself\u001b[39;49m\u001b[38;5;241;43m.\u001b[39;49m\u001b[43morig_func\u001b[49m\u001b[43m(\u001b[49m\u001b[38;5;241;43m*\u001b[39;49m\u001b[43margs\u001b[49m\u001b[43m,\u001b[49m\u001b[43m \u001b[49m\u001b[38;5;241;43m*\u001b[39;49m\u001b[38;5;241;43m*\u001b[39;49m\u001b[43mkwargs\u001b[49m\u001b[43m)\u001b[49m\n\u001b[0;32m    969\u001b[0m \u001b[38;5;66;03m# Use `backend_name` in this function instead of `backend`.\u001b[39;00m\n\u001b[0;32m    970\u001b[0m \u001b[38;5;66;03m# This is purely for aesthetics and to make it easier to search for this\u001b[39;00m\n\u001b[0;32m    971\u001b[0m \u001b[38;5;66;03m# variable since \"backend\" is used in many comments and log/error messages.\u001b[39;00m\n\u001b[0;32m    972\u001b[0m backend_name \u001b[38;5;241m=\u001b[39m backend\n",
      "File \u001b[1;32mc:\\Users\\tonyz\\projects\\advent-code\\2024\\.venv\\Lib\\site-packages\\networkx\\algorithms\\shortest_paths\\generic.py:329\u001b[0m, in \u001b[0;36mshortest_path_length\u001b[1;34m(G, source, target, weight, method)\u001b[0m\n\u001b[0;32m    327\u001b[0m     paths \u001b[38;5;241m=\u001b[39m \u001b[38;5;28mlen\u001b[39m(p) \u001b[38;5;241m-\u001b[39m \u001b[38;5;241m1\u001b[39m\n\u001b[0;32m    328\u001b[0m \u001b[38;5;28;01melif\u001b[39;00m method \u001b[38;5;241m==\u001b[39m \u001b[38;5;124m\"\u001b[39m\u001b[38;5;124mdijkstra\u001b[39m\u001b[38;5;124m\"\u001b[39m:\n\u001b[1;32m--> 329\u001b[0m     paths \u001b[38;5;241m=\u001b[39m \u001b[43mnx\u001b[49m\u001b[38;5;241;43m.\u001b[39;49m\u001b[43mdijkstra_path_length\u001b[49m\u001b[43m(\u001b[49m\u001b[43mG\u001b[49m\u001b[43m,\u001b[49m\u001b[43m \u001b[49m\u001b[43msource\u001b[49m\u001b[43m,\u001b[49m\u001b[43m \u001b[49m\u001b[43mtarget\u001b[49m\u001b[43m,\u001b[49m\u001b[43m \u001b[49m\u001b[43mweight\u001b[49m\u001b[43m)\u001b[49m\n\u001b[0;32m    330\u001b[0m \u001b[38;5;28;01melse\u001b[39;00m:  \u001b[38;5;66;03m# method == 'bellman-ford':\u001b[39;00m\n\u001b[0;32m    331\u001b[0m     paths \u001b[38;5;241m=\u001b[39m nx\u001b[38;5;241m.\u001b[39mbellman_ford_path_length(G, source, target, weight)\n",
      "File \u001b[1;32m<class 'networkx.utils.decorators.argmap'> compilation 36:3\u001b[0m, in \u001b[0;36margmap_dijkstra_path_length_33\u001b[1;34m(G, source, target, weight, backend, **backend_kwargs)\u001b[0m\n\u001b[0;32m      1\u001b[0m \u001b[38;5;28;01mimport\u001b[39;00m \u001b[38;5;21;01mbz2\u001b[39;00m\n\u001b[0;32m      2\u001b[0m \u001b[38;5;28;01mimport\u001b[39;00m \u001b[38;5;21;01mcollections\u001b[39;00m\n\u001b[1;32m----> 3\u001b[0m \u001b[38;5;28;01mimport\u001b[39;00m \u001b[38;5;21;01mgzip\u001b[39;00m\n\u001b[0;32m      4\u001b[0m \u001b[38;5;28;01mimport\u001b[39;00m \u001b[38;5;21;01minspect\u001b[39;00m\n\u001b[0;32m      5\u001b[0m \u001b[38;5;28;01mimport\u001b[39;00m \u001b[38;5;21;01mitertools\u001b[39;00m\n",
      "File \u001b[1;32mc:\\Users\\tonyz\\projects\\advent-code\\2024\\.venv\\Lib\\site-packages\\networkx\\utils\\backends.py:967\u001b[0m, in \u001b[0;36m_dispatchable.__call__\u001b[1;34m(self, backend, *args, **kwargs)\u001b[0m\n\u001b[0;32m    965\u001b[0m     \u001b[38;5;28;01mif\u001b[39;00m backend \u001b[38;5;129;01mis\u001b[39;00m \u001b[38;5;129;01mnot\u001b[39;00m \u001b[38;5;28;01mNone\u001b[39;00m \u001b[38;5;129;01mand\u001b[39;00m backend \u001b[38;5;241m!=\u001b[39m \u001b[38;5;124m\"\u001b[39m\u001b[38;5;124mnetworkx\u001b[39m\u001b[38;5;124m\"\u001b[39m:\n\u001b[0;32m    966\u001b[0m         \u001b[38;5;28;01mraise\u001b[39;00m \u001b[38;5;167;01mImportError\u001b[39;00m(\u001b[38;5;124mf\u001b[39m\u001b[38;5;124m\"\u001b[39m\u001b[38;5;124m'\u001b[39m\u001b[38;5;132;01m{\u001b[39;00mbackend\u001b[38;5;132;01m}\u001b[39;00m\u001b[38;5;124m'\u001b[39m\u001b[38;5;124m backend is not installed\u001b[39m\u001b[38;5;124m\"\u001b[39m)\n\u001b[1;32m--> 967\u001b[0m     \u001b[38;5;28;01mreturn\u001b[39;00m \u001b[38;5;28;43mself\u001b[39;49m\u001b[38;5;241;43m.\u001b[39;49m\u001b[43morig_func\u001b[49m\u001b[43m(\u001b[49m\u001b[38;5;241;43m*\u001b[39;49m\u001b[43margs\u001b[49m\u001b[43m,\u001b[49m\u001b[43m \u001b[49m\u001b[38;5;241;43m*\u001b[39;49m\u001b[38;5;241;43m*\u001b[39;49m\u001b[43mkwargs\u001b[49m\u001b[43m)\u001b[49m\n\u001b[0;32m    969\u001b[0m \u001b[38;5;66;03m# Use `backend_name` in this function instead of `backend`.\u001b[39;00m\n\u001b[0;32m    970\u001b[0m \u001b[38;5;66;03m# This is purely for aesthetics and to make it easier to search for this\u001b[39;00m\n\u001b[0;32m    971\u001b[0m \u001b[38;5;66;03m# variable since \"backend\" is used in many comments and log/error messages.\u001b[39;00m\n\u001b[0;32m    972\u001b[0m backend_name \u001b[38;5;241m=\u001b[39m backend\n",
      "File \u001b[1;32mc:\\Users\\tonyz\\projects\\advent-code\\2024\\.venv\\Lib\\site-packages\\networkx\\algorithms\\shortest_paths\\weighted.py:248\u001b[0m, in \u001b[0;36mdijkstra_path_length\u001b[1;34m(G, source, target, weight)\u001b[0m\n\u001b[0;32m    246\u001b[0m     \u001b[38;5;28;01mreturn\u001b[39;00m \u001b[38;5;241m0\u001b[39m\n\u001b[0;32m    247\u001b[0m weight \u001b[38;5;241m=\u001b[39m _weight_function(G, weight)\n\u001b[1;32m--> 248\u001b[0m length \u001b[38;5;241m=\u001b[39m \u001b[43m_dijkstra\u001b[49m\u001b[43m(\u001b[49m\u001b[43mG\u001b[49m\u001b[43m,\u001b[49m\u001b[43m \u001b[49m\u001b[43msource\u001b[49m\u001b[43m,\u001b[49m\u001b[43m \u001b[49m\u001b[43mweight\u001b[49m\u001b[43m,\u001b[49m\u001b[43m \u001b[49m\u001b[43mtarget\u001b[49m\u001b[38;5;241;43m=\u001b[39;49m\u001b[43mtarget\u001b[49m\u001b[43m)\u001b[49m\n\u001b[0;32m    249\u001b[0m \u001b[38;5;28;01mtry\u001b[39;00m:\n\u001b[0;32m    250\u001b[0m     \u001b[38;5;28;01mreturn\u001b[39;00m length[target]\n",
      "File \u001b[1;32mc:\\Users\\tonyz\\projects\\advent-code\\2024\\.venv\\Lib\\site-packages\\networkx\\algorithms\\shortest_paths\\weighted.py:779\u001b[0m, in \u001b[0;36m_dijkstra\u001b[1;34m(G, source, weight, pred, paths, cutoff, target)\u001b[0m\n\u001b[0;32m    770\u001b[0m \u001b[38;5;28;01mdef\u001b[39;00m \u001b[38;5;21m_dijkstra\u001b[39m(G, source, weight, pred\u001b[38;5;241m=\u001b[39m\u001b[38;5;28;01mNone\u001b[39;00m, paths\u001b[38;5;241m=\u001b[39m\u001b[38;5;28;01mNone\u001b[39;00m, cutoff\u001b[38;5;241m=\u001b[39m\u001b[38;5;28;01mNone\u001b[39;00m, target\u001b[38;5;241m=\u001b[39m\u001b[38;5;28;01mNone\u001b[39;00m):\n\u001b[0;32m    771\u001b[0m \u001b[38;5;250m    \u001b[39m\u001b[38;5;124;03m\"\"\"Uses Dijkstra's algorithm to find shortest weighted paths from a\u001b[39;00m\n\u001b[0;32m    772\u001b[0m \u001b[38;5;124;03m    single source.\u001b[39;00m\n\u001b[0;32m    773\u001b[0m \n\u001b[1;32m   (...)\u001b[0m\n\u001b[0;32m    777\u001b[0m \n\u001b[0;32m    778\u001b[0m \u001b[38;5;124;03m    \"\"\"\u001b[39;00m\n\u001b[1;32m--> 779\u001b[0m     \u001b[38;5;28;01mreturn\u001b[39;00m \u001b[43m_dijkstra_multisource\u001b[49m\u001b[43m(\u001b[49m\n\u001b[0;32m    780\u001b[0m \u001b[43m        \u001b[49m\u001b[43mG\u001b[49m\u001b[43m,\u001b[49m\u001b[43m \u001b[49m\u001b[43m[\u001b[49m\u001b[43msource\u001b[49m\u001b[43m]\u001b[49m\u001b[43m,\u001b[49m\u001b[43m \u001b[49m\u001b[43mweight\u001b[49m\u001b[43m,\u001b[49m\u001b[43m \u001b[49m\u001b[43mpred\u001b[49m\u001b[38;5;241;43m=\u001b[39;49m\u001b[43mpred\u001b[49m\u001b[43m,\u001b[49m\u001b[43m \u001b[49m\u001b[43mpaths\u001b[49m\u001b[38;5;241;43m=\u001b[39;49m\u001b[43mpaths\u001b[49m\u001b[43m,\u001b[49m\u001b[43m \u001b[49m\u001b[43mcutoff\u001b[49m\u001b[38;5;241;43m=\u001b[39;49m\u001b[43mcutoff\u001b[49m\u001b[43m,\u001b[49m\u001b[43m \u001b[49m\u001b[43mtarget\u001b[49m\u001b[38;5;241;43m=\u001b[39;49m\u001b[43mtarget\u001b[49m\n\u001b[0;32m    781\u001b[0m \u001b[43m    \u001b[49m\u001b[43m)\u001b[49m\n",
      "File \u001b[1;32mc:\\Users\\tonyz\\projects\\advent-code\\2024\\.venv\\Lib\\site-packages\\networkx\\algorithms\\shortest_paths\\weighted.py:858\u001b[0m, in \u001b[0;36m_dijkstra_multisource\u001b[1;34m(G, sources, weight, pred, paths, cutoff, target)\u001b[0m\n\u001b[0;32m    856\u001b[0m     \u001b[38;5;28;01mbreak\u001b[39;00m\n\u001b[0;32m    857\u001b[0m \u001b[38;5;28;01mfor\u001b[39;00m u, e \u001b[38;5;129;01min\u001b[39;00m G_succ[v]\u001b[38;5;241m.\u001b[39mitems():\n\u001b[1;32m--> 858\u001b[0m     cost \u001b[38;5;241m=\u001b[39m \u001b[43mweight\u001b[49m\u001b[43m(\u001b[49m\u001b[43mv\u001b[49m\u001b[43m,\u001b[49m\u001b[43m \u001b[49m\u001b[43mu\u001b[49m\u001b[43m,\u001b[49m\u001b[43m \u001b[49m\u001b[43me\u001b[49m\u001b[43m)\u001b[49m\n\u001b[0;32m    859\u001b[0m     \u001b[38;5;28;01mif\u001b[39;00m cost \u001b[38;5;129;01mis\u001b[39;00m \u001b[38;5;28;01mNone\u001b[39;00m:\n\u001b[0;32m    860\u001b[0m         \u001b[38;5;28;01mcontinue\u001b[39;00m\n",
      "File \u001b[1;32mc:\\Users\\tonyz\\projects\\advent-code\\2024\\.venv\\Lib\\site-packages\\networkx\\algorithms\\shortest_paths\\weighted.py:78\u001b[0m, in \u001b[0;36m_weight_function.<locals>.<lambda>\u001b[1;34m(u, v, data)\u001b[0m\n\u001b[0;32m     76\u001b[0m \u001b[38;5;28;01mif\u001b[39;00m G\u001b[38;5;241m.\u001b[39mis_multigraph():\n\u001b[0;32m     77\u001b[0m     \u001b[38;5;28;01mreturn\u001b[39;00m \u001b[38;5;28;01mlambda\u001b[39;00m u, v, d: \u001b[38;5;28mmin\u001b[39m(attr\u001b[38;5;241m.\u001b[39mget(weight, \u001b[38;5;241m1\u001b[39m) \u001b[38;5;28;01mfor\u001b[39;00m attr \u001b[38;5;129;01min\u001b[39;00m d\u001b[38;5;241m.\u001b[39mvalues())\n\u001b[1;32m---> 78\u001b[0m \u001b[38;5;28;01mreturn\u001b[39;00m \u001b[38;5;28;01mlambda\u001b[39;00m u, v, data: data\u001b[38;5;241m.\u001b[39mget(weight, \u001b[38;5;241m1\u001b[39m)\n",
      "\u001b[1;31mKeyboardInterrupt\u001b[0m: "
     ]
    }
   ],
   "source": [
    "def day16():\n",
    "    grid = np.array(data(16, list))\n",
    "    start = icoord(*np.argwhere(grid == 'S')[0])\n",
    "    end = icoord(*np.argwhere(grid == 'E')[0])\n",
    "    not_walls = {icoord(*x) for x in np.argwhere(grid!='#')}\n",
    "\n",
    "    G = nx.Graph()\n",
    "    for i in not_walls:\n",
    "        G.add_node((i, 0))\n",
    "        G.add_node((i, 1))\n",
    "        G.add_node((i, -1))\n",
    "        G.add_node((i, 1j))\n",
    "        G.add_node((i, -1j))\n",
    "        G.add_edge((i, 1), (i, 1j), weight=1000)\n",
    "        G.add_edge((i, 1), (i, -1j), weight=1000)\n",
    "        G.add_edge((i, -1), (i, 1j), weight=1000)\n",
    "        G.add_edge((i, 1), (i, -1j), weight=1000)\n",
    "        G.add_edge((i, 1), (i, 0), weight=1000)\n",
    "        G.add_edge((i, -1), (i, 0), weight=1000)\n",
    "        G.add_edge((i, 1j), (i, 0), weight=1000)\n",
    "        G.add_edge((i, -1j), (i, 0), weight=1000)\n",
    "\n",
    "    for i in not_walls:\n",
    "        for d in (1, -1, 1j, -1j):\n",
    "            if (i+d, d) in G:\n",
    "                G.add_edge((i, d), (i+d, d), weight=1)\n",
    "\n",
    "\n",
    "    score = nx.shortest_path_length(G, (start, 1), (end, 0), weight='weight')-1000\n",
    "    print(score)\n",
    "    paths = set()\n",
    "    for i in not_walls:\n",
    "        for d in (1, -1, 1j, -1j):\n",
    "            a = nx.shortest_path_length(G, (start, 1), (i, d), weight='weight')\n",
    "            if a > score:\n",
    "                continue\n",
    "            b = nx.shortest_path_length(G, (i,  d), (end, 0), weight='weight')-1000\n",
    "            if a+b == score:\n",
    "                paths.add(i)\n",
    "                break\n",
    "    print(len(paths))\n",
    "\n",
    "day16()"
   ]
  },
  {
   "cell_type": "code",
   "execution_count": null,
   "metadata": {},
   "outputs": [],
   "source": []
  }
 ],
 "metadata": {
  "kernelspec": {
   "display_name": ".venv",
   "language": "python",
   "name": "python3"
  },
  "language_info": {
   "codemirror_mode": {
    "name": "ipython",
    "version": 3
   },
   "file_extension": ".py",
   "mimetype": "text/x-python",
   "name": "python",
   "nbconvert_exporter": "python",
   "pygments_lexer": "ipython3",
   "version": "3.13.0"
  }
 },
 "nbformat": 4,
 "nbformat_minor": 2
}
