{
 "cells": [
  {
   "cell_type": "code",
   "execution_count": 50,
   "metadata": {},
   "outputs": [],
   "source": [
    "import numpy as np\n",
    "import math\n",
    "from typing import Callable, TypeVar\n",
    "from collections import Counter, deque, defaultdict\n",
    "import itertools\n",
    "from functools import cmp_to_key, cache\n",
    "import regex as re\n",
    "from intervaltree import Interval, IntervalTree\n",
    "from concurrent.futures import ThreadPoolExecutor\n",
    "from sortedcontainers import SortedDict\n",
    "import z3\n",
    "\n",
    "np.set_printoptions(edgeitems=30, linewidth=100000, \n",
    "    formatter=dict(float=lambda x: \"%.3g\" % x))\n",
    "\n",
    "T = TypeVar('T')\n",
    "\n",
    "def data(day: int, parser: Callable[[str], T] = str) -> list[T]:\n",
    "  with open(f\"./data/day{day}.txt\") as f:\n",
    "    return [parser(line.strip()) for line in f.readlines()]\n",
    "\n",
    "processors = {\n",
    "  'int_list': lambda x: [int(y) for y in x.split()],\n",
    "  'int_string': lambda x: [int(y) for y in x]\n",
    "}\n",
    "\n",
    "def search(start, get_neighbors, end_condition=lambda _, __: False, dfs=True, permutations=False):\n",
    "    q, visited = deque([(start, 0)]), {}\n",
    "    while q:\n",
    "        current, distance = q.popleft() if dfs else q.pop()\n",
    "        if end_condition(current, distance):\n",
    "            return visited, current\n",
    "        if current in visited and not permutations:\n",
    "            continue\n",
    "        for node in get_neighbors(current, distance):\n",
    "            q.append((node, distance+1))\n",
    "        visited[current] = distance\n",
    "    return visited, None\n",
    "\n",
    "def sum_series(start, stop):\n",
    "    n = (stop - start)\n",
    "    sum = start + stop\n",
    "    return n * sum // 2\n",
    "\n",
    "def debug_array(arr, coords, p=True):\n",
    "    arr = arr.copy()\n",
    "    for i in coords:\n",
    "        arr[*i] = 'X'\n",
    "    if p:\n",
    "        print(arr)\n",
    "    return arr\n",
    "\n",
    "def flatten(xss):\n",
    "    return [x for xs in xss for x in xs]\n",
    "\n",
    "def yx(n):\n",
    "    return int(n.imag), int(n.real)\n",
    "def icoord(y, x):\n",
    "    return x+1j*y"
   ]
  },
  {
   "cell_type": "code",
   "execution_count": 74,
   "metadata": {},
   "outputs": [
    {
     "data": {
      "text/plain": [
       "(1941353, 22539317)"
      ]
     },
     "execution_count": 74,
     "metadata": {},
     "output_type": "execute_result"
    }
   ],
   "source": [
    "\n",
    "def day1():\n",
    "    loc1, loc2 = zip(*data(1, processors['int_list']))\n",
    "    part1 = sum(abs(x[0]-x[1]) for x in zip(sorted(loc1), sorted(loc2)))\n",
    "    counts = Counter(loc2)\n",
    "    part2 = sum(x*counts[x] for x in loc1)\n",
    "    return part1, part2\n",
    "\n",
    "day1()"
   ]
  },
  {
   "cell_type": "code",
   "execution_count": 75,
   "metadata": {},
   "outputs": [
    {
     "data": {
      "text/plain": [
       "array([356, 413])"
      ]
     },
     "execution_count": 75,
     "metadata": {},
     "output_type": "execute_result"
    }
   ],
   "source": [
    "def day2():\n",
    "    def check_safe(report):\n",
    "        ascending = sorted(report)\n",
    "        diffs = np.diff(ascending)\n",
    "        return max(diffs) <= 3 and min(diffs) >= 1 and (\n",
    "            report == ascending or\n",
    "            report == list(reversed(ascending))\n",
    "        )\n",
    "\n",
    "    def check_safe_damp(report):\n",
    "        if check_safe(report):\n",
    "            return 1, 1\n",
    "        for damped in itertools.combinations(report, len(report)-1):\n",
    "            if check_safe(list(damped)):\n",
    "                return 0, 1\n",
    "        return 0, 0\n",
    "\n",
    "    reports = data(2, processors['int_list'])\n",
    "    safe = np.array((0,0))\n",
    "    for report in reports:\n",
    "        safe += check_safe_damp(report)\n",
    "    return safe\n",
    "\n",
    "day2()"
   ]
  },
  {
   "cell_type": "code",
   "execution_count": 76,
   "metadata": {},
   "outputs": [
    {
     "data": {
      "text/plain": [
       "(182780583, 90772405)"
      ]
     },
     "execution_count": 76,
     "metadata": {},
     "output_type": "execute_result"
    }
   ],
   "source": [
    "def day3():\n",
    "    def mul_strings(s):\n",
    "        x, y = s.split(',')\n",
    "        return int(x)*int(y)\n",
    "\n",
    "    instructions = ''.join(data(3))\n",
    "    matches = list(re.finditer(r'mul\\((\\d+,\\d+)\\)', instructions))\n",
    "    conds = list(re.finditer(r\"don't\\(\\).+?do\\(\\)\", instructions))\n",
    "    donts = IntervalTree([Interval(*cond.span()) for cond in conds])\n",
    "    result = sum([mul_strings(mul[1]) * (1 if not donts[mul.span()[0]] else 1j) for mul in matches])\n",
    "    return int(result.real+result.imag), int(result.real)\n",
    "\n",
    "day3()"
   ]
  },
  {
   "cell_type": "code",
   "execution_count": 125,
   "metadata": {},
   "outputs": [
    {
     "data": {
      "text/plain": [
       "(2599, 1948)"
      ]
     },
     "execution_count": 125,
     "metadata": {},
     "output_type": "execute_result"
    }
   ],
   "source": [
    "def day4():\n",
    "    grid = np.array(data(4, lambda x: np.array(list(x))))\n",
    "    ymax, xmax = grid.shape\n",
    "\n",
    "    def find_target_occurences(target):\n",
    "        occurences = set()\n",
    "\n",
    "        def get_neighbors(current, distance):\n",
    "            row, col = yx(current)\n",
    "            target_letter = target[distance]\n",
    "            if grid[row, col] != target_letter:\n",
    "                return\n",
    "            if distance == len(target)-1:\n",
    "                total.add(current)\n",
    "                return\n",
    "            for v in [1, -1, 1j, -1j, 1+1j, 1-1j, -1+1j, -1-1j]:\n",
    "                new = current + v\n",
    "                y, x = yx(new)\n",
    "                if not (y >= 0 and x >= 0 and y < ymax and x < xmax):\n",
    "                    continue\n",
    "                yield new\n",
    "        \n",
    "        for j in range(ymax):\n",
    "            for i in range(xmax):\n",
    "                total = set()\n",
    "                coordinate = i+1j*j\n",
    "                search(coordinate, get_neighbors)\n",
    "                for end in total:\n",
    "                    occurences.add((coordinate, end))\n",
    "        return occurences\n",
    "\n",
    "    def find_diags(hits, l):\n",
    "        centers = Counter()\n",
    "        for start, end in hits:\n",
    "            distance = end-start\n",
    "            if abs(distance.real) == l and abs(distance.imag) == l:\n",
    "                center = start + distance/2\n",
    "                centers[center] += 1\n",
    "        return centers\n",
    "    \n",
    "    def find_straights(hits, target):\n",
    "        rev = target[::-1]\n",
    "        l = len(target)\n",
    "        td = l-1\n",
    "        for start, end in hits:\n",
    "            j, i = yx(start)\n",
    "            d = end-start\n",
    "            if (\n",
    "                (d.real == td and not d.imag and ''.join(grid[j, i:i+l]) == target)\n",
    "                or (d.real == -td and not d.imag and ''.join(grid[j, i-td:i+1]) == rev)\n",
    "                or (not d.real and d.imag == td and ''.join(grid[j:j+l, i]) == target)\n",
    "                or (not d.real and d.imag == -td and ''.join(grid[j-td:j+1, i]) == rev)\n",
    "            ):\n",
    "                yield start\n",
    "\n",
    "    target = 'XMAS'\n",
    "    matches = find_target_occurences(target)\n",
    "    part1 = sum(find_diags(matches, len(target)-1).values()) + len(list(find_straights(matches, target)))\n",
    "\n",
    "    centers = find_diags(find_target_occurences(target[1:]), len(target)-2)\n",
    "    part2 = sum([1 if centers[x] == 2 else 0 for x in centers])\n",
    "\n",
    "    return (part1, part2)\n",
    "\n",
    "day4()"
   ]
  },
  {
   "cell_type": "code",
   "execution_count": 78,
   "metadata": {},
   "outputs": [
    {
     "data": {
      "text/plain": [
       "(6041, 4884)"
      ]
     },
     "execution_count": 78,
     "metadata": {},
     "output_type": "execute_result"
    }
   ],
   "source": [
    "def day5():\n",
    "    text = data(5)\n",
    "    split = text.index('')\n",
    "    lists = [tuple(map(int, x.split(','))) for x in text[split+1:]]\n",
    "\n",
    "    parents = defaultdict(lambda: set())\n",
    "    for x in text[:split]:\n",
    "        parent, child = tuple(map(int, x.split('|')))\n",
    "        parents[child].add(parent)\n",
    "\n",
    "    def check_illegal(nums):\n",
    "        illegal = set()\n",
    "        for num in nums:\n",
    "            if num in illegal:\n",
    "                return True\n",
    "            illegal.update(parents[num])\n",
    "\n",
    "    def compare(a, b):\n",
    "        if a in parents[b]:\n",
    "            return 1\n",
    "        elif b in parents[a]:\n",
    "            return -1\n",
    "        return -1 if a < b else 1\n",
    "\n",
    "    part1, part2 = 0, 0\n",
    "    for nums in lists:\n",
    "        if not check_illegal(nums):\n",
    "            part1 += nums[len(nums)//2]\n",
    "        else:\n",
    "            part2 += sorted(nums, key=cmp_to_key(compare))[len(nums)//2]\n",
    "            \n",
    "    return part1, part2\n",
    "\n",
    "day5()"
   ]
  },
  {
   "cell_type": "code",
   "execution_count": 73,
   "metadata": {},
   "outputs": [
    {
     "data": {
      "text/plain": [
       "(41, 6)"
      ]
     },
     "execution_count": 73,
     "metadata": {},
     "output_type": "execute_result"
    }
   ],
   "source": [
    "def day6():\n",
    "    grid = np.array(data(0, list))\n",
    "    ymax, xmax = grid.shape\n",
    "    start = np.argwhere(grid == '^')[0]\n",
    "    grid[*start] = '.'\n",
    "    turns = [(1, 0), (0, 1), (-1, 0), (0, -1)]\n",
    "    \n",
    "    def run_guard(obstacle=(-1, -1)):\n",
    "        directions, v = itertools.cycle(turns), turns[-1]\n",
    "        y, x = int(start[0])-v[1], int(start[1])-v[0]\n",
    "        visited, states = set(), set()\n",
    "        while True:\n",
    "            ny, nx = y+v[1], x + v[0]\n",
    "            if (ny, nx, v) in states:\n",
    "                return True, states\n",
    "            elif (nx < 0 or ny < 0 or nx >= xmax or ny >= ymax):\n",
    "                return False, visited\n",
    "            elif grid[ny, nx] != '.' or (ny, nx) == obstacle:\n",
    "                v = next(directions)\n",
    "                continue\n",
    "            y, x = ny, nx\n",
    "            visited.add((y, x))\n",
    "            states.add((y, x, v))\n",
    "\n",
    "    _, original = run_guard()\n",
    "    part1 = len(original)\n",
    "    with ThreadPoolExecutor() as tpe:\n",
    "        part2 = sum([r[0] for r in tpe.map(lambda x: run_guard(x), original)])\n",
    "    return part1, part2\n",
    "\n",
    "day6()"
   ]
  },
  {
   "cell_type": "code",
   "execution_count": 11,
   "metadata": {},
   "outputs": [
    {
     "name": "stdout",
     "output_type": "stream",
     "text": [
      "11387\n"
     ]
    }
   ],
   "source": [
    "def day7():\n",
    "    equations = data(0, lambda x: [int(n) for n in re.split(r' |: ', x)])\n",
    "    \n",
    "    def check(n, acc, arr):\n",
    "        if not arr:\n",
    "            return n == acc\n",
    "        elif acc > n:\n",
    "            return False\n",
    "        x, tail = arr[0], arr[1:]\n",
    "        return (check(n, int(f'{acc}{x}'), tail) or\n",
    "                check(n, acc*x, tail) or\n",
    "                check(n, acc+x, tail))\n",
    "\n",
    "    result = 0\n",
    "    for eq in equations:\n",
    "        if check(eq[0], eq[1], tuple(eq[2:])):\n",
    "            result += eq[0]\n",
    "    print(result)\n",
    "\n",
    "\n",
    "day7()"
   ]
  },
  {
   "cell_type": "code",
   "execution_count": 50,
   "metadata": {},
   "outputs": [
    {
     "data": {
      "text/plain": [
       "(7710205485870, 20928985450275)"
      ]
     },
     "execution_count": 50,
     "metadata": {},
     "output_type": "execute_result"
    }
   ],
   "source": [
    "def day7():\n",
    "    equations, flag = data(7, lambda x: [int(n) for n in re.split(r' |: ', x)]), False\n",
    "    def check(n, acc, arr):\n",
    "        if not arr:\n",
    "            return n if n == acc else 0\n",
    "        elif acc > n:\n",
    "            return\n",
    "        x, tail = arr[0], arr[1:]\n",
    "        return ((flag and check(n, int(f'{acc}{x}'), tail)) or\n",
    "                check(n, acc*x, tail) or\n",
    "                check(n, acc+x, tail))\n",
    "    part1, flag = sum([check(eq[0], eq[1], tuple(eq[2:])) for eq in equations]), True\n",
    "    with ThreadPoolExecutor() as tpe:\n",
    "        part2 = sum(tpe.map(lambda eq: check(eq[0], eq[1], tuple(eq[2:])), equations))\n",
    "    return part1, part2\n",
    "\n",
    "day7()"
   ]
  },
  {
   "cell_type": "code",
   "execution_count": 72,
   "metadata": {},
   "outputs": [
    {
     "data": {
      "text/plain": [
       "(261, 898)"
      ]
     },
     "execution_count": 72,
     "metadata": {},
     "output_type": "execute_result"
    }
   ],
   "source": [
    "def day8():\n",
    "    grid = np.array(data(8, list))\n",
    "    ymax, xmax = grid.shape\n",
    "    def is_inside(y, x):\n",
    "        return y >= 0 and y < ymax and x >= 0 and x < xmax\n",
    "    def get_nodes(start, diff, sign=1):\n",
    "        node = start.copy()\n",
    "        while is_inside(*node):\n",
    "            yield tuple(node)\n",
    "            node -= sign*diff\n",
    "\n",
    "    part1, part2 = set(), set()\n",
    "    points = {i:np.argwhere(grid==i) for i in np.unique(grid) if i != '.'}\n",
    "    for antennae in points:\n",
    "        combos = itertools.combinations(points[antennae], 2)\n",
    "        for combo in combos:\n",
    "            diff = combo[1]-combo[0]\n",
    "            for y, x in (combo[0]-diff, combo[1]+diff):\n",
    "                if is_inside(y, x):\n",
    "                    part1.add((y, x))\n",
    "            for (y, x) in [*get_nodes(combo[0], diff), *get_nodes(combo[1], diff, -1)]:\n",
    "                part2.add((y, x))\n",
    "\n",
    "    return len(part1), len(part2)\n",
    "\n",
    "day8()"
   ]
  },
  {
   "cell_type": "code",
   "execution_count": 87,
   "metadata": {},
   "outputs": [
    {
     "data": {
      "text/plain": [
       "(6349606724455, 6376648986651)"
      ]
     },
     "execution_count": 87,
     "metadata": {},
     "output_type": "execute_result"
    }
   ],
   "source": [
    "def day9():\n",
    "    disk_map = data(9)[0]\n",
    "    files = [int(x) for x in disk_map[0::2]]\n",
    "    buffers = [int(x) for x in disk_map[1::2]]\n",
    "\n",
    "    def part1(buffers):\n",
    "        p = 0 # Current pointer location\n",
    "        buffer = 0 # Current buffer space available\n",
    "        fid = 0 # Current file number from left to right\n",
    "        checksum = 0 # Result\n",
    "        for n in range(len(files)-1, -1, -1):\n",
    "            req = files[n]\n",
    "            while req > buffer:\n",
    "                # fill buffer with rightmost file\n",
    "                checksum += sum_series(p, p+buffer)*n\n",
    "                p += buffer\n",
    "                req -= buffer\n",
    "                # add current file to checksum\n",
    "                fsize = files[fid]\n",
    "                checksum += sum_series(p, p+fsize)*fid\n",
    "                p += fsize\n",
    "                fid += 1\n",
    "                if fid >= n:\n",
    "                    checksum += sum_series(p, p+req)*fid\n",
    "                    return checksum\n",
    "                # get next buffer\n",
    "                buffer = next(buffers)\n",
    "            checksum += sum_series(p, p+req)*n\n",
    "            p += req\n",
    "            buffer -= req\n",
    "\n",
    "    def part2(buffers):\n",
    "        p = 0\n",
    "        starts = {}\n",
    "        slots = SortedDict()\n",
    "        for i, v in enumerate(files):\n",
    "            starts[i] = p\n",
    "            p += v\n",
    "            try:\n",
    "                buffer = next(buffers)\n",
    "                if buffer:\n",
    "                    slots[p] = buffer\n",
    "                    p += buffer\n",
    "            except StopIteration:\n",
    "                continue\n",
    "\n",
    "        def find_slot(size): # O(n)\n",
    "            for index, value in slots.items():\n",
    "                if value >= size:\n",
    "                    return index\n",
    "            return -1\n",
    "\n",
    "        checksum = 0\n",
    "        for n in range(len(files)-1, -1, -1):\n",
    "            req = files[n]\n",
    "            p = find_slot(req)\n",
    "            if p != -1 and p < starts[n]:\n",
    "                buffer = slots[p]\n",
    "                del slots[p]\n",
    "                if (rem := buffer-req):\n",
    "                    slots[p+req] = rem\n",
    "            else:\n",
    "                p = starts[n]\n",
    "            checksum += sum_series(p, p+req)*n\n",
    "        return checksum\n",
    "    \n",
    "    return part1(iter(buffers)), part2(iter(buffers))\n",
    "\n",
    "day9()"
   ]
  },
  {
   "cell_type": "code",
   "execution_count": 126,
   "metadata": {},
   "outputs": [
    {
     "data": {
      "text/plain": [
       "(737, 1619)"
      ]
     },
     "execution_count": 126,
     "metadata": {},
     "output_type": "execute_result"
    }
   ],
   "source": [
    "def day10():\n",
    "    grid = np.array(data(10, processors['int_string']))\n",
    "    ymax, xmax = grid.shape\n",
    "    starts = np.argwhere(grid==0)\n",
    "\n",
    "    def get_neighbors(current, distance):\n",
    "        for v in (1, -1, 1j, -1j):\n",
    "            new = current + v\n",
    "            y, x = yx(new)\n",
    "            if not (y >= 0 and x >= 0 and y < ymax and x < xmax):\n",
    "                continue\n",
    "            if grid[y, x] == distance + 1:\n",
    "                yield new\n",
    "\n",
    "    def trail_end(current, distance):\n",
    "        if distance == 9:\n",
    "            trailheads.add(current)\n",
    "\n",
    "    def rating_end(current, distance):\n",
    "        if distance == 9:\n",
    "            ratings.append(current)\n",
    "\n",
    "    part1, part2 = 0, 0\n",
    "    for y, x in starts:\n",
    "        trailheads, ratings = set(), []\n",
    "        search(x+1j*y, get_neighbors, trail_end)\n",
    "        search(x+1j*y, get_neighbors, rating_end, permutations=True)\n",
    "        part1 += len(trailheads)\n",
    "        part2 += len(ratings)\n",
    "    return part1, part2\n",
    "\n",
    "day10()"
   ]
  },
  {
   "cell_type": "code",
   "execution_count": 7,
   "metadata": {},
   "outputs": [
    {
     "data": {
      "text/plain": [
       "(186424, 219838428124832)"
      ]
     },
     "execution_count": 7,
     "metadata": {},
     "output_type": "execute_result"
    }
   ],
   "source": [
    "def day11():\n",
    "    stones = data(11, processors['int_list'])[0]\n",
    "\n",
    "    def next_stones(s):\n",
    "        if not s:\n",
    "            return (1, )\n",
    "        ss = str(s)\n",
    "        half, rem = divmod(len(ss), 2)\n",
    "        if not rem:\n",
    "            return int(ss[:half + rem]), int(ss[half + rem:])\n",
    "        return (s*2024, )\n",
    "    \n",
    "    @cache\n",
    "    def run_stones(s, i):\n",
    "        if not i:\n",
    "            return [s]\n",
    "        result = flatten([run_stones(stone, i-1) for stone in next_stones(s)])\n",
    "        return result\n",
    "\n",
    "    @cache\n",
    "    def stone_count(s, i):\n",
    "        if not i:\n",
    "            return 1\n",
    "        stones = run_stones(s, 1)\n",
    "        result = 0\n",
    "        for stone in stones:\n",
    "            result += stone_count(stone, i-1)\n",
    "        return result\n",
    "\n",
    "    part1 = sum(stone_count(s, 25) for s in stones)\n",
    "    part2 = sum(stone_count(s, 75) for s in stones)\n",
    "    return part1, part2\n",
    "\n",
    "day11()"
   ]
  },
  {
   "cell_type": "code",
   "execution_count": 129,
   "metadata": {},
   "outputs": [
    {
     "data": {
      "text/plain": [
       "(1473276, 901100)"
      ]
     },
     "execution_count": 129,
     "metadata": {},
     "output_type": "execute_result"
    }
   ],
   "source": [
    "def day12():\n",
    "    grid = np.array(data(12, list))\n",
    "    ymax, xmax = grid.shape\n",
    "    \n",
    "    def corner_count(n, y, x):\n",
    "        size = len(n)\n",
    "        if not size:\n",
    "            return 4\n",
    "        elif size == 1:\n",
    "            return 2\n",
    "        elif size == 2: \n",
    "            b, a = yx(n[0])\n",
    "            j, i = yx(n[1])\n",
    "            if j != b and i != a: # L shape\n",
    "                return 1 if grid[j, a] == grid[b, i] else 2\n",
    "        else:\n",
    "            ys, xs = list(zip(*[yx(node) for node in n])) # Check diagonals\n",
    "            bot, top, left, right = min(ys), max(ys), min(xs), max(xs)\n",
    "            return len([i for i in [(bot, left), (bot, right), (top, left), (top, right)] if grid[i] != grid[y, x]])\n",
    "        return 0\n",
    "\n",
    "    def get_neighbors(current, _):\n",
    "        target = yx(current)\n",
    "        neighbors = []\n",
    "        for v in (1, -1, 1j, -1j):\n",
    "            new = current + v\n",
    "            y, x = yx(new)\n",
    "            if not (y >= 0 and x >= 0 and y < ymax and x < xmax):\n",
    "                continue\n",
    "            if grid[y, x] == grid[*target]:\n",
    "                neighbors.append(new)\n",
    "                perimeters[current] -= 1\n",
    "        corners[current] = corner_count(neighbors, *target)\n",
    "        return neighbors\n",
    "\n",
    "    part1, part2 = 0, 0\n",
    "    visited = set()\n",
    "    perimeters, corners = defaultdict(lambda: 4), {}\n",
    "    for j in range(ymax):\n",
    "        for i in range(xmax):\n",
    "            coordinate = i + 1j*j\n",
    "            if coordinate in visited:\n",
    "                continue\n",
    "            region, _ = search(coordinate, get_neighbors)\n",
    "            visited.update(region)\n",
    "            part1 += len(region)*sum(perimeters[r] for r in region.keys())\n",
    "            part2 += len(region)*sum(corners[r] for r in region.keys())\n",
    "    return part1, part2\n",
    "\n",
    "day12()"
   ]
  },
  {
   "cell_type": "code",
   "execution_count": 35,
   "metadata": {},
   "outputs": [
    {
     "data": {
      "text/plain": [
       "(36758, 76358113886726)"
      ]
     },
     "execution_count": 35,
     "metadata": {},
     "output_type": "execute_result"
    }
   ],
   "source": [
    "def day13():\n",
    "    lines = data(13)\n",
    "    groups = [lines[i:i+3] for i in range(0, len(lines), 4)]\n",
    "\n",
    "    def parse_coords(text, prize=False):\n",
    "        r = r'Prize: X=(\\d+), Y=(\\d+)' if prize else r'Button .: X\\+(\\d+), Y\\+(\\d+)'\n",
    "        matches = re.findall(r, text)[0]\n",
    "        return int(matches[0]), int(matches[1])\n",
    "\n",
    "    def solve(a, b, prize):\n",
    "        solver = z3.Optimize()\n",
    "        x = z3.Int('x')\n",
    "        y = z3.Int('y')\n",
    "        solver.minimize(3*x+y)\n",
    "        solver.add(a[0]*x + b[0]*y == prize[0])\n",
    "        solver.add(a[1]*x + b[1]*y == prize[1])\n",
    "        \n",
    "        solver.check()\n",
    "        result = solver.model()\n",
    "        return 3*result[x].as_long() + result[y].as_long() if result else 0\n",
    "\n",
    "    part1, part2 = 0, 0\n",
    "    for group in groups:    \n",
    "        a = parse_coords(group[0])\n",
    "        b = parse_coords(group[1])\n",
    "        prize = parse_coords(group[2], True)\n",
    "        part1 += solve(a, b, prize)\n",
    "        part2 += solve(a, b, (prize[0]+10000000000000, prize[1]+10000000000000))\n",
    "    return part1, part2\n",
    "\n",
    "day13()"
   ]
  },
  {
   "cell_type": "code",
   "execution_count": 52,
   "metadata": {},
   "outputs": [
    {
     "data": {
      "text/plain": [
       "(231852216, 8159)"
      ]
     },
     "execution_count": 52,
     "metadata": {},
     "output_type": "execute_result"
    }
   ],
   "source": [
    "def day14(wide, tall):\n",
    "    robots = data(14, lambda line: [int(x) for x in re.findall(r'p=(\\d+),(\\d+) v=(-?\\d+),(-?\\d+)', line)[0]])\n",
    "    \n",
    "    def get_quadrants(xs):\n",
    "        lr, tb = (wide-1)/2, (tall-1)/2\n",
    "        quadrants = Counter()\n",
    "        for y, x in xs:\n",
    "            if x < lr and y < tb:\n",
    "                quadrants[1] += 1\n",
    "            elif x < lr and y > tb:\n",
    "                quadrants[2] += 1\n",
    "            elif x > lr and y < tb:\n",
    "                quadrants[3] += 1\n",
    "            elif x > lr and y > tb:\n",
    "                quadrants[4] += 1\n",
    "        return quadrants\n",
    "\n",
    "    def run_robot(robot, n):\n",
    "        x, y, vx, vy = robot\n",
    "        fx, fy = (x+n*vx)%wide, (y+n*vy)%tall\n",
    "        return fy, fx\n",
    "\n",
    "    quadrants = get_quadrants([run_robot(robot, 100) for robot in robots])\n",
    "    part1 = math.prod((quadrants[x] for x in range(1, 5)))\n",
    "\n",
    "    def run_robots(n):\n",
    "        ps = [run_robot(robot, n) for robot in robots]\n",
    "        variance = np.var([p[0] for p in ps])+np.var([p[1] for p in ps])\n",
    "        return variance, n\n",
    "\n",
    "    _, n = min(run_robots(n) for n in range(wide*tall))\n",
    "    ps = [run_robot(robot, n) for robot in robots]\n",
    "    with open(f'outputs/{n}.txt', 'w+') as f:\n",
    "        np.savetxt(f, debug_array(np.full((tall, wide), 'O'), ps, False), fmt='%s')\n",
    "    return part1, n\n",
    "\n",
    "day14(101, 103)"
   ]
  },
  {
   "cell_type": "code",
   "execution_count": 53,
   "metadata": {},
   "outputs": [
    {
     "name": "stdout",
     "output_type": "stream",
     "text": [
      "['p=0,4 v=3,-3', 'p=6,3 v=-1,-3', 'p=10,3 v=-1,2', 'p=2,0 v=2,-1', 'p=0,0 v=1,3', 'p=3,0 v=-2,-2', 'p=7,6 v=-1,-3', 'p=3,0 v=-1,-2', 'p=9,3 v=2,3', 'p=7,3 v=-1,2', 'p=2,4 v=2,-3', 'p=9,5 v=-3,-3']\n"
     ]
    }
   ],
   "source": [
    "def day15():\n",
    "    print(data(0))\n",
    "day15()"
   ]
  }
 ],
 "metadata": {
  "kernelspec": {
   "display_name": ".venv",
   "language": "python",
   "name": "python3"
  },
  "language_info": {
   "codemirror_mode": {
    "name": "ipython",
    "version": 3
   },
   "file_extension": ".py",
   "mimetype": "text/x-python",
   "name": "python",
   "nbconvert_exporter": "python",
   "pygments_lexer": "ipython3",
   "version": "3.13.0"
  }
 },
 "nbformat": 4,
 "nbformat_minor": 2
}
