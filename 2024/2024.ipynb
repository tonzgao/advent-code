{
 "cells": [
  {
   "cell_type": "code",
   "execution_count": 50,
   "metadata": {},
   "outputs": [],
   "source": [
    "import numpy as np\n",
    "import math\n",
    "from typing import Callable, TypeVar\n",
    "from collections import Counter, deque, defaultdict\n",
    "import itertools\n",
    "from functools import cmp_to_key, cache\n",
    "import regex as re\n",
    "from intervaltree import Interval, IntervalTree\n",
    "from concurrent.futures import ThreadPoolExecutor\n",
    "from sortedcontainers import SortedDict\n",
    "import z3\n",
    "\n",
    "np.set_printoptions(edgeitems=30, linewidth=100000, \n",
    "    formatter=dict(float=lambda x: \"%.3g\" % x))\n",
    "\n",
    "T = TypeVar('T')\n",
    "\n",
    "def data(day: int, parser: Callable[[str], T] = str) -> list[T]:\n",
    "  with open(f\"./data/day{day}.txt\") as f:\n",
    "    return [parser(line.strip()) for line in f.readlines()]\n",
    "\n",
    "processors = {\n",
    "  'int_list': lambda x: [int(y) for y in x.split()],\n",
    "  'int_string': lambda x: [int(y) for y in x]\n",
    "}\n",
    "\n",
    "def search(start, get_neighbors, end_condition=lambda _, __: False, dfs=True, permutations=False):\n",
    "    q, visited = deque([(start, 0)]), {}\n",
    "    while q:\n",
    "        current, distance = q.popleft() if dfs else q.pop()\n",
    "        if end_condition(current, distance):\n",
    "            return visited, current\n",
    "        if current in visited and not permutations:\n",
    "            continue\n",
    "        for node in get_neighbors(current, distance):\n",
    "            q.append((node, distance+1))\n",
    "        visited[current] = distance\n",
    "    return visited, None\n",
    "\n",
    "def sum_series(start, stop):\n",
    "    n = (stop - start)\n",
    "    sum = start + stop\n",
    "    return n * sum // 2\n",
    "\n",
    "def debug_array(arr, coords, p=True):\n",
    "    arr = arr.copy()\n",
    "    for i in coords:\n",
    "        arr[*i] = 'X'\n",
    "    if p:\n",
    "        print(arr)\n",
    "    return arr\n",
    "\n",
    "def flatten(xss):\n",
    "    return [x for xs in xss for x in xs]\n",
    "\n",
    "def yx(n):\n",
    "    return int(n.imag), int(n.real)\n",
    "def icoord(y, x):\n",
    "    return x+1j*y"
   ]
  },
  {
   "cell_type": "code",
   "execution_count": 74,
   "metadata": {},
   "outputs": [
    {
     "data": {
      "text/plain": [
       "(1941353, 22539317)"
      ]
     },
     "execution_count": 74,
     "metadata": {},
     "output_type": "execute_result"
    }
   ],
   "source": [
    "\n",
    "def day1():\n",
    "    loc1, loc2 = zip(*data(1, processors['int_list']))\n",
    "    part1 = sum(abs(x[0]-x[1]) for x in zip(sorted(loc1), sorted(loc2)))\n",
    "    counts = Counter(loc2)\n",
    "    part2 = sum(x*counts[x] for x in loc1)\n",
    "    return part1, part2\n",
    "\n",
    "day1()"
   ]
  },
  {
   "cell_type": "code",
   "execution_count": 75,
   "metadata": {},
   "outputs": [
    {
     "data": {
      "text/plain": [
       "array([356, 413])"
      ]
     },
     "execution_count": 75,
     "metadata": {},
     "output_type": "execute_result"
    }
   ],
   "source": [
    "def day2():\n",
    "    def check_safe(report):\n",
    "        ascending = sorted(report)\n",
    "        diffs = np.diff(ascending)\n",
    "        return max(diffs) <= 3 and min(diffs) >= 1 and (\n",
    "            report == ascending or\n",
    "            report == list(reversed(ascending))\n",
    "        )\n",
    "\n",
    "    def check_safe_damp(report):\n",
    "        if check_safe(report):\n",
    "            return 1, 1\n",
    "        for damped in itertools.combinations(report, len(report)-1):\n",
    "            if check_safe(list(damped)):\n",
    "                return 0, 1\n",
    "        return 0, 0\n",
    "\n",
    "    reports = data(2, processors['int_list'])\n",
    "    safe = np.array((0,0))\n",
    "    for report in reports:\n",
    "        safe += check_safe_damp(report)\n",
    "    return safe\n",
    "\n",
    "day2()"
   ]
  },
  {
   "cell_type": "code",
   "execution_count": 76,
   "metadata": {},
   "outputs": [
    {
     "data": {
      "text/plain": [
       "(182780583, 90772405)"
      ]
     },
     "execution_count": 76,
     "metadata": {},
     "output_type": "execute_result"
    }
   ],
   "source": [
    "def day3():\n",
    "    def mul_strings(s):\n",
    "        x, y = s.split(',')\n",
    "        return int(x)*int(y)\n",
    "\n",
    "    instructions = ''.join(data(3))\n",
    "    matches = list(re.finditer(r'mul\\((\\d+,\\d+)\\)', instructions))\n",
    "    conds = list(re.finditer(r\"don't\\(\\).+?do\\(\\)\", instructions))\n",
    "    donts = IntervalTree([Interval(*cond.span()) for cond in conds])\n",
    "    result = sum([mul_strings(mul[1]) * (1 if not donts[mul.span()[0]] else 1j) for mul in matches])\n",
    "    return int(result.real+result.imag), int(result.real)\n",
    "\n",
    "day3()"
   ]
  },
  {
   "cell_type": "code",
   "execution_count": 125,
   "metadata": {},
   "outputs": [
    {
     "data": {
      "text/plain": [
       "(2599, 1948)"
      ]
     },
     "execution_count": 125,
     "metadata": {},
     "output_type": "execute_result"
    }
   ],
   "source": [
    "def day4():\n",
    "    grid = np.array(data(4, lambda x: np.array(list(x))))\n",
    "    ymax, xmax = grid.shape\n",
    "\n",
    "    def find_target_occurences(target):\n",
    "        occurences = set()\n",
    "\n",
    "        def get_neighbors(current, distance):\n",
    "            row, col = yx(current)\n",
    "            target_letter = target[distance]\n",
    "            if grid[row, col] != target_letter:\n",
    "                return\n",
    "            if distance == len(target)-1:\n",
    "                total.add(current)\n",
    "                return\n",
    "            for v in [1, -1, 1j, -1j, 1+1j, 1-1j, -1+1j, -1-1j]:\n",
    "                new = current + v\n",
    "                y, x = yx(new)\n",
    "                if not (y >= 0 and x >= 0 and y < ymax and x < xmax):\n",
    "                    continue\n",
    "                yield new\n",
    "        \n",
    "        for j in range(ymax):\n",
    "            for i in range(xmax):\n",
    "                total = set()\n",
    "                coordinate = i+1j*j\n",
    "                search(coordinate, get_neighbors)\n",
    "                for end in total:\n",
    "                    occurences.add((coordinate, end))\n",
    "        return occurences\n",
    "\n",
    "    def find_diags(hits, l):\n",
    "        centers = Counter()\n",
    "        for start, end in hits:\n",
    "            distance = end-start\n",
    "            if abs(distance.real) == l and abs(distance.imag) == l:\n",
    "                center = start + distance/2\n",
    "                centers[center] += 1\n",
    "        return centers\n",
    "    \n",
    "    def find_straights(hits, target):\n",
    "        rev = target[::-1]\n",
    "        l = len(target)\n",
    "        td = l-1\n",
    "        for start, end in hits:\n",
    "            j, i = yx(start)\n",
    "            d = end-start\n",
    "            if (\n",
    "                (d.real == td and not d.imag and ''.join(grid[j, i:i+l]) == target)\n",
    "                or (d.real == -td and not d.imag and ''.join(grid[j, i-td:i+1]) == rev)\n",
    "                or (not d.real and d.imag == td and ''.join(grid[j:j+l, i]) == target)\n",
    "                or (not d.real and d.imag == -td and ''.join(grid[j-td:j+1, i]) == rev)\n",
    "            ):\n",
    "                yield start\n",
    "\n",
    "    target = 'XMAS'\n",
    "    matches = find_target_occurences(target)\n",
    "    part1 = sum(find_diags(matches, len(target)-1).values()) + len(list(find_straights(matches, target)))\n",
    "\n",
    "    centers = find_diags(find_target_occurences(target[1:]), len(target)-2)\n",
    "    part2 = sum([1 if centers[x] == 2 else 0 for x in centers])\n",
    "\n",
    "    return (part1, part2)\n",
    "\n",
    "day4()"
   ]
  },
  {
   "cell_type": "code",
   "execution_count": 78,
   "metadata": {},
   "outputs": [
    {
     "data": {
      "text/plain": [
       "(6041, 4884)"
      ]
     },
     "execution_count": 78,
     "metadata": {},
     "output_type": "execute_result"
    }
   ],
   "source": [
    "def day5():\n",
    "    text = data(5)\n",
    "    split = text.index('')\n",
    "    lists = [tuple(map(int, x.split(','))) for x in text[split+1:]]\n",
    "\n",
    "    parents = defaultdict(lambda: set())\n",
    "    for x in text[:split]:\n",
    "        parent, child = tuple(map(int, x.split('|')))\n",
    "        parents[child].add(parent)\n",
    "\n",
    "    def check_illegal(nums):\n",
    "        illegal = set()\n",
    "        for num in nums:\n",
    "            if num in illegal:\n",
    "                return True\n",
    "            illegal.update(parents[num])\n",
    "\n",
    "    def compare(a, b):\n",
    "        if a in parents[b]:\n",
    "            return 1\n",
    "        elif b in parents[a]:\n",
    "            return -1\n",
    "        return -1 if a < b else 1\n",
    "\n",
    "    part1, part2 = 0, 0\n",
    "    for nums in lists:\n",
    "        if not check_illegal(nums):\n",
    "            part1 += nums[len(nums)//2]\n",
    "        else:\n",
    "            part2 += sorted(nums, key=cmp_to_key(compare))[len(nums)//2]\n",
    "            \n",
    "    return part1, part2\n",
    "\n",
    "day5()"
   ]
  },
  {
   "cell_type": "code",
   "execution_count": 73,
   "metadata": {},
   "outputs": [
    {
     "data": {
      "text/plain": [
       "(41, 6)"
      ]
     },
     "execution_count": 73,
     "metadata": {},
     "output_type": "execute_result"
    }
   ],
   "source": [
    "def day6():\n",
    "    grid = np.array(data(0, list))\n",
    "    ymax, xmax = grid.shape\n",
    "    start = np.argwhere(grid == '^')[0]\n",
    "    grid[*start] = '.'\n",
    "    turns = [(1, 0), (0, 1), (-1, 0), (0, -1)]\n",
    "    \n",
    "    def run_guard(obstacle=(-1, -1)):\n",
    "        directions, v = itertools.cycle(turns), turns[-1]\n",
    "        y, x = int(start[0])-v[1], int(start[1])-v[0]\n",
    "        visited, states = set(), set()\n",
    "        while True:\n",
    "            ny, nx = y+v[1], x + v[0]\n",
    "            if (ny, nx, v) in states:\n",
    "                return True, states\n",
    "            elif (nx < 0 or ny < 0 or nx >= xmax or ny >= ymax):\n",
    "                return False, visited\n",
    "            elif grid[ny, nx] != '.' or (ny, nx) == obstacle:\n",
    "                v = next(directions)\n",
    "                continue\n",
    "            y, x = ny, nx\n",
    "            visited.add((y, x))\n",
    "            states.add((y, x, v))\n",
    "\n",
    "    _, original = run_guard()\n",
    "    part1 = len(original)\n",
    "    with ThreadPoolExecutor() as tpe:\n",
    "        part2 = sum([r[0] for r in tpe.map(lambda x: run_guard(x), original)])\n",
    "    return part1, part2\n",
    "\n",
    "day6()"
   ]
  },
  {
   "cell_type": "code",
   "execution_count": 11,
   "metadata": {},
   "outputs": [
    {
     "name": "stdout",
     "output_type": "stream",
     "text": [
      "11387\n"
     ]
    }
   ],
   "source": [
    "def day7():\n",
    "    equations = data(0, lambda x: [int(n) for n in re.split(r' |: ', x)])\n",
    "    \n",
    "    def check(n, acc, arr):\n",
    "        if not arr:\n",
    "            return n == acc\n",
    "        elif acc > n:\n",
    "            return False\n",
    "        x, tail = arr[0], arr[1:]\n",
    "        return (check(n, int(f'{acc}{x}'), tail) or\n",
    "                check(n, acc*x, tail) or\n",
    "                check(n, acc+x, tail))\n",
    "\n",
    "    result = 0\n",
    "    for eq in equations:\n",
    "        if check(eq[0], eq[1], tuple(eq[2:])):\n",
    "            result += eq[0]\n",
    "    print(result)\n",
    "\n",
    "\n",
    "day7()"
   ]
  },
  {
   "cell_type": "code",
   "execution_count": 50,
   "metadata": {},
   "outputs": [
    {
     "data": {
      "text/plain": [
       "(7710205485870, 20928985450275)"
      ]
     },
     "execution_count": 50,
     "metadata": {},
     "output_type": "execute_result"
    }
   ],
   "source": [
    "def day7():\n",
    "    equations, flag = data(7, lambda x: [int(n) for n in re.split(r' |: ', x)]), False\n",
    "    def check(n, acc, arr):\n",
    "        if not arr:\n",
    "            return n if n == acc else 0\n",
    "        elif acc > n:\n",
    "            return\n",
    "        x, tail = arr[0], arr[1:]\n",
    "        return ((flag and check(n, int(f'{acc}{x}'), tail)) or\n",
    "                check(n, acc*x, tail) or\n",
    "                check(n, acc+x, tail))\n",
    "    part1, flag = sum([check(eq[0], eq[1], tuple(eq[2:])) for eq in equations]), True\n",
    "    with ThreadPoolExecutor() as tpe:\n",
    "        part2 = sum(tpe.map(lambda eq: check(eq[0], eq[1], tuple(eq[2:])), equations))\n",
    "    return part1, part2\n",
    "\n",
    "day7()"
   ]
  },
  {
   "cell_type": "code",
   "execution_count": 72,
   "metadata": {},
   "outputs": [
    {
     "data": {
      "text/plain": [
       "(261, 898)"
      ]
     },
     "execution_count": 72,
     "metadata": {},
     "output_type": "execute_result"
    }
   ],
   "source": [
    "def day8():\n",
    "    grid = np.array(data(8, list))\n",
    "    ymax, xmax = grid.shape\n",
    "    def is_inside(y, x):\n",
    "        return y >= 0 and y < ymax and x >= 0 and x < xmax\n",
    "    def get_nodes(start, diff, sign=1):\n",
    "        node = start.copy()\n",
    "        while is_inside(*node):\n",
    "            yield tuple(node)\n",
    "            node -= sign*diff\n",
    "\n",
    "    part1, part2 = set(), set()\n",
    "    points = {i:np.argwhere(grid==i) for i in np.unique(grid) if i != '.'}\n",
    "    for antennae in points:\n",
    "        combos = itertools.combinations(points[antennae], 2)\n",
    "        for combo in combos:\n",
    "            diff = combo[1]-combo[0]\n",
    "            for y, x in (combo[0]-diff, combo[1]+diff):\n",
    "                if is_inside(y, x):\n",
    "                    part1.add((y, x))\n",
    "            for (y, x) in [*get_nodes(combo[0], diff), *get_nodes(combo[1], diff, -1)]:\n",
    "                part2.add((y, x))\n",
    "\n",
    "    return len(part1), len(part2)\n",
    "\n",
    "day8()"
   ]
  },
  {
   "cell_type": "code",
   "execution_count": 87,
   "metadata": {},
   "outputs": [
    {
     "data": {
      "text/plain": [
       "(6349606724455, 6376648986651)"
      ]
     },
     "execution_count": 87,
     "metadata": {},
     "output_type": "execute_result"
    }
   ],
   "source": [
    "def day9():\n",
    "    disk_map = data(9)[0]\n",
    "    files = [int(x) for x in disk_map[0::2]]\n",
    "    buffers = [int(x) for x in disk_map[1::2]]\n",
    "\n",
    "    def part1(buffers):\n",
    "        p = 0 # Current pointer location\n",
    "        buffer = 0 # Current buffer space available\n",
    "        fid = 0 # Current file number from left to right\n",
    "        checksum = 0 # Result\n",
    "        for n in range(len(files)-1, -1, -1):\n",
    "            req = files[n]\n",
    "            while req > buffer:\n",
    "                # fill buffer with rightmost file\n",
    "                checksum += sum_series(p, p+buffer)*n\n",
    "                p += buffer\n",
    "                req -= buffer\n",
    "                # add current file to checksum\n",
    "                fsize = files[fid]\n",
    "                checksum += sum_series(p, p+fsize)*fid\n",
    "                p += fsize\n",
    "                fid += 1\n",
    "                if fid >= n:\n",
    "                    checksum += sum_series(p, p+req)*fid\n",
    "                    return checksum\n",
    "                # get next buffer\n",
    "                buffer = next(buffers)\n",
    "            checksum += sum_series(p, p+req)*n\n",
    "            p += req\n",
    "            buffer -= req\n",
    "\n",
    "    def part2(buffers):\n",
    "        p = 0\n",
    "        starts = {}\n",
    "        slots = SortedDict()\n",
    "        for i, v in enumerate(files):\n",
    "            starts[i] = p\n",
    "            p += v\n",
    "            try:\n",
    "                buffer = next(buffers)\n",
    "                if buffer:\n",
    "                    slots[p] = buffer\n",
    "                    p += buffer\n",
    "            except StopIteration:\n",
    "                continue\n",
    "\n",
    "        def find_slot(size): # O(n)\n",
    "            for index, value in slots.items():\n",
    "                if value >= size:\n",
    "                    return index\n",
    "            return -1\n",
    "\n",
    "        checksum = 0\n",
    "        for n in range(len(files)-1, -1, -1):\n",
    "            req = files[n]\n",
    "            p = find_slot(req)\n",
    "            if p != -1 and p < starts[n]:\n",
    "                buffer = slots[p]\n",
    "                del slots[p]\n",
    "                if (rem := buffer-req):\n",
    "                    slots[p+req] = rem\n",
    "            else:\n",
    "                p = starts[n]\n",
    "            checksum += sum_series(p, p+req)*n\n",
    "        return checksum\n",
    "    \n",
    "    return part1(iter(buffers)), part2(iter(buffers))\n",
    "\n",
    "day9()"
   ]
  },
  {
   "cell_type": "code",
   "execution_count": 126,
   "metadata": {},
   "outputs": [
    {
     "data": {
      "text/plain": [
       "(737, 1619)"
      ]
     },
     "execution_count": 126,
     "metadata": {},
     "output_type": "execute_result"
    }
   ],
   "source": [
    "def day10():\n",
    "    grid = np.array(data(10, processors['int_string']))\n",
    "    ymax, xmax = grid.shape\n",
    "    starts = np.argwhere(grid==0)\n",
    "\n",
    "    def get_neighbors(current, distance):\n",
    "        for v in (1, -1, 1j, -1j):\n",
    "            new = current + v\n",
    "            y, x = yx(new)\n",
    "            if not (y >= 0 and x >= 0 and y < ymax and x < xmax):\n",
    "                continue\n",
    "            if grid[y, x] == distance + 1:\n",
    "                yield new\n",
    "\n",
    "    def trail_end(current, distance):\n",
    "        if distance == 9:\n",
    "            trailheads.add(current)\n",
    "\n",
    "    def rating_end(current, distance):\n",
    "        if distance == 9:\n",
    "            ratings.append(current)\n",
    "\n",
    "    part1, part2 = 0, 0\n",
    "    for y, x in starts:\n",
    "        trailheads, ratings = set(), []\n",
    "        search(x+1j*y, get_neighbors, trail_end)\n",
    "        search(x+1j*y, get_neighbors, rating_end, permutations=True)\n",
    "        part1 += len(trailheads)\n",
    "        part2 += len(ratings)\n",
    "    return part1, part2\n",
    "\n",
    "day10()"
   ]
  },
  {
   "cell_type": "code",
   "execution_count": 7,
   "metadata": {},
   "outputs": [
    {
     "data": {
      "text/plain": [
       "(186424, 219838428124832)"
      ]
     },
     "execution_count": 7,
     "metadata": {},
     "output_type": "execute_result"
    }
   ],
   "source": [
    "def day11():\n",
    "    stones = data(11, processors['int_list'])[0]\n",
    "\n",
    "    def next_stones(s):\n",
    "        if not s:\n",
    "            return (1, )\n",
    "        ss = str(s)\n",
    "        half, rem = divmod(len(ss), 2)\n",
    "        if not rem:\n",
    "            return int(ss[:half + rem]), int(ss[half + rem:])\n",
    "        return (s*2024, )\n",
    "    \n",
    "    @cache\n",
    "    def run_stones(s, i):\n",
    "        if not i:\n",
    "            return [s]\n",
    "        result = flatten([run_stones(stone, i-1) for stone in next_stones(s)])\n",
    "        return result\n",
    "\n",
    "    @cache\n",
    "    def stone_count(s, i):\n",
    "        if not i:\n",
    "            return 1\n",
    "        stones = run_stones(s, 1)\n",
    "        result = 0\n",
    "        for stone in stones:\n",
    "            result += stone_count(stone, i-1)\n",
    "        return result\n",
    "\n",
    "    part1 = sum(stone_count(s, 25) for s in stones)\n",
    "    part2 = sum(stone_count(s, 75) for s in stones)\n",
    "    return part1, part2\n",
    "\n",
    "day11()"
   ]
  },
  {
   "cell_type": "code",
   "execution_count": 129,
   "metadata": {},
   "outputs": [
    {
     "data": {
      "text/plain": [
       "(1473276, 901100)"
      ]
     },
     "execution_count": 129,
     "metadata": {},
     "output_type": "execute_result"
    }
   ],
   "source": [
    "def day12():\n",
    "    grid = np.array(data(12, list))\n",
    "    ymax, xmax = grid.shape\n",
    "    \n",
    "    def corner_count(n, y, x):\n",
    "        size = len(n)\n",
    "        if not size:\n",
    "            return 4\n",
    "        elif size == 1:\n",
    "            return 2\n",
    "        elif size == 2: \n",
    "            b, a = yx(n[0])\n",
    "            j, i = yx(n[1])\n",
    "            if j != b and i != a: # L shape\n",
    "                return 1 if grid[j, a] == grid[b, i] else 2\n",
    "        else:\n",
    "            ys, xs = list(zip(*[yx(node) for node in n])) # Check diagonals\n",
    "            bot, top, left, right = min(ys), max(ys), min(xs), max(xs)\n",
    "            return len([i for i in [(bot, left), (bot, right), (top, left), (top, right)] if grid[i] != grid[y, x]])\n",
    "        return 0\n",
    "\n",
    "    def get_neighbors(current, _):\n",
    "        target = yx(current)\n",
    "        neighbors = []\n",
    "        for v in (1, -1, 1j, -1j):\n",
    "            new = current + v\n",
    "            y, x = yx(new)\n",
    "            if not (y >= 0 and x >= 0 and y < ymax and x < xmax):\n",
    "                continue\n",
    "            if grid[y, x] == grid[*target]:\n",
    "                neighbors.append(new)\n",
    "                perimeters[current] -= 1\n",
    "        corners[current] = corner_count(neighbors, *target)\n",
    "        return neighbors\n",
    "\n",
    "    part1, part2 = 0, 0\n",
    "    visited = set()\n",
    "    perimeters, corners = defaultdict(lambda: 4), {}\n",
    "    for j in range(ymax):\n",
    "        for i in range(xmax):\n",
    "            coordinate = i + 1j*j\n",
    "            if coordinate in visited:\n",
    "                continue\n",
    "            region, _ = search(coordinate, get_neighbors)\n",
    "            visited.update(region)\n",
    "            part1 += len(region)*sum(perimeters[r] for r in region.keys())\n",
    "            part2 += len(region)*sum(corners[r] for r in region.keys())\n",
    "    return part1, part2\n",
    "\n",
    "day12()"
   ]
  },
  {
   "cell_type": "code",
   "execution_count": 35,
   "metadata": {},
   "outputs": [
    {
     "data": {
      "text/plain": [
       "(36758, 76358113886726)"
      ]
     },
     "execution_count": 35,
     "metadata": {},
     "output_type": "execute_result"
    }
   ],
   "source": [
    "def day13():\n",
    "    lines = data(13)\n",
    "    groups = [lines[i:i+3] for i in range(0, len(lines), 4)]\n",
    "\n",
    "    def parse_coords(text, prize=False):\n",
    "        r = r'Prize: X=(\\d+), Y=(\\d+)' if prize else r'Button .: X\\+(\\d+), Y\\+(\\d+)'\n",
    "        matches = re.findall(r, text)[0]\n",
    "        return int(matches[0]), int(matches[1])\n",
    "\n",
    "    def solve(a, b, prize):\n",
    "        solver = z3.Optimize()\n",
    "        x = z3.Int('x')\n",
    "        y = z3.Int('y')\n",
    "        solver.minimize(3*x+y)\n",
    "        solver.add(a[0]*x + b[0]*y == prize[0])\n",
    "        solver.add(a[1]*x + b[1]*y == prize[1])\n",
    "        \n",
    "        solver.check()\n",
    "        result = solver.model()\n",
    "        return 3*result[x].as_long() + result[y].as_long() if result else 0\n",
    "\n",
    "    part1, part2 = 0, 0\n",
    "    for group in groups:    \n",
    "        a = parse_coords(group[0])\n",
    "        b = parse_coords(group[1])\n",
    "        prize = parse_coords(group[2], True)\n",
    "        part1 += solve(a, b, prize)\n",
    "        part2 += solve(a, b, (prize[0]+10000000000000, prize[1]+10000000000000))\n",
    "    return part1, part2\n",
    "\n",
    "day13()"
   ]
  },
  {
   "cell_type": "code",
   "execution_count": 14,
   "metadata": {},
   "outputs": [
    {
     "data": {
      "text/plain": [
       "5.5"
      ]
     },
     "execution_count": 14,
     "metadata": {},
     "output_type": "execute_result"
    }
   ],
   "source": [
    "11/2"
   ]
  },
  {
   "cell_type": "code",
   "execution_count": 20,
   "metadata": {},
   "outputs": [
    {
     "name": "stdout",
     "output_type": "stream",
     "text": [
      "[('77', '59', '2', '-23'), ('77', '53', '-90', '9'), ('85', '100', '-90', '-77'), ('22', '57', '82', '-94'), ('84', '72', '-39', '60'), ('57', '76', '14', '-94'), ('2', '92', '-52', '-63'), ('38', '73', '42', '-39'), ('4', '93', '-93', '41'), ('79', '56', '27', '-13'), ('20', '5', '-10', '-68'), ('51', '94', '38', '-2'), ('15', '5', '-93', '-68'), ('4', '49', '56', '6'), ('37', '78', '1', '63'), ('46', '60', '-18', '70'), ('19', '47', '-96', '54'), ('79', '83', '21', '-26'), ('77', '59', '82', '-86'), ('27', '40', '-51', '24'), ('84', '68', '-88', '-72'), ('59', '60', '-22', '18'), ('66', '67', '-88', '24'), ('64', '101', '-67', '86'), ('13', '44', '-53', '-68'), ('44', '53', '-80', '34'), ('31', '71', '27', '-25'), ('98', '71', '90', '78'), ('25', '60', '-19', '-47'), ('64', '59', '-56', '-16'), ('67', '23', '-63', '72'), ('85', '36', '-99', '-5'), ('89', '64', '-81', '-13'), ('71', '33', '-7', '-18'), ('30', '75', '27', '74'), ('51', '86', '42', '50'), ('35', '3', '-41', '17'), ('67', '7', '52', '44'), ('71', '6', '-40', '21'), ('49', '51', '-18', '-32'), ('77', '22', '-95', '86'), ('72', '16', '-49', '63'), ('96', '11', '-38', '7'), ('26', '44', '82', '-4'), ('36', '5', '42', '24'), ('20', '13', '45', '30'), ('47', '23', '8', '-87'), ('24', '99', '13', '-77'), ('2', '66', '58', '70'), ('61', '86', '99', '81'), ('42', '67', '20', '80'), ('69', '80', '1', '-15'), ('1', '10', '85', '-55'), ('68', '95', '-16', '16'), ('87', '16', '2', '-17'), ('71', '27', '-73', '14'), ('36', '57', '-82', '83'), ('0', '6', '21', '68'), ('41', '67', '-41', '-99'), ('52', '60', '-52', '-47'), ('11', '32', '-93', '34'), ('31', '27', '64', '53'), ('52', '84', '-73', '36'), ('2', '85', '-62', '46'), ('40', '54', '-97', '-61'), ('59', '58', '-22', '-70'), ('64', '23', '-87', '-15'), ('42', '34', '-36', '-44'), ('43', '42', '37', '82'), ('40', '75', '-13', '98'), ('65', '18', '38', '-17'), ('53', '51', '-17', '-70'), ('62', '5', '-91', '7'), ('75', '28', '-19', '-43'), ('87', '101', '-16', '-2'), ('99', '56', '58', '84'), ('69', '101', '89', '-77'), ('5', '12', '91', '-97'), ('34', '35', '-14', '62'), ('52', '87', '85', '-33'), ('18', '13', '86', '-40'), ('51', '37', '55', '61'), ('57', '94', '-13', '-44'), ('87', '100', '-3', '-13'), ('22', '2', '25', '38'), ('8', '97', '-43', '30'), ('55', '27', '14', '-59'), ('33', '13', '68', '-32'), ('97', '55', '-18', '-14'), ('33', '60', '45', '60'), ('88', '29', '-99', '-31'), ('84', '93', '66', '66'), ('28', '83', '31', '27'), ('32', '52', '-69', '-14'), ('100', '93', '80', '92'), ('72', '87', '44', '-32'), ('74', '61', '11', '-52'), ('39', '67', '-14', '37'), ('67', '92', '-17', '-91'), ('26', '26', '38', '-55'), ('50', '15', '19', '36'), ('52', '57', '46', '50'), ('78', '19', '48', '-78'), ('56', '42', '-68', '15'), ('43', '17', '14', '48'), ('5', '17', '-94', '95'), ('56', '13', '-49', '7'), ('41', '66', '92', '-1'), ('9', '82', '44', '-10'), ('92', '33', '-16', '66'), ('55', '92', '-45', '50'), ('72', '76', '-68', '-85'), ('40', '69', '4', '-85'), ('29', '84', '54', '8'), ('53', '42', '-27', '-4'), ('32', '80', '-44', '66'), ('87', '3', '53', '-86'), ('0', '48', '-24', '14'), ('76', '84', '25', '55'), ('27', '17', '-14', '72'), ('38', '68', '-82', '54'), ('60', '91', '47', '12'), ('74', '17', '-90', '-73'), ('87', '79', '75', '97'), ('73', '70', '-33', '76'), ('21', '83', '66', '17'), ('14', '29', '12', '29'), ('61', '38', '-40', '15'), ('0', '59', '-86', '3'), ('27', '19', '27', '-13'), ('14', '37', '4', '14'), ('97', '17', '2', '-59'), ('66', '80', '-99', '85'), ('1', '28', '49', '95'), ('28', '99', '4', '7'), ('81', '34', '11', '1'), ('8', '63', '67', '33'), ('77', '20', '-79', '-34'), ('76', '92', '66', '-40'), ('1', '54', '3', '-56'), ('15', '66', '73', '-21'), ('86', '45', '33', '-95'), ('94', '35', '59', '-49'), ('22', '9', '-10', '-3'), ('34', '69', '18', '14'), ('99', '45', '12', '89'), ('86', '34', '94', '94'), ('87', '16', '91', '70'), ('55', '24', '-48', '-21'), ('75', '44', '-35', '66'), ('85', '77', '66', '-80'), ('30', '72', '60', '98'), ('3', '30', '-86', '-18'), ('24', '60', '-61', '-10'), ('34', '88', '41', '-20'), ('0', '54', '-66', '28'), ('85', '69', '69', '-5'), ('52', '24', '-60', '3'), ('90', '95', '22', '-81'), ('9', '90', '-75', '59'), ('78', '78', '-76', '-90'), ('66', '61', '-95', '32'), ('24', '70', '-56', '-71'), ('89', '48', '-80', '-98'), ('74', '7', '-61', '77'), ('51', '66', '-50', '-1'), ('90', '37', '-58', '20'), ('46', '49', '5', '98'), ('95', '0', '57', '-58'), ('44', '6', '79', '-31'), ('41', '53', '-45', '-2'), ('9', '23', '-6', '-27'), ('35', '69', '-92', '-99'), ('59', '39', '-30', '-76'), ('23', '36', '-44', '-82'), ('61', '39', '-39', '-68'), ('3', '3', '-51', '40'), ('23', '79', '-19', '-11'), ('49', '83', '47', '40'), ('84', '64', '-39', '56'), ('57', '91', '19', '17'), ('60', '43', '-73', '73'), ('54', '16', '51', '72'), ('54', '10', '-92', '-99'), ('48', '62', '42', '84'), ('45', '42', '42', '-18'), ('72', '99', '86', '48'), ('39', '76', '-9', '-57'), ('83', '61', '-85', '65'), ('67', '80', '98', '-90'), ('28', '27', '-70', '-37'), ('68', '9', '-40', '34'), ('39', '5', '78', '-40'), ('10', '90', '43', '-86'), ('49', '29', '-8', '39'), ('79', '54', '-8', '-42'), ('79', '71', '-90', '69'), ('100', '50', '35', '28'), ('48', '84', '14', '-85'), ('58', '12', '98', '-26'), ('48', '26', '35', '58'), ('40', '11', '78', '-50'), ('82', '51', '71', '-14'), ('52', '4', '-1', '-77'), ('47', '102', '14', '-68'), ('16', '46', '-47', '-9'), ('14', '63', '95', '9'), ('83', '39', '-34', '-88'), ('2', '51', '-95', '77'), ('57', '20', '-9', '25'), ('87', '1', '90', '-11'), ('55', '40', '-95', '-83'), ('96', '60', '-2', '-9'), ('86', '12', '58', '70'), ('54', '57', '33', '37'), ('16', '88', '-91', '-83'), ('56', '13', '39', '-38'), ('70', '21', '84', '11'), ('4', '17', '90', '-17'), ('45', '18', '-50', '-50'), ('77', '7', '-63', '-88'), ('2', '59', '-54', '-59'), ('62', '81', '-22', '8'), ('72', '55', '75', '-47'), ('62', '55', '32', '27'), ('57', '56', '-77', '-89'), ('99', '61', '-54', '65'), ('73', '8', '-81', '-12'), ('12', '96', '-55', '15'), ('44', '41', '8', '30'), ('96', '53', '35', '19'), ('26', '65', '64', '-38'), ('14', '85', '15', '45'), ('98', '3', '-2', '35'), ('3', '91', '-56', '-7'), ('48', '6', '-18', '-44'), ('60', '98', '33', '21'), ('43', '45', '-28', '-60'), ('38', '71', '-46', '13'), ('71', '19', '-86', '-45'), ('99', '48', '31', '61'), ('58', '29', '52', '-31'), ('65', '94', '52', '-12'), ('22', '22', '78', '-78'), ('98', '62', '83', '-11'), ('76', '74', '-72', '93'), ('19', '82', '-39', '58'), ('72', '81', '-9', '41'), ('85', '92', '-62', '17'), ('10', '4', '5', '-61'), ('70', '49', '-40', '79'), ('4', '21', '81', '-31'), ('99', '8', '67', '44'), ('85', '34', '-34', '-19'), ('1', '31', '19', '-19'), ('71', '101', '-12', '-77'), ('15', '81', '-24', '-90'), ('83', '79', '-17', '-52'), ('48', '91', '97', '-11'), ('51', '57', '-18', '-5'), ('34', '25', '-92', '25'), ('50', '8', '-96', '-96'), ('71', '5', '94', '86'), ('16', '49', '25', '-88'), ('45', '2', '-37', '39'), ('43', '23', '-79', '67'), ('36', '41', '-73', '70'), ('42', '45', '-26', '-22'), ('29', '100', '4', '-55'), ('60', '98', '-40', '-27'), ('57', '21', '-7', '-58'), ('96', '22', '21', '-60'), ('36', '97', '-43', '-1'), ('1', '94', '-94', '91'), ('45', '60', '-78', '37'), ('27', '6', '85', '-51'), ('48', '12', '64', '71'), ('89', '75', '-81', '8'), ('76', '51', '-21', '14'), ('71', '13', '20', '-13'), ('90', '9', '43', '-31'), ('33', '4', '-69', '31'), ('54', '65', '-31', '84'), ('61', '87', '56', '-67'), ('34', '42', '-92', '61'), ('2', '5', '-43', '58'), ('44', '2', '55', '-63'), ('66', '50', '-89', '76'), ('24', '77', '-95', '-71'), ('15', '11', '97', '-88'), ('95', '58', '6', '14'), ('70', '72', '-8', '-57'), ('30', '84', '68', '44'), ('8', '67', '-84', '-19'), ('54', '44', '-59', '-91'), ('69', '42', '-8', '-93'), ('40', '27', '-18', '-13'), ('17', '38', '-20', '-93'), ('79', '37', '66', '-51'), ('77', '10', '52', '48'), ('18', '77', '85', '71'), ('45', '2', '48', '15'), ('93', '98', '26', '53'), ('97', '57', '44', '52'), ('91', '80', '94', '83'), ('71', '54', '-5', '91'), ('32', '33', '87', '76'), ('21', '59', '31', '56'), ('76', '78', '-30', '-66'), ('39', '45', '-87', '90'), ('46', '84', '-50', '-76'), ('65', '102', '-77', '-30'), ('5', '46', '-75', '-84'), ('5', '33', '-94', '6'), ('6', '50', '-51', '-94'), ('74', '26', '-58', '-27'), ('29', '62', '26', '-32'), ('18', '89', '87', '-63'), ('66', '31', '-94', '46'), ('23', '27', '-42', '67'), ('47', '36', '-87', '-88'), ('11', '92', '-75', '-76'), ('9', '51', '-1', '19'), ('52', '0', '28', '-35'), ('68', '72', '-63', '10'), ('41', '46', '-32', '75'), ('99', '42', '99', '94'), ('98', '29', '3', '45'), ('61', '69', '-45', '-52'), ('50', '66', '66', '8'), ('3', '41', '40', '71'), ('83', '45', '-85', '-23'), ('0', '34', '3', '-93'), ('54', '49', '88', '-23'), ('65', '50', '57', '-38'), ('37', '34', '38', '-86'), ('100', '77', '13', '-23'), ('80', '39', '-13', '32'), ('31', '102', '-1', '16'), ('62', '64', '15', '9'), ('48', '13', '-73', '-87'), ('69', '19', '-95', '16'), ('50', '89', '75', '-85'), ('45', '33', '-96', '-37'), ('13', '75', '77', '60'), ('17', '43', '91', '-41'), ('17', '99', '45', '-86'), ('68', '20', '40', '66'), ('47', '11', '-37', '-12'), ('64', '85', '56', '2'), ('46', '30', '92', '43'), ('84', '57', '-99', '-14'), ('55', '18', '46', '-46'), ('42', '87', '64', '-34'), ('94', '96', '57', '16'), ('20', '14', '-24', '2'), ('52', '44', '33', '-9'), ('4', '95', '7', '-76'), ('99', '25', '-74', '87'), ('78', '31', '95', '-69'), ('79', '21', '-55', '32'), ('20', '25', '68', '15'), ('77', '102', '2', '-82'), ('45', '29', '-91', '-31'), ('10', '55', '19', '55'), ('74', '0', '75', '-92'), ('38', '64', '-23', '70'), ('10', '99', '58', '-65'), ('8', '73', '97', '41'), ('43', '26', '32', '66'), ('73', '96', '20', '-91'), ('30', '27', '-81', '77'), ('13', '0', '-38', '-82'), ('18', '37', '-42', '15'), ('57', '40', '19', '43'), ('25', '68', '82', '32'), ('10', '2', '-80', '-59'), ('0', '85', '12', '-86'), ('60', '18', '68', '21'), ('39', '86', '-69', '-53'), ('98', '0', '26', '-35'), ('58', '17', '1', '-69'), ('38', '44', '-65', '-86'), ('24', '28', '-47', '-45'), ('20', '27', '9', '-23'), ('0', '65', '77', '-15'), ('95', '71', '94', '78'), ('68', '77', '93', '55'), ('77', '3', '-42', '17'), ('94', '4', '53', '68'), ('97', '28', '-29', '-9'), ('54', '84', '50', '67'), ('81', '70', '21', '-52'), ('68', '10', '46', '99'), ('29', '34', '-88', '-64'), ('79', '77', '80', '-6'), ('54', '66', '-13', '-52'), ('67', '50', '7', '60'), ('20', '1', '32', '-96'), ('29', '4', '-83', '49'), ('70', '35', '70', '-13'), ('59', '40', '-22', '80'), ('73', '47', '-3', '66'), ('88', '13', '85', '-36'), ('21', '80', '55', '64'), ('37', '28', '-32', '-97'), ('88', '0', '98', '73'), ('68', '59', '29', '-14'), ('90', '87', '62', '31'), ('76', '13', '11', '-31'), ('19', '23', '44', '97'), ('25', '46', '77', '-66'), ('95', '41', '70', '-63'), ('4', '11', '35', '-54'), ('83', '30', '-23', '-31'), ('0', '26', '-97', '53'), ('29', '96', '73', '21'), ('5', '51', '81', '28'), ('85', '41', '-62', '-37'), ('60', '22', '-45', '-13'), ('96', '27', '81', '80'), ('46', '37', '-73', '71'), ('46', '30', '65', '19'), ('79', '98', '-12', '-63'), ('99', '33', '-95', '-45'), ('77', '47', '-44', '-27'), ('48', '97', '-18', '-44'), ('77', '78', '-2', '11'), ('87', '52', '-44', '5'), ('4', '68', '-15', '23'), ('12', '47', '-79', '5'), ('5', '58', '26', '-61'), ('35', '30', '-84', '17'), ('45', '73', '19', '-33'), ('10', '102', '-97', '-49'), ('70', '67', '75', '9'), ('42', '34', '9', '-41'), ('12', '37', '75', '39'), ('1', '5', '-66', '96'), ('78', '60', '-48', '-5'), ('3', '81', '40', '-15'), ('64', '51', '20', '-23'), ('19', '27', '91', '44'), ('66', '4', '43', '40'), ('54', '20', '43', '-17'), ('19', '51', '54', '19'), ('97', '70', '-15', '-47'), ('63', '91', '-6', '-43'), ('72', '50', '-72', '14'), ('48', '29', '70', '86'), ('69', '19', '-26', '95'), ('36', '36', '50', '76'), ('51', '2', '-50', '-54'), ('24', '39', '-78', '-18'), ('50', '89', '65', '-2'), ('27', '34', '-51', '-65'), ('0', '48', '-7', '-80'), ('12', '58', '8', '51'), ('0', '86', '26', '82'), ('15', '92', '-79', '-40'), ('59', '69', '37', '-62'), ('17', '72', '10', '28'), ('76', '42', '-90', '99'), ('59', '45', '-22', '32'), ('59', '45', '-31', '-51'), ('98', '32', '-29', '47'), ('15', '89', '-1', '-58'), ('23', '90', '22', '36'), ('31', '91', '50', '50'), ('20', '69', '-1', '27'), ('18', '80', '36', '74'), ('39', '45', '82', '-88'), ('42', '44', '37', '5'), ('37', '69', '-64', '-80'), ('32', '70', '55', '32'), ('96', '102', '62', '12'), ('48', '42', '-76', '-41'), ('47', '65', '14', '-6'), ('27', '97', '25', '12'), ('55', '69', '-55', '22'), ('17', '76', '1', '-61'), ('43', '28', '28', '6'), ('29', '25', '73', '-41'), ('64', '10', '34', '-96'), ('63', '41', '93', '15'), ('3', '9', '-52', '77'), ('61', '100', '43', '-5'), ('54', '24', '6', '-79'), ('89', '75', '44', '-85'), ('79', '61', '-90', '-94'), ('99', '102', '-70', '35'), ('39', '65', '-78', '4'), ('5', '19', '63', '71'), ('93', '101', '35', '-44'), ('5', '26', '31', '-80'), ('27', '51', '80', '37'), ('62', '88', '-51', '-77'), ('75', '71', '-12', '27'), ('74', '45', '66', '33'), ('22', '42', '34', '67')]\n",
      "Counter({2: 129, 3: 127, 4: 122, 1: 116, None: 6})\n"
     ]
    },
    {
     "data": {
      "text/plain": [
       "231852216"
      ]
     },
     "execution_count": 20,
     "metadata": {},
     "output_type": "execute_result"
    }
   ],
   "source": [
    "def day14():\n",
    "    robots = data(14, lambda x: re.findall(r'p=(\\d+),(\\d+) v=(-?\\d+),(-?\\d+)', x)[0])\n",
    "    print(robots)\n",
    "\n",
    "    def get_quadrant(x, y):\n",
    "        lr, tb = (wide-1)/2, (tall-1)/2\n",
    "        if x < lr and y < tb:\n",
    "            return 1\n",
    "        elif x < lr and y > tb:\n",
    "            return 2\n",
    "        elif x > lr and y < tb:\n",
    "            return 3\n",
    "        elif x > lr and y > tb:\n",
    "            return 4\n",
    "\n",
    "    wide, tall = 101, 103\n",
    "    n = 100\n",
    "    quadrants = Counter()\n",
    "    for robot in robots:\n",
    "        x, y, vx, vy = [int(x) for x in robot]\n",
    "        fx, fy = (x+n*vx)%wide, (y+n*vy)%tall\n",
    "        # print(robot, fx, fy)\n",
    "        quadrants[get_quadrant(fx, fy)] += 1 \n",
    "\n",
    "    print(quadrants)\n",
    "\n",
    "    return math.prod((quadrants[x] for x in range(1, 5)))\n",
    "    \n",
    "\n",
    "day14()"
   ]
  },
  {
   "cell_type": "code",
   "execution_count": 52,
   "metadata": {},
   "outputs": [
    {
     "data": {
      "text/plain": [
       "(231852216, 8159)"
      ]
     },
     "execution_count": 52,
     "metadata": {},
     "output_type": "execute_result"
    }
   ],
   "source": [
    "def day14(wide, tall):\n",
    "    robots = data(14, lambda line: [int(x) for x in re.findall(r'p=(\\d+),(\\d+) v=(-?\\d+),(-?\\d+)', line)[0]])\n",
    "    \n",
    "    def get_quadrants(xs):\n",
    "        lr, tb = (wide-1)/2, (tall-1)/2\n",
    "        quadrants = Counter()\n",
    "        for y, x in xs:\n",
    "            if x < lr and y < tb:\n",
    "                quadrants[1] += 1\n",
    "            elif x < lr and y > tb:\n",
    "                quadrants[2] += 1\n",
    "            elif x > lr and y < tb:\n",
    "                quadrants[3] += 1\n",
    "            elif x > lr and y > tb:\n",
    "                quadrants[4] += 1\n",
    "        return quadrants\n",
    "\n",
    "    def run_robot(robot, n):\n",
    "        x, y, vx, vy = robot\n",
    "        fx, fy = (x+n*vx)%wide, (y+n*vy)%tall\n",
    "        return fy, fx\n",
    "\n",
    "    quadrants = get_quadrants([run_robot(robot, 100) for robot in robots])\n",
    "    part1 = math.prod((quadrants[x] for x in range(1, 5)))\n",
    "\n",
    "    def run_robots(n):\n",
    "        ps = [run_robot(robot, n) for robot in robots]\n",
    "        variance = np.var([p[0] for p in ps])+np.var([p[1] for p in ps])\n",
    "        return variance, n\n",
    "\n",
    "    _, n = min(run_robots(n) for n in range(wide*tall))\n",
    "    ps = [run_robot(robot, n) for robot in robots]\n",
    "    with open(f'outputs/{n}.txt', 'w+') as f:\n",
    "        np.savetxt(f, debug_array(np.full((tall, wide), 'O'), ps, False), fmt='%s')\n",
    "    return part1, n\n",
    "\n",
    "day14(101, 103)"
   ]
  },
  {
   "cell_type": "code",
   "execution_count": 53,
   "metadata": {},
   "outputs": [
    {
     "name": "stdout",
     "output_type": "stream",
     "text": [
      "['p=0,4 v=3,-3', 'p=6,3 v=-1,-3', 'p=10,3 v=-1,2', 'p=2,0 v=2,-1', 'p=0,0 v=1,3', 'p=3,0 v=-2,-2', 'p=7,6 v=-1,-3', 'p=3,0 v=-1,-2', 'p=9,3 v=2,3', 'p=7,3 v=-1,2', 'p=2,4 v=2,-3', 'p=9,5 v=-3,-3']\n"
     ]
    }
   ],
   "source": [
    "def day15():\n",
    "    print(data(0))\n",
    "day15()"
   ]
  }
 ],
 "metadata": {
  "kernelspec": {
   "display_name": ".venv",
   "language": "python",
   "name": "python3"
  },
  "language_info": {
   "codemirror_mode": {
    "name": "ipython",
    "version": 3
   },
   "file_extension": ".py",
   "mimetype": "text/x-python",
   "name": "python",
   "nbconvert_exporter": "python",
   "pygments_lexer": "ipython3",
   "version": "3.13.0"
  }
 },
 "nbformat": 4,
 "nbformat_minor": 2
}
