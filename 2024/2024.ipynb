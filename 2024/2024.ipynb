{
 "cells": [
  {
   "cell_type": "code",
   "execution_count": 10,
   "metadata": {},
   "outputs": [],
   "source": [
    "import numpy as np\n",
    "from typing import Callable, TypeVar\n",
    "from collections import Counter, deque\n",
    "import itertools\n",
    "import regex as re\n",
    "from intervaltree import Interval, IntervalTree\n",
    "\n",
    "\n",
    "np.set_printoptions(edgeitems=30, linewidth=100000, \n",
    "    formatter=dict(float=lambda x: \"%.3g\" % x))\n",
    "\n",
    "T = TypeVar('T')\n",
    "\n",
    "def data(day: int, parser: Callable[[str], T] = str) -> list[T]:\n",
    "  with open(f\"./data/day{day}.txt\") as f:\n",
    "    return [parser(line.strip()) for line in f.readlines()]\n",
    "\n",
    "processors = {\n",
    "  'int_list': lambda x: [int(y) for y in x.split()]\n",
    "}\n",
    "\n",
    "def search(nodes, start, get_neighbors, end_condition=lambda _, __: False, dfs=True):\n",
    "    q, visited = deque([(start, 0)]), {}\n",
    "    while q:\n",
    "        current, distance = q.popleft() if dfs else q.pop()\n",
    "        if end_condition(current, distance):\n",
    "            return visited, current\n",
    "        if current in visited:\n",
    "            continue\n",
    "        for node in get_neighbors(current, distance):\n",
    "            q.append((node, distance+1))\n",
    "        visited[current] = distance\n",
    "    return visited, None"
   ]
  },
  {
   "cell_type": "code",
   "execution_count": 7,
   "metadata": {},
   "outputs": [
    {
     "data": {
      "text/plain": [
       "(1941353, 22539317)"
      ]
     },
     "execution_count": 7,
     "metadata": {},
     "output_type": "execute_result"
    }
   ],
   "source": [
    "\n",
    "def day1():\n",
    "    loc1, loc2 = zip(*data(1, processors['int_list']))\n",
    "    part1 = sum(abs(x[0]-x[1]) for x in zip(sorted(loc1), sorted(loc2)))\n",
    "    counts = Counter(loc2)\n",
    "    part2 = sum(x*counts[x] for x in loc1)\n",
    "    return part1, part2\n",
    "\n",
    "day1()"
   ]
  },
  {
   "cell_type": "code",
   "execution_count": 80,
   "metadata": {},
   "outputs": [
    {
     "data": {
      "text/plain": [
       "array([356, 413])"
      ]
     },
     "execution_count": 80,
     "metadata": {},
     "output_type": "execute_result"
    }
   ],
   "source": [
    "def day2():\n",
    "    def check_safe(report):\n",
    "        ascending = sorted(report)\n",
    "        diffs = np.diff(ascending)\n",
    "        return max(diffs) <= 3 and min(diffs) >= 1 and (\n",
    "            report == ascending or\n",
    "            report == list(reversed(ascending))\n",
    "        )\n",
    "\n",
    "    def check_safe_damp(report):\n",
    "        if check_safe(report):\n",
    "            return 1, 1\n",
    "        for damped in itertools.combinations(report, len(report)-1):\n",
    "            if check_safe(list(damped)):\n",
    "                return 0, 1\n",
    "        return 0, 0\n",
    "\n",
    "    reports = data(2, processors['int_list'])\n",
    "    safe = np.array((0,0))\n",
    "    for report in reports:\n",
    "        safe += check_safe_damp(report)\n",
    "    return safe\n",
    "\n",
    "day2()"
   ]
  },
  {
   "cell_type": "code",
   "execution_count": 76,
   "metadata": {},
   "outputs": [
    {
     "data": {
      "text/plain": [
       "(182780583, 90772405)"
      ]
     },
     "execution_count": 76,
     "metadata": {},
     "output_type": "execute_result"
    }
   ],
   "source": [
    "def day3():\n",
    "    def mul_strings(s):\n",
    "        x, y = s.split(',')\n",
    "        return int(x)*int(y)\n",
    "\n",
    "    instructions = ''.join(data(3))\n",
    "    matches = list(re.finditer(r'mul\\((\\d+,\\d+)\\)', instructions))\n",
    "    conds = list(re.finditer(r\"don't\\(\\).+?do\\(\\)\", instructions))\n",
    "    donts = IntervalTree([Interval(*cond.span()) for cond in conds])\n",
    "    result = sum([mul_strings(mul[1]) * (1 if not donts[mul.span()[0]] else 1j) for mul in matches])\n",
    "    return int(result.real+result.imag), int(result.real)\n",
    "\n",
    "day3()"
   ]
  },
  {
   "cell_type": "code",
   "execution_count": null,
   "metadata": {},
   "outputs": [
    {
     "name": "stdout",
     "output_type": "stream",
     "text": [
      "0 0 0 set()\n",
      "1 0 0 set()\n",
      "2 0 0 set()\n",
      "3 0 0 set()\n",
      "4 0 3 {(7+3j), (1+1j), (5+3j)}\n",
      "5 0 7 {(8+0j), (8+1j), (5+3j), (7+3j)}\n",
      "6 0 7 set()\n",
      "7 0 7 set()\n",
      "8 0 7 set()\n",
      "9 0 7 set()\n",
      "0 1 7 set()\n",
      "1 1 7 set()\n",
      "2 1 7 set()\n",
      "3 1 7 set()\n",
      "4 1 10 {(7+3j), (1+1j), (3+4j)}\n",
      "5 1 10 set()\n",
      "6 1 10 set()\n",
      "7 1 10 set()\n",
      "8 1 10 set()\n",
      "9 1 10 set()\n",
      "0 2 10 set()\n",
      "1 2 10 set()\n",
      "2 2 11 {(5+3j)}\n",
      "3 2 11 set()\n",
      "4 2 14 {(7+3j), (1+3j), (1+1j)}\n",
      "5 2 14 set()\n",
      "6 2 14 set()\n",
      "7 2 14 set()\n",
      "8 2 14 set()\n",
      "9 2 14 set()\n",
      "0 3 14 set()\n",
      "1 3 14 set()\n",
      "2 3 14 set()\n",
      "3 3 14 set()\n",
      "4 3 14 set()\n",
      "5 3 14 set()\n",
      "6 3 14 set()\n",
      "7 3 14 set()\n",
      "8 3 14 set()\n",
      "9 3 19 {(8+0j), (6+1j), (6+6j), (8+6j), (9+6j)}\n",
      "0 4 23 {(3+2j), (1+1j), (2+6j), (3+4j)}\n",
      "1 4 23 set()\n",
      "2 4 23 set()\n",
      "3 4 23 set()\n",
      "4 4 23 set()\n",
      "5 4 23 set()\n",
      "6 4 27 {(6+1j), (3+2j), (8+1j), (3+4j)}\n",
      "7 4 27 set()\n",
      "8 4 27 set()\n",
      "9 4 27 set()\n",
      "0 5 29 {(3+2j), (3+4j)}\n",
      "1 5 31 {(3+2j), (3+4j)}\n",
      "2 5 31 set()\n",
      "3 5 31 set()\n",
      "4 5 31 set()\n",
      "5 5 32 {(3+2j)}\n",
      "6 5 34 {(3+2j), (3+4j)}\n",
      "7 5 34 set()\n",
      "8 5 34 set()\n",
      "9 5 34 set()\n",
      "0 6 34 set()\n",
      "1 6 34 set()\n",
      "2 6 34 set()\n",
      "3 6 34 set()\n",
      "4 6 34 set()\n",
      "5 6 34 set()\n",
      "6 6 34 set()\n",
      "7 6 35 {(7+3j)}\n",
      "8 6 35 set()\n",
      "9 6 35 set()\n",
      "0 7 35 set()\n",
      "1 7 35 set()\n",
      "2 7 36 {(3+4j)}\n",
      "3 7 36 set()\n",
      "4 7 36 set()\n",
      "5 7 36 set()\n",
      "6 7 36 set()\n",
      "7 7 36 set()\n",
      "8 7 36 set()\n",
      "9 7 36 set()\n",
      "0 8 36 set()\n",
      "1 8 36 set()\n",
      "2 8 36 set()\n",
      "3 8 36 set()\n",
      "4 8 36 set()\n",
      "5 8 40 {(6+6j), (8+6j), (8+9j), (2+6j)}\n",
      "6 8 40 set()\n",
      "7 8 40 set()\n",
      "8 8 40 set()\n",
      "9 8 40 set()\n",
      "0 9 40 set()\n",
      "1 9 43 {6j, (2+6j), (4+6j)}\n",
      "2 9 43 set()\n",
      "3 9 49 {6j, (2+6j), 7j, (4+6j), (6+6j), (6+7j)}\n",
      "4 9 49 set()\n",
      "5 9 54 {(8+9j), (2+6j), (4+6j), (6+6j), (8+6j)}\n",
      "6 9 54 set()\n",
      "7 9 54 set()\n",
      "8 9 54 set()\n",
      "9 9 58 {(6+6j), (8+6j), (9+6j), (6+7j)}\n"
     ]
    },
    {
     "data": {
      "text/plain": [
       "58"
      ]
     },
     "execution_count": 62,
     "metadata": {},
     "output_type": "execute_result"
    }
   ],
   "source": [
    "def day4():\n",
    "    grid = np.array(data(0, lambda x: np.array(list(x))))\n",
    "    target = 'XMAS'\n",
    "    ymax, xmax = grid.shape\n",
    "    print(grid)\n",
    "\n",
    "    count = 0\n",
    "\n",
    "    def get_neighbors(current, distance):\n",
    "        col, row = int(current.real), int(current.imag)\n",
    "        target_letter = target[distance]\n",
    "        if grid[row, col] != target_letter:\n",
    "            return\n",
    "        if distance == len(target)-1:\n",
    "            total.add(current)\n",
    "            return\n",
    "\n",
    "        for v in [1, -1, 1j, -1j, 1+1j, 1-1j, -1+1j, -1-1j]:\n",
    "            new = current + v\n",
    "            x, y = int(new.real), int(new.imag)\n",
    "            if not (y >= 0 and x >= 0 and y < ymax and x < xmax):\n",
    "                continue\n",
    "            yield new\n",
    "\n",
    "    for j in range(ymax):\n",
    "        for i in range(xmax):\n",
    "            total = set()\n",
    "            search(grid, i+1j*j, get_neighbors)\n",
    "            count += len(total)\n",
    "            print(i, j, count, total)\n",
    "            # print(i, j, i+1j*j, len(total), total)\n",
    "\n",
    "    return count\n",
    "\n",
    "day4()"
   ]
  }
 ],
 "metadata": {
  "kernelspec": {
   "display_name": ".venv",
   "language": "python",
   "name": "python3"
  },
  "language_info": {
   "codemirror_mode": {
    "name": "ipython",
    "version": 3
   },
   "file_extension": ".py",
   "mimetype": "text/x-python",
   "name": "python",
   "nbconvert_exporter": "python",
   "pygments_lexer": "ipython3",
   "version": "3.13.0"
  }
 },
 "nbformat": 4,
 "nbformat_minor": 2
}
