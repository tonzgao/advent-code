{
 "cells": [
  {
   "cell_type": "markdown",
   "metadata": {},
   "source": [
    "# [Advent of Code 2021](https://adventofcode.com/2021)\n",
    "\n",
    "Partially inspired by [Norvig's pytudes](https://github.com/norvig/pytudes/blob/main/ipynb/Advent-2020.ipynb), although I probably won't be using the same style.\n",
    "\n",
    "Goals\n",
    "------\n",
    "* Try to finish all gold stars on day of puzzle\n",
    "* Learn new python features\n",
    "* Investigate github copilot"
   ]
  },
  {
   "cell_type": "code",
   "execution_count": 1,
   "metadata": {},
   "outputs": [],
   "source": [
    "# Imports\n",
    "\n",
    "from collections import defaultdict, Counter, deque\n",
    "import itertools\n",
    "from functools import lru_cache\n",
    "import json\n",
    "import numpy as np\n",
    "import numpy.typing as npt\n",
    "import networkx as nx\n",
    "import re\n",
    "from typing import Callable, TypeVar, Union, Optional\n",
    "\n",
    "T = TypeVar('T')\n",
    "\n",
    "# Helper functions\n",
    "\n",
    "def data(day: int, parser: Callable[[str], T] = str) -> list[T]:\n",
    "  with open(f\"../data/2021/day{day}.txt\") as f:\n",
    "    return [parser(line.strip()) for line in f.readlines()]\n",
    "\n",
    "def split_csv_row(row: str) -> list[int]:\n",
    "  return [int(x) for x in row.split(',')]\n",
    "\n",
    "def split_int_row(row: str) -> list[int]:\n",
    "  return [int(x) for x in row]\n",
    "\n",
    "def bin2int(l: Union[list[int], str]) -> int:\n",
    "  return int(\"\".join(str(i) for i in l), 2)\n",
    "\n",
    "def triangular_number(n: int) -> int:\n",
    "  return n * (n + 1) // 2"
   ]
  },
  {
   "cell_type": "markdown",
   "metadata": {},
   "source": [
    "## Day 1\n",
    "\n",
    "Determine number of increments in list"
   ]
  },
  {
   "cell_type": "code",
   "execution_count": 13,
   "metadata": {},
   "outputs": [],
   "source": [
    "data1 = data(1, int)"
   ]
  },
  {
   "cell_type": "code",
   "execution_count": 14,
   "metadata": {},
   "outputs": [
    {
     "data": {
      "text/plain": [
       "1688"
      ]
     },
     "execution_count": 14,
     "metadata": {},
     "output_type": "execute_result"
    }
   ],
   "source": [
    "def day1(data: list[int]) -> int:\n",
    "  count, current = 0, data[0]\n",
    "  for i in data[1:]:\n",
    "    if i > current:\n",
    "      count += 1\n",
    "    current = i\n",
    "  return count\n",
    "\n",
    "day1(data1)"
   ]
  },
  {
   "cell_type": "code",
   "execution_count": 48,
   "metadata": {},
   "outputs": [
    {
     "data": {
      "text/plain": [
       "1728"
      ]
     },
     "execution_count": 48,
     "metadata": {},
     "output_type": "execute_result"
    }
   ],
   "source": [
    "def win3(data: list[int]) -> list[int]:\n",
    "  for i in range(len(data) - 2):\n",
    "    yield sum(data[i:i+3])\n",
    "\n",
    "day1(list(win3(data1)))"
   ]
  },
  {
   "cell_type": "markdown",
   "metadata": {},
   "source": [
    "## Day 2\n",
    "\n",
    "Maintain sum of depth and length"
   ]
  },
  {
   "cell_type": "code",
   "execution_count": 229,
   "metadata": {},
   "outputs": [],
   "source": [
    "data2 = data(2)"
   ]
  },
  {
   "cell_type": "code",
   "execution_count": 22,
   "metadata": {},
   "outputs": [
    {
     "data": {
      "text/plain": [
       "1451208"
      ]
     },
     "execution_count": 22,
     "metadata": {},
     "output_type": "execute_result"
    }
   ],
   "source": [
    "def day2(data: list[str]) -> int:\n",
    "  depth, length = 0, 0\n",
    "  for i in data:\n",
    "    mode, amount = i.split(' ')\n",
    "    amount = int(amount)\n",
    "    match mode:\n",
    "      case 'forward':\n",
    "        length += amount\n",
    "      case 'down':\n",
    "        depth += amount\n",
    "      case 'up':\n",
    "        depth -= amount\n",
    "  return depth * length\n",
    "\n",
    "day2(data2)"
   ]
  },
  {
   "cell_type": "code",
   "execution_count": 26,
   "metadata": {},
   "outputs": [
    {
     "data": {
      "text/plain": [
       "1620141160"
      ]
     },
     "execution_count": 26,
     "metadata": {},
     "output_type": "execute_result"
    }
   ],
   "source": [
    "def day2_2(data: list[str]) -> int:\n",
    "  depth, length, aim = 0, 0, 0\n",
    "  for i in data:\n",
    "    mode, amount = i.split(' ')\n",
    "    amount = int(amount)\n",
    "    match mode:\n",
    "      case 'forward':\n",
    "        length += amount\n",
    "        depth += amount * aim\n",
    "      case 'down':\n",
    "        aim += amount\n",
    "      case 'up':\n",
    "        aim -= amount\n",
    "  return depth * length\n",
    "\n",
    "day2_2(data2)"
   ]
  },
  {
   "cell_type": "markdown",
   "metadata": {},
   "source": [
    "## Day 3\n",
    "\n",
    "Can probably be solved with bit tricks, but I'll just implement them as array problems."
   ]
  },
  {
   "cell_type": "code",
   "execution_count": 222,
   "metadata": {},
   "outputs": [],
   "source": [
    "data3 = data(3)"
   ]
  },
  {
   "cell_type": "code",
   "execution_count": 177,
   "metadata": {},
   "outputs": [
    {
     "data": {
      "text/plain": [
       "2954600"
      ]
     },
     "execution_count": 177,
     "metadata": {},
     "output_type": "execute_result"
    }
   ],
   "source": [
    "def day3(data: list[int]):\n",
    "  total = len(data)\n",
    "  size = len(data[0])\n",
    "  sums = [0] * size\n",
    "  for binary in data:\n",
    "    for i, v in enumerate(binary):\n",
    "      sums[i] += int(v)\n",
    "  \n",
    "  gamma = [0 if total - i > i else 1 for i in sums]\n",
    "  epsilon = [i ^ 1 for i in gamma]\n",
    "  return bin2int(gamma) * bin2int(epsilon)\n",
    "\n",
    "day3(data3)"
   ]
  },
  {
   "cell_type": "code",
   "execution_count": 179,
   "metadata": {},
   "outputs": [
    {
     "data": {
      "text/plain": [
       "1662846"
      ]
     },
     "execution_count": 179,
     "metadata": {},
     "output_type": "execute_result"
    }
   ],
   "source": [
    "def find_boundary(data: list[str], start: int, end: int, index: int) -> int:\n",
    "  # TODO: this can be implemented as binary search\n",
    "  for i, v in enumerate(data[start:end+1]):\n",
    "    if v[index] == '1':\n",
    "      return start + i\n",
    "  return start\n",
    "\n",
    "def scrubber(data: list[str], lcd: bool) -> int:\n",
    "  # Run \"binary search\"\n",
    "  low, high = 0, len(data) - 1\n",
    "  for target in range(len(data[0])):\n",
    "    index = low + ((high - low + 1) // 2)\n",
    "    item = data[index][target]\n",
    "\n",
    "    if lcd and item == '0':\n",
    "      # Select all '1's in the bottom half\n",
    "      low = find_boundary(data, index, high, target)\n",
    "    elif lcd and item == '1':\n",
    "      # Select all '0's in the top half\n",
    "      high = find_boundary(data, low, index, target) - 1\n",
    "    elif item == '0':\n",
    "      # Select all '0's from the top through to the bottom half\n",
    "      high = find_boundary(data, index, high, target) - 1\n",
    "    else:\n",
    "      # Select all '1' starting from the top half to the end\n",
    "      low = find_boundary(data, low, index, target)\n",
    "    \n",
    "    if low == high:\n",
    "      break\n",
    "\n",
    "  return data[low]\n",
    "\n",
    "def day3_2(data: list[str]) -> int:\n",
    "  data = sorted(data)\n",
    "  oxygen = scrubber(data, False)\n",
    "  c02 = scrubber(data, True)\n",
    "  return bin2int(oxygen) * bin2int(c02)\n",
    "\n",
    "day3_2(data3)"
   ]
  },
  {
   "cell_type": "markdown",
   "metadata": {},
   "source": [
    "## Day 4\n",
    "Reference storing Bingo Boards"
   ]
  },
  {
   "cell_type": "code",
   "execution_count": 99,
   "metadata": {},
   "outputs": [],
   "source": [
    "data4 = data(4)\n",
    "\n",
    "class BingoBoard:\n",
    "  def __init__(self):\n",
    "    self.board = []\n",
    "    self.size = 0\n",
    "    # TODO: this state should be stored elsewhere\n",
    "    self.rows = []\n",
    "    self.cols = []\n",
    "    \n",
    "  def add_row(self, row: list[int]):\n",
    "    self.board.append(row)\n",
    "    if not self.size:\n",
    "      self.size = len(row)\n",
    "      self.rows = [0] * self.size\n",
    "      # Assume column size is same as row size\n",
    "      self.cols = [0] * self.size\n",
    "\n",
    "def parse_data4(data: list[str]) -> tuple[list[int], list[BingoBoard]]:\n",
    "  numbers = [int(x) for x in data[0].split(',')]\n",
    "  boards, board = [], None\n",
    "  for row in data[1:]:\n",
    "    if row == '':\n",
    "      board = BingoBoard()\n",
    "      boards.append(board)\n",
    "    else:\n",
    "      board.add_row([int(x) for x in re.split('\\s+', row)])\n",
    "  return numbers, boards\n",
    "\n",
    "def analyze_boards(boards: list[BingoBoard]) -> dict[list[tuple[int,int,BingoBoard]]]:\n",
    "  # For each number, store the row and column with every board it was found in\n",
    "  keys = defaultdict(lambda: [])\n",
    "  for board in boards:\n",
    "    for i, row in enumerate(board.board):\n",
    "      for j, v in enumerate(row):\n",
    "        keys[v].append((i, j, board))\n",
    "  return keys"
   ]
  },
  {
   "cell_type": "code",
   "execution_count": 75,
   "metadata": {},
   "outputs": [
    {
     "data": {
      "text/plain": [
       "4512"
      ]
     },
     "execution_count": 75,
     "metadata": {},
     "output_type": "execute_result"
    }
   ],
   "source": [
    "def calculate_score(board: BingoBoard, numbers: set[int]) -> int:\n",
    "  score = 0\n",
    "  for row in board.board:\n",
    "    for v in row:\n",
    "      if v not in numbers:\n",
    "        score += v\n",
    "  return score\n",
    "\n",
    "def day4(data: list[str]) -> int:\n",
    "  numbers, boards = parse_data4(data)  \n",
    "  keys = analyze_boards(boards)\n",
    "  selected = set()\n",
    "  for number in numbers:\n",
    "    if number in selected:\n",
    "      continue\n",
    "    selected.add(number)\n",
    "    for i, j, board in keys[number]:\n",
    "      board.rows[i] += 1\n",
    "      board.cols[j] += 1\n",
    "      if board.size == board.rows[i] or board.size == board.cols[j]:\n",
    "        return calculate_score(board, selected) * number\n",
    "\n",
    "day4(data4)"
   ]
  },
  {
   "cell_type": "code",
   "execution_count": 82,
   "metadata": {},
   "outputs": [
    {
     "data": {
      "text/plain": [
       "5586"
      ]
     },
     "execution_count": 82,
     "metadata": {},
     "output_type": "execute_result"
    }
   ],
   "source": [
    "def retroactive_selected(inputs: list[int], end: int) -> int:\n",
    "  index = inputs.index(end) + 1\n",
    "  return set(inputs[:index])\n",
    "\n",
    "def day4_2(data: list[str]) -> int:\n",
    "  numbers, boards = parse_data4(data)  \n",
    "  keys = analyze_boards(boards)\n",
    "  selected = set()\n",
    "  completed, last_winner, last_num = set(), None, 0\n",
    "  for number in numbers:\n",
    "    if number in selected:\n",
    "      continue\n",
    "    selected.add(number)\n",
    "    for i, j, board in keys[number]:\n",
    "      if board in completed:\n",
    "        continue\n",
    "      board.rows[i] += 1\n",
    "      board.cols[j] += 1\n",
    "      if board.size == board.rows[i] or board.size == board.cols[j]:\n",
    "        completed.add(board)\n",
    "        last_winner, last_num = board, number\n",
    "  return calculate_score(last_winner, retroactive_selected(numbers, last_num)) * last_num\n",
    "\n",
    "day4_2(data4)"
   ]
  },
  {
   "cell_type": "markdown",
   "metadata": {},
   "source": [
    "## Day 5\n",
    "\n",
    "Some possible ideas for solutions: \n",
    "1. use vector products between each pair (n^2) and remove duplicates somehow\n",
    "2. use a 2-d interval tree and detect where sums on a point are greater than 1\n",
    "3. fill a 2-d grid and iterate through points\n",
    "\n",
    "Implementing with idea 3 for now, since size of grid is small relative to number of lines"
   ]
  },
  {
   "cell_type": "code",
   "execution_count": 223,
   "metadata": {},
   "outputs": [],
   "source": [
    "Line = tuple[tuple[int, int], tuple[int, int]]\n",
    "\n",
    "def parse5(line: str) -> list[Line]:\n",
    "  result = re.split('[\\s,]', line)\n",
    "  return (\n",
    "    (int(result[0]), int(result[3])), # xs\n",
    "    (int(result[1]), int(result[4])) # ys\n",
    "  )\n",
    "\n",
    "data5 = data(5, parse5)"
   ]
  },
  {
   "cell_type": "code",
   "execution_count": 103,
   "metadata": {},
   "outputs": [
    {
     "data": {
      "text/plain": [
       "4728"
      ]
     },
     "execution_count": 103,
     "metadata": {},
     "output_type": "execute_result"
    }
   ],
   "source": [
    "class BaseHydroVents:\n",
    "  def __init__(self, size: int) -> None:\n",
    "    self.grid = np.zeros([size, size])\n",
    "\n",
    "  def add_line(self, line: Line) -> None:\n",
    "    if line[0][0] == line[0][1]:\n",
    "      self.add_vertical_line(sorted(line[1]), line[0][0])\n",
    "    elif line[1][0] == line[1][1]:\n",
    "      self.add_horizontal_line(sorted(line[0]), line[1][0])\n",
    "    else:\n",
    "      self.add_diagonal_line(line)\n",
    "\n",
    "  def add_diagonal_line(self, line: Line) -> None:\n",
    "    # Stub\n",
    "    return\n",
    "\n",
    "  def add_horizontal_line(self, xs: tuple[int, int], y: int) -> None:\n",
    "    for x in range(xs[0], xs[1] + 1):\n",
    "      self.grid[y][x] += 1\n",
    "\n",
    "  def add_vertical_line(self, ys: tuple[int, int], x: int) -> None:\n",
    "    for y in range(ys[0], ys[1] + 1):\n",
    "      self.grid[y][x] += 1\n",
    "\n",
    "def max_vent_point(data: list[Line]) -> int:\n",
    "  return max([max(max(x[0]), max(x[1])) for x in data])\n",
    "\n",
    "def day5(data: list[Line]) -> int:\n",
    "  size = max_vent_point(data) + 1\n",
    "  vents = BaseHydroVents(size)\n",
    "  for line in data:\n",
    "    vents.add_line(line)\n",
    "  mask = vents.grid > 1\n",
    "  return np.count_nonzero(mask)\n",
    "\n",
    "day5(data5)\n"
   ]
  },
  {
   "cell_type": "code",
   "execution_count": 104,
   "metadata": {},
   "outputs": [
    {
     "data": {
      "text/plain": [
       "17717"
      ]
     },
     "execution_count": 104,
     "metadata": {},
     "output_type": "execute_result"
    }
   ],
   "source": [
    "class HydroVents (BaseHydroVents):\n",
    "  def __init__(self, size: int) -> None:\n",
    "    self.grid = np.zeros([size, size])\n",
    "\n",
    "  def add_diagonal_line(self, line: Line) -> None:\n",
    "    # Only supports 45 degree lines\n",
    "    xs, ys = line[0], line[1]\n",
    "    dx = 1 if xs[1] > xs[0] else -1\n",
    "    dy = 1 if ys[1] > ys[0] else -1\n",
    "    length = abs(xs[1] - xs[0]) + 1\n",
    "    for i in range(length):\n",
    "      self.grid[ys[0] + dy * i][xs[0] + dx * i] += 1\n",
    "\n",
    "def day5_2(data: list[Line]) -> int:\n",
    "  size = max_vent_point(data) + 1\n",
    "  vents = HydroVents(size)\n",
    "  for line in data:\n",
    "    vents.add_line(line)\n",
    "  mask = vents.grid > 1\n",
    "  return np.count_nonzero(mask)\n",
    "\n",
    "day5_2(data5)\n"
   ]
  },
  {
   "cell_type": "markdown",
   "metadata": {},
   "source": [
    "## Day 6\n",
    "\n",
    "Seems like a DP problem"
   ]
  },
  {
   "cell_type": "code",
   "execution_count": 226,
   "metadata": {},
   "outputs": [],
   "source": [
    "data6 = data(6, split_csv_row)"
   ]
  },
  {
   "cell_type": "code",
   "execution_count": 99,
   "metadata": {},
   "outputs": [
    {
     "data": {
      "text/plain": [
       "394994"
      ]
     },
     "execution_count": 99,
     "metadata": {},
     "output_type": "execute_result"
    }
   ],
   "source": [
    "@lru_cache(None)\n",
    "def spawns6(days: int):\n",
    "  if days < 6:\n",
    "    return 1\n",
    "  return spawns6(days-7) + spawns8(days-7)\n",
    "\n",
    "@lru_cache(None)\n",
    "def spawns8(days: int):\n",
    "  if days < 8:\n",
    "    return 1\n",
    "  return spawns6(days-9) + spawns8(days-9)\n",
    "\n",
    "def day6(data: list[int], days: int) -> int:\n",
    "  result = [spawns6(days + 6 - i) for i in data]\n",
    "  return sum(result)\n",
    "\n",
    "day6(data6, 79)"
   ]
  },
  {
   "cell_type": "code",
   "execution_count": 100,
   "metadata": {},
   "outputs": [
    {
     "data": {
      "text/plain": [
       "1765974267455"
      ]
     },
     "execution_count": 100,
     "metadata": {},
     "output_type": "execute_result"
    }
   ],
   "source": [
    "day6(data6, 255)"
   ]
  },
  {
   "cell_type": "markdown",
   "metadata": {},
   "source": [
    "## Day 7\n",
    "\n",
    "Minimize v-shaped curve $ |F(c)| $ where $ A - c = F $"
   ]
  },
  {
   "cell_type": "code",
   "execution_count": 34,
   "metadata": {},
   "outputs": [],
   "source": [
    "data7 = data(7, split_csv_row)[0]"
   ]
  },
  {
   "cell_type": "code",
   "execution_count": 38,
   "metadata": {},
   "outputs": [
    {
     "data": {
      "text/plain": [
       "343605"
      ]
     },
     "execution_count": 38,
     "metadata": {},
     "output_type": "execute_result"
    }
   ],
   "source": [
    "CostFunction7 = Callable[[npt.ArrayLike], int]\n",
    "def fuel_used(input: npt.ArrayLike) -> int:\n",
    "  return np.sum(np.abs(input))\n",
    "\n",
    "def deltas(input: npt.ArrayLike, current: int, cost: CostFunction7) -> tuple[int, int, int]:\n",
    "  y = cost(input - current)\n",
    "  left = cost(input - current - 1)\n",
    "  right = cost(input - current + 1)\n",
    "  return left, y, right\n",
    "\n",
    "# TODO: could use scipy.optimize.minimize instead\n",
    "def bsearch7(input: npt.ArrayLike, low: int, high: int, cost: CostFunction7) -> int:\n",
    "  while low < high:\n",
    "    mid = (low + high) // 2\n",
    "    left, y, right = deltas(input, mid, cost)\n",
    "    if left < y:\n",
    "      low = mid + 1\n",
    "    elif right < y:\n",
    "      high = mid\n",
    "    else:\n",
    "      low, high = mid, mid\n",
    "  return mid\n",
    "\n",
    "def day7(data: list[int], cost: CostFunction7) -> int:\n",
    "  input = np.array(data)\n",
    "  hmin, hmax = np.min(input), np.max(input)\n",
    "  result = bsearch7(input, hmin, hmax, cost)\n",
    "  return cost(input - result)\n",
    "\n",
    "day7(data7, fuel_used)"
   ]
  },
  {
   "cell_type": "code",
   "execution_count": 3,
   "metadata": {},
   "outputs": [
    {
     "ename": "NameError",
     "evalue": "name 'day7' is not defined",
     "output_type": "error",
     "traceback": [
      "\u001b[0;31m---------------------------------------------------------------------------\u001b[0m",
      "\u001b[0;31mNameError\u001b[0m                                 Traceback (most recent call last)",
      "\u001b[0;32m/tmp/ipykernel_1361/4140118952.py\u001b[0m in \u001b[0;36m<module>\u001b[0;34m\u001b[0m\n\u001b[1;32m      5\u001b[0m   \u001b[0;32mreturn\u001b[0m \u001b[0mnp\u001b[0m\u001b[0;34m.\u001b[0m\u001b[0msum\u001b[0m\u001b[0;34m(\u001b[0m\u001b[0mtriangular_number\u001b[0m\u001b[0;34m(\u001b[0m\u001b[0mnp\u001b[0m\u001b[0;34m.\u001b[0m\u001b[0mabs\u001b[0m\u001b[0;34m(\u001b[0m\u001b[0minput\u001b[0m\u001b[0;34m)\u001b[0m\u001b[0;34m)\u001b[0m\u001b[0;34m)\u001b[0m\u001b[0;34m\u001b[0m\u001b[0;34m\u001b[0m\u001b[0m\n\u001b[1;32m      6\u001b[0m \u001b[0;34m\u001b[0m\u001b[0m\n\u001b[0;32m----> 7\u001b[0;31m \u001b[0mday7\u001b[0m\u001b[0;34m(\u001b[0m\u001b[0mdata7\u001b[0m\u001b[0;34m,\u001b[0m \u001b[0mfuel_used2\u001b[0m\u001b[0;34m)\u001b[0m\u001b[0;34m\u001b[0m\u001b[0;34m\u001b[0m\u001b[0m\n\u001b[0m",
      "\u001b[0;31mNameError\u001b[0m: name 'day7' is not defined"
     ]
    }
   ],
   "source": [
    "def fuel_used2(input: npt.ArrayLike) -> int:\n",
    "  return np.sum(triangular_number(np.abs(input)))\n",
    "\n",
    "day7(data7, fuel_used2)"
   ]
  },
  {
   "cell_type": "markdown",
   "metadata": {},
   "source": [
    "## Day 8\n",
    "\n",
    "Set intersections"
   ]
  },
  {
   "cell_type": "code",
   "execution_count": 224,
   "metadata": {},
   "outputs": [],
   "source": [
    "data8 = data(8)"
   ]
  },
  {
   "cell_type": "code",
   "execution_count": 101,
   "metadata": {},
   "outputs": [
    {
     "data": {
      "text/plain": [
       "383"
      ]
     },
     "execution_count": 101,
     "metadata": {},
     "output_type": "execute_result"
    }
   ],
   "source": [
    "Knowns9 = dict[int, set[str]]\n",
    "\n",
    "items_by_length = defaultdict(lambda: None, {\n",
    "  2: 1,\n",
    "  3: 7,\n",
    "  4: 4,\n",
    "  7: 8\n",
    "})\n",
    "def disambiguate6(item: set[str], knowns: Knowns9) -> int:\n",
    "    if knowns[1] - item:\n",
    "      return 6\n",
    "    elif not knowns[4] - item:\n",
    "      return 9\n",
    "    else:\n",
    "      return 0\n",
    "def disambiguate5(item: set[str], knowns: Knowns9) -> int:\n",
    "    if not knowns[7] - item:\n",
    "      return 3\n",
    "    elif len(knowns[6] - item) == 1:\n",
    "      return 5\n",
    "    else:\n",
    "      return 2\n",
    "\n",
    "def group_items(data: list[str]) -> tuple[Knowns9]:\n",
    "  knowns = {}\n",
    "  unknowns = []\n",
    "  for i in data:\n",
    "    item = set(i)\n",
    "    match len(item):\n",
    "      case 6:\n",
    "        unknowns.append(item)\n",
    "      case _:\n",
    "        knowns[items_by_length[len(item)]] = item\n",
    "  for item in unknowns:\n",
    "    knowns[disambiguate6(item, knowns)] = item\n",
    "  # Disambiguate5 not required to be run, we can do that while decoding the output\n",
    "  return knowns\n",
    "\n",
    "def parse_line(line: str) -> str:\n",
    "  input, output = tuple(group.split(' ') for group in line.split(' | '))\n",
    "  knowns = group_items(input)\n",
    "  for i in output:\n",
    "    item = set(i)\n",
    "    match len(item):\n",
    "      case 5:\n",
    "        yield disambiguate5(item, knowns)\n",
    "      case 6:\n",
    "        yield disambiguate6(item, knowns)\n",
    "      case _:\n",
    "        yield items_by_length[len(item)]\n",
    "\n",
    "# Overly complicated way to do what's required, but it's pretty clear what's coming in part 2\n",
    "def day8(data: list[str]) -> int:\n",
    "  count = 0\n",
    "  targets = items_by_length.values()\n",
    "  for line in data:\n",
    "    result = parse_line(line)\n",
    "    for number in result:\n",
    "      if number in targets:\n",
    "        count += 1\n",
    "  return count\n",
    "\n",
    "day8(data8)"
   ]
  },
  {
   "cell_type": "code",
   "execution_count": 93,
   "metadata": {},
   "outputs": [
    {
     "data": {
      "text/plain": [
       "998900"
      ]
     },
     "execution_count": 93,
     "metadata": {},
     "output_type": "execute_result"
    }
   ],
   "source": [
    "def day8_2(data: list[str]) -> int:\n",
    "  total = 0\n",
    "  for line in data:\n",
    "    result = parse_line(line)\n",
    "    total += int(''.join(str(i) for i in result))\n",
    "  return total\n",
    "\n",
    "day8_2(data8)"
   ]
  },
  {
   "cell_type": "markdown",
   "metadata": {},
   "source": [
    "## Day 9\n",
    "* Part 1: numpy array masking\n",
    "* Part 2: Recursive search from results of part 1"
   ]
  },
  {
   "cell_type": "code",
   "execution_count": 228,
   "metadata": {},
   "outputs": [],
   "source": [
    "data9 = np.array(data(9, split_int_row))"
   ]
  },
  {
   "cell_type": "code",
   "execution_count": 53,
   "metadata": {},
   "outputs": [
    {
     "data": {
      "text/plain": [
       "508"
      ]
     },
     "execution_count": 53,
     "metadata": {},
     "output_type": "execute_result"
    }
   ],
   "source": [
    "def get_basins(data: npt.ArrayLike) -> npt.ArrayLike:\n",
    "  zero_row, zero_col = np.full((1, data.shape[1]), 10), np.full((data.shape[0], 1), 10)\n",
    "  a = np.concatenate((data[1:], zero_row))\n",
    "  b = np.concatenate((zero_row, data[:-1]))\n",
    "  c = np.concatenate((data[:, 1:], zero_col), axis=1)\n",
    "  d = np.concatenate((zero_col, data[:, :-1]), axis=1)\n",
    "\n",
    "  mask = (data - a < 0) & (data - b < 0) & (data - c < 0) & (data - d < 0)\n",
    "  indices = np.where(mask)\n",
    "  return [(index[1], index[0]) for index in zip(indices[0], indices[1])]\n",
    "\n",
    "def day9(data: npt.ArrayLike) -> int:\n",
    "  basins = get_basins(data)\n",
    "  return sum([data[y][x] for x, y in basins]) + len(basins)\n",
    "\n",
    "day9(data9)"
   ]
  },
  {
   "cell_type": "code",
   "execution_count": 61,
   "metadata": {},
   "outputs": [
    {
     "data": {
      "text/plain": [
       "1564640"
      ]
     },
     "execution_count": 61,
     "metadata": {},
     "output_type": "execute_result"
    }
   ],
   "source": [
    "def day9_2(data: npt.ArrayLike) -> int:\n",
    "  claimed = set()\n",
    "  size = data9.shape\n",
    "\n",
    "  def claim(x: int, y: int) -> int:\n",
    "    if x < 0 or y < 0 or x >= size[1] or y >= size[0]:\n",
    "      return 0\n",
    "    if (x, y) in claimed:\n",
    "      return 0\n",
    "    if data[y][x] == 9:\n",
    "      return 0\n",
    "    claimed.add((x, y))\n",
    "    return 1 + claim(x+1, y) + claim(x-1, y) + claim(x, y+1) + claim(x, y - 1)\n",
    "\n",
    "  basins = [] # TODO: use 3-heap instead\n",
    "  for (x, y) in get_basins(data):\n",
    "    if basin_size := claim(x, y):\n",
    "      basins.append(basin_size)\n",
    "  return np.prod(sorted(basins, reverse=True)[:3])\n",
    "\n",
    "day9_2(data9)"
   ]
  },
  {
   "cell_type": "markdown",
   "metadata": {},
   "source": [
    "## Day 10\n",
    "Stack stuff"
   ]
  },
  {
   "cell_type": "code",
   "execution_count": 225,
   "metadata": {},
   "outputs": [],
   "source": [
    "data10 = data(10)"
   ]
  },
  {
   "cell_type": "code",
   "execution_count": 8,
   "metadata": {},
   "outputs": [
    {
     "data": {
      "text/plain": [
       "319233"
      ]
     },
     "execution_count": 8,
     "metadata": {},
     "output_type": "execute_result"
    }
   ],
   "source": [
    "opens = {\n",
    "  '(': ')',\n",
    "  '[': ']',\n",
    "  '{': '}',\n",
    "  '<': '>',\n",
    "}\n",
    "error_scores = {\n",
    "  ')': 3,\n",
    "  ']': 57,\n",
    "  '}': 1197,\n",
    "  '>': 25137,\n",
    "}\n",
    "\n",
    "def handle_line10(line: str) -> str:\n",
    "  stack = []\n",
    "  for i in line:\n",
    "    if i in opens:\n",
    "      stack.append(i)\n",
    "    elif opens[stack[-1]] == i:\n",
    "      stack.pop()\n",
    "    else:\n",
    "      return i\n",
    "  return stack\n",
    "\n",
    "def day10(data: list[str]) -> int:\n",
    "  lines = ([handle_line10(line) for line in data])\n",
    "  errors = Counter([line for line in lines if type(line) is str])\n",
    "  return sum(error_scores[i] * errors[i] for i in errors)\n",
    "\n",
    "day10(data10)\n"
   ]
  },
  {
   "cell_type": "code",
   "execution_count": 9,
   "metadata": {},
   "outputs": [
    {
     "data": {
      "text/plain": [
       "1118976874"
      ]
     },
     "execution_count": 9,
     "metadata": {},
     "output_type": "execute_result"
    }
   ],
   "source": [
    "closing_scores = {\n",
    "  ')': 1,\n",
    "  ']': 2,\n",
    "  '}': 3,\n",
    "  '>': 4,\n",
    "}\n",
    "\n",
    "def closing_score(close: list[str]) -> int:\n",
    "  score = 0\n",
    "  for i in reversed(close):\n",
    "    score = score * 5 + closing_scores[opens[i]]\n",
    "  return score\n",
    "\n",
    "def day10_2(data: list[str]) -> int:\n",
    "  lines = ([handle_line10(line) for line in data])\n",
    "  scores = [closing_score(line) for line in lines if type(line) is list]\n",
    "  mid = len(scores) // 2\n",
    "  return sorted(scores)[mid]\n",
    "\n",
    "day10_2(data10)"
   ]
  },
  {
   "cell_type": "markdown",
   "metadata": {},
   "source": [
    "## Day 11\n",
    "Array operations"
   ]
  },
  {
   "cell_type": "code",
   "execution_count": 227,
   "metadata": {},
   "outputs": [],
   "source": [
    "data11 = np.array(data(11, split_int_row))"
   ]
  },
  {
   "cell_type": "code",
   "execution_count": 214,
   "metadata": {},
   "outputs": [
    {
     "data": {
      "text/plain": [
       "1719"
      ]
     },
     "execution_count": 214,
     "metadata": {},
     "output_type": "execute_result"
    }
   ],
   "source": [
    "def run_flashes(data: npt.ArrayLike, flashed: set[int], size: tuple[int, int], debug = False) -> bool:\n",
    "  changed = False\n",
    "  for i in reversed(np.argsort(data.flatten())):\n",
    "    x, y = i % size[1], i // size[1]\n",
    "    if data[y][x] > 9 and i not in flashed:\n",
    "      for index in itertools.product([x-1, x, x+1], [y-1, y, y+1]):\n",
    "        if index[0] == x and index[1] == y:\n",
    "          continue\n",
    "        if index[0] < 0 or index[0] >= size[1]:\n",
    "          continue\n",
    "        if index[1] < 0 or index[1] >= size[0]:\n",
    "          continue\n",
    "        data[index[1]][index[0]] += 1\n",
    "      flashed.add(i)\n",
    "      changed = True\n",
    "  return changed\n",
    "\n",
    "def check_flashes(data: npt.ArrayLike, size: tuple[int, int], debug = False) -> set[int]:\n",
    "  flashed = set()\n",
    "  changed = True\n",
    "  data += 1\n",
    "  while changed:\n",
    "    changed = run_flashes(data, flashed, size, debug)\n",
    "  np.put(data, list(flashed), [0])\n",
    "  return flashed\n",
    "\n",
    "def day11(data: npt.ArrayLike) -> int:\n",
    "  flashes = 0\n",
    "  size = data.shape\n",
    "  current = data.copy()\n",
    "  for _ in range(100):\n",
    "    flashes += len(check_flashes(current, size))\n",
    "  return flashes\n",
    "\n",
    "day11(data11)  "
   ]
  },
  {
   "cell_type": "code",
   "execution_count": 215,
   "metadata": {},
   "outputs": [
    {
     "data": {
      "text/plain": [
       "232"
      ]
     },
     "execution_count": 215,
     "metadata": {},
     "output_type": "execute_result"
    }
   ],
   "source": [
    "def day11_2(data: npt.ArrayLike) -> int:\n",
    "  size = data.shape\n",
    "  current = data.copy()\n",
    "  for i in range(10000):\n",
    "    check_flashes(current, size)\n",
    "    if np.sum(current) == 0:\n",
    "      return i + 1\n",
    "  raise Exception('Too few iterations')\n",
    "\n",
    "day11_2(data11)"
   ]
  },
  {
   "cell_type": "markdown",
   "metadata": {},
   "source": [
    "## Day 12\n",
    "\n",
    "Some graph stuff"
   ]
  },
  {
   "cell_type": "code",
   "execution_count": 33,
   "metadata": {},
   "outputs": [
    {
     "data": {
      "image/png": "[encoded data removed]",
      "text/plain": [
       "<Figure size 432x288 with 1 Axes>"
      ]
     },
     "metadata": {},
     "output_type": "display_data"
    }
   ],
   "source": [
    "data12 = nx.Graph()\n",
    "\n",
    "def add_edge(line: str):\n",
    "  a, b = line.split('-')\n",
    "  data12.add_edge(a, b)\n",
    "_ = data(12, add_edge)\n",
    "\n",
    "nx.draw(data12)"
   ]
  },
  {
   "cell_type": "code",
   "execution_count": 34,
   "metadata": {},
   "outputs": [
    {
     "data": {
      "text/plain": [
       "5252"
      ]
     },
     "execution_count": 34,
     "metadata": {},
     "output_type": "execute_result"
    }
   ],
   "source": [
    "def day12(G: nx.Graph) -> int:\n",
    "  visited = set()\n",
    "  \n",
    "  def backtrack(node: str):\n",
    "    if node == 'start':\n",
    "      return 1\n",
    "    if node in visited:\n",
    "      return 0\n",
    "    if node[0].islower():\n",
    "      visited.add(node)\n",
    "    score = 0\n",
    "    for neighbor in G[node]:\n",
    "      score += backtrack(neighbor)\n",
    "    if node[0].islower():\n",
    "      visited.remove(node)\n",
    "    return score\n",
    "  return backtrack('end')\n",
    "\n",
    "day12(data12)"
   ]
  },
  {
   "cell_type": "code",
   "execution_count": 35,
   "metadata": {},
   "outputs": [
    {
     "data": {
      "text/plain": [
       "147784"
      ]
     },
     "execution_count": 35,
     "metadata": {},
     "output_type": "execute_result"
    }
   ],
   "source": [
    "def day12_2(G: nx.Graph) -> int:\n",
    "  visited = Counter()\n",
    "  \n",
    "  def backtrack(node: str, duplicate = None):\n",
    "    if node == 'start':\n",
    "      return 1\n",
    "    if visited[node] > 0:\n",
    "      if node == 'end' or duplicate:\n",
    "        return 0\n",
    "      duplicate = node\n",
    "    if node[0].islower():\n",
    "        visited[node] += 1\n",
    "    score = 0\n",
    "    for neighbor in G[node]:\n",
    "      score += backtrack(neighbor, duplicate)\n",
    "    if node[0].islower():\n",
    "      visited[node] -= 1\n",
    "    return score\n",
    "  return backtrack('end')\n",
    "\n",
    "day12_2(data12)"
   ]
  },
  {
   "cell_type": "markdown",
   "metadata": {},
   "source": [
    "## Day 13\n",
    "\n",
    "Array operations"
   ]
  },
  {
   "cell_type": "code",
   "execution_count": 36,
   "metadata": {},
   "outputs": [],
   "source": [
    "data13 = data(13)\n",
    "\n",
    "def format_data13(data: list[str]) -> tuple[tuple[int, int], tuple[str, int]]:\n",
    "  entries, folds = [], []\n",
    "  x_max, y_max = 0, 0\n",
    "  for entry in data:\n",
    "    if ',' in entry:\n",
    "      x, y = split_csv_row(entry)\n",
    "      x_max, y_max = max(x, x_max), max(y, y_max)\n",
    "      entries.append((x, y))\n",
    "    elif 'fold' in entry:\n",
    "      direction, position = entry.split('=')\n",
    "      folds.append((0 if direction[-1] == 'y' else 1, int(position)))\n",
    "\n",
    "  result = np.zeros((y_max + 1, x_max + 1), dtype=int)\n",
    "  for entry in entries:\n",
    "    result[entry[1], entry[0]] = 1\n",
    "  return result, folds"
   ]
  },
  {
   "cell_type": "code",
   "execution_count": 38,
   "metadata": {},
   "outputs": [
    {
     "data": {
      "text/plain": [
       "850"
      ]
     },
     "execution_count": 38,
     "metadata": {},
     "output_type": "execute_result"
    }
   ],
   "source": [
    "# These folds only work if the fold splits the array in half\n",
    "def fold_y(data: npt.ArrayLike, y: int) -> int:\n",
    "  a, b = data[:y], np.flip(data[y+1:], 0)\n",
    "  return a+b\n",
    "def fold_x(data: npt.ArrayLike, x: int) -> int:\n",
    "  a, b = data[:, :x], np.flip(data[:, x+1:], 1)\n",
    "  return a+b\n",
    "\n",
    "def fold(data: npt.ArrayLike, fold: tuple[int, int]) -> npt.ArrayLike:\n",
    "  return fold_y(data, fold[1]) if fold[0] == 0 else fold_x(data, fold[1])\n",
    "  \n",
    "def day13() -> int:\n",
    "  origami, folds = format_data13(data13)\n",
    "  for direction in folds:\n",
    "    origami = fold(origami, direction)\n",
    "    break\n",
    "  return np.count_nonzero(origami)\n",
    "\n",
    "day13()"
   ]
  },
  {
   "cell_type": "code",
   "execution_count": 39,
   "metadata": {},
   "outputs": [],
   "source": [
    "def day13_2() -> int:\n",
    "  origami, folds = format_data13(data13)\n",
    "  for direction in folds:\n",
    "    origami = fold(origami, direction)\n",
    "  result = np.where(origami > 0, '#', ' ')\n",
    "  return np.savetxt('output_day13.txt', result, fmt='%s')\n",
    "\n",
    "day13_2()"
   ]
  },
  {
   "cell_type": "markdown",
   "metadata": {},
   "source": [
    "## Day 14\n",
    "Another dp problem"
   ]
  },
  {
   "cell_type": "code",
   "execution_count": 26,
   "metadata": {},
   "outputs": [],
   "source": [
    "data14 = data(14)\n",
    "\n",
    "def format14(data: list[str]) -> tuple[str, dict[str, str]]:\n",
    "  sequence = data[0]\n",
    "  transitions = {input: output for input, output in (line.split(' -> ') for line in data[2:])}\n",
    "  return sequence, transitions"
   ]
  },
  {
   "cell_type": "code",
   "execution_count": 29,
   "metadata": {},
   "outputs": [
    {
     "data": {
      "text/plain": [
       "2435"
      ]
     },
     "execution_count": 29,
     "metadata": {},
     "output_type": "execute_result"
    }
   ],
   "source": [
    "def day14(days: int) -> int:\n",
    "  sequence, transitions = format14(data14) \n",
    "\n",
    "  @lru_cache(maxsize=None)\n",
    "  def transition(input: str, steps: int) -> str:\n",
    "    output = transitions[input]\n",
    "    if steps == 0:\n",
    "      return Counter(f'{input[0]}{output}')\n",
    "    return transition(f'{input[0]}{output}', steps - 1) + transition(f'{output}{input[1]}', steps - 1)\n",
    "      \n",
    "  def run_transition(input: str, steps: int) -> str:\n",
    "    new = Counter()\n",
    "    for i in range(1, len(input)):\n",
    "      new += transition(input[i-1:i+1], steps)\n",
    "    new[input[-1]] += 1\n",
    "    return new\n",
    "\n",
    "  counts = run_transition(sequence, days - 1).most_common()\n",
    "  return counts[0][1] - counts[-1][1]\n",
    "\n",
    "day14(10)"
   ]
  },
  {
   "cell_type": "code",
   "execution_count": 30,
   "metadata": {},
   "outputs": [
    {
     "data": {
      "text/plain": [
       "2587447599164"
      ]
     },
     "execution_count": 30,
     "metadata": {},
     "output_type": "execute_result"
    }
   ],
   "source": [
    "day14(40)"
   ]
  },
  {
   "cell_type": "markdown",
   "metadata": {},
   "source": [
    "## Day 15\n",
    "\n",
    "Dijkstra"
   ]
  },
  {
   "cell_type": "code",
   "execution_count": 106,
   "metadata": {},
   "outputs": [],
   "source": [
    "data15 = np.array(data(15, split_int_row))"
   ]
  },
  {
   "cell_type": "code",
   "execution_count": 160,
   "metadata": {},
   "outputs": [
    {
     "data": {
      "text/plain": [
       "621"
      ]
     },
     "execution_count": 160,
     "metadata": {},
     "output_type": "execute_result"
    }
   ],
   "source": [
    "# TODO: this is pretty slow, some optimization might be called for\n",
    "def generate_array_graph(data: npt.ArrayLike) -> nx.Graph:\n",
    "  graph = nx.DiGraph()\n",
    "  for i in range(data.shape[0]):\n",
    "    for j in range(data.shape[1]):\n",
    "      if i+1 < data.shape[0]:\n",
    "        graph.add_edge((i, j), (i+1, j), weight=data[i+1, j])\n",
    "        graph.add_edge((i+1, j), (i, j), weight=data[i, j])\n",
    "      if j+1 < data.shape[1]:\n",
    "        graph.add_edge((i, j), (i, j+1), weight=data[i, j+1])\n",
    "        graph.add_edge((i, j+1), (i, j), weight=data[i, j])\n",
    "  return graph\n",
    "\n",
    "def day15(data: npt.ArrayLike) -> int:\n",
    "  graph = generate_array_graph(data)\n",
    "  length = nx.algorithms.shortest_paths.weighted.dijkstra_path_length(graph, (0, 0), (data.shape[0]-1, data.shape[1]-1))\n",
    "  return length\n",
    "\n",
    "day15(data15)"
   ]
  },
  {
   "cell_type": "code",
   "execution_count": 161,
   "metadata": {},
   "outputs": [
    {
     "data": {
      "text/plain": [
       "2904"
      ]
     },
     "execution_count": 161,
     "metadata": {},
     "output_type": "execute_result"
    }
   ],
   "source": [
    "def wrap_general(start: int, end: int, num: int) -> int:\n",
    "  return start + (num - start) % (end - start)\n",
    "\n",
    "def wrap(num: int) -> int:\n",
    "  return wrap_general(1, 10, num)\n",
    "\n",
    "def expand_array(data: npt.ArrayLike) -> npt.ArrayLike:\n",
    "  temp = data.copy()\n",
    "  for i in range(1, 5):\n",
    "    temp = np.concatenate((temp, wrap(data + i)), axis=1)\n",
    "  result = temp.copy()\n",
    "  for i in range(1, 5):\n",
    "    result = np.concatenate((result, wrap(temp + i)), axis=0)\n",
    "  return result\n",
    "  \n",
    "day15(expand_array(data15))"
   ]
  },
  {
   "cell_type": "markdown",
   "metadata": {},
   "source": [
    "## Day 16\n",
    "\n",
    "Compiler/parsing stuff"
   ]
  },
  {
   "cell_type": "code",
   "execution_count": 214,
   "metadata": {},
   "outputs": [],
   "source": [
    "binary_map = {\n",
    "  '0': '0000',\n",
    "  '1': '0001',\n",
    "  '2': '0010',\n",
    "  '3': '0011',\n",
    "  '4': '0100',\n",
    "  '5': '0101',\n",
    "  '6': '0110',\n",
    "  '7': '0111',\n",
    "  '8': '1000',\n",
    "  '9': '1001',\n",
    "  'A': '1010',\n",
    "  'B': '1011',\n",
    "  'C': '1100',\n",
    "  'D': '1101',\n",
    "  'E': '1110',\n",
    "  'F': '1111',\n",
    "}\n",
    "\n",
    "data16 = ''.join([binary_map[x] for x in data(16)[0]])"
   ]
  },
  {
   "cell_type": "code",
   "execution_count": 220,
   "metadata": {},
   "outputs": [
    {
     "data": {
      "text/plain": [
       "957"
      ]
     },
     "execution_count": 220,
     "metadata": {},
     "output_type": "execute_result"
    }
   ],
   "source": [
    "def parse_packet(input: str):\n",
    "  version = parse_version(input[:3])\n",
    "  packet_type = parse_type(input[3:6])\n",
    "  output, remainder = parse_body(packet_type, input[6:])\n",
    "  return version, packet_type, output, remainder\n",
    "\n",
    "def parse_version(input: str):\n",
    "  return bin2int(input)\n",
    "\n",
    "def parse_type(input: str):\n",
    "  return bin2int(input)\n",
    "\n",
    "def parse_body(packet_type: int, input: str):\n",
    "  if packet_type == 4:\n",
    "    return parse_bits(input)\n",
    "  return parse_subpacket(input)\n",
    "\n",
    "def parse_subpacket(input: str):\n",
    "  length_type = input[0]\n",
    "  length_size = 16 if length_type == '0' else 12\n",
    "  length_bits, rest = input[1:length_size], input[length_size:]\n",
    "  length = parse_length(length_bits)\n",
    "  if length_size == 12:\n",
    "    return parse_subpackets_by_count(rest, length)\n",
    "  return parse_subpackets(rest[:length]), rest[length:]\n",
    "\n",
    "def parse_subpackets(input: str):\n",
    "  packets = []\n",
    "  while '1' in input:\n",
    "    version, packet_type, output, input = parse_packet(input)\n",
    "    packets.append((version, packet_type, output))\n",
    "  return packets\n",
    "\n",
    "def parse_subpackets_by_count(input: str, count: int):\n",
    "  packets = []\n",
    "  while len(packets) < count:\n",
    "    version, packet_type, output, input = parse_packet(input)\n",
    "    packets.append((version, packet_type, output))\n",
    "  return packets, input\n",
    "\n",
    "def parse_length(input: str):\n",
    "  return bin2int(input)\n",
    "\n",
    "def parse_bits(input: str):\n",
    "  result = ''\n",
    "  while input:\n",
    "    current, input = input[:5], input[5:]\n",
    "    result += current[1:]\n",
    "    if current[0] == '0':\n",
    "      break\n",
    "  return bin2int(result), input\n",
    "\n",
    "Packet = tuple[int, Union[list[\"Packet\"], int]]\n",
    "\n",
    "def expand_packet_versions(packet: Packet) -> list[int]:\n",
    "  version, body = packet[0], packet[2]\n",
    "  yield version\n",
    "  if type(body) is not int:\n",
    "    for subpacket in body:\n",
    "      version, _, packet = subpacket\n",
    "      yield from expand_packet_versions(subpacket)\n",
    "\n",
    "def day16(data: str) -> int:\n",
    "  packet = parse_packet(data)\n",
    "  return sum([x for x in expand_packet_versions(packet)])\n",
    "\n",
    "day16(data16)\n"
   ]
  },
  {
   "cell_type": "code",
   "execution_count": 221,
   "metadata": {},
   "outputs": [
    {
     "data": {
      "text/plain": [
       "744953223228"
      ]
     },
     "execution_count": 221,
     "metadata": {},
     "output_type": "execute_result"
    }
   ],
   "source": [
    "def evaluate_packet(packet: Packet) -> int:\n",
    "  packet_type, body = packet[1], packet[2]\n",
    "  match packet_type:\n",
    "    case 4:\n",
    "      return body\n",
    "    case 0:\n",
    "      return sum([evaluate_packet(subpacket) for subpacket in body])\n",
    "    case 1:\n",
    "      return np.prod([evaluate_packet(subpacket) for subpacket in body])\n",
    "    case 2:\n",
    "      return min([evaluate_packet(subpacket) for subpacket in body])\n",
    "    case 3:\n",
    "      return max([evaluate_packet(subpacket) for subpacket in body])\n",
    "    case 5:\n",
    "      a, b = evaluate_packet(body[0]), evaluate_packet(body[1])\n",
    "      return 1 if a > b else 0\n",
    "    case 6:\n",
    "      a, b = evaluate_packet(body[0]), evaluate_packet(body[1])\n",
    "      return 1 if a < b else 0\n",
    "    case 7:\n",
    "      a, b = evaluate_packet(body[0]), evaluate_packet(body[1])\n",
    "      return 1 if a == b else 0\n",
    "\n",
    "def day16_2(data: str) -> int:\n",
    "  packet = parse_packet(data)\n",
    "  return evaluate_packet(packet)\n",
    "\n",
    "day16_2(data16)"
   ]
  },
  {
   "cell_type": "markdown",
   "metadata": {},
   "source": [
    "## Day 17\n",
    "\n",
    "More triangular numbers and some kinematic equations with a = -1"
   ]
  },
  {
   "cell_type": "code",
   "execution_count": 16,
   "metadata": {},
   "outputs": [],
   "source": [
    "data17 = data(17)[0]"
   ]
  },
  {
   "cell_type": "code",
   "execution_count": 29,
   "metadata": {},
   "outputs": [
    {
     "data": {
      "text/plain": [
       "10296"
      ]
     },
     "execution_count": 29,
     "metadata": {},
     "output_type": "execute_result"
    }
   ],
   "source": [
    "Position = tuple[int, int]\n",
    "\n",
    "def format17(data: str) -> tuple[tuple[int, int]]:\n",
    "  pattern = re.compile('.+x=([0-9\\-]+)\\.\\.([0-9\\-]+), y=([0-9\\-]+)\\.\\.([0-9\\-]+)')\n",
    "  x1, x2, y1, y2 = pattern.match(data).groups()\n",
    "  return (int(x1), int(x2)), (int(y1), int(y2))\n",
    "\n",
    "\n",
    "def day17(data: str):\n",
    "  _, y = format17(data)\n",
    "  # Assume x is always positive and y is always negative\n",
    "  # Since the upward distance will be totally negated by gravity, what actually matters is the final step, which will be of distance -(y+1)\n",
    "  # This is equal to triangular_number(abs(y)-1), or equivalently triangular_number(y)\n",
    "  return triangular_number(y[0])\n",
    "\n",
    "day17(data17)\n"
   ]
  },
  {
   "cell_type": "code",
   "execution_count": 31,
   "metadata": {},
   "outputs": [
    {
     "data": {
      "text/plain": [
       "2371"
      ]
     },
     "execution_count": 31,
     "metadata": {},
     "output_type": "execute_result"
    }
   ],
   "source": [
    "def day17_2(data: str):\n",
    "  x, y = format17(data)\n",
    "\n",
    "  # Max x velocity is a single step shot to the end of the x-grid\n",
    "  vx_min, vx_max = 0, x[1]\n",
    "  # Min x velocity will be totally exhausted upon reaching the start of the x-grid\n",
    "  while triangular_number(vx_min) < x[0]:\n",
    "    vx_min += 1\n",
    "\n",
    "  # Min y velocity is a single step shot to the bottom of the y-grid (negative)\n",
    "  # Max y velocity is the result of part 1\n",
    "  vy_min, vy_max = y[0], abs(y[0]) - 1\n",
    "\n",
    "  def check_shot(vx: int, vy: int):\n",
    "    # Steps should be at least 1 when shooting downwards\n",
    "    # When shooting upwards, there will be y upward steps, 1 hanging step, y downward steps, and then at least one -(y+1) or greater step\n",
    "    steps = 1 if vy <= 0 else vy * 2 + 2\n",
    "    while True:\n",
    "      dx = (triangular_number(vx) - triangular_number(vx - steps)) if vx > steps else triangular_number(vx)\n",
    "      dy = triangular_number(vy) - triangular_number(vy - steps)\n",
    "      if dx > x[1] or dy < y[0]:\n",
    "        return False\n",
    "      if dx >= x[0] and dx <= x[1] and dy >= y[0] and dy <= y[1]:\n",
    "        return True\n",
    "      steps += 1\n",
    "\n",
    "  results = []\n",
    "  for vx in range(vx_min, vx_max + 1):\n",
    "    for vy in range(vy_min, vy_max + 1):\n",
    "      if check_shot(vx, vy):\n",
    "        results.append((vx, vy))\n",
    "\n",
    "  return len(results)\n",
    "\n",
    "day17_2(data17)"
   ]
  },
  {
   "cell_type": "markdown",
   "metadata": {},
   "source": [
    "## Day 18\n",
    "\n",
    "Unbalanced binary tree, hopping across leaves"
   ]
  },
  {
   "cell_type": "code",
   "execution_count": 4,
   "metadata": {},
   "outputs": [],
   "source": [
    "TreeList = tuple[Union[int, 'TreeList'], Union[int, 'TreeList']]\n",
    "data18 = data(18, json.loads)"
   ]
  },
  {
   "cell_type": "code",
   "execution_count": 7,
   "metadata": {},
   "outputs": [
    {
     "data": {
      "text/plain": [
       "4202"
      ]
     },
     "execution_count": 7,
     "metadata": {},
     "output_type": "execute_result"
    }
   ],
   "source": [
    "class BaseNode:\n",
    "  def __init__(self, parent: Optional[\"Node\"] = None, is_left: Optional[bool] = True):\n",
    "    self.is_left = is_left\n",
    "    self.parent = parent\n",
    "\n",
    "class Leaf(BaseNode):\n",
    "  def __init__(self, value: int, parent: Optional[\"Node\"] = None, is_left: Optional[bool] = True):\n",
    "    super().__init__(parent, is_left)\n",
    "    self.value = value\n",
    "\n",
    "class Node(BaseNode):\n",
    "  def __init__(self, left: Union[Leaf, 'Node'], right: Union[Leaf, 'Node'], parent: Optional[\"Node\"] = None, is_left: Optional[bool] = True):\n",
    "    super().__init__(parent, is_left)\n",
    "    self.left = left\n",
    "    left.is_left = True\n",
    "    self.right = right\n",
    "    right.is_left = False\n",
    "\n",
    "def make_leaf(node: Union[TreeList, int]):\n",
    "  if type(node) is int:\n",
    "    return Leaf(node)\n",
    "  return make_node(node)\n",
    "\n",
    "def make_node(data: TreeList, parent: Optional[\"Node\"] = None, is_left: Optional[bool] = True):\n",
    "  left, right = make_leaf(data[0]), make_leaf(data[1])\n",
    "  node = Node(left, right, parent, is_left)\n",
    "  left.parent, right.parent = node, node\n",
    "  return node\n",
    "\n",
    "def inorder(node: BaseNode):\n",
    "  if type(node) is Leaf:\n",
    "    yield node\n",
    "  else:\n",
    "    yield from inorder(node.left)\n",
    "    yield from inorder(node.right)\n",
    "\n",
    "def dfs(root: 'Tree'):\n",
    "  queue = deque([(root, 0)])\n",
    "  results = deque()\n",
    "  while queue:\n",
    "    node, depth = queue.popleft()\n",
    "    if type(node) is Leaf:\n",
    "      # TODO: figure how to get the desired output earlier\n",
    "      results.appendleft((node, depth))\n",
    "    else:\n",
    "      queue.append((node.right, depth+1))\n",
    "      queue.append((node.left, depth+1))\n",
    "  return results\n",
    "\n",
    "class Tree:\n",
    "  def __init__(self, data: list[int]):\n",
    "    self.root = make_node(data)\n",
    "\n",
    "  def add(self, data: list[int]):\n",
    "    node = make_node(data)\n",
    "    root = self.root\n",
    "    self.root = Node(root, node)\n",
    "    root.parent = self.root\n",
    "    node.parent = self.root\n",
    "    self.reduce()\n",
    "\n",
    "  def switch(self, node: BaseNode):\n",
    "    if node.is_left:\n",
    "      node.parent.left = node\n",
    "    else:\n",
    "      node.parent.right = node\n",
    "\n",
    "  def reduce(self):\n",
    "    changed = True\n",
    "    while changed:\n",
    "      changed = self.reduce_once()\n",
    "\n",
    "  def reduce_once(self):\n",
    "    # TODO: figure out ahead of time what the max depth size is\n",
    "    if self.explode():\n",
    "      return True\n",
    "    if self.split():\n",
    "      return True\n",
    "    return False\n",
    "\n",
    "  def explode(self):\n",
    "    leaves = list(inorder(self.root))\n",
    "    indices = {leaf: i for i, leaf in enumerate(inorder(self.root))}\n",
    "    for leaf, depth in dfs(self.root):\n",
    "      if depth <= 4:\n",
    "        continue\n",
    "      # Explode\n",
    "      index = indices[leaf]\n",
    "      # Note: due to order of dfs, the left child is always the first one\n",
    "      if index > 0:\n",
    "        leaves[index-1].value += leaf.value\n",
    "      # Note: if a node explodes, both its children are leaves\n",
    "      right = leaves[index+1]\n",
    "      if len(leaves) > index+2:\n",
    "        leaves[index+2].value += right.value\n",
    "      leaf.value, right.value = 0, 0\n",
    "      self.switch(Leaf(0, leaf.parent.parent, leaf.parent.is_left))\n",
    "      return True\n",
    "\n",
    "  def split(self):\n",
    "    for leaf in inorder(self.root):\n",
    "      if leaf.value < 10:\n",
    "        continue\n",
    "      # Split\n",
    "      left, right = leaf.value // 2, int(np.ceil(leaf.value/2))\n",
    "      node = make_node([left, right], leaf.parent, leaf.is_left)\n",
    "      self.switch(node)\n",
    "      return True\n",
    "\n",
    "def magnitude(node: Node) -> int:\n",
    "  left, right = node.left, node.right\n",
    "  left = magnitude(node.left) if type(node.left) is not Leaf else node.left.value\n",
    "  right = magnitude(node.right) if type(node.right) is not Leaf else node.right.value\n",
    "  return 3 * left + 2 * right\n",
    "\n",
    "def day18(data: list[TreeList]):\n",
    "  result = Tree(data[0])\n",
    "  for item in data[1:]:\n",
    "    result.add(item)\n",
    "  return magnitude(result.root)\n",
    "\n",
    "day18(data18)"
   ]
  },
  {
   "cell_type": "code",
   "execution_count": 100,
   "metadata": {},
   "outputs": [
    {
     "data": {
      "text/plain": [
       "4779"
      ]
     },
     "execution_count": 100,
     "metadata": {},
     "output_type": "execute_result"
    }
   ],
   "source": [
    "def get_combo(x: TreeList, y: TreeList):\n",
    "  result = Tree(x)\n",
    "  result.add(y)\n",
    "  return magnitude(result.root)\n",
    "\n",
    "def get_combo_size(x: TreeList, y: TreeList):\n",
    "  return max(get_combo(x, y), get_combo(y, x))\n",
    "\n",
    "def day18_2(data: list[TreeList]):\n",
    "  # Quite slow - could be optimized\n",
    "  return max([get_combo_size(x, y) for x, y in itertools.combinations(data, 2)])\n",
    "\n",
    "day18_2(data18)"
   ]
  },
  {
   "cell_type": "markdown",
   "metadata": {},
   "source": [
    "## Day 19"
   ]
  },
  {
   "cell_type": "code",
   "execution_count": 32,
   "metadata": {},
   "outputs": [],
   "source": [
    "Position = tuple[int, int, int]\n",
    "\n",
    "def format19(data: list[str]) -> list[list[Position]]:\n",
    "  scanners, scanner = [], []\n",
    "  for line in data:\n",
    "    if 'scanner' in line:\n",
    "      continue\n",
    "    if not line:\n",
    "      scanners.append(scanner)\n",
    "      scanner = []\n",
    "    else:\n",
    "      scanner.append(np.array([int(x) for x in line.split(',')]))\n",
    "  return scanners\n",
    "data19 = format19(data(19))"
   ]
  },
  {
   "cell_type": "code",
   "execution_count": 322,
   "metadata": {},
   "outputs": [
    {
     "name": "stdout",
     "output_type": "stream",
     "text": [
      "[[-1.  0. -0.]\n",
      " [-0.  1. -0.]\n",
      " [-0.  0. -1.]] [   68. -1246.   -43.]\n"
     ]
    }
   ],
   "source": [
    "def gen_distances(data: list[Position]) -> np.array:\n",
    "  distances = np.zeros((len(data), len(data)))\n",
    "  for i, j in itertools.combinations(range(len(data)), 2):\n",
    "    distance = np.linalg.norm(data[i] - data[j])\n",
    "    distances[i, j] = distance\n",
    "    distances[j, i] = distance\n",
    "  return distances\n",
    "\n",
    "def detect_collisions(a: np.array, b: np.array) -> np.array:\n",
    "  result = []\n",
    "  for i, target in enumerate(a):\n",
    "    for j, candidate in enumerate(b):\n",
    "      collisions = set(target).intersection(set(candidate))\n",
    "      if len(collisions) == 12:\n",
    "        result.append((i, j))\n",
    "  return result\n",
    "\n",
    "def determine_transformation(a: list[np.array], b: list[np.array], collisions: list[tuple[int, int]]) -> np.array:\n",
    "  Y = np.vstack([np.array(a[i[0]]) for i in collisions]).T\n",
    "  X = np.vstack([np.array(b[i[1]]) for i in collisions]).T\n",
    "  for signs in itertools.product([-1, 1], repeat=3):\n",
    "    r = np.identity(3)*np.array(signs)\n",
    "    # Note: this produces double the results - too lazy to fix\n",
    "    for x, y, z in itertools.permutations([0, 1, 2], 3):\n",
    "      rotation = np.array([r[x], r[y], r[z]])\n",
    "      rotated = rotation@X\n",
    "      translation = Y - rotated\n",
    "      if np.unique(translation).size <= 3:\n",
    "        return rotation, translation[:, 0]\n",
    "\n",
    "def day19(data: list):\n",
    "  a = data[0]\n",
    "  ad = gen_distances(a)\n",
    "  b = data[1]\n",
    "  bd = gen_distances(b)\n",
    "  collisions = detect_collisions(ad, bd)\n",
    "  rotation, translation = determine_transformation(a, b, collisions)\n",
    "\n",
    "  print(rotation, translation)\n",
    "  # for i, v, in enumerate(data):\n",
    "\n",
    "\n",
    "day19(data19)"
   ]
  }
 ],
 "metadata": {
  "interpreter": {
   "hash": "afbe5a8ba36a338952c60eef10b6c95614c86f7af75be44edfb1c9691ab6c108"
  },
  "kernelspec": {
   "display_name": "Python 3.8.10 64-bit ('.venv': poetry)",
   "language": "python",
   "name": "python3"
  },
  "language_info": {
   "codemirror_mode": {
    "name": "ipython",
    "version": 3
   },
   "file_extension": ".py",
   "mimetype": "text/x-python",
   "name": "python",
   "nbconvert_exporter": "python",
   "pygments_lexer": "ipython3",
   "version": "3.10.0"
  },
  "orig_nbformat": 4
 },
 "nbformat": 4,
 "nbformat_minor": 2
}
