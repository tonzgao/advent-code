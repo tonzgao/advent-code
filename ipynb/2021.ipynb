{
 "cells": [
  {
   "cell_type": "markdown",
   "metadata": {},
   "source": [
    "# [Advent of Code 2021](https://adventofcode.com/2021)\n",
    "\n",
    "Partially inspired by [Norvig's pytudes](https://github.com/norvig/pytudes/blob/main/ipynb/Advent-2020.ipynb), although I probably won't be using the same style.\n",
    "\n",
    "Goals\n",
    "------\n",
    "* Try to finish all gold stars on day of puzzle\n",
    "* Learn new python features\n",
    "* Investigate github copilot"
   ]
  },
  {
   "cell_type": "code",
   "execution_count": 1,
   "metadata": {},
   "outputs": [],
   "source": [
    "# Imports\n",
    "\n",
    "from collections import defaultdict, Counter, deque\n",
    "import itertools\n",
    "from functools import lru_cache\n",
    "import json\n",
    "import numpy as np\n",
    "import numpy.typing as npt\n",
    "import networkx as nx\n",
    "import re\n",
    "from scipy import spatial\n",
    "from sortedcontainers import SortedList\n",
    "from typing import Callable, TypeVar, Union, Optional\n",
    "\n",
    "T = TypeVar('T')\n",
    "\n",
    "# Helper functions\n",
    "\n",
    "def data(day: int, parser: Callable[[str], T] = str) -> list[T]:\n",
    "  with open(f\"../data/2021/day{day}.txt\") as f:\n",
    "    return [parser(line.strip()) for line in f.readlines()]\n",
    "\n",
    "def split_csv_row(row: str) -> list[int]:\n",
    "  return [int(x) for x in row.split(',')]\n",
    "\n",
    "def split_int_row(row: str) -> list[int]:\n",
    "  return [int(x) for x in row]\n",
    "\n",
    "def bin2int(l: Union[list[int], str]) -> int:\n",
    "  return int(\"\".join(str(i) for i in l), 2)\n",
    "\n",
    "def triangular_number(n: int) -> int:\n",
    "  return n * (n + 1) // 2\n",
    "\n",
    "def wrap_general(start: int, end: int, num: int) -> int:\n",
    "  return start + (num - start) % (end - start)"
   ]
  },
  {
   "cell_type": "markdown",
   "metadata": {},
   "source": [
    "## Day 1\n",
    "\n",
    "Determine number of increments in list"
   ]
  },
  {
   "cell_type": "code",
   "execution_count": 26,
   "metadata": {},
   "outputs": [],
   "source": [
    "data1 = data(1, int)"
   ]
  },
  {
   "cell_type": "code",
   "execution_count": 27,
   "metadata": {},
   "outputs": [
    {
     "data": {
      "text/plain": [
       "1688"
      ]
     },
     "execution_count": 27,
     "metadata": {},
     "output_type": "execute_result"
    }
   ],
   "source": [
    "def day1(data: list[int]) -> int:\n",
    "  count, current = 0, data[0]\n",
    "  for i in data[1:]:\n",
    "    if i > current:\n",
    "      count += 1\n",
    "    current = i\n",
    "  return count\n",
    "\n",
    "day1(data1)"
   ]
  },
  {
   "cell_type": "code",
   "execution_count": 28,
   "metadata": {},
   "outputs": [
    {
     "data": {
      "text/plain": [
       "1728"
      ]
     },
     "execution_count": 28,
     "metadata": {},
     "output_type": "execute_result"
    }
   ],
   "source": [
    "def win3(data: list[int]) -> list[int]:\n",
    "  for i in range(len(data) - 2):\n",
    "    yield sum(data[i:i+3])\n",
    "\n",
    "day1(list(win3(data1)))"
   ]
  },
  {
   "cell_type": "markdown",
   "metadata": {},
   "source": [
    "## Day 2\n",
    "\n",
    "Maintain sum of depth and length"
   ]
  },
  {
   "cell_type": "code",
   "execution_count": 29,
   "metadata": {},
   "outputs": [],
   "source": [
    "data2 = data(2)"
   ]
  },
  {
   "cell_type": "code",
   "execution_count": 30,
   "metadata": {},
   "outputs": [
    {
     "data": {
      "text/plain": [
       "1451208"
      ]
     },
     "execution_count": 30,
     "metadata": {},
     "output_type": "execute_result"
    }
   ],
   "source": [
    "def day2(data: list[str]) -> int:\n",
    "  depth, length = 0, 0\n",
    "  for i in data:\n",
    "    mode, amount = i.split(' ')\n",
    "    amount = int(amount)\n",
    "    match mode:\n",
    "      case 'forward':\n",
    "        length += amount\n",
    "      case 'down':\n",
    "        depth += amount\n",
    "      case 'up':\n",
    "        depth -= amount\n",
    "  return depth * length\n",
    "\n",
    "day2(data2)"
   ]
  },
  {
   "cell_type": "code",
   "execution_count": 31,
   "metadata": {},
   "outputs": [
    {
     "data": {
      "text/plain": [
       "1620141160"
      ]
     },
     "execution_count": 31,
     "metadata": {},
     "output_type": "execute_result"
    }
   ],
   "source": [
    "def day2_2(data: list[str]) -> int:\n",
    "  depth, length, aim = 0, 0, 0\n",
    "  for i in data:\n",
    "    mode, amount = i.split(' ')\n",
    "    amount = int(amount)\n",
    "    match mode:\n",
    "      case 'forward':\n",
    "        length += amount\n",
    "        depth += amount * aim\n",
    "      case 'down':\n",
    "        aim += amount\n",
    "      case 'up':\n",
    "        aim -= amount\n",
    "  return depth * length\n",
    "\n",
    "day2_2(data2)"
   ]
  },
  {
   "cell_type": "markdown",
   "metadata": {},
   "source": [
    "## Day 3\n",
    "\n",
    "Can probably be solved with bit tricks, but I'll just implement them as array problems."
   ]
  },
  {
   "cell_type": "code",
   "execution_count": 32,
   "metadata": {},
   "outputs": [],
   "source": [
    "data3 = data(3)"
   ]
  },
  {
   "cell_type": "code",
   "execution_count": 33,
   "metadata": {},
   "outputs": [
    {
     "data": {
      "text/plain": [
       "2954600"
      ]
     },
     "execution_count": 33,
     "metadata": {},
     "output_type": "execute_result"
    }
   ],
   "source": [
    "def day3(data: list[int]):\n",
    "  total = len(data)\n",
    "  size = len(data[0])\n",
    "  sums = [0] * size\n",
    "  for binary in data:\n",
    "    for i, v in enumerate(binary):\n",
    "      sums[i] += int(v)\n",
    "  \n",
    "  gamma = [0 if total - i > i else 1 for i in sums]\n",
    "  epsilon = [i ^ 1 for i in gamma]\n",
    "  return bin2int(gamma) * bin2int(epsilon)\n",
    "\n",
    "day3(data3)"
   ]
  },
  {
   "cell_type": "code",
   "execution_count": 34,
   "metadata": {},
   "outputs": [
    {
     "data": {
      "text/plain": [
       "1662846"
      ]
     },
     "execution_count": 34,
     "metadata": {},
     "output_type": "execute_result"
    }
   ],
   "source": [
    "def find_boundary(data: list[str], start: int, end: int, index: int) -> int:\n",
    "  # TODO: this can be implemented as binary search\n",
    "  for i, v in enumerate(data[start:end+1]):\n",
    "    if v[index] == '1':\n",
    "      return start + i\n",
    "  return start\n",
    "\n",
    "def scrubber(data: list[str], lcd: bool) -> int:\n",
    "  # Run \"binary search\"\n",
    "  low, high = 0, len(data) - 1\n",
    "  for target in range(len(data[0])):\n",
    "    index = low + ((high - low + 1) // 2)\n",
    "    item = data[index][target]\n",
    "\n",
    "    if lcd and item == '0':\n",
    "      # Select all '1's in the bottom half\n",
    "      low = find_boundary(data, index, high, target)\n",
    "    elif lcd and item == '1':\n",
    "      # Select all '0's in the top half\n",
    "      high = find_boundary(data, low, index, target) - 1\n",
    "    elif item == '0':\n",
    "      # Select all '0's from the top through to the bottom half\n",
    "      high = find_boundary(data, index, high, target) - 1\n",
    "    else:\n",
    "      # Select all '1' starting from the top half to the end\n",
    "      low = find_boundary(data, low, index, target)\n",
    "    \n",
    "    if low == high:\n",
    "      break\n",
    "\n",
    "  return data[low]\n",
    "\n",
    "def day3_2(data: list[str]) -> int:\n",
    "  data = sorted(data)\n",
    "  oxygen = scrubber(data, False)\n",
    "  c02 = scrubber(data, True)\n",
    "  return bin2int(oxygen) * bin2int(c02)\n",
    "\n",
    "day3_2(data3)"
   ]
  },
  {
   "cell_type": "markdown",
   "metadata": {},
   "source": [
    "## Day 4\n",
    "Reference storing Bingo Boards"
   ]
  },
  {
   "cell_type": "code",
   "execution_count": 35,
   "metadata": {},
   "outputs": [],
   "source": [
    "data4 = data(4)\n",
    "\n",
    "class BingoBoard:\n",
    "  def __init__(self):\n",
    "    self.board = []\n",
    "    self.size = 0\n",
    "    # TODO: this state should be stored elsewhere\n",
    "    self.rows = []\n",
    "    self.cols = []\n",
    "    \n",
    "  def add_row(self, row: list[int]):\n",
    "    self.board.append(row)\n",
    "    if not self.size:\n",
    "      self.size = len(row)\n",
    "      self.rows = [0] * self.size\n",
    "      # Assume column size is same as row size\n",
    "      self.cols = [0] * self.size\n",
    "\n",
    "def parse_data4(data: list[str]) -> tuple[list[int], list[BingoBoard]]:\n",
    "  numbers = [int(x) for x in data[0].split(',')]\n",
    "  boards, board = [], None\n",
    "  for row in data[1:]:\n",
    "    if row == '':\n",
    "      board = BingoBoard()\n",
    "      boards.append(board)\n",
    "    else:\n",
    "      board.add_row([int(x) for x in re.split('\\s+', row)])\n",
    "  return numbers, boards\n",
    "\n",
    "def analyze_boards(boards: list[BingoBoard]) -> dict[list[tuple[int,int,BingoBoard]]]:\n",
    "  # For each number, store the row and column with every board it was found in\n",
    "  keys = defaultdict(lambda: [])\n",
    "  for board in boards:\n",
    "    for i, row in enumerate(board.board):\n",
    "      for j, v in enumerate(row):\n",
    "        keys[v].append((i, j, board))\n",
    "  return keys"
   ]
  },
  {
   "cell_type": "code",
   "execution_count": 36,
   "metadata": {},
   "outputs": [
    {
     "data": {
      "text/plain": [
       "35711"
      ]
     },
     "execution_count": 36,
     "metadata": {},
     "output_type": "execute_result"
    }
   ],
   "source": [
    "def calculate_score(board: BingoBoard, numbers: set[int]) -> int:\n",
    "  score = 0\n",
    "  for row in board.board:\n",
    "    for v in row:\n",
    "      if v not in numbers:\n",
    "        score += v\n",
    "  return score\n",
    "\n",
    "def day4(data: list[str]) -> int:\n",
    "  numbers, boards = parse_data4(data)  \n",
    "  keys = analyze_boards(boards)\n",
    "  selected = set()\n",
    "  for number in numbers:\n",
    "    if number in selected:\n",
    "      continue\n",
    "    selected.add(number)\n",
    "    for i, j, board in keys[number]:\n",
    "      board.rows[i] += 1\n",
    "      board.cols[j] += 1\n",
    "      if board.size == board.rows[i] or board.size == board.cols[j]:\n",
    "        return calculate_score(board, selected) * number\n",
    "\n",
    "day4(data4)"
   ]
  },
  {
   "cell_type": "code",
   "execution_count": 37,
   "metadata": {},
   "outputs": [
    {
     "data": {
      "text/plain": [
       "5586"
      ]
     },
     "execution_count": 37,
     "metadata": {},
     "output_type": "execute_result"
    }
   ],
   "source": [
    "def retroactive_selected(inputs: list[int], end: int) -> int:\n",
    "  index = inputs.index(end) + 1\n",
    "  return set(inputs[:index])\n",
    "\n",
    "def day4_2(data: list[str]) -> int:\n",
    "  numbers, boards = parse_data4(data)  \n",
    "  keys = analyze_boards(boards)\n",
    "  selected = set()\n",
    "  completed, last_winner, last_num = set(), None, 0\n",
    "  for number in numbers:\n",
    "    if number in selected:\n",
    "      continue\n",
    "    selected.add(number)\n",
    "    for i, j, board in keys[number]:\n",
    "      if board in completed:\n",
    "        continue\n",
    "      board.rows[i] += 1\n",
    "      board.cols[j] += 1\n",
    "      if board.size == board.rows[i] or board.size == board.cols[j]:\n",
    "        completed.add(board)\n",
    "        last_winner, last_num = board, number\n",
    "  return calculate_score(last_winner, retroactive_selected(numbers, last_num)) * last_num\n",
    "\n",
    "day4_2(data4)"
   ]
  },
  {
   "cell_type": "markdown",
   "metadata": {},
   "source": [
    "## Day 5\n",
    "\n",
    "Some possible ideas for solutions: \n",
    "1. use vector products between each pair (n^2) and remove duplicates somehow\n",
    "2. use a 2-d interval tree and detect where sums on a point are greater than 1\n",
    "3. fill a 2-d grid and iterate through points\n",
    "\n",
    "Implementing with idea 3 for now, since size of grid is small relative to number of lines"
   ]
  },
  {
   "cell_type": "code",
   "execution_count": 38,
   "metadata": {},
   "outputs": [],
   "source": [
    "Line = tuple[tuple[int, int], tuple[int, int]]\n",
    "\n",
    "def parse5(line: str) -> list[Line]:\n",
    "  result = re.split('[\\s,]', line)\n",
    "  return (\n",
    "    (int(result[0]), int(result[3])), # xs\n",
    "    (int(result[1]), int(result[4])) # ys\n",
    "  )\n",
    "\n",
    "data5 = data(5, parse5)"
   ]
  },
  {
   "cell_type": "code",
   "execution_count": 39,
   "metadata": {},
   "outputs": [
    {
     "data": {
      "text/plain": [
       "4728"
      ]
     },
     "execution_count": 39,
     "metadata": {},
     "output_type": "execute_result"
    }
   ],
   "source": [
    "class BaseHydroVents:\n",
    "  def __init__(self, size: int) -> None:\n",
    "    self.grid = np.zeros([size, size])\n",
    "\n",
    "  def add_line(self, line: Line) -> None:\n",
    "    if line[0][0] == line[0][1]:\n",
    "      self.add_vertical_line(sorted(line[1]), line[0][0])\n",
    "    elif line[1][0] == line[1][1]:\n",
    "      self.add_horizontal_line(sorted(line[0]), line[1][0])\n",
    "    else:\n",
    "      self.add_diagonal_line(line)\n",
    "\n",
    "  def add_diagonal_line(self, line: Line) -> None:\n",
    "    # Stub\n",
    "    return\n",
    "\n",
    "  def add_horizontal_line(self, xs: tuple[int, int], y: int) -> None:\n",
    "    for x in range(xs[0], xs[1] + 1):\n",
    "      self.grid[y][x] += 1\n",
    "\n",
    "  def add_vertical_line(self, ys: tuple[int, int], x: int) -> None:\n",
    "    for y in range(ys[0], ys[1] + 1):\n",
    "      self.grid[y][x] += 1\n",
    "\n",
    "def max_vent_point(data: list[Line]) -> int:\n",
    "  return max([max(max(x[0]), max(x[1])) for x in data])\n",
    "\n",
    "def day5(data: list[Line]) -> int:\n",
    "  size = max_vent_point(data) + 1\n",
    "  vents = BaseHydroVents(size)\n",
    "  for line in data:\n",
    "    vents.add_line(line)\n",
    "  mask = vents.grid > 1\n",
    "  return np.count_nonzero(mask)\n",
    "\n",
    "day5(data5)\n"
   ]
  },
  {
   "cell_type": "code",
   "execution_count": 40,
   "metadata": {},
   "outputs": [
    {
     "data": {
      "text/plain": [
       "17717"
      ]
     },
     "execution_count": 40,
     "metadata": {},
     "output_type": "execute_result"
    }
   ],
   "source": [
    "class HydroVents (BaseHydroVents):\n",
    "  def __init__(self, size: int) -> None:\n",
    "    self.grid = np.zeros([size, size])\n",
    "\n",
    "  def add_diagonal_line(self, line: Line) -> None:\n",
    "    # Only supports 45 degree lines\n",
    "    xs, ys = line[0], line[1]\n",
    "    dx = 1 if xs[1] > xs[0] else -1\n",
    "    dy = 1 if ys[1] > ys[0] else -1\n",
    "    length = abs(xs[1] - xs[0]) + 1\n",
    "    for i in range(length):\n",
    "      self.grid[ys[0] + dy * i][xs[0] + dx * i] += 1\n",
    "\n",
    "def day5_2(data: list[Line]) -> int:\n",
    "  size = max_vent_point(data) + 1\n",
    "  vents = HydroVents(size)\n",
    "  for line in data:\n",
    "    vents.add_line(line)\n",
    "  mask = vents.grid > 1\n",
    "  return np.count_nonzero(mask)\n",
    "\n",
    "day5_2(data5)\n"
   ]
  },
  {
   "cell_type": "markdown",
   "metadata": {},
   "source": [
    "## Day 6\n",
    "\n",
    "Seems like a DP problem"
   ]
  },
  {
   "cell_type": "code",
   "execution_count": 22,
   "metadata": {},
   "outputs": [],
   "source": [
    "data6 = data(6, split_csv_row)[0]"
   ]
  },
  {
   "cell_type": "code",
   "execution_count": 23,
   "metadata": {},
   "outputs": [
    {
     "data": {
      "text/plain": [
       "394994"
      ]
     },
     "execution_count": 23,
     "metadata": {},
     "output_type": "execute_result"
    }
   ],
   "source": [
    "@lru_cache(None)\n",
    "def spawns6(days: int):\n",
    "  if days < 6:\n",
    "    return 1\n",
    "  return spawns6(days-7) + spawns8(days-7)\n",
    "\n",
    "@lru_cache(None)\n",
    "def spawns8(days: int):\n",
    "  if days < 8:\n",
    "    return 1\n",
    "  return spawns6(days-9) + spawns8(days-9)\n",
    "\n",
    "def day6(data: list[int], days: int) -> int:\n",
    "  result = [spawns6(days + 6 - i) for i in data]\n",
    "  return sum(result)\n",
    "\n",
    "day6(data6, 79)"
   ]
  },
  {
   "cell_type": "code",
   "execution_count": 24,
   "metadata": {},
   "outputs": [
    {
     "data": {
      "text/plain": [
       "1765974267455"
      ]
     },
     "execution_count": 24,
     "metadata": {},
     "output_type": "execute_result"
    }
   ],
   "source": [
    "day6(data6, 255)"
   ]
  },
  {
   "cell_type": "markdown",
   "metadata": {},
   "source": [
    "## Day 7\n",
    "\n",
    "Minimize v-shaped curve $ |F(c)| $ where $ A - c = F $"
   ]
  },
  {
   "cell_type": "code",
   "execution_count": 25,
   "metadata": {},
   "outputs": [],
   "source": [
    "data7 = data(7, split_csv_row)[0]"
   ]
  },
  {
   "cell_type": "code",
   "execution_count": 26,
   "metadata": {},
   "outputs": [
    {
     "data": {
      "text/plain": [
       "343605"
      ]
     },
     "execution_count": 26,
     "metadata": {},
     "output_type": "execute_result"
    }
   ],
   "source": [
    "CostFunction7 = Callable[[npt.ArrayLike], int]\n",
    "def fuel_used(input: npt.ArrayLike) -> int:\n",
    "  return np.sum(np.abs(input))\n",
    "\n",
    "def deltas(input: npt.ArrayLike, current: int, cost: CostFunction7) -> tuple[int, int, int]:\n",
    "  y = cost(input - current)\n",
    "  left = cost(input - current - 1)\n",
    "  right = cost(input - current + 1)\n",
    "  return left, y, right\n",
    "\n",
    "# TODO: could use scipy.optimize.minimize instead\n",
    "def bsearch7(input: npt.ArrayLike, low: int, high: int, cost: CostFunction7) -> int:\n",
    "  while low < high:\n",
    "    mid = (low + high) // 2\n",
    "    left, y, right = deltas(input, mid, cost)\n",
    "    if left < y:\n",
    "      low = mid + 1\n",
    "    elif right < y:\n",
    "      high = mid\n",
    "    else:\n",
    "      low, high = mid, mid\n",
    "  return mid\n",
    "\n",
    "def day7(data: list[int], cost: CostFunction7) -> int:\n",
    "  input = np.array(data)\n",
    "  hmin, hmax = np.min(input), np.max(input)\n",
    "  result = bsearch7(input, hmin, hmax, cost)\n",
    "  return cost(input - result)\n",
    "\n",
    "day7(data7, fuel_used)"
   ]
  },
  {
   "cell_type": "code",
   "execution_count": 27,
   "metadata": {},
   "outputs": [
    {
     "data": {
      "text/plain": [
       "96744904"
      ]
     },
     "execution_count": 27,
     "metadata": {},
     "output_type": "execute_result"
    }
   ],
   "source": [
    "def fuel_used2(input: npt.ArrayLike) -> int:\n",
    "  return np.sum(triangular_number(np.abs(input)))\n",
    "\n",
    "day7(data7, fuel_used2)"
   ]
  },
  {
   "cell_type": "markdown",
   "metadata": {},
   "source": [
    "## Day 8\n",
    "\n",
    "Set intersections"
   ]
  },
  {
   "cell_type": "code",
   "execution_count": 28,
   "metadata": {},
   "outputs": [],
   "source": [
    "data8 = data(8)"
   ]
  },
  {
   "cell_type": "code",
   "execution_count": 29,
   "metadata": {},
   "outputs": [
    {
     "data": {
      "text/plain": [
       "383"
      ]
     },
     "execution_count": 29,
     "metadata": {},
     "output_type": "execute_result"
    }
   ],
   "source": [
    "Knowns9 = dict[int, set[str]]\n",
    "\n",
    "items_by_length = defaultdict(lambda: None, {\n",
    "  2: 1,\n",
    "  3: 7,\n",
    "  4: 4,\n",
    "  7: 8\n",
    "})\n",
    "def disambiguate6(item: set[str], knowns: Knowns9) -> int:\n",
    "    if knowns[1] - item:\n",
    "      return 6\n",
    "    elif not knowns[4] - item:\n",
    "      return 9\n",
    "    else:\n",
    "      return 0\n",
    "def disambiguate5(item: set[str], knowns: Knowns9) -> int:\n",
    "    if not knowns[7] - item:\n",
    "      return 3\n",
    "    elif len(knowns[6] - item) == 1:\n",
    "      return 5\n",
    "    else:\n",
    "      return 2\n",
    "\n",
    "def group_items(data: list[str]) -> tuple[Knowns9]:\n",
    "  knowns = {}\n",
    "  unknowns = []\n",
    "  for i in data:\n",
    "    item = set(i)\n",
    "    match len(item):\n",
    "      case 6:\n",
    "        unknowns.append(item)\n",
    "      case _:\n",
    "        knowns[items_by_length[len(item)]] = item\n",
    "  for item in unknowns:\n",
    "    knowns[disambiguate6(item, knowns)] = item\n",
    "  # Disambiguate5 not required to be run, we can do that while decoding the output\n",
    "  return knowns\n",
    "\n",
    "def parse_line(line: str) -> str:\n",
    "  input, output = tuple(group.split(' ') for group in line.split(' | '))\n",
    "  knowns = group_items(input)\n",
    "  for i in output:\n",
    "    item = set(i)\n",
    "    match len(item):\n",
    "      case 5:\n",
    "        yield disambiguate5(item, knowns)\n",
    "      case 6:\n",
    "        yield disambiguate6(item, knowns)\n",
    "      case _:\n",
    "        yield items_by_length[len(item)]\n",
    "\n",
    "# Overly complicated way to do what's required, but it's pretty clear what's coming in part 2\n",
    "def day8(data: list[str]) -> int:\n",
    "  count = 0\n",
    "  targets = items_by_length.values()\n",
    "  for line in data:\n",
    "    result = parse_line(line)\n",
    "    for number in result:\n",
    "      if number in targets:\n",
    "        count += 1\n",
    "  return count\n",
    "\n",
    "day8(data8)"
   ]
  },
  {
   "cell_type": "code",
   "execution_count": 30,
   "metadata": {},
   "outputs": [
    {
     "data": {
      "text/plain": [
       "998900"
      ]
     },
     "execution_count": 30,
     "metadata": {},
     "output_type": "execute_result"
    }
   ],
   "source": [
    "def day8_2(data: list[str]) -> int:\n",
    "  total = 0\n",
    "  for line in data:\n",
    "    result = parse_line(line)\n",
    "    total += int(''.join(str(i) for i in result))\n",
    "  return total\n",
    "\n",
    "day8_2(data8)"
   ]
  },
  {
   "cell_type": "markdown",
   "metadata": {},
   "source": [
    "## Day 9\n",
    "* Part 1: numpy array masking\n",
    "* Part 2: Recursive search from results of part 1"
   ]
  },
  {
   "cell_type": "code",
   "execution_count": 31,
   "metadata": {},
   "outputs": [],
   "source": [
    "data9 = np.array(data(9, split_int_row))"
   ]
  },
  {
   "cell_type": "code",
   "execution_count": 32,
   "metadata": {},
   "outputs": [
    {
     "data": {
      "text/plain": [
       "508"
      ]
     },
     "execution_count": 32,
     "metadata": {},
     "output_type": "execute_result"
    }
   ],
   "source": [
    "def get_basins(data: npt.ArrayLike) -> npt.ArrayLike:\n",
    "  zero_row, zero_col = np.full((1, data.shape[1]), 10), np.full((data.shape[0], 1), 10)\n",
    "  a = np.concatenate((data[1:], zero_row))\n",
    "  b = np.concatenate((zero_row, data[:-1]))\n",
    "  c = np.concatenate((data[:, 1:], zero_col), axis=1)\n",
    "  d = np.concatenate((zero_col, data[:, :-1]), axis=1)\n",
    "\n",
    "  mask = (data - a < 0) & (data - b < 0) & (data - c < 0) & (data - d < 0)\n",
    "  indices = np.where(mask)\n",
    "  return [(index[1], index[0]) for index in zip(indices[0], indices[1])]\n",
    "\n",
    "def day9(data: npt.ArrayLike) -> int:\n",
    "  basins = get_basins(data)\n",
    "  return sum([data[y][x] for x, y in basins]) + len(basins)\n",
    "\n",
    "day9(data9)"
   ]
  },
  {
   "cell_type": "code",
   "execution_count": 33,
   "metadata": {},
   "outputs": [
    {
     "data": {
      "text/plain": [
       "1564640"
      ]
     },
     "execution_count": 33,
     "metadata": {},
     "output_type": "execute_result"
    }
   ],
   "source": [
    "def day9_2(data: npt.ArrayLike) -> int:\n",
    "  claimed = set()\n",
    "  size = data9.shape\n",
    "\n",
    "  def claim(x: int, y: int) -> int:\n",
    "    if x < 0 or y < 0 or x >= size[1] or y >= size[0]:\n",
    "      return 0\n",
    "    if (x, y) in claimed:\n",
    "      return 0\n",
    "    if data[y][x] == 9:\n",
    "      return 0\n",
    "    claimed.add((x, y))\n",
    "    return 1 + claim(x+1, y) + claim(x-1, y) + claim(x, y+1) + claim(x, y - 1)\n",
    "\n",
    "  basins = [] # TODO: use 3-heap instead\n",
    "  for (x, y) in get_basins(data):\n",
    "    if basin_size := claim(x, y):\n",
    "      basins.append(basin_size)\n",
    "  return np.prod(sorted(basins, reverse=True)[:3])\n",
    "\n",
    "day9_2(data9)"
   ]
  },
  {
   "cell_type": "markdown",
   "metadata": {},
   "source": [
    "## Day 10\n",
    "Stack stuff"
   ]
  },
  {
   "cell_type": "code",
   "execution_count": 34,
   "metadata": {},
   "outputs": [],
   "source": [
    "data10 = data(10)"
   ]
  },
  {
   "cell_type": "code",
   "execution_count": 35,
   "metadata": {},
   "outputs": [
    {
     "data": {
      "text/plain": [
       "319233"
      ]
     },
     "execution_count": 35,
     "metadata": {},
     "output_type": "execute_result"
    }
   ],
   "source": [
    "opens = {\n",
    "  '(': ')',\n",
    "  '[': ']',\n",
    "  '{': '}',\n",
    "  '<': '>',\n",
    "}\n",
    "error_scores = {\n",
    "  ')': 3,\n",
    "  ']': 57,\n",
    "  '}': 1197,\n",
    "  '>': 25137,\n",
    "}\n",
    "\n",
    "def handle_line10(line: str) -> str:\n",
    "  stack = []\n",
    "  for i in line:\n",
    "    if i in opens:\n",
    "      stack.append(i)\n",
    "    elif opens[stack[-1]] == i:\n",
    "      stack.pop()\n",
    "    else:\n",
    "      return i\n",
    "  return stack\n",
    "\n",
    "def day10(data: list[str]) -> int:\n",
    "  lines = ([handle_line10(line) for line in data])\n",
    "  errors = Counter([line for line in lines if type(line) is str])\n",
    "  return sum(error_scores[i] * errors[i] for i in errors)\n",
    "\n",
    "day10(data10)"
   ]
  },
  {
   "cell_type": "code",
   "execution_count": 36,
   "metadata": {},
   "outputs": [
    {
     "data": {
      "text/plain": [
       "1118976874"
      ]
     },
     "execution_count": 36,
     "metadata": {},
     "output_type": "execute_result"
    }
   ],
   "source": [
    "closing_scores = {\n",
    "  ')': 1,\n",
    "  ']': 2,\n",
    "  '}': 3,\n",
    "  '>': 4,\n",
    "}\n",
    "\n",
    "def closing_score(close: list[str]) -> int:\n",
    "  score = 0\n",
    "  for i in reversed(close):\n",
    "    score = score * 5 + closing_scores[opens[i]]\n",
    "  return score\n",
    "\n",
    "def day10_2(data: list[str]) -> int:\n",
    "  lines = ([handle_line10(line) for line in data])\n",
    "  scores = [closing_score(line) for line in lines if type(line) is list]\n",
    "  mid = len(scores) // 2\n",
    "  return sorted(scores)[mid]\n",
    "\n",
    "day10_2(data10)"
   ]
  },
  {
   "cell_type": "markdown",
   "metadata": {},
   "source": [
    "## Day 11\n",
    "Array operations"
   ]
  },
  {
   "cell_type": "code",
   "execution_count": 37,
   "metadata": {},
   "outputs": [],
   "source": [
    "data11 = np.array(data(11, split_int_row))"
   ]
  },
  {
   "cell_type": "code",
   "execution_count": 38,
   "metadata": {},
   "outputs": [
    {
     "data": {
      "text/plain": [
       "1719"
      ]
     },
     "execution_count": 38,
     "metadata": {},
     "output_type": "execute_result"
    }
   ],
   "source": [
    "def run_flashes(data: npt.ArrayLike, flashed: set[int], size: tuple[int, int], debug = False) -> bool:\n",
    "  changed = False\n",
    "  for i in reversed(np.argsort(data.flatten())):\n",
    "    x, y = i % size[1], i // size[1]\n",
    "    if data[y][x] > 9 and i not in flashed:\n",
    "      for index in itertools.product([x-1, x, x+1], [y-1, y, y+1]):\n",
    "        if index[0] == x and index[1] == y:\n",
    "          continue\n",
    "        if index[0] < 0 or index[0] >= size[1]:\n",
    "          continue\n",
    "        if index[1] < 0 or index[1] >= size[0]:\n",
    "          continue\n",
    "        data[index[1]][index[0]] += 1\n",
    "      flashed.add(i)\n",
    "      changed = True\n",
    "  return changed\n",
    "\n",
    "def check_flashes(data: npt.ArrayLike, size: tuple[int, int], debug = False) -> set[int]:\n",
    "  flashed = set()\n",
    "  changed = True\n",
    "  data += 1\n",
    "  while changed:\n",
    "    changed = run_flashes(data, flashed, size, debug)\n",
    "  np.put(data, list(flashed), [0])\n",
    "  return flashed\n",
    "\n",
    "def day11(data: npt.ArrayLike) -> int:\n",
    "  flashes = 0\n",
    "  size = data.shape\n",
    "  current = data.copy()\n",
    "  for _ in range(100):\n",
    "    flashes += len(check_flashes(current, size))\n",
    "  return flashes\n",
    "\n",
    "day11(data11)  "
   ]
  },
  {
   "cell_type": "code",
   "execution_count": 39,
   "metadata": {},
   "outputs": [
    {
     "data": {
      "text/plain": [
       "232"
      ]
     },
     "execution_count": 39,
     "metadata": {},
     "output_type": "execute_result"
    }
   ],
   "source": [
    "def day11_2(data: npt.ArrayLike) -> int:\n",
    "  size = data.shape\n",
    "  current = data.copy()\n",
    "  for i in range(10000):\n",
    "    check_flashes(current, size)\n",
    "    if np.sum(current) == 0:\n",
    "      return i + 1\n",
    "  raise Exception('Too few iterations')\n",
    "\n",
    "day11_2(data11)"
   ]
  },
  {
   "cell_type": "markdown",
   "metadata": {},
   "source": [
    "## Day 12\n",
    "\n",
    "Some graph stuff"
   ]
  },
  {
   "cell_type": "code",
   "execution_count": 40,
   "metadata": {},
   "outputs": [
    {
     "data": {
      "image/png": "[encoded data removed]",
      "text/plain": [
       "<Figure size 432x288 with 1 Axes>"
      ]
     },
     "metadata": {},
     "output_type": "display_data"
    }
   ],
   "source": [
    "data12 = nx.Graph()\n",
    "\n",
    "def add_edge(line: str):\n",
    "  a, b = line.split('-')\n",
    "  data12.add_edge(a, b)\n",
    "_ = data(12, add_edge)\n",
    "\n",
    "nx.draw(data12)"
   ]
  },
  {
   "cell_type": "code",
   "execution_count": 41,
   "metadata": {},
   "outputs": [
    {
     "data": {
      "text/plain": [
       "5252"
      ]
     },
     "execution_count": 41,
     "metadata": {},
     "output_type": "execute_result"
    }
   ],
   "source": [
    "def day12(G: nx.Graph) -> int:\n",
    "  visited = set()\n",
    "  \n",
    "  def backtrack(node: str):\n",
    "    if node == 'start':\n",
    "      return 1\n",
    "    if node in visited:\n",
    "      return 0\n",
    "    if node[0].islower():\n",
    "      visited.add(node)\n",
    "    score = 0\n",
    "    for neighbor in G[node]:\n",
    "      score += backtrack(neighbor)\n",
    "    if node[0].islower():\n",
    "      visited.remove(node)\n",
    "    return score\n",
    "  return backtrack('end')\n",
    "\n",
    "day12(data12)"
   ]
  },
  {
   "cell_type": "code",
   "execution_count": 42,
   "metadata": {},
   "outputs": [
    {
     "data": {
      "text/plain": [
       "147784"
      ]
     },
     "execution_count": 42,
     "metadata": {},
     "output_type": "execute_result"
    }
   ],
   "source": [
    "def day12_2(G: nx.Graph) -> int:\n",
    "  visited = Counter()\n",
    "  \n",
    "  def backtrack(node: str, duplicate = None):\n",
    "    if node == 'start':\n",
    "      return 1\n",
    "    if visited[node] > 0:\n",
    "      if node == 'end' or duplicate:\n",
    "        return 0\n",
    "      duplicate = node\n",
    "    if node[0].islower():\n",
    "        visited[node] += 1\n",
    "    score = 0\n",
    "    for neighbor in G[node]:\n",
    "      score += backtrack(neighbor, duplicate)\n",
    "    if node[0].islower():\n",
    "      visited[node] -= 1\n",
    "    return score\n",
    "  return backtrack('end')\n",
    "\n",
    "day12_2(data12)"
   ]
  },
  {
   "cell_type": "markdown",
   "metadata": {},
   "source": [
    "## Day 13\n",
    "\n",
    "Array operations"
   ]
  },
  {
   "cell_type": "code",
   "execution_count": 43,
   "metadata": {},
   "outputs": [],
   "source": [
    "data13 = data(13)\n",
    "\n",
    "def format_data13(data: list[str]) -> tuple[tuple[int, int], tuple[str, int]]:\n",
    "  entries, folds = [], []\n",
    "  x_max, y_max = 0, 0\n",
    "  for entry in data:\n",
    "    if ',' in entry:\n",
    "      x, y = split_csv_row(entry)\n",
    "      x_max, y_max = max(x, x_max), max(y, y_max)\n",
    "      entries.append((x, y))\n",
    "    elif 'fold' in entry:\n",
    "      direction, position = entry.split('=')\n",
    "      folds.append((0 if direction[-1] == 'y' else 1, int(position)))\n",
    "\n",
    "  result = np.zeros((y_max + 1, x_max + 1), dtype=int)\n",
    "  for entry in entries:\n",
    "    result[entry[1], entry[0]] = 1\n",
    "  return result, folds"
   ]
  },
  {
   "cell_type": "code",
   "execution_count": 44,
   "metadata": {},
   "outputs": [
    {
     "data": {
      "text/plain": [
       "850"
      ]
     },
     "execution_count": 44,
     "metadata": {},
     "output_type": "execute_result"
    }
   ],
   "source": [
    "# These folds only work if the fold splits the array in half\n",
    "def fold_y(data: npt.ArrayLike, y: int) -> int:\n",
    "  a, b = data[:y], np.flip(data[y+1:], 0)\n",
    "  return a+b\n",
    "def fold_x(data: npt.ArrayLike, x: int) -> int:\n",
    "  a, b = data[:, :x], np.flip(data[:, x+1:], 1)\n",
    "  return a+b\n",
    "\n",
    "def fold(data: npt.ArrayLike, fold: tuple[int, int]) -> npt.ArrayLike:\n",
    "  return fold_y(data, fold[1]) if fold[0] == 0 else fold_x(data, fold[1])\n",
    "  \n",
    "def day13() -> int:\n",
    "  origami, folds = format_data13(data13)\n",
    "  for direction in folds:\n",
    "    origami = fold(origami, direction)\n",
    "    break\n",
    "  return np.count_nonzero(origami)\n",
    "\n",
    "day13()"
   ]
  },
  {
   "cell_type": "code",
   "execution_count": 45,
   "metadata": {},
   "outputs": [],
   "source": [
    "def day13_2() -> int:\n",
    "  origami, folds = format_data13(data13)\n",
    "  for direction in folds:\n",
    "    origami = fold(origami, direction)\n",
    "  result = np.where(origami > 0, '#', ' ')\n",
    "  return np.savetxt('output_day13.txt', result, fmt='%s')\n",
    "\n",
    "day13_2()"
   ]
  },
  {
   "cell_type": "markdown",
   "metadata": {},
   "source": [
    "## Day 14\n",
    "Another dp problem"
   ]
  },
  {
   "cell_type": "code",
   "execution_count": 46,
   "metadata": {},
   "outputs": [],
   "source": [
    "data14 = data(14)\n",
    "\n",
    "def format14(data: list[str]) -> tuple[str, dict[str, str]]:\n",
    "  sequence = data[0]\n",
    "  transitions = {input: output for input, output in (line.split(' -> ') for line in data[2:])}\n",
    "  return sequence, transitions"
   ]
  },
  {
   "cell_type": "code",
   "execution_count": 47,
   "metadata": {},
   "outputs": [
    {
     "data": {
      "text/plain": [
       "2435"
      ]
     },
     "execution_count": 47,
     "metadata": {},
     "output_type": "execute_result"
    }
   ],
   "source": [
    "def day14(days: int) -> int:\n",
    "  sequence, transitions = format14(data14) \n",
    "\n",
    "  @lru_cache(maxsize=None)\n",
    "  def transition(input: str, steps: int) -> str:\n",
    "    output = transitions[input]\n",
    "    if steps == 0:\n",
    "      return Counter(f'{input[0]}{output}')\n",
    "    return transition(f'{input[0]}{output}', steps - 1) + transition(f'{output}{input[1]}', steps - 1)\n",
    "      \n",
    "  def run_transition(input: str, steps: int) -> str:\n",
    "    new = Counter()\n",
    "    for i in range(1, len(input)):\n",
    "      new += transition(input[i-1:i+1], steps)\n",
    "    new[input[-1]] += 1\n",
    "    return new\n",
    "\n",
    "  counts = run_transition(sequence, days - 1).most_common()\n",
    "  return counts[0][1] - counts[-1][1]\n",
    "\n",
    "day14(10)"
   ]
  },
  {
   "cell_type": "code",
   "execution_count": 48,
   "metadata": {},
   "outputs": [
    {
     "data": {
      "text/plain": [
       "2587447599164"
      ]
     },
     "execution_count": 48,
     "metadata": {},
     "output_type": "execute_result"
    }
   ],
   "source": [
    "day14(40)"
   ]
  },
  {
   "cell_type": "markdown",
   "metadata": {},
   "source": [
    "## Day 15\n",
    "\n",
    "Dijkstra"
   ]
  },
  {
   "cell_type": "code",
   "execution_count": 49,
   "metadata": {},
   "outputs": [],
   "source": [
    "data15 = np.array(data(15, split_int_row))"
   ]
  },
  {
   "cell_type": "code",
   "execution_count": 50,
   "metadata": {},
   "outputs": [
    {
     "data": {
      "text/plain": [
       "621"
      ]
     },
     "execution_count": 50,
     "metadata": {},
     "output_type": "execute_result"
    }
   ],
   "source": [
    "# TODO: this is pretty slow, some optimization might be called for\n",
    "def generate_array_graph(data: npt.ArrayLike) -> nx.Graph:\n",
    "  graph = nx.DiGraph()\n",
    "  for i in range(data.shape[0]):\n",
    "    for j in range(data.shape[1]):\n",
    "      if i+1 < data.shape[0]:\n",
    "        graph.add_edge((i, j), (i+1, j), weight=data[i+1, j])\n",
    "        graph.add_edge((i+1, j), (i, j), weight=data[i, j])\n",
    "      if j+1 < data.shape[1]:\n",
    "        graph.add_edge((i, j), (i, j+1), weight=data[i, j+1])\n",
    "        graph.add_edge((i, j+1), (i, j), weight=data[i, j])\n",
    "  return graph\n",
    "\n",
    "def day15(data: npt.ArrayLike) -> int:\n",
    "  graph = generate_array_graph(data)\n",
    "  length = nx.algorithms.shortest_paths.weighted.dijkstra_path_length(graph, (0, 0), (data.shape[0]-1, data.shape[1]-1))\n",
    "  return length\n",
    "\n",
    "day15(data15)"
   ]
  },
  {
   "cell_type": "code",
   "execution_count": 51,
   "metadata": {},
   "outputs": [
    {
     "data": {
      "text/plain": [
       "2904"
      ]
     },
     "execution_count": 51,
     "metadata": {},
     "output_type": "execute_result"
    }
   ],
   "source": [
    "def wrap(num: int) -> int:\n",
    "  return wrap_general(1, 10, num)\n",
    "\n",
    "def expand_array(data: npt.ArrayLike) -> npt.ArrayLike:\n",
    "  temp = data.copy()\n",
    "  for i in range(1, 5):\n",
    "    temp = np.concatenate((temp, wrap(data + i)), axis=1)\n",
    "  result = temp.copy()\n",
    "  for i in range(1, 5):\n",
    "    result = np.concatenate((result, wrap(temp + i)), axis=0)\n",
    "  return result\n",
    "  \n",
    "day15(expand_array(data15))"
   ]
  },
  {
   "cell_type": "markdown",
   "metadata": {},
   "source": [
    "## Day 16\n",
    "\n",
    "Compiler/parsing stuff"
   ]
  },
  {
   "cell_type": "code",
   "execution_count": 52,
   "metadata": {},
   "outputs": [],
   "source": [
    "binary_map = {\n",
    "  '0': '0000',\n",
    "  '1': '0001',\n",
    "  '2': '0010',\n",
    "  '3': '0011',\n",
    "  '4': '0100',\n",
    "  '5': '0101',\n",
    "  '6': '0110',\n",
    "  '7': '0111',\n",
    "  '8': '1000',\n",
    "  '9': '1001',\n",
    "  'A': '1010',\n",
    "  'B': '1011',\n",
    "  'C': '1100',\n",
    "  'D': '1101',\n",
    "  'E': '1110',\n",
    "  'F': '1111',\n",
    "}\n",
    "\n",
    "data16 = ''.join([binary_map[x] for x in data(16)[0]])"
   ]
  },
  {
   "cell_type": "code",
   "execution_count": 53,
   "metadata": {},
   "outputs": [
    {
     "data": {
      "text/plain": [
       "957"
      ]
     },
     "execution_count": 53,
     "metadata": {},
     "output_type": "execute_result"
    }
   ],
   "source": [
    "def parse_packet(input: str):\n",
    "  version = parse_version(input[:3])\n",
    "  packet_type = parse_type(input[3:6])\n",
    "  output, remainder = parse_body(packet_type, input[6:])\n",
    "  return version, packet_type, output, remainder\n",
    "\n",
    "def parse_version(input: str):\n",
    "  return bin2int(input)\n",
    "\n",
    "def parse_type(input: str):\n",
    "  return bin2int(input)\n",
    "\n",
    "def parse_body(packet_type: int, input: str):\n",
    "  if packet_type == 4:\n",
    "    return parse_bits(input)\n",
    "  return parse_subpacket(input)\n",
    "\n",
    "def parse_subpacket(input: str):\n",
    "  length_type = input[0]\n",
    "  length_size = 16 if length_type == '0' else 12\n",
    "  length_bits, rest = input[1:length_size], input[length_size:]\n",
    "  length = parse_length(length_bits)\n",
    "  if length_size == 12:\n",
    "    return parse_subpackets_by_count(rest, length)\n",
    "  return parse_subpackets(rest[:length]), rest[length:]\n",
    "\n",
    "def parse_subpackets(input: str):\n",
    "  packets = []\n",
    "  while '1' in input:\n",
    "    version, packet_type, output, input = parse_packet(input)\n",
    "    packets.append((version, packet_type, output))\n",
    "  return packets\n",
    "\n",
    "def parse_subpackets_by_count(input: str, count: int):\n",
    "  packets = []\n",
    "  while len(packets) < count:\n",
    "    version, packet_type, output, input = parse_packet(input)\n",
    "    packets.append((version, packet_type, output))\n",
    "  return packets, input\n",
    "\n",
    "def parse_length(input: str):\n",
    "  return bin2int(input)\n",
    "\n",
    "def parse_bits(input: str):\n",
    "  result = ''\n",
    "  while input:\n",
    "    current, input = input[:5], input[5:]\n",
    "    result += current[1:]\n",
    "    if current[0] == '0':\n",
    "      break\n",
    "  return bin2int(result), input\n",
    "\n",
    "Packet = tuple[int, Union[list[\"Packet\"], int]]\n",
    "\n",
    "def expand_packet_versions(packet: Packet) -> list[int]:\n",
    "  version, body = packet[0], packet[2]\n",
    "  yield version\n",
    "  if type(body) is not int:\n",
    "    for subpacket in body:\n",
    "      version, _, packet = subpacket\n",
    "      yield from expand_packet_versions(subpacket)\n",
    "\n",
    "def day16(data: str) -> int:\n",
    "  packet = parse_packet(data)\n",
    "  return sum([x for x in expand_packet_versions(packet)])\n",
    "\n",
    "day16(data16)"
   ]
  },
  {
   "cell_type": "code",
   "execution_count": 54,
   "metadata": {},
   "outputs": [
    {
     "data": {
      "text/plain": [
       "744953223228"
      ]
     },
     "execution_count": 54,
     "metadata": {},
     "output_type": "execute_result"
    }
   ],
   "source": [
    "def evaluate_packet(packet: Packet) -> int:\n",
    "  packet_type, body = packet[1], packet[2]\n",
    "  match packet_type:\n",
    "    case 4:\n",
    "      return body\n",
    "    case 0:\n",
    "      return sum([evaluate_packet(subpacket) for subpacket in body])\n",
    "    case 1:\n",
    "      return np.prod([evaluate_packet(subpacket) for subpacket in body])\n",
    "    case 2:\n",
    "      return min([evaluate_packet(subpacket) for subpacket in body])\n",
    "    case 3:\n",
    "      return max([evaluate_packet(subpacket) for subpacket in body])\n",
    "    case 5:\n",
    "      a, b = evaluate_packet(body[0]), evaluate_packet(body[1])\n",
    "      return 1 if a > b else 0\n",
    "    case 6:\n",
    "      a, b = evaluate_packet(body[0]), evaluate_packet(body[1])\n",
    "      return 1 if a < b else 0\n",
    "    case 7:\n",
    "      a, b = evaluate_packet(body[0]), evaluate_packet(body[1])\n",
    "      return 1 if a == b else 0\n",
    "\n",
    "def day16_2(data: str) -> int:\n",
    "  packet = parse_packet(data)\n",
    "  return evaluate_packet(packet)\n",
    "\n",
    "day16_2(data16)"
   ]
  },
  {
   "cell_type": "markdown",
   "metadata": {},
   "source": [
    "## Day 17\n",
    "\n",
    "More triangular numbers and some kinematic equations with a = -1"
   ]
  },
  {
   "cell_type": "code",
   "execution_count": 55,
   "metadata": {},
   "outputs": [],
   "source": [
    "data17 = data(17)[0]"
   ]
  },
  {
   "cell_type": "code",
   "execution_count": 56,
   "metadata": {},
   "outputs": [
    {
     "data": {
      "text/plain": [
       "10296"
      ]
     },
     "execution_count": 56,
     "metadata": {},
     "output_type": "execute_result"
    }
   ],
   "source": [
    "Position = tuple[int, int]\n",
    "\n",
    "def format17(data: str) -> tuple[tuple[int, int]]:\n",
    "  pattern = re.compile('.+x=([0-9\\-]+)\\.\\.([0-9\\-]+), y=([0-9\\-]+)\\.\\.([0-9\\-]+)')\n",
    "  x1, x2, y1, y2 = pattern.match(data).groups()\n",
    "  return (int(x1), int(x2)), (int(y1), int(y2))\n",
    "\n",
    "\n",
    "def day17(data: str):\n",
    "  _, y = format17(data)\n",
    "  # Assume x is always positive and y is always negative\n",
    "  # Since the upward distance will be totally negated by gravity, what actually matters is the final step, which will be of distance -(y+1)\n",
    "  # This is equal to triangular_number(abs(y)-1), or equivalently triangular_number(y)\n",
    "  return triangular_number(y[0])\n",
    "\n",
    "day17(data17)"
   ]
  },
  {
   "cell_type": "code",
   "execution_count": 57,
   "metadata": {},
   "outputs": [
    {
     "data": {
      "text/plain": [
       "2371"
      ]
     },
     "execution_count": 57,
     "metadata": {},
     "output_type": "execute_result"
    }
   ],
   "source": [
    "def day17_2(data: str):\n",
    "  x, y = format17(data)\n",
    "\n",
    "  # Max x velocity is a single step shot to the end of the x-grid\n",
    "  vx_min, vx_max = 0, x[1]\n",
    "  # Min x velocity will be totally exhausted upon reaching the start of the x-grid\n",
    "  while triangular_number(vx_min) < x[0]:\n",
    "    vx_min += 1\n",
    "\n",
    "  # Min y velocity is a single step shot to the bottom of the y-grid (negative)\n",
    "  # Max y velocity is the result of part 1\n",
    "  vy_min, vy_max = y[0], abs(y[0]) - 1\n",
    "\n",
    "  def check_shot(vx: int, vy: int):\n",
    "    # Steps should be at least 1 when shooting downwards\n",
    "    # When shooting upwards, there will be y upward steps, 1 hanging step, y downward steps, and then at least one -(y+1) or greater step\n",
    "    steps = 1 if vy <= 0 else vy * 2 + 2\n",
    "    while True:\n",
    "      dx = (triangular_number(vx) - triangular_number(vx - steps)) if vx > steps else triangular_number(vx)\n",
    "      dy = triangular_number(vy) - triangular_number(vy - steps)\n",
    "      if dx > x[1] or dy < y[0]:\n",
    "        return False\n",
    "      if dx >= x[0] and dx <= x[1] and dy >= y[0] and dy <= y[1]:\n",
    "        return True\n",
    "      steps += 1\n",
    "\n",
    "  results = []\n",
    "  for vx in range(vx_min, vx_max + 1):\n",
    "    for vy in range(vy_min, vy_max + 1):\n",
    "      if check_shot(vx, vy):\n",
    "        results.append((vx, vy))\n",
    "\n",
    "  return len(results)\n",
    "\n",
    "day17_2(data17)"
   ]
  },
  {
   "cell_type": "markdown",
   "metadata": {},
   "source": [
    "## Day 18\n",
    "\n",
    "Unbalanced binary tree, hopping across leaves"
   ]
  },
  {
   "cell_type": "code",
   "execution_count": 58,
   "metadata": {},
   "outputs": [],
   "source": [
    "TreeList = tuple[Union[int, 'TreeList'], Union[int, 'TreeList']]\n",
    "data18 = data(18, json.loads)"
   ]
  },
  {
   "cell_type": "code",
   "execution_count": 59,
   "metadata": {},
   "outputs": [
    {
     "data": {
      "text/plain": [
       "4202"
      ]
     },
     "execution_count": 59,
     "metadata": {},
     "output_type": "execute_result"
    }
   ],
   "source": [
    "class BaseNode:\n",
    "  def __init__(self, parent: Optional[\"Node\"] = None, is_left: Optional[bool] = True):\n",
    "    self.is_left = is_left\n",
    "    self.parent = parent\n",
    "\n",
    "class Leaf(BaseNode):\n",
    "  def __init__(self, value: int, parent: Optional[\"Node\"] = None, is_left: Optional[bool] = True):\n",
    "    super().__init__(parent, is_left)\n",
    "    self.value = value\n",
    "\n",
    "class Node(BaseNode):\n",
    "  def __init__(self, left: Union[Leaf, 'Node'], right: Union[Leaf, 'Node'], parent: Optional[\"Node\"] = None, is_left: Optional[bool] = True):\n",
    "    super().__init__(parent, is_left)\n",
    "    self.left = left\n",
    "    left.is_left = True\n",
    "    self.right = right\n",
    "    right.is_left = False\n",
    "\n",
    "def make_leaf(node: Union[TreeList, int]):\n",
    "  if type(node) is int:\n",
    "    return Leaf(node)\n",
    "  return make_node(node)\n",
    "\n",
    "def make_node(data: TreeList, parent: Optional[\"Node\"] = None, is_left: Optional[bool] = True):\n",
    "  left, right = make_leaf(data[0]), make_leaf(data[1])\n",
    "  node = Node(left, right, parent, is_left)\n",
    "  left.parent, right.parent = node, node\n",
    "  return node\n",
    "\n",
    "def inorder(node: BaseNode):\n",
    "  if type(node) is Leaf:\n",
    "    yield node\n",
    "  else:\n",
    "    yield from inorder(node.left)\n",
    "    yield from inorder(node.right)\n",
    "\n",
    "def dfs(root: 'Tree'):\n",
    "  queue = deque([(root, 0)])\n",
    "  results = deque()\n",
    "  while queue:\n",
    "    node, depth = queue.popleft()\n",
    "    if type(node) is Leaf:\n",
    "      # TODO: figure how to get the desired output earlier\n",
    "      results.appendleft((node, depth))\n",
    "    else:\n",
    "      queue.append((node.right, depth+1))\n",
    "      queue.append((node.left, depth+1))\n",
    "  return results\n",
    "\n",
    "class Tree:\n",
    "  def __init__(self, data: list[int]):\n",
    "    self.root = make_node(data)\n",
    "\n",
    "  def add(self, data: list[int]):\n",
    "    node = make_node(data)\n",
    "    root = self.root\n",
    "    self.root = Node(root, node)\n",
    "    root.parent = self.root\n",
    "    node.parent = self.root\n",
    "    self.reduce()\n",
    "\n",
    "  def switch(self, node: BaseNode):\n",
    "    if node.is_left:\n",
    "      node.parent.left = node\n",
    "    else:\n",
    "      node.parent.right = node\n",
    "\n",
    "  def reduce(self):\n",
    "    changed = True\n",
    "    while changed:\n",
    "      changed = self.reduce_once()\n",
    "\n",
    "  def reduce_once(self):\n",
    "    # TODO: figure out ahead of time what the max depth size is\n",
    "    if self.explode():\n",
    "      return True\n",
    "    if self.split():\n",
    "      return True\n",
    "    return False\n",
    "\n",
    "  def explode(self):\n",
    "    leaves = list(inorder(self.root))\n",
    "    indices = {leaf: i for i, leaf in enumerate(inorder(self.root))}\n",
    "    for leaf, depth in dfs(self.root):\n",
    "      if depth <= 4:\n",
    "        continue\n",
    "      # Explode\n",
    "      index = indices[leaf]\n",
    "      # Note: due to order of dfs, the left child is always the first one\n",
    "      if index > 0:\n",
    "        leaves[index-1].value += leaf.value\n",
    "      # Note: if a node explodes, both its children are leaves\n",
    "      right = leaves[index+1]\n",
    "      if len(leaves) > index+2:\n",
    "        leaves[index+2].value += right.value\n",
    "      leaf.value, right.value = 0, 0\n",
    "      self.switch(Leaf(0, leaf.parent.parent, leaf.parent.is_left))\n",
    "      return True\n",
    "\n",
    "  def split(self):\n",
    "    for leaf in inorder(self.root):\n",
    "      if leaf.value < 10:\n",
    "        continue\n",
    "      # Split\n",
    "      left, right = leaf.value // 2, int(np.ceil(leaf.value/2))\n",
    "      node = make_node([left, right], leaf.parent, leaf.is_left)\n",
    "      self.switch(node)\n",
    "      return True\n",
    "\n",
    "def magnitude(node: Node) -> int:\n",
    "  left, right = node.left, node.right\n",
    "  left = magnitude(node.left) if type(node.left) is not Leaf else node.left.value\n",
    "  right = magnitude(node.right) if type(node.right) is not Leaf else node.right.value\n",
    "  return 3 * left + 2 * right\n",
    "\n",
    "def day18(data: list[TreeList]):\n",
    "  result = Tree(data[0])\n",
    "  for item in data[1:]:\n",
    "    result.add(item)\n",
    "  return magnitude(result.root)\n",
    "\n",
    "day18(data18)"
   ]
  },
  {
   "cell_type": "code",
   "execution_count": 60,
   "metadata": {},
   "outputs": [
    {
     "data": {
      "text/plain": [
       "4779"
      ]
     },
     "execution_count": 60,
     "metadata": {},
     "output_type": "execute_result"
    }
   ],
   "source": [
    "def get_combo(x: TreeList, y: TreeList):\n",
    "  result = Tree(x)\n",
    "  result.add(y)\n",
    "  return magnitude(result.root)\n",
    "\n",
    "def get_combo_size(x: TreeList, y: TreeList):\n",
    "  return max(get_combo(x, y), get_combo(y, x))\n",
    "\n",
    "def day18_2(data: list[TreeList]):\n",
    "  # Quite slow - could be optimized\n",
    "  return max([get_combo_size(x, y) for x, y in itertools.combinations(data, 2)])\n",
    "\n",
    "day18_2(data18)"
   ]
  },
  {
   "cell_type": "markdown",
   "metadata": {},
   "source": [
    "## Day 19\n",
    "\n",
    "Matrix operations"
   ]
  },
  {
   "cell_type": "code",
   "execution_count": 61,
   "metadata": {},
   "outputs": [],
   "source": [
    "Position = tuple[int, int, int]\n",
    "Distances = np.array\n",
    "Collision = Position\n",
    "\n",
    "class Scanner:\n",
    "  def __init__(self, positions: list[Position]):\n",
    "    self.beacons = positions\n",
    "    self.orientation = None\n",
    "    self.position = None\n",
    "    self.distances = self._distances()\n",
    "\n",
    "  def _distances(self):\n",
    "    return spatial.distance_matrix(list(self.beacons), list(self.beacons))\n",
    "\n",
    "  def add_scanner(self, new: 'Scanner'):\n",
    "    beacons = set(self.beacons)\n",
    "    transformed = ((new.orientation@np.array(list(new.beacons)).T).T + new.position)\n",
    "    for beacon in transformed:\n",
    "      beacons.add(tuple(beacon))\n",
    "    self.beacons = list(beacons)\n",
    "    self.distances = self._distances()\n",
    "\n",
    "  def set_position(self, orientation: np.array, position: np.array):\n",
    "    self.orientation = orientation\n",
    "    self.position = position\n",
    "\n",
    "def parse_scanners(data: list[str]) -> list[list[Position]]:\n",
    "  scanners, positions = [], []\n",
    "  for line in data:\n",
    "    if 'scanner' in line:\n",
    "      continue\n",
    "    if not line:\n",
    "      scanners.append(Scanner(positions))\n",
    "      positions = []\n",
    "    else:\n",
    "      positions.append(tuple([int(x) for x in line.split(',')]))\n",
    "  scanners.append(Scanner(positions))\n",
    "  return scanners\n",
    "\n",
    "data19 = parse_scanners(data(19))"
   ]
  },
  {
   "cell_type": "code",
   "execution_count": 62,
   "metadata": {},
   "outputs": [
    {
     "data": {
      "text/plain": [
       "472"
      ]
     },
     "execution_count": 62,
     "metadata": {},
     "output_type": "execute_result"
    }
   ],
   "source": [
    "# TODO: optimize - search only upper triangle\n",
    "def detect_collisions(a: Distances, b: Distances) -> list[Collision]:\n",
    "  result = []\n",
    "  for i, target in enumerate(a):\n",
    "    for j, candidate in enumerate(b):\n",
    "      collisions = set(target).intersection(set(candidate))\n",
    "      if len(collisions) >= 12:\n",
    "        result.append((i, j))\n",
    "      if len(result) >= 2:\n",
    "        break # Already found enough collisions to solve\n",
    "  return result\n",
    "\n",
    "def determine_transformation(a: Scanner, b: Scanner, collisions: list[Collision]) -> tuple[np.array, np.array]:\n",
    "  Y = np.vstack([np.array(a.beacons[i[0]]) for i in collisions]).T\n",
    "  X = np.vstack([np.array(b.beacons[i[1]]) for i in collisions]).T\n",
    "  for signs in itertools.product([-1, 1], repeat=3):\n",
    "    r = np.identity(3)*np.array(signs)\n",
    "    # TODO: this produces double the results - too lazy to fix\n",
    "    for x, y, z in itertools.permutations([0, 1, 2], 3):\n",
    "      rotation = np.array([r[x], r[y], r[z]])\n",
    "      rotated = rotation@X\n",
    "      translation = Y - rotated\n",
    "      if np.unique(translation).size <= 3:\n",
    "        return rotation, translation[:, 0]\n",
    "\n",
    "def merge_scanners(base: Scanner, scanners: list[Scanner]) -> list[Scanner]:\n",
    "  remaining = []\n",
    "  for scanner in scanners:\n",
    "    collisions = detect_collisions(base.distances, scanner.distances)\n",
    "    if not collisions:\n",
    "      remaining.append(scanner)\n",
    "      continue\n",
    "    rotation, translation = determine_transformation(base, scanner, collisions)\n",
    "    scanner.set_position(rotation, translation)\n",
    "    base.add_scanner(scanner)\n",
    "  return remaining\n",
    "\n",
    "def merge_all_scanners(data: list[Scanner]):\n",
    "  base, remaining = data[0], data[1:]\n",
    "  while remaining:\n",
    "    remaining = merge_scanners(base, remaining)\n",
    "  return base\n",
    "\n",
    "def day19(data: list[Scanner]):\n",
    "  result = merge_all_scanners(data)\n",
    "  return len(result.beacons)\n",
    "\n",
    "day19(data19)"
   ]
  },
  {
   "cell_type": "code",
   "execution_count": 63,
   "metadata": {},
   "outputs": [
    {
     "data": {
      "text/plain": [
       "12092"
      ]
     },
     "execution_count": 63,
     "metadata": {},
     "output_type": "execute_result"
    }
   ],
   "source": [
    "def max_manhattan_distances(data: list[Position]) -> np.array:\n",
    "  max_man = 0\n",
    "  for i, j in itertools.combinations(range(len(data)), 2):\n",
    "    distance = int(np.abs(data[i] - data[j]).sum())\n",
    "    if distance > max_man:\n",
    "      max_man = distance\n",
    "  return max_man\n",
    "\n",
    "# Note: impure - assumes that part 1 already ran\n",
    "def day19_2(scanners: list[Scanner]):\n",
    "  positions = [scanner.position for scanner in scanners[1:]] + np.array([0,0,0])\n",
    "  return max_manhattan_distances(positions)\n",
    "\n",
    "day19_2(data19)"
   ]
  },
  {
   "cell_type": "markdown",
   "metadata": {},
   "source": [
    "## Day 20\n",
    "\n",
    "convolution"
   ]
  },
  {
   "cell_type": "code",
   "execution_count": 15,
   "metadata": {},
   "outputs": [],
   "source": [
    "data20 = data(20)\n",
    "\n",
    "def format20(data: list[str]):\n",
    "  mapping = [0 if i == '.' else 1 for i in data[0]]\n",
    "  size = len(data) - 2\n",
    "  result = np.zeros((size, size), dtype=int)\n",
    "  for i, line in enumerate(data[2:]):\n",
    "    for j, item in enumerate(line):\n",
    "      if item == '#':\n",
    "        result[i, j] = 1\n",
    "  return result, mapping\n",
    "\n",
    "result, mapping = format20(data20)"
   ]
  },
  {
   "cell_type": "code",
   "execution_count": 16,
   "metadata": {},
   "outputs": [
    {
     "data": {
      "text/plain": [
       "5437"
      ]
     },
     "execution_count": 16,
     "metadata": {},
     "output_type": "execute_result"
    }
   ],
   "source": [
    "def join_row(row: np.array):\n",
    "  return ''.join([str(int(x)) for x in row])\n",
    "\n",
    "# TODO: use bit tricks\n",
    "def run_mapping(input: np.array, mapping: list[int]):\n",
    "  binary = ''.join([join_row(row) for row in input])\n",
    "  index = bin2int(binary)\n",
    "  return mapping[index]\n",
    "\n",
    "def generate_kernel(input: np.array):\n",
    "  views = np.lib.stride_tricks.sliding_window_view(input, (3, 3))\n",
    "  for row in views:\n",
    "    for view in row:\n",
    "      yield view\n",
    "\n",
    "def expand_array(input: np.array, cval = 0):\n",
    "  return np.pad(input, 2, constant_values=cval)\n",
    "\n",
    "def convolve(input: np.array, mapping: list[int], cval = 0):\n",
    "  grid = expand_array(input, cval)\n",
    "  result = []\n",
    "  for kernel in generate_kernel(grid):\n",
    "    result.append(run_mapping(kernel, mapping))\n",
    "  return np.reshape(result, (grid.shape[0]-2, grid.shape[1]-2))\n",
    "\n",
    "def update_cval(cval: int, mapping: list[int]):\n",
    "  return mapping[0] if cval == 0 else mapping[-1]\n",
    "\n",
    "def convolve_many(input: np.array, mapping: list[int], n: int):\n",
    "  cval = 0\n",
    "  result = input.copy()\n",
    "  for _ in range(n):\n",
    "    result = convolve(result, mapping, cval)\n",
    "    cval = update_cval(cval, mapping)\n",
    "  return result\n",
    "\n",
    "def day20(input: np.array, mapping: list[int], n=2):\n",
    "  result = convolve_many(input, mapping, n)\n",
    "  return int(result.sum())\n",
    "\n",
    "day20(result, mapping)\n"
   ]
  },
  {
   "cell_type": "code",
   "execution_count": 17,
   "metadata": {},
   "outputs": [
    {
     "data": {
      "text/plain": [
       "19340"
      ]
     },
     "execution_count": 17,
     "metadata": {},
     "output_type": "execute_result"
    }
   ],
   "source": [
    "# Note: take slightly longer than 10s\n",
    "day20(result, mapping, 50)"
   ]
  },
  {
   "cell_type": "markdown",
   "metadata": {},
   "source": [
    "## Day 21\n",
    "\n",
    "Another dp problem"
   ]
  },
  {
   "cell_type": "code",
   "execution_count": 12,
   "metadata": {},
   "outputs": [],
   "source": [
    "data21 = data(21, lambda x: int(x[-1]))"
   ]
  },
  {
   "cell_type": "code",
   "execution_count": 13,
   "metadata": {},
   "outputs": [
    {
     "data": {
      "text/plain": [
       "797160"
      ]
     },
     "execution_count": 13,
     "metadata": {},
     "output_type": "execute_result"
    }
   ],
   "source": [
    "class Dice:\n",
    "  def __init__(self):\n",
    "    self.count = 0\n",
    "\n",
    "  def roll_one(self):\n",
    "    self.count += 1\n",
    "    return wrap_general(1, 101, self.count)\n",
    "\n",
    "  def roll(self):\n",
    "    return self.roll_one() + self.roll_one() + self.roll_one()\n",
    "  \n",
    "class Player:\n",
    "  def __init__(self, position: int, score=0):\n",
    "    self.position = position\n",
    "    self.score = score\n",
    "\n",
    "  def play(self, roll: int):\n",
    "    self.position = wrap_general(1, 11, self.position + roll)\n",
    "    self.score += self.position\n",
    "    return self.score\n",
    "\n",
    "class Game:\n",
    "  def __init__(self, players: list[Player], maxscore = 1000):\n",
    "    self.players = players\n",
    "    self.current_player = 0\n",
    "    self.maxscore = maxscore\n",
    "\n",
    "  def get_player(self):\n",
    "    player =  self.players[self.current_player]\n",
    "    self.current_player = (self.current_player + 1)%2\n",
    "    return player\n",
    "\n",
    "  def play(self, roll: int):\n",
    "    player = self.get_player()\n",
    "    player.play(roll)\n",
    "    if results := self.check_scores():\n",
    "      return results\n",
    "\n",
    "  def check_scores(self):\n",
    "    order = sorted(self.players, key=lambda x: x.score, reverse=True)\n",
    "    if order[0].score >= self.maxscore:\n",
    "      return order\n",
    "    return False\n",
    "\n",
    "def day21(data: list[int]):\n",
    "  game, dice, result = Game([Player(data[0]), Player(data[1])]), Dice(), None\n",
    "  while not result:\n",
    "    roll = dice.roll()\n",
    "    result = game.play(roll)\n",
    "  return result[-1].score * dice.count\n",
    "\n",
    "day21(data21)"
   ]
  },
  {
   "cell_type": "code",
   "execution_count": 14,
   "metadata": {},
   "outputs": [
    {
     "data": {
      "text/plain": [
       "27464148626406"
      ]
     },
     "execution_count": 14,
     "metadata": {},
     "output_type": "execute_result"
    }
   ],
   "source": [
    "class DiracDice:\n",
    "  def roll(self):\n",
    "    for i in range(1, 4):\n",
    "      for j in range(1, 4):\n",
    "        for k in range(1, 4):\n",
    "          yield i+j+k\n",
    "\n",
    "@lru_cache(maxsize=None)\n",
    "def dirac_turn(players: tuple[tuple[int, int], tuple[int, int]]) -> tuple[int, int]:\n",
    "  wins = [0, 0]\n",
    "  for roll in DiracDice().roll():\n",
    "    state = Game([Player(*players[0]), Player(*players[1])], 21)\n",
    "    winner = state.play(roll)\n",
    "    if winner:\n",
    "      wins[0] += 1\n",
    "    else:\n",
    "      results = dirac_turn(((state.players[1].position, state.players[1].score), (state.players[0].position, state.players[0].score)))\n",
    "      wins[0] += results[1]\n",
    "      wins[1] += results[0]\n",
    "  return wins\n",
    "\n",
    "def day21_2(data: list[int]):\n",
    "  results = dirac_turn(((data[0], 0), (data[1], 0)))\n",
    "  return max(results)\n",
    "\n",
    "day21_2(data21)"
   ]
  },
  {
   "cell_type": "markdown",
   "metadata": {},
   "source": [
    "## Day 22\n",
    "\n",
    "Should be solved using scipy.spatial.Rectangle and generating subrectangles on each step. But I'm incredibly bad at visualizing 3-d. Using [pymesh](https://pymesh.readthedocs.io/en/latest/installation.html) (running in docker) to solve this for now"
   ]
  },
  {
   "cell_type": "code",
   "execution_count": null,
   "metadata": {},
   "outputs": [],
   "source": [
    "pattern = re.compile('x=([0-9\\-]+)\\.\\.([0-9\\-]+),y=([0-9\\-]+)\\.\\.([0-9\\-]+),z=([0-9\\-]+)\\.\\.([0-9\\-]+)')\n",
    "def format22(line: str):\n",
    "  status, dimensions = line.split(' ')\n",
    "  x1, x2, y1, y2, z1, z2 = [int(i) for i in pattern.match(dimensions).groups()]\n",
    "  return ((x1, y1, z1), (x2+1, y2+1, z2+1), 1 if status == 'on' else 0) \n",
    "\n",
    "data22 = data(22, format22)\n",
    "data22"
   ]
  },
  {
   "cell_type": "code",
   "execution_count": null,
   "metadata": {},
   "outputs": [],
   "source": [
    "import pymesh\n",
    "\n",
    "def generate_box(mins, maxes):\n",
    "  mesh = pymesh.generate_box_mesh(mins, maxes)\n",
    "  return mesh\n",
    "\n",
    "def update_mesh(a, b, status):\n",
    "  return pymesh.boolean(a, b, operation='union' if status else 'difference')\n",
    "\n",
    "def day22(data):\n",
    "  # Assumes that initial step is turning on\n",
    "  result = generate_box(data[0][0], data[0][1])\n",
    "  for input in data[1:]:\n",
    "    print('processing', input)\n",
    "    result = update_mesh(result, generate_box(input[0], input[1]), input[2])\n",
    "  return round(result.volume)"
   ]
  },
  {
   "cell_type": "markdown",
   "metadata": {},
   "source": [
    "1. 570915\n",
    "2. 1268313839428137 (slow - also can be slightly off)"
   ]
  },
  {
   "cell_type": "markdown",
   "metadata": {},
   "source": [
    "## Day 23\n",
    "1. Generate possible outputs from current state\n",
    "2. Run dijkstra on state to end state"
   ]
  },
  {
   "cell_type": "code",
   "execution_count": 8,
   "metadata": {},
   "outputs": [],
   "source": [
    "amphipod_mapping = {\n",
    "  'A': 0,\n",
    "  'B': 1,\n",
    "  'C': 2,\n",
    "  'D': 3\n",
    "}\n",
    "hallway = tuple([0]*11)\n",
    "rooms = [[],[],[],[]]\n",
    "def add_line_to_room(line: str):\n",
    "  count = 0\n",
    "  for i in line:\n",
    "    if i not in amphipod_mapping.keys():\n",
    "      continue\n",
    "    pod = 10**amphipod_mapping[i]\n",
    "    rooms[count].append(pod)\n",
    "    count += 1\n",
    "data(23, add_line_to_room)\n",
    "rooms = tuple([tuple(room) for room in rooms])"
   ]
  },
  {
   "cell_type": "code",
   "execution_count": 9,
   "metadata": {},
   "outputs": [
    {
     "data": {
      "text/plain": [
       "10526"
      ]
     },
     "execution_count": 9,
     "metadata": {},
     "output_type": "execute_result"
    }
   ],
   "source": [
    "# Done by hand\n",
    "def day23():\n",
    "  a = 1\n",
    "  b = 10\n",
    "  c = 100\n",
    "  d = 1000\n",
    "\n",
    "  step1 = 2*d + 2*d + 3*c\n",
    "  step2 = 3*d + 2*d\n",
    "  step3 = 5*a + 5*a\n",
    "  step4 = 6*b\n",
    "  step5 = 7*c + 4*c\n",
    "  step6 = 5*b\n",
    "  step7 = 3*a + 3*a\n",
    "  return step1 + step2 + step3 + step4 + step5 + step6 + step7\n",
    "\n",
    "day23()"
   ]
  },
  {
   "cell_type": "code",
   "execution_count": 10,
   "metadata": {},
   "outputs": [
    {
     "data": {
      "text/plain": [
       "10526"
      ]
     },
     "execution_count": 10,
     "metadata": {},
     "output_type": "execute_result"
    }
   ],
   "source": [
    "# Could not figure out how to do part 2 by hand, so redid it using dijkstra here\n",
    "class Room:\n",
    "  def __init__(self, target: int, pods: list[int], size: int):\n",
    "    self.target = target\n",
    "    self.pods = pods\n",
    "    self.size = size\n",
    "    \n",
    "  def __repr__(self) -> str:\n",
    "      return str(self.pods)\n",
    "\n",
    "  def ready(self):\n",
    "    for i in self.pods:\n",
    "      if i != self.target:\n",
    "        return False\n",
    "    return True\n",
    "\n",
    "  def cost(self):\n",
    "    return self.size - len(self.pods)\n",
    "\n",
    "class Hallway:\n",
    "  def __init__(self, positions):\n",
    "    self.positions = list(positions)\n",
    "\n",
    "  def __repr__(self) -> str:\n",
    "      return str([x for x in self.positions])\n",
    "\n",
    "  def hallway_pods(self):\n",
    "    for position, pod in enumerate(self.positions):\n",
    "      if pod:\n",
    "        yield (pod, position)\n",
    "\n",
    "  def room_hall(self, room: int):\n",
    "    return room*2 + 2\n",
    "\n",
    "  def done(self):\n",
    "    for i in self.positions:\n",
    "      if i:\n",
    "        return False\n",
    "    return True\n",
    "\n",
    "  # Methods on pods in the hallway\n",
    "  def _reachable(self, start: int, end: int):\n",
    "    for i in range(start, end):\n",
    "      if self.positions[i] != 0:\n",
    "        return False\n",
    "    return True\n",
    "\n",
    "  def reachable(self, start: int, end: int):\n",
    "    if start < end:\n",
    "      return self._reachable(start+1, end+1)\n",
    "    return self._reachable(end, start)\n",
    "\n",
    "  def room_reachable(self, position: int, room: int):\n",
    "    return self.reachable(position, self.room_hall(room))\n",
    "  \n",
    "  # Methods on pods entering the hallway\n",
    "  def valid_left(self, position: int):\n",
    "    for i in range(position-1, 0, -2):\n",
    "      if self.positions[i]:\n",
    "        return\n",
    "      yield i\n",
    "    if not self.positions[0]:\n",
    "      yield 0\n",
    "\n",
    "  def valid_right(self, position: int):\n",
    "    for i in range(position+1, 10, 2):\n",
    "      if self.positions[i]:\n",
    "        return\n",
    "      yield i\n",
    "    if not self.positions[10]:\n",
    "      yield 10\n",
    "\n",
    "  def reachable_positions(self, room: int):\n",
    "    position = self.room_hall(room)\n",
    "    yield from self.valid_left(position)\n",
    "    yield from self.valid_right(position)\n",
    "\n",
    "  def update(self, position: int, value: int):\n",
    "    new_hallway = self.positions.copy()\n",
    "    new_hallway[position] = value\n",
    "    return tuple(new_hallway)\n",
    "\n",
    "class State:\n",
    "  def __init__(self, hallway: Hallway, rooms: list[Room]):\n",
    "    self.hallway = hallway\n",
    "    self.rooms = tuple(rooms)\n",
    "\n",
    "  def pod_room(self, pod: int):\n",
    "    return int(np.log10(pod))\n",
    "\n",
    "  def add_rooms(self, room: int):\n",
    "    rooms = [tuple(room.pods) for room in self.rooms]\n",
    "    rooms[room] = (self.rooms[room].target, *rooms[room])\n",
    "    return tuple(rooms)\n",
    "\n",
    "  def hallway_moves(self):\n",
    "    for pod, position in self.hallway.hallway_pods():\n",
    "      room_number = self.pod_room(pod)\n",
    "      room = self.rooms[room_number]\n",
    "      if not room.ready():\n",
    "        continue\n",
    "      if self.hallway.room_reachable(position, room_number):\n",
    "        distance = (abs(position - self.hallway.room_hall(room_number)) + room.cost()) * pod\n",
    "        new_hallway = self.hallway.update(position, 0)\n",
    "        yield (distance, new_hallway, self.add_rooms(room_number))\n",
    "\n",
    "  def pop_rooms(self, pop: int):\n",
    "    rooms = [tuple(room.pods) for room in self.rooms]\n",
    "    rooms[pop] = tuple(self.rooms[pop].pods[1:])\n",
    "    return tuple(rooms)\n",
    "\n",
    "  def room_moves(self):\n",
    "    for i, room in enumerate(self.rooms):\n",
    "      if room.ready():\n",
    "        continue\n",
    "      new_rooms = self.pop_rooms(i)\n",
    "      for position in self.hallway.reachable_positions(i):\n",
    "        pod = room.pods[0]\n",
    "        new_hallway = self.hallway.update(position, pod)\n",
    "        distance = (room.cost() + 1 + abs(position - self.hallway.room_hall(i)))*pod\n",
    "        yield (distance, new_hallway, new_rooms)\n",
    "\n",
    "  def __repr__(self):\n",
    "    return f'Hallway: {self.hallway}, Rooms: {str(self.rooms)}'\n",
    "\n",
    "  def done(self):\n",
    "    for room in self.rooms:\n",
    "      if not room.ready():\n",
    "        return False\n",
    "    return self.hallway.done()\n",
    "\n",
    "  def valid_moves(self):\n",
    "    for i in self.hallway_moves():\n",
    "      yield i\n",
    "    for i in self.room_moves():\n",
    "      yield i\n",
    "\n",
    "def search_amphipod(hallway: tuple[int], rooms: tuple[tuple[int]]):\n",
    "  roomsize = len(rooms[0])\n",
    "  visited = set()\n",
    "  frontier = SortedList([(0, hallway, rooms)], key=lambda x: -x[0])\n",
    "  while frontier:\n",
    "    distance, hallway, rooms = frontier.pop()\n",
    "    if (hallway, rooms) in visited:\n",
    "      continue\n",
    "    visited.add((hallway, rooms))\n",
    "    state = State(Hallway(hallway), [Room(10**i, room, roomsize) for i, room in enumerate(rooms)])\n",
    "    if state.done():\n",
    "      return distance\n",
    "    for d, h, r in state.valid_moves():\n",
    "      if (h, r) not in visited:\n",
    "        frontier.add((d+distance, h, r))\n",
    "\n",
    "def day23v2():\n",
    "  return search_amphipod(hallway, rooms)  \n",
    "\n",
    "day23v2()"
   ]
  },
  {
   "cell_type": "code",
   "execution_count": 11,
   "metadata": {},
   "outputs": [
    {
     "data": {
      "text/plain": [
       "41284"
      ]
     },
     "execution_count": 11,
     "metadata": {},
     "output_type": "execute_result"
    }
   ],
   "source": [
    "def day23_2():\n",
    "  expanded = (\n",
    "    (rooms[0][0], 1000, 1000, rooms[0][1]),\n",
    "    (rooms[1][0], 100, 10, rooms[1][1]),\n",
    "    (rooms[2][0], 10, 1, rooms[2][1]),\n",
    "    (rooms[3][0], 1, 100, rooms[3][1])\n",
    "  )\n",
    "  return search_amphipod(hallway, expanded)\n",
    "\n",
    "day23_2()"
   ]
  },
  {
   "cell_type": "markdown",
   "metadata": {},
   "source": [
    "## Day 24\n",
    "\n",
    "Yet another dp problem"
   ]
  },
  {
   "cell_type": "code",
   "execution_count": 5,
   "metadata": {},
   "outputs": [],
   "source": [
    "data24 = data(24, lambda x: x.split(' '))\n",
    "\n",
    "def split_by_inps(instructions: list[str]):\n",
    "  groups, current = [], []\n",
    "  for i in instructions:\n",
    "    if i[0] == 'inp':\n",
    "      groups.append(current)\n",
    "      current = [i]\n",
    "    else:\n",
    "      current.append(i)\n",
    "  groups.append(current)\n",
    "  return groups[1:]\n",
    "  \n",
    "class ALU:\n",
    "  def __init__(self, data: list[str]):\n",
    "    self.instructions = split_by_inps(data)\n",
    "    self.variables = defaultdict(lambda: 0)\n",
    "    self.inputs = []\n",
    "\n",
    "  def input(self, key: str):\n",
    "    value = self.inputs.popleft()\n",
    "    self.variables[key] = int(value)\n",
    "\n",
    "  def add(self, key: str, value: int):\n",
    "    self.variables[key] += value\n",
    "\n",
    "  def mul(self, key: str, value: int):\n",
    "    self.variables[key] *= value\n",
    "\n",
    "  def div(self, key: str, value: int):\n",
    "    self.variables[key] //= value\n",
    "\n",
    "  def mod(self, key: str, value: int):\n",
    "    self.variables[key] %= value\n",
    "\n",
    "  def eql(self, a: str, b: str):\n",
    "    self.variables[a] = 1 if self.value(a) == self.value(b) else 0\n",
    "\n",
    "  def value(self, input: str):\n",
    "    if input[0] == '-' or input[0].isdigit():\n",
    "      return int(input)\n",
    "    return self.variables[input]\n",
    "\n",
    "  def reset(self, variables={}):\n",
    "    self.variables = defaultdict(lambda: 0, variables)\n",
    "\n",
    "  def check(self, input: int, stage: int, variables={}):\n",
    "    self.reset(variables)\n",
    "    self.inputs = deque(str(input))\n",
    "    for instruction in self.instructions[stage]:\n",
    "      self.run(instruction)\n",
    "    return self.variables\n",
    "\n",
    "  def run(self, instruction: str):\n",
    "    if instruction[0] == 'inp':\n",
    "      return self.input(instruction[1])\n",
    "    op, key, v = instruction\n",
    "    value = self.value(v)\n",
    "    match op:\n",
    "      case 'add':\n",
    "        self.add(key, value)\n",
    "      case 'mul':\n",
    "        self.mul(key, value)\n",
    "      case 'div':\n",
    "        self.div(key, value)\n",
    "      case 'mod':\n",
    "        self.mod(key, value)\n",
    "      case 'eql':\n",
    "        self.eql(key, v)\n",
    "\n",
    "machine = ALU(data24)"
   ]
  },
  {
   "cell_type": "code",
   "execution_count": 7,
   "metadata": {},
   "outputs": [
    {
     "data": {
      "text/plain": [
       "65984919997939"
      ]
     },
     "execution_count": 7,
     "metadata": {},
     "output_type": "execute_result"
    }
   ],
   "source": [
    "def check(input: tuple[int, int, int, int, int], stage: int):\n",
    "  w, x, y, z, new = input\n",
    "  result = machine.check(new, stage, {'w': w, 'x': x, 'y': y, 'z': z})\n",
    "  return result\n",
    "  \n",
    "# Note: very slow\n",
    "@lru_cache(maxsize=None)\n",
    "def derive_number(stage: int, z: int) -> int:\n",
    "  length = len(machine.instructions) - 1\n",
    "\n",
    "  for i in range(9,-1,-1):\n",
    "    # w, x, and y are always set to 0, either via inp or mul 0\n",
    "    nz = check((0,0,0,z,i), stage)['z']\n",
    "    if stage == length:\n",
    "      if nz == 0:\n",
    "        return i\n",
    "      continue\n",
    "\n",
    "    # Since z mod 26 occurs on each step, it does not generate unique results past 26\n",
    "    if nz >= 26 ** (length - stage):\n",
    "      continue\n",
    "\n",
    "    if result := derive_number(stage + 1, nz):\n",
    "      return i*10**(length - stage) + result\n",
    "\n",
    "  return None\n",
    "\n",
    "def day24():\n",
    "  return derive_number(0, 0)\n",
    "\n",
    "day24()"
   ]
  },
  {
   "cell_type": "code",
   "execution_count": 6,
   "metadata": {},
   "outputs": [
    {
     "data": {
      "text/plain": [
       "11211619541713"
      ]
     },
     "execution_count": 6,
     "metadata": {},
     "output_type": "execute_result"
    }
   ],
   "source": [
    "@lru_cache(maxsize=None)\n",
    "def derive_number_reversed(stage: int, z: int) -> int:\n",
    "  length = len(machine.instructions) - 1\n",
    "\n",
    "  for i in range(1, 10):\n",
    "    # w, x, and y are always set to 0, either via inp or mul 0\n",
    "    nz = check((0,0,0,z,i), stage)['z']\n",
    "    if stage == length:\n",
    "      if nz == 0:\n",
    "        return i\n",
    "      continue\n",
    "\n",
    "    # Since z mod 26 occurs on each step, it does not generate unique results past 26\n",
    "    if nz >= 26 ** (length - stage):\n",
    "      continue\n",
    "\n",
    "    if result := derive_number_reversed(stage + 1, nz):\n",
    "      return i*10**(length - stage) + result\n",
    "\n",
    "  return None\n",
    "\n",
    "def day24_2():\n",
    "  return derive_number_reversed(0, 0)\n",
    "\n",
    "day24_2()"
   ]
  },
  {
   "cell_type": "markdown",
   "metadata": {},
   "source": [
    "## Day 25"
   ]
  },
  {
   "cell_type": "code",
   "execution_count": null,
   "metadata": {},
   "outputs": [],
   "source": []
  }
 ],
 "metadata": {
  "interpreter": {
   "hash": "afbe5a8ba36a338952c60eef10b6c95614c86f7af75be44edfb1c9691ab6c108"
  },
  "kernelspec": {
   "display_name": "Python 3.8.10 64-bit ('.venv': poetry)",
   "language": "python",
   "name": "python3"
  },
  "language_info": {
   "codemirror_mode": {
    "name": "ipython",
    "version": 3
   },
   "file_extension": ".py",
   "mimetype": "text/x-python",
   "name": "python",
   "nbconvert_exporter": "python",
   "pygments_lexer": "ipython3",
   "version": "3.10.0"
  },
  "orig_nbformat": 4
 },
 "nbformat": 4,
 "nbformat_minor": 2
}
