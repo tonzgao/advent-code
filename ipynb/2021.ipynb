{
 "cells": [
  {
   "cell_type": "markdown",
   "metadata": {},
   "source": [
    "# [Advent of Code 2021](https://adventofcode.com/2021)\n",
    "\n",
    "Partially inspired by [Norvig's pytudes](https://github.com/norvig/pytudes/blob/main/ipynb/Advent-2020.ipynb), although I probably won't be using the same style.\n",
    "\n",
    "Goals\n",
    "------\n",
    "* Try to finish all gold stars on day of puzzle\n",
    "* Learn new python features\n",
    "* Investigate github copilot"
   ]
  },
  {
   "cell_type": "code",
   "execution_count": 58,
   "metadata": {},
   "outputs": [],
   "source": [
    "# Imports\n",
    "\n",
    "from collections import defaultdict, Counter\n",
    "import itertools\n",
    "from functools import lru_cache\n",
    "import numpy as np\n",
    "import numpy.typing as npt\n",
    "import re\n",
    "from typing import Callable, TypeVar\n",
    "\n",
    "T = TypeVar('T')\n",
    "\n",
    "# Helper functions\n",
    "\n",
    "def data(day: int, parser: Callable[[str], T] = str) -> list[T]:\n",
    "  with open(f\"../data/2021/day{day}.txt\") as f:\n",
    "    return [parser(line.strip()) for line in f.readlines()]\n",
    "\n",
    "def split_csv_row(row: str) -> list[int]:\n",
    "  return [int(x) for x in row.split(',')]\n",
    "\n",
    "def split_int_row(row: str) -> list[int]:\n",
    "  return [int(x) for x in row]"
   ]
  },
  {
   "cell_type": "markdown",
   "metadata": {},
   "source": [
    "## Day 1\n",
    "\n",
    "Determine number of increments in list"
   ]
  },
  {
   "cell_type": "code",
   "execution_count": 13,
   "metadata": {},
   "outputs": [],
   "source": [
    "data1 = data(1, int)"
   ]
  },
  {
   "cell_type": "code",
   "execution_count": 14,
   "metadata": {},
   "outputs": [
    {
     "data": {
      "text/plain": [
       "1688"
      ]
     },
     "execution_count": 14,
     "metadata": {},
     "output_type": "execute_result"
    }
   ],
   "source": [
    "def day1(data: list[int]) -> int:\n",
    "  count, current = 0, data[0]\n",
    "  for i in data[1:]:\n",
    "    if i > current:\n",
    "      count += 1\n",
    "    current = i\n",
    "  return count\n",
    "\n",
    "day1(data1)"
   ]
  },
  {
   "cell_type": "code",
   "execution_count": 48,
   "metadata": {},
   "outputs": [
    {
     "data": {
      "text/plain": [
       "1728"
      ]
     },
     "execution_count": 48,
     "metadata": {},
     "output_type": "execute_result"
    }
   ],
   "source": [
    "def win3(data: list[int]) -> list[int]:\n",
    "  for i in range(len(data) - 2):\n",
    "    yield sum(data[i:i+3])\n",
    "\n",
    "day1(list(win3(data1)))"
   ]
  },
  {
   "cell_type": "markdown",
   "metadata": {},
   "source": [
    "## Day 2\n",
    "\n",
    "Maintain sum of depth and length"
   ]
  },
  {
   "cell_type": "code",
   "execution_count": 97,
   "metadata": {},
   "outputs": [],
   "source": [
    "data2 = data('2')"
   ]
  },
  {
   "cell_type": "code",
   "execution_count": 22,
   "metadata": {},
   "outputs": [
    {
     "data": {
      "text/plain": [
       "1451208"
      ]
     },
     "execution_count": 22,
     "metadata": {},
     "output_type": "execute_result"
    }
   ],
   "source": [
    "def day2(data: list[str]) -> int:\n",
    "  depth, length = 0, 0\n",
    "  for i in data:\n",
    "    mode, amount = i.split(' ')\n",
    "    amount = int(amount)\n",
    "    match mode:\n",
    "      case 'forward':\n",
    "        length += amount\n",
    "      case 'down':\n",
    "        depth += amount\n",
    "      case 'up':\n",
    "        depth -= amount\n",
    "  return depth * length\n",
    "\n",
    "day2(data2)"
   ]
  },
  {
   "cell_type": "code",
   "execution_count": 26,
   "metadata": {},
   "outputs": [
    {
     "data": {
      "text/plain": [
       "1620141160"
      ]
     },
     "execution_count": 26,
     "metadata": {},
     "output_type": "execute_result"
    }
   ],
   "source": [
    "def day2_2(data: list[str]) -> int:\n",
    "  depth, length, aim = 0, 0, 0\n",
    "  for i in data:\n",
    "    mode, amount = i.split(' ')\n",
    "    amount = int(amount)\n",
    "    match mode:\n",
    "      case 'forward':\n",
    "        length += amount\n",
    "        depth += amount * aim\n",
    "      case 'down':\n",
    "        aim += amount\n",
    "      case 'up':\n",
    "        aim -= amount\n",
    "  return depth * length\n",
    "\n",
    "day2_2(data2)"
   ]
  },
  {
   "cell_type": "markdown",
   "metadata": {},
   "source": [
    "## Day 3\n",
    "\n",
    "Can probably be solved with bit tricks, but I'll just implement them as array problems."
   ]
  },
  {
   "cell_type": "code",
   "execution_count": 98,
   "metadata": {},
   "outputs": [],
   "source": [
    "data3 = data('3')\n",
    "\n",
    "def binlist2int(l: list[int]) -> int:\n",
    "  return int(\"\".join(str(i) for i in l), 2)"
   ]
  },
  {
   "cell_type": "code",
   "execution_count": 177,
   "metadata": {},
   "outputs": [
    {
     "data": {
      "text/plain": [
       "2954600"
      ]
     },
     "execution_count": 177,
     "metadata": {},
     "output_type": "execute_result"
    }
   ],
   "source": [
    "def day3(data: list[int]):\n",
    "  total = len(data)\n",
    "  size = len(data[0])\n",
    "  sums = [0] * size\n",
    "  for binary in data:\n",
    "    for i, v in enumerate(binary):\n",
    "      sums[i] += int(v)\n",
    "  \n",
    "  gamma = [0 if total - i > i else 1 for i in sums]\n",
    "  epsilon = [i ^ 1 for i in gamma]\n",
    "  return binlist2int(gamma) * binlist2int(epsilon)\n",
    "\n",
    "day3(data3)"
   ]
  },
  {
   "cell_type": "code",
   "execution_count": 179,
   "metadata": {},
   "outputs": [
    {
     "data": {
      "text/plain": [
       "1662846"
      ]
     },
     "execution_count": 179,
     "metadata": {},
     "output_type": "execute_result"
    }
   ],
   "source": [
    "def find_boundary(data: list[str], start: int, end: int, index: int) -> int:\n",
    "  # TODO: this can be implemented as binary search\n",
    "  for i, v in enumerate(data[start:end+1]):\n",
    "    if v[index] == '1':\n",
    "      return start + i\n",
    "  return start\n",
    "\n",
    "def scrubber(data: list[str], lcd: bool) -> int:\n",
    "  # Run \"binary search\"\n",
    "  low, high = 0, len(data) - 1\n",
    "  for target in range(len(data[0])):\n",
    "    index = low + ((high - low + 1) // 2)\n",
    "    item = data[index][target]\n",
    "\n",
    "    if lcd and item == '0':\n",
    "      # Select all '1's in the bottom half\n",
    "      low = find_boundary(data, index, high, target)\n",
    "    elif lcd and item == '1':\n",
    "      # Select all '0's in the top half\n",
    "      high = find_boundary(data, low, index, target) - 1\n",
    "    elif item == '0':\n",
    "      # Select all '0's from the top through to the bottom half\n",
    "      high = find_boundary(data, index, high, target) - 1\n",
    "    else:\n",
    "      # Select all '1' starting from the top half to the end\n",
    "      low = find_boundary(data, low, index, target)\n",
    "    \n",
    "    if low == high:\n",
    "      break\n",
    "\n",
    "  return data[low]\n",
    "\n",
    "def day3_2(data: list[str]) -> int:\n",
    "  data = sorted(data)\n",
    "  oxygen = scrubber(data, False)\n",
    "  c02 = scrubber(data, True)\n",
    "  return binlist2int(oxygen) * binlist2int(c02)\n",
    "\n",
    "day3_2(data3)"
   ]
  },
  {
   "cell_type": "markdown",
   "metadata": {},
   "source": [
    "## Day 4\n",
    "Reference storing Bingo Boards"
   ]
  },
  {
   "cell_type": "code",
   "execution_count": 99,
   "metadata": {},
   "outputs": [],
   "source": [
    "data4 = data('4')\n",
    "\n",
    "class BingoBoard:\n",
    "  def __init__(self):\n",
    "    self.board = []\n",
    "    self.size = 0\n",
    "    # TODO: this state should be stored elsewhere\n",
    "    self.rows = []\n",
    "    self.cols = []\n",
    "    \n",
    "  def add_row(self, row: list[int]):\n",
    "    self.board.append(row)\n",
    "    if not self.size:\n",
    "      self.size = len(row)\n",
    "      self.rows = [0] * self.size\n",
    "      # Assume column size is same as row size\n",
    "      self.cols = [0] * self.size\n",
    "\n",
    "def parse_data4(data: list[str]) -> tuple[list[int], list[BingoBoard]]:\n",
    "  numbers = [int(x) for x in data[0].split(',')]\n",
    "  boards, board = [], None\n",
    "  for row in data[1:]:\n",
    "    if row == '':\n",
    "      board = BingoBoard()\n",
    "      boards.append(board)\n",
    "    else:\n",
    "      board.add_row([int(x) for x in re.split('\\s+', row)])\n",
    "  return numbers, boards\n",
    "\n",
    "def analyze_boards(boards: list[BingoBoard]) -> dict[list[tuple[int,int,BingoBoard]]]:\n",
    "  # For each number, store the row and column with every board it was found in\n",
    "  keys = defaultdict(lambda: [])\n",
    "  for board in boards:\n",
    "    for i, row in enumerate(board.board):\n",
    "      for j, v in enumerate(row):\n",
    "        keys[v].append((i, j, board))\n",
    "  return keys"
   ]
  },
  {
   "cell_type": "code",
   "execution_count": 75,
   "metadata": {},
   "outputs": [
    {
     "data": {
      "text/plain": [
       "4512"
      ]
     },
     "execution_count": 75,
     "metadata": {},
     "output_type": "execute_result"
    }
   ],
   "source": [
    "def calculate_score(board: BingoBoard, numbers: set[int]) -> int:\n",
    "  score = 0\n",
    "  for row in board.board:\n",
    "    for v in row:\n",
    "      if v not in numbers:\n",
    "        score += v\n",
    "  return score\n",
    "\n",
    "def day4(data: list[str]) -> int:\n",
    "  numbers, boards = parse_data4(data)  \n",
    "  keys = analyze_boards(boards)\n",
    "  selected = set()\n",
    "  for number in numbers:\n",
    "    if number in selected:\n",
    "      continue\n",
    "    selected.add(number)\n",
    "    for i, j, board in keys[number]:\n",
    "      board.rows[i] += 1\n",
    "      board.cols[j] += 1\n",
    "      if board.size == board.rows[i] or board.size == board.cols[j]:\n",
    "        return calculate_score(board, selected) * number\n",
    "\n",
    "day4(data4)"
   ]
  },
  {
   "cell_type": "code",
   "execution_count": 82,
   "metadata": {},
   "outputs": [
    {
     "data": {
      "text/plain": [
       "5586"
      ]
     },
     "execution_count": 82,
     "metadata": {},
     "output_type": "execute_result"
    }
   ],
   "source": [
    "def retroactive_selected(inputs: list[int], end: int) -> int:\n",
    "  index = inputs.index(end) + 1\n",
    "  return set(inputs[:index])\n",
    "\n",
    "def day4_2(data: list[str]) -> int:\n",
    "  numbers, boards = parse_data4(data)  \n",
    "  keys = analyze_boards(boards)\n",
    "  selected = set()\n",
    "  completed, last_winner, last_num = set(), None, 0\n",
    "  for number in numbers:\n",
    "    if number in selected:\n",
    "      continue\n",
    "    selected.add(number)\n",
    "    for i, j, board in keys[number]:\n",
    "      if board in completed:\n",
    "        continue\n",
    "      board.rows[i] += 1\n",
    "      board.cols[j] += 1\n",
    "      if board.size == board.rows[i] or board.size == board.cols[j]:\n",
    "        completed.add(board)\n",
    "        last_winner, last_num = board, number\n",
    "  return calculate_score(last_winner, retroactive_selected(numbers, last_num)) * last_num\n",
    "\n",
    "day4_2(data4)"
   ]
  },
  {
   "cell_type": "markdown",
   "metadata": {},
   "source": [
    "## Day 5\n",
    "\n",
    "Some possible ideas for solutions: \n",
    "1. use vector products between each pair (n^2) and remove duplicates somehow\n",
    "2. use a 2-d interval tree and detect where sums on a point are greater than 1\n",
    "3. fill a 2-d grid and iterate through points\n",
    "\n",
    "Implementing with idea 3 for now, since size of grid is small relative to number of lines"
   ]
  },
  {
   "cell_type": "code",
   "execution_count": 102,
   "metadata": {},
   "outputs": [],
   "source": [
    "Line = tuple[tuple[int, int], tuple[int, int]]\n",
    "\n",
    "def parse5(line: str) -> list[Line]:\n",
    "  result = re.split('[\\s,]', line)\n",
    "  return (\n",
    "    (int(result[0]), int(result[3])), # xs\n",
    "    (int(result[1]), int(result[4])) # ys\n",
    "  )\n",
    "\n",
    "data5 = data('5', parse5)"
   ]
  },
  {
   "cell_type": "code",
   "execution_count": 103,
   "metadata": {},
   "outputs": [
    {
     "data": {
      "text/plain": [
       "4728"
      ]
     },
     "execution_count": 103,
     "metadata": {},
     "output_type": "execute_result"
    }
   ],
   "source": [
    "class BaseHydroVents:\n",
    "  def __init__(self, size: int) -> None:\n",
    "    self.grid = np.zeros([size, size])\n",
    "\n",
    "  def add_line(self, line: Line) -> None:\n",
    "    if line[0][0] == line[0][1]:\n",
    "      self.add_vertical_line(sorted(line[1]), line[0][0])\n",
    "    elif line[1][0] == line[1][1]:\n",
    "      self.add_horizontal_line(sorted(line[0]), line[1][0])\n",
    "    else:\n",
    "      self.add_diagonal_line(line)\n",
    "\n",
    "  def add_diagonal_line(self, line: Line) -> None:\n",
    "    # Stub\n",
    "    return\n",
    "\n",
    "  def add_horizontal_line(self, xs: tuple[int, int], y: int) -> None:\n",
    "    for x in range(xs[0], xs[1] + 1):\n",
    "      self.grid[y][x] += 1\n",
    "\n",
    "  def add_vertical_line(self, ys: tuple[int, int], x: int) -> None:\n",
    "    for y in range(ys[0], ys[1] + 1):\n",
    "      self.grid[y][x] += 1\n",
    "\n",
    "def max_vent_point(data: list[Line]) -> int:\n",
    "  return max([max(max(x[0]), max(x[1])) for x in data])\n",
    "\n",
    "def day5(data: list[Line]) -> int:\n",
    "  size = max_vent_point(data) + 1\n",
    "  vents = BaseHydroVents(size)\n",
    "  for line in data:\n",
    "    vents.add_line(line)\n",
    "  mask = vents.grid > 1\n",
    "  return np.count_nonzero(mask)\n",
    "\n",
    "day5(data5)\n"
   ]
  },
  {
   "cell_type": "code",
   "execution_count": 104,
   "metadata": {},
   "outputs": [
    {
     "data": {
      "text/plain": [
       "17717"
      ]
     },
     "execution_count": 104,
     "metadata": {},
     "output_type": "execute_result"
    }
   ],
   "source": [
    "class HydroVents (BaseHydroVents):\n",
    "  def __init__(self, size: int) -> None:\n",
    "    self.grid = np.zeros([size, size])\n",
    "\n",
    "  def add_diagonal_line(self, line: Line) -> None:\n",
    "    # Only supports 45 degree lines\n",
    "    xs, ys = line[0], line[1]\n",
    "    dx = 1 if xs[1] > xs[0] else -1\n",
    "    dy = 1 if ys[1] > ys[0] else -1\n",
    "    length = abs(xs[1] - xs[0]) + 1\n",
    "    for i in range(length):\n",
    "      self.grid[ys[0] + dy * i][xs[0] + dx * i] += 1\n",
    "\n",
    "def day5_2(data: list[Line]) -> int:\n",
    "  size = max_vent_point(data) + 1\n",
    "  vents = HydroVents(size)\n",
    "  for line in data:\n",
    "    vents.add_line(line)\n",
    "  mask = vents.grid > 1\n",
    "  return np.count_nonzero(mask)\n",
    "\n",
    "day5_2(data5)\n"
   ]
  },
  {
   "cell_type": "markdown",
   "metadata": {},
   "source": [
    "## Day 6\n",
    "\n",
    "Seems like a DP problem"
   ]
  },
  {
   "cell_type": "code",
   "execution_count": 4,
   "metadata": {},
   "outputs": [],
   "source": [
    "data6 = data('6', split_csv_row)"
   ]
  },
  {
   "cell_type": "code",
   "execution_count": 99,
   "metadata": {},
   "outputs": [
    {
     "data": {
      "text/plain": [
       "394994"
      ]
     },
     "execution_count": 99,
     "metadata": {},
     "output_type": "execute_result"
    }
   ],
   "source": [
    "@lru_cache(None)\n",
    "def spawns6(days: int):\n",
    "  if days < 6:\n",
    "    return 1\n",
    "  return spawns6(days-7) + spawns8(days-7)\n",
    "\n",
    "@lru_cache(None)\n",
    "def spawns8(days: int):\n",
    "  if days < 8:\n",
    "    return 1\n",
    "  return spawns6(days-9) + spawns8(days-9)\n",
    "\n",
    "def day6(data: list[int], days: int) -> int:\n",
    "  result = [spawns6(days + 6 - i) for i in data]\n",
    "  return sum(result)\n",
    "\n",
    "day6(data6, 79)"
   ]
  },
  {
   "cell_type": "code",
   "execution_count": 100,
   "metadata": {},
   "outputs": [
    {
     "data": {
      "text/plain": [
       "1765974267455"
      ]
     },
     "execution_count": 100,
     "metadata": {},
     "output_type": "execute_result"
    }
   ],
   "source": [
    "day6(data6, 255)"
   ]
  },
  {
   "cell_type": "markdown",
   "metadata": {},
   "source": [
    "## Day 7\n",
    "\n",
    "Minimize v-shaped curve $ |F(c)| $ where $ A - c = F $ using binary search"
   ]
  },
  {
   "cell_type": "code",
   "execution_count": 34,
   "metadata": {},
   "outputs": [],
   "source": [
    "data7 = data(7, split_csv_row)[0]"
   ]
  },
  {
   "cell_type": "code",
   "execution_count": 38,
   "metadata": {},
   "outputs": [
    {
     "data": {
      "text/plain": [
       "343605"
      ]
     },
     "execution_count": 38,
     "metadata": {},
     "output_type": "execute_result"
    }
   ],
   "source": [
    "CostFunction7 = Callable[[npt.ArrayLike], int]\n",
    "def fuel_used(input: npt.ArrayLike) -> int:\n",
    "  return np.sum(np.abs(input))\n",
    "\n",
    "def deltas(input: npt.ArrayLike, current: int, cost: CostFunction7) -> tuple[int, int, int]:\n",
    "  y = cost(input - current)\n",
    "  left = cost(input - current - 1)\n",
    "  right = cost(input - current + 1)\n",
    "  return left, y, right\n",
    "\n",
    "# TODO: could use scipy.optimize.minimize instead\n",
    "def bsearch7(input: npt.ArrayLike, low: int, high: int, cost: CostFunction7) -> int:\n",
    "  while low < high:\n",
    "    mid = (low + high) // 2\n",
    "    left, y, right = deltas(input, mid, cost)\n",
    "    if left < y:\n",
    "      low = mid + 1\n",
    "    elif right < y:\n",
    "      high = mid\n",
    "    else:\n",
    "      low, high = mid, mid\n",
    "  return mid\n",
    "\n",
    "def day7(data: list[int], cost: CostFunction7) -> int:\n",
    "  input = np.array(data)\n",
    "  hmin, hmax = np.min(input), np.max(input)\n",
    "  result = bsearch7(input, hmin, hmax, cost)\n",
    "  return cost(input - result)\n",
    "\n",
    "day7(data7, fuel_used)"
   ]
  },
  {
   "cell_type": "code",
   "execution_count": 39,
   "metadata": {},
   "outputs": [
    {
     "data": {
      "text/plain": [
       "96744904"
      ]
     },
     "execution_count": 39,
     "metadata": {},
     "output_type": "execute_result"
    }
   ],
   "source": [
    "def triangular_number(n: int) -> int:\n",
    "  return n * (n + 1) // 2\n",
    "\n",
    "def fuel_used2(input: npt.ArrayLike) -> int:\n",
    "  return np.sum(triangular_number(np.abs(input)))\n",
    "\n",
    "day7(data7, fuel_used2)"
   ]
  },
  {
   "cell_type": "markdown",
   "metadata": {},
   "source": [
    "## Day 8\n",
    "\n",
    "Set intersections"
   ]
  },
  {
   "cell_type": "code",
   "execution_count": 92,
   "metadata": {},
   "outputs": [],
   "source": [
    "data8 = data('8')"
   ]
  },
  {
   "cell_type": "code",
   "execution_count": 101,
   "metadata": {},
   "outputs": [
    {
     "data": {
      "text/plain": [
       "383"
      ]
     },
     "execution_count": 101,
     "metadata": {},
     "output_type": "execute_result"
    }
   ],
   "source": [
    "Knowns9 = dict[int, set[str]]\n",
    "\n",
    "items_by_length = defaultdict(lambda: None, {\n",
    "  2: 1,\n",
    "  3: 7,\n",
    "  4: 4,\n",
    "  7: 8\n",
    "})\n",
    "def disambiguate6(item: set[str], knowns: Knowns9) -> int:\n",
    "    if knowns[1] - item:\n",
    "      return 6\n",
    "    elif not knowns[4] - item:\n",
    "      return 9\n",
    "    else:\n",
    "      return 0\n",
    "def disambiguate5(item: set[str], knowns: Knowns9) -> int:\n",
    "    if not knowns[7] - item:\n",
    "      return 3\n",
    "    elif len(knowns[6] - item) == 1:\n",
    "      return 5\n",
    "    else:\n",
    "      return 2\n",
    "\n",
    "def group_items(data: list[str]) -> tuple[Knowns9]:\n",
    "  knowns = {}\n",
    "  unknowns = []\n",
    "  for i in data:\n",
    "    item = set(i)\n",
    "    match len(item):\n",
    "      case 6:\n",
    "        unknowns.append(item)\n",
    "      case _:\n",
    "        knowns[items_by_length[len(item)]] = item\n",
    "  for item in unknowns:\n",
    "    knowns[disambiguate6(item, knowns)] = item\n",
    "  # Disambiguate5 not required to be run, we can do that while decoding the output\n",
    "  return knowns\n",
    "\n",
    "def parse_line(line: str) -> str:\n",
    "  input, output = tuple(group.split(' ') for group in line.split(' | '))\n",
    "  knowns = group_items(input)\n",
    "  for i in output:\n",
    "    item = set(i)\n",
    "    match len(item):\n",
    "      case 5:\n",
    "        yield disambiguate5(item, knowns)\n",
    "      case 6:\n",
    "        yield disambiguate6(item, knowns)\n",
    "      case _:\n",
    "        yield items_by_length[len(item)]\n",
    "\n",
    "# Overly complicated way to do what's required, but it's pretty clear what's coming in part 2\n",
    "def day8(data: list[str]) -> int:\n",
    "  count = 0\n",
    "  targets = items_by_length.values()\n",
    "  for line in data:\n",
    "    result = parse_line(line)\n",
    "    for number in result:\n",
    "      if number in targets:\n",
    "        count += 1\n",
    "  return count\n",
    "\n",
    "day8(data8)"
   ]
  },
  {
   "cell_type": "code",
   "execution_count": 93,
   "metadata": {},
   "outputs": [
    {
     "data": {
      "text/plain": [
       "998900"
      ]
     },
     "execution_count": 93,
     "metadata": {},
     "output_type": "execute_result"
    }
   ],
   "source": [
    "def day8_2(data: list[str]) -> int:\n",
    "  total = 0\n",
    "  for line in data:\n",
    "    result = parse_line(line)\n",
    "    total += int(''.join(str(i) for i in result))\n",
    "  return total\n",
    "\n",
    "day8_2(data8)"
   ]
  },
  {
   "cell_type": "markdown",
   "metadata": {},
   "source": [
    "## Day 9\n",
    "* Part 1: numpy array masking\n",
    "* Part 2: Recursive search from results of part 1"
   ]
  },
  {
   "cell_type": "code",
   "execution_count": 5,
   "metadata": {},
   "outputs": [],
   "source": [
    "data9 = np.array(data('9', split_int_row))"
   ]
  },
  {
   "cell_type": "code",
   "execution_count": 53,
   "metadata": {},
   "outputs": [
    {
     "data": {
      "text/plain": [
       "508"
      ]
     },
     "execution_count": 53,
     "metadata": {},
     "output_type": "execute_result"
    }
   ],
   "source": [
    "def get_basins(data: npt.ArrayLike) -> npt.ArrayLike:\n",
    "  zero_row, zero_col = np.full((1, data.shape[1]), 10), np.full((data.shape[0], 1), 10)\n",
    "  a = np.concatenate((data[1:], zero_row))\n",
    "  b = np.concatenate((zero_row, data[:-1]))\n",
    "  c = np.concatenate((data[:, 1:], zero_col), axis=1)\n",
    "  d = np.concatenate((zero_col, data[:, :-1]), axis=1)\n",
    "\n",
    "  mask = (data - a < 0) & (data - b < 0) & (data - c < 0) & (data - d < 0)\n",
    "  indices = np.where(mask)\n",
    "  return [(index[1], index[0]) for index in zip(indices[0], indices[1])]\n",
    "\n",
    "def day9(data: npt.ArrayLike) -> int:\n",
    "  basins = get_basins(data)\n",
    "  return sum([data[y][x] for x, y in basins]) + len(basins)\n",
    "\n",
    "day9(data9)"
   ]
  },
  {
   "cell_type": "code",
   "execution_count": 61,
   "metadata": {},
   "outputs": [
    {
     "data": {
      "text/plain": [
       "1564640"
      ]
     },
     "execution_count": 61,
     "metadata": {},
     "output_type": "execute_result"
    }
   ],
   "source": [
    "def day9_2(data: npt.ArrayLike) -> int:\n",
    "  claimed = set()\n",
    "  size = data9.shape\n",
    "\n",
    "  def claim(x: int, y: int) -> int:\n",
    "    if x < 0 or y < 0 or x >= size[1] or y >= size[0]:\n",
    "      return 0\n",
    "    if (x, y) in claimed:\n",
    "      return 0\n",
    "    if data[y][x] == 9:\n",
    "      return 0\n",
    "    claimed.add((x, y))\n",
    "    return 1 + claim(x+1, y) + claim(x-1, y) + claim(x, y+1) + claim(x, y - 1)\n",
    "\n",
    "  basins = [] # TODO: use 3-heap instead\n",
    "  for (x, y) in get_basins(data):\n",
    "    if basin_size := claim(x, y):\n",
    "      basins.append(basin_size)\n",
    "  return np.prod(sorted(basins, reverse=True)[:3])\n",
    "\n",
    "day9_2(data9)"
   ]
  },
  {
   "cell_type": "markdown",
   "metadata": {},
   "source": [
    "## Day 10\n",
    "Stack stuff"
   ]
  },
  {
   "cell_type": "code",
   "execution_count": 7,
   "metadata": {},
   "outputs": [],
   "source": [
    "data10 = data('10')"
   ]
  },
  {
   "cell_type": "code",
   "execution_count": 8,
   "metadata": {},
   "outputs": [
    {
     "data": {
      "text/plain": [
       "319233"
      ]
     },
     "execution_count": 8,
     "metadata": {},
     "output_type": "execute_result"
    }
   ],
   "source": [
    "opens = {\n",
    "  '(': ')',\n",
    "  '[': ']',\n",
    "  '{': '}',\n",
    "  '<': '>',\n",
    "}\n",
    "error_scores = {\n",
    "  ')': 3,\n",
    "  ']': 57,\n",
    "  '}': 1197,\n",
    "  '>': 25137,\n",
    "}\n",
    "\n",
    "def handle_line10(line: str) -> str:\n",
    "  stack = []\n",
    "  for i in line:\n",
    "    if i in opens:\n",
    "      stack.append(i)\n",
    "    elif opens[stack[-1]] == i:\n",
    "      stack.pop()\n",
    "    else:\n",
    "      return i\n",
    "  return stack\n",
    "\n",
    "def day10(data: list[str]) -> int:\n",
    "  lines = ([handle_line10(line) for line in data])\n",
    "  errors = Counter([line for line in lines if type(line) is str])\n",
    "  return sum(error_scores[i] * errors[i] for i in errors)\n",
    "\n",
    "day10(data10)\n"
   ]
  },
  {
   "cell_type": "code",
   "execution_count": 9,
   "metadata": {},
   "outputs": [
    {
     "data": {
      "text/plain": [
       "1118976874"
      ]
     },
     "execution_count": 9,
     "metadata": {},
     "output_type": "execute_result"
    }
   ],
   "source": [
    "closing_scores = {\n",
    "  ')': 1,\n",
    "  ']': 2,\n",
    "  '}': 3,\n",
    "  '>': 4,\n",
    "}\n",
    "\n",
    "def closing_score(close: list[str]) -> int:\n",
    "  score = 0\n",
    "  for i in reversed(close):\n",
    "    score = score * 5 + closing_scores[opens[i]]\n",
    "  return score\n",
    "\n",
    "def day10_2(data: list[str]) -> int:\n",
    "  lines = ([handle_line10(line) for line in data])\n",
    "  scores = [closing_score(line) for line in lines if type(line) is list]\n",
    "  mid = len(scores) // 2\n",
    "  return sorted(scores)[mid]\n",
    "\n",
    "day10_2(data10)"
   ]
  },
  {
   "cell_type": "markdown",
   "metadata": {},
   "source": [
    "## Day 11\n",
    "Array operations"
   ]
  },
  {
   "cell_type": "code",
   "execution_count": 202,
   "metadata": {},
   "outputs": [],
   "source": [
    "data11 = np.array(data('11', split_int_row))"
   ]
  },
  {
   "cell_type": "code",
   "execution_count": 214,
   "metadata": {},
   "outputs": [
    {
     "data": {
      "text/plain": [
       "1719"
      ]
     },
     "execution_count": 214,
     "metadata": {},
     "output_type": "execute_result"
    }
   ],
   "source": [
    "def run_flashes(data: npt.ArrayLike, flashed: set[int], size: tuple[int, int], debug = False) -> bool:\n",
    "  changed = False\n",
    "  for i in reversed(np.argsort(data.flatten())):\n",
    "    x, y = i % size[1], i // size[1]\n",
    "    if data[y][x] > 9 and i not in flashed:\n",
    "      for index in itertools.product([x-1, x, x+1], [y-1, y, y+1]):\n",
    "        if index[0] == x and index[1] == y:\n",
    "          continue\n",
    "        if index[0] < 0 or index[0] >= size[1]:\n",
    "          continue\n",
    "        if index[1] < 0 or index[1] >= size[0]:\n",
    "          continue\n",
    "        data[index[1]][index[0]] += 1\n",
    "      flashed.add(i)\n",
    "      changed = True\n",
    "  return changed\n",
    "\n",
    "def check_flashes(data: npt.ArrayLike, size: tuple[int, int], debug = False) -> set[int]:\n",
    "  flashed = set()\n",
    "  changed = True\n",
    "  data += 1\n",
    "  while changed:\n",
    "    changed = run_flashes(data, flashed, size, debug)\n",
    "  np.put(data, list(flashed), [0])\n",
    "  return flashed\n",
    "\n",
    "def day11(data: npt.ArrayLike) -> int:\n",
    "  flashes = 0\n",
    "  size = data.shape\n",
    "  current = data.copy()\n",
    "  for _ in range(100):\n",
    "    flashes += len(check_flashes(current, size))\n",
    "  return flashes\n",
    "\n",
    "day11(data11)  "
   ]
  },
  {
   "cell_type": "code",
   "execution_count": 215,
   "metadata": {},
   "outputs": [
    {
     "data": {
      "text/plain": [
       "232"
      ]
     },
     "execution_count": 215,
     "metadata": {},
     "output_type": "execute_result"
    }
   ],
   "source": [
    "def day11_2(data: npt.ArrayLike) -> int:\n",
    "  size = data.shape\n",
    "  current = data.copy()\n",
    "  for i in range(10000):\n",
    "    check_flashes(current, size)\n",
    "    if np.sum(current) == 0:\n",
    "      return i + 1\n",
    "  raise Exception('Too few iterations')\n",
    "\n",
    "day11_2(data11)"
   ]
  },
  {
   "cell_type": "markdown",
   "metadata": {},
   "source": [
    "## Day 12\n",
    "\n",
    "TODO"
   ]
  },
  {
   "cell_type": "code",
   "execution_count": 216,
   "metadata": {},
   "outputs": [],
   "source": [
    "#TODO"
   ]
  }
 ],
 "metadata": {
  "interpreter": {
   "hash": "afbe5a8ba36a338952c60eef10b6c95614c86f7af75be44edfb1c9691ab6c108"
  },
  "kernelspec": {
   "display_name": "Python 3.8.10 64-bit ('.venv': poetry)",
   "language": "python",
   "name": "python3"
  },
  "language_info": {
   "codemirror_mode": {
    "name": "ipython",
    "version": 3
   },
   "file_extension": ".py",
   "mimetype": "text/x-python",
   "name": "python",
   "nbconvert_exporter": "python",
   "pygments_lexer": "ipython3",
   "version": "3.10.0"
  },
  "orig_nbformat": 4
 },
 "nbformat": 4,
 "nbformat_minor": 2
}
