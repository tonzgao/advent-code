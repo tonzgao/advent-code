{
 "cells": [
  {
   "cell_type": "markdown",
   "metadata": {},
   "source": [
    "# [Advent of Code 2021](https://adventofcode.com/2021)\n",
    "\n",
    "Partially inspired by [Norvig's pytudes](https://github.com/norvig/pytudes/blob/main/ipynb/Advent-2020.ipynb), although I probably won't be using the same style.\n",
    "\n",
    "Goals\n",
    "------\n",
    "* Try to finish all gold stars on day of puzzle\n",
    "* Learn new python features\n",
    "* Investigate github copilot"
   ]
  },
  {
   "cell_type": "code",
   "execution_count": 2,
   "metadata": {},
   "outputs": [],
   "source": [
    "# Imports\n",
    "\n",
    "from collections import defaultdict, Counter, deque\n",
    "import itertools\n",
    "from functools import lru_cache\n",
    "import json\n",
    "import numpy as np\n",
    "import numpy.typing as npt\n",
    "import networkx as nx\n",
    "import re\n",
    "from scipy import spatial\n",
    "from sortedcontainers import SortedList\n",
    "from typing import Callable, TypeVar, Union, Optional\n",
    "\n",
    "T = TypeVar('T')\n",
    "\n",
    "# Helper functions\n",
    "\n",
    "def data(day: int, parser: Callable[[str], T] = str) -> list[T]:\n",
    "  with open(f\"../data/2021/day{day}.txt\") as f:\n",
    "    return [parser(line.strip()) for line in f.readlines()]\n",
    "\n",
    "def split_csv_row(row: str) -> list[int]:\n",
    "  return [int(x) for x in row.split(',')]\n",
    "\n",
    "def split_int_row(row: str) -> list[int]:\n",
    "  return [int(x) for x in row]\n",
    "\n",
    "def bin2int(l: Union[list[int], str]) -> int:\n",
    "  return int(\"\".join(str(i) for i in l), 2)\n",
    "\n",
    "def triangular_number(n: int) -> int:\n",
    "  return n * (n + 1) // 2\n",
    "\n",
    "def wrap_general(start: int, end: int, num: int) -> int:\n",
    "  return start + (num - start) % (end - start)"
   ]
  },
  {
   "cell_type": "markdown",
   "metadata": {},
   "source": [
    "## Day 1\n",
    "\n",
    "Determine number of increments in list"
   ]
  },
  {
   "cell_type": "code",
   "execution_count": 13,
   "metadata": {},
   "outputs": [],
   "source": [
    "data1 = data(1, int)"
   ]
  },
  {
   "cell_type": "code",
   "execution_count": 14,
   "metadata": {},
   "outputs": [
    {
     "data": {
      "text/plain": [
       "1688"
      ]
     },
     "execution_count": 14,
     "metadata": {},
     "output_type": "execute_result"
    }
   ],
   "source": [
    "def day1(data: list[int]) -> int:\n",
    "  count, current = 0, data[0]\n",
    "  for i in data[1:]:\n",
    "    if i > current:\n",
    "      count += 1\n",
    "    current = i\n",
    "  return count\n",
    "\n",
    "day1(data1)"
   ]
  },
  {
   "cell_type": "code",
   "execution_count": 48,
   "metadata": {},
   "outputs": [
    {
     "data": {
      "text/plain": [
       "1728"
      ]
     },
     "execution_count": 48,
     "metadata": {},
     "output_type": "execute_result"
    }
   ],
   "source": [
    "def win3(data: list[int]) -> list[int]:\n",
    "  for i in range(len(data) - 2):\n",
    "    yield sum(data[i:i+3])\n",
    "\n",
    "day1(list(win3(data1)))"
   ]
  },
  {
   "cell_type": "markdown",
   "metadata": {},
   "source": [
    "## Day 2\n",
    "\n",
    "Maintain sum of depth and length"
   ]
  },
  {
   "cell_type": "code",
   "execution_count": 229,
   "metadata": {},
   "outputs": [],
   "source": [
    "data2 = data(2)"
   ]
  },
  {
   "cell_type": "code",
   "execution_count": 22,
   "metadata": {},
   "outputs": [
    {
     "data": {
      "text/plain": [
       "1451208"
      ]
     },
     "execution_count": 22,
     "metadata": {},
     "output_type": "execute_result"
    }
   ],
   "source": [
    "def day2(data: list[str]) -> int:\n",
    "  depth, length = 0, 0\n",
    "  for i in data:\n",
    "    mode, amount = i.split(' ')\n",
    "    amount = int(amount)\n",
    "    match mode:\n",
    "      case 'forward':\n",
    "        length += amount\n",
    "      case 'down':\n",
    "        depth += amount\n",
    "      case 'up':\n",
    "        depth -= amount\n",
    "  return depth * length\n",
    "\n",
    "day2(data2)"
   ]
  },
  {
   "cell_type": "code",
   "execution_count": 26,
   "metadata": {},
   "outputs": [
    {
     "data": {
      "text/plain": [
       "1620141160"
      ]
     },
     "execution_count": 26,
     "metadata": {},
     "output_type": "execute_result"
    }
   ],
   "source": [
    "def day2_2(data: list[str]) -> int:\n",
    "  depth, length, aim = 0, 0, 0\n",
    "  for i in data:\n",
    "    mode, amount = i.split(' ')\n",
    "    amount = int(amount)\n",
    "    match mode:\n",
    "      case 'forward':\n",
    "        length += amount\n",
    "        depth += amount * aim\n",
    "      case 'down':\n",
    "        aim += amount\n",
    "      case 'up':\n",
    "        aim -= amount\n",
    "  return depth * length\n",
    "\n",
    "day2_2(data2)"
   ]
  },
  {
   "cell_type": "markdown",
   "metadata": {},
   "source": [
    "## Day 3\n",
    "\n",
    "Can probably be solved with bit tricks, but I'll just implement them as array problems."
   ]
  },
  {
   "cell_type": "code",
   "execution_count": 222,
   "metadata": {},
   "outputs": [],
   "source": [
    "data3 = data(3)"
   ]
  },
  {
   "cell_type": "code",
   "execution_count": 177,
   "metadata": {},
   "outputs": [
    {
     "data": {
      "text/plain": [
       "2954600"
      ]
     },
     "execution_count": 177,
     "metadata": {},
     "output_type": "execute_result"
    }
   ],
   "source": [
    "def day3(data: list[int]):\n",
    "  total = len(data)\n",
    "  size = len(data[0])\n",
    "  sums = [0] * size\n",
    "  for binary in data:\n",
    "    for i, v in enumerate(binary):\n",
    "      sums[i] += int(v)\n",
    "  \n",
    "  gamma = [0 if total - i > i else 1 for i in sums]\n",
    "  epsilon = [i ^ 1 for i in gamma]\n",
    "  return bin2int(gamma) * bin2int(epsilon)\n",
    "\n",
    "day3(data3)"
   ]
  },
  {
   "cell_type": "code",
   "execution_count": 179,
   "metadata": {},
   "outputs": [
    {
     "data": {
      "text/plain": [
       "1662846"
      ]
     },
     "execution_count": 179,
     "metadata": {},
     "output_type": "execute_result"
    }
   ],
   "source": [
    "def find_boundary(data: list[str], start: int, end: int, index: int) -> int:\n",
    "  # TODO: this can be implemented as binary search\n",
    "  for i, v in enumerate(data[start:end+1]):\n",
    "    if v[index] == '1':\n",
    "      return start + i\n",
    "  return start\n",
    "\n",
    "def scrubber(data: list[str], lcd: bool) -> int:\n",
    "  # Run \"binary search\"\n",
    "  low, high = 0, len(data) - 1\n",
    "  for target in range(len(data[0])):\n",
    "    index = low + ((high - low + 1) // 2)\n",
    "    item = data[index][target]\n",
    "\n",
    "    if lcd and item == '0':\n",
    "      # Select all '1's in the bottom half\n",
    "      low = find_boundary(data, index, high, target)\n",
    "    elif lcd and item == '1':\n",
    "      # Select all '0's in the top half\n",
    "      high = find_boundary(data, low, index, target) - 1\n",
    "    elif item == '0':\n",
    "      # Select all '0's from the top through to the bottom half\n",
    "      high = find_boundary(data, index, high, target) - 1\n",
    "    else:\n",
    "      # Select all '1' starting from the top half to the end\n",
    "      low = find_boundary(data, low, index, target)\n",
    "    \n",
    "    if low == high:\n",
    "      break\n",
    "\n",
    "  return data[low]\n",
    "\n",
    "def day3_2(data: list[str]) -> int:\n",
    "  data = sorted(data)\n",
    "  oxygen = scrubber(data, False)\n",
    "  c02 = scrubber(data, True)\n",
    "  return bin2int(oxygen) * bin2int(c02)\n",
    "\n",
    "day3_2(data3)"
   ]
  },
  {
   "cell_type": "markdown",
   "metadata": {},
   "source": [
    "## Day 4\n",
    "Reference storing Bingo Boards"
   ]
  },
  {
   "cell_type": "code",
   "execution_count": 99,
   "metadata": {},
   "outputs": [],
   "source": [
    "data4 = data(4)\n",
    "\n",
    "class BingoBoard:\n",
    "  def __init__(self):\n",
    "    self.board = []\n",
    "    self.size = 0\n",
    "    # TODO: this state should be stored elsewhere\n",
    "    self.rows = []\n",
    "    self.cols = []\n",
    "    \n",
    "  def add_row(self, row: list[int]):\n",
    "    self.board.append(row)\n",
    "    if not self.size:\n",
    "      self.size = len(row)\n",
    "      self.rows = [0] * self.size\n",
    "      # Assume column size is same as row size\n",
    "      self.cols = [0] * self.size\n",
    "\n",
    "def parse_data4(data: list[str]) -> tuple[list[int], list[BingoBoard]]:\n",
    "  numbers = [int(x) for x in data[0].split(',')]\n",
    "  boards, board = [], None\n",
    "  for row in data[1:]:\n",
    "    if row == '':\n",
    "      board = BingoBoard()\n",
    "      boards.append(board)\n",
    "    else:\n",
    "      board.add_row([int(x) for x in re.split('\\s+', row)])\n",
    "  return numbers, boards\n",
    "\n",
    "def analyze_boards(boards: list[BingoBoard]) -> dict[list[tuple[int,int,BingoBoard]]]:\n",
    "  # For each number, store the row and column with every board it was found in\n",
    "  keys = defaultdict(lambda: [])\n",
    "  for board in boards:\n",
    "    for i, row in enumerate(board.board):\n",
    "      for j, v in enumerate(row):\n",
    "        keys[v].append((i, j, board))\n",
    "  return keys"
   ]
  },
  {
   "cell_type": "code",
   "execution_count": 75,
   "metadata": {},
   "outputs": [
    {
     "data": {
      "text/plain": [
       "4512"
      ]
     },
     "execution_count": 75,
     "metadata": {},
     "output_type": "execute_result"
    }
   ],
   "source": [
    "def calculate_score(board: BingoBoard, numbers: set[int]) -> int:\n",
    "  score = 0\n",
    "  for row in board.board:\n",
    "    for v in row:\n",
    "      if v not in numbers:\n",
    "        score += v\n",
    "  return score\n",
    "\n",
    "def day4(data: list[str]) -> int:\n",
    "  numbers, boards = parse_data4(data)  \n",
    "  keys = analyze_boards(boards)\n",
    "  selected = set()\n",
    "  for number in numbers:\n",
    "    if number in selected:\n",
    "      continue\n",
    "    selected.add(number)\n",
    "    for i, j, board in keys[number]:\n",
    "      board.rows[i] += 1\n",
    "      board.cols[j] += 1\n",
    "      if board.size == board.rows[i] or board.size == board.cols[j]:\n",
    "        return calculate_score(board, selected) * number\n",
    "\n",
    "day4(data4)"
   ]
  },
  {
   "cell_type": "code",
   "execution_count": 82,
   "metadata": {},
   "outputs": [
    {
     "data": {
      "text/plain": [
       "5586"
      ]
     },
     "execution_count": 82,
     "metadata": {},
     "output_type": "execute_result"
    }
   ],
   "source": [
    "def retroactive_selected(inputs: list[int], end: int) -> int:\n",
    "  index = inputs.index(end) + 1\n",
    "  return set(inputs[:index])\n",
    "\n",
    "def day4_2(data: list[str]) -> int:\n",
    "  numbers, boards = parse_data4(data)  \n",
    "  keys = analyze_boards(boards)\n",
    "  selected = set()\n",
    "  completed, last_winner, last_num = set(), None, 0\n",
    "  for number in numbers:\n",
    "    if number in selected:\n",
    "      continue\n",
    "    selected.add(number)\n",
    "    for i, j, board in keys[number]:\n",
    "      if board in completed:\n",
    "        continue\n",
    "      board.rows[i] += 1\n",
    "      board.cols[j] += 1\n",
    "      if board.size == board.rows[i] or board.size == board.cols[j]:\n",
    "        completed.add(board)\n",
    "        last_winner, last_num = board, number\n",
    "  return calculate_score(last_winner, retroactive_selected(numbers, last_num)) * last_num\n",
    "\n",
    "day4_2(data4)"
   ]
  },
  {
   "cell_type": "markdown",
   "metadata": {},
   "source": [
    "## Day 5\n",
    "\n",
    "Some possible ideas for solutions: \n",
    "1. use vector products between each pair (n^2) and remove duplicates somehow\n",
    "2. use a 2-d interval tree and detect where sums on a point are greater than 1\n",
    "3. fill a 2-d grid and iterate through points\n",
    "\n",
    "Implementing with idea 3 for now, since size of grid is small relative to number of lines"
   ]
  },
  {
   "cell_type": "code",
   "execution_count": 223,
   "metadata": {},
   "outputs": [],
   "source": [
    "Line = tuple[tuple[int, int], tuple[int, int]]\n",
    "\n",
    "def parse5(line: str) -> list[Line]:\n",
    "  result = re.split('[\\s,]', line)\n",
    "  return (\n",
    "    (int(result[0]), int(result[3])), # xs\n",
    "    (int(result[1]), int(result[4])) # ys\n",
    "  )\n",
    "\n",
    "data5 = data(5, parse5)"
   ]
  },
  {
   "cell_type": "code",
   "execution_count": 103,
   "metadata": {},
   "outputs": [
    {
     "data": {
      "text/plain": [
       "4728"
      ]
     },
     "execution_count": 103,
     "metadata": {},
     "output_type": "execute_result"
    }
   ],
   "source": [
    "class BaseHydroVents:\n",
    "  def __init__(self, size: int) -> None:\n",
    "    self.grid = np.zeros([size, size])\n",
    "\n",
    "  def add_line(self, line: Line) -> None:\n",
    "    if line[0][0] == line[0][1]:\n",
    "      self.add_vertical_line(sorted(line[1]), line[0][0])\n",
    "    elif line[1][0] == line[1][1]:\n",
    "      self.add_horizontal_line(sorted(line[0]), line[1][0])\n",
    "    else:\n",
    "      self.add_diagonal_line(line)\n",
    "\n",
    "  def add_diagonal_line(self, line: Line) -> None:\n",
    "    # Stub\n",
    "    return\n",
    "\n",
    "  def add_horizontal_line(self, xs: tuple[int, int], y: int) -> None:\n",
    "    for x in range(xs[0], xs[1] + 1):\n",
    "      self.grid[y][x] += 1\n",
    "\n",
    "  def add_vertical_line(self, ys: tuple[int, int], x: int) -> None:\n",
    "    for y in range(ys[0], ys[1] + 1):\n",
    "      self.grid[y][x] += 1\n",
    "\n",
    "def max_vent_point(data: list[Line]) -> int:\n",
    "  return max([max(max(x[0]), max(x[1])) for x in data])\n",
    "\n",
    "def day5(data: list[Line]) -> int:\n",
    "  size = max_vent_point(data) + 1\n",
    "  vents = BaseHydroVents(size)\n",
    "  for line in data:\n",
    "    vents.add_line(line)\n",
    "  mask = vents.grid > 1\n",
    "  return np.count_nonzero(mask)\n",
    "\n",
    "day5(data5)\n"
   ]
  },
  {
   "cell_type": "code",
   "execution_count": 104,
   "metadata": {},
   "outputs": [
    {
     "data": {
      "text/plain": [
       "17717"
      ]
     },
     "execution_count": 104,
     "metadata": {},
     "output_type": "execute_result"
    }
   ],
   "source": [
    "class HydroVents (BaseHydroVents):\n",
    "  def __init__(self, size: int) -> None:\n",
    "    self.grid = np.zeros([size, size])\n",
    "\n",
    "  def add_diagonal_line(self, line: Line) -> None:\n",
    "    # Only supports 45 degree lines\n",
    "    xs, ys = line[0], line[1]\n",
    "    dx = 1 if xs[1] > xs[0] else -1\n",
    "    dy = 1 if ys[1] > ys[0] else -1\n",
    "    length = abs(xs[1] - xs[0]) + 1\n",
    "    for i in range(length):\n",
    "      self.grid[ys[0] + dy * i][xs[0] + dx * i] += 1\n",
    "\n",
    "def day5_2(data: list[Line]) -> int:\n",
    "  size = max_vent_point(data) + 1\n",
    "  vents = HydroVents(size)\n",
    "  for line in data:\n",
    "    vents.add_line(line)\n",
    "  mask = vents.grid > 1\n",
    "  return np.count_nonzero(mask)\n",
    "\n",
    "day5_2(data5)\n"
   ]
  },
  {
   "cell_type": "markdown",
   "metadata": {},
   "source": [
    "## Day 6\n",
    "\n",
    "Seems like a DP problem"
   ]
  },
  {
   "cell_type": "code",
   "execution_count": 226,
   "metadata": {},
   "outputs": [],
   "source": [
    "data6 = data(6, split_csv_row)"
   ]
  },
  {
   "cell_type": "code",
   "execution_count": 99,
   "metadata": {},
   "outputs": [
    {
     "data": {
      "text/plain": [
       "394994"
      ]
     },
     "execution_count": 99,
     "metadata": {},
     "output_type": "execute_result"
    }
   ],
   "source": [
    "@lru_cache(None)\n",
    "def spawns6(days: int):\n",
    "  if days < 6:\n",
    "    return 1\n",
    "  return spawns6(days-7) + spawns8(days-7)\n",
    "\n",
    "@lru_cache(None)\n",
    "def spawns8(days: int):\n",
    "  if days < 8:\n",
    "    return 1\n",
    "  return spawns6(days-9) + spawns8(days-9)\n",
    "\n",
    "def day6(data: list[int], days: int) -> int:\n",
    "  result = [spawns6(days + 6 - i) for i in data]\n",
    "  return sum(result)\n",
    "\n",
    "day6(data6, 79)"
   ]
  },
  {
   "cell_type": "code",
   "execution_count": 100,
   "metadata": {},
   "outputs": [
    {
     "data": {
      "text/plain": [
       "1765974267455"
      ]
     },
     "execution_count": 100,
     "metadata": {},
     "output_type": "execute_result"
    }
   ],
   "source": [
    "day6(data6, 255)"
   ]
  },
  {
   "cell_type": "markdown",
   "metadata": {},
   "source": [
    "## Day 7\n",
    "\n",
    "Minimize v-shaped curve $ |F(c)| $ where $ A - c = F $"
   ]
  },
  {
   "cell_type": "code",
   "execution_count": 45,
   "metadata": {},
   "outputs": [],
   "source": [
    "data7 = data(7, split_csv_row)[0]"
   ]
  },
  {
   "cell_type": "code",
   "execution_count": 47,
   "metadata": {},
   "outputs": [
    {
     "data": {
      "text/plain": [
       "343605"
      ]
     },
     "execution_count": 47,
     "metadata": {},
     "output_type": "execute_result"
    }
   ],
   "source": [
    "CostFunction7 = Callable[[npt.ArrayLike], int]\n",
    "def fuel_used(input: npt.ArrayLike) -> int:\n",
    "  return np.sum(np.abs(input))\n",
    "\n",
    "def deltas(input: npt.ArrayLike, current: int, cost: CostFunction7) -> tuple[int, int, int]:\n",
    "  y = cost(input - current)\n",
    "  left = cost(input - current - 1)\n",
    "  right = cost(input - current + 1)\n",
    "  return left, y, right\n",
    "\n",
    "# TODO: could use scipy.optimize.minimize instead\n",
    "def bsearch7(input: npt.ArrayLike, low: int, high: int, cost: CostFunction7) -> int:\n",
    "  while low < high:\n",
    "    mid = (low + high) // 2\n",
    "    left, y, right = deltas(input, mid, cost)\n",
    "    if left < y:\n",
    "      low = mid + 1\n",
    "    elif right < y:\n",
    "      high = mid\n",
    "    else:\n",
    "      low, high = mid, mid\n",
    "  return mid\n",
    "\n",
    "def day7(data: list[int], cost: CostFunction7) -> int:\n",
    "  input = np.array(data)\n",
    "  hmin, hmax = np.min(input), np.max(input)\n",
    "  result = bsearch7(input, hmin, hmax, cost)\n",
    "  return cost(input - result)\n",
    "\n",
    "day7(data7, fuel_used)"
   ]
  },
  {
   "cell_type": "code",
   "execution_count": 48,
   "metadata": {},
   "outputs": [
    {
     "data": {
      "text/plain": [
       "96744904"
      ]
     },
     "execution_count": 48,
     "metadata": {},
     "output_type": "execute_result"
    }
   ],
   "source": [
    "def fuel_used2(input: npt.ArrayLike) -> int:\n",
    "  return np.sum(triangular_number(np.abs(input)))\n",
    "\n",
    "day7(data7, fuel_used2)"
   ]
  },
  {
   "cell_type": "markdown",
   "metadata": {},
   "source": [
    "## Day 8\n",
    "\n",
    "Set intersections"
   ]
  },
  {
   "cell_type": "code",
   "execution_count": 224,
   "metadata": {},
   "outputs": [],
   "source": [
    "data8 = data(8)"
   ]
  },
  {
   "cell_type": "code",
   "execution_count": 101,
   "metadata": {},
   "outputs": [
    {
     "data": {
      "text/plain": [
       "383"
      ]
     },
     "execution_count": 101,
     "metadata": {},
     "output_type": "execute_result"
    }
   ],
   "source": [
    "Knowns9 = dict[int, set[str]]\n",
    "\n",
    "items_by_length = defaultdict(lambda: None, {\n",
    "  2: 1,\n",
    "  3: 7,\n",
    "  4: 4,\n",
    "  7: 8\n",
    "})\n",
    "def disambiguate6(item: set[str], knowns: Knowns9) -> int:\n",
    "    if knowns[1] - item:\n",
    "      return 6\n",
    "    elif not knowns[4] - item:\n",
    "      return 9\n",
    "    else:\n",
    "      return 0\n",
    "def disambiguate5(item: set[str], knowns: Knowns9) -> int:\n",
    "    if not knowns[7] - item:\n",
    "      return 3\n",
    "    elif len(knowns[6] - item) == 1:\n",
    "      return 5\n",
    "    else:\n",
    "      return 2\n",
    "\n",
    "def group_items(data: list[str]) -> tuple[Knowns9]:\n",
    "  knowns = {}\n",
    "  unknowns = []\n",
    "  for i in data:\n",
    "    item = set(i)\n",
    "    match len(item):\n",
    "      case 6:\n",
    "        unknowns.append(item)\n",
    "      case _:\n",
    "        knowns[items_by_length[len(item)]] = item\n",
    "  for item in unknowns:\n",
    "    knowns[disambiguate6(item, knowns)] = item\n",
    "  # Disambiguate5 not required to be run, we can do that while decoding the output\n",
    "  return knowns\n",
    "\n",
    "def parse_line(line: str) -> str:\n",
    "  input, output = tuple(group.split(' ') for group in line.split(' | '))\n",
    "  knowns = group_items(input)\n",
    "  for i in output:\n",
    "    item = set(i)\n",
    "    match len(item):\n",
    "      case 5:\n",
    "        yield disambiguate5(item, knowns)\n",
    "      case 6:\n",
    "        yield disambiguate6(item, knowns)\n",
    "      case _:\n",
    "        yield items_by_length[len(item)]\n",
    "\n",
    "# Overly complicated way to do what's required, but it's pretty clear what's coming in part 2\n",
    "def day8(data: list[str]) -> int:\n",
    "  count = 0\n",
    "  targets = items_by_length.values()\n",
    "  for line in data:\n",
    "    result = parse_line(line)\n",
    "    for number in result:\n",
    "      if number in targets:\n",
    "        count += 1\n",
    "  return count\n",
    "\n",
    "day8(data8)"
   ]
  },
  {
   "cell_type": "code",
   "execution_count": 93,
   "metadata": {},
   "outputs": [
    {
     "data": {
      "text/plain": [
       "998900"
      ]
     },
     "execution_count": 93,
     "metadata": {},
     "output_type": "execute_result"
    }
   ],
   "source": [
    "def day8_2(data: list[str]) -> int:\n",
    "  total = 0\n",
    "  for line in data:\n",
    "    result = parse_line(line)\n",
    "    total += int(''.join(str(i) for i in result))\n",
    "  return total\n",
    "\n",
    "day8_2(data8)"
   ]
  },
  {
   "cell_type": "markdown",
   "metadata": {},
   "source": [
    "## Day 9\n",
    "* Part 1: numpy array masking\n",
    "* Part 2: Recursive search from results of part 1"
   ]
  },
  {
   "cell_type": "code",
   "execution_count": 228,
   "metadata": {},
   "outputs": [],
   "source": [
    "data9 = np.array(data(9, split_int_row))"
   ]
  },
  {
   "cell_type": "code",
   "execution_count": 53,
   "metadata": {},
   "outputs": [
    {
     "data": {
      "text/plain": [
       "508"
      ]
     },
     "execution_count": 53,
     "metadata": {},
     "output_type": "execute_result"
    }
   ],
   "source": [
    "def get_basins(data: npt.ArrayLike) -> npt.ArrayLike:\n",
    "  zero_row, zero_col = np.full((1, data.shape[1]), 10), np.full((data.shape[0], 1), 10)\n",
    "  a = np.concatenate((data[1:], zero_row))\n",
    "  b = np.concatenate((zero_row, data[:-1]))\n",
    "  c = np.concatenate((data[:, 1:], zero_col), axis=1)\n",
    "  d = np.concatenate((zero_col, data[:, :-1]), axis=1)\n",
    "\n",
    "  mask = (data - a < 0) & (data - b < 0) & (data - c < 0) & (data - d < 0)\n",
    "  indices = np.where(mask)\n",
    "  return [(index[1], index[0]) for index in zip(indices[0], indices[1])]\n",
    "\n",
    "def day9(data: npt.ArrayLike) -> int:\n",
    "  basins = get_basins(data)\n",
    "  return sum([data[y][x] for x, y in basins]) + len(basins)\n",
    "\n",
    "day9(data9)"
   ]
  },
  {
   "cell_type": "code",
   "execution_count": 61,
   "metadata": {},
   "outputs": [
    {
     "data": {
      "text/plain": [
       "1564640"
      ]
     },
     "execution_count": 61,
     "metadata": {},
     "output_type": "execute_result"
    }
   ],
   "source": [
    "def day9_2(data: npt.ArrayLike) -> int:\n",
    "  claimed = set()\n",
    "  size = data9.shape\n",
    "\n",
    "  def claim(x: int, y: int) -> int:\n",
    "    if x < 0 or y < 0 or x >= size[1] or y >= size[0]:\n",
    "      return 0\n",
    "    if (x, y) in claimed:\n",
    "      return 0\n",
    "    if data[y][x] == 9:\n",
    "      return 0\n",
    "    claimed.add((x, y))\n",
    "    return 1 + claim(x+1, y) + claim(x-1, y) + claim(x, y+1) + claim(x, y - 1)\n",
    "\n",
    "  basins = [] # TODO: use 3-heap instead\n",
    "  for (x, y) in get_basins(data):\n",
    "    if basin_size := claim(x, y):\n",
    "      basins.append(basin_size)\n",
    "  return np.prod(sorted(basins, reverse=True)[:3])\n",
    "\n",
    "day9_2(data9)"
   ]
  },
  {
   "cell_type": "markdown",
   "metadata": {},
   "source": [
    "## Day 10\n",
    "Stack stuff"
   ]
  },
  {
   "cell_type": "code",
   "execution_count": 225,
   "metadata": {},
   "outputs": [],
   "source": [
    "data10 = data(10)"
   ]
  },
  {
   "cell_type": "code",
   "execution_count": 8,
   "metadata": {},
   "outputs": [
    {
     "data": {
      "text/plain": [
       "319233"
      ]
     },
     "execution_count": 8,
     "metadata": {},
     "output_type": "execute_result"
    }
   ],
   "source": [
    "opens = {\n",
    "  '(': ')',\n",
    "  '[': ']',\n",
    "  '{': '}',\n",
    "  '<': '>',\n",
    "}\n",
    "error_scores = {\n",
    "  ')': 3,\n",
    "  ']': 57,\n",
    "  '}': 1197,\n",
    "  '>': 25137,\n",
    "}\n",
    "\n",
    "def handle_line10(line: str) -> str:\n",
    "  stack = []\n",
    "  for i in line:\n",
    "    if i in opens:\n",
    "      stack.append(i)\n",
    "    elif opens[stack[-1]] == i:\n",
    "      stack.pop()\n",
    "    else:\n",
    "      return i\n",
    "  return stack\n",
    "\n",
    "def day10(data: list[str]) -> int:\n",
    "  lines = ([handle_line10(line) for line in data])\n",
    "  errors = Counter([line for line in lines if type(line) is str])\n",
    "  return sum(error_scores[i] * errors[i] for i in errors)\n",
    "\n",
    "day10(data10)\n"
   ]
  },
  {
   "cell_type": "code",
   "execution_count": 9,
   "metadata": {},
   "outputs": [
    {
     "data": {
      "text/plain": [
       "1118976874"
      ]
     },
     "execution_count": 9,
     "metadata": {},
     "output_type": "execute_result"
    }
   ],
   "source": [
    "closing_scores = {\n",
    "  ')': 1,\n",
    "  ']': 2,\n",
    "  '}': 3,\n",
    "  '>': 4,\n",
    "}\n",
    "\n",
    "def closing_score(close: list[str]) -> int:\n",
    "  score = 0\n",
    "  for i in reversed(close):\n",
    "    score = score * 5 + closing_scores[opens[i]]\n",
    "  return score\n",
    "\n",
    "def day10_2(data: list[str]) -> int:\n",
    "  lines = ([handle_line10(line) for line in data])\n",
    "  scores = [closing_score(line) for line in lines if type(line) is list]\n",
    "  mid = len(scores) // 2\n",
    "  return sorted(scores)[mid]\n",
    "\n",
    "day10_2(data10)"
   ]
  },
  {
   "cell_type": "markdown",
   "metadata": {},
   "source": [
    "## Day 11\n",
    "Array operations"
   ]
  },
  {
   "cell_type": "code",
   "execution_count": 227,
   "metadata": {},
   "outputs": [],
   "source": [
    "data11 = np.array(data(11, split_int_row))"
   ]
  },
  {
   "cell_type": "code",
   "execution_count": 214,
   "metadata": {},
   "outputs": [
    {
     "data": {
      "text/plain": [
       "1719"
      ]
     },
     "execution_count": 214,
     "metadata": {},
     "output_type": "execute_result"
    }
   ],
   "source": [
    "def run_flashes(data: npt.ArrayLike, flashed: set[int], size: tuple[int, int], debug = False) -> bool:\n",
    "  changed = False\n",
    "  for i in reversed(np.argsort(data.flatten())):\n",
    "    x, y = i % size[1], i // size[1]\n",
    "    if data[y][x] > 9 and i not in flashed:\n",
    "      for index in itertools.product([x-1, x, x+1], [y-1, y, y+1]):\n",
    "        if index[0] == x and index[1] == y:\n",
    "          continue\n",
    "        if index[0] < 0 or index[0] >= size[1]:\n",
    "          continue\n",
    "        if index[1] < 0 or index[1] >= size[0]:\n",
    "          continue\n",
    "        data[index[1]][index[0]] += 1\n",
    "      flashed.add(i)\n",
    "      changed = True\n",
    "  return changed\n",
    "\n",
    "def check_flashes(data: npt.ArrayLike, size: tuple[int, int], debug = False) -> set[int]:\n",
    "  flashed = set()\n",
    "  changed = True\n",
    "  data += 1\n",
    "  while changed:\n",
    "    changed = run_flashes(data, flashed, size, debug)\n",
    "  np.put(data, list(flashed), [0])\n",
    "  return flashed\n",
    "\n",
    "def day11(data: npt.ArrayLike) -> int:\n",
    "  flashes = 0\n",
    "  size = data.shape\n",
    "  current = data.copy()\n",
    "  for _ in range(100):\n",
    "    flashes += len(check_flashes(current, size))\n",
    "  return flashes\n",
    "\n",
    "day11(data11)  "
   ]
  },
  {
   "cell_type": "code",
   "execution_count": 215,
   "metadata": {},
   "outputs": [
    {
     "data": {
      "text/plain": [
       "232"
      ]
     },
     "execution_count": 215,
     "metadata": {},
     "output_type": "execute_result"
    }
   ],
   "source": [
    "def day11_2(data: npt.ArrayLike) -> int:\n",
    "  size = data.shape\n",
    "  current = data.copy()\n",
    "  for i in range(10000):\n",
    "    check_flashes(current, size)\n",
    "    if np.sum(current) == 0:\n",
    "      return i + 1\n",
    "  raise Exception('Too few iterations')\n",
    "\n",
    "day11_2(data11)"
   ]
  },
  {
   "cell_type": "markdown",
   "metadata": {},
   "source": [
    "## Day 12\n",
    "\n",
    "Some graph stuff"
   ]
  },
  {
   "cell_type": "code",
   "execution_count": 33,
   "metadata": {},
   "outputs": [
    {
     "data": {
      "image/png": "[encoded data removed]",
      "text/plain": [
       "<Figure size 432x288 with 1 Axes>"
      ]
     },
     "metadata": {},
     "output_type": "display_data"
    }
   ],
   "source": [
    "data12 = nx.Graph()\n",
    "\n",
    "def add_edge(line: str):\n",
    "  a, b = line.split('-')\n",
    "  data12.add_edge(a, b)\n",
    "_ = data(12, add_edge)\n",
    "\n",
    "nx.draw(data12)"
   ]
  },
  {
   "cell_type": "code",
   "execution_count": 34,
   "metadata": {},
   "outputs": [
    {
     "data": {
      "text/plain": [
       "5252"
      ]
     },
     "execution_count": 34,
     "metadata": {},
     "output_type": "execute_result"
    }
   ],
   "source": [
    "def day12(G: nx.Graph) -> int:\n",
    "  visited = set()\n",
    "  \n",
    "  def backtrack(node: str):\n",
    "    if node == 'start':\n",
    "      return 1\n",
    "    if node in visited:\n",
    "      return 0\n",
    "    if node[0].islower():\n",
    "      visited.add(node)\n",
    "    score = 0\n",
    "    for neighbor in G[node]:\n",
    "      score += backtrack(neighbor)\n",
    "    if node[0].islower():\n",
    "      visited.remove(node)\n",
    "    return score\n",
    "  return backtrack('end')\n",
    "\n",
    "day12(data12)"
   ]
  },
  {
   "cell_type": "code",
   "execution_count": 35,
   "metadata": {},
   "outputs": [
    {
     "data": {
      "text/plain": [
       "147784"
      ]
     },
     "execution_count": 35,
     "metadata": {},
     "output_type": "execute_result"
    }
   ],
   "source": [
    "def day12_2(G: nx.Graph) -> int:\n",
    "  visited = Counter()\n",
    "  \n",
    "  def backtrack(node: str, duplicate = None):\n",
    "    if node == 'start':\n",
    "      return 1\n",
    "    if visited[node] > 0:\n",
    "      if node == 'end' or duplicate:\n",
    "        return 0\n",
    "      duplicate = node\n",
    "    if node[0].islower():\n",
    "        visited[node] += 1\n",
    "    score = 0\n",
    "    for neighbor in G[node]:\n",
    "      score += backtrack(neighbor, duplicate)\n",
    "    if node[0].islower():\n",
    "      visited[node] -= 1\n",
    "    return score\n",
    "  return backtrack('end')\n",
    "\n",
    "day12_2(data12)"
   ]
  },
  {
   "cell_type": "markdown",
   "metadata": {},
   "source": [
    "## Day 13\n",
    "\n",
    "Array operations"
   ]
  },
  {
   "cell_type": "code",
   "execution_count": 36,
   "metadata": {},
   "outputs": [],
   "source": [
    "data13 = data(13)\n",
    "\n",
    "def format_data13(data: list[str]) -> tuple[tuple[int, int], tuple[str, int]]:\n",
    "  entries, folds = [], []\n",
    "  x_max, y_max = 0, 0\n",
    "  for entry in data:\n",
    "    if ',' in entry:\n",
    "      x, y = split_csv_row(entry)\n",
    "      x_max, y_max = max(x, x_max), max(y, y_max)\n",
    "      entries.append((x, y))\n",
    "    elif 'fold' in entry:\n",
    "      direction, position = entry.split('=')\n",
    "      folds.append((0 if direction[-1] == 'y' else 1, int(position)))\n",
    "\n",
    "  result = np.zeros((y_max + 1, x_max + 1), dtype=int)\n",
    "  for entry in entries:\n",
    "    result[entry[1], entry[0]] = 1\n",
    "  return result, folds"
   ]
  },
  {
   "cell_type": "code",
   "execution_count": 38,
   "metadata": {},
   "outputs": [
    {
     "data": {
      "text/plain": [
       "850"
      ]
     },
     "execution_count": 38,
     "metadata": {},
     "output_type": "execute_result"
    }
   ],
   "source": [
    "# These folds only work if the fold splits the array in half\n",
    "def fold_y(data: npt.ArrayLike, y: int) -> int:\n",
    "  a, b = data[:y], np.flip(data[y+1:], 0)\n",
    "  return a+b\n",
    "def fold_x(data: npt.ArrayLike, x: int) -> int:\n",
    "  a, b = data[:, :x], np.flip(data[:, x+1:], 1)\n",
    "  return a+b\n",
    "\n",
    "def fold(data: npt.ArrayLike, fold: tuple[int, int]) -> npt.ArrayLike:\n",
    "  return fold_y(data, fold[1]) if fold[0] == 0 else fold_x(data, fold[1])\n",
    "  \n",
    "def day13() -> int:\n",
    "  origami, folds = format_data13(data13)\n",
    "  for direction in folds:\n",
    "    origami = fold(origami, direction)\n",
    "    break\n",
    "  return np.count_nonzero(origami)\n",
    "\n",
    "day13()"
   ]
  },
  {
   "cell_type": "code",
   "execution_count": 39,
   "metadata": {},
   "outputs": [],
   "source": [
    "def day13_2() -> int:\n",
    "  origami, folds = format_data13(data13)\n",
    "  for direction in folds:\n",
    "    origami = fold(origami, direction)\n",
    "  result = np.where(origami > 0, '#', ' ')\n",
    "  return np.savetxt('output_day13.txt', result, fmt='%s')\n",
    "\n",
    "day13_2()"
   ]
  },
  {
   "cell_type": "markdown",
   "metadata": {},
   "source": [
    "## Day 14\n",
    "Another dp problem"
   ]
  },
  {
   "cell_type": "code",
   "execution_count": 26,
   "metadata": {},
   "outputs": [],
   "source": [
    "data14 = data(14)\n",
    "\n",
    "def format14(data: list[str]) -> tuple[str, dict[str, str]]:\n",
    "  sequence = data[0]\n",
    "  transitions = {input: output for input, output in (line.split(' -> ') for line in data[2:])}\n",
    "  return sequence, transitions"
   ]
  },
  {
   "cell_type": "code",
   "execution_count": 29,
   "metadata": {},
   "outputs": [
    {
     "data": {
      "text/plain": [
       "2435"
      ]
     },
     "execution_count": 29,
     "metadata": {},
     "output_type": "execute_result"
    }
   ],
   "source": [
    "def day14(days: int) -> int:\n",
    "  sequence, transitions = format14(data14) \n",
    "\n",
    "  @lru_cache(maxsize=None)\n",
    "  def transition(input: str, steps: int) -> str:\n",
    "    output = transitions[input]\n",
    "    if steps == 0:\n",
    "      return Counter(f'{input[0]}{output}')\n",
    "    return transition(f'{input[0]}{output}', steps - 1) + transition(f'{output}{input[1]}', steps - 1)\n",
    "      \n",
    "  def run_transition(input: str, steps: int) -> str:\n",
    "    new = Counter()\n",
    "    for i in range(1, len(input)):\n",
    "      new += transition(input[i-1:i+1], steps)\n",
    "    new[input[-1]] += 1\n",
    "    return new\n",
    "\n",
    "  counts = run_transition(sequence, days - 1).most_common()\n",
    "  return counts[0][1] - counts[-1][1]\n",
    "\n",
    "day14(10)"
   ]
  },
  {
   "cell_type": "code",
   "execution_count": 30,
   "metadata": {},
   "outputs": [
    {
     "data": {
      "text/plain": [
       "2587447599164"
      ]
     },
     "execution_count": 30,
     "metadata": {},
     "output_type": "execute_result"
    }
   ],
   "source": [
    "day14(40)"
   ]
  },
  {
   "cell_type": "markdown",
   "metadata": {},
   "source": [
    "## Day 15\n",
    "\n",
    "Dijkstra"
   ]
  },
  {
   "cell_type": "code",
   "execution_count": 14,
   "metadata": {},
   "outputs": [],
   "source": [
    "data15 = np.array(data(15, split_int_row))"
   ]
  },
  {
   "cell_type": "code",
   "execution_count": 16,
   "metadata": {},
   "outputs": [
    {
     "data": {
      "text/plain": [
       "621"
      ]
     },
     "execution_count": 16,
     "metadata": {},
     "output_type": "execute_result"
    }
   ],
   "source": [
    "# TODO: this is pretty slow, some optimization might be called for\n",
    "def generate_array_graph(data: npt.ArrayLike) -> nx.Graph:\n",
    "  graph = nx.DiGraph()\n",
    "  for i in range(data.shape[0]):\n",
    "    for j in range(data.shape[1]):\n",
    "      if i+1 < data.shape[0]:\n",
    "        graph.add_edge((i, j), (i+1, j), weight=data[i+1, j])\n",
    "        graph.add_edge((i+1, j), (i, j), weight=data[i, j])\n",
    "      if j+1 < data.shape[1]:\n",
    "        graph.add_edge((i, j), (i, j+1), weight=data[i, j+1])\n",
    "        graph.add_edge((i, j+1), (i, j), weight=data[i, j])\n",
    "  return graph\n",
    "\n",
    "def day15(data: npt.ArrayLike) -> int:\n",
    "  graph = generate_array_graph(data)\n",
    "  length = nx.algorithms.shortest_paths.weighted.dijkstra_path_length(graph, (0, 0), (data.shape[0]-1, data.shape[1]-1))\n",
    "  return length\n",
    "\n",
    "day15(data15)"
   ]
  },
  {
   "cell_type": "code",
   "execution_count": 20,
   "metadata": {},
   "outputs": [
    {
     "data": {
      "text/plain": [
       "2904"
      ]
     },
     "execution_count": 20,
     "metadata": {},
     "output_type": "execute_result"
    }
   ],
   "source": [
    "def wrap(num: int) -> int:\n",
    "  return wrap_general(1, 10, num)\n",
    "\n",
    "def expand_array(data: npt.ArrayLike) -> npt.ArrayLike:\n",
    "  temp = data.copy()\n",
    "  for i in range(1, 5):\n",
    "    temp = np.concatenate((temp, wrap(data + i)), axis=1)\n",
    "  result = temp.copy()\n",
    "  for i in range(1, 5):\n",
    "    result = np.concatenate((result, wrap(temp + i)), axis=0)\n",
    "  return result\n",
    "  \n",
    "day15(expand_array(data15))"
   ]
  },
  {
   "cell_type": "code",
   "execution_count": 52,
   "metadata": {},
   "outputs": [
    {
     "ename": "AttributeError",
     "evalue": "'tuple' object has no attribute 'copy'",
     "output_type": "error",
     "traceback": [
      "\u001b[0;31m---------------------------------------------------------------------------\u001b[0m",
      "\u001b[0;31mAttributeError\u001b[0m                            Traceback (most recent call last)",
      "\u001b[0;32m/tmp/ipykernel_870/3391467143.py\u001b[0m in \u001b[0;36m<module>\u001b[0;34m\u001b[0m\n\u001b[0;32m----> 1\u001b[0;31m \u001b[0mtuple\u001b[0m\u001b[0;34m(\u001b[0m\u001b[0;34m(\u001b[0m\u001b[0;36m1\u001b[0m\u001b[0;34m,\u001b[0m \u001b[0;36m1\u001b[0m\u001b[0;34m)\u001b[0m\u001b[0;34m)\u001b[0m\u001b[0;34m.\u001b[0m\u001b[0mcopy\u001b[0m\u001b[0;34m(\u001b[0m\u001b[0;34m)\u001b[0m\u001b[0;34m\u001b[0m\u001b[0;34m\u001b[0m\u001b[0m\n\u001b[0m",
      "\u001b[0;31mAttributeError\u001b[0m: 'tuple' object has no attribute 'copy'"
     ]
    }
   ],
   "source": [
    "tuple((1, 1)).copy()"
   ]
  },
  {
   "cell_type": "markdown",
   "metadata": {},
   "source": [
    "## Day 16\n",
    "\n",
    "Compiler/parsing stuff"
   ]
  },
  {
   "cell_type": "code",
   "execution_count": 214,
   "metadata": {},
   "outputs": [],
   "source": [
    "binary_map = {\n",
    "  '0': '0000',\n",
    "  '1': '0001',\n",
    "  '2': '0010',\n",
    "  '3': '0011',\n",
    "  '4': '0100',\n",
    "  '5': '0101',\n",
    "  '6': '0110',\n",
    "  '7': '0111',\n",
    "  '8': '1000',\n",
    "  '9': '1001',\n",
    "  'A': '1010',\n",
    "  'B': '1011',\n",
    "  'C': '1100',\n",
    "  'D': '1101',\n",
    "  'E': '1110',\n",
    "  'F': '1111',\n",
    "}\n",
    "\n",
    "data16 = ''.join([binary_map[x] for x in data(16)[0]])"
   ]
  },
  {
   "cell_type": "code",
   "execution_count": 220,
   "metadata": {},
   "outputs": [
    {
     "data": {
      "text/plain": [
       "957"
      ]
     },
     "execution_count": 220,
     "metadata": {},
     "output_type": "execute_result"
    }
   ],
   "source": [
    "def parse_packet(input: str):\n",
    "  version = parse_version(input[:3])\n",
    "  packet_type = parse_type(input[3:6])\n",
    "  output, remainder = parse_body(packet_type, input[6:])\n",
    "  return version, packet_type, output, remainder\n",
    "\n",
    "def parse_version(input: str):\n",
    "  return bin2int(input)\n",
    "\n",
    "def parse_type(input: str):\n",
    "  return bin2int(input)\n",
    "\n",
    "def parse_body(packet_type: int, input: str):\n",
    "  if packet_type == 4:\n",
    "    return parse_bits(input)\n",
    "  return parse_subpacket(input)\n",
    "\n",
    "def parse_subpacket(input: str):\n",
    "  length_type = input[0]\n",
    "  length_size = 16 if length_type == '0' else 12\n",
    "  length_bits, rest = input[1:length_size], input[length_size:]\n",
    "  length = parse_length(length_bits)\n",
    "  if length_size == 12:\n",
    "    return parse_subpackets_by_count(rest, length)\n",
    "  return parse_subpackets(rest[:length]), rest[length:]\n",
    "\n",
    "def parse_subpackets(input: str):\n",
    "  packets = []\n",
    "  while '1' in input:\n",
    "    version, packet_type, output, input = parse_packet(input)\n",
    "    packets.append((version, packet_type, output))\n",
    "  return packets\n",
    "\n",
    "def parse_subpackets_by_count(input: str, count: int):\n",
    "  packets = []\n",
    "  while len(packets) < count:\n",
    "    version, packet_type, output, input = parse_packet(input)\n",
    "    packets.append((version, packet_type, output))\n",
    "  return packets, input\n",
    "\n",
    "def parse_length(input: str):\n",
    "  return bin2int(input)\n",
    "\n",
    "def parse_bits(input: str):\n",
    "  result = ''\n",
    "  while input:\n",
    "    current, input = input[:5], input[5:]\n",
    "    result += current[1:]\n",
    "    if current[0] == '0':\n",
    "      break\n",
    "  return bin2int(result), input\n",
    "\n",
    "Packet = tuple[int, Union[list[\"Packet\"], int]]\n",
    "\n",
    "def expand_packet_versions(packet: Packet) -> list[int]:\n",
    "  version, body = packet[0], packet[2]\n",
    "  yield version\n",
    "  if type(body) is not int:\n",
    "    for subpacket in body:\n",
    "      version, _, packet = subpacket\n",
    "      yield from expand_packet_versions(subpacket)\n",
    "\n",
    "def day16(data: str) -> int:\n",
    "  packet = parse_packet(data)\n",
    "  return sum([x for x in expand_packet_versions(packet)])\n",
    "\n",
    "day16(data16)\n"
   ]
  },
  {
   "cell_type": "code",
   "execution_count": 221,
   "metadata": {},
   "outputs": [
    {
     "data": {
      "text/plain": [
       "744953223228"
      ]
     },
     "execution_count": 221,
     "metadata": {},
     "output_type": "execute_result"
    }
   ],
   "source": [
    "def evaluate_packet(packet: Packet) -> int:\n",
    "  packet_type, body = packet[1], packet[2]\n",
    "  match packet_type:\n",
    "    case 4:\n",
    "      return body\n",
    "    case 0:\n",
    "      return sum([evaluate_packet(subpacket) for subpacket in body])\n",
    "    case 1:\n",
    "      return np.prod([evaluate_packet(subpacket) for subpacket in body])\n",
    "    case 2:\n",
    "      return min([evaluate_packet(subpacket) for subpacket in body])\n",
    "    case 3:\n",
    "      return max([evaluate_packet(subpacket) for subpacket in body])\n",
    "    case 5:\n",
    "      a, b = evaluate_packet(body[0]), evaluate_packet(body[1])\n",
    "      return 1 if a > b else 0\n",
    "    case 6:\n",
    "      a, b = evaluate_packet(body[0]), evaluate_packet(body[1])\n",
    "      return 1 if a < b else 0\n",
    "    case 7:\n",
    "      a, b = evaluate_packet(body[0]), evaluate_packet(body[1])\n",
    "      return 1 if a == b else 0\n",
    "\n",
    "def day16_2(data: str) -> int:\n",
    "  packet = parse_packet(data)\n",
    "  return evaluate_packet(packet)\n",
    "\n",
    "day16_2(data16)"
   ]
  },
  {
   "cell_type": "markdown",
   "metadata": {},
   "source": [
    "## Day 17\n",
    "\n",
    "More triangular numbers and some kinematic equations with a = -1"
   ]
  },
  {
   "cell_type": "code",
   "execution_count": 16,
   "metadata": {},
   "outputs": [],
   "source": [
    "data17 = data(17)[0]"
   ]
  },
  {
   "cell_type": "code",
   "execution_count": 8,
   "metadata": {},
   "outputs": [
    {
     "ename": "NameError",
     "evalue": "name 'data17' is not defined",
     "output_type": "error",
     "traceback": [
      "\u001b[0;31m---------------------------------------------------------------------------\u001b[0m",
      "\u001b[0;31mNameError\u001b[0m                                 Traceback (most recent call last)",
      "\u001b[0;32m/tmp/ipykernel_874/3822285152.py\u001b[0m in \u001b[0;36m<module>\u001b[0;34m\u001b[0m\n\u001b[1;32m     14\u001b[0m   \u001b[0;32mreturn\u001b[0m \u001b[0mtriangular_number\u001b[0m\u001b[0;34m(\u001b[0m\u001b[0my\u001b[0m\u001b[0;34m[\u001b[0m\u001b[0;36m0\u001b[0m\u001b[0;34m]\u001b[0m\u001b[0;34m)\u001b[0m\u001b[0;34m\u001b[0m\u001b[0;34m\u001b[0m\u001b[0m\n\u001b[1;32m     15\u001b[0m \u001b[0;34m\u001b[0m\u001b[0m\n\u001b[0;32m---> 16\u001b[0;31m \u001b[0mday17\u001b[0m\u001b[0;34m(\u001b[0m\u001b[0mdata17\u001b[0m\u001b[0;34m)\u001b[0m\u001b[0;34m\u001b[0m\u001b[0;34m\u001b[0m\u001b[0m\n\u001b[0m",
      "\u001b[0;31mNameError\u001b[0m: name 'data17' is not defined"
     ]
    }
   ],
   "source": [
    "Position = tuple[int, int]\n",
    "\n",
    "def format17(data: str) -> tuple[tuple[int, int]]:\n",
    "  pattern = re.compile('.+x=([0-9\\-]+)\\.\\.([0-9\\-]+), y=([0-9\\-]+)\\.\\.([0-9\\-]+)')\n",
    "  x1, x2, y1, y2 = pattern.match(data).groups()\n",
    "  return (int(x1), int(x2)), (int(y1), int(y2))\n",
    "\n",
    "\n",
    "def day17(data: str):\n",
    "  _, y = format17(data)\n",
    "  # Assume x is always positive and y is always negative\n",
    "  # Since the upward distance will be totally negated by gravity, what actually matters is the final step, which will be of distance -(y+1)\n",
    "  # This is equal to triangular_number(abs(y)-1), or equivalently triangular_number(y)\n",
    "  return triangular_number(y[0])\n",
    "\n",
    "day17(data17)\n"
   ]
  },
  {
   "cell_type": "code",
   "execution_count": 31,
   "metadata": {},
   "outputs": [
    {
     "data": {
      "text/plain": [
       "2371"
      ]
     },
     "execution_count": 31,
     "metadata": {},
     "output_type": "execute_result"
    }
   ],
   "source": [
    "def day17_2(data: str):\n",
    "  x, y = format17(data)\n",
    "\n",
    "  # Max x velocity is a single step shot to the end of the x-grid\n",
    "  vx_min, vx_max = 0, x[1]\n",
    "  # Min x velocity will be totally exhausted upon reaching the start of the x-grid\n",
    "  while triangular_number(vx_min) < x[0]:\n",
    "    vx_min += 1\n",
    "\n",
    "  # Min y velocity is a single step shot to the bottom of the y-grid (negative)\n",
    "  # Max y velocity is the result of part 1\n",
    "  vy_min, vy_max = y[0], abs(y[0]) - 1\n",
    "\n",
    "  def check_shot(vx: int, vy: int):\n",
    "    # Steps should be at least 1 when shooting downwards\n",
    "    # When shooting upwards, there will be y upward steps, 1 hanging step, y downward steps, and then at least one -(y+1) or greater step\n",
    "    steps = 1 if vy <= 0 else vy * 2 + 2\n",
    "    while True:\n",
    "      dx = (triangular_number(vx) - triangular_number(vx - steps)) if vx > steps else triangular_number(vx)\n",
    "      dy = triangular_number(vy) - triangular_number(vy - steps)\n",
    "      if dx > x[1] or dy < y[0]:\n",
    "        return False\n",
    "      if dx >= x[0] and dx <= x[1] and dy >= y[0] and dy <= y[1]:\n",
    "        return True\n",
    "      steps += 1\n",
    "\n",
    "  results = []\n",
    "  for vx in range(vx_min, vx_max + 1):\n",
    "    for vy in range(vy_min, vy_max + 1):\n",
    "      if check_shot(vx, vy):\n",
    "        results.append((vx, vy))\n",
    "\n",
    "  return len(results)\n",
    "\n",
    "day17_2(data17)"
   ]
  },
  {
   "cell_type": "markdown",
   "metadata": {},
   "source": [
    "## Day 18\n",
    "\n",
    "Unbalanced binary tree, hopping across leaves"
   ]
  },
  {
   "cell_type": "code",
   "execution_count": 4,
   "metadata": {},
   "outputs": [],
   "source": [
    "TreeList = tuple[Union[int, 'TreeList'], Union[int, 'TreeList']]\n",
    "data18 = data(18, json.loads)"
   ]
  },
  {
   "cell_type": "code",
   "execution_count": 7,
   "metadata": {},
   "outputs": [
    {
     "data": {
      "text/plain": [
       "4202"
      ]
     },
     "execution_count": 7,
     "metadata": {},
     "output_type": "execute_result"
    }
   ],
   "source": [
    "class BaseNode:\n",
    "  def __init__(self, parent: Optional[\"Node\"] = None, is_left: Optional[bool] = True):\n",
    "    self.is_left = is_left\n",
    "    self.parent = parent\n",
    "\n",
    "class Leaf(BaseNode):\n",
    "  def __init__(self, value: int, parent: Optional[\"Node\"] = None, is_left: Optional[bool] = True):\n",
    "    super().__init__(parent, is_left)\n",
    "    self.value = value\n",
    "\n",
    "class Node(BaseNode):\n",
    "  def __init__(self, left: Union[Leaf, 'Node'], right: Union[Leaf, 'Node'], parent: Optional[\"Node\"] = None, is_left: Optional[bool] = True):\n",
    "    super().__init__(parent, is_left)\n",
    "    self.left = left\n",
    "    left.is_left = True\n",
    "    self.right = right\n",
    "    right.is_left = False\n",
    "\n",
    "def make_leaf(node: Union[TreeList, int]):\n",
    "  if type(node) is int:\n",
    "    return Leaf(node)\n",
    "  return make_node(node)\n",
    "\n",
    "def make_node(data: TreeList, parent: Optional[\"Node\"] = None, is_left: Optional[bool] = True):\n",
    "  left, right = make_leaf(data[0]), make_leaf(data[1])\n",
    "  node = Node(left, right, parent, is_left)\n",
    "  left.parent, right.parent = node, node\n",
    "  return node\n",
    "\n",
    "def inorder(node: BaseNode):\n",
    "  if type(node) is Leaf:\n",
    "    yield node\n",
    "  else:\n",
    "    yield from inorder(node.left)\n",
    "    yield from inorder(node.right)\n",
    "\n",
    "def dfs(root: 'Tree'):\n",
    "  queue = deque([(root, 0)])\n",
    "  results = deque()\n",
    "  while queue:\n",
    "    node, depth = queue.popleft()\n",
    "    if type(node) is Leaf:\n",
    "      # TODO: figure how to get the desired output earlier\n",
    "      results.appendleft((node, depth))\n",
    "    else:\n",
    "      queue.append((node.right, depth+1))\n",
    "      queue.append((node.left, depth+1))\n",
    "  return results\n",
    "\n",
    "class Tree:\n",
    "  def __init__(self, data: list[int]):\n",
    "    self.root = make_node(data)\n",
    "\n",
    "  def add(self, data: list[int]):\n",
    "    node = make_node(data)\n",
    "    root = self.root\n",
    "    self.root = Node(root, node)\n",
    "    root.parent = self.root\n",
    "    node.parent = self.root\n",
    "    self.reduce()\n",
    "\n",
    "  def switch(self, node: BaseNode):\n",
    "    if node.is_left:\n",
    "      node.parent.left = node\n",
    "    else:\n",
    "      node.parent.right = node\n",
    "\n",
    "  def reduce(self):\n",
    "    changed = True\n",
    "    while changed:\n",
    "      changed = self.reduce_once()\n",
    "\n",
    "  def reduce_once(self):\n",
    "    # TODO: figure out ahead of time what the max depth size is\n",
    "    if self.explode():\n",
    "      return True\n",
    "    if self.split():\n",
    "      return True\n",
    "    return False\n",
    "\n",
    "  def explode(self):\n",
    "    leaves = list(inorder(self.root))\n",
    "    indices = {leaf: i for i, leaf in enumerate(inorder(self.root))}\n",
    "    for leaf, depth in dfs(self.root):\n",
    "      if depth <= 4:\n",
    "        continue\n",
    "      # Explode\n",
    "      index = indices[leaf]\n",
    "      # Note: due to order of dfs, the left child is always the first one\n",
    "      if index > 0:\n",
    "        leaves[index-1].value += leaf.value\n",
    "      # Note: if a node explodes, both its children are leaves\n",
    "      right = leaves[index+1]\n",
    "      if len(leaves) > index+2:\n",
    "        leaves[index+2].value += right.value\n",
    "      leaf.value, right.value = 0, 0\n",
    "      self.switch(Leaf(0, leaf.parent.parent, leaf.parent.is_left))\n",
    "      return True\n",
    "\n",
    "  def split(self):\n",
    "    for leaf in inorder(self.root):\n",
    "      if leaf.value < 10:\n",
    "        continue\n",
    "      # Split\n",
    "      left, right = leaf.value // 2, int(np.ceil(leaf.value/2))\n",
    "      node = make_node([left, right], leaf.parent, leaf.is_left)\n",
    "      self.switch(node)\n",
    "      return True\n",
    "\n",
    "def magnitude(node: Node) -> int:\n",
    "  left, right = node.left, node.right\n",
    "  left = magnitude(node.left) if type(node.left) is not Leaf else node.left.value\n",
    "  right = magnitude(node.right) if type(node.right) is not Leaf else node.right.value\n",
    "  return 3 * left + 2 * right\n",
    "\n",
    "def day18(data: list[TreeList]):\n",
    "  result = Tree(data[0])\n",
    "  for item in data[1:]:\n",
    "    result.add(item)\n",
    "  return magnitude(result.root)\n",
    "\n",
    "day18(data18)"
   ]
  },
  {
   "cell_type": "code",
   "execution_count": 100,
   "metadata": {},
   "outputs": [
    {
     "data": {
      "text/plain": [
       "4779"
      ]
     },
     "execution_count": 100,
     "metadata": {},
     "output_type": "execute_result"
    }
   ],
   "source": [
    "def get_combo(x: TreeList, y: TreeList):\n",
    "  result = Tree(x)\n",
    "  result.add(y)\n",
    "  return magnitude(result.root)\n",
    "\n",
    "def get_combo_size(x: TreeList, y: TreeList):\n",
    "  return max(get_combo(x, y), get_combo(y, x))\n",
    "\n",
    "def day18_2(data: list[TreeList]):\n",
    "  # Quite slow - could be optimized\n",
    "  return max([get_combo_size(x, y) for x, y in itertools.combinations(data, 2)])\n",
    "\n",
    "day18_2(data18)"
   ]
  },
  {
   "cell_type": "markdown",
   "metadata": {},
   "source": [
    "## Day 19\n",
    "\n",
    "Matrix operations"
   ]
  },
  {
   "cell_type": "code",
   "execution_count": 40,
   "metadata": {},
   "outputs": [],
   "source": [
    "Position = tuple[int, int, int]\n",
    "Distances = np.array\n",
    "Collision = Position\n",
    "\n",
    "class Scanner:\n",
    "  def __init__(self, positions: list[Position]):\n",
    "    self.beacons = positions\n",
    "    self.orientation = None\n",
    "    self.position = None\n",
    "    self.distances = self._distances()\n",
    "\n",
    "  def _distances(self):\n",
    "    return spatial.distance_matrix(list(self.beacons), list(self.beacons))\n",
    "\n",
    "  def add_scanner(self, new: 'Scanner'):\n",
    "    beacons = set(self.beacons)\n",
    "    transformed = ((new.orientation@np.array(list(new.beacons)).T).T + new.position)\n",
    "    for beacon in transformed:\n",
    "      beacons.add(tuple(beacon))\n",
    "    self.beacons = list(beacons)\n",
    "    self.distances = self._distances()\n",
    "\n",
    "  def set_position(self, orientation: np.array, position: np.array):\n",
    "    self.orientation = orientation\n",
    "    self.position = position\n",
    "\n",
    "def parse_scanners(data: list[str]) -> list[list[Position]]:\n",
    "  scanners, positions = [], []\n",
    "  for line in data:\n",
    "    if 'scanner' in line:\n",
    "      continue\n",
    "    if not line:\n",
    "      scanners.append(Scanner(positions))\n",
    "      positions = []\n",
    "    else:\n",
    "      positions.append(tuple([int(x) for x in line.split(',')]))\n",
    "  scanners.append(Scanner(positions))\n",
    "  return scanners\n",
    "\n",
    "data19 = parse_scanners(data(19))"
   ]
  },
  {
   "cell_type": "code",
   "execution_count": 42,
   "metadata": {},
   "outputs": [
    {
     "data": {
      "text/plain": [
       "472"
      ]
     },
     "execution_count": 42,
     "metadata": {},
     "output_type": "execute_result"
    }
   ],
   "source": [
    "# TODO: optimize - search only upper triangle\n",
    "def detect_collisions(a: Distances, b: Distances) -> list[Collision]:\n",
    "  result = []\n",
    "  for i, target in enumerate(a):\n",
    "    for j, candidate in enumerate(b):\n",
    "      collisions = set(target).intersection(set(candidate))\n",
    "      if len(collisions) >= 12:\n",
    "        result.append((i, j))\n",
    "      if len(result) >= 2:\n",
    "        break # Already found enough collisions to solve\n",
    "  return result\n",
    "\n",
    "def determine_transformation(a: Scanner, b: Scanner, collisions: list[Collision]) -> tuple[np.array, np.array]:\n",
    "  Y = np.vstack([np.array(a.beacons[i[0]]) for i in collisions]).T\n",
    "  X = np.vstack([np.array(b.beacons[i[1]]) for i in collisions]).T\n",
    "  for signs in itertools.product([-1, 1], repeat=3):\n",
    "    r = np.identity(3)*np.array(signs)\n",
    "    # TODO: this produces double the results - too lazy to fix\n",
    "    for x, y, z in itertools.permutations([0, 1, 2], 3):\n",
    "      rotation = np.array([r[x], r[y], r[z]])\n",
    "      rotated = rotation@X\n",
    "      translation = Y - rotated\n",
    "      if np.unique(translation).size <= 3:\n",
    "        return rotation, translation[:, 0]\n",
    "\n",
    "def merge_scanners(base: Scanner, scanners: list[Scanner]) -> list[Scanner]:\n",
    "  remaining = []\n",
    "  for scanner in scanners:\n",
    "    collisions = detect_collisions(base.distances, scanner.distances)\n",
    "    if not collisions:\n",
    "      remaining.append(scanner)\n",
    "      continue\n",
    "    rotation, translation = determine_transformation(base, scanner, collisions)\n",
    "    scanner.set_position(rotation, translation)\n",
    "    base.add_scanner(scanner)\n",
    "  return remaining\n",
    "\n",
    "def merge_all_scanners(data: list[Scanner]):\n",
    "  base, remaining = data[0], data[1:]\n",
    "  while remaining:\n",
    "    remaining = merge_scanners(base, remaining)\n",
    "  return base\n",
    "\n",
    "def day19(data: list[Scanner]):\n",
    "  result = merge_all_scanners(data)\n",
    "  return len(result.beacons)\n",
    "\n",
    "day19(data19)\n"
   ]
  },
  {
   "cell_type": "code",
   "execution_count": 43,
   "metadata": {},
   "outputs": [
    {
     "data": {
      "text/plain": [
       "12092"
      ]
     },
     "execution_count": 43,
     "metadata": {},
     "output_type": "execute_result"
    }
   ],
   "source": [
    "def max_manhattan_distances(data: list[Position]) -> np.array:\n",
    "  max_man = 0\n",
    "  for i, j in itertools.combinations(range(len(data)), 2):\n",
    "    distance = int(np.abs(data[i] - data[j]).sum())\n",
    "    if distance > max_man:\n",
    "      max_man = distance\n",
    "  return max_man\n",
    "\n",
    "# Note: impure - assumes that part 1 already ran\n",
    "def day19_2(scanners: list[Scanner]):\n",
    "  positions = [scanner.position for scanner in scanners[1:]] + np.array([0,0,0])\n",
    "  return max_manhattan_distances(positions)\n",
    "\n",
    "day19_2(data19)"
   ]
  },
  {
   "cell_type": "markdown",
   "metadata": {},
   "source": [
    "## Day 20\n",
    "\n",
    "convolution"
   ]
  },
  {
   "cell_type": "code",
   "execution_count": 173,
   "metadata": {},
   "outputs": [],
   "source": [
    "data20 = data(20)\n",
    "\n",
    "def format20(data: list[str]):\n",
    "  mapping = [0 if i == '.' else 1 for i in data[0]]\n",
    "  size = len(data) - 2\n",
    "  result = np.zeros((size, size), dtype=int)\n",
    "  for i, line in enumerate(data[2:]):\n",
    "    for j, item in enumerate(line):\n",
    "      if item == '#':\n",
    "        result[i, j] = 1\n",
    "  return result, mapping\n",
    "\n",
    "result, mapping = format20(data20)"
   ]
  },
  {
   "cell_type": "code",
   "execution_count": 184,
   "metadata": {},
   "outputs": [
    {
     "data": {
      "text/plain": [
       "5437"
      ]
     },
     "execution_count": 184,
     "metadata": {},
     "output_type": "execute_result"
    }
   ],
   "source": [
    "def join_row(row: np.array):\n",
    "  return ''.join([str(int(x)) for x in row])\n",
    "\n",
    "# TODO: use bit tricks\n",
    "def run_mapping(input: np.array, mapping: list[int]):\n",
    "  binary = ''.join([join_row(row) for row in input])\n",
    "  index = bin2int(binary)\n",
    "  return mapping[index]\n",
    "\n",
    "def generate_kernel(input: np.array):\n",
    "  views = np.lib.stride_tricks.sliding_window_view(input, (3, 3))\n",
    "  for row in views:\n",
    "    for view in row:\n",
    "      yield view\n",
    "\n",
    "def expand_array(input: np.array, cval = 0):\n",
    "  return np.pad(input, 2, constant_values=cval)\n",
    "\n",
    "def convolve(input: np.array, mapping: list[int], cval = 0):\n",
    "  grid = expand_array(input, cval)\n",
    "  result = []\n",
    "  for kernel in generate_kernel(grid):\n",
    "    result.append(run_mapping(kernel, mapping))\n",
    "  return np.reshape(result, (grid.shape[0]-2, grid.shape[1]-2))\n",
    "\n",
    "def update_cval(cval: int, mapping: list[int]):\n",
    "  return mapping[0] if cval == 0 else mapping[-1]\n",
    "\n",
    "def convolve_many(input: np.array, mapping: list[int], n: int):\n",
    "  cval = 0\n",
    "  result = input.copy()\n",
    "  for _ in range(n):\n",
    "    result = convolve(result, mapping, cval)\n",
    "    cval = update_cval(cval, mapping)\n",
    "  return result\n",
    "\n",
    "def day20(input: np.array, mapping: list[int], n=2):\n",
    "  result = convolve_many(input, mapping, n)\n",
    "  return int(result.sum())\n",
    "\n",
    "day20(result, mapping)\n"
   ]
  },
  {
   "cell_type": "code",
   "execution_count": 185,
   "metadata": {},
   "outputs": [
    {
     "data": {
      "text/plain": [
       "19340"
      ]
     },
     "execution_count": 185,
     "metadata": {},
     "output_type": "execute_result"
    }
   ],
   "source": [
    "# Note: take slightly longer than 10s\n",
    "day20(result, mapping, 50)"
   ]
  },
  {
   "cell_type": "markdown",
   "metadata": {},
   "source": [
    "## Day 21\n",
    "\n",
    "Another dp problem"
   ]
  },
  {
   "cell_type": "code",
   "execution_count": 38,
   "metadata": {},
   "outputs": [],
   "source": [
    "data21 = data(21, lambda x: int(x[-1]))"
   ]
  },
  {
   "cell_type": "code",
   "execution_count": 31,
   "metadata": {},
   "outputs": [
    {
     "data": {
      "text/plain": [
       "797160"
      ]
     },
     "execution_count": 31,
     "metadata": {},
     "output_type": "execute_result"
    }
   ],
   "source": [
    "class Dice:\n",
    "  def __init__(self):\n",
    "    self.count = 0\n",
    "\n",
    "  def roll_one(self):\n",
    "    self.count += 1\n",
    "    return wrap_general(1, 101, self.count)\n",
    "\n",
    "  def roll(self):\n",
    "    return self.roll_one() + self.roll_one() + self.roll_one()\n",
    "  \n",
    "class Player:\n",
    "  def __init__(self, position: int, score=0):\n",
    "    self.position = position\n",
    "    self.score = score\n",
    "\n",
    "  def play(self, roll: int):\n",
    "    self.position = wrap_general(1, 11, self.position + roll)\n",
    "    self.score += self.position\n",
    "    return self.score\n",
    "\n",
    "class Game:\n",
    "  def __init__(self, players: list[Player], maxscore = 1000):\n",
    "    self.players = players\n",
    "    self.current_player = 0\n",
    "    self.maxscore = maxscore\n",
    "\n",
    "  def get_player(self):\n",
    "    player =  self.players[self.current_player]\n",
    "    self.current_player = (self.current_player + 1)%2\n",
    "    return player\n",
    "\n",
    "  def play(self, roll: int):\n",
    "    player = self.get_player()\n",
    "    player.play(roll)\n",
    "    if results := self.check_scores():\n",
    "      return results\n",
    "\n",
    "  def check_scores(self):\n",
    "    order = sorted(self.players, key=lambda x: x.score, reverse=True)\n",
    "    if order[0].score >= self.maxscore:\n",
    "      return order\n",
    "    return False\n",
    "\n",
    "def day21(data: list[int]):\n",
    "  game, dice, result = Game([Player(data[0]), Player(data[1])]), Dice(), None\n",
    "  while not result:\n",
    "    roll = dice.roll()\n",
    "    result = game.play(roll)\n",
    "  return result[-1].score * dice.count\n",
    "\n",
    "day21(data21)"
   ]
  },
  {
   "cell_type": "code",
   "execution_count": 39,
   "metadata": {},
   "outputs": [
    {
     "data": {
      "text/plain": [
       "27464148626406"
      ]
     },
     "execution_count": 39,
     "metadata": {},
     "output_type": "execute_result"
    }
   ],
   "source": [
    "class DiracDice:\n",
    "  def roll(self):\n",
    "    for i in range(1, 4):\n",
    "      for j in range(1, 4):\n",
    "        for k in range(1, 4):\n",
    "          yield i+j+k\n",
    "\n",
    "@lru_cache(maxsize=None)\n",
    "def dirac_turn(players: tuple[tuple[int, int], tuple[int, int]]) -> tuple[int, int]:\n",
    "  wins = [0, 0]\n",
    "  for roll in DiracDice().roll():\n",
    "    state = Game([Player(*players[0]), Player(*players[1])], 21)\n",
    "    winner = state.play(roll)\n",
    "    if winner:\n",
    "      wins[0] += 1\n",
    "    else:\n",
    "      results = dirac_turn(((state.players[1].position, state.players[1].score), (state.players[0].position, state.players[0].score)))\n",
    "      wins[0] += results[1]\n",
    "      wins[1] += results[0]\n",
    "  return wins\n",
    "\n",
    "def day21_2(data: list[int]):\n",
    "  results = dirac_turn(((data[0], 0), (data[1], 0)))\n",
    "  return max(results)\n",
    "\n",
    "day21_2(data21)"
   ]
  },
  {
   "cell_type": "markdown",
   "metadata": {},
   "source": [
    "## Day 22\n",
    "\n",
    "Should be solved using scipy.spatial.Rectangle and generating subrectangles on each step. But I'm incredibly bad at visualizing 3-d. Using [pymesh](https://pymesh.readthedocs.io/en/latest/installation.html) (running in docker) to solve this for now"
   ]
  },
  {
   "cell_type": "code",
   "execution_count": 80,
   "metadata": {},
   "outputs": [
    {
     "data": {
      "text/plain": [
       "[((-20, -31, -20), (30, 17, 28), 1),\n",
       " ((-43, -20, -45), (2, 34, 3), 1),\n",
       " ((-36, -6, -39), (18, 39, 15), 1),\n",
       " ((-30, -36, -28), (16, 16, 24), 1),\n",
       " ((-18, -19, -7), (30, 29, 47), 1),\n",
       " ((-30, -13, 0), (20, 37, 47), 1),\n",
       " ((-26, -38, -43), (25, 12, 12), 1),\n",
       " ((-38, -48, -14), (11, 4, 32), 1),\n",
       " ((-8, -9, -43), (42, 46, 10), 1),\n",
       " ((-10, -10, -19), (40, 36, 33), 1),\n",
       " ((5, 28, 33), (22, 43, 49), 0),\n",
       " ((-15, -14, -19), (39, 41, 36), 1),\n",
       " ((-31, 5, -7), (-19, 23, 11), 0),\n",
       " ((-19, -38, -2), (28, 15, 45), 1),\n",
       " ((-39, -25, -5), (-28, -5, 14), 0),\n",
       " ((-15, -41, -19), (34, 8, 30), 1),\n",
       " ((-46, 23, 39), (-34, 40, 49), 0),\n",
       " ((-34, -4, -20), (14, 42, 31), 1),\n",
       " ((-26, -24, 27), (-11, -4, 40), 0),\n",
       " ((-38, -43, -10), (17, 11, 45), 1),\n",
       " ((39030, -57340, -51001), (44442, -34902, -45917), 1),\n",
       " ((-16916, 66566, 15828), (-4406, 94090, 36190), 1),\n",
       " ((40389, 27757, 45520), (50969, 50079, 59568), 1),\n",
       " ((52, 30746, 69338), (17189, 49030, 83168), 1),\n",
       " ((8979, -49316, -69008), (24828, -32552, -49925), 1),\n",
       " ((-52775, 52208, -1264), (-23857, 67628, 18588), 1),\n",
       " ((-33325, 45958, 46267), (-5131, 70761, 56579), 1),\n",
       " ((-42535, -55593, -65133), (-21393, -32079, -51934), 1),\n",
       " ((1749, 23252, 72579), (16248, 35649, 75406), 1),\n",
       " ((3243, -6805, 62726), (26697, 9967, 89127), 1),\n",
       " ((34445, 28535, 41201), (60972, 54295, 66462), 1),\n",
       " ((-60390, -9145, -79017), (-40466, 2335, -65418), 1),\n",
       " ((19536, -78529, -26591), (44699, -58638, -2742), 1),\n",
       " ((-64983, 37204, -21323), (-59434, 45833, -8108), 1),\n",
       " ((-18254, -85804, -5043), (13007, -67447, 13223), 1),\n",
       " ((24464, 48558, 37217), (32133, 68461, 62521), 1),\n",
       " ((-17139, -19845, -77537), (-10611, -3377, -57881), 1),\n",
       " ((63128, 638, -57064), (71169, 22629, -32578), 1),\n",
       " ((-58884, 27216, -66811), (-26786, 32402, -59471), 1),\n",
       " ((36497, -33880, -67604), (46351, -21304, -45788), 1),\n",
       " ((42798, 36207, -12151), (71815, 61647, 19687), 1),\n",
       " ((-55625, -82609, -16861), (-29372, -49684, 2525), 1),\n",
       " ((-70425, 20211, 47801), (-44307, 33461, 72056), 1),\n",
       " ((26463, 64489, -18426), (42177, 76472, 11308), 1),\n",
       " ((-78556, -16997, -34641), (-58071, 4972, -18127), 1),\n",
       " ((-58623, -55835, -46653), (-40140, -42508, -22924), 1),\n",
       " ((23300, -75579, 18777), (41376, -50754, 52823), 1),\n",
       " ((-82799, 18318, -24353), (-60919, 41773, -5517), 1),\n",
       " ((10106, 75368, 304), (26241, 78835, 7532), 1),\n",
       " ((46079, 49894, 7057), (73687, 71873, 19260), 1),\n",
       " ((-81301, -25735, 1130), (-63867, -2510, 19047), 1),\n",
       " ((27141, 20320, -74571), (55107, 49741, -44378), 1),\n",
       " ((38469, -70078, -31742), (55563, -44433, 1554), 1),\n",
       " ((1417, -90515, -41560), (27205, -53177, -22872), 1),\n",
       " ((-18898, 63448, -11360), (-6679, 97501, 9194), 1),\n",
       " ((-4654, -84171, 7893), (19273, -70177, 12894), 1),\n",
       " ((-41788, 57763, 27359), (-26903, 62949, 39846), 1),\n",
       " ((56892, -29393, -57865), (76483, 226, -40939), 1),\n",
       " ((-1653, 78559, 2133), (17580, 81299, 24654), 1),\n",
       " ((31665, -64402, 47007), (60532, -26645, 57641), 1),\n",
       " ((14454, -77500, 32205), (37043, -52116, 48280), 1),\n",
       " ((-57102, -973, -78522), (-19682, 12461, -69139), 1),\n",
       " ((33500, 45233, -24872), (64983, 71020, 10889), 1),\n",
       " ((-24545, 12207, 56701), (-2430, 36686, 84826), 1),\n",
       " ((-73898, 30235, 37337), (-40822, 40638, 48054), 1),\n",
       " ((16711, -75053, -45205), (35863, -53756, -39329), 1),\n",
       " ((40041, 35279, 3924), (62095, 55558, 28120), 1),\n",
       " ((2591, -77111, -42150), (27845, -61170, -24688), 1),\n",
       " ((63851, 717, -17708), (87587, 22609, 14684), 1),\n",
       " ((59776, -38309, 30512), (65769, -515, 61779), 1),\n",
       " ((27764, 48282, 34786), (52077, 73997, 42409), 1),\n",
       " ((-6770, -69740, 38985), (29848, -50464, 60901), 1),\n",
       " ((31444, -32209, -72646), (39136, -8483, -56368), 1),\n",
       " ((-71756, -60571, -40149), (-38219, -46748, -37115), 1),\n",
       " ((-44580, 55547, -43870), (-14825, 79254, -13363), 1),\n",
       " ((-72389, -27768, -70486), (-55148, -3838, -37701), 1),\n",
       " ((-52435, 66678, 10575), (-20438, 77086, 29462), 1),\n",
       " ((36706, 31858, -40879), (63236, 52462, -24848), 1),\n",
       " ((-74831, 37404, 6622), (-52958, 69190, 22186), 1),\n",
       " ((-6413, -48386, -83322), (1463, -19346, -70762), 1),\n",
       " ((-81857, -27629, -45105), (-58551, -26032, -28563), 1),\n",
       " ((-58671, -78607, -30993), (-44910, -52566, -11512), 1),\n",
       " ((-62873, 49607, -29998), (-36199, 83093, -10432), 1),\n",
       " ((-23969, -45673, 56204), (-5106, -24153, 73026), 1),\n",
       " ((-29554, -46583, -83575), (-11200, -24399, -47181), 1),\n",
       " ((30702, 36949, -57136), (37051, 66719, -36551), 1),\n",
       " ((-10148, -5870, -95526), (10476, 17464, -59912), 1),\n",
       " ((-31448, -48605, 45815), (-283, -24326, 82565), 1),\n",
       " ((-84567, -2089, 4033), (-61563, 26016, 7134), 1),\n",
       " ((-20326, -46016, 54080), (-3283, -26461, 72759), 1),\n",
       " ((41252, -49807, -60941), (55685, -22385, -42417), 1),\n",
       " ((62205, -49762, -7877), (71266, -34224, 12080), 1),\n",
       " ((-89292, -31405, -20505), (-72012, -14705, -2947), 1),\n",
       " ((-41776, 62722, -30024), (-20242, 70487, -1857), 1),\n",
       " ((18228, 52030, 25205), (32394, 71999, 59017), 1),\n",
       " ((48369, 37060, -38532), (72371, 54835, -8675), 1),\n",
       " ((-55253, 34161, -72149), (-28457, 57275, -39308), 1),\n",
       " ((-72798, -30694, 45952), (-51821, -2185, 57080), 1),\n",
       " ((4729, 17089, -85650), (43530, 31574, -72779), 1),\n",
       " ((42217, 45655, -36741), (74139, 63640, -10602), 1),\n",
       " ((27669, 46631, 29715), (49425, 69266, 51657), 1),\n",
       " ((20949, 70167, -32923), (27669, 86002, -14818), 1),\n",
       " ((-23923, 39080, 51545), (-8816, 50192, 61396), 1),\n",
       " ((57073, 3426, -62437), (77487, 21173, -39862), 1),\n",
       " ((-89626, -34501, -15996), (-67975, -16926, -15567), 1),\n",
       " ((32922, -54409, 27932), (59176, -33697, 67482), 1),\n",
       " ((6501, -83062, 34738), (33988, -63996, 39767), 1),\n",
       " ((-37545, 56421, 15177), (-29182, 70545, 40321), 1),\n",
       " ((-24691, 23161, 71111), (-17055, 33354, 74661), 1),\n",
       " ((54499, -38734, -39003), (86452, -28185, -13355), 1),\n",
       " ((-75142, -8956, -69975), (-47933, 5915, -39191), 1),\n",
       " ((-52665, -43596, 41665), (-35217, -32733, 50849), 1),\n",
       " ((8661, -2489, 67501), (29357, 18374, 85298), 1),\n",
       " ((70367, -18450, -16229), (80511, 8967, -1403), 1),\n",
       " ((-22779, 67289, -47475), (13140, 82768, -24312), 1),\n",
       " ((65450, 30530, -5236), (80933, 50653, 9933), 1),\n",
       " ((-75105, 6980, -59147), (-47423, 19152, -33034), 1),\n",
       " ((53516, -45107, -6148), (85798, -16805, 6568), 1),\n",
       " ((-12172, -8232, -96433), (15285, -650, -60577), 1),\n",
       " ((21192, 4914, 64567), (31933, 19822, 89358), 1),\n",
       " ((-12556, -41319, 56314), (402, -23842, 83753), 1),\n",
       " ((-67754, 58429, 2065), (-38532, 62878, 21665), 1),\n",
       " ((27156, 42626, 53276), (52487, 54352, 73832), 1),\n",
       " ((40263, -49247, 27873), (58893, -37912, 63167), 1),\n",
       " ((-37545, -74721, -36678), (-20532, -58537, -6053), 1),\n",
       " ((-6634, -49486, 54817), (18286, -27920, 82047), 1),\n",
       " ((-78134, 41826, -424), (-60333, 44417, 9095), 1),\n",
       " ((43122, -32977, -54994), (63246, -10980, -41396), 1),\n",
       " ((-22854, 32960, 53510), (-291, 46444, 76182), 1),\n",
       " ((30238, -40593, -86078), (43873, -18909, -61268), 1),\n",
       " ((-70060, -39536, 32095), (-41129, -15733, 55829), 1),\n",
       " ((-10129, 1392, 71205), (21232, 21145, 80084), 1),\n",
       " ((-46859, 59982, -594), (-20416, 86007, 30138), 1),\n",
       " ((16908, 60881, 25446), (34848, 64478, 39612), 1),\n",
       " ((27114, -19000, 52975), (34351, 587, 78045), 1),\n",
       " ((-92238, -25917, -10207), (-66544, -14476, 15336), 1),\n",
       " ((-53332, 55475, -16193), (-34656, 68793, 2957), 1),\n",
       " ((26074, -64147, 46625), (55120, -39478, 60805), 1),\n",
       " ((-81792, -27516, -17091), (-72185, -7355, -5152), 1),\n",
       " ((21510, 57655, -19988), (48124, 80144, -5156), 1),\n",
       " ((-42070, -71663, 10623), (-34032, -58063, 30184), 1),\n",
       " ((-31069, -20053, 61201), (-22541, -15966, 75888), 1),\n",
       " ((-7921, -12282, 63547), (15812, 11802, 83197), 1),\n",
       " ((-35651, -991, 67904), (-2430, 11372, 92773), 1),\n",
       " ((68087, -30799, -14648), (82585, -4375, 1776), 1),\n",
       " ((-33666, -90327, 12731), (-2579, -66215, 31900), 1),\n",
       " ((-73566, -59756, 4776), (-47483, -44344, 10326), 1),\n",
       " ((-76837, -4385, -50074), (-59778, 14933, -38479), 1),\n",
       " ((33388, -43398, 38162), (61935, -23302, 63976), 1),\n",
       " ((-33550, -33148, 67115), (-2569, -18286, 84111), 1),\n",
       " ((-10092, 30054, 69320), (6624, 46209, 86311), 1),\n",
       " ((-7255, -93969, 20851), (2961, -76904, 28010), 1),\n",
       " ((-38421, -85820, -4060), (-21410, -61664, 25093), 1),\n",
       " ((-18176, -8802, -87302), (9628, 7893, -62745), 1),\n",
       " ((5598, -87872, -38163), (36522, -73079, -13004), 1),\n",
       " ((-33275, 15352, -85579), (-7297, 36018, -56769), 1),\n",
       " ((-29516, 11240, 76852), (5543, 19635, 97447), 1),\n",
       " ((20714, 7948, 49079), (56271, 33081, 85137), 1),\n",
       " ((-93061, -33327, -5545), (-64853, -3704, 16278), 1),\n",
       " ((47448, -51628, -32794), (78392, -27894, -25879), 1),\n",
       " ((4227, 39768, 54839), (30700, 45889, 83598), 1),\n",
       " ((70777, 7439, -5976), (84002, 22804, 17311), 1),\n",
       " ((-42553, -58473, 38467), (-25756, -50107, 59252), 1),\n",
       " ((-71403, -38228, 36781), (-62998, -12574, 47497), 1),\n",
       " ((50888, -54783, 4861), (79520, -30828, 38062), 1),\n",
       " ((25418, -81881, 19352), (41499, -54970, 43518), 1),\n",
       " ((64258, -8788, 11393), (79956, 12998, 35100), 1),\n",
       " ((-67002, 27844, 2143), (-53519, 57264, 17727), 1),\n",
       " ((-78306, -22931, 19549), (-72248, -6152, 33992), 1),\n",
       " ((-26011, 18963, 64435), (4274, 28917, 85992), 1),\n",
       " ((10172, -25120, -89821), (23649, -10136, -59862), 1),\n",
       " ((-7255, -64279, -61984), (13765, -54194, -34270), 1),\n",
       " ((-30268, -79485, 26816), (-1306, -52162, 44966), 1),\n",
       " ((-87805, -2902, 18293), (-59709, 27443, 48554), 1),\n",
       " ((46421, -30630, -60214), (69705, -18728, -49370), 1),\n",
       " ((-62224, 53137, -7492), (-38281, 66174, 21446), 1),\n",
       " ((-34677, 71034, -2619), (-14016, 83819, 11925), 1),\n",
       " ((1998, -88018, -19529), (26801, -70660, 14436), 1),\n",
       " ((-40150, -38817, 68511), (-24947, -2116, 75949), 1),\n",
       " ((-20059, 53243, 38176), (3820, 77126, 58433), 1),\n",
       " ((-25128, 36766, -65955), (3971, 71877, -55177), 1),\n",
       " ((30721, -88372, -10373), (48677, -59040, 20518), 1),\n",
       " ((54739, -6426, 38483), (79188, 24206, 52200), 1),\n",
       " ((-74123, 16087, 6308), (-60595, 24030, 31111), 1),\n",
       " ((-41178, 34273, -68326), (-13747, 53162, -50078), 1),\n",
       " ((34321, -28029, 50910), (62133, -5766, 79803), 1),\n",
       " ((-32145, -91765, -38102), (5242, -68646, -15016), 1),\n",
       " ((23277, 31667, 54327), (33785, 51552, 64741), 1),\n",
       " ((-46838, -20629, -82153), (-27021, 11487, -67990), 1),\n",
       " ((7719, -85522, -28269), (27807, -68653, -18333), 1),\n",
       " ((66206, 4275, -26164), (79802, 23983, -6767), 1),\n",
       " ((7060, 15808, -82475), (30307, 21151, -72033), 1),\n",
       " ((-72488, -28681, -55788), (-57914, -13503, -19137), 1),\n",
       " ((51600, -55022, -4574), (81030, -27696, -1319), 1),\n",
       " ((713, -41043, -89590), (24781, -16226, -57705), 1),\n",
       " ((-47902, -71811, -47393), (-19359, -40926, -42421), 1),\n",
       " ((-37143, 44321, 39090), (-13205, 57114, 74408), 1),\n",
       " ((-87887, -2502, 3934), (-62005, 27754, 32304), 1),\n",
       " ((-54898, 49943, -17391), (-26965, 70124, -2215), 1),\n",
       " ((45372, 43448, -33840), (65852, 50409, -13661), 1),\n",
       " ((71524, -26188, -49099), (82317, 7091, -14637), 1),\n",
       " ((22921, -27396, 58045), (44805, -13595, 85436), 1),\n",
       " ((-72660, 20103, -43346), (-48633, 38490, -11328), 1),\n",
       " ((-81912, -10732, -24656), (-70602, 7578, 3234), 1),\n",
       " ((482, 38765, 52032), (21680, 51539, 83854), 1),\n",
       " ((-60433, -39018, -73031), (-38680, -11873, -47654), 1),\n",
       " ((-15216, 34050, -70546), (4880, 46446, -48264), 1),\n",
       " ((7593, -50259, -87495), (31683, -22311, -64015), 1),\n",
       " ((25388, 50026, -65865), (30575, 53822, -34988), 1),\n",
       " ((-84657, -5614, -24634), (-71961, 6001, -3338), 1),\n",
       " ((41390, 22570, 30882), (60021, 42629, 64772), 1),\n",
       " ((-248, -2823, -96809), (17128, 6659, -73414), 1),\n",
       " ((-77832, 14930, -56240), (-55464, 45871, -28635), 1),\n",
       " ((65116, -6666, -680), (82346, 23579, 26740), 1),\n",
       " ((34856, 43745, -39638), (54197, 68376, -19524), 1),\n",
       " ((-48140, -70877, 27025), (-27551, -60623, 49108), 1),\n",
       " ((-19790, -95842, -10888), (16503, -64223, 486), 1),\n",
       " ((-44735, -66086, -59639), (-16835, -45888, -41211), 1),\n",
       " ((12184, -56463, -68564), (30540, -46206, -49368), 1),\n",
       " ((-8178, -94758, 12761), (14148, -68871, 40516), 1),\n",
       " ((63606, -37629, 7962), (77627, -16486, 27751), 0),\n",
       " ((24113, -59984, -65778), (32573, -39026, -44445), 1),\n",
       " ((-57539, 28352, 32995), (-24759, 48098, 62026), 1),\n",
       " ((40834, 33338, -65491), (49962, 48266, -33837), 0),\n",
       " ((-80149, 13027, 35050), (-51563, 40491, 60769), 0),\n",
       " ((-80739, 33192, -16057), (-57168, 57749, 6589), 0),\n",
       " ((61968, -53750, -12261), (78709, -34744, 9165), 1),\n",
       " ((-10785, 28171, -66565), (18614, 58217, -56749), 1),\n",
       " ((32041, 19350, 55238), (52938, 35416, 77640), 0),\n",
       " ((-36952, 3126, 64598), (-18268, 20238, 79216), 1),\n",
       " ((33467, -21420, -73687), (37922, -11398, -62781), 1),\n",
       " ((-26796, -79690, 33661), (-9958, -57726, 50801), 1),\n",
       " ((68974, 5289, -31666), (76735, 25801, -18115), 0),\n",
       " ((-5502, -63307, -51364), (14687, -53368, -48960), 1),\n",
       " ((24767, 52124, 23428), (47139, 81996, 28918), 1),\n",
       " ((-80538, -48183, 18181), (-52658, -35293, 36287), 0),\n",
       " ((-62852, 48933, -18708), (-32257, 70741, 2604), 0),\n",
       " ((-5407, -83410, -30565), (3288, -60850, -10566), 0),\n",
       " ((-61477, -69802, -8735), (-28723, -48667, 5649), 1),\n",
       " ((-61834, 30006, 39118), (-43461, 46771, 76052), 0),\n",
       " ((-40106, -79417, -19775), (-25580, -67134, 61), 1),\n",
       " ((9232, -75135, -52206), (31267, -53368, -30949), 0),\n",
       " ((-84248, 7669, -51152), (-58137, 29205, -17069), 0),\n",
       " ((46938, 12960, -57448), (63694, 42502, -41488), 1),\n",
       " ((-61060, -63777, -35472), (-33677, -31256, -29496), 1),\n",
       " ((2080, -39244, -81473), (22936, -32427, -54993), 1),\n",
       " ((-41327, -70059, 32258), (-18602, -40897, 67223), 1),\n",
       " ((-44240, 15754, 66733), (-10220, 50505, 86102), 1),\n",
       " ((19480, 62939, 14257), (46397, 71134, 29692), 0),\n",
       " ((-31329, 69918, 679), (-13992, 80801, 23781), 1),\n",
       " ((14808, -45728, -78006), (49736, -33195, -46757), 1),\n",
       " ((56049, 50004, -7561), (68928, 64744, 4898), 1),\n",
       " ((-14920, -63199, -85218), (816, -36014, -61912), 1),\n",
       " ((-63010, -59660, -52839), (-31951, -30452, -47694), 0),\n",
       " ((-4708, -68219, 28244), (21971, -58657, 49102), 1),\n",
       " ((64329, -56681, 10880), (72378, -23396, 38220), 1),\n",
       " ((-1573, -66068, 43031), (19389, -49773, 46118), 1),\n",
       " ((3550, -41811, 60901), (36696, -27758, 85944), 0),\n",
       " ((-16254, -14722, 66336), (1098, 5545, 94647), 1),\n",
       " ((61689, -46459, 780), (81212, -35254, 35629), 0),\n",
       " ((20599, 67758, -16445), (41796, 81145, -7608), 1),\n",
       " ((-12570, -77401, 40726), (-2056, -41664, 63561), 0),\n",
       " ((-62350, -31298, -66142), (-35206, -15969, -41644), 0),\n",
       " ((12223, -73960, -55238), (28448, -45196, -52231), 1),\n",
       " ((47567, -34518, -48355), (79681, -17412, -34556), 0),\n",
       " ((-18337, 64991, -28658), (9760, 95029, -26312), 0),\n",
       " ((-2752, -22642, 76028), (20614, -1517, 79120), 0),\n",
       " ((-12095, 40788, 54694), (21832, 52436, 82774), 1),\n",
       " ((62369, 18603, 7267), (79280, 37518, 29697), 1),\n",
       " ((-12882, -67320, 33085), (21847, -57184, 56112), 0),\n",
       " ((54508, -20473, -62714), (76110, 2786, -41812), 0),\n",
       " ((67360, -48085, 10595), (71568, -29465, 37030), 1),\n",
       " ((13286, -87029, -10601), (27536, -60346, -4531), 0),\n",
       " ((-45650, -77515, -35410), (-19691, -57321, -11382), 1),\n",
       " ((-38632, -21531, 69099), (-32708, -808, 84539), 1),\n",
       " ((-17166, 36202, -80622), (5249, 59117, -55254), 0),\n",
       " ((53199, -57030, 16510), (58329, -46927, 28138), 0),\n",
       " ((-12452, 59268, -1657), (-6068, 97188, 26475), 0),\n",
       " ((-94415, 2951, -4256), (-66313, 35336, 2178), 0),\n",
       " ((68643, -1199, 13968), (76061, 3978, 40356), 0),\n",
       " ((-53216, -5088, 61339), (-30344, 12710, 71115), 0),\n",
       " ((-47617, -83385, -2232), (-41175, -64332, 24577), 0),\n",
       " ((50246, 15557, -54113), (56921, 35921, -43202), 1),\n",
       " ((-80487, -44273, 17212), (-65359, -26323, 25007), 1),\n",
       " ((-25354, 56319, 33347), (-9028, 71474, 48175), 1),\n",
       " ((2077, 39902, -70890), (7446, 60927, -42933), 1),\n",
       " ((-30828, 9950, 65490), (-13644, 38408, 91993), 1),\n",
       " ((-39862, 41184, -44498), (-30858, 62168, -32077), 1),\n",
       " ((10000, 38307, -55950), (38072, 77251, -45432), 1),\n",
       " ((-25138, 59646, -29182), (-21938, 80573, -3584), 0),\n",
       " ((-69664, -50521, -3375), (-49401, -29249, 11368), 0),\n",
       " ((21546, -3813, 69311), (32760, 9496, 85453), 1),\n",
       " ((67070, -11015, -48745), (79357, 7661, -32177), 1),\n",
       " ((7316, 34054, -68022), (30215, 56897, -53096), 0),\n",
       " ((-50959, 60361, 9818), (-44593, 64987, 23240), 1),\n",
       " ((-92152, -39965, -2960), (-60838, -25168, 14073), 1),\n",
       " ((-8418, -16850, -89405), (-5467, -394, -60344), 1),\n",
       " ((61152, -55316, 5256), (81115, -42488, 27809), 1),\n",
       " ((-46242, -88249, -34050), (-11635, -68047, -27918), 1),\n",
       " ((-70820, -51978, -13139), (-63332, -25849, 9915), 1),\n",
       " ((-26879, 61913, -25966), (-10478, 79718, -96), 1),\n",
       " ((12919, -76896, 25302), (29895, -45405, 55571), 0),\n",
       " ((39675, 53474, -29696), (51600, 75892, -16), 1),\n",
       " ((-30540, 55369, -58542), (-14473, 68033, -28287), 0),\n",
       " ((53971, -40457, -62948), (72034, -16770, -31124), 1),\n",
       " ((18120, -8657, 75119), (26293, 14414, 81207), 1),\n",
       " ((20710, -45252, -67175), (41424, -30750, -46145), 0),\n",
       " ((-20194, -36413, 57487), (-377, -21283, 74835), 1),\n",
       " ((9683, 33189, 38646), (40178, 58522, 71003), 0),\n",
       " ((-69406, -3981, 37822), (-46937, 791, 62760), 0),\n",
       " ((62465, -42839, -4142), (92234, -17645, 16598), 0),\n",
       " ((-51175, -10237, 62925), (-44109, -21, 80653), 1),\n",
       " ((-72655, 9326, 36035), (-65647, 28288, 52005), 0),\n",
       " ((-42754, 7826, 72152), (-18275, 28127, 79145), 0),\n",
       " ((57060, 12453, -8107), (77217, 45689, -3044), 1),\n",
       " ((-26698, 20712, 63167), (2269, 41626, 76253), 0),\n",
       " ((-68201, 30213, -59554), (-48222, 50083, -34428), 1),\n",
       " ((-72641, 33312, 22828), (-34835, 53355, 56558), 1),\n",
       " ((-70258, -23700, 30085), (-48789, 8378, 47467), 1),\n",
       " ((-66538, -11452, -65928), (-39507, 11543, -55527), 1),\n",
       " ((-87876, 21246, 5107), (-57424, 38055, 25444), 1),\n",
       " ((-20182, -90193, 20050), (2599, -61071, 52147), 0),\n",
       " ((39307, -69031, 36698), (59986, -44775, 61409), 1),\n",
       " ((-12448, -70136, -72152), (510, -35947, -51816), 0),\n",
       " ((-23574, -74942, 42969), (6459, -53211, 50281), 1),\n",
       " ((60679, 47871, -27683), (75404, 65198, -4166), 1),\n",
       " ((-36024, 55017, 30779), (-8292, 76157, 55779), 0),\n",
       " ((22953, -81805, -20432), (39106, -62301, -37), 1),\n",
       " ((27886, 4065, -77407), (44605, 25616, -66334), 0),\n",
       " ((-32071, -69669, 19133), (-30954, -54373, 44520), 1),\n",
       " ((-44247, -4852, -83379), (-33440, 25258, -55624), 1),\n",
       " ((-6331, -2727, -82200), (23002, 22051, -72999), 1),\n",
       " ((1792, 65970, 20881), (13244, 84666, 40168), 1),\n",
       " ((-87142, 7662, -9182), (-62107, 16910, -3171), 1),\n",
       " ((13248, -82443, -36386), (38147, -50007, -12434), 0),\n",
       " ((-6365, -96240, -11610), (4220, -64380, 17543), 1),\n",
       " ((20323, -68882, 22967), (42543, -61241, 43944), 1),\n",
       " ((-41163, 2371, 58149), (-20949, 22768, 74632), 1),\n",
       " ((-32710, 54625, 37425), (-17809, 65521, 52512), 0),\n",
       " ((50562, -37987, 6443), (71694, -23563, 27942), 1),\n",
       " ((-75860, -31260, 22220), (-59112, -21145, 40681), 1),\n",
       " ((35387, 47728, 39791), (41988, 67981, 64449), 0),\n",
       " ((608, 49806, 31124), (10799, 77962, 54951), 0),\n",
       " ((-60231, 53787, -12704), (-39197, 68245, 5468), 1),\n",
       " ((-35484, -73867, 39249), (-21082, -37872, 51363), 1),\n",
       " ((59987, -27001, -47787), (77836, -15878, -19842), 1),\n",
       " ((41427, 51994, 30784), (62289, 70946, 47391), 0),\n",
       " ((-50048, 3043, -72740), (-36833, 25993, -53307), 0),\n",
       " ((42872, 30943, -42821), (58018, 61514, -33966), 1),\n",
       " ((-36245, -58223, -67387), (-9386, -55845, -31056), 0),\n",
       " ((-59188, 56279, 28867), (-35628, 73985, 43988), 0),\n",
       " ((-78759, -20681, -31797), (-64657, 5868, -7771), 0),\n",
       " ((-4710, -2779, -86219), (8906, 3352, -60527), 0),\n",
       " ((33155, 49452, 876), (61008, 81380, 17782), 1),\n",
       " ((-36277, 27939, -81045), (-9970, 32654, -53963), 0),\n",
       " ((-26923, 30428, 59674), (-8073, 51132, 76395), 0),\n",
       " ((31979, 56931, -9340), (54726, 85665, 9916), 0),\n",
       " ((-50144, -34733, -65108), (-15729, -21752, -46337), 1),\n",
       " ((60842, 32957, 4144), (75794, 62321, 27983), 0),\n",
       " ((-19195, -86897, 2529), (-2408, -76379, 23133), 0),\n",
       " ((64018, -11605, -29716), (98007, -3632, -7299), 0),\n",
       " ((-30513, 54293, 2287), (-24111, 87708, 35439), 1),\n",
       " ((-70296, -11905, 21158), (-60349, 14802, 49899), 0),\n",
       " ((-70639, 9051, 49129), (-44201, 33037, 61553), 0),\n",
       " ((41321, -27152, -68965), (60066, -14508, -47233), 1),\n",
       " ((70548, -5954, 11278), (91311, 5727, 19701), 1),\n",
       " ((-50219, -52582, -54196), (-21417, -42029, -49650), 1),\n",
       " ((-89552, -17585, 34927), (-58632, 265, 52504), 1),\n",
       " ((-82142, -34545, 23522), (-52177, -11191, 41515), 1),\n",
       " ((1835, 6244, 71948), (27942, 15479, 96429), 0),\n",
       " ((-23771, 4204, -87494), (-8127, 25629, -64594), 0),\n",
       " ((-70646, -69358, 14932), (-48208, -34635, 17269), 0),\n",
       " ((-49767, 17787, -67440), (-33301, 36655, -56604), 0),\n",
       " ((-69442, 14615, 29421), (-47854, 37284, 50849), 1),\n",
       " ((16292, 53434, 42659), (29083, 67572, 57866), 1),\n",
       " ((-80373, -32877, -43105), (-65568, -22701, -17573), 0),\n",
       " ((-60547, -63557, 32703), (-40976, -48861, 37612), 0),\n",
       " ((-61581, 46572, 16255), (-50979, 61297, 33721), 0),\n",
       " ((-15898, -81270, -9467), (9631, -72336, 1579), 0),\n",
       " ((-1628, 41763, 46348), (17535, 66184, 77857), 0),\n",
       " ((-7922, -69557, -64023), (9272, -43618, -55014), 0),\n",
       " ((26053, 57719, -16189), (28770, 77891, 1385), 1),\n",
       " ((54696, -45863, -35805), (78582, -22336, -18070), 1),\n",
       " ((2717, -87427, -12024), (35042, -67252, 10338), 1),\n",
       " ((-25139, 21889, -81323), (-9097, 49901, -59101), 1),\n",
       " ((-61386, -48153, -59187), (-45024, -25438, -28229), 1),\n",
       " ((-14053, 20868, 70952), (-8907, 41044, 78052), 0),\n",
       " ((-20054, -37491, 63084), (-2136, -34325, 71660), 0),\n",
       " ((-55685, 12597, 51147), (-33311, 34115, 70266), 0),\n",
       " ((67819, -16857, -13285), (99323, 5737, 827), 0),\n",
       " ((41853, -47936, -50557), (51466, -40528, -30323), 0),\n",
       " ((-23106, -72015, 33047), (728, -63421, 44034), 1),\n",
       " ((45528, -45076, -71396), (53648, -21771, -44335), 0),\n",
       " ((33296, 54805, 15225), (53708, 77185, 51417), 1),\n",
       " ((16412, -77570, 24249), (36310, -54448, 53269), 1),\n",
       " ((-4728, 2245, 58276), (22492, 16392, 80428), 0),\n",
       " ((-19857, -84155, 27354), (4700, -56151, 42475), 0),\n",
       " ((3684, 26310, -78511), (19894, 53592, -54423), 1),\n",
       " ((24404, -45396, 51011), (39335, -28652, 76761), 0),\n",
       " ((-84254, -4562, -45183), (-58234, 25852, -21545), 0),\n",
       " ((-31427, -70117, 22727), (4282, -58892, 42677), 0),\n",
       " ((67060, -25501, -34282), (91126, 6757, -15729), 0),\n",
       " ((-72571, -65677, -45375), (-51424, -30540, -18096), 0),\n",
       " ((-57405, 35533, 21509), (-41318, 66515, 43777), 0),\n",
       " ((7762, 67369, 9686), (21985, 75047, 35910), 1),\n",
       " ((30634, -35139, 43449), (52924, -9414, 78932), 0),\n",
       " ((40774, 37481, -44638), (58495, 66357, -29730), 1),\n",
       " ((-35081, -73384, 13041), (-10627, -61821, 33354), 1),\n",
       " ((-47126, -24819, 51995), (-18465, -10782, 88236), 1),\n",
       " ((-20404, -86858, 24047), (-11973, -59688, 39735), 1),\n",
       " ((33931, 53920, -44311), (50102, 69401, -24787), 1),\n",
       " ((13893, -69617, 33243), (22431, -59693, 53852), 1),\n",
       " ((13266, 75584, 13448), (24043, 82688, 23081), 1),\n",
       " ((42429, -33657, -65211), (61383, -13421, -53530), 0),\n",
       " ((-60874, -61576, -11832), (-43703, -56370, 8959), 0),\n",
       " ((-63974, 41209, 23902), (-31259, 71414, 52386), 1),\n",
       " ((25038, -89283, 19523), (29791, -66013, 23401), 1),\n",
       " ((32430, 40166, -47739), (64222, 56780, -23711), 1),\n",
       " ((63435, 26630, -28657), (71300, 51277, -7612), 1),\n",
       " ((-16513, -95480, 8739), (7917, -69850, 32556), 0)]"
      ]
     },
     "execution_count": 80,
     "metadata": {},
     "output_type": "execute_result"
    }
   ],
   "source": [
    "pattern = re.compile('x=([0-9\\-]+)\\.\\.([0-9\\-]+),y=([0-9\\-]+)\\.\\.([0-9\\-]+),z=([0-9\\-]+)\\.\\.([0-9\\-]+)')\n",
    "def format22(line: str):\n",
    "  status, dimensions = line.split(' ')\n",
    "  x1, x2, y1, y2, z1, z2 = [int(i) for i in pattern.match(dimensions).groups()]\n",
    "  return ((x1, y1, z1), (x2+1, y2+1, z2+1), 1 if status == 'on' else 0) \n",
    "\n",
    "data22 = data(22, format22)\n",
    "data22"
   ]
  },
  {
   "cell_type": "code",
   "execution_count": 77,
   "metadata": {},
   "outputs": [],
   "source": [
    "import pymesh\n",
    "\n",
    "def generate_box(mins, maxes):\n",
    "  mesh = pymesh.generate_box_mesh(mins, maxes)\n",
    "  return mesh\n",
    "\n",
    "def update_mesh(a, b, status):\n",
    "  return pymesh.boolean(a, b, operation='union' if status else 'difference')\n",
    "\n",
    "def day22(data):\n",
    "  # Assumes that initial step is turning on\n",
    "  result = generate_box(data[0][0], data[0][1])\n",
    "  for input in data[1:]:\n",
    "    print('processing', input)\n",
    "    result = update_mesh(result, generate_box(input[0], input[1]), input[2])\n",
    "  return round(result.volume)"
   ]
  },
  {
   "cell_type": "markdown",
   "metadata": {},
   "source": [
    "1. 570915\n",
    "2. 1268313839428137 (slow - also can be slightly off)"
   ]
  },
  {
   "cell_type": "markdown",
   "metadata": {},
   "source": [
    "## Day 23\n",
    "1. Generate possible outputs from current state\n",
    "2. Run dijkstra on state to end state"
   ]
  },
  {
   "cell_type": "code",
   "execution_count": 44,
   "metadata": {},
   "outputs": [],
   "source": [
    "amphipod_mapping = {\n",
    "  'A': 0,\n",
    "  'B': 1,\n",
    "  'C': 2,\n",
    "  'D': 3\n",
    "}\n",
    "hallway = tuple([0]*11)\n",
    "rooms = [[],[],[],[]]\n",
    "def add_line_to_room(line: str):\n",
    "  count = 0\n",
    "  for i in line:\n",
    "    if i not in amphipod_mapping.keys():\n",
    "      continue\n",
    "    pod = 10**amphipod_mapping[i]\n",
    "    rooms[count].append(pod)\n",
    "    count += 1\n",
    "data(23, add_line_to_room)\n",
    "rooms = tuple([tuple(room) for room in rooms])"
   ]
  },
  {
   "cell_type": "code",
   "execution_count": 42,
   "metadata": {},
   "outputs": [
    {
     "data": {
      "text/plain": [
       "10526"
      ]
     },
     "execution_count": 42,
     "metadata": {},
     "output_type": "execute_result"
    }
   ],
   "source": [
    "# Done by hand\n",
    "def day23():\n",
    "  a = 1\n",
    "  b = 10\n",
    "  c = 100\n",
    "  d = 1000\n",
    "\n",
    "  step1 = 2*d + 2*d + 3*c\n",
    "  step2 = 3*d + 2*d\n",
    "  step3 = 5*a + 5*a\n",
    "  step4 = 6*b\n",
    "  step5 = 7*c + 4*c\n",
    "  step6 = 5*b\n",
    "  step7 = 3*a + 3*a\n",
    "  return step1 + step2 + step3 + step4 + step5 + step6 + step7\n",
    "\n",
    "day23()"
   ]
  },
  {
   "cell_type": "code",
   "execution_count": 45,
   "metadata": {},
   "outputs": [
    {
     "data": {
      "text/plain": [
       "10526"
      ]
     },
     "execution_count": 45,
     "metadata": {},
     "output_type": "execute_result"
    }
   ],
   "source": [
    "# Could not figure out how to do part 2 by hand, so redid it using dijkstra here\n",
    "class Room:\n",
    "  def __init__(self, target: int, pods: list[int], size: int):\n",
    "    self.target = target\n",
    "    self.pods = pods\n",
    "    self.size = size\n",
    "    \n",
    "  def __repr__(self) -> str:\n",
    "      return str(self.pods)\n",
    "\n",
    "  def ready(self):\n",
    "    for i in self.pods:\n",
    "      if i != self.target:\n",
    "        return False\n",
    "    return True\n",
    "\n",
    "  def cost(self):\n",
    "    return self.size - len(self.pods)\n",
    "\n",
    "class Hallway:\n",
    "  def __init__(self, positions):\n",
    "    self.positions = list(positions)\n",
    "\n",
    "  def __repr__(self) -> str:\n",
    "      return str([x for x in self.positions])\n",
    "\n",
    "  def hallway_pods(self):\n",
    "    for position, pod in enumerate(self.positions):\n",
    "      if pod:\n",
    "        yield (pod, position)\n",
    "\n",
    "  def room_hall(self, room: int):\n",
    "    return room*2 + 2\n",
    "\n",
    "  def done(self):\n",
    "    for i in self.positions:\n",
    "      if i:\n",
    "        return False\n",
    "    return True\n",
    "\n",
    "  # Methods on pods in the hallway\n",
    "  def _reachable(self, start: int, end: int):\n",
    "    for i in range(start, end):\n",
    "      if self.positions[i] != 0:\n",
    "        return False\n",
    "    return True\n",
    "\n",
    "  def reachable(self, start: int, end: int):\n",
    "    if start < end:\n",
    "      return self._reachable(start+1, end+1)\n",
    "    return self._reachable(end, start)\n",
    "\n",
    "  def room_reachable(self, position: int, room: int):\n",
    "    return self.reachable(position, self.room_hall(room))\n",
    "  \n",
    "  # Methods on pods entering the hallway\n",
    "  def valid_left(self, position: int):\n",
    "    for i in range(position-1, 0, -2):\n",
    "      if self.positions[i]:\n",
    "        return\n",
    "      yield i\n",
    "    if not self.positions[0]:\n",
    "      yield 0\n",
    "\n",
    "  def valid_right(self, position: int):\n",
    "    for i in range(position+1, 10, 2):\n",
    "      if self.positions[i]:\n",
    "        return\n",
    "      yield i\n",
    "    if not self.positions[10]:\n",
    "      yield 10\n",
    "\n",
    "  def reachable_positions(self, room: int):\n",
    "    position = self.room_hall(room)\n",
    "    yield from self.valid_left(position)\n",
    "    yield from self.valid_right(position)\n",
    "\n",
    "  def update(self, position: int, value: int):\n",
    "    new_hallway = self.positions.copy()\n",
    "    new_hallway[position] = value\n",
    "    return tuple(new_hallway)\n",
    "\n",
    "class State:\n",
    "  def __init__(self, hallway: Hallway, rooms: list[Room]):\n",
    "    self.hallway = hallway\n",
    "    self.rooms = tuple(rooms)\n",
    "\n",
    "  def pod_room(self, pod: int):\n",
    "    return int(np.log10(pod))\n",
    "\n",
    "  def add_rooms(self, room: int):\n",
    "    rooms = [tuple(room.pods) for room in self.rooms]\n",
    "    rooms[room] = (self.rooms[room].target, *rooms[room])\n",
    "    return tuple(rooms)\n",
    "\n",
    "  def hallway_moves(self):\n",
    "    for pod, position in self.hallway.hallway_pods():\n",
    "      room_number = self.pod_room(pod)\n",
    "      room = self.rooms[room_number]\n",
    "      if not room.ready():\n",
    "        continue\n",
    "      if self.hallway.room_reachable(position, room_number):\n",
    "        distance = (abs(position - self.hallway.room_hall(room_number)) + room.cost()) * pod\n",
    "        new_hallway = self.hallway.update(position, 0)\n",
    "        yield (distance, new_hallway, self.add_rooms(room_number))\n",
    "\n",
    "  def pop_rooms(self, pop: int):\n",
    "    rooms = [tuple(room.pods) for room in self.rooms]\n",
    "    rooms[pop] = tuple(self.rooms[pop].pods[1:])\n",
    "    return tuple(rooms)\n",
    "\n",
    "  def room_moves(self):\n",
    "    for i, room in enumerate(self.rooms):\n",
    "      if room.ready():\n",
    "        continue\n",
    "      new_rooms = self.pop_rooms(i)\n",
    "      for position in self.hallway.reachable_positions(i):\n",
    "        pod = room.pods[0]\n",
    "        new_hallway = self.hallway.update(position, pod)\n",
    "        distance = (room.cost() + 1 + abs(position - self.hallway.room_hall(i)))*pod\n",
    "        yield (distance, new_hallway, new_rooms)\n",
    "\n",
    "  def __repr__(self):\n",
    "    return f'Hallway: {self.hallway}, Rooms: {str(self.rooms)}'\n",
    "\n",
    "  def done(self):\n",
    "    for room in self.rooms:\n",
    "      if not room.ready():\n",
    "        return False\n",
    "    return self.hallway.done()\n",
    "\n",
    "  def valid_moves(self):\n",
    "    for i in self.hallway_moves():\n",
    "      yield i\n",
    "    for i in self.room_moves():\n",
    "      yield i\n",
    "\n",
    "def search_amphipod(hallway: tuple[int], rooms: tuple[tuple[int]]):\n",
    "  roomsize = len(rooms[0])\n",
    "  visited = set()\n",
    "  frontier = SortedList([(0, hallway, rooms)], key=lambda x: -x[0])\n",
    "  while frontier:\n",
    "    distance, hallway, rooms = frontier.pop()\n",
    "    if (hallway, rooms) in visited:\n",
    "      continue\n",
    "    visited.add((hallway, rooms))\n",
    "    state = State(Hallway(hallway), [Room(10**i, room, roomsize) for i, room in enumerate(rooms)])\n",
    "    if state.done():\n",
    "      return distance\n",
    "    for d, h, r in state.valid_moves():\n",
    "      if (h, r) not in visited:\n",
    "        frontier.add((d+distance, h, r))\n",
    "\n",
    "def day23v2():\n",
    "  return search_amphipod(hallway, rooms)  \n",
    "\n",
    "day23v2()"
   ]
  },
  {
   "cell_type": "code",
   "execution_count": 46,
   "metadata": {},
   "outputs": [
    {
     "data": {
      "text/plain": [
       "41284"
      ]
     },
     "execution_count": 46,
     "metadata": {},
     "output_type": "execute_result"
    }
   ],
   "source": [
    "def day23_2():\n",
    "  expanded = (\n",
    "    (rooms[0][0], 1000, 1000, rooms[0][1]),\n",
    "    (rooms[1][0], 100, 10, rooms[1][1]),\n",
    "    (rooms[2][0], 10, 1, rooms[2][1]),\n",
    "    (rooms[3][0], 1, 100, rooms[3][1])\n",
    "  )\n",
    "  return search_amphipod(hallway, expanded)\n",
    "\n",
    "day23_2()"
   ]
  },
  {
   "cell_type": "markdown",
   "metadata": {},
   "source": [
    "## Day 24"
   ]
  },
  {
   "cell_type": "code",
   "execution_count": 3,
   "metadata": {},
   "outputs": [],
   "source": [
    "data24 = data(24, lambda x: x.split(' '))"
   ]
  },
  {
   "cell_type": "code",
   "execution_count": 29,
   "metadata": {},
   "outputs": [
    {
     "data": {
      "text/plain": [
       "defaultdict(<function __main__.ALU.reset.<locals>.<lambda>()>,\n",
       "            {'w': 9, 'x': 0, 'y': 0, 'z': 0})"
      ]
     },
     "execution_count": 29,
     "metadata": {},
     "output_type": "execute_result"
    }
   ],
   "source": [
    "def split_by_inps(instructions: list[str]):\n",
    "  groups, current = [], []\n",
    "  for i in instructions:\n",
    "    if i[0] == 'inp':\n",
    "      groups.append(current)\n",
    "      current = [i]\n",
    "    else:\n",
    "      current.append(i)\n",
    "  groups.append(current)\n",
    "  return groups[1:]\n",
    "  \n",
    "class ALU:\n",
    "  def __init__(self, data: list[str]):\n",
    "    self.instructions = split_by_inps(data)\n",
    "    self.variables = defaultdict(lambda: 0)\n",
    "    self.inputs = []\n",
    "\n",
    "  def input(self, key: str):\n",
    "    value = self.inputs.popleft()\n",
    "    self.variables[key] = int(value)\n",
    "\n",
    "  def add(self, key: str, value: int):\n",
    "    self.variables[key] += value\n",
    "\n",
    "  def mul(self, key: str, value: int):\n",
    "    self.variables[key] *= value\n",
    "\n",
    "  def div(self, key: str, value: int):\n",
    "    self.variables[key] //= value\n",
    "\n",
    "  def mod(self, key: str, value: int):\n",
    "    self.variables[key] %= value\n",
    "\n",
    "  def eql(self, a: str, b: str):\n",
    "    self.variables[a] = 1 if self.value(a) == self.value(b) else 0\n",
    "\n",
    "  def value(self, input: str):\n",
    "    if input[0] == '-' or input[0].isdigit():\n",
    "      return int(input)\n",
    "    return self.variables[input]\n",
    "\n",
    "  def reset(self, variables={}):\n",
    "    self.variables = defaultdict(lambda: 0, variables)\n",
    "\n",
    "  def check(self, input: int, stage: int, variables={}):\n",
    "    self.reset(variables)\n",
    "    self.inputs = deque(str(input))\n",
    "    for instruction in self.instructions[stage]:\n",
    "      self.run(instruction)\n",
    "    return self.variables\n",
    "\n",
    "  def run(self, instruction: str):\n",
    "    if instruction[0] == 'inp':\n",
    "      return self.input(instruction[1])\n",
    "    op, key, v = instruction\n",
    "    value = self.value(v)\n",
    "    match op:\n",
    "      case 'add':\n",
    "        self.add(key, value)\n",
    "      case 'mul':\n",
    "        self.mul(key, value)\n",
    "      case 'div':\n",
    "        self.div(key, value)\n",
    "      case 'mod':\n",
    "        self.mod(key, value)\n",
    "      case 'eql':\n",
    "        self.eql(key, v)\n",
    "        \n",
    "def check(input: tuple[int, int, int, int, int], stage: int):\n",
    "  w, x, y, z, new = input\n",
    "  result = machine.check(new, stage, {'w': w, 'x':x, 'y':y, 'z':z})\n",
    "  return result\n",
    "\n",
    "machine = ALU(data24)\n",
    "\n",
    "check((0,0,0,19,9), 13)"
   ]
  },
  {
   "cell_type": "code",
   "execution_count": null,
   "metadata": {},
   "outputs": [],
   "source": [
    "def derive_state(i: int, targets: set[tuple[int, int, int, int]] = None):\n",
    "\n",
    "  def matches_target(input: tuple[int, int, int, int, int]):\n",
    "    result = check(input)\n",
    "    output = (result['w'], result['x'], result['y'], result['z'])\n",
    "    if not targets:\n",
    "      return output if result['z'] == 0 else False\n",
    "    return output if output in targets else False\n",
    "\n",
    "  machine.update_instructions(igroups[i])\n",
    "  results = {}\n",
    "  for y in range(27):\n",
    "    for z in range(27):\n",
    "      for new in range(9, -1, -1):\n",
    "        # w if always inp, x is always mul 0\n",
    "        config = (0, 0, y, z)\n",
    "        if config in results:\n",
    "          continue\n",
    "        if output := matches_target((w, x, y, z, new)):\n",
    "          results[config] = (*output, new)\n",
    "\n",
    "  if not results:\n",
    "    raise Exception(f'No results on {i}')\n",
    "  return results\n",
    "\n",
    "derive_state(13)\n",
    "\n",
    "def retrieve_max(results: dict[int, dict[tuple, tuple]]):\n",
    "  pass\n",
    "\n",
    "def day24(data: list[str]):\n",
    "  igroups = split_by_inps(data24)\n",
    "  targets = None\n",
    "  results = {}\n",
    "\n",
    "  for i in range(len(igroups)-1,0,-1):\n",
    "    result = derive_state(i, targets)\n",
    "    print(i, len(result))\n",
    "    results[i] = result\n",
    "    targets = set(result.keys())\n",
    "  \n",
    "  return results\n",
    "\n",
    "day24(data24)"
   ]
  },
  {
   "cell_type": "code",
   "execution_count": null,
   "metadata": {},
   "outputs": [],
   "source": [
    "@lru_cache(maxsize=None)\n",
    "def dfs(input: tuple[int, int, int, int], stage: int):\n",
    "  for i in range(9, -1, -1):\n",
    "    result = check((*input, i), stage)\n",
    "    if stage == 1 and result['z'] == 0:\n",
    "      return i\n",
    "    following = dfs((result['w'], result['x'], result['y'], result['z']), stage+1)\n",
    "    if following is not None:\n",
    "      return i*10 + following\n",
    "\n",
    "  if stage == 1:\n",
    "    return None\n",
    "\n",
    "dfs((0,0,0,0), 0)"
   ]
  }
 ],
 "metadata": {
  "interpreter": {
   "hash": "afbe5a8ba36a338952c60eef10b6c95614c86f7af75be44edfb1c9691ab6c108"
  },
  "kernelspec": {
   "display_name": "Python 3.8.10 64-bit ('.venv': poetry)",
   "language": "python",
   "name": "python3"
  },
  "language_info": {
   "codemirror_mode": {
    "name": "ipython",
    "version": 3
   },
   "file_extension": ".py",
   "mimetype": "text/x-python",
   "name": "python",
   "nbconvert_exporter": "python",
   "pygments_lexer": "ipython3",
   "version": "3.10.0"
  },
  "orig_nbformat": 4
 },
 "nbformat": 4,
 "nbformat_minor": 2
}
