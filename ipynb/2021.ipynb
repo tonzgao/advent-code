{
 "cells": [
  {
   "cell_type": "markdown",
   "metadata": {},
   "source": [
    "# [Advent of Code 2021](https://adventofcode.com/2021)\n",
    "\n",
    "Partially inspired by [Norvig's pytudes](https://github.com/norvig/pytudes/blob/main/ipynb/Advent-2020.ipynb), although I probably won't be using the same style.\n",
    "\n",
    "Goals\n",
    "------\n",
    "* Try to finish all gold stars on day of puzzle\n",
    "* Learn new python features\n",
    "* Investigate github copilot"
   ]
  },
  {
   "cell_type": "code",
   "execution_count": 1,
   "metadata": {},
   "outputs": [],
   "source": [
    "# Imports\n",
    "\n",
    "from collections import defaultdict\n",
    "import numpy as np\n",
    "import re\n",
    "from typing import Callable, TypeVar\n",
    "from functools import lru_cache\n",
    "\n",
    "T = TypeVar('T')\n",
    "\n",
    "# Helper functions\n",
    "\n",
    "def data(day: int, parser: Callable[[str], T]) -> list[T]:\n",
    "    with open(f\"../data/2021/day{day}.txt\") as f:\n",
    "        return [parser(line.strip()) for line in f.readlines()]"
   ]
  },
  {
   "cell_type": "markdown",
   "metadata": {},
   "source": [
    "## Day 1\n",
    "\n",
    "Determine number of increments in list"
   ]
  },
  {
   "cell_type": "code",
   "execution_count": 13,
   "metadata": {},
   "outputs": [],
   "source": [
    "data1 = data(1, int)"
   ]
  },
  {
   "cell_type": "code",
   "execution_count": 14,
   "metadata": {},
   "outputs": [
    {
     "data": {
      "text/plain": [
       "1688"
      ]
     },
     "execution_count": 14,
     "metadata": {},
     "output_type": "execute_result"
    }
   ],
   "source": [
    "def day1(data: list[int]) -> int:\n",
    "  count, current = 0, data[0]\n",
    "  for i in data[1:]:\n",
    "    if i > current:\n",
    "      count += 1\n",
    "    current = i\n",
    "  return count\n",
    "\n",
    "day1(data1)"
   ]
  },
  {
   "cell_type": "code",
   "execution_count": 48,
   "metadata": {},
   "outputs": [
    {
     "data": {
      "text/plain": [
       "1728"
      ]
     },
     "execution_count": 48,
     "metadata": {},
     "output_type": "execute_result"
    }
   ],
   "source": [
    "def win3(data: list[int]) -> list[int]:\n",
    "  for i in range(len(data) - 2):\n",
    "    yield sum(data[i:i+3])\n",
    "\n",
    "day1(list(win3(data1)))"
   ]
  },
  {
   "cell_type": "markdown",
   "metadata": {},
   "source": [
    "## Day 2\n",
    "\n",
    "Maintain sum of depth and length"
   ]
  },
  {
   "cell_type": "code",
   "execution_count": 21,
   "metadata": {},
   "outputs": [],
   "source": [
    "data2 = data('2', str)"
   ]
  },
  {
   "cell_type": "code",
   "execution_count": 22,
   "metadata": {},
   "outputs": [
    {
     "data": {
      "text/plain": [
       "1451208"
      ]
     },
     "execution_count": 22,
     "metadata": {},
     "output_type": "execute_result"
    }
   ],
   "source": [
    "def day2(data: list[str]) -> int:\n",
    "  depth, length = 0, 0\n",
    "  for i in data:\n",
    "    mode, amount = i.split(' ')\n",
    "    amount = int(amount)\n",
    "    match mode:\n",
    "      case 'forward':\n",
    "        length += amount\n",
    "      case 'down':\n",
    "        depth += amount\n",
    "      case 'up':\n",
    "        depth -= amount\n",
    "  return depth * length\n",
    "\n",
    "day2(data2)"
   ]
  },
  {
   "cell_type": "code",
   "execution_count": 26,
   "metadata": {},
   "outputs": [
    {
     "data": {
      "text/plain": [
       "1620141160"
      ]
     },
     "execution_count": 26,
     "metadata": {},
     "output_type": "execute_result"
    }
   ],
   "source": [
    "def day2_2(data: list[str]) -> int:\n",
    "  depth, length, aim = 0, 0, 0\n",
    "  for i in data:\n",
    "    mode, amount = i.split(' ')\n",
    "    amount = int(amount)\n",
    "    match mode:\n",
    "      case 'forward':\n",
    "        length += amount\n",
    "        depth += amount * aim\n",
    "      case 'down':\n",
    "        aim += amount\n",
    "      case 'up':\n",
    "        aim -= amount\n",
    "  return depth * length\n",
    "\n",
    "day2_2(data2)"
   ]
  },
  {
   "cell_type": "markdown",
   "metadata": {},
   "source": [
    "## Day 3\n",
    "\n",
    "Can probably be solved with bit tricks, but I'll just implement them as array problems."
   ]
  },
  {
   "cell_type": "code",
   "execution_count": 176,
   "metadata": {},
   "outputs": [],
   "source": [
    "data3 = data('3', str)\n",
    "\n",
    "def binlist2int(l: list[int]) -> int:\n",
    "  return int(\"\".join(str(i) for i in l), 2)"
   ]
  },
  {
   "cell_type": "code",
   "execution_count": 177,
   "metadata": {},
   "outputs": [
    {
     "data": {
      "text/plain": [
       "2954600"
      ]
     },
     "execution_count": 177,
     "metadata": {},
     "output_type": "execute_result"
    }
   ],
   "source": [
    "def day3(data: list[int]):\n",
    "  total = len(data)\n",
    "  size = len(data[0])\n",
    "  sums = [0] * size\n",
    "  for binary in data:\n",
    "    for i, v in enumerate(binary):\n",
    "      sums[i] += int(v)\n",
    "  \n",
    "  gamma = [0 if total - i > i else 1 for i in sums]\n",
    "  epsilon = [i ^ 1 for i in gamma]\n",
    "  return binlist2int(gamma) * binlist2int(epsilon)\n",
    "\n",
    "day3(data3)"
   ]
  },
  {
   "cell_type": "code",
   "execution_count": 179,
   "metadata": {},
   "outputs": [
    {
     "data": {
      "text/plain": [
       "1662846"
      ]
     },
     "execution_count": 179,
     "metadata": {},
     "output_type": "execute_result"
    }
   ],
   "source": [
    "def find_boundary(data: list[str], start: int, end: int, index: int) -> int:\n",
    "  # TODO: this can be implemented as binary search\n",
    "  for i, v in enumerate(data[start:end+1]):\n",
    "    if v[index] == '1':\n",
    "      return start + i\n",
    "  return start\n",
    "\n",
    "def scrubber(data: list[str], lcd: bool) -> int:\n",
    "  # Run \"binary search\"\n",
    "  low, high = 0, len(data) - 1\n",
    "  for target in range(len(data[0])):\n",
    "    index = low + ((high - low + 1) // 2)\n",
    "    item = data[index][target]\n",
    "\n",
    "    if lcd and item == '0':\n",
    "      # Select all '1's in the bottom half\n",
    "      low = find_boundary(data, index, high, target)\n",
    "    elif lcd and item == '1':\n",
    "      # Select all '0's in the top half\n",
    "      high = find_boundary(data, low, index, target) - 1\n",
    "    elif item == '0':\n",
    "      # Select all '0's from the top through to the bottom half\n",
    "      high = find_boundary(data, index, high, target) - 1\n",
    "    else:\n",
    "      # Select all '1' starting from the top half to the end\n",
    "      low = find_boundary(data, low, index, target)\n",
    "    \n",
    "    if low == high:\n",
    "      break\n",
    "\n",
    "  return data[low]\n",
    "\n",
    "def day3_2(data: list[str]) -> int:\n",
    "  data = sorted(data)\n",
    "  oxygen = scrubber(data, False)\n",
    "  c02 = scrubber(data, True)\n",
    "  return binlist2int(oxygen) * binlist2int(c02)\n",
    "\n",
    "day3_2(data3)"
   ]
  },
  {
   "cell_type": "markdown",
   "metadata": {},
   "source": [
    "## Day 4\n",
    "Reference storing Bingo Boards"
   ]
  },
  {
   "cell_type": "code",
   "execution_count": 81,
   "metadata": {},
   "outputs": [],
   "source": [
    "data4 = data('4', str)\n",
    "\n",
    "class BingoBoard:\n",
    "  def __init__(self):\n",
    "    self.board = []\n",
    "    self.size = 0\n",
    "    # TODO: this state should be stored elsewhere\n",
    "    self.rows = []\n",
    "    self.cols = []\n",
    "    \n",
    "  def add_row(self, row: list[int]):\n",
    "    self.board.append(row)\n",
    "    if not self.size:\n",
    "      self.size = len(row)\n",
    "      self.rows = [0] * self.size\n",
    "      # Assume column size is same as row size\n",
    "      self.cols = [0] * self.size\n",
    "\n",
    "def parse_data4(data: list[str]) -> tuple[list[int], list[BingoBoard]]:\n",
    "  numbers = [int(x) for x in data[0].split(',')]\n",
    "  boards, board = [], None\n",
    "  for row in data[1:]:\n",
    "    if row == '':\n",
    "      board = BingoBoard()\n",
    "      boards.append(board)\n",
    "    else:\n",
    "      board.add_row([int(x) for x in re.split('\\s+', row)])\n",
    "  return numbers, boards\n",
    "\n",
    "def analyze_boards(boards: list[BingoBoard]) -> dict[list[tuple[int,int,BingoBoard]]]:\n",
    "  # For each number, store the row and column with every board it was found in\n",
    "  keys = defaultdict(lambda: [])\n",
    "  for board in boards:\n",
    "    for i, row in enumerate(board.board):\n",
    "      for j, v in enumerate(row):\n",
    "        keys[v].append((i, j, board))\n",
    "  return keys"
   ]
  },
  {
   "cell_type": "code",
   "execution_count": 75,
   "metadata": {},
   "outputs": [
    {
     "data": {
      "text/plain": [
       "4512"
      ]
     },
     "execution_count": 75,
     "metadata": {},
     "output_type": "execute_result"
    }
   ],
   "source": [
    "def calculate_score(board: BingoBoard, numbers: set[int]) -> int:\n",
    "  score = 0\n",
    "  for row in board.board:\n",
    "    for v in row:\n",
    "      if v not in numbers:\n",
    "        score += v\n",
    "  return score\n",
    "\n",
    "def day4(data: list[str]) -> int:\n",
    "  numbers, boards = parse_data4(data)  \n",
    "  keys = analyze_boards(boards)\n",
    "  selected = set()\n",
    "  for number in numbers:\n",
    "    if number in selected:\n",
    "      continue\n",
    "    selected.add(number)\n",
    "    for i, j, board in keys[number]:\n",
    "      board.rows[i] += 1\n",
    "      board.cols[j] += 1\n",
    "      if board.size == board.rows[i] or board.size == board.cols[j]:\n",
    "        return calculate_score(board, selected) * number\n",
    "\n",
    "day4(data4)"
   ]
  },
  {
   "cell_type": "code",
   "execution_count": 82,
   "metadata": {},
   "outputs": [
    {
     "data": {
      "text/plain": [
       "5586"
      ]
     },
     "execution_count": 82,
     "metadata": {},
     "output_type": "execute_result"
    }
   ],
   "source": [
    "def retroactive_selected(inputs: list[int], end: int) -> int:\n",
    "  index = inputs.index(end) + 1\n",
    "  return set(inputs[:index])\n",
    "\n",
    "def day4_2(data: list[str]) -> int:\n",
    "  numbers, boards = parse_data4(data)  \n",
    "  keys = analyze_boards(boards)\n",
    "  selected = set()\n",
    "  completed, last_winner, last_num = set(), None, 0\n",
    "  for number in numbers:\n",
    "    if number in selected:\n",
    "      continue\n",
    "    selected.add(number)\n",
    "    for i, j, board in keys[number]:\n",
    "      if board in completed:\n",
    "        continue\n",
    "      board.rows[i] += 1\n",
    "      board.cols[j] += 1\n",
    "      if board.size == board.rows[i] or board.size == board.cols[j]:\n",
    "        completed.add(board)\n",
    "        last_winner, last_num = board, number\n",
    "  return calculate_score(last_winner, retroactive_selected(numbers, last_num)) * last_num\n",
    "\n",
    "day4_2(data4)"
   ]
  },
  {
   "cell_type": "markdown",
   "metadata": {},
   "source": [
    "## Day 5\n",
    "\n",
    "Some possible ideas for solutions: \n",
    "1. use vector products between each pair (n^2) and remove duplicates somehow\n",
    "2. use a 2-d interval tree and detect where sums on a point are greater than 1\n",
    "3. fill a 2-d grid and iterate through points\n",
    "\n",
    "Implementing with idea 3 for now, since size of grid is small relative to number of lines"
   ]
  },
  {
   "cell_type": "code",
   "execution_count": 102,
   "metadata": {},
   "outputs": [],
   "source": [
    "Line = tuple[tuple[int, int], tuple[int, int]]\n",
    "\n",
    "def parse5(line: str) -> list[Line]:\n",
    "  result = re.split('[\\s,]', line)\n",
    "  return (\n",
    "    (int(result[0]), int(result[3])), # xs\n",
    "    (int(result[1]), int(result[4])) # ys\n",
    "  )\n",
    "\n",
    "data5 = data('5', parse5)"
   ]
  },
  {
   "cell_type": "code",
   "execution_count": 103,
   "metadata": {},
   "outputs": [
    {
     "data": {
      "text/plain": [
       "4728"
      ]
     },
     "execution_count": 103,
     "metadata": {},
     "output_type": "execute_result"
    }
   ],
   "source": [
    "class BaseHydroVents:\n",
    "  def __init__(self, size: int) -> None:\n",
    "    self.grid = np.zeros([size, size])\n",
    "\n",
    "  def add_line(self, line: Line) -> None:\n",
    "    if line[0][0] == line[0][1]:\n",
    "      self.add_vertical_line(sorted(line[1]), line[0][0])\n",
    "    elif line[1][0] == line[1][1]:\n",
    "      self.add_horizontal_line(sorted(line[0]), line[1][0])\n",
    "    else:\n",
    "      self.add_diagonal_line(line)\n",
    "\n",
    "  def add_diagonal_line(self, line: Line) -> None:\n",
    "    # Stub\n",
    "    return\n",
    "\n",
    "  def add_horizontal_line(self, xs: tuple[int, int], y: int) -> None:\n",
    "    for x in range(xs[0], xs[1] + 1):\n",
    "      self.grid[y][x] += 1\n",
    "\n",
    "  def add_vertical_line(self, ys: tuple[int, int], x: int) -> None:\n",
    "    for y in range(ys[0], ys[1] + 1):\n",
    "      self.grid[y][x] += 1\n",
    "\n",
    "def max_vent_point(data: list[Line]) -> int:\n",
    "  return max([max(max(x[0]), max(x[1])) for x in data])\n",
    "\n",
    "def day5(data: list[Line]) -> int:\n",
    "  size = max_vent_point(data) + 1\n",
    "  vents = BaseHydroVents(size)\n",
    "  for line in data:\n",
    "    vents.add_line(line)\n",
    "  mask = vents.grid > 1\n",
    "  return np.count_nonzero(mask)\n",
    "\n",
    "day5(data5)\n"
   ]
  },
  {
   "cell_type": "code",
   "execution_count": 104,
   "metadata": {},
   "outputs": [
    {
     "data": {
      "text/plain": [
       "17717"
      ]
     },
     "execution_count": 104,
     "metadata": {},
     "output_type": "execute_result"
    }
   ],
   "source": [
    "class HydroVents (BaseHydroVents):\n",
    "  def __init__(self, size: int) -> None:\n",
    "    self.grid = np.zeros([size, size])\n",
    "\n",
    "  def add_diagonal_line(self, line: Line) -> None:\n",
    "    # Only supports 45 degree lines\n",
    "    xs, ys = line[0], line[1]\n",
    "    dx = 1 if xs[1] > xs[0] else -1\n",
    "    dy = 1 if ys[1] > ys[0] else -1\n",
    "    length = abs(xs[1] - xs[0]) + 1\n",
    "    for i in range(length):\n",
    "      self.grid[ys[0] + dy * i][xs[0] + dx * i] += 1\n",
    "\n",
    "def day5_2(data: list[Line]) -> int:\n",
    "  size = max_vent_point(data) + 1\n",
    "  vents = HydroVents(size)\n",
    "  for line in data:\n",
    "    vents.add_line(line)\n",
    "  mask = vents.grid > 1\n",
    "  return np.count_nonzero(mask)\n",
    "\n",
    "day5_2(data5)\n"
   ]
  },
  {
   "cell_type": "markdown",
   "metadata": {},
   "source": [
    "## Day 6\n",
    "\n",
    "Seems like a DP problem"
   ]
  },
  {
   "cell_type": "code",
   "execution_count": 96,
   "metadata": {},
   "outputs": [],
   "source": [
    "data6 = data('6', lambda x: [int(n) for n in x.split(',')])[0]"
   ]
  },
  {
   "cell_type": "code",
   "execution_count": 99,
   "metadata": {},
   "outputs": [
    {
     "data": {
      "text/plain": [
       "394994"
      ]
     },
     "execution_count": 99,
     "metadata": {},
     "output_type": "execute_result"
    }
   ],
   "source": [
    "@lru_cache(None)\n",
    "def spawns6(days: int):\n",
    "  if days < 6:\n",
    "    return 1\n",
    "  return spawns6(days-7) + spawns8(days-7)\n",
    "\n",
    "@lru_cache(None)\n",
    "def spawns8(days: int):\n",
    "  if days < 8:\n",
    "    return 1\n",
    "  return spawns6(days-9) + spawns8(days-9)\n",
    "\n",
    "def day6(data: list[int], days: int) -> int:\n",
    "  result = [spawns6(days + 6 - i) for i in data]\n",
    "  return sum(result)\n",
    "\n",
    "day6(data6, 79)"
   ]
  },
  {
   "cell_type": "code",
   "execution_count": 100,
   "metadata": {},
   "outputs": [
    {
     "data": {
      "text/plain": [
       "1765974267455"
      ]
     },
     "execution_count": 100,
     "metadata": {},
     "output_type": "execute_result"
    }
   ],
   "source": [
    "day6(data6, 255)"
   ]
  },
  {
   "cell_type": "markdown",
   "metadata": {},
   "source": [
    "## Day 7\n",
    "\n",
    "TODO"
   ]
  },
  {
   "cell_type": "code",
   "execution_count": 101,
   "metadata": {},
   "outputs": [],
   "source": [
    "# Scratch"
   ]
  }
 ],
 "metadata": {
  "interpreter": {
   "hash": "afbe5a8ba36a338952c60eef10b6c95614c86f7af75be44edfb1c9691ab6c108"
  },
  "kernelspec": {
   "display_name": "Python 3.8.10 64-bit ('.venv': poetry)",
   "language": "python",
   "name": "python3"
  },
  "language_info": {
   "codemirror_mode": {
    "name": "ipython",
    "version": 3
   },
   "file_extension": ".py",
   "mimetype": "text/x-python",
   "name": "python",
   "nbconvert_exporter": "python",
   "pygments_lexer": "ipython3",
   "version": "3.10.0"
  },
  "orig_nbformat": 4
 },
 "nbformat": 4,
 "nbformat_minor": 2
}
