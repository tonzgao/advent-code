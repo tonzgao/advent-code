{
 "cells": [
  {
   "cell_type": "code",
   "execution_count": 3,
   "metadata": {},
   "outputs": [],
   "source": [
    "from collections import defaultdict, Counter, deque, OrderedDict\n",
    "from intervaltree import Interval, IntervalTree\n",
    "import itertools\n",
    "import functools\n",
    "import heapq\n",
    "import math\n",
    "import numpy as np\n",
    "import re\n",
    "from typing import Callable, TypeVar\n",
    "\n",
    "np.set_printoptions(edgeitems=30, linewidth=100000, \n",
    "    formatter=dict(float=lambda x: \"%.3g\" % x))\n",
    "\n",
    "T = TypeVar('T')\n",
    "\n",
    "def data(day: int, parser: Callable[[str], T] = str) -> list[T]:\n",
    "  with open(f\"./data/day{day}.txt\") as f:\n",
    "    return [parser(line.strip()) for line in f.readlines()]"
   ]
  },
  {
   "cell_type": "code",
   "execution_count": 61,
   "metadata": {},
   "outputs": [
    {
     "data": {
      "text/plain": [
       "(55816, 54980)"
      ]
     },
     "execution_count": 61,
     "metadata": {},
     "output_type": "execute_result"
    }
   ],
   "source": [
    "data1 = data(1)\n",
    "\n",
    "def day1(match):\n",
    "    sum = 0\n",
    "    for line in data1:\n",
    "        matched = match(line)\n",
    "        first, last = matched[0], matched[-1]\n",
    "        # print(first, last, sum)\n",
    "        sum += int(first + last)\n",
    "    return sum\n",
    "\n",
    "def part2match(x):\n",
    "    change = {\n",
    "        'one': '1',\n",
    "        'two': '2',\n",
    "        'three': '3',\n",
    "        'four': '4',\n",
    "        'five': '5',\n",
    "        'six': '6',\n",
    "        'seven': '7',\n",
    "        'eight': '8',\n",
    "        'nine': '9',\n",
    "    }\n",
    "    matched = re.findall(r'(?=(\\d|one|two|three|four|five|six|seven|eight|nine))', x)\n",
    "    return [change[match] if match in change else match for match in matched]\n",
    "\n",
    "day1(lambda x: re.findall(r'\\d', x)), day1(part2match)"
   ]
  },
  {
   "cell_type": "code",
   "execution_count": 60,
   "metadata": {},
   "outputs": [
    {
     "data": {
      "text/plain": [
       "(2377, 71220)"
      ]
     },
     "execution_count": 60,
     "metadata": {},
     "output_type": "execute_result"
    }
   ],
   "source": [
    "def format2(line):\n",
    "    def tuplefy(round):\n",
    "        result = [0,0,0]\n",
    "        for i in round:\n",
    "            result[0 if 'blue' in i else 1 if 'green' in i else 2] += int(i.split(' ')[0])\n",
    "        return result\n",
    "\n",
    "    line = line.split(': ')[-1]\n",
    "    rounds = line.split('; ' )\n",
    "    return np.array([tuplefy(x.split(', ')) for x in rounds])\n",
    "\n",
    "data2 = data(2, format2)\n",
    "\n",
    "def day2_1(start):\n",
    "    result = 0\n",
    "    for i, game in enumerate(data2):\n",
    "        possible = np.subtract(start, game)\n",
    "        if np.any(possible < 0):\n",
    "            continue\n",
    "        result += i+1\n",
    "    return result\n",
    "\n",
    "def day2_2():\n",
    "    result = 0\n",
    "    for game in data2:\n",
    "        requirements = np.amax(game, axis=0)\n",
    "        result += functools.reduce(lambda x, y: x*y, requirements, 1)\n",
    "    return result\n",
    "\n",
    "day2_1((14, 13, 12)), day2_2()"
   ]
  },
  {
   "cell_type": "code",
   "execution_count": 130,
   "metadata": {},
   "outputs": [
    {
     "data": {
      "text/plain": [
       "(521515, 69527306)"
      ]
     },
     "execution_count": 130,
     "metadata": {},
     "output_type": "execute_result"
    }
   ],
   "source": [
    "data3 = data(3)\n",
    "\n",
    "def day3():\n",
    "    numbers = []\n",
    "    for i, line in enumerate(data3):\n",
    "        numbers += [(m.group(), (i, m.start())) for m in re.finditer(r'\\d+', line)]\n",
    "\n",
    "    array3 = np.pad(np.array([list(line) for line in data3]), ((1, 1), (1, 1)), constant_values='.')\n",
    "    gears = defaultdict(lambda: [])\n",
    "\n",
    "    part1 = 0\n",
    "    for n, (i, j) in numbers:\n",
    "        sliced = array3[i:i+3, j:j+2+len(n)]\n",
    "        stringified =  ''.join(''.join(x) for x in sliced)\n",
    "        if re.search(r'[^\\d.]', stringified):\n",
    "            part1 += int(n)\n",
    "        if stars := np.where(sliced == '*'):\n",
    "            for x, _ in enumerate(stars[0]):\n",
    "                gears[(i+stars[0][x], j+stars[1][x])].append(int(n))\n",
    "\n",
    "    part2 = 0\n",
    "    for g in gears:\n",
    "        if len(gears[g]) == 2:\n",
    "            part2 += gears[g][0] * gears[g][1]\n",
    "\n",
    "    return part1, part2\n",
    "\n",
    "day3()"
   ]
  },
  {
   "cell_type": "code",
   "execution_count": 5,
   "metadata": {},
   "outputs": [
    {
     "data": {
      "text/plain": [
       "(25651, 19499881)"
      ]
     },
     "execution_count": 5,
     "metadata": {},
     "output_type": "execute_result"
    }
   ],
   "source": [
    "def parse4(line):\n",
    "    winning, have = map(\n",
    "        lambda numbers: {int(x) for x in numbers.split()},\n",
    "        line.split(':')[-1].split('|')\n",
    "    )\n",
    "    return winning, have\n",
    "\n",
    "data4 = data(4, parse4)\n",
    "\n",
    "def day4(data):\n",
    "    result, cards = 0, Counter()\n",
    "    for i, line in enumerate(data):\n",
    "        matches = line[0].intersection(line[1])\n",
    "        if matches:\n",
    "            result += 2**(len(matches)-1)\n",
    "        for n in range(len(matches)):\n",
    "            cards[i+1+n] += cards[i]+1\n",
    "    return result, cards.total() + len(data)\n",
    "\n",
    "day4(data4)"
   ]
  },
  {
   "cell_type": "code",
   "execution_count": 55,
   "metadata": {},
   "outputs": [
    {
     "data": {
      "text/plain": [
       "(1181555926, 37806486)"
      ]
     },
     "execution_count": 55,
     "metadata": {},
     "output_type": "execute_result"
    }
   ],
   "source": [
    "debug=False\n",
    "\n",
    "def day5_maps(data):\n",
    "    names, maps = [], []\n",
    "\n",
    "    def create_map(lines):\n",
    "        ranges = IntervalTree([Interval(0, math.inf)])\n",
    "        name = lines[0].split()[0]\n",
    "        for i, line in enumerate(lines[1:]):\n",
    "            if not line:\n",
    "                break\n",
    "            dest, source, size = map(int, line.split())\n",
    "            ranges.chop(source, source+size)\n",
    "            ranges[source:source+size] = dest\n",
    "        return name, ranges, lines[i+2:]\n",
    "\n",
    "    seeds, data = map(int, data[0].split(': ')[-1].split()), data[2:]\n",
    "\n",
    "    while len(data):\n",
    "        name, intervals, data = create_map(data)\n",
    "        names.append(name)\n",
    "        maps.append(intervals)\n",
    "\n",
    "    return list(seeds), maps, names\n",
    "\n",
    "seeds, intervals, names = day5_maps(data(5))\n",
    "\n",
    "def day5_1(seeds, data):\n",
    "    lowest = math.inf\n",
    "    for seed in seeds:\n",
    "        for interval in data:\n",
    "            start, end, dest = next(iter(interval.at(seed)))\n",
    "            seed = seed if dest is None else (seed-start)+dest\n",
    "        lowest = min(lowest, seed)\n",
    "    return lowest\n",
    "\n",
    "def day5_2(seeds, data):\n",
    "    seedrange = IntervalTree([Interval(start, start+size) for start, size in zip(seeds[::2], seeds[1::2])])\n",
    "    seedrange.merge_overlaps()\n",
    "\n",
    "    for i, interval in enumerate(data):\n",
    "        newrange = IntervalTree()\n",
    "        if debug:\n",
    "            print(names[i], seedrange, interval)\n",
    "        for (seedstart, seedend, _) in seedrange:\n",
    "            intersections = interval[seedstart:seedend]\n",
    "            for (start, end, dest) in intersections:\n",
    "                newstart = (dest + max(seedstart, start)-start) if dest is not None else seedstart\n",
    "                newend = (dest + min(seedend, end)-start) if dest is not None else seedend\n",
    "                newrange.addi(newstart, newend)\n",
    "        newrange.merge_overlaps()\n",
    "        seedrange = newrange\n",
    "        \n",
    "    lowest = min([loc[0] for loc in seedrange])\n",
    "    return lowest\n",
    "\n",
    "day5_1(seeds, intervals), day5_2(seeds, intervals)\n"
   ]
  },
  {
   "cell_type": "code",
   "execution_count": 38,
   "metadata": {},
   "outputs": [
    {
     "data": {
      "text/plain": [
       "(252000, 36992486)"
      ]
     },
     "execution_count": 38,
     "metadata": {},
     "output_type": "execute_result"
    }
   ],
   "source": [
    "data6 = data(6, lambda x: list(map(int, x.split(':')[-1].split())))\n",
    "\n",
    "def day6(times, distances):\n",
    "    result = []\n",
    "    for t, d in zip(times, distances):\n",
    "        # (t-x)*x = d+1\n",
    "        # -x**2 +xt -d-1 = 0\n",
    "        a, b, c = -1, t, -d-1\n",
    "        det = math.sqrt(b**2 - 4*a*c)\n",
    "        if det < 0:\n",
    "            continue\n",
    "        zeros = (-b+det)/(2*a), (-b-det)/(2*a)\n",
    "        floor, ceil = math.ceil(min(zeros)), math.floor(max(zeros))\n",
    "        result.append(ceil-floor+1)\n",
    "    return functools.reduce(lambda x, y: x*y, result, 1)\n",
    "\n",
    "day6(*data6), day6(*[[int(''.join(map(str, x)))] for x in data6])"
   ]
  },
  {
   "cell_type": "code",
   "execution_count": 53,
   "metadata": {},
   "outputs": [
    {
     "data": {
      "text/plain": [
       "(248812215, 250057090)"
      ]
     },
     "execution_count": 53,
     "metadata": {},
     "output_type": "execute_result"
    }
   ],
   "source": [
    "data7 = data(7, lambda x: x.split())\n",
    "\n",
    "def card_ord(card, flag=False):\n",
    "    match card:\n",
    "        case 'T': return 10\n",
    "        case 'J': return 1 if flag else 11\n",
    "        case 'Q': return 12\n",
    "        case 'K': return 13\n",
    "        case 'A': return 14\n",
    "    return int(card)\n",
    "\n",
    "def score_hand(hand, flag=False):\n",
    "    cards = [card_ord(card, flag) for card in hand]\n",
    "    if flag:\n",
    "        filtered = Counter(hand.replace('J', ''))\n",
    "        hand = hand.replace('J', filtered.most_common(1)[0][0] if filtered else 'A')\n",
    "\n",
    "    counts = Counter(hand)\n",
    "    score = sum([counts[x]**2 for x in counts])\n",
    "    return [score]+cards\n",
    "\n",
    "def day7(data, flag=False):\n",
    "    key = lambda x: score_hand(x[0], flag)\n",
    "    ordered = sorted(data, key=key)\n",
    "    return sum((i+1)*int(score) for i, (_, score) in enumerate(ordered))\n",
    "\n",
    "day7(data7), day7(data7, True)"
   ]
  },
  {
   "cell_type": "code",
   "execution_count": 59,
   "metadata": {},
   "outputs": [
    {
     "data": {
      "text/plain": [
       "(18673, 17972669116327)"
      ]
     },
     "execution_count": 59,
     "metadata": {},
     "output_type": "execute_result"
    }
   ],
   "source": [
    "def parse8(data):\n",
    "    instructions, nodes = data[0], {}\n",
    "    for line in data[2:]:\n",
    "        start, l, r = re.findall(r'(.{3}) = \\((.{3}), (.{3})\\)', line)[0] \n",
    "        nodes[start] = (l, r)\n",
    "    return instructions, nodes\n",
    "\n",
    "data8 = parse8(data(8))\n",
    "\n",
    "def day8(instructions, nodes, start, ends):\n",
    "    count, node = 0, start\n",
    "    for i in itertools.cycle(instructions):\n",
    "        node = nodes[node][0 if i == 'L' else 1]\n",
    "        count +=1\n",
    "        if ends(node):\n",
    "            break\n",
    "    return count\n",
    "\n",
    "def day8_2(instructions, nodes):\n",
    "    results = []\n",
    "    for start in filter(lambda x: re.match(r'..A', x), nodes):\n",
    "        results.append(day8(instructions, nodes, start, lambda x: re.match(r'..Z', x)))\n",
    "    return math.lcm(*results)\n",
    "\n",
    "day8(*data8, 'AAA', lambda x: x == 'ZZZ'), day8_2(*data8)"
   ]
  },
  {
   "cell_type": "code",
   "execution_count": 52,
   "metadata": {},
   "outputs": [
    {
     "data": {
      "text/plain": [
       "(2008960228, 1097)"
      ]
     },
     "execution_count": 52,
     "metadata": {},
     "output_type": "execute_result"
    }
   ],
   "source": [
    "data9 = data(9, lambda line: [int(x) for x in line.split()])\n",
    "\n",
    "def determine_steps(arr, i=-1):\n",
    "    steps = [arr[i]]\n",
    "    while len(np.unique(arr)) > 1:\n",
    "        arr = np.diff(arr)\n",
    "        steps.append(arr[i])\n",
    "    return steps\n",
    "\n",
    "def day9(data, part2=False):\n",
    "    part1, part2 = 0, 0\n",
    "    for history in data:\n",
    "        steps = determine_steps(np.array(history)), determine_steps(np.array(history), 0)\n",
    "        part1 += sum(steps[0])\n",
    "        part2 += sum(steps[1][::2]) - sum(steps[1][1::2])\n",
    "    return part1, part2\n",
    "\n",
    "day9(data9)"
   ]
  },
  {
   "cell_type": "code",
   "execution_count": 17,
   "metadata": {},
   "outputs": [
    {
     "data": {
      "text/plain": [
       "(6882, 491)"
      ]
     },
     "execution_count": 17,
     "metadata": {},
     "output_type": "execute_result"
    }
   ],
   "source": [
    "data10 = np.array(data(10, list))\n",
    "\n",
    "pipe_map = {\n",
    "    '|': [(0, -1), (0, 1)],\n",
    "    '-': [(-1, 0), (1, 0)],\n",
    "    'L': [(0, -1), (1, 0)],\n",
    "    'J': [(0, -1), (-1, 0)],\n",
    "    '7': [(0, 1), (-1, 0)],\n",
    "    'F': [(0, 1), (1, 0)],\n",
    "}\n",
    "\n",
    "def pipe_neighbors(pipe, x, y):\n",
    "    if pipe not in pipe_map:\n",
    "        return\n",
    "    for i in pipe_map[pipe]:\n",
    "        yield (x+i[0], y+i[1])\n",
    "\n",
    "def get_neighbors(x, y):\n",
    "    return [(x-1, y), (x+1, y), (x, y+1), (x, y-1)]\n",
    "\n",
    "def fix_pipe_start(arr):    \n",
    "    start_coords = np.where(arr == 'S')\n",
    "    y, x = start_coords[0][0], start_coords[1][0]\n",
    "\n",
    "    neighbors = []\n",
    "    for i, j in get_neighbors(x, y):\n",
    "        if (x, y) in pipe_neighbors(data10[j, i], i, j):\n",
    "            neighbors.append((i-x, j-y))\n",
    "    for pipe in pipe_map.keys():\n",
    "        if frozenset(pipe_map[pipe]) == frozenset(neighbors):\n",
    "            arr[y, x] = pipe\n",
    "    return x, y\n",
    "\n",
    "def dfs(nodes, start, get_neighbors, end_condition=lambda _: False):\n",
    "    q, visited = deque([(start, 0)]), {}\n",
    "    while q:\n",
    "        current, distance = q.popleft()\n",
    "        if end_condition(current):\n",
    "            return visited, current\n",
    "        if current in visited:\n",
    "            continue\n",
    "        for node in get_neighbors(nodes, current):\n",
    "            q.append((node, distance+1))\n",
    "        visited[current] = distance\n",
    "    return visited, None\n",
    "\n",
    "def visualize(arr, vmap):\n",
    "    visual = arr.copy()\n",
    "    for x, y in vmap:\n",
    "        visual[y, x] = vmap[(x, y)]\n",
    "    print(visual)\n",
    "\n",
    "def day10_1(data):\n",
    "    arr = data.copy()\n",
    "    start = fix_pipe_start(arr)\n",
    "    visited, _ = dfs(data, start, lambda _, coords: pipe_neighbors(arr[coords[1], coords[0]], *coords))\n",
    "    # visualize(arr, visited)\n",
    "    return visited\n",
    "\n",
    "def day10(data):\n",
    "    visited = day10_1(data)\n",
    "\n",
    "    claimed = {}\n",
    "    for y, row in enumerate(data):\n",
    "        inside = False\n",
    "        for x, pipe in enumerate(row):\n",
    "            if (x, y) in visited:\n",
    "                if pipe in 'LJ|':\n",
    "                    # If pipe is part of path and is north: taken from https://old.reddit.com/r/adventofcode/comments/18fgddy/2023_day_10_part_2_using_a_rendering_algorithm_to/\n",
    "                    inside ^= True \n",
    "            elif inside:\n",
    "                claimed[(x, y)] = 'I'\n",
    "    # visualize(data, claimed)\n",
    "\n",
    "    return max(visited.values()), len(claimed)\n",
    "\n",
    "day10(data10)\n"
   ]
  },
  {
   "cell_type": "code",
   "execution_count": 66,
   "metadata": {},
   "outputs": [
    {
     "data": {
      "text/plain": [
       "Counter({1000000: 742305960572, 2: 9445168})"
      ]
     },
     "execution_count": 66,
     "metadata": {},
     "output_type": "execute_result"
    }
   ],
   "source": [
    "data11 = np.array(data(11, list))\n",
    "\n",
    "def day11(data, expansions):\n",
    "    cols, rows = [IntervalTree([Interval(x, x+1) for x in np.where(np.all(data == '.', axis=i))[0]]) for i in range(2)]\n",
    "\n",
    "    galaxies = np.where(data == '#')\n",
    "\n",
    "    results = Counter()\n",
    "    for a, b in itertools.combinations(range(len(galaxies[0])), 2):\n",
    "        xs, ys = Interval(galaxies[0][a], galaxies[0][b]), Interval(*sorted([galaxies[1][a], galaxies[1][b]]))\n",
    "        empties = len(cols[ys[0]:ys[1]]) + len(rows[xs[0]:xs[1]])\n",
    "        distance = ys[1]-ys[0] + xs[1]-xs[0]\n",
    "        for expansion in expansions:\n",
    "            results[expansion] += distance + empties * (expansion-1)\n",
    "    return results\n",
    "\n",
    "day11(data11, [2, 1000000])"
   ]
  },
  {
   "cell_type": "code",
   "execution_count": 51,
   "metadata": {},
   "outputs": [
    {
     "data": {
      "text/plain": [
       "(7857, 28606137449920)"
      ]
     },
     "execution_count": 51,
     "metadata": {},
     "output_type": "execute_result"
    }
   ],
   "source": [
    "def parse12(line):\n",
    "    springs, conditions = line.split(' ')\n",
    "    return springs, tuple(map(int, conditions.split(',')))\n",
    "\n",
    "data12 = data(12, parse12)\n",
    "\n",
    "@functools.lru_cache()\n",
    "def fix_records(line, numbers, active=0):\n",
    "    if not numbers:\n",
    "        return 0 if '#' in line else 1\n",
    "    if not line:\n",
    "        return 0\n",
    "    n, nt = numbers[0], numbers[1:]\n",
    "    head, tail = line[0], line[1:]\n",
    "    if head == '.':\n",
    "        if active:\n",
    "            if n > 0:\n",
    "                return 0\n",
    "            return fix_records(tail, nt)\n",
    "        return fix_records(tail, numbers)\n",
    "    elif head == '#':\n",
    "        if n == 0:\n",
    "            return 0\n",
    "        return fix_records(tail, (n-1, *nt), active+1)\n",
    "    else:\n",
    "        return fix_records('.'+tail, numbers, active) + fix_records('#'+tail, numbers, active)\n",
    "\n",
    "def sum_records(data, n=1):\n",
    "    result = 0\n",
    "    for spring, numbers in data:\n",
    "        result += fix_records('?'.join([spring]*n) + '.', numbers*n)\n",
    "        # print(spring*n, numbers*n, result)\n",
    "    return result\n",
    "\n",
    "def day12(data):\n",
    "    return sum_records(data), sum_records(data, 5)\n",
    "\n",
    "day12(data12)"
   ]
  },
  {
   "cell_type": "code",
   "execution_count": 52,
   "metadata": {},
   "outputs": [
    {
     "data": {
      "text/plain": [
       "(31739, 31539)"
      ]
     },
     "execution_count": 52,
     "metadata": {},
     "output_type": "execute_result"
    }
   ],
   "source": [
    "def parse13(lines):\n",
    "    result = []\n",
    "    for i, line in enumerate(lines):\n",
    "        line = line.strip()\n",
    "        if not line:\n",
    "            return result, lines[i+1:]\n",
    "        else:\n",
    "            result.append(list(map(int, line.replace('.', '0').replace('#', '1'))))\n",
    "    return result, []\n",
    "\n",
    "def get13():\n",
    "    patterns = []\n",
    "    with open(f\"./data/day13.txt\") as f:\n",
    "        lines = f.readlines()\n",
    "        while lines:\n",
    "            pattern, lines = parse13(lines)\n",
    "            patterns.append(np.array(pattern))\n",
    "    return patterns\n",
    "\n",
    "data13 = get13()\n",
    "\n",
    "def get_matches(pattern):\n",
    "    matches = defaultdict(lambda: set())\n",
    "    for i in range(len(pattern)):\n",
    "        for j in range(i+1, len(pattern)):\n",
    "            if np.all(pattern[i]==pattern[j]):\n",
    "                matches[i].add(j)\n",
    "                matches[j].add(i)\n",
    "    return matches\n",
    "\n",
    "def get_close_matches(pattern):\n",
    "    for i in range(len(pattern)):\n",
    "        for j in range(i+1, len(pattern)):\n",
    "            diffs = np.count_nonzero(pattern[i] != pattern[j])\n",
    "            if diffs == 1:\n",
    "                p = pattern.copy()\n",
    "                saved, p[i] = p[i], p[j]\n",
    "                yield p, get_matches(p)\n",
    "                p[i], p[j] = saved, saved\n",
    "                yield p, get_matches(p)\n",
    "\n",
    "def check_reflections(pattern, matches):\n",
    "    length = len(pattern)\n",
    "\n",
    "    def check_reflection(i):\n",
    "        distance = min(length, 2*(i+1)) - (i+1)\n",
    "        if not distance:\n",
    "            return\n",
    "        for j in range(distance):\n",
    "            if (i-j) not in matches[i+1+j]:\n",
    "                return False\n",
    "        return distance\n",
    "\n",
    "    for i in range(length):\n",
    "        if check_reflection(i):\n",
    "            yield i+1\n",
    "\n",
    "def find_reflection(pattern):\n",
    "    match = get_matches(pattern)\n",
    "    for h in check_reflections(pattern, match):\n",
    "        yield h*1j\n",
    "    t = np.transpose(pattern)\n",
    "    match = get_matches(t)\n",
    "    yield from check_reflections(t, match)\n",
    "\n",
    "def find_smudged_reflection(pattern, disallowed):\n",
    "    for p, match in get_close_matches(pattern):\n",
    "        for h in check_reflections(p, match):\n",
    "            if h != disallowed.imag:\n",
    "                return h*1j\n",
    "    for p, match in get_close_matches(np.transpose(pattern)):\n",
    "        for v in check_reflections(p, match):\n",
    "            if v != disallowed.real:\n",
    "                return v\n",
    "\n",
    "def day13(data):\n",
    "    def summarize(n):\n",
    "        return int(n.imag*100+n.real)\n",
    "\n",
    "    part1, part2 = 0, 0\n",
    "    for pattern in data:\n",
    "        disallowed = next(find_reflection(pattern))\n",
    "        part1 += disallowed\n",
    "        part2 += find_smudged_reflection(pattern, disallowed)\n",
    "\n",
    "    return summarize(part1), summarize(part2)\n",
    "\n",
    "day13(data13)"
   ]
  },
  {
   "cell_type": "code",
   "execution_count": 192,
   "metadata": {},
   "outputs": [
    {
     "data": {
      "text/plain": [
       "(112773, 98894)"
      ]
     },
     "execution_count": 192,
     "metadata": {},
     "output_type": "execute_result"
    }
   ],
   "source": [
    "data14 = np.array(data(14, list))\n",
    "\n",
    "def tilt(col, direction):\n",
    "    rock_groups = ''.join(col).split('#')\n",
    "    tilted = '#'.join(map(lambda x: ''.join(sorted(x, reverse=direction)), rock_groups))\n",
    "    return list(tilted)\n",
    "tiltup, tiltdown = lambda x: tilt(x, True), lambda x: tilt(x, False)\n",
    "\n",
    "def rotate(dish, direction):\n",
    "    match direction:\n",
    "        case 0: return np.apply_along_axis(tiltup, 0, dish)\n",
    "        case 1: return np.apply_along_axis(tiltup, 1, dish)\n",
    "        case 2: return np.apply_along_axis(tiltdown, 0, dish)\n",
    "    return np.apply_along_axis(tiltdown, 1, dish)\n",
    "\n",
    "def calculate_weight(arr):\n",
    "    weight = 0\n",
    "    stones = list(reversed(np.count_nonzero(arr == 'O', 1)))\n",
    "    for i in range(len(arr)):\n",
    "        weight += (i+1)*stones[i]\n",
    "    return weight\n",
    "\n",
    "def day14_1(data):\n",
    "    return calculate_weight(rotate(data, 0))\n",
    "\n",
    "def cycle(dish):\n",
    "    for j in range(4):\n",
    "        dish = rotate(dish, j)\n",
    "    return dish\n",
    "\n",
    "def day14_2(arr, target=1000000000):\n",
    "    repeated = {}\n",
    "    for i in range(target):\n",
    "        arr = cycle(arr)\n",
    "        if (rs := repeated.setdefault(arr.data.tobytes(), i)) != i:\n",
    "            i = ((target-rs)//(i-rs))*(i-rs) + rs +1 # potential bug here where before the +1 i is exactly at the target\n",
    "            break\n",
    "    for i in range(i, target): # should just figure out the number directly by pulling from repeated\n",
    "        arr = cycle(arr)\n",
    "\n",
    "    return calculate_weight(arr)\n",
    "\n",
    "day14_1(data14), day14_2(data14)"
   ]
  },
  {
   "cell_type": "code",
   "execution_count": 42,
   "metadata": {},
   "outputs": [
    {
     "data": {
      "text/plain": [
       "(501680, 241094)"
      ]
     },
     "execution_count": 42,
     "metadata": {},
     "output_type": "execute_result"
    }
   ],
   "source": [
    "data15 = list(itertools.chain.from_iterable(data(15, lambda x: x.split(','))))\n",
    "\n",
    "def advent_hash(input):\n",
    "    value = 0\n",
    "    for i in input:\n",
    "        value += ord(i)\n",
    "        value *= 17\n",
    "        value %= 256\n",
    "    return value\n",
    "\n",
    "def day15(data):\n",
    "    boxes = defaultdict(lambda: OrderedDict())\n",
    "\n",
    "    def advent_hash_map(input):\n",
    "        if input[-1] == '-':     \n",
    "            label = input[:-1]\n",
    "            box = advent_hash(label)\n",
    "            if label in boxes[box]:\n",
    "                del boxes[box][label]   \n",
    "        else:\n",
    "            label, value = input.split('=')\n",
    "            box = advent_hash(label)\n",
    "            boxes[box][label] = int(value)\n",
    "\n",
    "    for input in data:\n",
    "        advent_hash_map(input)\n",
    "\n",
    "    result = 0\n",
    "    for box in boxes:\n",
    "        for i, label in enumerate(boxes[box]):\n",
    "            # print(box, i, label)\n",
    "            result += (box+1) * (i+1) * boxes[box][label]\n",
    "\n",
    "    return sum([advent_hash(i) for i in data]), result\n",
    "        \n",
    "day15(data15)"
   ]
  },
  {
   "cell_type": "code",
   "execution_count": 58,
   "metadata": {},
   "outputs": [
    {
     "data": {
      "text/plain": [
       "(6883, 7228)"
      ]
     },
     "execution_count": 58,
     "metadata": {},
     "output_type": "execute_result"
    }
   ],
   "source": [
    "data16 = np.array(data(16, list))\n",
    "\n",
    "def day16(data):\n",
    "    ymax, xmax = data.shape\n",
    "\n",
    "    def beam(pos, dir):\n",
    "        space = data[int(pos.imag)][int(pos.real)]\n",
    "        match space:\n",
    "            case '-':\n",
    "                if dir.imag:\n",
    "                    return [(pos+1, 1), (pos-1, -1)]\n",
    "            case '|':\n",
    "                if dir.real:\n",
    "                    return [(pos+1j, 1j), (pos-1j, -1j)]\n",
    "            case '/':\n",
    "                dir = (-1 if dir.real else 1) * 1j*dir\n",
    "            case '\\\\':\n",
    "                dir = (-1 if dir.imag else 1) * 1j*dir\n",
    "        return [(pos+dir, dir)]\n",
    "\n",
    "    def shoot(start=(0, 1)):\n",
    "        visited, q = set([start]), deque([start])\n",
    "        while q:\n",
    "            pos, dir = q.popleft()\n",
    "            for p, d in beam(pos, dir):\n",
    "                if p.real < 0 or p.real >= xmax or p.imag < 0 or p.imag >= ymax:\n",
    "                    continue\n",
    "                if (p, d) in visited:\n",
    "                    continue\n",
    "                visited.add((p, d))\n",
    "                q.append((p, d))\n",
    "\n",
    "        return len(set([p for p, _ in visited]))\n",
    "    \n",
    "    part1 = shoot()\n",
    "    maxlr = max([max(shoot((i*1j, 1)), shoot((xmax-1+i*1j, -1))) for i in range(ymax)])\n",
    "    maxud = max([max(shoot((i, -1j)), shoot((i+(ymax-1)*1j, 1j))) for i in range(ymax)])\n",
    "    return part1, max(maxlr, maxud)\n",
    "\n",
    "day16(data16)"
   ]
  },
  {
   "cell_type": "code",
   "execution_count": 163,
   "metadata": {},
   "outputs": [],
   "source": [
    "data17 = np.array(data(17, lambda x: list(map(int, x))))"
   ]
  },
  {
   "cell_type": "code",
   "execution_count": 166,
   "metadata": {},
   "outputs": [
    {
     "name": "stdout",
     "output_type": "stream",
     "text": [
      "1003\n"
     ]
    },
    {
     "data": {
      "text/plain": [
       "array([[    9,     3,     6,     8,    12,    17,    17,    20,    21,    22,    24,    34,    38,    40,    43,    44,    46,    48,    53,    65,    70,    70,    71,    74,    78,    83,    87,    90,    89,    91, ...,   416,   417,   421,   431,   432,   432,   434,   435,   438,   441,   444,   449,   452,   454,   454,   458,   461,   463,   465,   468,   469,   471,   472,   478,   482,   482,   483,   484,   488,   491],\n",
       "       [    2,     4,     7,     8,    12,    13,    15,    18,    22,    27,    29,    32,    33,    35,    40,    46,    48,    53,    58,    63,    65,    66,    71,    73,    77,    78,    83,    85,    87,    91, ...,   418,   421,   424,   426,   427,   429,   430,   437,   441,   444,   445,   447,   448,   449,   450,   456,   459,   463,   465,   468,   470,   471,   473,   477,   478,   481,   483,   488,   491,   493],\n",
       "       [    4,     6,     8,    10,    11,    12,    14,    18,    22,    26,    27,    31,    34,    38,    40,    44,    46,    48,    53,    58,    61,    62,    70,    73,    74,    79,    83,    81,    83,    86, ...,   420,   423,   428,   429,   432,   432,   431,   434,   438,   440,   443,   449,   450,   450,   451,   455,   457,   460,   463,   470,   473,   473,   475,   480,   480,   482,   485,   488,   491,   496],\n",
       "       [    7,     8,    10,    12,    14,    14,    16,    18,    21,    25,    27,    33,    35,    39,    41,    41,    46,    48,    52,    57,    61,    65,    69,    73,    75,    77,    79,    80,    85,    92, ...,   424,   426,   429,   430,   432,   436,   435,   437,   439,   441,   443,   448,   452,   454,   455,   457,   460,   461,   466,   467,   468,   470,   478,   482,   485,   486,   489,   491,   494,   497],\n",
       "       [   10,    11,    12,    15,    17,    18,    21,    22,    26,    28,    28,    33,    36,    39,    41,    40,    41,    45,    49,    54,    60,    62,    66,    69,    72,    79,    81,    84,    90,    94, ...,   422,   428,   430,   434,   436,   438,   436,   438,   442,   442,   443,   445,   448,   453,   460,   459,   463,   464,   468,   471,   470,   474,   475,   479,   481,   486,   489,   491,   494,   498],\n",
       "       [   15,    14,    15,    17,    21,    20,    21,    23,    24,    25,    31,    30,    33,    36,    37,    39,    41,    45,    51,    53,    57,    61,    65,    72,    73,    77,    83,    87,    90,    97, ...,   421,   424,   427,   433,   438,   441,   440,   443,   446,   446,   447,   448,   449,   454,   457,   460,   464,   467,   471,   472,   472,   474,   477,   481,   482,   483,   488,   491,   493,   497],\n",
       "       [   17,    18,    17,    18,    19,    20,    22,    25,    26,    26,    27,    29,    30,    32,    41,    41,    45,    47,    51,    52,    54,    58,    68,    71,    75,    81,    86,    88,    92,    96, ...,   423,   428,   430,   435,   434,   437,   440,   443,   445,   450,   450,   453,   452,   457,   461,   462,   464,   465,   468,   472,   477,   478,   480,   482,   483,   486,   487,   490,   493,   495],\n",
       "       [   20,    23,    21,    19,    21,    24,    24,    27,    29,    27,    29,    31,    34,    35,    39,    43,    45,    46,    48,    55,    58,    61,    64,    68,    73,    77,    90,    92,    94,    97, ...,   420,   422,   426,   429,   431,   439,   445,   448,   450,   453,   454,   458,   456,   458,   460,   463,   466,   466,   470,   473,   477,   481,   485,   484,   485,   488,   488,   489,   493,   494],\n",
       "       [   22,    26,    24,    21,    23,    26,    27,    28,    33,    31,    30,    31,    32,    33,    34,    42,    47,    47,    49,    53,    57,    60,    69,    74,    76,    82,    88,    92,    98,    99, ...,   418,   423,   428,   431,   435,   438,   440,   442,   447,   455,   459,   461,   458,   461,   462,   467,   470,   470,   475,   475,   479,   482,   487,   486,   489,   490,   491,   492,   495,   495],\n",
       "       [   23,    27,    28,    26,    25,    29,    29,    29,    31,    33,    31,    32,    35,    36,    35,    40,    43,    48,    53,    54,    57,    62,    68,    74,    81,    85,    91,    95,    98,   104, ...,   421,   423,   428,   433,   439,   440,   444,   448,   452,   454,   459,   461,   462,   466,   463,   466,   468,   473,   478,   477,   481,   484,   485,   489,   491,   493,   493,   497,   496,   496],\n",
       "       [   34,    30,    33,    31,    27,    28,    29,    30,    34,    35,    33,    36,    39,    37,    38,    41,    44,    48,    52,    59,    60,    65,    69,    75,    77,    87,    90,    95,    97,   104, ...,   423,   428,   432,   437,   441,   442,   446,   452,   458,   458,   461,   464,   468,   466,   464,   465,   468,   470,   473,   479,   484,   486,   488,   493,   495,   494,   498,   498,   498,   500],\n",
       "       [   38,    34,    33,    30,    29,    30,    30,    33,    37,    38,    38,    39,    41,    38,    43,    45,    47,    50,    54,    59,    62,    68,    71,    77,    80,    83,    89,    94,    96,   100, ...,   424,   426,   433,   437,   439,   444,   452,   458,   460,   462,   466,   470,   474,   468,   466,   466,   471,   471,   476,   481,   485,   490,   490,   495,   500,   495,   499,   499,   503,   503],\n",
       "       [   40,    39,    37,    33,    33,    34,    35,    37,    42,    42,    44,    41,    42,    41,    44,    49,    48,    52,    54,    58,    61,    70,    75,    79,    83,    88,    92,    94,    96,    99, ...,   428,   429,   433,   438,   441,   445,   454,   456,   458,   462,   470,   475,   480,   474,   471,   470,   473,   476,   481,   483,   487,   492,   495,   499,   501,   502,   503,   504,   506,   511],\n",
       "       [   45,    44,    42,    38,    41,    37,    37,    38,    39,    40,    45,    43,    46,    47,    48,    52,    51,    53,    55,    58,    63,    68,    72,    74,    79,    92,    95,   100,   100,   101, ...,   427,   432,   437,   439,   441,   445,   451,   459,   463,   467,   469,   474,   476,   479,   474,   472,   476,   478,   483,   487,   488,   492,   493,   497,   498,   507,   504,   506,   509,   513],\n",
       "       [   47,    48,    46,    43,    42,    39,    40,    42,    43,    41,    42,    43,    46,    50,    49,    52,    54,    58,    61,    60,    63,    68,    74,    79,    85,    88,    92,    95,    98,   103, ...,   430,   435,   437,   442,   443,   448,   454,   460,   465,   468,   474,   477,   480,   479,   477,   475,   480,   483,   486,   488,   493,   494,   497,   501,   501,   502,   507,   511,   512,   516],\n",
       "       [   50,    51,    48,    47,    44,    45,    43,    45,    45,    44,    44,    46,    48,    53,    55,    54,    56,    60,    64,    63,    68,    70,    75,    80,    82,    86,    96,    99,   103,   106, ...,   433,   435,   437,   442,   448,   451,   453,   457,   461,   464,   474,   480,   481,   483,   483,   484,   483,   485,   489,   493,   496,   497,   499,   500,   503,   506,   509,   510,   511,   514],\n",
       "       [   58,    53,    51,    49,    46,    50,    46,    50,    46,    47,    48,    48,    53,    59,    58,    60,    58,    60,    62,    65,    68,    72,    78,    82,    86,    88,    94,    96,    98,   101, ...,   435,   440,   440,   444,   446,   452,   457,   461,   463,   468,   471,   474,   479,   486,   490,   490,   487,   490,   495,   498,   501,   501,   504,   505,   507,   508,   512,   511,   513,   517],\n",
       "       [   62,    57,    55,    52,    47,    52,    49,    49,    47,    51,    53,    49,    52,    54,    57,    60,    63,    65,    65,    70,    70,    74,    78,    80,    84,    93,    96,   102,   104,   103, ...,   437,   440,   443,   449,   452,   456,   459,   462,   467,   473,   476,   478,   482,   487,   493,   495,   493,   496,   498,   504,   505,   502,   503,   507,   510,   509,   513,   516,   514,   519],\n",
       "       [   64,    59,    59,    56,    51,    55,    52,    52,    53,    55,    54,    54,    56,    57,    60,    63,    67,    67,    69,    74,    73,    79,    81,    86,    86,    92,    97,   101,   103,   105, ...,   441,   446,   448,   453,   457,   460,   465,   468,   473,   475,   480,   480,   483,   486,   488,   490,   496,   501,   500,   502,   504,   507,   507,   508,   510,   513,   516,   521,   518,   520],\n",
       "       [   65,    62,    63,    60,    59,    57,    58,    57,    57,    60,    57,    62,    61,    61,    62,    68,    73,    71,    73,    78,    75,    80,    86,    88,    89,    94,    96,    98,   102,   110, ...,   444,   450,   453,   457,   461,   466,   467,   473,   476,   478,   482,   486,   487,   488,   491,   494,   498,   504,   504,   506,   507,   511,   508,   512,   513,   514,   516,   519,   521,   522],\n",
       "       [   70,    67,    65,    61,    60,    62,    60,    60,    61,    65,    61,    67,    63,    63,    68,    72,    75,    74,    79,    81,    81,    86,    90,    92,    94,    98,   102,   103,   108,   112, ...,   447,   450,   456,   462,   464,   470,   469,   474,   477,   483,   486,   489,   489,   494,   496,   497,   503,   506,   510,   510,   512,   514,   513,   515,   514,   517,   520,   520,   521,   524],\n",
       "       [   75,    75,    70,    66,    62,    65,    64,    61,    63,    66,    64,    66,    68,    67,    72,    76,    79,    80,    82,    86,    91,    92,    96,    98,    99,   100,   104,   108,   114,   115, ...,   461,   457,   461,   466,   469,   473,   474,   477,   479,   482,   488,   492,   493,   495,   497,   503,   508,   511,   516,   514,   515,   519,   517,   517,   519,   520,   525,   524,   525,   529],\n",
       "       [   80,    78,    75,    71,    67,    66,    65,    65,    68,    69,    66,    68,    73,    75,    74,    79,    82,    83,    87,    91,    93,    98,    98,   100,   105,   106,   110,   114,   121,   122, ...,   464,   463,   466,   473,   475,   478,   484,   479,   482,   486,   492,   495,   496,   498,   500,   506,   511,   517,   521,   518,   521,   524,   526,   521,   520,   521,   526,   527,   528,   530],\n",
       "       [   82,    79,    74,    72,    72,    68,    70,    70,    73,    75,    74,    70,    72,    76,    80,    83,    86,    89,    93,    95,    99,   103,   103,   104,   106,   110,   117,   121,   125,   126, ...,   467,   467,   472,   477,   482,   481,   488,   481,   483,   487,   491,   493,   497,   501,   503,   505,   510,   516,   522,   529,   530,   526,   529,   523,   526,   526,   528,   530,   533,   534],\n",
       "       [   81,    80,    78,    74,    75,    70,    73,    72,    76,    80,    79,    74,    76,    80,    85,    85,    89,    91,    95,   100,   105,   106,   109,   107,   113,   114,   120,   123,   130,   132, ...,   471,   472,   478,   484,   487,   488,   491,   484,   487,   489,   491,   493,   495,   498,   509,   511,   516,   522,   528,   532,   536,   535,   534,   530,   529,   530,   529,   533,   536,   535],\n",
       "       [   86,    79,    78,    76,    74,    71,    77,    78,    80,    86,    85,    80,    78,    81,    87,    90,    94,    97,    97,   101,   104,   108,   112,   113,   117,   121,   126,   126,   133,   139, ...,   478,   482,   481,   487,   493,   493,   493,   490,   491,   492,   496,   496,   500,   500,   504,   510,   515,   518,   529,   531,   532,   534,   538,   536,   534,   533,   534,   537,   539,   536],\n",
       "       [   84,    83,    79,    79,    75,    75,    81,    87,    85,    89,    84,    82,    83,    87,    90,    94,    98,   102,    99,   105,   107,   113,   115,   116,   120,   124,   130,   132,   139,   143, ...,   481,   484,   485,   490,   497,   504,   498,   498,   495,   498,   498,   498,   503,   505,   508,   513,   517,   522,   524,   526,   530,   533,   541,   540,   538,   539,   536,   540,   541,   537],\n",
       "       [   85,    84,    81,    80,    77,    81,    83,    85,    87,    90,    88,    88,    88,    89,    91,    95,   100,   106,   104,   110,   109,   112,   116,   119,   123,   129,   132,   137,   144,   149, ...,   493,   488,   492,   496,   500,   504,   504,   503,   499,   502,   502,   503,   509,   511,   510,   512,   515,   517,   523,   528,   531,   533,   537,   543,   546,   540,   538,   543,   546,   548],\n",
       "       [   90,    85,    83,    82,    83,    86,    89,    90,    89,    95,    90,    94,    96,    93,    95,    98,   100,   105,   106,   111,   112,   119,   123,   125,   126,   132,   139,   144,   149,   155, ...,   500,   495,   495,   502,   505,   509,   509,   507,   510,   505,   508,   509,   511,   514,   512,   514,   516,   522,   527,   529,   534,   539,   539,   544,   549,   545,   549,   546,   550,   553],\n",
       "       [   90,    87,    87,    85,    85,    88,    93,    94,    94,    98,    93,    97,   102,    97,    99,   103,   103,   106,   109,   113,   115,   122,   125,   130,   132,   139,   144,   150,   153,   158, ...,   506,   500,   501,   508,   508,   512,   512,   512,   517,   514,   515,   518,   515,   518,   516,   520,   518,   524,   527,   532,   538,   544,   542,   544,   547,   547,   549,   550,   553,   556],\n",
       "       ...,\n",
       "       [  423,   427,   430,   426,   424,   428,   433,   432,   435,   439,   436,   438,   439,   442,   441,   445,   447,   449,   455,   470,   470,   475,   478,   485,   491,   492,   497,   500,   506,   510, ...,   987,   980,   980,   977,   979,   974,   968,   972,   965,   958,   954,   951,   944,   940,   933,   927,   922,   920,   915,   912,   915,   912,   908,   904,   908,   902,   906,   909,   906,   909],\n",
       "       [  431,   429,   435,   432,   437,   432,   435,   434,   436,   441,   445,   440,   442,   446,   444,   449,   451,   454,   461,   464,   471,   475,   482,   485,   490,   496,   499,   503,   508,   513, ...,   989,   984,   984,   982,   984,   979,   973,   974,   968,   965,   956,   951,   946,   942,   936,   931,   926,   921,   917,   921,   919,   916,   913,   908,   914,   915,   910,   915,   909,   912],\n",
       "       [  433,   431,   432,   435,   438,   438,   440,   439,   441,   446,   445,   443,   446,   450,   455,   452,   455,   460,   466,   470,   474,   477,   481,   484,   493,   496,   503,   508,   515,   517, ...,   992,   994,   988,   993,   988,   983,   980,   974,   970,   966,   956,   949,   945,   942,   939,   937,   931,   925,   919,   924,   922,   917,   913,   910,   913,   916,   913,   917,   920,   915],\n",
       "       [  437,   434,   435,   437,   443,   443,   442,   444,   447,   451,   451,   448,   450,   452,   458,   457,   458,   462,   468,   472,   479,   480,   484,   487,   492,   496,   503,   506,   515,   522, ...,   997,   998,   992,   995,   990,   986,   984,   975,   971,   966,   959,   952,   949,   947,   941,   937,   932,   928,   922,   924,   925,   919,   915,   918,   917,   918,   915,   919,   922,   918],\n",
       "       [  440,   438,   440,   439,   443,   445,   446,   448,   451,   454,   456,   457,   455,   455,   461,   462,   461,   467,   471,   477,   480,   485,   488,   493,   498,   501,   505,   509,   515,   519, ...,   992,   998,   995,  1000,   994,   990,   980,   976,   971,   968,   961,   957,   951,   949,   940,   936,   930,   927,   925,   929,   927,   921,   918,   922,   920,   920,   921,   922,   921,   919],\n",
       "       [  445,   448,   445,   440,   442,   446,   449,   454,   456,   456,   458,   461,   459,   461,   467,   466,   467,   472,   477,   483,   486,   489,   492,   499,   503,   507,   511,   512,   517,   520, ...,   991,   998, 19881, 19881,   990,   985,   979,   976,   970,   968,   957,   955,   950,   948,   942,   940,   935,   933,   938,   935,   932,   927,   924,   927,   923,   924,   927,   924,   926,   922],\n",
       "       [  448,   453,   449,   444,   443,   445,   447,   449,   453,   460,   463,   465,   469,   463,   469,   474,   470,   473,   479,   485,   491,   492,   496,   503,   510,   513,   515,   519,   523,   524, ...,   988,   993,  1000,   998,   993,   991,   978,   972,   967,   964,   962,   961,   953,   948,   942,   939,   937,   935,   939,   937,   935,   929,   929,   933,   929,   930,   929,   928,   928,   929],\n",
       "       [  455,   454,   451,   448,   448,   449,   453,   455,   457,   459,   462,   464,   467,   466,   471,   474,   475,   479,   484,   489,   492,   498,   502,   507,   511,   517,   518,   524,   526,   531, ...,   983,   990,   992,   996,   991,   987,   980,   977,   971,   967,   964,   958,   953,   948,   945,   943,   940,   940,   944,   941,   937,   933,   938,   937,   938,   932,   932,   931,   929,   934],\n",
       "       [  459,   455,   452,   453,   453,   452,   456,   460,   459,   464,   466,   467,   469,   474,   476,   476,   479,   484,   490,   495,   497,   499,   501,   503,   508,   520,   523,   529,   531,   534, ...,   980,   989,   986,   990,   995,   988,   987,   979,   973,   968,   966,   960,   959,   953,   948,   949,   944,   944,   949,   944,   940,   935,   937,   940,   944,   938,   936,   934,   933,   935],\n",
       "       [  462,   459,   456,   457,   458,   454,   455,   460,   461,   466,   469,   470,   474,   476,   479,   479,   483,   487,   491,   495,   500,   501,   504,   508,   511,   514,   521,   524,   529,   541, ...,   981,   982,   982,   986,   989,   985,   981,   977,   973,   971,   968,   964,   961,   958,   954,   952,   948,   952,   950,   948,   944,   943,   940,   946,   947,   942,   938,   939,   940,   937],\n",
       "       [  465,   463,   460,   460,   461,   459,   459,   460,   463,   465,   469,   476,   478,   481,   482,   484,   485,   488,   494,   497,   501,   505,   507,   512,   517,   519,   522,   526,   529,   534, ...,   976,   977,   978,   985,   988,   986,   980,   979,   977,   973,   973,   969,   964,   963,   959,   957,   952,   957,   955,   954,   948,   946,   943,   947,   948,   943,   942,   944,   944,   942],\n",
       "       [  470,   467,   462,   465,   466,   462,   461,   463,   467,   470,   472,   475,   477,   483,   488,   486,   488,   494,   497,   499,   504,   508,   513,   518,   523,   525,   525,   528,   534,   539, ...,   971,   971,   975,   980,   977,   977,   978,   981,   979,   976,   975,   974,   969,   969,   964,   962,   965,   963,   959,   959,   953,   950,   945,   947,   950,   945,   946,   948,   945,   945],\n",
       "       [  471,   468,   468,   470,   468,   466,   466,   467,   472,   471,   476,   478,   480,   485,   490,   494,   490,   496,   500,   502,   504,   510,   513,   518,   525,   529,   531,   532,   535,   542, ...,   965,   968,   971,   977,   971,   971,   976,   977,   980,   978,   981,   977,   974,   970,   966,   967,   970,   967,   965,   964,   958,   954,   948,   948,   951,   949,   950,   952,   948,   948],\n",
       "       [  475,   472,   469,   470,   471,   468,   468,   471,   472,   475,   476,   482,   482,   484,   489,   492,   494,   497,   501,   506,   509,   514,   517,   520,   526,   529,   531,   535,   540,   546, ...,   960,   966,   965,   971,   967,   968,   973,   975,   980,   981,   984,   981,   979,   974,   972,   971,   975,   973,   968,   966,   961,   955,   955,   952,   952,   952,   955,   954,   950,   955],\n",
       "       [  478,   475,   471,   474,   471,   469,   472,   476,   474,   477,   481,   482,   485,   489,   492,   498,   502,   499,   503,   509,   514,   517,   519,   522,   527,   531,   533,   538,   540,   542, ...,   954,   959,   962,   964,   964,   966,   972,   974,   979,   981,   986,   983,   983,   977,   977,   973,   979,   970,   968,   965,   960,   959,   960,   956,   956,   954,   957,   957,   961,   956],\n",
       "       [  477,   475,   473,   475,   472,   470,   475,   479,   479,   481,   482,   485,   488,   490,   494,   500,   505,   501,   505,   510,   512,   514,   521,   526,   529,   535,   536,   541,   544,   548, ...,   948,   954,   957,   958,   961,   963,   969,   974,   980,   985,   989,   989,   987,   981,   979,   984,   978,   976,   971,   967,   963,   960,   962,   958,   958,   962,   960,   959,   961,   961],\n",
       "       [  478,   478,   479,   480,   476,   475,   478,   482,   484,   486,   486,   488,   490,   492,   494,   497,   503,   503,   506,   512,   517,   520,   522,   528,   533,   535,   541,   544,   548,   552, ...,   944,   949,   952,   956,   959,   963,   967,   973,   979,   982,   988,   989,   990,   987,   984,   982,   979,   975,   970,   966,   964,   962,   963,   962,   962,   964,   963,   962,   966,   966],\n",
       "       [  482,   479,   482,   484,   481,   480,   482,   486,   485,   486,   487,   489,   490,   492,   494,   502,   507,   506,   511,   514,   520,   526,   524,   530,   534,   536,   542,   548,   553,   556, ...,   940,   944,   950,   951,   953,   958,   962,   967,   976,   982,   983,   983,   985,   990,   986,   981,   977,   975,   973,   968,   966,   965,   964,   965,   969,   965,   964,   964,   966,   968],\n",
       "       [  483,   480,   482,   484,   482,   485,   484,   485,   490,   489,   491,   492,   495,   494,   497,   499,   501,   505,   508,   518,   524,   527,   528,   531,   533,   535,   538,   546,   548,   552, ...,   945,   942,   945,   949,   953,   958,   963,   966,   970,   976,   979,   981,   988,   986,   984,   984,   981,   980,   976,   973,   971,   968,   968,   970,   970,   969,   969,   970,   970,   971],\n",
       "       [  485,   481,   482,   487,   487,   490,   486,   487,   492,   491,   494,   495,   497,   497,   500,   503,   503,   505,   509,   515,   519,   531,   533,   537,   538,   541,   540,   543,   547,   553, ...,   942,   940,   943,   947,   950,   955,   958,   962,   972,   976,   978,   983,   985,   986,   982,   980,   981,   983,   980,   977,   974,   972,   972,   973,   975,   973,   977,   975,   972,   974],\n",
       "       [  488,   489,   487,   491,   495,   493,   490,   492,   496,   492,   497,   496,   497,   501,   504,   504,   504,   509,   515,   518,   524,   530,   535,   541,   541,   545,   542,   547,   553,   559, ...,   938,   936,   938,   943,   948,   953,   961,   964,   967,   972,   978,   979,   981,   980,   980,   979,   981,   986,   981,   978,   975,   976,   975,   977,   977,   977,   979,   977,   975,   976],\n",
       "       [  491,   490,   488,   489,   490,   492,   493,   495,   496,   497,   498,   499,   502,   504,   508,   509,   509,   511,   516,   522,   526,   530,   536,   542,   543,   547,   546,   551,   557,   559, ...,   932,   934,   938,   942,   947,   953,   957,   962,   966,   972,   975,   974,   976,   978,   979,   978,   980,   981,   982,   981,   978,   977,   979,   978,   980,   978,   982,   979,   979,   977],\n",
       "       [  493,   493,   489,   493,   493,   493,   495,   498,   498,   503,   500,   501,   502,   505,   510,   513,   510,   512,   517,   521,   523,   529,   534,   537,   539,   541,   547,   553,   556,   557, ...,   930,   933,   938,   942,   944,   948,   958,   964,   970,   969,   967,   971,   974,   976,   975,   976,   977,   982,   985,   984,   980,   980,   980,   980,   982,   985,   984,   983,   986,   985],\n",
       "       [  494,   496,   493,   497,   495,   498,   498,   501,   502,   503,   504,   506,   505,   510,   514,   516,   516,   516,   520,   525,   524,   529,   534,   536,   536,   541,   544,   547,   550,   555, ...,   925,   930,   934,   946,   948,   953,   956,   962,   967,   966,   965,   967,   970,   971,   970,   973,   978,   979,   980,   985,   983,   985,   985,   985,   984,   989,   985,   988,   990,   989],\n",
       "       [  499,   498,   502,   502,   498,   503,   500,   502,   505,   507,   506,   510,   506,   507,   509,   513,   516,   517,   518,   520,   521,   526,   531,   530,   533,   535,   540,   542,   555,   558, ...,   928,   933,   938,   943,   951,   953,   957,   960,   965,   964,   962,   966,   965,   966,   969,   974,   977,   980,   983,   987,   987,   988,   986,   989,   989,   988,   986,   987,   988,   989],\n",
       "       [  503,   502,   504,   504,   502,   505,   504,   503,   507,   508,   508,   512,   507,   511,   510,   512,   516,   517,   519,   522,   523,   528,   527,   528,   532,   536,   540,   546,   549,   553, ...,   930,   935,   938,   947,   950,   954,   952,   956,   960,   959,   957,   961,   963,   964,   968,   976,   976,   978,   981,   984,   989,   992,   990,   994,   994,   993,   991,   991,   992,   992],\n",
       "       [  506,   506,   505,   508,   507,   506,   505,   504,   506,   508,   509,   512,   508,   513,   514,   515,   520,   519,   521,   522,   523,   524,   526,   533,   533,   537,   540,   543,   545,   552, ...,   926,   936,   939,   945,   950,   950,   949,   950,   955,   955,   956,   960,   965,   969,   969,   973,   974,   975,   978,   989,   990,   995,   993,   998,   996,   998,   999,   994,   993,   996],\n",
       "       [  510,   507,   507,   510,   511,   510,   509,   506,   509,   510,   514,   517,   516,   515,   515,   516,   520,   523,   523,   525,   527,   525,   527,   532,   535,   540,   544,   545,   546,   548, ...,   927,   932,   936,   940,   945,   944,   947,   949,   951,   954,   957,   960,   962,   964,   968,   975,   978,   978,   981,   984,   986,   991,   992,   998,  1000,  1000,   997,   996,   996,   997],\n",
       "       [  510,   509,   511,   514,   512,   511,   511,   509,   513,   512,   515,   518,   519,   517,   517,   521,   523,   525,   525,   526,   530,   528,   529,   531,   536,   536,   539,   541,   543,   548, ...,   924,   929,   932,   936,   939,   940,   945,   948,   950,   953,   954,   961,   964,   968,   971,   974,   976,   979,   981,   984,   989,   994,   997,   999,  1000,  1000,   998,   998,   997,  1001],\n",
       "       [  514,   511,   514,   515,   514,   514,   512,   516,   517,   517,   517,   519,   522,   520,   522,   523,   527,   527,   530,   527,   528,   530,   530,   531,   533,   534,   537,   546,   546,   549, ...,   923,   927,   934,   935,   938,   943,   944,   951,   952,   955,   956,   961,   962,   965,   968,   977,   979,   983,   983,   988,   990,   992,   994,  1002,  1001, 19881,  1000,  1000,  1002,  1003]])"
      ]
     },
     "execution_count": 166,
     "metadata": {},
     "output_type": "execute_result"
    }
   ],
   "source": [
    "class Crucible:\n",
    "    # position, velocity, step\n",
    "    def __init__(self, p, v, s):\n",
    "        self.p = p\n",
    "        self.v = v\n",
    "        self.s = s\n",
    "\n",
    "    def __lt__(self, other):\n",
    "        return self.s < other.s\n",
    "    \n",
    "    def __repr__(self) -> str:\n",
    "        return f'{self.p} {self.v} {self.s}'\n",
    "\n",
    "def dijkstra(\n",
    "    nodes, \n",
    "    start, \n",
    "    get_neighbors, \n",
    "    end_condition=lambda _: False, \n",
    "    node_key = lambda x: x\n",
    "):\n",
    "    q, visited = [[0, start]], {}\n",
    "    while q:\n",
    "        distance, current = heapq.heappop(q)\n",
    "        if node_key(current) in visited:\n",
    "            # print('visited', current)\n",
    "            continue\n",
    "\n",
    "        visited[node_key(current)] = distance\n",
    "        if end_condition(current):\n",
    "            # print('done', current)\n",
    "            return visited, current\n",
    "        for node in get_neighbors(nodes, current, distance):\n",
    "            # print('new', node)\n",
    "            heapq.heappush(q, node)\n",
    "        # print(visited)\n",
    "    return visited, None\n",
    "\n",
    "def day17(data):\n",
    "    # print(data)\n",
    "    ymax, xmax = data.shape\n",
    "    start = Crucible(0, 0, 0)\n",
    "\n",
    "    def end_condition(node):\n",
    "        y, x = int(node.p.imag), int(node.p.real)\n",
    "        if y == ymax-1 and x == xmax-1:\n",
    "            # print(y, x)\n",
    "            return True\n",
    "        \n",
    "    def node_key(node):\n",
    "        return (node.p, node.v)\n",
    "\n",
    "    def get_neighbors(arr, current, distance):\n",
    "        moves = filter(lambda x: x != -current.v, [1, -1, 1j, -1j])\n",
    "        if current.s > 2:\n",
    "            # print(current.s, current.p)\n",
    "            moves = filter(lambda x: x != current.v, moves)\n",
    "\n",
    "        nodes = []\n",
    "        for v in moves:\n",
    "            node = Crucible(current.p+v, v, 0 if v != current.v else current.s+1)\n",
    "            y, x = int(node.p.imag), int(node.p.real)\n",
    "            # print('hmm', y, x, d)\n",
    "            if y >= 0 and x >= 0 and y < ymax and x < xmax:\n",
    "                nodes.append((distance + arr[y, x], node))\n",
    "        # print('?', nodes)\n",
    "        return nodes\n",
    "    \n",
    "    return dijkstra(data, start, get_neighbors, end_condition, node_key)\n",
    "\n",
    "results, current = day17(data17)\n",
    "\n",
    "# print(current)\n",
    "\n",
    "def heat_map(data, distances):\n",
    "    arr = data.copy()\n",
    "    y, x = arr.shape\n",
    "\n",
    "    print(min([results.get(k, y*x) for k in zip([(y-1)*1j+x-1]*4, [1, -1, 1j, -1j])]))\n",
    "\n",
    "    for i in range(y):\n",
    "        for j in range(x):\n",
    "            key = i*1j + j\n",
    "            distance = min([distances.get(k, x*y) for k in zip([key]*4, [1, -1, 1j, -1j])])\n",
    "            # print(i, j, distance)\n",
    "            arr[i, j] = distance\n",
    "    return arr\n",
    "heat_map(data17, results)"
   ]
  }
 ],
 "metadata": {
  "kernelspec": {
   "display_name": ".venv",
   "language": "python",
   "name": "python3"
  },
  "language_info": {
   "codemirror_mode": {
    "name": "ipython",
    "version": 3
   },
   "file_extension": ".py",
   "mimetype": "text/x-python",
   "name": "python",
   "nbconvert_exporter": "python",
   "pygments_lexer": "ipython3",
   "version": "3.12.0"
  },
  "orig_nbformat": 4
 },
 "nbformat": 4,
 "nbformat_minor": 2
}
