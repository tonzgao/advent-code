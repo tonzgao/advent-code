{
 "cells": [
  {
   "cell_type": "code",
   "execution_count": 2,
   "metadata": {},
   "outputs": [],
   "source": [
    "from collections import defaultdict, Counter\n",
    "from intervaltree import Interval, IntervalTree\n",
    "import itertools\n",
    "import functools\n",
    "import math\n",
    "import numpy as np\n",
    "import re\n",
    "from typing import Callable, TypeVar\n",
    "\n",
    "T = TypeVar('T')\n",
    "\n",
    "def data(day: int, parser: Callable[[str], T] = str) -> list[T]:\n",
    "  with open(f\"./data/day{day}.txt\") as f:\n",
    "    return [parser(line.strip()) for line in f.readlines()]"
   ]
  },
  {
   "cell_type": "code",
   "execution_count": 99,
   "metadata": {},
   "outputs": [
    {
     "name": "stdout",
     "output_type": "stream",
     "text": [
      "55816\n"
     ]
    },
    {
     "data": {
      "text/plain": [
       "54980"
      ]
     },
     "execution_count": 99,
     "metadata": {},
     "output_type": "execute_result"
    }
   ],
   "source": [
    "data1 = data(1)\n",
    "\n",
    "def day1(match):\n",
    "    sum = 0\n",
    "    for line in data1:\n",
    "        matched = match(line)\n",
    "        first, last = matched[0], matched[-1]\n",
    "        # print(first, last, sum)\n",
    "        sum += int(first + last)\n",
    "    return sum\n",
    "\n",
    "print(day1(lambda x: re.findall(r'\\d', x)))\n",
    "\n",
    "def part2match(x):\n",
    "    change = {\n",
    "        'one': '1',\n",
    "        'two': '2',\n",
    "        'three': '3',\n",
    "        'four': '4',\n",
    "        'five': '5',\n",
    "        'six': '6',\n",
    "        'seven': '7',\n",
    "        'eight': '8',\n",
    "        'nine': '9',\n",
    "    }\n",
    "    matched = re.findall(r'(?=(\\d|one|two|three|four|five|six|seven|eight|nine))', x)\n",
    "    return [change[match] if match in change else match for match in matched]\n",
    "\n",
    "day1(part2match)\n",
    "    "
   ]
  },
  {
   "cell_type": "code",
   "execution_count": 148,
   "metadata": {},
   "outputs": [
    {
     "name": "stdout",
     "output_type": "stream",
     "text": [
      "2377\n"
     ]
    },
    {
     "data": {
      "text/plain": [
       "71220"
      ]
     },
     "execution_count": 148,
     "metadata": {},
     "output_type": "execute_result"
    }
   ],
   "source": [
    "def format2(line):\n",
    "    def tuplefy(round):\n",
    "        result = [0,0,0]\n",
    "        for i in round:\n",
    "            result[0 if 'blue' in i else 1 if 'green' in i else 2] += int(i.split(' ')[0])\n",
    "        return result\n",
    "\n",
    "    line = line.split(': ')[-1]\n",
    "    rounds = line.split('; ' )\n",
    "    return np.array([tuplefy(x.split(', ')) for x in rounds])\n",
    "\n",
    "data2 = data(2, format2)\n",
    "\n",
    "def day2_1(start):\n",
    "    result = 0\n",
    "    for i, game in enumerate(data2):\n",
    "        possible = np.subtract(start, game)\n",
    "        if np.any(possible < 0):\n",
    "            continue\n",
    "        result += i+1\n",
    "    return result\n",
    "\n",
    "print(day2_1((14, 13, 12)))\n",
    "\n",
    "def day2_2():\n",
    "    result = 0\n",
    "    for game in data2:\n",
    "        requirements = np.amax(game, axis=0)\n",
    "        result += functools.reduce(lambda x, y: x*y, requirements, 1)\n",
    "    return result\n",
    "day2_2()"
   ]
  },
  {
   "cell_type": "code",
   "execution_count": 130,
   "metadata": {},
   "outputs": [
    {
     "data": {
      "text/plain": [
       "(521515, 69527306)"
      ]
     },
     "execution_count": 130,
     "metadata": {},
     "output_type": "execute_result"
    }
   ],
   "source": [
    "data3 = data(3)\n",
    "\n",
    "def day3():\n",
    "    numbers = []\n",
    "    for i, line in enumerate(data3):\n",
    "        numbers += [(m.group(), (i, m.start())) for m in re.finditer(r'\\d+', line)]\n",
    "\n",
    "    array3 = np.pad(np.array([list(line) for line in data3]), ((1, 1), (1, 1)), constant_values='.')\n",
    "    gears = defaultdict(lambda: [])\n",
    "\n",
    "    part1 = 0\n",
    "    for n, (i, j) in numbers:\n",
    "        sliced = array3[i:i+3, j:j+2+len(n)]\n",
    "        stringified =  ''.join(''.join(x) for x in sliced)\n",
    "        if re.search(r'[^\\d.]', stringified):\n",
    "            part1 += int(n)\n",
    "        if stars := np.where(sliced == '*'):\n",
    "            for x, _ in enumerate(stars[0]):\n",
    "                gears[(i+stars[0][x], j+stars[1][x])].append(int(n))\n",
    "\n",
    "    part2 = 0\n",
    "    for g in gears:\n",
    "        if len(gears[g]) == 2:\n",
    "            part2 += gears[g][0] * gears[g][1]\n",
    "\n",
    "    return part1, part2\n",
    "\n",
    "day3()"
   ]
  },
  {
   "cell_type": "code",
   "execution_count": 5,
   "metadata": {},
   "outputs": [
    {
     "data": {
      "text/plain": [
       "(25651, 19499881)"
      ]
     },
     "execution_count": 5,
     "metadata": {},
     "output_type": "execute_result"
    }
   ],
   "source": [
    "def parse4(line):\n",
    "    winning, have = map(\n",
    "        lambda numbers: {int(x) for x in numbers.split()},\n",
    "        line.split(':')[-1].split('|')\n",
    "    )\n",
    "    return winning, have\n",
    "\n",
    "data4 = data(4, parse4)\n",
    "\n",
    "def day4(data):\n",
    "    result, cards = 0, Counter()\n",
    "    for i, line in enumerate(data):\n",
    "        matches = line[0].intersection(line[1])\n",
    "        if matches:\n",
    "            result += 2**(len(matches)-1)\n",
    "        for n in range(len(matches)):\n",
    "            cards[i+1+n] += cards[i]+1\n",
    "    return result, cards.total() + len(data)\n",
    "\n",
    "day4(data4)\n"
   ]
  },
  {
   "cell_type": "code",
   "execution_count": 39,
   "metadata": {},
   "outputs": [
    {
     "name": "stdout",
     "output_type": "stream",
     "text": [
      "1181555926\n"
     ]
    }
   ],
   "source": [
    "def day5_maps(data):\n",
    "    names, maps = [], []\n",
    "\n",
    "    def create_map(lines):\n",
    "        ranges = IntervalTree([Interval(0, math.inf)])\n",
    "        name = lines[0].split()[0]\n",
    "        for i, line in enumerate(lines[1:]):\n",
    "            if not line:\n",
    "                break\n",
    "            dest, source, size = map(int, line.split())\n",
    "            ranges.chop(source, source+size)\n",
    "            ranges[source:source+size] = dest\n",
    "        return name, ranges, lines[i+2:]\n",
    "\n",
    "    seeds, data = map(int, data[0].split(': ')[-1].split()), data[2:]\n",
    "\n",
    "    while len(data):\n",
    "        name, intervals, data = create_map(data)\n",
    "        names.append(name)\n",
    "        maps.append(intervals)\n",
    "\n",
    "    return list(seeds), maps, names\n",
    "\n",
    "seeds, intervals, names = day5_maps(data(5))\n",
    "\n",
    "def day5_1(seeds, data):\n",
    "    lowest = math.inf\n",
    "    for seed in seeds:\n",
    "        for interval in data:\n",
    "            start, end, dest = next(iter(interval.at(seed)))\n",
    "            seed = seed if dest is None else (seed-start)+dest\n",
    "        lowest = min(lowest, seed)\n",
    "    return lowest\n",
    "\n",
    "print(day5_1(seeds, intervals))\n"
   ]
  },
  {
   "cell_type": "code",
   "execution_count": 38,
   "metadata": {},
   "outputs": [
    {
     "name": "stdout",
     "output_type": "stream",
     "text": [
      "seed-to-soil 2 IntervalTree([Interval(55, 68), Interval(79, 93)])\n",
      "soil-to-fertilizer 2 IntervalTree([Interval(57, 70), Interval(81, 95)])\n",
      "fertilizer-to-water 2 IntervalTree([Interval(57, 70), Interval(81, 95)])\n",
      "water-to-light 3 IntervalTree([Interval(53, 57), Interval(57, 70), Interval(81, 95)])\n",
      "light-to-temperature 3 IntervalTree([Interval(46, 50), Interval(50, 63), Interval(74, 88)])\n",
      "temperature-to-humidity 4 IntervalTree([Interval(45, 56), Interval(78, 81), Interval(82, 86), Interval(86, 99)])\n",
      "humidity-to-location 4 IntervalTree([Interval(46, 57), Interval(78, 81), Interval(82, 86), Interval(86, 99)])\n"
     ]
    },
    {
     "data": {
      "text/plain": [
       "46"
      ]
     },
     "execution_count": 38,
     "metadata": {},
     "output_type": "execute_result"
    }
   ],
   "source": [
    "\n",
    "def day5_2(seeds, data):\n",
    "    seedrange = IntervalTree([Interval(start, start+size) for start, size in zip(seeds[::2], seeds[1::2])])\n",
    "    seedrange.merge_overlaps()\n",
    "\n",
    "    for i, interval in enumerate(data):\n",
    "        newrange = IntervalTree()\n",
    "        print(names[i], len(seedrange), seedrange)\n",
    "        for seed in seedrange:\n",
    "            seedstart, seedend = seed[0], seed[1]\n",
    "            intersections = interval[seedstart:seedend]\n",
    "            # print('intersections', seed, len(intersections), intersections)\n",
    "            for hit in intersections:\n",
    "                start, end, dest = hit\n",
    "                newstart, newend = seed[0], seed[1]\n",
    "                if dest is not None:\n",
    "                    newstart = dest + max(seedstart, start)-start\n",
    "                    newend = dest + min(seedend, end)-start\n",
    "                newrange.addi(newstart, newend)\n",
    "        newrange.merge_overlaps()\n",
    "        seedrange = newrange\n",
    "        \n",
    "    # print(seedrange)\n",
    "    lowest = min([loc[0] for loc in seedrange])\n",
    "    return lowest\n",
    "\n",
    "day5_2(seeds, intervals)\n",
    "# 817855325\n",
    "# 1174966665"
   ]
  },
  {
   "cell_type": "code",
   "execution_count": 23,
   "metadata": {},
   "outputs": [
    {
     "name": "stdout",
     "output_type": "stream",
     "text": [
      "a IntervalTree([Interval(364807853, 773420016)]) new IntervalTree([Interval(0, 18343754), Interval(18343754, 77244511), Interval(335002083, 391285622), Interval(498335903, 586838162), Interval(2070957389, 2227672101), Interval(3100147259, 3111376183)])\n",
      "a IntervalTree([Interval(0, 18343754), Interval(18343754, 77244511), Interval(335002083, 391285622), Interval(498335903, 586838162), Interval(2070957389, 2227672101), Interval(3100147259, 3111376183)]) new IntervalTree([Interval(1707369117, 1725712871)])\n",
      "a IntervalTree([Interval(0, 18343754), Interval(18343754, 77244511), Interval(335002083, 391285622), Interval(498335903, 586838162), Interval(2070957389, 2227672101), Interval(3100147259, 3111376183)]) new IntervalTree([Interval(990797653, 1079299912)])\n",
      "a IntervalTree([Interval(0, 18343754), Interval(18343754, 77244511), Interval(335002083, 391285622), Interval(498335903, 586838162), Interval(2070957389, 2227672101), Interval(3100147259, 3111376183)]) new IntervalTree([Interval(2106938720, 2111128139), Interval(3056971024, 3064010529)])\n",
      "a IntervalTree([Interval(0, 18343754), Interval(18343754, 77244511), Interval(335002083, 391285622), Interval(498335903, 586838162), Interval(2070957389, 2227672101), Interval(3100147259, 3111376183)]) new IntervalTree([Interval(1725712871, 1771747181), Interval(1771747181, 1784613628)])\n",
      "a IntervalTree([Interval(0, 18343754), Interval(18343754, 77244511), Interval(335002083, 391285622), Interval(498335903, 586838162), Interval(2070957389, 2227672101), Interval(3100147259, 3111376183)]) new IntervalTree([Interval(4032975418, 4189690130)])\n",
      "a IntervalTree([Interval(0, 18343754), Interval(18343754, 77244511), Interval(335002083, 391285622), Interval(498335903, 586838162), Interval(2070957389, 2227672101), Interval(3100147259, 3111376183)]) new IntervalTree([Interval(344459580, 400743119)])\n",
      "a IntervalTree([Interval(344459580, 400743119)]) new IntervalTree([Interval(2078275516, 2134559055)])\n",
      "a IntervalTree([Interval(2078275516, 2134559055)]) new IntervalTree([Interval(1386681251, 1442964790)])\n",
      "a IntervalTree([Interval(1386681251, 1442964790)]) new IntervalTree([Interval(3448736134, 3505019673)])\n",
      "a IntervalTree([Interval(3448736134, 3505019673)]) new IntervalTree([Interval(3738465272, 3794748811)])\n",
      "a IntervalTree([Interval(3738465272, 3794748811)]) new IntervalTree([Interval(3626084399, 3682367938)])\n",
      "a IntervalTree([Interval(302918330, 323126581)]) new IntervalTree([Interval(436446380, 456654631)])\n",
      "a IntervalTree([Interval(436446380, 456654631)]) new IntervalTree([Interval(928908130, 949116381)])\n",
      "a IntervalTree([Interval(928908130, 949116381)]) new IntervalTree([Interval(938996922, 959205173)])\n",
      "a IntervalTree([Interval(938996922, 959205173)]) new IntervalTree([Interval(760332488, 780540739)])\n",
      "a IntervalTree([Interval(760332488, 780540739)]) new IntervalTree([Interval(2391794385, 2412002636)])\n",
      "a IntervalTree([Interval(2391794385, 2412002636)]) new IntervalTree([Interval(2391794385, 2412002636)])\n",
      "a IntervalTree([Interval(2391794385, 2412002636)]) new IntervalTree([Interval(4187781657, 4207989908)])\n",
      "a IntervalTree([Interval(1499552892, 1699844734)]) new IntervalTree([Interval(3654918290, 3855210132)])\n",
      "a IntervalTree([Interval(3654918290, 3855210132)]) new IntervalTree([Interval(3064010529, 3079951473), Interval(3428537463, 3529068164), Interval(3855550220, 3886333537), Interval(3895169406, 3948206286)])\n",
      "a IntervalTree([Interval(3064010529, 3079951473), Interval(3428537463, 3529068164), Interval(3855550220, 3886333537), Interval(3895169406, 3948206286)]) new IntervalTree([Interval(486042686, 514481680), Interval(3431548144, 3448524168)])\n",
      "a IntervalTree([Interval(3064010529, 3079951473), Interval(3428537463, 3529068164), Interval(3855550220, 3886333537), Interval(3895169406, 3948206286)]) new IntervalTree([Interval(3431548144, 3448524168)])\n",
      "a IntervalTree([Interval(3064010529, 3079951473), Interval(3428537463, 3529068164), Interval(3855550220, 3886333537), Interval(3895169406, 3948206286)]) new IntervalTree([Interval(3067021210, 3082962154)])\n",
      "a IntervalTree([Interval(3064010529, 3079951473), Interval(3428537463, 3529068164), Interval(3855550220, 3886333537), Interval(3895169406, 3948206286)]) new IntervalTree([Interval(3067021210, 3082962154)])\n",
      "a IntervalTree([Interval(3067021210, 3082962154)]) new IntervalTree([Interval(1703823686, 1719764630)])\n",
      "a IntervalTree([Interval(1703823686, 1719764630)]) new IntervalTree([Interval(3765878569, 3781819513)])\n",
      "a IntervalTree([Interval(3765878569, 3781819513)]) new IntervalTree([Interval(4055607707, 4071548651)])\n",
      "a IntervalTree([Interval(4055607707, 4071548651)]) new IntervalTree([Interval(3943226834, 3959167778)])\n",
      "a IntervalTree([Interval(3284226943, 3300256987)]) new IntervalTree([Interval(1762512178, 1778542222)])\n",
      "a IntervalTree([Interval(1762512178, 1778542222)]) new IntervalTree([Interval(841475992, 857506036)])\n",
      "a IntervalTree([Interval(841475992, 857506036)]) new IntervalTree([Interval(851564784, 867594828)])\n",
      "a IntervalTree([Interval(851564784, 867594828)]) new IntervalTree([Interval(672900350, 688930394)])\n",
      "a IntervalTree([Interval(672900350, 688930394)]) new IntervalTree([Interval(2304362247, 2320392291)])\n",
      "a IntervalTree([Interval(2304362247, 2320392291)]) new IntervalTree([Interval(2304362247, 2320392291)])\n",
      "a IntervalTree([Interval(2304362247, 2320392291)]) new IntervalTree([Interval(3361761505, 3377791549)])\n",
      "a IntervalTree([Interval(2593569946, 2939332280)]) new IntervalTree([Interval(1112103608, 1417617515), Interval(3059898832, 3100147259)])\n",
      "a IntervalTree([Interval(1112103608, 1417617515), Interval(3059898832, 3100147259)]) new IntervalTree([Interval(444516565, 543696894), Interval(1313368531, 1423277199), Interval(1594141388, 1660761450), Interval(1677564269, 1707369117)])\n",
      "a IntervalTree([Interval(1112103608, 1417617515), Interval(3059898832, 3100147259)]) new IntervalTree([Interval(3016722597, 3056971024)])\n",
      "a IntervalTree([Interval(3016722597, 3056971024)]) new IntervalTree([Interval(3019733278, 3059981705)])\n",
      "a IntervalTree([Interval(3019733278, 3059981705)]) new IntervalTree([Interval(1656535754, 1696784181)])\n",
      "a IntervalTree([Interval(1656535754, 1696784181)]) new IntervalTree([Interval(3718590637, 3758839064)])\n",
      "a IntervalTree([Interval(3718590637, 3758839064)]) new IntervalTree([Interval(4008319775, 4048568202)])\n",
      "a IntervalTree([Interval(4008319775, 4048568202)]) new IntervalTree([Interval(3895938902, 3936187329)])\n",
      "a IntervalTree([Interval(3692780593, 3709996324)]) new IntervalTree([Interval(754106964, 771322695)])\n",
      "a IntervalTree([Interval(754106964, 771322695)]) new IntervalTree([Interval(126928322, 144144053)])\n",
      "a IntervalTree([Interval(126928322, 144144053)]) new IntervalTree([Interval(1860744258, 1877959989)])\n",
      "a IntervalTree([Interval(1860744258, 1877959989)]) new IntervalTree([Interval(1982376032, 1999591763)])\n",
      "a IntervalTree([Interval(1982376032, 1999591763)]) new IntervalTree([Interval(4044430915, 4061646646)])\n",
      "a IntervalTree([Interval(4044430915, 4061646646)]) new IntervalTree([Interval(2933758815, 2950974546)])\n",
      "a IntervalTree([Interval(2933758815, 2950974546)]) new IntervalTree([Interval(1918457551, 1935673282)])\n",
      "a IntervalTree([Interval(1207118682, 1397101762)]) new IntervalTree([Interval(2515045707, 2605909356), Interval(2605909356, 2700122696), Interval(3547561069, 3552467160)])\n",
      "a IntervalTree([Interval(2515045707, 2605909356), Interval(2605909356, 2700122696), Interval(3547561069, 3552467160)]) new IntervalTree([Interval(2488180696, 2579044345)])\n",
      "a IntervalTree([Interval(2515045707, 2605909356), Interval(2605909356, 2700122696), Interval(3547561069, 3552467160)]) new IntervalTree([Interval(2579044345, 2673257685)])\n",
      "a IntervalTree([Interval(2515045707, 2605909356), Interval(2605909356, 2700122696), Interval(3547561069, 3552467160)]) new IntervalTree([Interval(3321180242, 3326086333)])\n",
      "a IntervalTree([Interval(3321180242, 3326086333)]) new IntervalTree([Interval(3324190923, 3329097014)])\n",
      "a IntervalTree([Interval(3324190923, 3329097014)]) new IntervalTree([Interval(3708221781, 3713127872)])\n",
      "a IntervalTree([Interval(3708221781, 3713127872)]) new IntervalTree([Interval(2267270550, 2272176641)])\n",
      "a IntervalTree([Interval(2267270550, 2272176641)]) new IntervalTree([Interval(1946736586, 1951642677)])\n",
      "a IntervalTree([Interval(1946736586, 1951642677)]) new IntervalTree([Interval(3027411148, 3032317239)])\n",
      "a IntervalTree([Interval(2231594291, 2303800266)]) new IntervalTree([Interval(871763817, 943969792)])\n",
      "a IntervalTree([Interval(871763817, 943969792)]) new IntervalTree([Interval(244585175, 291046304), Interval(1119489869, 1145234715)])\n",
      "a IntervalTree([Interval(244585175, 291046304), Interval(1119489869, 1145234715)]) new IntervalTree([Interval(1978401111, 2024862240)])\n",
      "a IntervalTree([Interval(244585175, 291046304), Interval(1119489869, 1145234715)]) new IntervalTree([Interval(1129578661, 1155323507)])\n",
      "a IntervalTree([Interval(1129578661, 1155323507)]) new IntervalTree([Interval(132296596, 158041442)])\n",
      "a IntervalTree([Interval(132296596, 158041442)]) new IntervalTree([Interval(696867049, 722611895)])\n",
      "a IntervalTree([Interval(696867049, 722611895)]) new IntervalTree([Interval(982203327, 1007948173)])\n",
      "a IntervalTree([Interval(982203327, 1007948173)]) new IntervalTree([Interval(2571540744, 2597285590)])\n",
      "a IntervalTree([Interval(3817565407, 4260627005)]) new IntervalTree([Interval(793913826, 826809686), Interval(989159646, 1077763317), Interval(2700122696, 2821869347), Interval(3347745653, 3547561069)])\n",
      "a IntervalTree([Interval(793913826, 826809686), Interval(989159646, 1077763317), Interval(2700122696, 2821869347), Interval(3347745653, 3547561069)]) new IntervalTree([Interval(2673257685, 2700214958), Interval(2700214958, 2778693112), Interval(3696170814, 3712482038)])\n",
      "a IntervalTree([Interval(793913826, 826809686), Interval(989159646, 1077763317), Interval(2700122696, 2821869347), Interval(3347745653, 3547561069)]) new IntervalTree([Interval(3121364826, 3321180242)])\n",
      "a IntervalTree([Interval(793913826, 826809686), Interval(989159646, 1077763317), Interval(2700122696, 2821869347), Interval(3347745653, 3547561069)]) new IntervalTree([Interval(166735184, 199631044)])\n",
      "a IntervalTree([Interval(793913826, 826809686), Interval(989159646, 1077763317), Interval(2700122696, 2821869347), Interval(3347745653, 3547561069)]) new IntervalTree([Interval(1190424569, 1279028240)])\n",
      "a IntervalTree([Interval(1190424569, 1279028240)]) new IntervalTree([Interval(1200513361, 1289117032)])\n",
      "a IntervalTree([Interval(1200513361, 1289117032)]) new IntervalTree([Interval(0, 9456291), Interval(203231296, 257581844), Interval(478697971, 497536930), Interval(1015936228, 1017772128), Interval(3065323607, 3069445580)])\n",
      "a IntervalTree([Interval(0, 9456291), Interval(203231296, 257581844), Interval(478697971, 497536930), Interval(1015936228, 1017772128), Interval(3065323607, 3069445580)]) new IntervalTree([Interval(3077991111, 3079827011)])\n",
      "a IntervalTree([Interval(0, 9456291), Interval(203231296, 257581844), Interval(478697971, 497536930), Interval(1015936228, 1017772128), Interval(3065323607, 3069445580)]) new IntervalTree([Interval(1043268424, 1053578264), Interval(2827696039, 2836225158)])\n",
      "a IntervalTree([Interval(0, 9456291), Interval(203231296, 257581844), Interval(478697971, 497536930), Interval(1015936228, 1017772128), Interval(3065323607, 3069445580)]) new IntervalTree([Interval(1043268424, 1053578264)])\n",
      "a IntervalTree([Interval(0, 9456291), Interval(203231296, 257581844), Interval(478697971, 497536930), Interval(1015936228, 1017772128), Interval(3065323607, 3069445580)]) new IntervalTree([Interval(767801749, 822152297)])\n",
      "a IntervalTree([Interval(0, 9456291), Interval(203231296, 257581844), Interval(478697971, 497536930), Interval(1015936228, 1017772128), Interval(3065323607, 3069445580)]) new IntervalTree([Interval(532519047, 536641020)])\n",
      "a IntervalTree([Interval(532519047, 536641020)]) new IntervalTree([Interval(817855325, 821977298)])\n",
      "a IntervalTree([Interval(817855325, 821977298)]) new IntervalTree([Interval(817855325, 821977298)])\n",
      "a IntervalTree([Interval(2313976854, 2517906222)]) new IntervalTree([Interval(954146380, 989159646), Interval(2821869347, 2984235108), Interval(3235691256, 3242241597)])\n",
      "a IntervalTree([Interval(954146380, 989159646), Interval(2821869347, 2984235108), Interval(3235691256, 3242241597)]) new IntervalTree([Interval(1155411303, 1190424569)])\n",
      "a IntervalTree([Interval(954146380, 989159646), Interval(2821869347, 2984235108), Interval(3235691256, 3242241597)]) new IntervalTree([Interval(2235443212, 2241993553)])\n",
      "a IntervalTree([Interval(954146380, 989159646), Interval(2821869347, 2984235108), Interval(3235691256, 3242241597)]) new IntervalTree([Interval(2778693112, 2941058873)])\n",
      "a IntervalTree([Interval(2778693112, 2941058873)]) new IntervalTree([Interval(2781703793, 2944069554)])\n",
      "a IntervalTree([Interval(2781703793, 2944069554)]) new IntervalTree([Interval(1542303706, 1580872030), Interval(2826700567, 2950498004)])\n",
      "a IntervalTree([Interval(1542303706, 1580872030), Interval(2826700567, 2950498004)]) new IntervalTree([Interval(3604358589, 3642926913)])\n",
      "a IntervalTree([Interval(1542303706, 1580872030), Interval(2826700567, 2950498004)]) new IntervalTree([Interval(293896007, 417693444)])\n",
      "a IntervalTree([Interval(293896007, 417693444)]) new IntervalTree([Interval(605870242, 703029722), Interval(2277426004, 2304063961)])\n",
      "a IntervalTree([Interval(605870242, 703029722), Interval(2277426004, 2304063961)]) new IntervalTree([Interval(3334825262, 3361463219)])\n",
      "a IntervalTree([Interval(605870242, 703029722), Interval(2277426004, 2304063961)]) new IntervalTree([Interval(3334825262, 3361463219)])\n"
     ]
    },
    {
     "data": {
      "text/plain": [
       "817855325"
      ]
     },
     "execution_count": 23,
     "metadata": {},
     "output_type": "execute_result"
    }
   ],
   "source": [
    "def day5_2(seeds, data):\n",
    "    lowest = math.inf\n",
    "\n",
    "    for i in range(len(seeds)//2):\n",
    "        seedrange = IntervalTree()\n",
    "        seedrange.addi(seeds[i*2], seeds[i*2]+seeds[i*2+1])\n",
    "    # Indented here - unclear why this is a different result\n",
    "        for interval in data:\n",
    "            for seed in seedrange:\n",
    "                seedstart, seedend = seed[0], seed[1]\n",
    "                intersections = interval[seedstart:seedend]\n",
    "                # print(intersections, seed)\n",
    "                newrange = IntervalTree()\n",
    "                for hit in intersections:\n",
    "                    start, end, dest = hit\n",
    "                    if dest is not None:\n",
    "                        newstart = dest + max(seedstart,start)-start\n",
    "                        newend = dest + min(seedend, end)-start\n",
    "                    # print('hit', start, end, seedstart, seedend, newstart,newend)\n",
    "                    newrange.addi(newstart, newend)\n",
    "                print('a', seedrange, 'new', newrange)\n",
    "            newrange.merge_overlaps()\n",
    "            seedrange = newrange\n",
    "            \n",
    "        # print(seedrange)\n",
    "        for loc in seedrange:\n",
    "            # print(loc[0], lowest)\n",
    "            lowest = min(loc[0], lowest)\n",
    "    return lowest\n",
    "\n",
    "day5_2(*data5)"
   ]
  }
 ],
 "metadata": {
  "kernelspec": {
   "display_name": ".venv",
   "language": "python",
   "name": "python3"
  },
  "language_info": {
   "codemirror_mode": {
    "name": "ipython",
    "version": 3
   },
   "file_extension": ".py",
   "mimetype": "text/x-python",
   "name": "python",
   "nbconvert_exporter": "python",
   "pygments_lexer": "ipython3",
   "version": "3.12.0"
  },
  "orig_nbformat": 4
 },
 "nbformat": 4,
 "nbformat_minor": 2
}
