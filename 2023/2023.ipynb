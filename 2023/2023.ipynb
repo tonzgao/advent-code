{
 "cells": [
  {
   "cell_type": "code",
   "execution_count": 1,
   "metadata": {},
   "outputs": [],
   "source": [
    "from collections import defaultdict, Counter\n",
    "from intervaltree import Interval, IntervalTree\n",
    "import itertools\n",
    "import functools\n",
    "import math\n",
    "import numpy as np\n",
    "import re\n",
    "from typing import Callable, TypeVar\n",
    "\n",
    "T = TypeVar('T')\n",
    "\n",
    "def data(day: int, parser: Callable[[str], T] = str) -> list[T]:\n",
    "  with open(f\"./data/day{day}.txt\") as f:\n",
    "    return [parser(line.strip()) for line in f.readlines()]"
   ]
  },
  {
   "cell_type": "code",
   "execution_count": 99,
   "metadata": {},
   "outputs": [
    {
     "name": "stdout",
     "output_type": "stream",
     "text": [
      "55816\n"
     ]
    },
    {
     "data": {
      "text/plain": [
       "54980"
      ]
     },
     "execution_count": 99,
     "metadata": {},
     "output_type": "execute_result"
    }
   ],
   "source": [
    "data1 = data(1)\n",
    "\n",
    "def day1(match):\n",
    "    sum = 0\n",
    "    for line in data1:\n",
    "        matched = match(line)\n",
    "        first, last = matched[0], matched[-1]\n",
    "        # print(first, last, sum)\n",
    "        sum += int(first + last)\n",
    "    return sum\n",
    "\n",
    "print(day1(lambda x: re.findall(r'\\d', x)))\n",
    "\n",
    "def part2match(x):\n",
    "    change = {\n",
    "        'one': '1',\n",
    "        'two': '2',\n",
    "        'three': '3',\n",
    "        'four': '4',\n",
    "        'five': '5',\n",
    "        'six': '6',\n",
    "        'seven': '7',\n",
    "        'eight': '8',\n",
    "        'nine': '9',\n",
    "    }\n",
    "    matched = re.findall(r'(?=(\\d|one|two|three|four|five|six|seven|eight|nine))', x)\n",
    "    return [change[match] if match in change else match for match in matched]\n",
    "\n",
    "day1(part2match)\n",
    "    "
   ]
  },
  {
   "cell_type": "code",
   "execution_count": 148,
   "metadata": {},
   "outputs": [
    {
     "name": "stdout",
     "output_type": "stream",
     "text": [
      "2377\n"
     ]
    },
    {
     "data": {
      "text/plain": [
       "71220"
      ]
     },
     "execution_count": 148,
     "metadata": {},
     "output_type": "execute_result"
    }
   ],
   "source": [
    "def format2(line):\n",
    "    def tuplefy(round):\n",
    "        result = [0,0,0]\n",
    "        for i in round:\n",
    "            result[0 if 'blue' in i else 1 if 'green' in i else 2] += int(i.split(' ')[0])\n",
    "        return result\n",
    "\n",
    "    line = line.split(': ')[-1]\n",
    "    rounds = line.split('; ' )\n",
    "    return np.array([tuplefy(x.split(', ')) for x in rounds])\n",
    "\n",
    "data2 = data(2, format2)\n",
    "\n",
    "def day2_1(start):\n",
    "    result = 0\n",
    "    for i, game in enumerate(data2):\n",
    "        possible = np.subtract(start, game)\n",
    "        if np.any(possible < 0):\n",
    "            continue\n",
    "        result += i+1\n",
    "    return result\n",
    "\n",
    "print(day2_1((14, 13, 12)))\n",
    "\n",
    "def day2_2():\n",
    "    result = 0\n",
    "    for game in data2:\n",
    "        requirements = np.amax(game, axis=0)\n",
    "        result += functools.reduce(lambda x, y: x*y, requirements, 1)\n",
    "    return result\n",
    "day2_2()"
   ]
  },
  {
   "cell_type": "code",
   "execution_count": 130,
   "metadata": {},
   "outputs": [
    {
     "data": {
      "text/plain": [
       "(521515, 69527306)"
      ]
     },
     "execution_count": 130,
     "metadata": {},
     "output_type": "execute_result"
    }
   ],
   "source": [
    "data3 = data(3)\n",
    "\n",
    "def day3():\n",
    "    numbers = []\n",
    "    for i, line in enumerate(data3):\n",
    "        numbers += [(m.group(), (i, m.start())) for m in re.finditer(r'\\d+', line)]\n",
    "\n",
    "    array3 = np.pad(np.array([list(line) for line in data3]), ((1, 1), (1, 1)), constant_values='.')\n",
    "    gears = defaultdict(lambda: [])\n",
    "\n",
    "    part1 = 0\n",
    "    for n, (i, j) in numbers:\n",
    "        sliced = array3[i:i+3, j:j+2+len(n)]\n",
    "        stringified =  ''.join(''.join(x) for x in sliced)\n",
    "        if re.search(r'[^\\d.]', stringified):\n",
    "            part1 += int(n)\n",
    "        if stars := np.where(sliced == '*'):\n",
    "            for x, _ in enumerate(stars[0]):\n",
    "                gears[(i+stars[0][x], j+stars[1][x])].append(int(n))\n",
    "\n",
    "    part2 = 0\n",
    "    for g in gears:\n",
    "        if len(gears[g]) == 2:\n",
    "            part2 += gears[g][0] * gears[g][1]\n",
    "\n",
    "    return part1, part2\n",
    "\n",
    "day3()"
   ]
  },
  {
   "cell_type": "code",
   "execution_count": 5,
   "metadata": {},
   "outputs": [
    {
     "data": {
      "text/plain": [
       "(25651, 19499881)"
      ]
     },
     "execution_count": 5,
     "metadata": {},
     "output_type": "execute_result"
    }
   ],
   "source": [
    "def parse4(line):\n",
    "    winning, have = map(\n",
    "        lambda numbers: {int(x) for x in numbers.split()},\n",
    "        line.split(':')[-1].split('|')\n",
    "    )\n",
    "    return winning, have\n",
    "\n",
    "data4 = data(4, parse4)\n",
    "\n",
    "def day4(data):\n",
    "    result, cards = 0, Counter()\n",
    "    for i, line in enumerate(data):\n",
    "        matches = line[0].intersection(line[1])\n",
    "        if matches:\n",
    "            result += 2**(len(matches)-1)\n",
    "        for n in range(len(matches)):\n",
    "            cards[i+1+n] += cards[i]+1\n",
    "    return result, cards.total() + len(data)\n",
    "\n",
    "day4(data4)\n"
   ]
  },
  {
   "cell_type": "code",
   "execution_count": 47,
   "metadata": {},
   "outputs": [
    {
     "data": {
      "text/plain": [
       "(1181555926, 37806486)"
      ]
     },
     "execution_count": 47,
     "metadata": {},
     "output_type": "execute_result"
    }
   ],
   "source": [
    "def day5_maps(data):\n",
    "    names, maps = [], []\n",
    "\n",
    "    def create_map(lines):\n",
    "        ranges = IntervalTree([Interval(0, math.inf)])\n",
    "        name = lines[0].split()[0]\n",
    "        for i, line in enumerate(lines[1:]):\n",
    "            if not line:\n",
    "                break\n",
    "            dest, source, size = map(int, line.split())\n",
    "            ranges.chop(source, source+size)\n",
    "            ranges[source:source+size] = dest\n",
    "        return name, ranges, lines[i+2:]\n",
    "\n",
    "    seeds, data = map(int, data[0].split(': ')[-1].split()), data[2:]\n",
    "\n",
    "    while len(data):\n",
    "        name, intervals, data = create_map(data)\n",
    "        names.append(name)\n",
    "        maps.append(intervals)\n",
    "\n",
    "    return list(seeds), maps, names\n",
    "\n",
    "seeds, intervals, names = day5_maps(data(5))\n",
    "\n",
    "def day5_1(seeds, data):\n",
    "    lowest = math.inf\n",
    "    for seed in seeds:\n",
    "        for interval in data:\n",
    "            start, end, dest = next(iter(interval.at(seed)))\n",
    "            seed = seed if dest is None else (seed-start)+dest\n",
    "        lowest = min(lowest, seed)\n",
    "    return lowest\n",
    "\n",
    "def day5_2(seeds, data):\n",
    "    seedrange = IntervalTree([Interval(start, start+size) for start, size in zip(seeds[::2], seeds[1::2])])\n",
    "    seedrange.merge_overlaps()\n",
    "\n",
    "    for i, interval in enumerate(data):\n",
    "        newrange = IntervalTree()\n",
    "        # print(names[i], seedrange, interval)\n",
    "        for (seedstart, seedend, _) in seedrange:\n",
    "            intersections = interval[seedstart:seedend]\n",
    "            for (start, end, dest) in intersections:\n",
    "                newstart = (dest + max(seedstart, start)-start) if dest is not None else seedstart\n",
    "                newend = (dest + min(seedend, end)-start) if dest is not None else seedend\n",
    "                newrange.addi(newstart, newend)\n",
    "        newrange.merge_overlaps()\n",
    "        seedrange = newrange\n",
    "        \n",
    "    lowest = min([loc[0] for loc in seedrange])\n",
    "    return lowest\n",
    "\n",
    "day5_1(seeds, intervals), day5_2(seeds, intervals)\n"
   ]
  },
  {
   "cell_type": "code",
   "execution_count": 38,
   "metadata": {},
   "outputs": [
    {
     "data": {
      "text/plain": [
       "(252000, 36992486)"
      ]
     },
     "execution_count": 38,
     "metadata": {},
     "output_type": "execute_result"
    }
   ],
   "source": [
    "data6 = data(6, lambda x: list(map(int, x.split(':')[-1].split())))\n",
    "\n",
    "def day6(times, distances):\n",
    "    result = []\n",
    "    for t, d in zip(times, distances):\n",
    "        # (t-x)*x = d+1\n",
    "        # -x**2 +xt -d-1 = 0\n",
    "        a, b, c = -1, t, -d-1\n",
    "        det = math.sqrt(b**2 - 4*a*c)\n",
    "        if det < 0:\n",
    "            continue\n",
    "        zeros = (-b+det)/(2*a), (-b-det)/(2*a)\n",
    "        floor, ceil = math.ceil(min(zeros)), math.floor(max(zeros))\n",
    "        result.append(ceil-floor+1)\n",
    "    return functools.reduce(lambda x, y: x*y, result, 1)\n",
    "\n",
    "day6(*data6), day6(*[[int(''.join(map(str, x)))] for x in data6])"
   ]
  },
  {
   "cell_type": "code",
   "execution_count": 34,
   "metadata": {},
   "outputs": [],
   "source": [
    "data7 = data(7, lambda x: x.split())"
   ]
  },
  {
   "cell_type": "code",
   "execution_count": 48,
   "metadata": {},
   "outputs": [
    {
     "name": "stdout",
     "output_type": "stream",
     "text": [
      "32T3K 7 Counter({3: 2, 2: 1, 10: 1, 13: 1})\n",
      "T55J5 11 Counter({5: 3, 10: 1, 11: 1})\n",
      "KK677 9 Counter({13: 2, 7: 2, 6: 1})\n",
      "KTJJT 9 Counter({10: 2, 11: 2, 13: 1})\n",
      "QQQJA 11 Counter({12: 3, 11: 1, 14: 1})\n"
     ]
    },
    {
     "data": {
      "text/plain": [
       "6440"
      ]
     },
     "execution_count": 48,
     "metadata": {},
     "output_type": "execute_result"
    }
   ],
   "source": [
    "def card_ord(card):\n",
    "    match card:\n",
    "        case 'T': return 10\n",
    "        case 'J': return 11\n",
    "        case 'Q': return 12\n",
    "        case 'K': return 13\n",
    "        case 'A': return 14\n",
    "    return int(card)\n",
    "\n",
    "def score_hand(hand):\n",
    "    cards = [card_ord(card) for card in hand]\n",
    "    counts = Counter(cards)\n",
    "    score = sum([counts[x]**2 for x in counts])\n",
    "    print(hand, score, counts)\n",
    "    return [score]+cards\n",
    "\n",
    "def day7(data):\n",
    "    ordered = sorted(data, key=lambda x: score_hand(x[0]))\n",
    "    return sum((i+1)*int(score) for i, (_, score) in enumerate(ordered))\n",
    "\n",
    "day7(data7)"
   ]
  },
  {
   "cell_type": "code",
   "execution_count": 35,
   "metadata": {},
   "outputs": [
    {
     "data": {
      "text/plain": [
       "[['32T3K', '765'],\n",
       " ['T55J5', '684'],\n",
       " ['KK677', '28'],\n",
       " ['KTJJT', '220'],\n",
       " ['QQQJA', '483']]"
      ]
     },
     "execution_count": 35,
     "metadata": {},
     "output_type": "execute_result"
    }
   ],
   "source": [
    "data7"
   ]
  }
 ],
 "metadata": {
  "kernelspec": {
   "display_name": ".venv",
   "language": "python",
   "name": "python3"
  },
  "language_info": {
   "codemirror_mode": {
    "name": "ipython",
    "version": 3
   },
   "file_extension": ".py",
   "mimetype": "text/x-python",
   "name": "python",
   "nbconvert_exporter": "python",
   "pygments_lexer": "ipython3",
   "version": "3.12.0"
  },
  "orig_nbformat": 4
 },
 "nbformat": 4,
 "nbformat_minor": 2
}
