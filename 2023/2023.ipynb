{
 "cells": [
  {
   "cell_type": "code",
   "execution_count": 1,
   "metadata": {},
   "outputs": [],
   "source": [
    "from collections import defaultdict, Counter, deque\n",
    "from intervaltree import Interval, IntervalTree\n",
    "import itertools\n",
    "import functools\n",
    "import math\n",
    "import numpy as np\n",
    "import re\n",
    "from typing import Callable, TypeVar\n",
    "\n",
    "np.set_printoptions(edgeitems=30, linewidth=100000, \n",
    "    formatter=dict(float=lambda x: \"%.3g\" % x))\n",
    "\n",
    "T = TypeVar('T')\n",
    "\n",
    "def data(day: int, parser: Callable[[str], T] = str) -> list[T]:\n",
    "  with open(f\"./data/day{day}.txt\") as f:\n",
    "    return [parser(line.strip()) for line in f.readlines()]"
   ]
  },
  {
   "cell_type": "code",
   "execution_count": 99,
   "metadata": {},
   "outputs": [
    {
     "name": "stdout",
     "output_type": "stream",
     "text": [
      "55816\n"
     ]
    },
    {
     "data": {
      "text/plain": [
       "54980"
      ]
     },
     "execution_count": 99,
     "metadata": {},
     "output_type": "execute_result"
    }
   ],
   "source": [
    "data1 = data(1)\n",
    "\n",
    "def day1(match):\n",
    "    sum = 0\n",
    "    for line in data1:\n",
    "        matched = match(line)\n",
    "        first, last = matched[0], matched[-1]\n",
    "        # print(first, last, sum)\n",
    "        sum += int(first + last)\n",
    "    return sum\n",
    "\n",
    "print(day1(lambda x: re.findall(r'\\d', x)))\n",
    "\n",
    "def part2match(x):\n",
    "    change = {\n",
    "        'one': '1',\n",
    "        'two': '2',\n",
    "        'three': '3',\n",
    "        'four': '4',\n",
    "        'five': '5',\n",
    "        'six': '6',\n",
    "        'seven': '7',\n",
    "        'eight': '8',\n",
    "        'nine': '9',\n",
    "    }\n",
    "    matched = re.findall(r'(?=(\\d|one|two|three|four|five|six|seven|eight|nine))', x)\n",
    "    return [change[match] if match in change else match for match in matched]\n",
    "\n",
    "day1(part2match)\n",
    "    "
   ]
  },
  {
   "cell_type": "code",
   "execution_count": 56,
   "metadata": {},
   "outputs": [
    {
     "name": "stdout",
     "output_type": "stream",
     "text": [
      "2377\n"
     ]
    },
    {
     "data": {
      "text/plain": [
       "71220"
      ]
     },
     "execution_count": 56,
     "metadata": {},
     "output_type": "execute_result"
    }
   ],
   "source": [
    "def format2(line):\n",
    "    def tuplefy(round):\n",
    "        result = [0,0,0]\n",
    "        for i in round:\n",
    "            result[0 if 'blue' in i else 1 if 'green' in i else 2] += int(i.split(' ')[0])\n",
    "        return result\n",
    "\n",
    "    line = line.split(': ')[-1]\n",
    "    rounds = line.split('; ' )\n",
    "    return np.array([tuplefy(x.split(', ')) for x in rounds])\n",
    "\n",
    "data2 = data(2, format2)\n",
    "\n",
    "def day2_1(start):\n",
    "    result = 0\n",
    "    for i, game in enumerate(data2):\n",
    "        possible = np.subtract(start, game)\n",
    "        if np.any(possible < 0):\n",
    "            continue\n",
    "        result += i+1\n",
    "    return result\n",
    "\n",
    "print(day2_1((14, 13, 12)))\n",
    "\n",
    "def day2_2():\n",
    "    result = 0\n",
    "    for game in data2:\n",
    "        requirements = np.amax(game, axis=0)\n",
    "        result += functools.reduce(lambda x, y: x*y, requirements, 1)\n",
    "    return result\n",
    "\n",
    "day2_2()"
   ]
  },
  {
   "cell_type": "code",
   "execution_count": 130,
   "metadata": {},
   "outputs": [
    {
     "data": {
      "text/plain": [
       "(521515, 69527306)"
      ]
     },
     "execution_count": 130,
     "metadata": {},
     "output_type": "execute_result"
    }
   ],
   "source": [
    "data3 = data(3)\n",
    "\n",
    "def day3():\n",
    "    numbers = []\n",
    "    for i, line in enumerate(data3):\n",
    "        numbers += [(m.group(), (i, m.start())) for m in re.finditer(r'\\d+', line)]\n",
    "\n",
    "    array3 = np.pad(np.array([list(line) for line in data3]), ((1, 1), (1, 1)), constant_values='.')\n",
    "    gears = defaultdict(lambda: [])\n",
    "\n",
    "    part1 = 0\n",
    "    for n, (i, j) in numbers:\n",
    "        sliced = array3[i:i+3, j:j+2+len(n)]\n",
    "        stringified =  ''.join(''.join(x) for x in sliced)\n",
    "        if re.search(r'[^\\d.]', stringified):\n",
    "            part1 += int(n)\n",
    "        if stars := np.where(sliced == '*'):\n",
    "            for x, _ in enumerate(stars[0]):\n",
    "                gears[(i+stars[0][x], j+stars[1][x])].append(int(n))\n",
    "\n",
    "    part2 = 0\n",
    "    for g in gears:\n",
    "        if len(gears[g]) == 2:\n",
    "            part2 += gears[g][0] * gears[g][1]\n",
    "\n",
    "    return part1, part2\n",
    "\n",
    "day3()"
   ]
  },
  {
   "cell_type": "code",
   "execution_count": 5,
   "metadata": {},
   "outputs": [
    {
     "data": {
      "text/plain": [
       "(25651, 19499881)"
      ]
     },
     "execution_count": 5,
     "metadata": {},
     "output_type": "execute_result"
    }
   ],
   "source": [
    "def parse4(line):\n",
    "    winning, have = map(\n",
    "        lambda numbers: {int(x) for x in numbers.split()},\n",
    "        line.split(':')[-1].split('|')\n",
    "    )\n",
    "    return winning, have\n",
    "\n",
    "data4 = data(4, parse4)\n",
    "\n",
    "def day4(data):\n",
    "    result, cards = 0, Counter()\n",
    "    for i, line in enumerate(data):\n",
    "        matches = line[0].intersection(line[1])\n",
    "        if matches:\n",
    "            result += 2**(len(matches)-1)\n",
    "        for n in range(len(matches)):\n",
    "            cards[i+1+n] += cards[i]+1\n",
    "    return result, cards.total() + len(data)\n",
    "\n",
    "day4(data4)\n"
   ]
  },
  {
   "cell_type": "code",
   "execution_count": 55,
   "metadata": {},
   "outputs": [
    {
     "data": {
      "text/plain": [
       "(1181555926, 37806486)"
      ]
     },
     "execution_count": 55,
     "metadata": {},
     "output_type": "execute_result"
    }
   ],
   "source": [
    "debug=False\n",
    "\n",
    "def day5_maps(data):\n",
    "    names, maps = [], []\n",
    "\n",
    "    def create_map(lines):\n",
    "        ranges = IntervalTree([Interval(0, math.inf)])\n",
    "        name = lines[0].split()[0]\n",
    "        for i, line in enumerate(lines[1:]):\n",
    "            if not line:\n",
    "                break\n",
    "            dest, source, size = map(int, line.split())\n",
    "            ranges.chop(source, source+size)\n",
    "            ranges[source:source+size] = dest\n",
    "        return name, ranges, lines[i+2:]\n",
    "\n",
    "    seeds, data = map(int, data[0].split(': ')[-1].split()), data[2:]\n",
    "\n",
    "    while len(data):\n",
    "        name, intervals, data = create_map(data)\n",
    "        names.append(name)\n",
    "        maps.append(intervals)\n",
    "\n",
    "    return list(seeds), maps, names\n",
    "\n",
    "seeds, intervals, names = day5_maps(data(5))\n",
    "\n",
    "def day5_1(seeds, data):\n",
    "    lowest = math.inf\n",
    "    for seed in seeds:\n",
    "        for interval in data:\n",
    "            start, end, dest = next(iter(interval.at(seed)))\n",
    "            seed = seed if dest is None else (seed-start)+dest\n",
    "        lowest = min(lowest, seed)\n",
    "    return lowest\n",
    "\n",
    "def day5_2(seeds, data):\n",
    "    seedrange = IntervalTree([Interval(start, start+size) for start, size in zip(seeds[::2], seeds[1::2])])\n",
    "    seedrange.merge_overlaps()\n",
    "\n",
    "    for i, interval in enumerate(data):\n",
    "        newrange = IntervalTree()\n",
    "        if debug:\n",
    "            print(names[i], seedrange, interval)\n",
    "        for (seedstart, seedend, _) in seedrange:\n",
    "            intersections = interval[seedstart:seedend]\n",
    "            for (start, end, dest) in intersections:\n",
    "                newstart = (dest + max(seedstart, start)-start) if dest is not None else seedstart\n",
    "                newend = (dest + min(seedend, end)-start) if dest is not None else seedend\n",
    "                newrange.addi(newstart, newend)\n",
    "        newrange.merge_overlaps()\n",
    "        seedrange = newrange\n",
    "        \n",
    "    lowest = min([loc[0] for loc in seedrange])\n",
    "    return lowest\n",
    "\n",
    "day5_1(seeds, intervals), day5_2(seeds, intervals)\n"
   ]
  },
  {
   "cell_type": "code",
   "execution_count": 38,
   "metadata": {},
   "outputs": [
    {
     "data": {
      "text/plain": [
       "(252000, 36992486)"
      ]
     },
     "execution_count": 38,
     "metadata": {},
     "output_type": "execute_result"
    }
   ],
   "source": [
    "data6 = data(6, lambda x: list(map(int, x.split(':')[-1].split())))\n",
    "\n",
    "def day6(times, distances):\n",
    "    result = []\n",
    "    for t, d in zip(times, distances):\n",
    "        # (t-x)*x = d+1\n",
    "        # -x**2 +xt -d-1 = 0\n",
    "        a, b, c = -1, t, -d-1\n",
    "        det = math.sqrt(b**2 - 4*a*c)\n",
    "        if det < 0:\n",
    "            continue\n",
    "        zeros = (-b+det)/(2*a), (-b-det)/(2*a)\n",
    "        floor, ceil = math.ceil(min(zeros)), math.floor(max(zeros))\n",
    "        result.append(ceil-floor+1)\n",
    "    return functools.reduce(lambda x, y: x*y, result, 1)\n",
    "\n",
    "day6(*data6), day6(*[[int(''.join(map(str, x)))] for x in data6])"
   ]
  },
  {
   "cell_type": "code",
   "execution_count": 53,
   "metadata": {},
   "outputs": [
    {
     "data": {
      "text/plain": [
       "(248812215, 250057090)"
      ]
     },
     "execution_count": 53,
     "metadata": {},
     "output_type": "execute_result"
    }
   ],
   "source": [
    "data7 = data(7, lambda x: x.split())\n",
    "\n",
    "def card_ord(card, flag=False):\n",
    "    match card:\n",
    "        case 'T': return 10\n",
    "        case 'J': return 1 if flag else 11\n",
    "        case 'Q': return 12\n",
    "        case 'K': return 13\n",
    "        case 'A': return 14\n",
    "    return int(card)\n",
    "\n",
    "def score_hand(hand, flag=False):\n",
    "    cards = [card_ord(card, flag) for card in hand]\n",
    "    if flag:\n",
    "        filtered = Counter(hand.replace('J', ''))\n",
    "        hand = hand.replace('J', filtered.most_common(1)[0][0] if filtered else 'A')\n",
    "\n",
    "    counts = Counter(hand)\n",
    "    score = sum([counts[x]**2 for x in counts])\n",
    "    return [score]+cards\n",
    "\n",
    "def day7(data, flag=False):\n",
    "    key = lambda x: score_hand(x[0], flag)\n",
    "    ordered = sorted(data, key=key)\n",
    "    return sum((i+1)*int(score) for i, (_, score) in enumerate(ordered))\n",
    "\n",
    "day7(data7), day7(data7, True)"
   ]
  },
  {
   "cell_type": "code",
   "execution_count": 69,
   "metadata": {},
   "outputs": [
    {
     "data": {
      "text/plain": [
       "18673"
      ]
     },
     "execution_count": 69,
     "metadata": {},
     "output_type": "execute_result"
    }
   ],
   "source": [
    "def parse8(data):\n",
    "    instructions, nodes = data[0], {}\n",
    "    for line in data[2:]:\n",
    "        start, l, r = re.findall(r'(.{3}) = \\((.{3}), (.{3})\\)', line)[0] \n",
    "        nodes[start] = (l, r)\n",
    "    return instructions, nodes\n",
    "\n",
    "data8 = parse8(data(8))\n",
    "\n",
    "def day8(instructions, nodes, start, ends):\n",
    "    count, node = 0, start\n",
    "    for i in itertools.cycle(instructions):\n",
    "        node = nodes[node][0 if i == 'L' else 1]\n",
    "        count +=1\n",
    "        if ends(node):\n",
    "            break\n",
    "    return count\n",
    "\n",
    "day8(*data8, 'AAA', lambda x: x == 'ZZZ')"
   ]
  },
  {
   "cell_type": "code",
   "execution_count": 70,
   "metadata": {},
   "outputs": [
    {
     "data": {
      "text/plain": [
       "17972669116327"
      ]
     },
     "execution_count": 70,
     "metadata": {},
     "output_type": "execute_result"
    }
   ],
   "source": [
    "def day8_2(instructions, nodes):\n",
    "    results = []\n",
    "    for start in filter(lambda x: re.match(r'..A', x), nodes):\n",
    "        results.append(day8(instructions, nodes, start, lambda x: re.match(r'..Z', x)))\n",
    "    return math.lcm(*results)\n",
    "\n",
    "day8_2(*data8)"
   ]
  },
  {
   "cell_type": "code",
   "execution_count": 52,
   "metadata": {},
   "outputs": [
    {
     "data": {
      "text/plain": [
       "(2008960228, 1097)"
      ]
     },
     "execution_count": 52,
     "metadata": {},
     "output_type": "execute_result"
    }
   ],
   "source": [
    "data9 = data(9, lambda line: [int(x) for x in line.split()])\n",
    "\n",
    "def determine_steps(arr, i=-1):\n",
    "    steps = [arr[i]]\n",
    "    while len(np.unique(arr)) > 1:\n",
    "        arr = np.diff(arr)\n",
    "        steps.append(arr[i])\n",
    "    return steps\n",
    "\n",
    "def day9(data, part2=False):\n",
    "    part1, part2 = 0, 0\n",
    "    for history in data:\n",
    "        steps = determine_steps(np.array(history)), determine_steps(np.array(history), 0)\n",
    "        part1 += sum(steps[0])\n",
    "        part2 += sum(steps[1][::2]) - sum(steps[1][1::2])\n",
    "    return part1, part2\n",
    "\n",
    "day9(data9)"
   ]
  },
  {
   "cell_type": "code",
   "execution_count": 81,
   "metadata": {},
   "outputs": [
    {
     "data": {
      "text/plain": [
       "(6882, 491)"
      ]
     },
     "execution_count": 81,
     "metadata": {},
     "output_type": "execute_result"
    }
   ],
   "source": [
    "data10 = np.array(data(10, list))\n",
    "\n",
    "pipe_map = {\n",
    "    '|': [(0, -1), (0, 1)],\n",
    "    '-': [(-1, 0), (1, 0)],\n",
    "    'L': [(0, -1), (1, 0)],\n",
    "    'J': [(0, -1), (-1, 0)],\n",
    "    '7': [(0, 1), (-1, 0)],\n",
    "    'F': [(0, 1), (1, 0)],\n",
    "}\n",
    "\n",
    "def pipe_neighbors(pipe, x, y):\n",
    "    if pipe not in pipe_map:\n",
    "        return\n",
    "    for i in pipe_map[pipe]:\n",
    "        yield (x+i[0], y+i[1])\n",
    "\n",
    "def get_neighbors(x, y):\n",
    "    return [(x-1, y), (x+1, y), (x, y+1), (x, y-1)]\n",
    "\n",
    "def fix_pipe_start(arr):    \n",
    "    start_coords = np.where(arr == 'S')\n",
    "    y, x = start_coords[0][0], start_coords[1][0]\n",
    "\n",
    "    neighbors = []\n",
    "    for i, j in get_neighbors(x, y):\n",
    "        if (x, y) in pipe_neighbors(data10[j, i], i, j):\n",
    "            neighbors.append((i-x, j-y))\n",
    "    for pipe in pipe_map.keys():\n",
    "        if frozenset(pipe_map[pipe]) == frozenset(neighbors):\n",
    "            arr[y, x] = pipe\n",
    "    return x, y\n",
    "\n",
    "def dijkstra(nodes, start, get_neighbors, end_condition=lambda _: False):\n",
    "    q, visited = deque([(start, 0)]), {}\n",
    "    while q:\n",
    "        current, distance = q.popleft()\n",
    "        if end_condition(current):\n",
    "            return visited, current\n",
    "        if current in visited:\n",
    "            continue\n",
    "        for node in get_neighbors(nodes, current):\n",
    "            q.append((node, distance+1))\n",
    "        visited[current] = distance\n",
    "    return visited, None\n",
    "\n",
    "def visualize(arr, vmap):\n",
    "    visual = arr.copy()\n",
    "    for x, y in vmap:\n",
    "        visual[y, x] = vmap[(x, y)]\n",
    "    print(visual)\n",
    "\n",
    "def day10_1(data):\n",
    "    arr = data.copy()\n",
    "    start = fix_pipe_start(arr)\n",
    "    visited, _ = dijkstra(data, start, lambda _, coords: pipe_neighbors(arr[coords[1], coords[0]], *coords))\n",
    "    # visualize(arr, visited)\n",
    "    return visited\n",
    "\n",
    "def day10(data):\n",
    "    visited = day10_1(data)\n",
    "\n",
    "    claimed = {}\n",
    "    for y, row in enumerate(data):\n",
    "        inside = False\n",
    "        for x, pipe in enumerate(row):\n",
    "            if (x, y) in visited:\n",
    "                if pipe in 'LJ|':\n",
    "                    # If pipe is part of path and is north: taken from https://old.reddit.com/r/adventofcode/comments/18fgddy/2023_day_10_part_2_using_a_rendering_algorithm_to/\n",
    "                    inside ^= True \n",
    "            elif inside:\n",
    "                claimed[(x, y)] = 'I'\n",
    "    # visualize(data, claimed)\n",
    "\n",
    "    return max(visited.values()), len(claimed)\n",
    "\n",
    "day10(data10)\n"
   ]
  },
  {
   "cell_type": "code",
   "execution_count": 66,
   "metadata": {},
   "outputs": [
    {
     "data": {
      "text/plain": [
       "Counter({1000000: 742305960572, 2: 9445168})"
      ]
     },
     "execution_count": 66,
     "metadata": {},
     "output_type": "execute_result"
    }
   ],
   "source": [
    "data11 = np.array(data(11, list))\n",
    "\n",
    "def day11(data, expansions):\n",
    "    cols, rows = [IntervalTree([Interval(x, x+1) for x in np.where(np.all(data == '.', axis=i))[0]]) for i in range(2)]\n",
    "\n",
    "    galaxies = np.where(data == '#')\n",
    "\n",
    "    results = Counter()\n",
    "    for a, b in itertools.combinations(range(len(galaxies[0])), 2):\n",
    "        xs, ys = Interval(galaxies[0][a], galaxies[0][b]), Interval(*sorted([galaxies[1][a], galaxies[1][b]]))\n",
    "        empties = len(cols[ys[0]:ys[1]]) + len(rows[xs[0]:xs[1]])\n",
    "        distance = ys[1]-ys[0] + xs[1]-xs[0]\n",
    "        for expansion in expansions:\n",
    "            results[expansion] += distance + empties * (expansion-1)\n",
    "    return results\n",
    "\n",
    "day11(data11, [2, 1000000])"
   ]
  },
  {
   "cell_type": "code",
   "execution_count": 51,
   "metadata": {},
   "outputs": [
    {
     "data": {
      "text/plain": [
       "(7857, 28606137449920)"
      ]
     },
     "execution_count": 51,
     "metadata": {},
     "output_type": "execute_result"
    }
   ],
   "source": [
    "def parse12(line):\n",
    "    springs, conditions = line.split(' ')\n",
    "    return springs, tuple(map(int, conditions.split(',')))\n",
    "\n",
    "data12 = data(12, parse12)\n",
    "\n",
    "@functools.lru_cache()\n",
    "def fix_records(line, numbers, active=0):\n",
    "    if not numbers:\n",
    "        return 0 if '#' in line else 1\n",
    "    if not line:\n",
    "        return 0\n",
    "    n, nt = numbers[0], numbers[1:]\n",
    "    head, tail = line[0], line[1:]\n",
    "    if head == '.':\n",
    "        if active:\n",
    "            if n > 0:\n",
    "                return 0\n",
    "            return fix_records(tail, nt)\n",
    "        return fix_records(tail, numbers)\n",
    "    elif head == '#':\n",
    "        if n == 0:\n",
    "            return 0\n",
    "        return fix_records(tail, (n-1, *nt), active+1)\n",
    "    else:\n",
    "        return fix_records('.'+tail, numbers, active) + fix_records('#'+tail, numbers, active)\n",
    "\n",
    "def sum_records(data, n=1):\n",
    "    result = 0\n",
    "    for spring, numbers in data:\n",
    "        result += fix_records('?'.join([spring]*n) + '.', numbers*n)\n",
    "        # print(spring*n, numbers*n, result)\n",
    "    return result\n",
    "\n",
    "def day12(data):\n",
    "    return sum_records(data), sum_records(data, 5)\n",
    "\n",
    "day12(data12)"
   ]
  },
  {
   "cell_type": "code",
   "execution_count": 59,
   "metadata": {},
   "outputs": [
    {
     "data": {
      "text/plain": [
       "[array([['#', '.', '#', '#', '.', '.', '#', '#', '.'],\n",
       "        ['.', '.', '#', '.', '#', '#', '.', '#', '.'],\n",
       "        ['#', '#', '.', '.', '.', '.', '.', '.', '#'],\n",
       "        ['#', '#', '.', '.', '.', '.', '.', '.', '#'],\n",
       "        ['.', '.', '#', '.', '#', '#', '.', '#', '.'],\n",
       "        ['.', '.', '#', '#', '.', '.', '#', '#', '.'],\n",
       "        ['#', '.', '#', '.', '#', '#', '.', '#', '.']], dtype='<U1'),\n",
       " array([['#', '.', '.', '.', '#', '#', '.', '.', '#'],\n",
       "        ['#', '.', '.', '.', '.', '#', '.', '.', '#'],\n",
       "        ['.', '.', '#', '#', '.', '.', '#', '#', '#'],\n",
       "        ['#', '#', '#', '#', '#', '.', '#', '#', '.'],\n",
       "        ['#', '#', '#', '#', '#', '.', '#', '#', '.'],\n",
       "        ['.', '.', '#', '#', '.', '.', '#', '#', '#'],\n",
       "        ['#', '.', '.', '.', '.', '#', '.', '.', '#']], dtype='<U1')]"
      ]
     },
     "execution_count": 59,
     "metadata": {},
     "output_type": "execute_result"
    }
   ],
   "source": [
    "def parse13(lines):\n",
    "    result = []\n",
    "    for i, line in enumerate(lines):\n",
    "        line = line.strip()\n",
    "        if not line:\n",
    "            return result, lines[i+1:]\n",
    "        else:\n",
    "            result.append(list(line))\n",
    "    return result, []\n",
    "\n",
    "def get13():\n",
    "    patterns = []\n",
    "    with open(f\"./data/day13.txt\") as f:\n",
    "        lines = f.readlines()\n",
    "        while lines:\n",
    "            pattern, lines = parse13(lines)\n",
    "            patterns.append(np.array(pattern))\n",
    "    return patterns\n",
    "\n",
    "data13 = get13()\n",
    "data13"
   ]
  },
  {
   "cell_type": "code",
   "execution_count": 62,
   "metadata": {},
   "outputs": [],
   "source": [
    "pattern = data13[0]\n",
    "t = np.transpose(pattern)\n",
    "\n",
    "matchv, matchh = defaultdict(lambda: set()), defaultdict(lambda: set())\n",
    "\n",
    "def get_matches(pattern):\n",
    "    matches = defaultdict(lambda: set())\n",
    "    for i in range(len(pattern)):\n",
    "        for j in range(i+1, len(pattern)):\n",
    "            if np.all(pattern[i]==pattern[j]):\n",
    "                matches[i].add(j)\n",
    "                matches[j].add(i)\n",
    "    return matches\n",
    "\n",
    "matchv, matchh = get_matches(pattern), get_matches(t)\n"
   ]
  },
  {
   "cell_type": "code",
   "execution_count": 78,
   "metadata": {},
   "outputs": [
    {
     "name": "stdout",
     "output_type": "stream",
     "text": [
      "9\n",
      "0 1 0\n",
      "1 2 0\n",
      "1 3 1\n",
      "2 3 0\n",
      "2 4 1\n",
      "2 5 2\n",
      "3 4 0\n",
      "3 5 1\n",
      "3 6 2\n",
      "3 7 3\n",
      "4 5 1\n",
      "4 6 2\n",
      "4 7 3\n",
      "4 8 4\n",
      "5 6 3\n",
      "5 7 4\n",
      "5 8 5\n",
      "6 7 5\n",
      "6 8 6\n",
      "7 8 7\n"
     ]
    }
   ],
   "source": [
    "\n",
    "def check_reflections(pattern, matches):\n",
    "    length = len(pattern)\n",
    "    print(length)\n",
    "    for i in range(length):\n",
    "        for j in range(i+1, min(length, 2*(i+1))):\n",
    "            \n",
    "            print(i, j, j-min(i+1, length-i-1))\n",
    "\n",
    "check_reflections(t, matchv)"
   ]
  },
  {
   "cell_type": "code",
   "execution_count": 28,
   "metadata": {},
   "outputs": [
    {
     "data": {
      "text/plain": [
       "(array([['#.##..##.'],\n",
       "        ['..#.##.#.'],\n",
       "        ['##......#'],\n",
       "        ['##......#'],\n",
       "        ['..#.##.#.'],\n",
       "        ['..##..##.'],\n",
       "        ['#.#.##.#.']], dtype='<U9'),\n",
       " array([['#.#.##.#.'],\n",
       "        ['..##..##.'],\n",
       "        ['..#.##.#.'],\n",
       "        ['##......#'],\n",
       "        ['##......#'],\n",
       "        ['..#.##.#.'],\n",
       "        ['#.##..##.']], dtype='<U9'),\n",
       " array([['#.##..##.'],\n",
       "        ['..#.##.#.'],\n",
       "        ['##......#'],\n",
       "        ['##......#'],\n",
       "        ['..#.##.#.'],\n",
       "        ['..##..##.'],\n",
       "        ['#.#.##.#.']], dtype='<U9'))"
      ]
     },
     "execution_count": 28,
     "metadata": {},
     "output_type": "execute_result"
    }
   ],
   "source": [
    "data13[0], np.flipud(data13[0]), np.fliplr(data13[0])\n",
    "\n",
    "1 - 2 (8)\n",
    "12-34 (67)\n",
    "123-456 (456)\n",
    "1234-5678 (2345)\n",
    "2345-6789 (1234)\n",
    "456-789 (123)\n",
    "67 - 89 (12)\n",
    "8 - 9 (1)"
   ]
  },
  {
   "cell_type": "code",
   "execution_count": 27,
   "metadata": {},
   "outputs": [
    {
     "data": {
      "text/plain": [
       "array([['#.#.##.#.'],\n",
       "       ['..##..##.'],\n",
       "       ['..#.##.#.'],\n",
       "       ['##......#'],\n",
       "       ['##......#'],\n",
       "       ['..#.##.#.'],\n",
       "       ['#.##..##.']], dtype='<U9')"
      ]
     },
     "execution_count": 27,
     "metadata": {},
     "output_type": "execute_result"
    }
   ],
   "source": []
  },
  {
   "cell_type": "code",
   "execution_count": 17,
   "metadata": {},
   "outputs": [
    {
     "data": {
      "text/plain": [
       "[array([['#.##..##.'],\n",
       "        ['..#.##.#.'],\n",
       "        ['##......#'],\n",
       "        ['##......#'],\n",
       "        ['..#.##.#.'],\n",
       "        ['..##..##.'],\n",
       "        ['#.#.##.#.']], dtype='<U9'),\n",
       " array([['#...##..#'],\n",
       "        ['#....#..#'],\n",
       "        ['..##..###'],\n",
       "        ['#####.##.'],\n",
       "        ['#####.##.'],\n",
       "        ['..##..###'],\n",
       "        ['#....#..#']], dtype='<U9')]"
      ]
     },
     "execution_count": 17,
     "metadata": {},
     "output_type": "execute_result"
    }
   ],
   "source": [
    "\n",
    "def count_reflections(pattern):\n",
    "    \n",
    "\n",
    "def day13(data):\n",
    "    for pattern in data:\n",
    "        count_reflections(pattern)\n",
    "\n",
    "\n",
    "day13(data13)"
   ]
  }
 ],
 "metadata": {
  "kernelspec": {
   "display_name": ".venv",
   "language": "python",
   "name": "python3"
  },
  "language_info": {
   "codemirror_mode": {
    "name": "ipython",
    "version": 3
   },
   "file_extension": ".py",
   "mimetype": "text/x-python",
   "name": "python",
   "nbconvert_exporter": "python",
   "pygments_lexer": "ipython3",
   "version": "3.12.0"
  },
  "orig_nbformat": 4
 },
 "nbformat": 4,
 "nbformat_minor": 2
}
