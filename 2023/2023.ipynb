{
 "cells": [
  {
   "cell_type": "code",
   "execution_count": 94,
   "metadata": {},
   "outputs": [],
   "source": [
    "from collections import defaultdict, Counter\n",
    "from intervaltree import Interval, IntervalTree\n",
    "import itertools\n",
    "import functools\n",
    "import math\n",
    "import numpy as np\n",
    "import re\n",
    "from typing import Callable, TypeVar\n",
    "\n",
    "T = TypeVar('T')\n",
    "\n",
    "def data(day: int, parser: Callable[[str], T] = str) -> list[T]:\n",
    "  with open(f\"./data/day{day}.txt\") as f:\n",
    "    return [parser(line.strip()) for line in f.readlines()]"
   ]
  },
  {
   "cell_type": "code",
   "execution_count": 99,
   "metadata": {},
   "outputs": [
    {
     "name": "stdout",
     "output_type": "stream",
     "text": [
      "55816\n"
     ]
    },
    {
     "data": {
      "text/plain": [
       "54980"
      ]
     },
     "execution_count": 99,
     "metadata": {},
     "output_type": "execute_result"
    }
   ],
   "source": [
    "data1 = data(1)\n",
    "\n",
    "def day1(match):\n",
    "    sum = 0\n",
    "    for line in data1:\n",
    "        matched = match(line)\n",
    "        first, last = matched[0], matched[-1]\n",
    "        # print(first, last, sum)\n",
    "        sum += int(first + last)\n",
    "    return sum\n",
    "\n",
    "print(day1(lambda x: re.findall(r'\\d', x)))\n",
    "\n",
    "def part2match(x):\n",
    "    change = {\n",
    "        'one': '1',\n",
    "        'two': '2',\n",
    "        'three': '3',\n",
    "        'four': '4',\n",
    "        'five': '5',\n",
    "        'six': '6',\n",
    "        'seven': '7',\n",
    "        'eight': '8',\n",
    "        'nine': '9',\n",
    "    }\n",
    "    matched = re.findall(r'(?=(\\d|one|two|three|four|five|six|seven|eight|nine))', x)\n",
    "    return [change[match] if match in change else match for match in matched]\n",
    "\n",
    "day1(part2match)\n",
    "    "
   ]
  },
  {
   "cell_type": "code",
   "execution_count": 148,
   "metadata": {},
   "outputs": [
    {
     "name": "stdout",
     "output_type": "stream",
     "text": [
      "2377\n"
     ]
    },
    {
     "data": {
      "text/plain": [
       "71220"
      ]
     },
     "execution_count": 148,
     "metadata": {},
     "output_type": "execute_result"
    }
   ],
   "source": [
    "def format2(line):\n",
    "    def tuplefy(round):\n",
    "        result = [0,0,0]\n",
    "        for i in round:\n",
    "            result[0 if 'blue' in i else 1 if 'green' in i else 2] += int(i.split(' ')[0])\n",
    "        return result\n",
    "\n",
    "    line = line.split(': ')[-1]\n",
    "    rounds = line.split('; ' )\n",
    "    return np.array([tuplefy(x.split(', ')) for x in rounds])\n",
    "\n",
    "data2 = data(2, format2)\n",
    "\n",
    "def day2_1(start):\n",
    "    result = 0\n",
    "    for i, game in enumerate(data2):\n",
    "        possible = np.subtract(start, game)\n",
    "        if np.any(possible < 0):\n",
    "            continue\n",
    "        result += i+1\n",
    "    return result\n",
    "\n",
    "print(day2_1((14, 13, 12)))\n",
    "\n",
    "def day2_2():\n",
    "    result = 0\n",
    "    for game in data2:\n",
    "        requirements = np.amax(game, axis=0)\n",
    "        result += functools.reduce(lambda x, y: x*y, requirements, 1)\n",
    "    return result\n",
    "day2_2()"
   ]
  },
  {
   "cell_type": "code",
   "execution_count": 130,
   "metadata": {},
   "outputs": [
    {
     "data": {
      "text/plain": [
       "(521515, 69527306)"
      ]
     },
     "execution_count": 130,
     "metadata": {},
     "output_type": "execute_result"
    }
   ],
   "source": [
    "data3 = data(3)\n",
    "\n",
    "def day3():\n",
    "    numbers = []\n",
    "    for i, line in enumerate(data3):\n",
    "        numbers += [(m.group(), (i, m.start())) for m in re.finditer(r'\\d+', line)]\n",
    "\n",
    "    array3 = np.pad(np.array([list(line) for line in data3]), ((1, 1), (1, 1)), constant_values='.')\n",
    "    gears = defaultdict(lambda: [])\n",
    "\n",
    "    part1 = 0\n",
    "    for n, (i, j) in numbers:\n",
    "        sliced = array3[i:i+3, j:j+2+len(n)]\n",
    "        stringified =  ''.join(''.join(x) for x in sliced)\n",
    "        if re.search(r'[^\\d.]', stringified):\n",
    "            part1 += int(n)\n",
    "        if stars := np.where(sliced == '*'):\n",
    "            for x, _ in enumerate(stars[0]):\n",
    "                gears[(i+stars[0][x], j+stars[1][x])].append(int(n))\n",
    "\n",
    "    part2 = 0\n",
    "    for g in gears:\n",
    "        if len(gears[g]) == 2:\n",
    "            part2 += gears[g][0] * gears[g][1]\n",
    "\n",
    "    return part1, part2\n",
    "\n",
    "day3()"
   ]
  },
  {
   "cell_type": "code",
   "execution_count": 5,
   "metadata": {},
   "outputs": [
    {
     "data": {
      "text/plain": [
       "(25651, 19499881)"
      ]
     },
     "execution_count": 5,
     "metadata": {},
     "output_type": "execute_result"
    }
   ],
   "source": [
    "def parse4(line):\n",
    "    winning, have = map(\n",
    "        lambda numbers: {int(x) for x in numbers.split()},\n",
    "        line.split(':')[-1].split('|')\n",
    "    )\n",
    "    return winning, have\n",
    "\n",
    "data4 = data(4, parse4)\n",
    "\n",
    "def day4(data):\n",
    "    result, cards = 0, Counter()\n",
    "    for i, line in enumerate(data):\n",
    "        matches = line[0].intersection(line[1])\n",
    "        if matches:\n",
    "            result += 2**(len(matches)-1)\n",
    "        for n in range(len(matches)):\n",
    "            cards[i+1+n] += cards[i]+1\n",
    "    return result, cards.total() + len(data)\n",
    "\n",
    "day4(data4)\n"
   ]
  },
  {
   "cell_type": "code",
   "execution_count": 172,
   "metadata": {},
   "outputs": [
    {
     "data": {
      "text/plain": [
       "IntervalTree([Interval(0, 1), Interval(10, 1000)])"
      ]
     },
     "execution_count": 172,
     "metadata": {},
     "output_type": "execute_result"
    }
   ],
   "source": [
    "a =  IntervalTree([Interval(0, 1000)])\n",
    "a.chop(1, 10)\n",
    "a"
   ]
  },
  {
   "cell_type": "code",
   "execution_count": 224,
   "metadata": {},
   "outputs": [
    {
     "name": "stdout",
     "output_type": "stream",
     "text": [
      "[IntervalTree([Interval(0, 257757572, 77244511), Interval(257757572, 453310112, 391285622), Interval(453310112, 512210869, 18343754), Interval(512210869, 568494408, 335002083), Interval(568494408, 586838162, 0), Interval(586838162, 605476380), Interval(605476380, 762191092, 2070957389), Interval(762191092, 897735089, 3100147259), Interval(897735089, 919745076, 3242241597), Interval(919745076, 1015585345, 2227672101), Interval(1015585345, 1297982331, 2323512370), Interval(1297982331, 1392195671, 2605909356), Interval(1392195671, 2139601898, 3547561069), Interval(2139601898, 2186640160, 2022435244), Interval(2186640160, 2348990120, 826809686), Interval(2348990120, 2355540461, 3235691256), Interval(2355540461, 2633818373, 2821869347), Interval(2633818373, 3166958320, 1112103608), Interval(3166958320, 3544150009, 1645243555), Interval(3544150009, 3732587455, 605476380), Interval(3732587455, 3734071338, 2069473506), Interval(3734071338, 4017380823, 3264251584), Interval(4017380823, 4050276683, 793913826), Interval(4050276683, 4172023334, 2700122696), Interval(4172023334, 4294967296, 989159646), Interval(4294967296, inf)]), IntervalTree([Interval(0, 64378064, 1707369117), Interval(64378064, 141187887, 1771747181), Interval(141187887, 146631744, 1423277199), Interval(146631744, 225725288, 1509244859), Interval(225725288, 281588807, 1428721056), Interval(281588807, 435059068, 291046304), Interval(435059068, 627028119, 927520818), Interval(627028119, 627178642, 1588338403), Interval(627178642, 918224946, 0), Interval(918224946, 1222012276, 1119489869), Interval(1222012276, 1321192605, 444516565), Interval(1321192605, 1350997453, 1677564269), Interval(1350997453, 1434420334, 1594141388), Interval(1434420334, 1440072796, 1588488926), Interval(1440072796, 1464733080, 1484584575), Interval(1464733080, 1848557004, 543696894), Interval(1848557004, 1986188257), Interval(1986188257, 2263759130, 3948206286), Interval(2263759130, 2332949267, 4225777159), Interval(2332949267, 2336743687, 2306084256), Interval(2336743687, 2727079969, 2309878676), Interval(2727079969, 2743391193, 3696170814), Interval(2743391193, 3107186764, 2700214958), Interval(3107186764, 3306332300, 2106938720), Interval(3306332300, 3755448991, 3079951473), Interval(3755448991, 3771389935, 3064010529), Interval(3771389935, 3824426815, 3895169406), Interval(3824426815, 3864046001, 3855550220), Interval(3864046001, 3933008893, 3786587328), Interval(3933008893, 4053759356, 1986188257), Interval(4053759356, 4220862006, 3529068164), Interval(4220862006, 4294967296, 3712482038), Interval(4294967296, inf)]), IntervalTree([Interval(0, 25428313, 3448524168), Interval(25428313, 39069388, 0), Interval(39069388, 46959293, 2299879115), Interval(46959293, 108629584, 2238208824), Interval(108629584, 504392888, 1842445520), Interval(504392888, 605867298, 514481680), Interval(605867298, 1832356728, 615956090), Interval(1832356728, 2304758339, 13641075), Interval(2304758339, 3445513487, 2307769020), Interval(3445513487, 3473952481, 486042686), Interval(3473952481, inf)]), IntervalTree([Interval(0, 165264074, 3152462764), Interval(165264074, 280089677, 2950498004), Interval(280089677, 300741866, 1017772128), Interval(300741866, 447584401, 2132052210), Interval(447584401, 475330775, 988189854), Interval(475330775, 484540454, 4039054766), Interval(484540454, 676201364, 3339583570), Interval(676201364, 1057194484, 497536930), Interval(1057194484, 1072550929, 359006113), Interval(1072550929, 1094407661, 3317726838), Interval(1094407661, 1254863909, 97125596), Interval(1254863909, 1258985882, 3065323607), Interval(1258985882, 1260821782, 1015936228), Interval(1260821782, 1279660741, 478697971), Interval(1279660741, 1376786337, 0), Interval(1376786337, 1636971609, 1038424317), Interval(1636971609, 1741307022, 374362558), Interval(1741307022, 2010420436, 1862938796), Interval(2010420436, 2233897971, 1318826171), Interval(2233897971, 2905501230, 2278894745), Interval(2905501230, 3147213622, 1542303706), Interval(3147213622, 3655023908, 3531244480), Interval(3655023908, 3738041092, 3069445580), Interval(3738041092, 3816963790, 1784016098), Interval(3816963790, 3918388059, 257581844), Interval(3918388059, 3938604641, 1298609589), Interval(3938604641, 4048264445, 878530050), Interval(4048264445, inf)]), IntervalTree([Interval(0, 130668965), Interval(130668965, 489007811, 695239418), Interval(489007811, 672215498, 2827696039), Interval(672215498, 948848843, 2303677395), Interval(948848843, 1917264287, 3010903726), Interval(1917264287, 2232912413, 3979319170), Interval(2232912413, 2416088226, 1297125534), Interval(2416088226, 2663473525, 2580310740), Interval(2663473525, 3228043978, 130668965), Interval(3228043978, 3744628626, 1787092747), Interval(3744628626, 4051420026, 1480301347), Interval(4051420026, 4294967296, 1053578264), Interval(4294967296, inf)]), IntervalTree([Interval(0, 320533964, 1983529997), Interval(320533964, 822932241, 605870242), Interval(822932241, 1428802483, 0), Interval(1428802483, 1920476611, 1108268519), Interval(1920476611, 2304063961, 1599942647), Interval(2304063961, 2423686895), Interval(2423686895, 2695571092, 2622681861), Interval(2695571092, 2737499302, 3184295196), Interval(2737499302, 2864370860, 2495810303), Interval(2864370860, 2936494268, 2423686895), Interval(2936494268, 3267347843, 3226223406), Interval(3267347843, 3871737509, 3557076981), Interval(3871737509, 4005238158, 4161466647), Interval(4005238158, 4294967296, 2894566058), Interval(4294967296, inf)]), IntervalTree([Interval(0, 975015905), Interval(975015905, 1356290883, 2564353322), Interval(1356290883, 1864953738, 975015905), Interval(1864953738, 2199332680, 2945628300), Interval(2199332680, 2222607984, 3443998409), Interval(2222607984, 2386599151, 3280007242), Interval(2386599151, 2498980024, 4182586423), Interval(2498980024, 3579654586, 1483678760), Interval(3579654586, 4294967296, 3467273713), Interval(4294967296, inf)])]\n"
     ]
    }
   ],
   "source": [
    "def create_map(lines):\n",
    "    name = lines[0].split(' ')[0]\n",
    "    ranges = IntervalTree([Interval(0, math.inf)])\n",
    "    for i, line in enumerate(lines[1:]):\n",
    "        if not line:\n",
    "            break\n",
    "        dest, source, size = map(int, line.split())\n",
    "        ranges.chop(source, source+size)\n",
    "        ranges[source:source+size] = dest\n",
    "    return name, ranges, lines[i+2:]\n",
    "\n",
    "def day5_maps(data):\n",
    "    seeds, data = map(int, data[0].split(': ')[-1].split()), data[2:]\n",
    " \n",
    "    maps = []\n",
    "    while len(data):\n",
    "        name, intervals, data = create_map(data)\n",
    "        maps.append(intervals)\n",
    "    print(maps)\n",
    "\n",
    "    return list(seeds), maps\n",
    "\n",
    "seeds, data5 = day5_maps(data(5))\n"
   ]
  },
  {
   "cell_type": "code",
   "execution_count": 179,
   "metadata": {},
   "outputs": [
    {
     "name": "stdout",
     "output_type": "stream",
     "text": [
      "35\n"
     ]
    }
   ],
   "source": [
    "lowest = math.inf\n",
    "for seed in seeds:\n",
    "    # print(seed)\n",
    "    for interval in data5:\n",
    "        start, end, dest = next(iter(interval.at(seed)))\n",
    "        # print(start, end, dest, seed)\n",
    "        seed = seed if dest is None else (seed-start)+dest\n",
    "    lowest = min(lowest, seed)\n",
    "print(lowest)"
   ]
  },
  {
   "cell_type": "code",
   "execution_count": 223,
   "metadata": {},
   "outputs": [
    {
     "name": "stdout",
     "output_type": "stream",
     "text": [
      "IntervalTree([Interval(79, 93)])\n",
      "IntervalTree([Interval(46, 57), Interval(60, 61)])\n",
      "60 inf\n",
      "46 60\n",
      "IntervalTree([Interval(55, 68)])\n",
      "IntervalTree([Interval(86, 90)])\n",
      "86 46\n",
      "46\n"
     ]
    }
   ],
   "source": [
    "lowest = math.inf\n",
    "for i in range(len(seeds)//2):\n",
    "    seedrange = IntervalTree([Interval(seeds[i*2], seeds[i*2]+seeds[i*2+1])])\n",
    "    print(seedrange)\n",
    "\n",
    "    for interval in data5:\n",
    "        for seed in seedrange:\n",
    "            seedstart, seedend = seed[0], seed[1]\n",
    "            intersections = interval[seedstart:seedend]\n",
    "            # print(intersections, seed)\n",
    "            newrange = IntervalTree()\n",
    "            for hit in intersections:\n",
    "                start, end, dest = hit\n",
    "                if dest is not None:\n",
    "                    newstart = max(seedstart,start)-start+dest\n",
    "                    newend = min(seedend, end)-start+dest\n",
    "                # print('hit', start, end, seedstart, seedend, newstart,newend)\n",
    "                newrange.addi(newstart, newend)\n",
    "            # print('a', seedrange, 'new', newrange)\n",
    "        newrange.merge_overlaps()\n",
    "        seedrange = newrange\n",
    "    print(seedrange)\n",
    "    for loc in seedrange:\n",
    "        print(loc[0], lowest)\n",
    "        lowest = min(loc[0], lowest)\n",
    "print(lowest)"
   ]
  }
 ],
 "metadata": {
  "kernelspec": {
   "display_name": ".venv",
   "language": "python",
   "name": "python3"
  },
  "language_info": {
   "codemirror_mode": {
    "name": "ipython",
    "version": 3
   },
   "file_extension": ".py",
   "mimetype": "text/x-python",
   "name": "python",
   "nbconvert_exporter": "python",
   "pygments_lexer": "ipython3",
   "version": "3.12.0"
  },
  "orig_nbformat": 4
 },
 "nbformat": 4,
 "nbformat_minor": 2
}
